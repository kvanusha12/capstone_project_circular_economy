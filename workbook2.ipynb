{
 "cells": [
  {
   "cell_type": "markdown",
   "metadata": {},
   "source": [
    "Plastic Packaging Waste Generation"
   ]
  },
  {
   "cell_type": "code",
   "execution_count": 22,
   "metadata": {},
   "outputs": [],
   "source": [
    "df_plastic_packaging_gen = pd.read_csv(\"./Dataset_CE/Generation_plastic_pkg_waste_per_capita.csv\")"
   ]
  },
  {
   "cell_type": "code",
   "execution_count": 29,
   "metadata": {},
   "outputs": [
    {
     "data": {
      "application/vnd.plotly.v1+json": {
       "config": {
        "plotlyServerURL": "https://plot.ly"
       },
       "data": [
        {
         "hovertemplate": "Year=%{x}<br>Plastic Waste Generated (tonnes)=%{y}<extra></extra>",
         "legendgroup": "",
         "line": {
          "color": "green",
          "dash": "solid",
          "width": 3
         },
         "marker": {
          "symbol": "circle"
         },
         "mode": "lines+markers",
         "name": "",
         "orientation": "v",
         "showlegend": false,
         "type": "scatter",
         "x": {
          "bdata": "0AfRB9IH0wfUB9UH1gfXB9gH2QfaB9sH3AfdB94H3wfgB+EH4gfjB+QH5QfmBw==",
          "dtype": "i2"
         },
         "xaxis": "x",
         "y": {
          "bdata": "SOF6FK7HNUAzMzMzM/M2QOF6FK5HITlA16NwPQoXOUAUrkfhelQ7QPYoXI/CtTxA9ihcj8J1P0BSuB6F6xFAQKRwPQrXo0BAAAAAAAAAQEAzMzMzM3NAQArXo3A9SkFAw/UoXI+iQUBxPQrXo9BBQI/C9ShcL0JArkfhehSuQkCPwvUoXM9CQKRwPQrXQ0NApHA9CteDQ0CuR+F6FI5DQHsUrkfh2kNA7FG4HoWLREAfhetRuL5DQA==",
          "dtype": "f8"
         },
         "yaxis": "y"
        }
       ],
       "layout": {
        "hovermode": "x unified",
        "legend": {
         "tracegroupgap": 0
        },
        "template": {
         "data": {
          "bar": [
           {
            "error_x": {
             "color": "#2a3f5f"
            },
            "error_y": {
             "color": "#2a3f5f"
            },
            "marker": {
             "line": {
              "color": "white",
              "width": 0.5
             },
             "pattern": {
              "fillmode": "overlay",
              "size": 10,
              "solidity": 0.2
             }
            },
            "type": "bar"
           }
          ],
          "barpolar": [
           {
            "marker": {
             "line": {
              "color": "white",
              "width": 0.5
             },
             "pattern": {
              "fillmode": "overlay",
              "size": 10,
              "solidity": 0.2
             }
            },
            "type": "barpolar"
           }
          ],
          "carpet": [
           {
            "aaxis": {
             "endlinecolor": "#2a3f5f",
             "gridcolor": "#C8D4E3",
             "linecolor": "#C8D4E3",
             "minorgridcolor": "#C8D4E3",
             "startlinecolor": "#2a3f5f"
            },
            "baxis": {
             "endlinecolor": "#2a3f5f",
             "gridcolor": "#C8D4E3",
             "linecolor": "#C8D4E3",
             "minorgridcolor": "#C8D4E3",
             "startlinecolor": "#2a3f5f"
            },
            "type": "carpet"
           }
          ],
          "choropleth": [
           {
            "colorbar": {
             "outlinewidth": 0,
             "ticks": ""
            },
            "type": "choropleth"
           }
          ],
          "contour": [
           {
            "colorbar": {
             "outlinewidth": 0,
             "ticks": ""
            },
            "colorscale": [
             [
              0,
              "#0d0887"
             ],
             [
              0.1111111111111111,
              "#46039f"
             ],
             [
              0.2222222222222222,
              "#7201a8"
             ],
             [
              0.3333333333333333,
              "#9c179e"
             ],
             [
              0.4444444444444444,
              "#bd3786"
             ],
             [
              0.5555555555555556,
              "#d8576b"
             ],
             [
              0.6666666666666666,
              "#ed7953"
             ],
             [
              0.7777777777777778,
              "#fb9f3a"
             ],
             [
              0.8888888888888888,
              "#fdca26"
             ],
             [
              1,
              "#f0f921"
             ]
            ],
            "type": "contour"
           }
          ],
          "contourcarpet": [
           {
            "colorbar": {
             "outlinewidth": 0,
             "ticks": ""
            },
            "type": "contourcarpet"
           }
          ],
          "heatmap": [
           {
            "colorbar": {
             "outlinewidth": 0,
             "ticks": ""
            },
            "colorscale": [
             [
              0,
              "#0d0887"
             ],
             [
              0.1111111111111111,
              "#46039f"
             ],
             [
              0.2222222222222222,
              "#7201a8"
             ],
             [
              0.3333333333333333,
              "#9c179e"
             ],
             [
              0.4444444444444444,
              "#bd3786"
             ],
             [
              0.5555555555555556,
              "#d8576b"
             ],
             [
              0.6666666666666666,
              "#ed7953"
             ],
             [
              0.7777777777777778,
              "#fb9f3a"
             ],
             [
              0.8888888888888888,
              "#fdca26"
             ],
             [
              1,
              "#f0f921"
             ]
            ],
            "type": "heatmap"
           }
          ],
          "histogram": [
           {
            "marker": {
             "pattern": {
              "fillmode": "overlay",
              "size": 10,
              "solidity": 0.2
             }
            },
            "type": "histogram"
           }
          ],
          "histogram2d": [
           {
            "colorbar": {
             "outlinewidth": 0,
             "ticks": ""
            },
            "colorscale": [
             [
              0,
              "#0d0887"
             ],
             [
              0.1111111111111111,
              "#46039f"
             ],
             [
              0.2222222222222222,
              "#7201a8"
             ],
             [
              0.3333333333333333,
              "#9c179e"
             ],
             [
              0.4444444444444444,
              "#bd3786"
             ],
             [
              0.5555555555555556,
              "#d8576b"
             ],
             [
              0.6666666666666666,
              "#ed7953"
             ],
             [
              0.7777777777777778,
              "#fb9f3a"
             ],
             [
              0.8888888888888888,
              "#fdca26"
             ],
             [
              1,
              "#f0f921"
             ]
            ],
            "type": "histogram2d"
           }
          ],
          "histogram2dcontour": [
           {
            "colorbar": {
             "outlinewidth": 0,
             "ticks": ""
            },
            "colorscale": [
             [
              0,
              "#0d0887"
             ],
             [
              0.1111111111111111,
              "#46039f"
             ],
             [
              0.2222222222222222,
              "#7201a8"
             ],
             [
              0.3333333333333333,
              "#9c179e"
             ],
             [
              0.4444444444444444,
              "#bd3786"
             ],
             [
              0.5555555555555556,
              "#d8576b"
             ],
             [
              0.6666666666666666,
              "#ed7953"
             ],
             [
              0.7777777777777778,
              "#fb9f3a"
             ],
             [
              0.8888888888888888,
              "#fdca26"
             ],
             [
              1,
              "#f0f921"
             ]
            ],
            "type": "histogram2dcontour"
           }
          ],
          "mesh3d": [
           {
            "colorbar": {
             "outlinewidth": 0,
             "ticks": ""
            },
            "type": "mesh3d"
           }
          ],
          "parcoords": [
           {
            "line": {
             "colorbar": {
              "outlinewidth": 0,
              "ticks": ""
             }
            },
            "type": "parcoords"
           }
          ],
          "pie": [
           {
            "automargin": true,
            "type": "pie"
           }
          ],
          "scatter": [
           {
            "fillpattern": {
             "fillmode": "overlay",
             "size": 10,
             "solidity": 0.2
            },
            "type": "scatter"
           }
          ],
          "scatter3d": [
           {
            "line": {
             "colorbar": {
              "outlinewidth": 0,
              "ticks": ""
             }
            },
            "marker": {
             "colorbar": {
              "outlinewidth": 0,
              "ticks": ""
             }
            },
            "type": "scatter3d"
           }
          ],
          "scattercarpet": [
           {
            "marker": {
             "colorbar": {
              "outlinewidth": 0,
              "ticks": ""
             }
            },
            "type": "scattercarpet"
           }
          ],
          "scattergeo": [
           {
            "marker": {
             "colorbar": {
              "outlinewidth": 0,
              "ticks": ""
             }
            },
            "type": "scattergeo"
           }
          ],
          "scattergl": [
           {
            "marker": {
             "colorbar": {
              "outlinewidth": 0,
              "ticks": ""
             }
            },
            "type": "scattergl"
           }
          ],
          "scattermap": [
           {
            "marker": {
             "colorbar": {
              "outlinewidth": 0,
              "ticks": ""
             }
            },
            "type": "scattermap"
           }
          ],
          "scattermapbox": [
           {
            "marker": {
             "colorbar": {
              "outlinewidth": 0,
              "ticks": ""
             }
            },
            "type": "scattermapbox"
           }
          ],
          "scatterpolar": [
           {
            "marker": {
             "colorbar": {
              "outlinewidth": 0,
              "ticks": ""
             }
            },
            "type": "scatterpolar"
           }
          ],
          "scatterpolargl": [
           {
            "marker": {
             "colorbar": {
              "outlinewidth": 0,
              "ticks": ""
             }
            },
            "type": "scatterpolargl"
           }
          ],
          "scatterternary": [
           {
            "marker": {
             "colorbar": {
              "outlinewidth": 0,
              "ticks": ""
             }
            },
            "type": "scatterternary"
           }
          ],
          "surface": [
           {
            "colorbar": {
             "outlinewidth": 0,
             "ticks": ""
            },
            "colorscale": [
             [
              0,
              "#0d0887"
             ],
             [
              0.1111111111111111,
              "#46039f"
             ],
             [
              0.2222222222222222,
              "#7201a8"
             ],
             [
              0.3333333333333333,
              "#9c179e"
             ],
             [
              0.4444444444444444,
              "#bd3786"
             ],
             [
              0.5555555555555556,
              "#d8576b"
             ],
             [
              0.6666666666666666,
              "#ed7953"
             ],
             [
              0.7777777777777778,
              "#fb9f3a"
             ],
             [
              0.8888888888888888,
              "#fdca26"
             ],
             [
              1,
              "#f0f921"
             ]
            ],
            "type": "surface"
           }
          ],
          "table": [
           {
            "cells": {
             "fill": {
              "color": "#EBF0F8"
             },
             "line": {
              "color": "white"
             }
            },
            "header": {
             "fill": {
              "color": "#C8D4E3"
             },
             "line": {
              "color": "white"
             }
            },
            "type": "table"
           }
          ]
         },
         "layout": {
          "annotationdefaults": {
           "arrowcolor": "#2a3f5f",
           "arrowhead": 0,
           "arrowwidth": 1
          },
          "autotypenumbers": "strict",
          "coloraxis": {
           "colorbar": {
            "outlinewidth": 0,
            "ticks": ""
           }
          },
          "colorscale": {
           "diverging": [
            [
             0,
             "#8e0152"
            ],
            [
             0.1,
             "#c51b7d"
            ],
            [
             0.2,
             "#de77ae"
            ],
            [
             0.3,
             "#f1b6da"
            ],
            [
             0.4,
             "#fde0ef"
            ],
            [
             0.5,
             "#f7f7f7"
            ],
            [
             0.6,
             "#e6f5d0"
            ],
            [
             0.7,
             "#b8e186"
            ],
            [
             0.8,
             "#7fbc41"
            ],
            [
             0.9,
             "#4d9221"
            ],
            [
             1,
             "#276419"
            ]
           ],
           "sequential": [
            [
             0,
             "#0d0887"
            ],
            [
             0.1111111111111111,
             "#46039f"
            ],
            [
             0.2222222222222222,
             "#7201a8"
            ],
            [
             0.3333333333333333,
             "#9c179e"
            ],
            [
             0.4444444444444444,
             "#bd3786"
            ],
            [
             0.5555555555555556,
             "#d8576b"
            ],
            [
             0.6666666666666666,
             "#ed7953"
            ],
            [
             0.7777777777777778,
             "#fb9f3a"
            ],
            [
             0.8888888888888888,
             "#fdca26"
            ],
            [
             1,
             "#f0f921"
            ]
           ],
           "sequentialminus": [
            [
             0,
             "#0d0887"
            ],
            [
             0.1111111111111111,
             "#46039f"
            ],
            [
             0.2222222222222222,
             "#7201a8"
            ],
            [
             0.3333333333333333,
             "#9c179e"
            ],
            [
             0.4444444444444444,
             "#bd3786"
            ],
            [
             0.5555555555555556,
             "#d8576b"
            ],
            [
             0.6666666666666666,
             "#ed7953"
            ],
            [
             0.7777777777777778,
             "#fb9f3a"
            ],
            [
             0.8888888888888888,
             "#fdca26"
            ],
            [
             1,
             "#f0f921"
            ]
           ]
          },
          "colorway": [
           "#636efa",
           "#EF553B",
           "#00cc96",
           "#ab63fa",
           "#FFA15A",
           "#19d3f3",
           "#FF6692",
           "#B6E880",
           "#FF97FF",
           "#FECB52"
          ],
          "font": {
           "color": "#2a3f5f"
          },
          "geo": {
           "bgcolor": "white",
           "lakecolor": "white",
           "landcolor": "white",
           "showlakes": true,
           "showland": true,
           "subunitcolor": "#C8D4E3"
          },
          "hoverlabel": {
           "align": "left"
          },
          "hovermode": "closest",
          "mapbox": {
           "style": "light"
          },
          "paper_bgcolor": "white",
          "plot_bgcolor": "white",
          "polar": {
           "angularaxis": {
            "gridcolor": "#EBF0F8",
            "linecolor": "#EBF0F8",
            "ticks": ""
           },
           "bgcolor": "white",
           "radialaxis": {
            "gridcolor": "#EBF0F8",
            "linecolor": "#EBF0F8",
            "ticks": ""
           }
          },
          "scene": {
           "xaxis": {
            "backgroundcolor": "white",
            "gridcolor": "#DFE8F3",
            "gridwidth": 2,
            "linecolor": "#EBF0F8",
            "showbackground": true,
            "ticks": "",
            "zerolinecolor": "#EBF0F8"
           },
           "yaxis": {
            "backgroundcolor": "white",
            "gridcolor": "#DFE8F3",
            "gridwidth": 2,
            "linecolor": "#EBF0F8",
            "showbackground": true,
            "ticks": "",
            "zerolinecolor": "#EBF0F8"
           },
           "zaxis": {
            "backgroundcolor": "white",
            "gridcolor": "#DFE8F3",
            "gridwidth": 2,
            "linecolor": "#EBF0F8",
            "showbackground": true,
            "ticks": "",
            "zerolinecolor": "#EBF0F8"
           }
          },
          "shapedefaults": {
           "line": {
            "color": "#2a3f5f"
           }
          },
          "ternary": {
           "aaxis": {
            "gridcolor": "#DFE8F3",
            "linecolor": "#A2B1C6",
            "ticks": ""
           },
           "baxis": {
            "gridcolor": "#DFE8F3",
            "linecolor": "#A2B1C6",
            "ticks": ""
           },
           "bgcolor": "white",
           "caxis": {
            "gridcolor": "#DFE8F3",
            "linecolor": "#A2B1C6",
            "ticks": ""
           }
          },
          "title": {
           "x": 0.05
          },
          "xaxis": {
           "automargin": true,
           "gridcolor": "#EBF0F8",
           "linecolor": "#EBF0F8",
           "ticks": "",
           "title": {
            "standoff": 15
           },
           "zerolinecolor": "#EBF0F8",
           "zerolinewidth": 2
          },
          "yaxis": {
           "automargin": true,
           "gridcolor": "#EBF0F8",
           "linecolor": "#EBF0F8",
           "ticks": "",
           "title": {
            "standoff": 15
           },
           "zerolinecolor": "#EBF0F8",
           "zerolinewidth": 2
          }
         }
        },
        "title": {
         "text": "Germany Plastic Waste Generation Over the Years"
        },
        "xaxis": {
         "anchor": "y",
         "domain": [
          0,
          1
         ],
         "title": {
          "text": "Year"
         }
        },
        "yaxis": {
         "anchor": "x",
         "domain": [
          0,
          1
         ],
         "title": {
          "text": "Plastic Waste Generated (tonnes)"
         }
        }
       }
      }
     },
     "metadata": {},
     "output_type": "display_data"
    }
   ],
   "source": [
    "import pandas as pd\n",
    "import plotly.express as px\n",
    "\n",
    "# Filter only Germany\n",
    "df_plastic_pkg_germany = df_plastic_packaging_gen[df_plastic_packaging_gen['geo'] == 'DE'].copy()\n",
    "\n",
    "# Ensure correct data types\n",
    "df_plastic_pkg_germany['TIME_PERIOD'] = pd.to_numeric(df_plastic_pkg_germany['TIME_PERIOD'], errors='coerce')\n",
    "df_plastic_pkg_germany['OBS_VALUE'] = pd.to_numeric(df_plastic_pkg_germany['OBS_VALUE'], errors='coerce')\n",
    "\n",
    "# Drop missing values\n",
    "df_plastic_pkg_germany.dropna(subset=['TIME_PERIOD', 'OBS_VALUE'], inplace=True)\n",
    "\n",
    "# Sort by year (just in case)\n",
    "df_plastic_pkg_germany.sort_values(by='TIME_PERIOD', inplace=True)\n",
    "\n",
    "# Plot interactive line chart\n",
    "fig = px.line(\n",
    "    df_plastic_pkg_germany,\n",
    "    x='TIME_PERIOD',\n",
    "    y='OBS_VALUE',\n",
    "    markers=True,\n",
    "    title='Germany Plastic Waste Generation Over the Years',\n",
    "    labels={\n",
    "        'TIME_PERIOD': 'Year',\n",
    "        'OBS_VALUE': 'Plastic Waste Generated (tonnes)'\n",
    "    },\n",
    "    template='plotly_white'\n",
    ")\n",
    "\n",
    "fig.update_traces(line=dict(color='green', width=3))\n",
    "fig.update_layout(\n",
    "    yaxis_title='Plastic Waste Generated (tonnes)',\n",
    "    xaxis_title='Year',\n",
    "    hovermode='x unified'\n",
    ")\n",
    "\n",
    "fig.show()\n"
   ]
  },
  {
   "cell_type": "code",
   "execution_count": 73,
   "metadata": {},
   "outputs": [
    {
     "data": {
      "text/plain": [
       "Index(['STRUCTURE', 'STRUCTURE_ID', 'STRUCTURE_NAME', 'freq', 'Time frequency',\n",
       "       'waste', 'Waste categories', 'wst_oper', 'Waste management operations',\n",
       "       'unit', 'Unit of measure', 'geo', 'Geopolitical entity (reporting)',\n",
       "       'TIME_PERIOD', 'Time', 'OBS_VALUE', 'Observation value', 'OBS_FLAG',\n",
       "       'Observation status (Flag) V2 structure', 'CONF_STATUS',\n",
       "       'Confidentiality status (flag)'],\n",
       "      dtype='object')"
      ]
     },
     "execution_count": 73,
     "metadata": {},
     "output_type": "execute_result"
    }
   ],
   "source": [
    "df_plastic_packaging_gen.columns\n"
   ]
  },
  {
   "cell_type": "code",
   "execution_count": 37,
   "metadata": {},
   "outputs": [
    {
     "data": {
      "application/vnd.plotly.v1+json": {
       "config": {
        "plotlyServerURL": "https://plot.ly"
       },
       "data": [
        {
         "line": {
          "color": "red",
          "width": 3
         },
         "marker": {
          "size": 6
         },
         "mode": "lines+markers",
         "name": "Ireland",
         "type": "scatter",
         "x": {
          "bdata": "3QfeB98H4AfhB+IH4wfkB+UH5gc=",
          "dtype": "i2"
         },
         "y": {
          "bdata": "MzMzMzMzRkApXI/C9ahNQOF6FK5HAU5AzczMzMzsTEBSuB6F6xFNQDMzMzMz80pASOF6FK4HUECuR+F6FG5OQM3MzMzMPFJACtejcD2KUEA=",
          "dtype": "f8"
         }
        },
        {
         "line": {
          "color": "blue",
          "width": 3
         },
         "marker": {
          "size": 6
         },
         "mode": "lines+markers",
         "name": "Iceland",
         "type": "scatter",
         "x": {
          "bdata": "3QfeB98H4AfhB+IH4wfkB+UH5gc=",
          "dtype": "i2"
         },
         "y": {
          "bdata": "PQrXo3BdRkBSuB6F65FFQD0K16NwfUZAhetRuB4FR0AfhetRuF5HQGZmZmZmxkdA4XoUrkdBSED2KFyPwrVDQGZmZmZmRkZAexSuR+E6SUA=",
          "dtype": "f8"
         }
        },
        {
         "line": {
          "color": "green",
          "width": 3
         },
         "marker": {
          "size": 6
         },
         "mode": "lines+markers",
         "name": "Estonia",
         "type": "scatter",
         "x": {
          "bdata": "3QfeB98H4AfhB+IH4wfkB+UH5gc=",
          "dtype": "i2"
         },
         "y": {
          "bdata": "SOF6FK6HSED2KFyPwhVJQFyPwvUoPEdAzczMzMyMSECamZmZmflIQDMzMzMz80RASOF6FK6nRUApXI/C9ShEQHE9Ctej0EJACtejcD3qQEA=",
          "dtype": "f8"
         }
        },
        {
         "line": {
          "color": "lightgrey",
          "width": 1.5
         },
         "mode": "lines",
         "name": "Luxembourg",
         "showlegend": true,
         "type": "scatter",
         "x": {
          "bdata": "3QfeB98H4AfhB+IH4wfkB+UH5gc=",
          "dtype": "i2"
         },
         "y": {
          "bdata": "zczMzMwMSUDD9ShcjwJJQHE9CtejcEdAUrgehesRR0BSuB6F6zFHQK5H4XoUTkVAZmZmZmYmRUAK16NwPYpDQGZmZmZm5kFAuB6F61F4QUA=",
          "dtype": "f8"
         }
        },
        {
         "line": {
          "color": "lightgrey",
          "width": 1.5
         },
         "mode": "lines",
         "name": "Norway",
         "showlegend": true,
         "type": "scatter",
         "x": {
          "bdata": "3QfeB98H4AfhB+IH4wfkB+UH5gc=",
          "dtype": "i2"
         },
         "y": {
          "bdata": "hetRuB7lQEAzMzMzMxNAQD0K16NwvUFAMzMzMzNzQkBI4XoUrudEQB+F61G43kRArkfhehRuRkCPwvUoXA9HQMP1KFyPwkdA4XoUrkfhRkA=",
          "dtype": "f8"
         }
        },
        {
         "line": {
          "color": "lightgrey",
          "width": 1.5
         },
         "mode": "lines",
         "name": "Portugal",
         "showlegend": true,
         "type": "scatter",
         "x": {
          "bdata": "3QfeB98H4AfhB+IH4wfkB+UH5gc=",
          "dtype": "i2"
         },
         "y": {
          "bdata": "zczMzMwMQUCkcD0K10NBQI/C9Shcz0FAZmZmZmZGQkB7FK5H4VpDQK5H4XoUDkRAw/UoXI8iREAAAAAAAABEQFK4HoXrkURA9ihcj8KVRUA=",
          "dtype": "f8"
         }
        },
        {
         "line": {
          "color": "lightgrey",
          "width": 1.5
         },
         "mode": "lines",
         "name": "Germany",
         "showlegend": true,
         "type": "scatter",
         "x": {
          "bdata": "3QfeB98H4AfhB+IH4wfkB+UH5gc=",
          "dtype": "i2"
         },
         "y": {
          "bdata": "cT0K16PQQUCPwvUoXC9CQK5H4XoUrkJAj8L1KFzPQkCkcD0K10NDQKRwPQrXg0NArkfhehSOQ0B7FK5H4dpDQOxRuB6Fi0RAH4XrUbi+Q0A=",
          "dtype": "f8"
         }
        },
        {
         "line": {
          "color": "lightgrey",
          "width": 1.5
         },
         "mode": "lines",
         "name": "Italy",
         "showlegend": true,
         "type": "scatter",
         "x": {
          "bdata": "3QfeB98H4AfhB+IH4wfkB+UH5gc=",
          "dtype": "i2"
         },
         "y": {
          "bdata": "j8L1KFzvQEDhehSuR0FBQOxRuB6Fq0FA7FG4HoVrQkCuR+F6FO5CQK5H4XoUDkNAAAAAAABgQ0AUrkfhepRCQDMzMzMzM0NAmpmZmZm5Q0A=",
          "dtype": "f8"
         }
        },
        {
         "line": {
          "color": "lightgrey",
          "width": 1.5
         },
         "mode": "lines",
         "name": "Denmark",
         "showlegend": true,
         "type": "scatter",
         "x": {
          "bdata": "3QfeB98H4AfhB+IH4wfkB+UH5gc=",
          "dtype": "i2"
         },
         "y": {
          "bdata": "zczMzMzsQEBcj8L1KJxAQPYoXI/CVUFAexSuR+G6QkBI4XoUrmdBQHE9CtejcEVAZmZmZmbmQ0DD9Shcj6JDQGZmZmZmJkJACtejcD3qQUA=",
          "dtype": "f8"
         }
        },
        {
         "line": {
          "color": "lightgrey",
          "width": 1.5
         },
         "mode": "lines",
         "name": "Hungary",
         "showlegend": true,
         "type": "scatter",
         "x": {
          "bdata": "3QfeB98H4AfhB+IH4wfkB+UH5gc=",
          "dtype": "i2"
         },
         "y": {
          "bdata": "KVyPwvXoO0DNzMzMzEw6QJqZmZmZmT5AKVyPwvWoP0C4HoXrUThAQOxRuB6Fi0FAZmZmZmamQUDsUbgehetHQJqZmZmZ+UVAUrgehetRRkA=",
          "dtype": "f8"
         }
        }
       ],
       "layout": {
        "hovermode": "x unified",
        "legend": {
         "title": {
          "text": "Country"
         }
        },
        "template": {
         "data": {
          "bar": [
           {
            "error_x": {
             "color": "#2a3f5f"
            },
            "error_y": {
             "color": "#2a3f5f"
            },
            "marker": {
             "line": {
              "color": "white",
              "width": 0.5
             },
             "pattern": {
              "fillmode": "overlay",
              "size": 10,
              "solidity": 0.2
             }
            },
            "type": "bar"
           }
          ],
          "barpolar": [
           {
            "marker": {
             "line": {
              "color": "white",
              "width": 0.5
             },
             "pattern": {
              "fillmode": "overlay",
              "size": 10,
              "solidity": 0.2
             }
            },
            "type": "barpolar"
           }
          ],
          "carpet": [
           {
            "aaxis": {
             "endlinecolor": "#2a3f5f",
             "gridcolor": "#C8D4E3",
             "linecolor": "#C8D4E3",
             "minorgridcolor": "#C8D4E3",
             "startlinecolor": "#2a3f5f"
            },
            "baxis": {
             "endlinecolor": "#2a3f5f",
             "gridcolor": "#C8D4E3",
             "linecolor": "#C8D4E3",
             "minorgridcolor": "#C8D4E3",
             "startlinecolor": "#2a3f5f"
            },
            "type": "carpet"
           }
          ],
          "choropleth": [
           {
            "colorbar": {
             "outlinewidth": 0,
             "ticks": ""
            },
            "type": "choropleth"
           }
          ],
          "contour": [
           {
            "colorbar": {
             "outlinewidth": 0,
             "ticks": ""
            },
            "colorscale": [
             [
              0,
              "#0d0887"
             ],
             [
              0.1111111111111111,
              "#46039f"
             ],
             [
              0.2222222222222222,
              "#7201a8"
             ],
             [
              0.3333333333333333,
              "#9c179e"
             ],
             [
              0.4444444444444444,
              "#bd3786"
             ],
             [
              0.5555555555555556,
              "#d8576b"
             ],
             [
              0.6666666666666666,
              "#ed7953"
             ],
             [
              0.7777777777777778,
              "#fb9f3a"
             ],
             [
              0.8888888888888888,
              "#fdca26"
             ],
             [
              1,
              "#f0f921"
             ]
            ],
            "type": "contour"
           }
          ],
          "contourcarpet": [
           {
            "colorbar": {
             "outlinewidth": 0,
             "ticks": ""
            },
            "type": "contourcarpet"
           }
          ],
          "heatmap": [
           {
            "colorbar": {
             "outlinewidth": 0,
             "ticks": ""
            },
            "colorscale": [
             [
              0,
              "#0d0887"
             ],
             [
              0.1111111111111111,
              "#46039f"
             ],
             [
              0.2222222222222222,
              "#7201a8"
             ],
             [
              0.3333333333333333,
              "#9c179e"
             ],
             [
              0.4444444444444444,
              "#bd3786"
             ],
             [
              0.5555555555555556,
              "#d8576b"
             ],
             [
              0.6666666666666666,
              "#ed7953"
             ],
             [
              0.7777777777777778,
              "#fb9f3a"
             ],
             [
              0.8888888888888888,
              "#fdca26"
             ],
             [
              1,
              "#f0f921"
             ]
            ],
            "type": "heatmap"
           }
          ],
          "histogram": [
           {
            "marker": {
             "pattern": {
              "fillmode": "overlay",
              "size": 10,
              "solidity": 0.2
             }
            },
            "type": "histogram"
           }
          ],
          "histogram2d": [
           {
            "colorbar": {
             "outlinewidth": 0,
             "ticks": ""
            },
            "colorscale": [
             [
              0,
              "#0d0887"
             ],
             [
              0.1111111111111111,
              "#46039f"
             ],
             [
              0.2222222222222222,
              "#7201a8"
             ],
             [
              0.3333333333333333,
              "#9c179e"
             ],
             [
              0.4444444444444444,
              "#bd3786"
             ],
             [
              0.5555555555555556,
              "#d8576b"
             ],
             [
              0.6666666666666666,
              "#ed7953"
             ],
             [
              0.7777777777777778,
              "#fb9f3a"
             ],
             [
              0.8888888888888888,
              "#fdca26"
             ],
             [
              1,
              "#f0f921"
             ]
            ],
            "type": "histogram2d"
           }
          ],
          "histogram2dcontour": [
           {
            "colorbar": {
             "outlinewidth": 0,
             "ticks": ""
            },
            "colorscale": [
             [
              0,
              "#0d0887"
             ],
             [
              0.1111111111111111,
              "#46039f"
             ],
             [
              0.2222222222222222,
              "#7201a8"
             ],
             [
              0.3333333333333333,
              "#9c179e"
             ],
             [
              0.4444444444444444,
              "#bd3786"
             ],
             [
              0.5555555555555556,
              "#d8576b"
             ],
             [
              0.6666666666666666,
              "#ed7953"
             ],
             [
              0.7777777777777778,
              "#fb9f3a"
             ],
             [
              0.8888888888888888,
              "#fdca26"
             ],
             [
              1,
              "#f0f921"
             ]
            ],
            "type": "histogram2dcontour"
           }
          ],
          "mesh3d": [
           {
            "colorbar": {
             "outlinewidth": 0,
             "ticks": ""
            },
            "type": "mesh3d"
           }
          ],
          "parcoords": [
           {
            "line": {
             "colorbar": {
              "outlinewidth": 0,
              "ticks": ""
             }
            },
            "type": "parcoords"
           }
          ],
          "pie": [
           {
            "automargin": true,
            "type": "pie"
           }
          ],
          "scatter": [
           {
            "fillpattern": {
             "fillmode": "overlay",
             "size": 10,
             "solidity": 0.2
            },
            "type": "scatter"
           }
          ],
          "scatter3d": [
           {
            "line": {
             "colorbar": {
              "outlinewidth": 0,
              "ticks": ""
             }
            },
            "marker": {
             "colorbar": {
              "outlinewidth": 0,
              "ticks": ""
             }
            },
            "type": "scatter3d"
           }
          ],
          "scattercarpet": [
           {
            "marker": {
             "colorbar": {
              "outlinewidth": 0,
              "ticks": ""
             }
            },
            "type": "scattercarpet"
           }
          ],
          "scattergeo": [
           {
            "marker": {
             "colorbar": {
              "outlinewidth": 0,
              "ticks": ""
             }
            },
            "type": "scattergeo"
           }
          ],
          "scattergl": [
           {
            "marker": {
             "colorbar": {
              "outlinewidth": 0,
              "ticks": ""
             }
            },
            "type": "scattergl"
           }
          ],
          "scattermap": [
           {
            "marker": {
             "colorbar": {
              "outlinewidth": 0,
              "ticks": ""
             }
            },
            "type": "scattermap"
           }
          ],
          "scattermapbox": [
           {
            "marker": {
             "colorbar": {
              "outlinewidth": 0,
              "ticks": ""
             }
            },
            "type": "scattermapbox"
           }
          ],
          "scatterpolar": [
           {
            "marker": {
             "colorbar": {
              "outlinewidth": 0,
              "ticks": ""
             }
            },
            "type": "scatterpolar"
           }
          ],
          "scatterpolargl": [
           {
            "marker": {
             "colorbar": {
              "outlinewidth": 0,
              "ticks": ""
             }
            },
            "type": "scatterpolargl"
           }
          ],
          "scatterternary": [
           {
            "marker": {
             "colorbar": {
              "outlinewidth": 0,
              "ticks": ""
             }
            },
            "type": "scatterternary"
           }
          ],
          "surface": [
           {
            "colorbar": {
             "outlinewidth": 0,
             "ticks": ""
            },
            "colorscale": [
             [
              0,
              "#0d0887"
             ],
             [
              0.1111111111111111,
              "#46039f"
             ],
             [
              0.2222222222222222,
              "#7201a8"
             ],
             [
              0.3333333333333333,
              "#9c179e"
             ],
             [
              0.4444444444444444,
              "#bd3786"
             ],
             [
              0.5555555555555556,
              "#d8576b"
             ],
             [
              0.6666666666666666,
              "#ed7953"
             ],
             [
              0.7777777777777778,
              "#fb9f3a"
             ],
             [
              0.8888888888888888,
              "#fdca26"
             ],
             [
              1,
              "#f0f921"
             ]
            ],
            "type": "surface"
           }
          ],
          "table": [
           {
            "cells": {
             "fill": {
              "color": "#EBF0F8"
             },
             "line": {
              "color": "white"
             }
            },
            "header": {
             "fill": {
              "color": "#C8D4E3"
             },
             "line": {
              "color": "white"
             }
            },
            "type": "table"
           }
          ]
         },
         "layout": {
          "annotationdefaults": {
           "arrowcolor": "#2a3f5f",
           "arrowhead": 0,
           "arrowwidth": 1
          },
          "autotypenumbers": "strict",
          "coloraxis": {
           "colorbar": {
            "outlinewidth": 0,
            "ticks": ""
           }
          },
          "colorscale": {
           "diverging": [
            [
             0,
             "#8e0152"
            ],
            [
             0.1,
             "#c51b7d"
            ],
            [
             0.2,
             "#de77ae"
            ],
            [
             0.3,
             "#f1b6da"
            ],
            [
             0.4,
             "#fde0ef"
            ],
            [
             0.5,
             "#f7f7f7"
            ],
            [
             0.6,
             "#e6f5d0"
            ],
            [
             0.7,
             "#b8e186"
            ],
            [
             0.8,
             "#7fbc41"
            ],
            [
             0.9,
             "#4d9221"
            ],
            [
             1,
             "#276419"
            ]
           ],
           "sequential": [
            [
             0,
             "#0d0887"
            ],
            [
             0.1111111111111111,
             "#46039f"
            ],
            [
             0.2222222222222222,
             "#7201a8"
            ],
            [
             0.3333333333333333,
             "#9c179e"
            ],
            [
             0.4444444444444444,
             "#bd3786"
            ],
            [
             0.5555555555555556,
             "#d8576b"
            ],
            [
             0.6666666666666666,
             "#ed7953"
            ],
            [
             0.7777777777777778,
             "#fb9f3a"
            ],
            [
             0.8888888888888888,
             "#fdca26"
            ],
            [
             1,
             "#f0f921"
            ]
           ],
           "sequentialminus": [
            [
             0,
             "#0d0887"
            ],
            [
             0.1111111111111111,
             "#46039f"
            ],
            [
             0.2222222222222222,
             "#7201a8"
            ],
            [
             0.3333333333333333,
             "#9c179e"
            ],
            [
             0.4444444444444444,
             "#bd3786"
            ],
            [
             0.5555555555555556,
             "#d8576b"
            ],
            [
             0.6666666666666666,
             "#ed7953"
            ],
            [
             0.7777777777777778,
             "#fb9f3a"
            ],
            [
             0.8888888888888888,
             "#fdca26"
            ],
            [
             1,
             "#f0f921"
            ]
           ]
          },
          "colorway": [
           "#636efa",
           "#EF553B",
           "#00cc96",
           "#ab63fa",
           "#FFA15A",
           "#19d3f3",
           "#FF6692",
           "#B6E880",
           "#FF97FF",
           "#FECB52"
          ],
          "font": {
           "color": "#2a3f5f"
          },
          "geo": {
           "bgcolor": "white",
           "lakecolor": "white",
           "landcolor": "white",
           "showlakes": true,
           "showland": true,
           "subunitcolor": "#C8D4E3"
          },
          "hoverlabel": {
           "align": "left"
          },
          "hovermode": "closest",
          "mapbox": {
           "style": "light"
          },
          "paper_bgcolor": "white",
          "plot_bgcolor": "white",
          "polar": {
           "angularaxis": {
            "gridcolor": "#EBF0F8",
            "linecolor": "#EBF0F8",
            "ticks": ""
           },
           "bgcolor": "white",
           "radialaxis": {
            "gridcolor": "#EBF0F8",
            "linecolor": "#EBF0F8",
            "ticks": ""
           }
          },
          "scene": {
           "xaxis": {
            "backgroundcolor": "white",
            "gridcolor": "#DFE8F3",
            "gridwidth": 2,
            "linecolor": "#EBF0F8",
            "showbackground": true,
            "ticks": "",
            "zerolinecolor": "#EBF0F8"
           },
           "yaxis": {
            "backgroundcolor": "white",
            "gridcolor": "#DFE8F3",
            "gridwidth": 2,
            "linecolor": "#EBF0F8",
            "showbackground": true,
            "ticks": "",
            "zerolinecolor": "#EBF0F8"
           },
           "zaxis": {
            "backgroundcolor": "white",
            "gridcolor": "#DFE8F3",
            "gridwidth": 2,
            "linecolor": "#EBF0F8",
            "showbackground": true,
            "ticks": "",
            "zerolinecolor": "#EBF0F8"
           }
          },
          "shapedefaults": {
           "line": {
            "color": "#2a3f5f"
           }
          },
          "ternary": {
           "aaxis": {
            "gridcolor": "#DFE8F3",
            "linecolor": "#A2B1C6",
            "ticks": ""
           },
           "baxis": {
            "gridcolor": "#DFE8F3",
            "linecolor": "#A2B1C6",
            "ticks": ""
           },
           "bgcolor": "white",
           "caxis": {
            "gridcolor": "#DFE8F3",
            "linecolor": "#A2B1C6",
            "ticks": ""
           }
          },
          "title": {
           "x": 0.05
          },
          "xaxis": {
           "automargin": true,
           "gridcolor": "#EBF0F8",
           "linecolor": "#EBF0F8",
           "ticks": "",
           "title": {
            "standoff": 15
           },
           "zerolinecolor": "#EBF0F8",
           "zerolinewidth": 2
          },
          "yaxis": {
           "automargin": true,
           "gridcolor": "#EBF0F8",
           "linecolor": "#EBF0F8",
           "ticks": "",
           "title": {
            "standoff": 15
           },
           "zerolinecolor": "#EBF0F8",
           "zerolinewidth": 2
          }
         }
        },
        "title": {
         "text": "Top 10 Countries: Plastic Waste Generation (Last 10 Years)"
        },
        "xaxis": {
         "title": {
          "text": "Year"
         }
        },
        "yaxis": {
         "title": {
          "text": "Plastic Waste (Kilograms)"
         }
        }
       }
      }
     },
     "metadata": {},
     "output_type": "display_data"
    }
   ],
   "source": [
    "import pandas as pd\n",
    "import plotly.graph_objects as go\n",
    "\n",
    "# Filter the last 10 years\n",
    "last_10_years = sorted(df_plastic_packaging_gen['TIME_PERIOD'].unique())[-10:]\n",
    "df_recent = df_plastic_packaging_gen[df_plastic_packaging_gen['TIME_PERIOD'].isin(last_10_years)]\n",
    "\n",
    "# Group by country and sum plastic waste over last 10 years\n",
    "country_totals = df_recent.groupby('Geopolitical entity (reporting)')['OBS_VALUE'].sum().sort_values(ascending=False)\n",
    "\n",
    "# Get top 10 countries\n",
    "top10_countries = country_totals.head(10).index.tolist()\n",
    "top3 = top10_countries[:3]\n",
    "rest7 = top10_countries[3:]\n",
    "\n",
    "# Filter data only for top 10 countries\n",
    "df_top10 = df_recent[df_recent['Geopolitical entity (reporting)'].isin(top10_countries)]\n",
    "\n",
    "# Create figure\n",
    "fig = go.Figure()\n",
    "\n",
    "# Add top 3 countries with vibrant colors\n",
    "highlight_colors = ['red', 'blue', 'green']\n",
    "for i, country in enumerate(top3):\n",
    "    df_country = df_top10[df_top10['Geopolitical entity (reporting)'] == country]\n",
    "    fig.add_trace(go.Scatter(\n",
    "        x=df_country['TIME_PERIOD'],\n",
    "        y=df_country['OBS_VALUE'],\n",
    "        mode='lines+markers',\n",
    "        name=country,\n",
    "        line=dict(color=highlight_colors[i], width=3),\n",
    "        marker=dict(size=6)\n",
    "    ))\n",
    "\n",
    "# Add rest of top 10 countries with subtle grey color\n",
    "for country in rest7:\n",
    "    df_country = df_top10[df_top10['Geopolitical entity (reporting)'] == country]\n",
    "    fig.add_trace(go.Scatter(\n",
    "        x=df_country['TIME_PERIOD'],\n",
    "        y=df_country['OBS_VALUE'],\n",
    "        mode='lines',\n",
    "        name=country,\n",
    "        line=dict(color='lightgrey', width=1.5),\n",
    "        showlegend=True\n",
    "    ))\n",
    "\n",
    "# Layout customization\n",
    "fig.update_layout(\n",
    "    title='Top 10 Countries: Plastic Waste Generation (Last 10 Years)',\n",
    "    xaxis_title='Year',\n",
    "    yaxis_title='Plastic Waste (Kilograms)',\n",
    "    template='plotly_white',\n",
    "    legend_title='Country',\n",
    "    hovermode='x unified'\n",
    ")\n",
    "\n",
    "fig.show()\n"
   ]
  },
  {
   "cell_type": "code",
   "execution_count": 74,
   "metadata": {},
   "outputs": [
    {
     "data": {
      "application/vnd.plotly.v1+json": {
       "config": {
        "plotlyServerURL": "https://plot.ly"
       },
       "data": [
        {
         "line": {
          "color": "red",
          "width": 3
         },
         "marker": {
          "size": 6
         },
         "mode": "lines+markers",
         "name": "Ireland",
         "type": "scatter",
         "x": {
          "bdata": "0wfUB9UH1gfXB9gH2QfaB9sH3AfdB94H3wfgB+EH4gfjB+QH5QfmBw==",
          "dtype": "i2"
         },
         "y": {
          "bdata": "cT0K16MQTEAfhetRuP5JQBSuR+F6NEpAAAAAAADgTkCkcD0K1wNLQAAAAAAAoEtAXI/C9Si8SEBSuB6F65FEQDMzMzMzU0FAMzMzMzNTQkAzMzMzMzNGQClcj8L1qE1A4XoUrkcBTkDNzMzMzOxMQFK4HoXrEU1AMzMzMzPzSkBI4XoUrgdQQK5H4XoUbk5AzczMzMw8UkAK16NwPYpQQA==",
          "dtype": "f8"
         }
        },
        {
         "line": {
          "color": "blue",
          "width": 3
         },
         "marker": {
          "size": 6
         },
         "mode": "lines+markers",
         "name": "Luxembourg",
         "type": "scatter",
         "x": {
          "bdata": "0wfUB9UH1gfXB9gH2QfaB9sH3AfdB94H3wfgB+EH4gfjB+QH5QfmBw==",
          "dtype": "i2"
         },
         "y": {
          "bdata": "AAAAAADAQ0C4HoXrURhIQNejcD0K90dAcT0K16NwR0AK16NwPUpKQFyPwvUoPEZASOF6FK7HREB7FK5H4fpFQPYoXI/C9UZAPQrXo3DdRkDNzMzMzAxJQMP1KFyPAklAcT0K16NwR0BSuB6F6xFHQFK4HoXrMUdArkfhehRORUBmZmZmZiZFQArXo3A9ikNAZmZmZmbmQUC4HoXrUXhBQA==",
          "dtype": "f8"
         }
        },
        {
         "line": {
          "color": "green",
          "width": 3
         },
         "marker": {
          "size": 6
         },
         "mode": "lines+markers",
         "name": "Estonia",
         "type": "scatter",
         "x": {
          "bdata": "1AfVB9YH1wfYB9kH2gfbB9wH3QfeB98H4AfhB+IH4wfkB+UH5gc=",
          "dtype": "i2"
         },
         "y": {
          "bdata": "w/UoXI9CNUAK16NwPUo3QJqZmZmZ2TpAmpmZmZnZO0Bcj8L1KNxKQPYoXI/CtUNAXI/C9SgcQ0DXo3A9CpdDQD0K16Nw/UFASOF6FK6HSED2KFyPwhVJQFyPwvUoPEdAzczMzMyMSECamZmZmflIQDMzMzMz80RASOF6FK6nRUApXI/C9ShEQHE9Ctej0EJACtejcD3qQEA=",
          "dtype": "f8"
         }
        },
        {
         "line": {
          "color": "orange",
          "width": 3
         },
         "marker": {
          "size": 6
         },
         "mode": "lines+markers",
         "name": "Italy",
         "type": "scatter",
         "x": {
          "bdata": "0wfUB9UH1gfXB9gH2QfaB9sH3AfdB94H3wfgB+EH4gfjB+QH5QfmBw==",
          "dtype": "i2"
         },
         "y": {
          "bdata": "7FG4HoVrQUDD9Shcj8JBQOxRuB6FC0JAexSuR+HaQkBxPQrXo1BDQB+F61G4nkJAcT0K16OQQUCPwvUoXE9BQClcj8L1SEFA7FG4HoULQUCPwvUoXO9AQOF6FK5HQUFA7FG4HoWrQUDsUbgehWtCQK5H4XoU7kJArkfhehQOQ0AAAAAAAGBDQBSuR+F6lEJAMzMzMzMzQ0CamZmZmblDQA==",
          "dtype": "f8"
         }
        },
        {
         "line": {
          "color": "purple",
          "width": 3
         },
         "marker": {
          "size": 6
         },
         "mode": "lines+markers",
         "name": "Portugal",
         "type": "scatter",
         "x": {
          "bdata": "0wfUB9UH1gfXB9gH2QfaB9sH3AfdB94H3wfgB+EH4gfjB+QH5QfmBw==",
          "dtype": "i2"
         },
         "y": {
          "bdata": "zczMzMyMP0CuR+F6FG5AQK5H4XoU7kBArkfhehTuQUBSuB6F6/FBQB+F61G4XkJAw/UoXI/iQUBSuB6F6xFBQOF6FK5H4UBA4XoUrkehQEDNzMzMzAxBQKRwPQrXQ0FAj8L1KFzPQUBmZmZmZkZCQHsUrkfhWkNArkfhehQOREDD9ShcjyJEQAAAAAAAAERAUrgeheuRRED2KFyPwpVFQA==",
          "dtype": "f8"
         }
        },
        {
         "line": {
          "color": "lightgrey",
          "width": 1.5
         },
         "mode": "lines",
         "name": "Germany",
         "showlegend": true,
         "type": "scatter",
         "x": {
          "bdata": "0wfUB9UH1gfXB9gH2QfaB9sH3AfdB94H3wfgB+EH4gfjB+QH5QfmBw==",
          "dtype": "i2"
         },
         "y": {
          "bdata": "16NwPQoXOUAUrkfhelQ7QPYoXI/CtTxA9ihcj8J1P0BSuB6F6xFAQKRwPQrXo0BAAAAAAAAAQEAzMzMzM3NAQArXo3A9SkFAw/UoXI+iQUBxPQrXo9BBQI/C9ShcL0JArkfhehSuQkCPwvUoXM9CQKRwPQrXQ0NApHA9CteDQ0CuR+F6FI5DQHsUrkfh2kNA7FG4HoWLREAfhetRuL5DQA==",
          "dtype": "f8"
         }
        },
        {
         "line": {
          "color": "lightgrey",
          "width": 1.5
         },
         "mode": "lines",
         "name": "Denmark",
         "showlegend": true,
         "type": "scatter",
         "x": {
          "bdata": "0wfUB9UH1gfXB9gH2QfaB9sH3AfdB94H3wfgB+EH4gfjB+QH5QfmBw==",
          "dtype": "i2"
         },
         "y": {
          "bdata": "9ihcj8K1PEAAAAAAACBAQD0K16Nw3UBA7FG4HoWLQUCPwvUoXI9BQMP1KFyPAj5A9ihcj8L1PUBSuB6F69E9QGZmZmZm5kBAzczMzMxsQEDNzMzMzOxAQFyPwvUonEBA9ihcj8JVQUB7FK5H4bpCQEjhehSuZ0FAcT0K16NwRUBmZmZmZuZDQMP1KFyPokNAZmZmZmYmQkAK16NwPepBQA==",
          "dtype": "f8"
         }
        },
        {
         "line": {
          "color": "lightgrey",
          "width": 1.5
         },
         "mode": "lines",
         "name": "Spain",
         "showlegend": true,
         "type": "scatter",
         "x": {
          "bdata": "0wfUB9UH1gfXB9gH2QfaB9sH3AfdB94H3wfgB+EH4gfjB+QH5QfmBw==",
          "dtype": "i2"
         },
         "y": {
          "bdata": "rkfhehSuQEDsUbgehQtBQK5H4XoU7kFAcT0K16MwQkCPwvUoXI9CQB+F61G4PkFAH4XrUbgeP0DD9ShcjwI+QD0K16Nw/TxApHA9CtfjO0DD9ShcjwI8QEjhehSuhz5AhetRuB7FP0DNzMzMzGxAQGZmZmZmRkFAcT0K16OwQUDhehSuR+FBQAAAAAAAAEJAcT0K16NQQ0DXo3A9CrdEQA==",
          "dtype": "f8"
         }
        },
        {
         "line": {
          "color": "lightgrey",
          "width": 1.5
         },
         "mode": "lines",
         "name": "France",
         "showlegend": true,
         "type": "scatter",
         "x": {
          "bdata": "0wfUB9UH1gfXB9gH2QfaB9sH3AfdB94H3wfgB+EH4gfjB+QH5QfmBw==",
          "dtype": "i2"
         },
         "y": {
          "bdata": "rkfhehRuP0ApXI/C9ag/QFyPwvUo3D9ApHA9CtdDQECPwvUoXI9AQKRwPQrX4z9AmpmZmZkZPUDhehSuR+E+QDMzMzMzMz9ASOF6FK6HPkDXo3A9Chc+QJqZmZmZGT9ASOF6FK4HQEAzMzMzM1NAQGZmZmZmZkFA7FG4HoWLQUBcj8L1KLxBQPYoXI/C1UFAAAAAAABgQkAAAAAAAOBBQA==",
          "dtype": "f8"
         }
        },
        {
         "line": {
          "color": "lightgrey",
          "width": 1.5
         },
         "mode": "lines",
         "name": "Austria",
         "showlegend": true,
         "type": "scatter",
         "x": {
          "bdata": "0wfUB9UH1gfXB9gH2QfaB9sH3AfdB94H3wfgB+EH4gfjB+QH5QfmBw==",
          "dtype": "i2"
         },
         "y": {
          "bdata": "cT0K16OwOkDNzMzMzIw7QJqZmZmZWTtAzczMzMzMPEA9CtejcH09QHsUrkfhOj5AKVyPwvWoPkDhehSuR6E/QHsUrkfhej9AH4XrUbgeQEBmZmZmZgZBQBSuR+F6FEFAj8L1KFwPQUDsUbgehQtBQK5H4XoULkFAFK5H4XoUQUBI4XoUrqdAQGZmZmZmxkBA9ihcj8LVQED2KFyPwpVAQA==",
          "dtype": "f8"
         }
        }
       ],
       "layout": {
        "hovermode": "x unified",
        "legend": {
         "title": {
          "text": "Country"
         }
        },
        "template": {
         "data": {
          "bar": [
           {
            "error_x": {
             "color": "#2a3f5f"
            },
            "error_y": {
             "color": "#2a3f5f"
            },
            "marker": {
             "line": {
              "color": "white",
              "width": 0.5
             },
             "pattern": {
              "fillmode": "overlay",
              "size": 10,
              "solidity": 0.2
             }
            },
            "type": "bar"
           }
          ],
          "barpolar": [
           {
            "marker": {
             "line": {
              "color": "white",
              "width": 0.5
             },
             "pattern": {
              "fillmode": "overlay",
              "size": 10,
              "solidity": 0.2
             }
            },
            "type": "barpolar"
           }
          ],
          "carpet": [
           {
            "aaxis": {
             "endlinecolor": "#2a3f5f",
             "gridcolor": "#C8D4E3",
             "linecolor": "#C8D4E3",
             "minorgridcolor": "#C8D4E3",
             "startlinecolor": "#2a3f5f"
            },
            "baxis": {
             "endlinecolor": "#2a3f5f",
             "gridcolor": "#C8D4E3",
             "linecolor": "#C8D4E3",
             "minorgridcolor": "#C8D4E3",
             "startlinecolor": "#2a3f5f"
            },
            "type": "carpet"
           }
          ],
          "choropleth": [
           {
            "colorbar": {
             "outlinewidth": 0,
             "ticks": ""
            },
            "type": "choropleth"
           }
          ],
          "contour": [
           {
            "colorbar": {
             "outlinewidth": 0,
             "ticks": ""
            },
            "colorscale": [
             [
              0,
              "#0d0887"
             ],
             [
              0.1111111111111111,
              "#46039f"
             ],
             [
              0.2222222222222222,
              "#7201a8"
             ],
             [
              0.3333333333333333,
              "#9c179e"
             ],
             [
              0.4444444444444444,
              "#bd3786"
             ],
             [
              0.5555555555555556,
              "#d8576b"
             ],
             [
              0.6666666666666666,
              "#ed7953"
             ],
             [
              0.7777777777777778,
              "#fb9f3a"
             ],
             [
              0.8888888888888888,
              "#fdca26"
             ],
             [
              1,
              "#f0f921"
             ]
            ],
            "type": "contour"
           }
          ],
          "contourcarpet": [
           {
            "colorbar": {
             "outlinewidth": 0,
             "ticks": ""
            },
            "type": "contourcarpet"
           }
          ],
          "heatmap": [
           {
            "colorbar": {
             "outlinewidth": 0,
             "ticks": ""
            },
            "colorscale": [
             [
              0,
              "#0d0887"
             ],
             [
              0.1111111111111111,
              "#46039f"
             ],
             [
              0.2222222222222222,
              "#7201a8"
             ],
             [
              0.3333333333333333,
              "#9c179e"
             ],
             [
              0.4444444444444444,
              "#bd3786"
             ],
             [
              0.5555555555555556,
              "#d8576b"
             ],
             [
              0.6666666666666666,
              "#ed7953"
             ],
             [
              0.7777777777777778,
              "#fb9f3a"
             ],
             [
              0.8888888888888888,
              "#fdca26"
             ],
             [
              1,
              "#f0f921"
             ]
            ],
            "type": "heatmap"
           }
          ],
          "histogram": [
           {
            "marker": {
             "pattern": {
              "fillmode": "overlay",
              "size": 10,
              "solidity": 0.2
             }
            },
            "type": "histogram"
           }
          ],
          "histogram2d": [
           {
            "colorbar": {
             "outlinewidth": 0,
             "ticks": ""
            },
            "colorscale": [
             [
              0,
              "#0d0887"
             ],
             [
              0.1111111111111111,
              "#46039f"
             ],
             [
              0.2222222222222222,
              "#7201a8"
             ],
             [
              0.3333333333333333,
              "#9c179e"
             ],
             [
              0.4444444444444444,
              "#bd3786"
             ],
             [
              0.5555555555555556,
              "#d8576b"
             ],
             [
              0.6666666666666666,
              "#ed7953"
             ],
             [
              0.7777777777777778,
              "#fb9f3a"
             ],
             [
              0.8888888888888888,
              "#fdca26"
             ],
             [
              1,
              "#f0f921"
             ]
            ],
            "type": "histogram2d"
           }
          ],
          "histogram2dcontour": [
           {
            "colorbar": {
             "outlinewidth": 0,
             "ticks": ""
            },
            "colorscale": [
             [
              0,
              "#0d0887"
             ],
             [
              0.1111111111111111,
              "#46039f"
             ],
             [
              0.2222222222222222,
              "#7201a8"
             ],
             [
              0.3333333333333333,
              "#9c179e"
             ],
             [
              0.4444444444444444,
              "#bd3786"
             ],
             [
              0.5555555555555556,
              "#d8576b"
             ],
             [
              0.6666666666666666,
              "#ed7953"
             ],
             [
              0.7777777777777778,
              "#fb9f3a"
             ],
             [
              0.8888888888888888,
              "#fdca26"
             ],
             [
              1,
              "#f0f921"
             ]
            ],
            "type": "histogram2dcontour"
           }
          ],
          "mesh3d": [
           {
            "colorbar": {
             "outlinewidth": 0,
             "ticks": ""
            },
            "type": "mesh3d"
           }
          ],
          "parcoords": [
           {
            "line": {
             "colorbar": {
              "outlinewidth": 0,
              "ticks": ""
             }
            },
            "type": "parcoords"
           }
          ],
          "pie": [
           {
            "automargin": true,
            "type": "pie"
           }
          ],
          "scatter": [
           {
            "fillpattern": {
             "fillmode": "overlay",
             "size": 10,
             "solidity": 0.2
            },
            "type": "scatter"
           }
          ],
          "scatter3d": [
           {
            "line": {
             "colorbar": {
              "outlinewidth": 0,
              "ticks": ""
             }
            },
            "marker": {
             "colorbar": {
              "outlinewidth": 0,
              "ticks": ""
             }
            },
            "type": "scatter3d"
           }
          ],
          "scattercarpet": [
           {
            "marker": {
             "colorbar": {
              "outlinewidth": 0,
              "ticks": ""
             }
            },
            "type": "scattercarpet"
           }
          ],
          "scattergeo": [
           {
            "marker": {
             "colorbar": {
              "outlinewidth": 0,
              "ticks": ""
             }
            },
            "type": "scattergeo"
           }
          ],
          "scattergl": [
           {
            "marker": {
             "colorbar": {
              "outlinewidth": 0,
              "ticks": ""
             }
            },
            "type": "scattergl"
           }
          ],
          "scattermap": [
           {
            "marker": {
             "colorbar": {
              "outlinewidth": 0,
              "ticks": ""
             }
            },
            "type": "scattermap"
           }
          ],
          "scattermapbox": [
           {
            "marker": {
             "colorbar": {
              "outlinewidth": 0,
              "ticks": ""
             }
            },
            "type": "scattermapbox"
           }
          ],
          "scatterpolar": [
           {
            "marker": {
             "colorbar": {
              "outlinewidth": 0,
              "ticks": ""
             }
            },
            "type": "scatterpolar"
           }
          ],
          "scatterpolargl": [
           {
            "marker": {
             "colorbar": {
              "outlinewidth": 0,
              "ticks": ""
             }
            },
            "type": "scatterpolargl"
           }
          ],
          "scatterternary": [
           {
            "marker": {
             "colorbar": {
              "outlinewidth": 0,
              "ticks": ""
             }
            },
            "type": "scatterternary"
           }
          ],
          "surface": [
           {
            "colorbar": {
             "outlinewidth": 0,
             "ticks": ""
            },
            "colorscale": [
             [
              0,
              "#0d0887"
             ],
             [
              0.1111111111111111,
              "#46039f"
             ],
             [
              0.2222222222222222,
              "#7201a8"
             ],
             [
              0.3333333333333333,
              "#9c179e"
             ],
             [
              0.4444444444444444,
              "#bd3786"
             ],
             [
              0.5555555555555556,
              "#d8576b"
             ],
             [
              0.6666666666666666,
              "#ed7953"
             ],
             [
              0.7777777777777778,
              "#fb9f3a"
             ],
             [
              0.8888888888888888,
              "#fdca26"
             ],
             [
              1,
              "#f0f921"
             ]
            ],
            "type": "surface"
           }
          ],
          "table": [
           {
            "cells": {
             "fill": {
              "color": "#EBF0F8"
             },
             "line": {
              "color": "white"
             }
            },
            "header": {
             "fill": {
              "color": "#C8D4E3"
             },
             "line": {
              "color": "white"
             }
            },
            "type": "table"
           }
          ]
         },
         "layout": {
          "annotationdefaults": {
           "arrowcolor": "#2a3f5f",
           "arrowhead": 0,
           "arrowwidth": 1
          },
          "autotypenumbers": "strict",
          "coloraxis": {
           "colorbar": {
            "outlinewidth": 0,
            "ticks": ""
           }
          },
          "colorscale": {
           "diverging": [
            [
             0,
             "#8e0152"
            ],
            [
             0.1,
             "#c51b7d"
            ],
            [
             0.2,
             "#de77ae"
            ],
            [
             0.3,
             "#f1b6da"
            ],
            [
             0.4,
             "#fde0ef"
            ],
            [
             0.5,
             "#f7f7f7"
            ],
            [
             0.6,
             "#e6f5d0"
            ],
            [
             0.7,
             "#b8e186"
            ],
            [
             0.8,
             "#7fbc41"
            ],
            [
             0.9,
             "#4d9221"
            ],
            [
             1,
             "#276419"
            ]
           ],
           "sequential": [
            [
             0,
             "#0d0887"
            ],
            [
             0.1111111111111111,
             "#46039f"
            ],
            [
             0.2222222222222222,
             "#7201a8"
            ],
            [
             0.3333333333333333,
             "#9c179e"
            ],
            [
             0.4444444444444444,
             "#bd3786"
            ],
            [
             0.5555555555555556,
             "#d8576b"
            ],
            [
             0.6666666666666666,
             "#ed7953"
            ],
            [
             0.7777777777777778,
             "#fb9f3a"
            ],
            [
             0.8888888888888888,
             "#fdca26"
            ],
            [
             1,
             "#f0f921"
            ]
           ],
           "sequentialminus": [
            [
             0,
             "#0d0887"
            ],
            [
             0.1111111111111111,
             "#46039f"
            ],
            [
             0.2222222222222222,
             "#7201a8"
            ],
            [
             0.3333333333333333,
             "#9c179e"
            ],
            [
             0.4444444444444444,
             "#bd3786"
            ],
            [
             0.5555555555555556,
             "#d8576b"
            ],
            [
             0.6666666666666666,
             "#ed7953"
            ],
            [
             0.7777777777777778,
             "#fb9f3a"
            ],
            [
             0.8888888888888888,
             "#fdca26"
            ],
            [
             1,
             "#f0f921"
            ]
           ]
          },
          "colorway": [
           "#636efa",
           "#EF553B",
           "#00cc96",
           "#ab63fa",
           "#FFA15A",
           "#19d3f3",
           "#FF6692",
           "#B6E880",
           "#FF97FF",
           "#FECB52"
          ],
          "font": {
           "color": "#2a3f5f"
          },
          "geo": {
           "bgcolor": "white",
           "lakecolor": "white",
           "landcolor": "white",
           "showlakes": true,
           "showland": true,
           "subunitcolor": "#C8D4E3"
          },
          "hoverlabel": {
           "align": "left"
          },
          "hovermode": "closest",
          "mapbox": {
           "style": "light"
          },
          "paper_bgcolor": "white",
          "plot_bgcolor": "white",
          "polar": {
           "angularaxis": {
            "gridcolor": "#EBF0F8",
            "linecolor": "#EBF0F8",
            "ticks": ""
           },
           "bgcolor": "white",
           "radialaxis": {
            "gridcolor": "#EBF0F8",
            "linecolor": "#EBF0F8",
            "ticks": ""
           }
          },
          "scene": {
           "xaxis": {
            "backgroundcolor": "white",
            "gridcolor": "#DFE8F3",
            "gridwidth": 2,
            "linecolor": "#EBF0F8",
            "showbackground": true,
            "ticks": "",
            "zerolinecolor": "#EBF0F8"
           },
           "yaxis": {
            "backgroundcolor": "white",
            "gridcolor": "#DFE8F3",
            "gridwidth": 2,
            "linecolor": "#EBF0F8",
            "showbackground": true,
            "ticks": "",
            "zerolinecolor": "#EBF0F8"
           },
           "zaxis": {
            "backgroundcolor": "white",
            "gridcolor": "#DFE8F3",
            "gridwidth": 2,
            "linecolor": "#EBF0F8",
            "showbackground": true,
            "ticks": "",
            "zerolinecolor": "#EBF0F8"
           }
          },
          "shapedefaults": {
           "line": {
            "color": "#2a3f5f"
           }
          },
          "ternary": {
           "aaxis": {
            "gridcolor": "#DFE8F3",
            "linecolor": "#A2B1C6",
            "ticks": ""
           },
           "baxis": {
            "gridcolor": "#DFE8F3",
            "linecolor": "#A2B1C6",
            "ticks": ""
           },
           "bgcolor": "white",
           "caxis": {
            "gridcolor": "#DFE8F3",
            "linecolor": "#A2B1C6",
            "ticks": ""
           }
          },
          "title": {
           "x": 0.05
          },
          "xaxis": {
           "automargin": true,
           "gridcolor": "#EBF0F8",
           "linecolor": "#EBF0F8",
           "ticks": "",
           "title": {
            "standoff": 15
           },
           "zerolinecolor": "#EBF0F8",
           "zerolinewidth": 2
          },
          "yaxis": {
           "automargin": true,
           "gridcolor": "#EBF0F8",
           "linecolor": "#EBF0F8",
           "ticks": "",
           "title": {
            "standoff": 15
           },
           "zerolinecolor": "#EBF0F8",
           "zerolinewidth": 2
          }
         }
        },
        "title": {
         "text": "Top 10 Countries: Plastic Waste Generation (Last 10 Years)"
        },
        "xaxis": {
         "title": {
          "text": "Year"
         }
        },
        "yaxis": {
         "title": {
          "text": "Plastic Waste (Kilograms)"
         }
        }
       }
      }
     },
     "metadata": {},
     "output_type": "display_data"
    }
   ],
   "source": [
    "import pandas as pd\n",
    "import plotly.graph_objects as go\n",
    "\n",
    "# Filter the last 10 years\n",
    "last_10_years = sorted(df_plastic_packaging_gen['TIME_PERIOD'].unique())[-20:]\n",
    "df_recent = df_plastic_packaging_gen[df_plastic_packaging_gen['TIME_PERIOD'].isin(last_10_years)]\n",
    "\n",
    "# Group by country and sum plastic waste over last 10 years\n",
    "country_totals = df_recent.groupby('Geopolitical entity (reporting)')['OBS_VALUE'].sum().sort_values(ascending=False)\n",
    "\n",
    "# Get top 10 countries\n",
    "top10_countries = country_totals.head(10).index.tolist()\n",
    "top5 = top10_countries[:5]\n",
    "rest5 = top10_countries[5:]\n",
    "\n",
    "# Filter data only for top 10 countries\n",
    "df_top10 = df_recent[df_recent['Geopolitical entity (reporting)'].isin(top10_countries)]\n",
    "\n",
    "# Create figure\n",
    "fig = go.Figure()\n",
    "\n",
    "# Add top 5 countries with vibrant colors\n",
    "highlight_colors = ['red', 'blue', 'green', 'orange', 'purple']\n",
    "for i, country in enumerate(top5):\n",
    "    df_country = df_top10[df_top10['Geopolitical entity (reporting)'] == country]\n",
    "    fig.add_trace(go.Scatter(\n",
    "        x=df_country['TIME_PERIOD'],\n",
    "        y=df_country['OBS_VALUE'],\n",
    "        mode='lines+markers',\n",
    "        name=country,\n",
    "        line=dict(color=highlight_colors[i], width=3),\n",
    "        marker=dict(size=6)\n",
    "    ))\n",
    "\n",
    "# Add rest of the top 10 with subtle grey\n",
    "for country in rest5:\n",
    "    df_country = df_top10[df_top10['Geopolitical entity (reporting)'] == country]\n",
    "    fig.add_trace(go.Scatter(\n",
    "        x=df_country['TIME_PERIOD'],\n",
    "        y=df_country['OBS_VALUE'],\n",
    "        mode='lines',\n",
    "        name=country,\n",
    "        line=dict(color='lightgrey', width=1.5),\n",
    "        showlegend=True\n",
    "    ))\n",
    "\n",
    "# Layout customization\n",
    "fig.update_layout(\n",
    "    title='Top 10 Countries: Plastic Waste Generation (Last 10 Years)',\n",
    "    xaxis_title='Year',\n",
    "    yaxis_title='Plastic Waste (Kilograms)',\n",
    "    template='plotly_white',\n",
    "    legend_title='Country',\n",
    "    hovermode='x unified'\n",
    ")\n",
    "\n",
    "fig.show()\n"
   ]
  },
  {
   "cell_type": "code",
   "execution_count": 75,
   "metadata": {},
   "outputs": [
    {
     "data": {
      "application/vnd.plotly.v1+json": {
       "config": {
        "plotlyServerURL": "https://plot.ly"
       },
       "data": [
        {
         "line": {
          "color": "#1f77b4",
          "width": 3
         },
         "marker": {
          "size": 6
         },
         "mode": "lines+markers",
         "name": "Ireland",
         "type": "scatter",
         "x": {
          "bdata": "0wfUB9UH1gfXB9gH2QfaB9sH3AfdB94H3wfgB+EH4gfjB+QH5QfmBw==",
          "dtype": "i2"
         },
         "y": {
          "bdata": "cT0K16MQTEAfhetRuP5JQBSuR+F6NEpAAAAAAADgTkCkcD0K1wNLQAAAAAAAoEtAXI/C9Si8SEBSuB6F65FEQDMzMzMzU0FAMzMzMzNTQkAzMzMzMzNGQClcj8L1qE1A4XoUrkcBTkDNzMzMzOxMQFK4HoXrEU1AMzMzMzPzSkBI4XoUrgdQQK5H4XoUbk5AzczMzMw8UkAK16NwPYpQQA==",
          "dtype": "f8"
         }
        },
        {
         "line": {
          "color": "#2a9fd6",
          "width": 3
         },
         "marker": {
          "size": 6
         },
         "mode": "lines+markers",
         "name": "Luxembourg",
         "type": "scatter",
         "x": {
          "bdata": "0wfUB9UH1gfXB9gH2QfaB9sH3AfdB94H3wfgB+EH4gfjB+QH5QfmBw==",
          "dtype": "i2"
         },
         "y": {
          "bdata": "AAAAAADAQ0C4HoXrURhIQNejcD0K90dAcT0K16NwR0AK16NwPUpKQFyPwvUoPEZASOF6FK7HREB7FK5H4fpFQPYoXI/C9UZAPQrXo3DdRkDNzMzMzAxJQMP1KFyPAklAcT0K16NwR0BSuB6F6xFHQFK4HoXrMUdArkfhehRORUBmZmZmZiZFQArXo3A9ikNAZmZmZmbmQUC4HoXrUXhBQA==",
          "dtype": "f8"
         }
        },
        {
         "line": {
          "color": "#99ccff",
          "width": 3
         },
         "marker": {
          "size": 6
         },
         "mode": "lines+markers",
         "name": "Estonia",
         "type": "scatter",
         "x": {
          "bdata": "1AfVB9YH1wfYB9kH2gfbB9wH3QfeB98H4AfhB+IH4wfkB+UH5gc=",
          "dtype": "i2"
         },
         "y": {
          "bdata": "w/UoXI9CNUAK16NwPUo3QJqZmZmZ2TpAmpmZmZnZO0Bcj8L1KNxKQPYoXI/CtUNAXI/C9SgcQ0DXo3A9CpdDQD0K16Nw/UFASOF6FK6HSED2KFyPwhVJQFyPwvUoPEdAzczMzMyMSECamZmZmflIQDMzMzMz80RASOF6FK6nRUApXI/C9ShEQHE9Ctej0EJACtejcD3qQEA=",
          "dtype": "f8"
         }
        },
        {
         "line": {
          "color": "crimson",
          "width": 3
         },
         "marker": {
          "size": 6,
          "symbol": "circle"
         },
         "mode": "lines+markers",
         "name": "Germany",
         "type": "scatter",
         "x": {
          "bdata": "0wfUB9UH1gfXB9gH2QfaB9sH3AfdB94H3wfgB+EH4gfjB+QH5QfmBw==",
          "dtype": "i2"
         },
         "y": {
          "bdata": "16NwPQoXOUAUrkfhelQ7QPYoXI/CtTxA9ihcj8J1P0BSuB6F6xFAQKRwPQrXo0BAAAAAAAAAQEAzMzMzM3NAQArXo3A9SkFAw/UoXI+iQUBxPQrXo9BBQI/C9ShcL0JArkfhehSuQkCPwvUoXM9CQKRwPQrXQ0NApHA9CteDQ0CuR+F6FI5DQHsUrkfh2kNA7FG4HoWLREAfhetRuL5DQA==",
          "dtype": "f8"
         }
        },
        {
         "line": {
          "color": "#cccccc",
          "width": 1.5
         },
         "mode": "lines",
         "name": "Italy",
         "showlegend": true,
         "type": "scatter",
         "x": {
          "bdata": "0wfUB9UH1gfXB9gH2QfaB9sH3AfdB94H3wfgB+EH4gfjB+QH5QfmBw==",
          "dtype": "i2"
         },
         "y": {
          "bdata": "7FG4HoVrQUDD9Shcj8JBQOxRuB6FC0JAexSuR+HaQkBxPQrXo1BDQB+F61G4nkJAcT0K16OQQUCPwvUoXE9BQClcj8L1SEFA7FG4HoULQUCPwvUoXO9AQOF6FK5HQUFA7FG4HoWrQUDsUbgehWtCQK5H4XoU7kJArkfhehQOQ0AAAAAAAGBDQBSuR+F6lEJAMzMzMzMzQ0CamZmZmblDQA==",
          "dtype": "f8"
         }
        },
        {
         "line": {
          "color": "#bbbbbb",
          "width": 1.5
         },
         "mode": "lines",
         "name": "Portugal",
         "showlegend": true,
         "type": "scatter",
         "x": {
          "bdata": "0wfUB9UH1gfXB9gH2QfaB9sH3AfdB94H3wfgB+EH4gfjB+QH5QfmBw==",
          "dtype": "i2"
         },
         "y": {
          "bdata": "zczMzMyMP0CuR+F6FG5AQK5H4XoU7kBArkfhehTuQUBSuB6F6/FBQB+F61G4XkJAw/UoXI/iQUBSuB6F6xFBQOF6FK5H4UBA4XoUrkehQEDNzMzMzAxBQKRwPQrXQ0FAj8L1KFzPQUBmZmZmZkZCQHsUrkfhWkNArkfhehQOREDD9ShcjyJEQAAAAAAAAERAUrgeheuRRED2KFyPwpVFQA==",
          "dtype": "f8"
         }
        },
        {
         "line": {
          "color": "#aaaaaa",
          "width": 1.5
         },
         "mode": "lines",
         "name": "Denmark",
         "showlegend": true,
         "type": "scatter",
         "x": {
          "bdata": "0wfUB9UH1gfXB9gH2QfaB9sH3AfdB94H3wfgB+EH4gfjB+QH5QfmBw==",
          "dtype": "i2"
         },
         "y": {
          "bdata": "9ihcj8K1PEAAAAAAACBAQD0K16Nw3UBA7FG4HoWLQUCPwvUoXI9BQMP1KFyPAj5A9ihcj8L1PUBSuB6F69E9QGZmZmZm5kBAzczMzMxsQEDNzMzMzOxAQFyPwvUonEBA9ihcj8JVQUB7FK5H4bpCQEjhehSuZ0FAcT0K16NwRUBmZmZmZuZDQMP1KFyPokNAZmZmZmYmQkAK16NwPepBQA==",
          "dtype": "f8"
         }
        },
        {
         "line": {
          "color": "#999999",
          "width": 1.5
         },
         "mode": "lines",
         "name": "Spain",
         "showlegend": true,
         "type": "scatter",
         "x": {
          "bdata": "0wfUB9UH1gfXB9gH2QfaB9sH3AfdB94H3wfgB+EH4gfjB+QH5QfmBw==",
          "dtype": "i2"
         },
         "y": {
          "bdata": "rkfhehSuQEDsUbgehQtBQK5H4XoU7kFAcT0K16MwQkCPwvUoXI9CQB+F61G4PkFAH4XrUbgeP0DD9ShcjwI+QD0K16Nw/TxApHA9CtfjO0DD9ShcjwI8QEjhehSuhz5AhetRuB7FP0DNzMzMzGxAQGZmZmZmRkFAcT0K16OwQUDhehSuR+FBQAAAAAAAAEJAcT0K16NQQ0DXo3A9CrdEQA==",
          "dtype": "f8"
         }
        },
        {
         "line": {
          "color": "#888888",
          "width": 1.5
         },
         "mode": "lines",
         "name": "France",
         "showlegend": true,
         "type": "scatter",
         "x": {
          "bdata": "0wfUB9UH1gfXB9gH2QfaB9sH3AfdB94H3wfgB+EH4gfjB+QH5QfmBw==",
          "dtype": "i2"
         },
         "y": {
          "bdata": "rkfhehRuP0ApXI/C9ag/QFyPwvUo3D9ApHA9CtdDQECPwvUoXI9AQKRwPQrX4z9AmpmZmZkZPUDhehSuR+E+QDMzMzMzMz9ASOF6FK6HPkDXo3A9Chc+QJqZmZmZGT9ASOF6FK4HQEAzMzMzM1NAQGZmZmZmZkFA7FG4HoWLQUBcj8L1KLxBQPYoXI/C1UFAAAAAAABgQkAAAAAAAOBBQA==",
          "dtype": "f8"
         }
        },
        {
         "line": {
          "color": "#777777",
          "width": 1.5
         },
         "mode": "lines",
         "name": "Austria",
         "showlegend": true,
         "type": "scatter",
         "x": {
          "bdata": "0wfUB9UH1gfXB9gH2QfaB9sH3AfdB94H3wfgB+EH4gfjB+QH5QfmBw==",
          "dtype": "i2"
         },
         "y": {
          "bdata": "cT0K16OwOkDNzMzMzIw7QJqZmZmZWTtAzczMzMzMPEA9CtejcH09QHsUrkfhOj5AKVyPwvWoPkDhehSuR6E/QHsUrkfhej9AH4XrUbgeQEBmZmZmZgZBQBSuR+F6FEFAj8L1KFwPQUDsUbgehQtBQK5H4XoULkFAFK5H4XoUQUBI4XoUrqdAQGZmZmZmxkBA9ihcj8LVQED2KFyPwpVAQA==",
          "dtype": "f8"
         }
        }
       ],
       "layout": {
        "hovermode": "x unified",
        "legend": {
         "title": {
          "text": "Country"
         }
        },
        "template": {
         "data": {
          "bar": [
           {
            "error_x": {
             "color": "#2a3f5f"
            },
            "error_y": {
             "color": "#2a3f5f"
            },
            "marker": {
             "line": {
              "color": "white",
              "width": 0.5
             },
             "pattern": {
              "fillmode": "overlay",
              "size": 10,
              "solidity": 0.2
             }
            },
            "type": "bar"
           }
          ],
          "barpolar": [
           {
            "marker": {
             "line": {
              "color": "white",
              "width": 0.5
             },
             "pattern": {
              "fillmode": "overlay",
              "size": 10,
              "solidity": 0.2
             }
            },
            "type": "barpolar"
           }
          ],
          "carpet": [
           {
            "aaxis": {
             "endlinecolor": "#2a3f5f",
             "gridcolor": "#C8D4E3",
             "linecolor": "#C8D4E3",
             "minorgridcolor": "#C8D4E3",
             "startlinecolor": "#2a3f5f"
            },
            "baxis": {
             "endlinecolor": "#2a3f5f",
             "gridcolor": "#C8D4E3",
             "linecolor": "#C8D4E3",
             "minorgridcolor": "#C8D4E3",
             "startlinecolor": "#2a3f5f"
            },
            "type": "carpet"
           }
          ],
          "choropleth": [
           {
            "colorbar": {
             "outlinewidth": 0,
             "ticks": ""
            },
            "type": "choropleth"
           }
          ],
          "contour": [
           {
            "colorbar": {
             "outlinewidth": 0,
             "ticks": ""
            },
            "colorscale": [
             [
              0,
              "#0d0887"
             ],
             [
              0.1111111111111111,
              "#46039f"
             ],
             [
              0.2222222222222222,
              "#7201a8"
             ],
             [
              0.3333333333333333,
              "#9c179e"
             ],
             [
              0.4444444444444444,
              "#bd3786"
             ],
             [
              0.5555555555555556,
              "#d8576b"
             ],
             [
              0.6666666666666666,
              "#ed7953"
             ],
             [
              0.7777777777777778,
              "#fb9f3a"
             ],
             [
              0.8888888888888888,
              "#fdca26"
             ],
             [
              1,
              "#f0f921"
             ]
            ],
            "type": "contour"
           }
          ],
          "contourcarpet": [
           {
            "colorbar": {
             "outlinewidth": 0,
             "ticks": ""
            },
            "type": "contourcarpet"
           }
          ],
          "heatmap": [
           {
            "colorbar": {
             "outlinewidth": 0,
             "ticks": ""
            },
            "colorscale": [
             [
              0,
              "#0d0887"
             ],
             [
              0.1111111111111111,
              "#46039f"
             ],
             [
              0.2222222222222222,
              "#7201a8"
             ],
             [
              0.3333333333333333,
              "#9c179e"
             ],
             [
              0.4444444444444444,
              "#bd3786"
             ],
             [
              0.5555555555555556,
              "#d8576b"
             ],
             [
              0.6666666666666666,
              "#ed7953"
             ],
             [
              0.7777777777777778,
              "#fb9f3a"
             ],
             [
              0.8888888888888888,
              "#fdca26"
             ],
             [
              1,
              "#f0f921"
             ]
            ],
            "type": "heatmap"
           }
          ],
          "histogram": [
           {
            "marker": {
             "pattern": {
              "fillmode": "overlay",
              "size": 10,
              "solidity": 0.2
             }
            },
            "type": "histogram"
           }
          ],
          "histogram2d": [
           {
            "colorbar": {
             "outlinewidth": 0,
             "ticks": ""
            },
            "colorscale": [
             [
              0,
              "#0d0887"
             ],
             [
              0.1111111111111111,
              "#46039f"
             ],
             [
              0.2222222222222222,
              "#7201a8"
             ],
             [
              0.3333333333333333,
              "#9c179e"
             ],
             [
              0.4444444444444444,
              "#bd3786"
             ],
             [
              0.5555555555555556,
              "#d8576b"
             ],
             [
              0.6666666666666666,
              "#ed7953"
             ],
             [
              0.7777777777777778,
              "#fb9f3a"
             ],
             [
              0.8888888888888888,
              "#fdca26"
             ],
             [
              1,
              "#f0f921"
             ]
            ],
            "type": "histogram2d"
           }
          ],
          "histogram2dcontour": [
           {
            "colorbar": {
             "outlinewidth": 0,
             "ticks": ""
            },
            "colorscale": [
             [
              0,
              "#0d0887"
             ],
             [
              0.1111111111111111,
              "#46039f"
             ],
             [
              0.2222222222222222,
              "#7201a8"
             ],
             [
              0.3333333333333333,
              "#9c179e"
             ],
             [
              0.4444444444444444,
              "#bd3786"
             ],
             [
              0.5555555555555556,
              "#d8576b"
             ],
             [
              0.6666666666666666,
              "#ed7953"
             ],
             [
              0.7777777777777778,
              "#fb9f3a"
             ],
             [
              0.8888888888888888,
              "#fdca26"
             ],
             [
              1,
              "#f0f921"
             ]
            ],
            "type": "histogram2dcontour"
           }
          ],
          "mesh3d": [
           {
            "colorbar": {
             "outlinewidth": 0,
             "ticks": ""
            },
            "type": "mesh3d"
           }
          ],
          "parcoords": [
           {
            "line": {
             "colorbar": {
              "outlinewidth": 0,
              "ticks": ""
             }
            },
            "type": "parcoords"
           }
          ],
          "pie": [
           {
            "automargin": true,
            "type": "pie"
           }
          ],
          "scatter": [
           {
            "fillpattern": {
             "fillmode": "overlay",
             "size": 10,
             "solidity": 0.2
            },
            "type": "scatter"
           }
          ],
          "scatter3d": [
           {
            "line": {
             "colorbar": {
              "outlinewidth": 0,
              "ticks": ""
             }
            },
            "marker": {
             "colorbar": {
              "outlinewidth": 0,
              "ticks": ""
             }
            },
            "type": "scatter3d"
           }
          ],
          "scattercarpet": [
           {
            "marker": {
             "colorbar": {
              "outlinewidth": 0,
              "ticks": ""
             }
            },
            "type": "scattercarpet"
           }
          ],
          "scattergeo": [
           {
            "marker": {
             "colorbar": {
              "outlinewidth": 0,
              "ticks": ""
             }
            },
            "type": "scattergeo"
           }
          ],
          "scattergl": [
           {
            "marker": {
             "colorbar": {
              "outlinewidth": 0,
              "ticks": ""
             }
            },
            "type": "scattergl"
           }
          ],
          "scattermap": [
           {
            "marker": {
             "colorbar": {
              "outlinewidth": 0,
              "ticks": ""
             }
            },
            "type": "scattermap"
           }
          ],
          "scattermapbox": [
           {
            "marker": {
             "colorbar": {
              "outlinewidth": 0,
              "ticks": ""
             }
            },
            "type": "scattermapbox"
           }
          ],
          "scatterpolar": [
           {
            "marker": {
             "colorbar": {
              "outlinewidth": 0,
              "ticks": ""
             }
            },
            "type": "scatterpolar"
           }
          ],
          "scatterpolargl": [
           {
            "marker": {
             "colorbar": {
              "outlinewidth": 0,
              "ticks": ""
             }
            },
            "type": "scatterpolargl"
           }
          ],
          "scatterternary": [
           {
            "marker": {
             "colorbar": {
              "outlinewidth": 0,
              "ticks": ""
             }
            },
            "type": "scatterternary"
           }
          ],
          "surface": [
           {
            "colorbar": {
             "outlinewidth": 0,
             "ticks": ""
            },
            "colorscale": [
             [
              0,
              "#0d0887"
             ],
             [
              0.1111111111111111,
              "#46039f"
             ],
             [
              0.2222222222222222,
              "#7201a8"
             ],
             [
              0.3333333333333333,
              "#9c179e"
             ],
             [
              0.4444444444444444,
              "#bd3786"
             ],
             [
              0.5555555555555556,
              "#d8576b"
             ],
             [
              0.6666666666666666,
              "#ed7953"
             ],
             [
              0.7777777777777778,
              "#fb9f3a"
             ],
             [
              0.8888888888888888,
              "#fdca26"
             ],
             [
              1,
              "#f0f921"
             ]
            ],
            "type": "surface"
           }
          ],
          "table": [
           {
            "cells": {
             "fill": {
              "color": "#EBF0F8"
             },
             "line": {
              "color": "white"
             }
            },
            "header": {
             "fill": {
              "color": "#C8D4E3"
             },
             "line": {
              "color": "white"
             }
            },
            "type": "table"
           }
          ]
         },
         "layout": {
          "annotationdefaults": {
           "arrowcolor": "#2a3f5f",
           "arrowhead": 0,
           "arrowwidth": 1
          },
          "autotypenumbers": "strict",
          "coloraxis": {
           "colorbar": {
            "outlinewidth": 0,
            "ticks": ""
           }
          },
          "colorscale": {
           "diverging": [
            [
             0,
             "#8e0152"
            ],
            [
             0.1,
             "#c51b7d"
            ],
            [
             0.2,
             "#de77ae"
            ],
            [
             0.3,
             "#f1b6da"
            ],
            [
             0.4,
             "#fde0ef"
            ],
            [
             0.5,
             "#f7f7f7"
            ],
            [
             0.6,
             "#e6f5d0"
            ],
            [
             0.7,
             "#b8e186"
            ],
            [
             0.8,
             "#7fbc41"
            ],
            [
             0.9,
             "#4d9221"
            ],
            [
             1,
             "#276419"
            ]
           ],
           "sequential": [
            [
             0,
             "#0d0887"
            ],
            [
             0.1111111111111111,
             "#46039f"
            ],
            [
             0.2222222222222222,
             "#7201a8"
            ],
            [
             0.3333333333333333,
             "#9c179e"
            ],
            [
             0.4444444444444444,
             "#bd3786"
            ],
            [
             0.5555555555555556,
             "#d8576b"
            ],
            [
             0.6666666666666666,
             "#ed7953"
            ],
            [
             0.7777777777777778,
             "#fb9f3a"
            ],
            [
             0.8888888888888888,
             "#fdca26"
            ],
            [
             1,
             "#f0f921"
            ]
           ],
           "sequentialminus": [
            [
             0,
             "#0d0887"
            ],
            [
             0.1111111111111111,
             "#46039f"
            ],
            [
             0.2222222222222222,
             "#7201a8"
            ],
            [
             0.3333333333333333,
             "#9c179e"
            ],
            [
             0.4444444444444444,
             "#bd3786"
            ],
            [
             0.5555555555555556,
             "#d8576b"
            ],
            [
             0.6666666666666666,
             "#ed7953"
            ],
            [
             0.7777777777777778,
             "#fb9f3a"
            ],
            [
             0.8888888888888888,
             "#fdca26"
            ],
            [
             1,
             "#f0f921"
            ]
           ]
          },
          "colorway": [
           "#636efa",
           "#EF553B",
           "#00cc96",
           "#ab63fa",
           "#FFA15A",
           "#19d3f3",
           "#FF6692",
           "#B6E880",
           "#FF97FF",
           "#FECB52"
          ],
          "font": {
           "color": "#2a3f5f"
          },
          "geo": {
           "bgcolor": "white",
           "lakecolor": "white",
           "landcolor": "white",
           "showlakes": true,
           "showland": true,
           "subunitcolor": "#C8D4E3"
          },
          "hoverlabel": {
           "align": "left"
          },
          "hovermode": "closest",
          "mapbox": {
           "style": "light"
          },
          "paper_bgcolor": "white",
          "plot_bgcolor": "white",
          "polar": {
           "angularaxis": {
            "gridcolor": "#EBF0F8",
            "linecolor": "#EBF0F8",
            "ticks": ""
           },
           "bgcolor": "white",
           "radialaxis": {
            "gridcolor": "#EBF0F8",
            "linecolor": "#EBF0F8",
            "ticks": ""
           }
          },
          "scene": {
           "xaxis": {
            "backgroundcolor": "white",
            "gridcolor": "#DFE8F3",
            "gridwidth": 2,
            "linecolor": "#EBF0F8",
            "showbackground": true,
            "ticks": "",
            "zerolinecolor": "#EBF0F8"
           },
           "yaxis": {
            "backgroundcolor": "white",
            "gridcolor": "#DFE8F3",
            "gridwidth": 2,
            "linecolor": "#EBF0F8",
            "showbackground": true,
            "ticks": "",
            "zerolinecolor": "#EBF0F8"
           },
           "zaxis": {
            "backgroundcolor": "white",
            "gridcolor": "#DFE8F3",
            "gridwidth": 2,
            "linecolor": "#EBF0F8",
            "showbackground": true,
            "ticks": "",
            "zerolinecolor": "#EBF0F8"
           }
          },
          "shapedefaults": {
           "line": {
            "color": "#2a3f5f"
           }
          },
          "ternary": {
           "aaxis": {
            "gridcolor": "#DFE8F3",
            "linecolor": "#A2B1C6",
            "ticks": ""
           },
           "baxis": {
            "gridcolor": "#DFE8F3",
            "linecolor": "#A2B1C6",
            "ticks": ""
           },
           "bgcolor": "white",
           "caxis": {
            "gridcolor": "#DFE8F3",
            "linecolor": "#A2B1C6",
            "ticks": ""
           }
          },
          "title": {
           "x": 0.05
          },
          "xaxis": {
           "automargin": true,
           "gridcolor": "#EBF0F8",
           "linecolor": "#EBF0F8",
           "ticks": "",
           "title": {
            "standoff": 15
           },
           "zerolinecolor": "#EBF0F8",
           "zerolinewidth": 2
          },
          "yaxis": {
           "automargin": true,
           "gridcolor": "#EBF0F8",
           "linecolor": "#EBF0F8",
           "ticks": "",
           "title": {
            "standoff": 15
           },
           "zerolinecolor": "#EBF0F8",
           "zerolinewidth": 2
          }
         }
        },
        "title": {
         "text": "Top 10 Countries: Plastic Waste Generation (Last 10 Years)"
        },
        "xaxis": {
         "title": {
          "text": "Year"
         }
        },
        "yaxis": {
         "rangemode": "tozero",
         "title": {
          "text": "Plastic Waste (Kilograms)"
         }
        }
       }
      }
     },
     "metadata": {},
     "output_type": "display_data"
    }
   ],
   "source": [
    "import pandas as pd\n",
    "import plotly.graph_objects as go\n",
    "\n",
    "# Filter the last 10 years\n",
    "last_10_years = sorted(df_plastic_packaging_gen['TIME_PERIOD'].unique())[-20:]\n",
    "df_recent = df_plastic_packaging_gen[df_plastic_packaging_gen['TIME_PERIOD'].isin(last_10_years)]\n",
    "\n",
    "# Group by country and sum plastic waste over last 10 years\n",
    "country_totals = df_recent.groupby('Geopolitical entity (reporting)')['OBS_VALUE'].sum().sort_values(ascending=False)\n",
    "\n",
    "# Get top 10 countries\n",
    "top10_countries = country_totals.head(10).index.tolist()\n",
    "top3 = top10_countries[:3]\n",
    "rest = top10_countries[3:]\n",
    "\n",
    "# Check if Germany is in top 10\n",
    "germany_label = \"Germany\"\n",
    "germany_entry = [c for c in top10_countries if \"Germany\" in c]\n",
    "rest_except_germany = [c for c in rest if c != germany_entry[0]] if germany_entry else rest\n",
    "\n",
    "# Filter data only for top 10 countries\n",
    "df_top10 = df_recent[df_recent['Geopolitical entity (reporting)'].isin(top10_countries)]\n",
    "\n",
    "# Create figure\n",
    "fig = go.Figure()\n",
    "\n",
    "# Add top 3 countries with shades of blue\n",
    "top3_colors = ['#1f77b4', '#2a9fd6', '#99ccff']\n",
    "for i, country in enumerate(top3):\n",
    "    df_country = df_top10[df_top10['Geopolitical entity (reporting)'] == country]\n",
    "    fig.add_trace(go.Scatter(\n",
    "        x=df_country['TIME_PERIOD'],\n",
    "        y=df_country['OBS_VALUE'],\n",
    "        mode='lines+markers',\n",
    "        name=country,\n",
    "        line=dict(color=top3_colors[i], width=3),\n",
    "        marker=dict(size=6)\n",
    "    ))\n",
    "\n",
    "# Add Germany with a distinct color (red)\n",
    "if germany_entry:\n",
    "    df_germany = df_top10[df_top10['Geopolitical entity (reporting)'] == germany_entry[0]]\n",
    "    fig.add_trace(go.Scatter(\n",
    "        x=df_germany['TIME_PERIOD'],\n",
    "        y=df_germany['OBS_VALUE'],\n",
    "        mode='lines+markers',\n",
    "        name='Germany',\n",
    "        line=dict(color='crimson', width=3),\n",
    "        marker=dict(size=6, symbol='circle')\n",
    "    ))\n",
    "\n",
    "# Add remaining countries with subtle grey gradient\n",
    "grey_shades = ['#cccccc', '#bbbbbb', '#aaaaaa', '#999999', '#888888', '#777777']\n",
    "for i, country in enumerate(rest_except_germany):\n",
    "    df_country = df_top10[df_top10['Geopolitical entity (reporting)'] == country]\n",
    "    fig.add_trace(go.Scatter(\n",
    "        x=df_country['TIME_PERIOD'],\n",
    "        y=df_country['OBS_VALUE'],\n",
    "        mode='lines',\n",
    "        name=country,\n",
    "        line=dict(color=grey_shades[i % len(grey_shades)], width=1.5),\n",
    "        showlegend=True\n",
    "    ))\n",
    "\n",
    "# Layout customization\n",
    "fig.update_layout(\n",
    "    title='Top 10 Countries: Plastic Waste Generation (Last 10 Years)',\n",
    "    xaxis_title='Year',\n",
    "    yaxis_title='Plastic Waste (Kilograms)',\n",
    "    yaxis=dict(rangemode='tozero'),  # Start y-axis at 0\n",
    "    template='plotly_white',\n",
    "    legend_title='Country',\n",
    "    hovermode='x unified'\n",
    ")\n",
    "\n",
    "fig.show()\n"
   ]
  },
  {
   "cell_type": "markdown",
   "metadata": {},
   "source": [
    "Plastic Packaging recycling "
   ]
  },
  {
   "cell_type": "code",
   "execution_count": 40,
   "metadata": {},
   "outputs": [],
   "source": [
    "df_packaging_recy = pd.read_csv(\"./Dataset_CE/Recycle_Plastic_pkging.csv\")"
   ]
  },
  {
   "cell_type": "code",
   "execution_count": 51,
   "metadata": {},
   "outputs": [
    {
     "data": {
      "application/vnd.plotly.v1+json": {
       "config": {
        "plotlyServerURL": "https://plot.ly"
       },
       "data": [
        {
         "line": {
          "color": "#1f77b4",
          "width": 3
         },
         "marker": {
          "size": 6
         },
         "mode": "lines+markers",
         "name": "Czechia",
         "type": "scatter",
         "x": {
          "bdata": "0wfUB9UH1gfXB9gH2QfaB9sH3AfdB94H3wfgB+EH4gfjB+QH5QfmBw==",
          "dtype": "i2"
         },
         "y": {
          "bdata": "zczMzMzMQkBmZmZmZuZFQAAAAAAAgEFAZmZmZmYmRkAAAAAAAMBGQJqZmZmZGUlAAAAAAABASkAAAAAAAABLQAAAAAAAgExAmpmZmZkZTUCamZmZmdlNQJqZmZmZGU1AmpmZmZnZTkCamZmZmZlNQM3MzMzMTE1AAAAAAACATEAAAAAAAIBOQGZmZmZm5kRAzczMzMyMRkCamZmZmZlHQA==",
          "dtype": "f8"
         }
        },
        {
         "line": {
          "color": "#2a9fd6",
          "width": 3
         },
         "marker": {
          "size": 6
         },
         "mode": "lines+markers",
         "name": "Slovenia",
         "type": "scatter",
         "x": {
          "bdata": "1AfVB9YH1wfYB9kH2gfbB9wH3QfeB98H4AfhB+IH4wfkB+UH5gc=",
          "dtype": "i2"
         },
         "y": {
          "bdata": "MzMzMzMzKEAzMzMzM/NAQM3MzMzMTENAAAAAAABAR0DNzMzMzMxLQAAAAAAAAEVAMzMzMzPTUEAAAAAAAOBSQDMzMzMzM1BAzczMzMxsVEAzMzMzM1NRQDMzMzMzs09AAAAAAAAAT0AzMzMzMzNOQGZmZmZmZkhAZmZmZmYmSUDNzMzMzExGQAAAAAAAAElAMzMzMzNzSUA=",
          "dtype": "f8"
         }
        },
        {
         "line": {
          "color": "#99ccff",
          "width": 3
         },
         "marker": {
          "size": 6
         },
         "mode": "lines+markers",
         "name": "Slovakia",
         "type": "scatter",
         "x": {
          "bdata": "0wfUB9UH1gfXB9gH2QfaB9sH3AfdB94H3wfgB+EH4gfjB+QH5QfmBw==",
          "dtype": "i2"
         },
         "y": {
          "bdata": "zczMzMzMJ0AAAAAAAAAwQJqZmZmZGTJAmpmZmZnZQ0CamZmZmdlEQJqZmZmZ2UVAZmZmZmamSEAzMzMzM3NGQDMzMzMz80hAAAAAAACATEDNzMzMzIxLQDMzMzMz80tAMzMzMzMzS0CamZmZmdlJQDMzMzMzM0pAMzMzMzOzSUBmZmZmZmZKQGZmZmZmJkxAmpmZmZkZTkAzMzMzM/NJQA==",
          "dtype": "f8"
         }
        },
        {
         "line": {
          "color": "crimson",
          "width": 3
         },
         "marker": {
          "size": 6,
          "symbol": "circle"
         },
         "mode": "lines+markers",
         "name": "Germany",
         "type": "scatter",
         "x": {
          "bdata": "0wfUB9UH1gfXB9gH2QfaB9sH3AfdB94H3wfgB+EH4gfjB+QH5QfmBw==",
          "dtype": "i2"
         },
         "y": {
          "bdata": "AAAAAAAAQ0BmZmZmZuZAQJqZmZmZmUFAzczMzMwMQ0CamZmZmVlEQJqZmZmZWUZAAAAAAABAR0DNzMzMzIxGQGZmZmZmJkdAAAAAAACAR0BmZmZmZmZHQGZmZmZmpkdAMzMzMzOzR0AzMzMzMzNIQAAAAAAAAEhAMzMzMzMzR0BmZmZmZqZFQJqZmZmZGUdAMzMzMzMzSEDNzMzMzIxJQA==",
          "dtype": "f8"
         }
        },
        {
         "line": {
          "color": "#cccccc",
          "width": 1.5
         },
         "mode": "lines",
         "name": "Lithuania",
         "showlegend": true,
         "type": "scatter",
         "x": {
          "bdata": "1AfVB9YH1wfYB9kH2gfbB9wH3QfeB98H4AfhB+IH4wfkB+UH5gc=",
          "dtype": "i2"
         },
         "y": {
          "bdata": "ZmZmZmbmNEAzMzMzMzM1QDMzMzMzszpAAAAAAACAPEDNzMzMzExAQDMzMzMz80FAMzMzMzMzQ0AzMzMzM3NDQDMzMzMzc0NAMzMzMzNzRUCamZmZmZlJQGZmZmZmZktAmpmZmZmZUkAAAAAAAOBRQDMzMzMzU1FAZmZmZmZmUUDNzMzMzAxMQGZmZmZmZkZAzczMzMwMRkA=",
          "dtype": "f8"
         }
        },
        {
         "line": {
          "color": "#bbbbbb",
          "width": 1.5
         },
         "mode": "lines",
         "name": "Netherlands",
         "showlegend": true,
         "type": "scatter",
         "x": {
          "bdata": "0wfUB9UH1gfXB9gH2QfaB9sH3AfdB94H3wfgB+EH4gfjB+QH5QfmBw==",
          "dtype": "i2"
         },
         "y": {
          "bdata": "ZmZmZmbmM0DNzMzMzEwzQJqZmZmZGTZAAAAAAABAQECamZmZmdlAQDMzMzMzM0JAMzMzMzMzQ0DNzMzMzMxHQJqZmZmZWUlAmpmZmZnZR0DNzMzMzExHQM3MzMzMTElAZmZmZmbmSEAAAAAAAMBJQDMzMzMzM0lAAAAAAAAASkCamZmZmZlMQJqZmZmZmUhAMzMzMzNzSECamZmZmdlGQA==",
          "dtype": "f8"
         }
        },
        {
         "line": {
          "color": "#aaaaaa",
          "width": 1.5
         },
         "mode": "lines",
         "name": "Belgium",
         "showlegend": true,
         "type": "scatter",
         "x": {
          "bdata": "0wfUB9UH1gfXB9gH2QfaB9sH3AfdB94H3wfgB+EH4gfjB+QH5QfmBw==",
          "dtype": "i2"
         },
         "y": {
          "bdata": "AAAAAABAQEAAAAAAAEBCQM3MzMzMDENAzczMzMxMQ0AzMzMzMzNDQAAAAAAAwENAAAAAAACARUAAAAAAAMBEQDMzMzMzs0RAAAAAAADAREAAAAAAAIBDQGZmZmZm5kRAzczMzMxMRUAzMzMzM7NFQAAAAAAAQEZAMzMzMzMzRUBmZmZmZqZHQJqZmZmZWUZAmpmZmZmZSECamZmZmRlLQA==",
          "dtype": "f8"
         }
        },
        {
         "line": {
          "color": "#999999",
          "width": 1.5
         },
         "mode": "lines",
         "name": "Sweden",
         "showlegend": true,
         "type": "scatter",
         "x": {
          "bdata": "0wfUB9UH1gfXB9gH2QfaB9sH3AfdB94H3wfgB+EH4gfjB+QH5QfmBw==",
          "dtype": "i2"
         },
         "y": {
          "bdata": "zczMzMxMNkAzMzMzMzM5QGZmZmZm5j1AZmZmZmbmRUCamZmZmdlEQAAAAAAAgEJAAAAAAADAQkAzMzMzMzNAQM3MzMzMDEFAMzMzMzNzQUDNzMzMzMxGQAAAAAAAwEdAAAAAAACASECamZmZmVlJQDMzMzMzM0hAAAAAAAAASUCamZmZmZlKQAAAAAAAwEBAzczMzMzMN0DNzMzMzEw8QA==",
          "dtype": "f8"
         }
        },
        {
         "line": {
          "color": "#888888",
          "width": 1.5
         },
         "mode": "lines",
         "name": "Italy",
         "showlegend": true,
         "type": "scatter",
         "x": {
          "bdata": "0wfUB9UH1gfXB9gH2QfaB9sH3AfdB94H3wfgB+EH4gfjB+QH5QfmBw==",
          "dtype": "i2"
         },
         "y": {
          "bdata": "AAAAAAAAOEBmZmZmZuY5QAAAAAAAADpAZmZmZmZmO0DNzMzMzEw8QJqZmZmZGT9AAAAAAADAQEAAAAAAAEBBQM3MzMzMDEJAAAAAAADAQkBmZmZmZmZCQAAAAAAAAENAzczMzMyMREAzMzMzMzNFQGZmZmZm5kRAMzMzMzOzRUCamZmZmVlGQJqZmZmZmUlAZmZmZmZmS0DNzMzMzExLQA==",
          "dtype": "f8"
         }
        },
        {
         "line": {
          "color": "#777777",
          "width": 1.5
         },
         "mode": "lines",
         "name": "Spain",
         "showlegend": true,
         "type": "scatter",
         "x": {
          "bdata": "0wfUB9UH1gfXB9gH2QfaB9sH3AfdB94H3wfgB+EH4gfjB+QH5QfmBw==",
          "dtype": "i2"
         },
         "y": {
          "bdata": "ZmZmZmbmM0CamZmZmRk0QDMzMzMzszRAZmZmZmZmNkDNzMzMzEw3QGZmZmZmZjhAmpmZmZmZOkAzMzMzMzM9QDMzMzMzM0BAzczMzMyMQUCamZmZmVlEQAAAAAAAQEVAAAAAAAAARkAAAAAAAMBGQDMzMzMz80dAmpmZmZlZSUAAAAAAAMBJQDMzMzMzs0lAAAAAAABAS0AAAAAAAMBJQA==",
          "dtype": "f8"
         }
        }
       ],
       "layout": {
        "hovermode": "x unified",
        "legend": {
         "title": {
          "text": "Country"
         }
        },
        "template": {
         "data": {
          "bar": [
           {
            "error_x": {
             "color": "#2a3f5f"
            },
            "error_y": {
             "color": "#2a3f5f"
            },
            "marker": {
             "line": {
              "color": "white",
              "width": 0.5
             },
             "pattern": {
              "fillmode": "overlay",
              "size": 10,
              "solidity": 0.2
             }
            },
            "type": "bar"
           }
          ],
          "barpolar": [
           {
            "marker": {
             "line": {
              "color": "white",
              "width": 0.5
             },
             "pattern": {
              "fillmode": "overlay",
              "size": 10,
              "solidity": 0.2
             }
            },
            "type": "barpolar"
           }
          ],
          "carpet": [
           {
            "aaxis": {
             "endlinecolor": "#2a3f5f",
             "gridcolor": "#C8D4E3",
             "linecolor": "#C8D4E3",
             "minorgridcolor": "#C8D4E3",
             "startlinecolor": "#2a3f5f"
            },
            "baxis": {
             "endlinecolor": "#2a3f5f",
             "gridcolor": "#C8D4E3",
             "linecolor": "#C8D4E3",
             "minorgridcolor": "#C8D4E3",
             "startlinecolor": "#2a3f5f"
            },
            "type": "carpet"
           }
          ],
          "choropleth": [
           {
            "colorbar": {
             "outlinewidth": 0,
             "ticks": ""
            },
            "type": "choropleth"
           }
          ],
          "contour": [
           {
            "colorbar": {
             "outlinewidth": 0,
             "ticks": ""
            },
            "colorscale": [
             [
              0,
              "#0d0887"
             ],
             [
              0.1111111111111111,
              "#46039f"
             ],
             [
              0.2222222222222222,
              "#7201a8"
             ],
             [
              0.3333333333333333,
              "#9c179e"
             ],
             [
              0.4444444444444444,
              "#bd3786"
             ],
             [
              0.5555555555555556,
              "#d8576b"
             ],
             [
              0.6666666666666666,
              "#ed7953"
             ],
             [
              0.7777777777777778,
              "#fb9f3a"
             ],
             [
              0.8888888888888888,
              "#fdca26"
             ],
             [
              1,
              "#f0f921"
             ]
            ],
            "type": "contour"
           }
          ],
          "contourcarpet": [
           {
            "colorbar": {
             "outlinewidth": 0,
             "ticks": ""
            },
            "type": "contourcarpet"
           }
          ],
          "heatmap": [
           {
            "colorbar": {
             "outlinewidth": 0,
             "ticks": ""
            },
            "colorscale": [
             [
              0,
              "#0d0887"
             ],
             [
              0.1111111111111111,
              "#46039f"
             ],
             [
              0.2222222222222222,
              "#7201a8"
             ],
             [
              0.3333333333333333,
              "#9c179e"
             ],
             [
              0.4444444444444444,
              "#bd3786"
             ],
             [
              0.5555555555555556,
              "#d8576b"
             ],
             [
              0.6666666666666666,
              "#ed7953"
             ],
             [
              0.7777777777777778,
              "#fb9f3a"
             ],
             [
              0.8888888888888888,
              "#fdca26"
             ],
             [
              1,
              "#f0f921"
             ]
            ],
            "type": "heatmap"
           }
          ],
          "histogram": [
           {
            "marker": {
             "pattern": {
              "fillmode": "overlay",
              "size": 10,
              "solidity": 0.2
             }
            },
            "type": "histogram"
           }
          ],
          "histogram2d": [
           {
            "colorbar": {
             "outlinewidth": 0,
             "ticks": ""
            },
            "colorscale": [
             [
              0,
              "#0d0887"
             ],
             [
              0.1111111111111111,
              "#46039f"
             ],
             [
              0.2222222222222222,
              "#7201a8"
             ],
             [
              0.3333333333333333,
              "#9c179e"
             ],
             [
              0.4444444444444444,
              "#bd3786"
             ],
             [
              0.5555555555555556,
              "#d8576b"
             ],
             [
              0.6666666666666666,
              "#ed7953"
             ],
             [
              0.7777777777777778,
              "#fb9f3a"
             ],
             [
              0.8888888888888888,
              "#fdca26"
             ],
             [
              1,
              "#f0f921"
             ]
            ],
            "type": "histogram2d"
           }
          ],
          "histogram2dcontour": [
           {
            "colorbar": {
             "outlinewidth": 0,
             "ticks": ""
            },
            "colorscale": [
             [
              0,
              "#0d0887"
             ],
             [
              0.1111111111111111,
              "#46039f"
             ],
             [
              0.2222222222222222,
              "#7201a8"
             ],
             [
              0.3333333333333333,
              "#9c179e"
             ],
             [
              0.4444444444444444,
              "#bd3786"
             ],
             [
              0.5555555555555556,
              "#d8576b"
             ],
             [
              0.6666666666666666,
              "#ed7953"
             ],
             [
              0.7777777777777778,
              "#fb9f3a"
             ],
             [
              0.8888888888888888,
              "#fdca26"
             ],
             [
              1,
              "#f0f921"
             ]
            ],
            "type": "histogram2dcontour"
           }
          ],
          "mesh3d": [
           {
            "colorbar": {
             "outlinewidth": 0,
             "ticks": ""
            },
            "type": "mesh3d"
           }
          ],
          "parcoords": [
           {
            "line": {
             "colorbar": {
              "outlinewidth": 0,
              "ticks": ""
             }
            },
            "type": "parcoords"
           }
          ],
          "pie": [
           {
            "automargin": true,
            "type": "pie"
           }
          ],
          "scatter": [
           {
            "fillpattern": {
             "fillmode": "overlay",
             "size": 10,
             "solidity": 0.2
            },
            "type": "scatter"
           }
          ],
          "scatter3d": [
           {
            "line": {
             "colorbar": {
              "outlinewidth": 0,
              "ticks": ""
             }
            },
            "marker": {
             "colorbar": {
              "outlinewidth": 0,
              "ticks": ""
             }
            },
            "type": "scatter3d"
           }
          ],
          "scattercarpet": [
           {
            "marker": {
             "colorbar": {
              "outlinewidth": 0,
              "ticks": ""
             }
            },
            "type": "scattercarpet"
           }
          ],
          "scattergeo": [
           {
            "marker": {
             "colorbar": {
              "outlinewidth": 0,
              "ticks": ""
             }
            },
            "type": "scattergeo"
           }
          ],
          "scattergl": [
           {
            "marker": {
             "colorbar": {
              "outlinewidth": 0,
              "ticks": ""
             }
            },
            "type": "scattergl"
           }
          ],
          "scattermap": [
           {
            "marker": {
             "colorbar": {
              "outlinewidth": 0,
              "ticks": ""
             }
            },
            "type": "scattermap"
           }
          ],
          "scattermapbox": [
           {
            "marker": {
             "colorbar": {
              "outlinewidth": 0,
              "ticks": ""
             }
            },
            "type": "scattermapbox"
           }
          ],
          "scatterpolar": [
           {
            "marker": {
             "colorbar": {
              "outlinewidth": 0,
              "ticks": ""
             }
            },
            "type": "scatterpolar"
           }
          ],
          "scatterpolargl": [
           {
            "marker": {
             "colorbar": {
              "outlinewidth": 0,
              "ticks": ""
             }
            },
            "type": "scatterpolargl"
           }
          ],
          "scatterternary": [
           {
            "marker": {
             "colorbar": {
              "outlinewidth": 0,
              "ticks": ""
             }
            },
            "type": "scatterternary"
           }
          ],
          "surface": [
           {
            "colorbar": {
             "outlinewidth": 0,
             "ticks": ""
            },
            "colorscale": [
             [
              0,
              "#0d0887"
             ],
             [
              0.1111111111111111,
              "#46039f"
             ],
             [
              0.2222222222222222,
              "#7201a8"
             ],
             [
              0.3333333333333333,
              "#9c179e"
             ],
             [
              0.4444444444444444,
              "#bd3786"
             ],
             [
              0.5555555555555556,
              "#d8576b"
             ],
             [
              0.6666666666666666,
              "#ed7953"
             ],
             [
              0.7777777777777778,
              "#fb9f3a"
             ],
             [
              0.8888888888888888,
              "#fdca26"
             ],
             [
              1,
              "#f0f921"
             ]
            ],
            "type": "surface"
           }
          ],
          "table": [
           {
            "cells": {
             "fill": {
              "color": "#EBF0F8"
             },
             "line": {
              "color": "white"
             }
            },
            "header": {
             "fill": {
              "color": "#C8D4E3"
             },
             "line": {
              "color": "white"
             }
            },
            "type": "table"
           }
          ]
         },
         "layout": {
          "annotationdefaults": {
           "arrowcolor": "#2a3f5f",
           "arrowhead": 0,
           "arrowwidth": 1
          },
          "autotypenumbers": "strict",
          "coloraxis": {
           "colorbar": {
            "outlinewidth": 0,
            "ticks": ""
           }
          },
          "colorscale": {
           "diverging": [
            [
             0,
             "#8e0152"
            ],
            [
             0.1,
             "#c51b7d"
            ],
            [
             0.2,
             "#de77ae"
            ],
            [
             0.3,
             "#f1b6da"
            ],
            [
             0.4,
             "#fde0ef"
            ],
            [
             0.5,
             "#f7f7f7"
            ],
            [
             0.6,
             "#e6f5d0"
            ],
            [
             0.7,
             "#b8e186"
            ],
            [
             0.8,
             "#7fbc41"
            ],
            [
             0.9,
             "#4d9221"
            ],
            [
             1,
             "#276419"
            ]
           ],
           "sequential": [
            [
             0,
             "#0d0887"
            ],
            [
             0.1111111111111111,
             "#46039f"
            ],
            [
             0.2222222222222222,
             "#7201a8"
            ],
            [
             0.3333333333333333,
             "#9c179e"
            ],
            [
             0.4444444444444444,
             "#bd3786"
            ],
            [
             0.5555555555555556,
             "#d8576b"
            ],
            [
             0.6666666666666666,
             "#ed7953"
            ],
            [
             0.7777777777777778,
             "#fb9f3a"
            ],
            [
             0.8888888888888888,
             "#fdca26"
            ],
            [
             1,
             "#f0f921"
            ]
           ],
           "sequentialminus": [
            [
             0,
             "#0d0887"
            ],
            [
             0.1111111111111111,
             "#46039f"
            ],
            [
             0.2222222222222222,
             "#7201a8"
            ],
            [
             0.3333333333333333,
             "#9c179e"
            ],
            [
             0.4444444444444444,
             "#bd3786"
            ],
            [
             0.5555555555555556,
             "#d8576b"
            ],
            [
             0.6666666666666666,
             "#ed7953"
            ],
            [
             0.7777777777777778,
             "#fb9f3a"
            ],
            [
             0.8888888888888888,
             "#fdca26"
            ],
            [
             1,
             "#f0f921"
            ]
           ]
          },
          "colorway": [
           "#636efa",
           "#EF553B",
           "#00cc96",
           "#ab63fa",
           "#FFA15A",
           "#19d3f3",
           "#FF6692",
           "#B6E880",
           "#FF97FF",
           "#FECB52"
          ],
          "font": {
           "color": "#2a3f5f"
          },
          "geo": {
           "bgcolor": "white",
           "lakecolor": "white",
           "landcolor": "white",
           "showlakes": true,
           "showland": true,
           "subunitcolor": "#C8D4E3"
          },
          "hoverlabel": {
           "align": "left"
          },
          "hovermode": "closest",
          "mapbox": {
           "style": "light"
          },
          "paper_bgcolor": "white",
          "plot_bgcolor": "white",
          "polar": {
           "angularaxis": {
            "gridcolor": "#EBF0F8",
            "linecolor": "#EBF0F8",
            "ticks": ""
           },
           "bgcolor": "white",
           "radialaxis": {
            "gridcolor": "#EBF0F8",
            "linecolor": "#EBF0F8",
            "ticks": ""
           }
          },
          "scene": {
           "xaxis": {
            "backgroundcolor": "white",
            "gridcolor": "#DFE8F3",
            "gridwidth": 2,
            "linecolor": "#EBF0F8",
            "showbackground": true,
            "ticks": "",
            "zerolinecolor": "#EBF0F8"
           },
           "yaxis": {
            "backgroundcolor": "white",
            "gridcolor": "#DFE8F3",
            "gridwidth": 2,
            "linecolor": "#EBF0F8",
            "showbackground": true,
            "ticks": "",
            "zerolinecolor": "#EBF0F8"
           },
           "zaxis": {
            "backgroundcolor": "white",
            "gridcolor": "#DFE8F3",
            "gridwidth": 2,
            "linecolor": "#EBF0F8",
            "showbackground": true,
            "ticks": "",
            "zerolinecolor": "#EBF0F8"
           }
          },
          "shapedefaults": {
           "line": {
            "color": "#2a3f5f"
           }
          },
          "ternary": {
           "aaxis": {
            "gridcolor": "#DFE8F3",
            "linecolor": "#A2B1C6",
            "ticks": ""
           },
           "baxis": {
            "gridcolor": "#DFE8F3",
            "linecolor": "#A2B1C6",
            "ticks": ""
           },
           "bgcolor": "white",
           "caxis": {
            "gridcolor": "#DFE8F3",
            "linecolor": "#A2B1C6",
            "ticks": ""
           }
          },
          "title": {
           "x": 0.05
          },
          "xaxis": {
           "automargin": true,
           "gridcolor": "#EBF0F8",
           "linecolor": "#EBF0F8",
           "ticks": "",
           "title": {
            "standoff": 15
           },
           "zerolinecolor": "#EBF0F8",
           "zerolinewidth": 2
          },
          "yaxis": {
           "automargin": true,
           "gridcolor": "#EBF0F8",
           "linecolor": "#EBF0F8",
           "ticks": "",
           "title": {
            "standoff": 15
           },
           "zerolinecolor": "#EBF0F8",
           "zerolinewidth": 2
          }
         }
        },
        "title": {
         "text": "Top 10 Countries: Plastic Waste Generation (Last 10 Years)"
        },
        "xaxis": {
         "title": {
          "text": "Year"
         }
        },
        "yaxis": {
         "rangemode": "tozero",
         "title": {
          "text": "Plastic Recycle Rate"
         }
        }
       }
      }
     },
     "metadata": {},
     "output_type": "display_data"
    }
   ],
   "source": [
    "\n",
    "\n",
    "# Filter the last 10 years\n",
    "last_10_years = sorted(df_packaging_recy['TIME_PERIOD'].unique())[-20:]\n",
    "df_recent = df_packaging_recy[df_packaging_recy['TIME_PERIOD'].isin(last_10_years)]\n",
    "\n",
    "# Group by country and sum plastic waste over last 10 years\n",
    "country_totals = df_recent.groupby('Geopolitical entity (reporting)')['OBS_VALUE'].sum().sort_values(ascending=False)\n",
    "\n",
    "# Get top 10 countries\n",
    "top10_countries = country_totals.head(10).index.tolist()\n",
    "top3 = top10_countries[:3]\n",
    "rest = top10_countries[3:]\n",
    "\n",
    "# Check if Germany is in top 10\n",
    "germany_label = \"Germany\"\n",
    "germany_entry = [c for c in top10_countries if \"Germany\" in c]\n",
    "rest_except_germany = [c for c in rest if c != germany_entry[0]] if germany_entry else rest\n",
    "\n",
    "# Filter data only for top 10 countries\n",
    "df_top10 = df_recent[df_recent['Geopolitical entity (reporting)'].isin(top10_countries)]\n",
    "\n",
    "# Create figure\n",
    "fig = go.Figure()\n",
    "\n",
    "# Add top 3 countries with shades of blue\n",
    "top3_colors = ['#1f77b4', '#2a9fd6', '#99ccff']\n",
    "for i, country in enumerate(top3):\n",
    "    df_country = df_top10[df_top10['Geopolitical entity (reporting)'] == country]\n",
    "    fig.add_trace(go.Scatter(\n",
    "        x=df_country['TIME_PERIOD'],\n",
    "        y=df_country['OBS_VALUE'],\n",
    "        mode='lines+markers',\n",
    "        name=country,\n",
    "        line=dict(color=top3_colors[i], width=3),\n",
    "        marker=dict(size=6)\n",
    "    ))\n",
    "\n",
    "# Add Germany with a distinct color (red)\n",
    "if germany_entry:\n",
    "    df_germany = df_top10[df_top10['Geopolitical entity (reporting)'] == germany_entry[0]]\n",
    "    fig.add_trace(go.Scatter(\n",
    "        x=df_germany['TIME_PERIOD'],\n",
    "        y=df_germany['OBS_VALUE'],\n",
    "        mode='lines+markers',\n",
    "        name='Germany',\n",
    "        line=dict(color='crimson', width=3),\n",
    "        marker=dict(size=6, symbol='circle')\n",
    "    ))\n",
    "\n",
    "# Add remaining countries with subtle grey gradient\n",
    "grey_shades = ['#cccccc', '#bbbbbb', '#aaaaaa', '#999999', '#888888', '#777777']\n",
    "for i, country in enumerate(rest_except_germany):\n",
    "    df_country = df_top10[df_top10['Geopolitical entity (reporting)'] == country]\n",
    "    fig.add_trace(go.Scatter(\n",
    "        x=df_country['TIME_PERIOD'],\n",
    "        y=df_country['OBS_VALUE'],\n",
    "        mode='lines',\n",
    "        name=country,\n",
    "        line=dict(color=grey_shades[i % len(grey_shades)], width=1.5),\n",
    "        showlegend=True\n",
    "    ))\n",
    "\n",
    "# Layout customization\n",
    "fig.update_layout(\n",
    "    title='Top 10 Countries: Plastic Waste Generation (Last 10 Years)',\n",
    "    xaxis_title='Year',\n",
    "    yaxis_title='Plastic Recycle Rate',\n",
    "    yaxis=dict(rangemode='tozero'),  # Start y-axis at 0\n",
    "    template='plotly_white',\n",
    "    legend_title='Country',\n",
    "    hovermode='x unified'\n",
    ")\n",
    "\n",
    "fig.show()\n"
   ]
  },
  {
   "cell_type": "code",
   "execution_count": 42,
   "metadata": {},
   "outputs": [
    {
     "data": {
      "application/vnd.plotly.v1+json": {
       "config": {
        "plotlyServerURL": "https://plot.ly"
       },
       "data": [
        {
         "line": {
          "color": "red",
          "width": 3
         },
         "marker": {
          "size": 6
         },
         "mode": "lines+markers",
         "name": "Slovenia",
         "type": "scatter",
         "x": {
          "bdata": "3QfeB98H4AfhB+IH4wfkB+UH5gc=",
          "dtype": "i2"
         },
         "y": {
          "bdata": "zczMzMxsVEAzMzMzM1NRQDMzMzMzs09AAAAAAAAAT0AzMzMzMzNOQGZmZmZmZkhAZmZmZmYmSUDNzMzMzExGQAAAAAAAAElAMzMzMzNzSUA=",
          "dtype": "f8"
         }
        },
        {
         "line": {
          "color": "blue",
          "width": 3
         },
         "marker": {
          "size": 6
         },
         "mode": "lines+markers",
         "name": "Lithuania",
         "type": "scatter",
         "x": {
          "bdata": "3QfeB98H4AfhB+IH4wfkB+UH5gc=",
          "dtype": "i2"
         },
         "y": {
          "bdata": "MzMzMzNzRUCamZmZmZlJQGZmZmZmZktAmpmZmZmZUkAAAAAAAOBRQDMzMzMzU1FAZmZmZmZmUUDNzMzMzAxMQGZmZmZmZkZAzczMzMwMRkA=",
          "dtype": "f8"
         }
        },
        {
         "line": {
          "color": "green",
          "width": 3
         },
         "marker": {
          "size": 6
         },
         "mode": "lines+markers",
         "name": "Czechia",
         "type": "scatter",
         "x": {
          "bdata": "3QfeB98H4AfhB+IH4wfkB+UH5gc=",
          "dtype": "i2"
         },
         "y": {
          "bdata": "mpmZmZnZTUCamZmZmRlNQJqZmZmZ2U5AmpmZmZmZTUDNzMzMzExNQAAAAAAAgExAAAAAAACATkBmZmZmZuZEQM3MzMzMjEZAmpmZmZmZR0A=",
          "dtype": "f8"
         }
        },
        {
         "line": {
          "color": "lightgrey",
          "width": 1.5
         },
         "mode": "lines",
         "name": "Slovakia",
         "showlegend": true,
         "type": "scatter",
         "x": {
          "bdata": "3QfeB98H4AfhB+IH4wfkB+UH5gc=",
          "dtype": "i2"
         },
         "y": {
          "bdata": "zczMzMyMS0AzMzMzM/NLQDMzMzMzM0tAmpmZmZnZSUAzMzMzMzNKQDMzMzMzs0lAZmZmZmZmSkBmZmZmZiZMQJqZmZmZGU5AMzMzMzPzSUA=",
          "dtype": "f8"
         }
        },
        {
         "line": {
          "color": "lightgrey",
          "width": 1.5
         },
         "mode": "lines",
         "name": "Cyprus",
         "showlegend": true,
         "type": "scatter",
         "x": {
          "bdata": "3QfeB98H4AfhB+IH4wfkB+UH5gc=",
          "dtype": "i2"
         },
         "y": {
          "bdata": "ZmZmZmamRkDNzMzMzExHQJqZmZmZ2U9AZmZmZmYmT0AAAAAAAEBQQGZmZmZmJktAAAAAAABASUDNzMzMzExIQDMzMzMz80JAzczMzMyMQ0A=",
          "dtype": "f8"
         }
        },
        {
         "line": {
          "color": "lightgrey",
          "width": 1.5
         },
         "mode": "lines",
         "name": "Netherlands",
         "showlegend": true,
         "type": "scatter",
         "x": {
          "bdata": "3QfeB98H4AfhB+IH4wfkB+UH5gc=",
          "dtype": "i2"
         },
         "y": {
          "bdata": "zczMzMxMR0DNzMzMzExJQGZmZmZm5khAAAAAAADASUAzMzMzMzNJQAAAAAAAAEpAmpmZmZmZTECamZmZmZlIQDMzMzMzc0hAmpmZmZnZRkA=",
          "dtype": "f8"
         }
        },
        {
         "line": {
          "color": "lightgrey",
          "width": 1.5
         },
         "mode": "lines",
         "name": "Spain",
         "showlegend": true,
         "type": "scatter",
         "x": {
          "bdata": "3QfeB98H4AfhB+IH4wfkB+UH5gc=",
          "dtype": "i2"
         },
         "y": {
          "bdata": "mpmZmZlZREAAAAAAAEBFQAAAAAAAAEZAAAAAAADARkAzMzMzM/NHQJqZmZmZWUlAAAAAAADASUAzMzMzM7NJQAAAAAAAQEtAAAAAAADASUA=",
          "dtype": "f8"
         }
        },
        {
         "line": {
          "color": "lightgrey",
          "width": 1.5
         },
         "mode": "lines",
         "name": "Bulgaria",
         "showlegend": true,
         "type": "scatter",
         "x": {
          "bdata": "3QfeB98H4AfhB+IH4wflB+YH",
          "dtype": "i2"
         },
         "y": {
          "bdata": "ZmZmZmamREBmZmZmZgZQQGZmZmZmZk5AzczMzMxMSkAzMzMzMzNQQJqZmZmZmU1AzczMzMxMSUDNzMzMzIxHQAAAAAAAwENA",
          "dtype": "f8"
         }
        },
        {
         "line": {
          "color": "lightgrey",
          "width": 1.5
         },
         "mode": "lines",
         "name": "Germany",
         "showlegend": true,
         "type": "scatter",
         "x": {
          "bdata": "3QfeB98H4AfhB+IH4wfkB+UH5gc=",
          "dtype": "i2"
         },
         "y": {
          "bdata": "ZmZmZmZmR0BmZmZmZqZHQDMzMzMzs0dAMzMzMzMzSEAAAAAAAABIQDMzMzMzM0dAZmZmZmamRUCamZmZmRlHQDMzMzMzM0hAzczMzMyMSUA=",
          "dtype": "f8"
         }
        },
        {
         "line": {
          "color": "lightgrey",
          "width": 1.5
         },
         "mode": "lines",
         "name": "Belgium",
         "showlegend": true,
         "type": "scatter",
         "x": {
          "bdata": "3QfeB98H4AfhB+IH4wfkB+UH5gc=",
          "dtype": "i2"
         },
         "y": {
          "bdata": "AAAAAACAQ0BmZmZmZuZEQM3MzMzMTEVAMzMzMzOzRUAAAAAAAEBGQDMzMzMzM0VAZmZmZmamR0CamZmZmVlGQJqZmZmZmUhAmpmZmZkZS0A=",
          "dtype": "f8"
         }
        }
       ],
       "layout": {
        "hovermode": "x unified",
        "legend": {
         "title": {
          "text": "Country"
         }
        },
        "template": {
         "data": {
          "bar": [
           {
            "error_x": {
             "color": "#2a3f5f"
            },
            "error_y": {
             "color": "#2a3f5f"
            },
            "marker": {
             "line": {
              "color": "white",
              "width": 0.5
             },
             "pattern": {
              "fillmode": "overlay",
              "size": 10,
              "solidity": 0.2
             }
            },
            "type": "bar"
           }
          ],
          "barpolar": [
           {
            "marker": {
             "line": {
              "color": "white",
              "width": 0.5
             },
             "pattern": {
              "fillmode": "overlay",
              "size": 10,
              "solidity": 0.2
             }
            },
            "type": "barpolar"
           }
          ],
          "carpet": [
           {
            "aaxis": {
             "endlinecolor": "#2a3f5f",
             "gridcolor": "#C8D4E3",
             "linecolor": "#C8D4E3",
             "minorgridcolor": "#C8D4E3",
             "startlinecolor": "#2a3f5f"
            },
            "baxis": {
             "endlinecolor": "#2a3f5f",
             "gridcolor": "#C8D4E3",
             "linecolor": "#C8D4E3",
             "minorgridcolor": "#C8D4E3",
             "startlinecolor": "#2a3f5f"
            },
            "type": "carpet"
           }
          ],
          "choropleth": [
           {
            "colorbar": {
             "outlinewidth": 0,
             "ticks": ""
            },
            "type": "choropleth"
           }
          ],
          "contour": [
           {
            "colorbar": {
             "outlinewidth": 0,
             "ticks": ""
            },
            "colorscale": [
             [
              0,
              "#0d0887"
             ],
             [
              0.1111111111111111,
              "#46039f"
             ],
             [
              0.2222222222222222,
              "#7201a8"
             ],
             [
              0.3333333333333333,
              "#9c179e"
             ],
             [
              0.4444444444444444,
              "#bd3786"
             ],
             [
              0.5555555555555556,
              "#d8576b"
             ],
             [
              0.6666666666666666,
              "#ed7953"
             ],
             [
              0.7777777777777778,
              "#fb9f3a"
             ],
             [
              0.8888888888888888,
              "#fdca26"
             ],
             [
              1,
              "#f0f921"
             ]
            ],
            "type": "contour"
           }
          ],
          "contourcarpet": [
           {
            "colorbar": {
             "outlinewidth": 0,
             "ticks": ""
            },
            "type": "contourcarpet"
           }
          ],
          "heatmap": [
           {
            "colorbar": {
             "outlinewidth": 0,
             "ticks": ""
            },
            "colorscale": [
             [
              0,
              "#0d0887"
             ],
             [
              0.1111111111111111,
              "#46039f"
             ],
             [
              0.2222222222222222,
              "#7201a8"
             ],
             [
              0.3333333333333333,
              "#9c179e"
             ],
             [
              0.4444444444444444,
              "#bd3786"
             ],
             [
              0.5555555555555556,
              "#d8576b"
             ],
             [
              0.6666666666666666,
              "#ed7953"
             ],
             [
              0.7777777777777778,
              "#fb9f3a"
             ],
             [
              0.8888888888888888,
              "#fdca26"
             ],
             [
              1,
              "#f0f921"
             ]
            ],
            "type": "heatmap"
           }
          ],
          "histogram": [
           {
            "marker": {
             "pattern": {
              "fillmode": "overlay",
              "size": 10,
              "solidity": 0.2
             }
            },
            "type": "histogram"
           }
          ],
          "histogram2d": [
           {
            "colorbar": {
             "outlinewidth": 0,
             "ticks": ""
            },
            "colorscale": [
             [
              0,
              "#0d0887"
             ],
             [
              0.1111111111111111,
              "#46039f"
             ],
             [
              0.2222222222222222,
              "#7201a8"
             ],
             [
              0.3333333333333333,
              "#9c179e"
             ],
             [
              0.4444444444444444,
              "#bd3786"
             ],
             [
              0.5555555555555556,
              "#d8576b"
             ],
             [
              0.6666666666666666,
              "#ed7953"
             ],
             [
              0.7777777777777778,
              "#fb9f3a"
             ],
             [
              0.8888888888888888,
              "#fdca26"
             ],
             [
              1,
              "#f0f921"
             ]
            ],
            "type": "histogram2d"
           }
          ],
          "histogram2dcontour": [
           {
            "colorbar": {
             "outlinewidth": 0,
             "ticks": ""
            },
            "colorscale": [
             [
              0,
              "#0d0887"
             ],
             [
              0.1111111111111111,
              "#46039f"
             ],
             [
              0.2222222222222222,
              "#7201a8"
             ],
             [
              0.3333333333333333,
              "#9c179e"
             ],
             [
              0.4444444444444444,
              "#bd3786"
             ],
             [
              0.5555555555555556,
              "#d8576b"
             ],
             [
              0.6666666666666666,
              "#ed7953"
             ],
             [
              0.7777777777777778,
              "#fb9f3a"
             ],
             [
              0.8888888888888888,
              "#fdca26"
             ],
             [
              1,
              "#f0f921"
             ]
            ],
            "type": "histogram2dcontour"
           }
          ],
          "mesh3d": [
           {
            "colorbar": {
             "outlinewidth": 0,
             "ticks": ""
            },
            "type": "mesh3d"
           }
          ],
          "parcoords": [
           {
            "line": {
             "colorbar": {
              "outlinewidth": 0,
              "ticks": ""
             }
            },
            "type": "parcoords"
           }
          ],
          "pie": [
           {
            "automargin": true,
            "type": "pie"
           }
          ],
          "scatter": [
           {
            "fillpattern": {
             "fillmode": "overlay",
             "size": 10,
             "solidity": 0.2
            },
            "type": "scatter"
           }
          ],
          "scatter3d": [
           {
            "line": {
             "colorbar": {
              "outlinewidth": 0,
              "ticks": ""
             }
            },
            "marker": {
             "colorbar": {
              "outlinewidth": 0,
              "ticks": ""
             }
            },
            "type": "scatter3d"
           }
          ],
          "scattercarpet": [
           {
            "marker": {
             "colorbar": {
              "outlinewidth": 0,
              "ticks": ""
             }
            },
            "type": "scattercarpet"
           }
          ],
          "scattergeo": [
           {
            "marker": {
             "colorbar": {
              "outlinewidth": 0,
              "ticks": ""
             }
            },
            "type": "scattergeo"
           }
          ],
          "scattergl": [
           {
            "marker": {
             "colorbar": {
              "outlinewidth": 0,
              "ticks": ""
             }
            },
            "type": "scattergl"
           }
          ],
          "scattermap": [
           {
            "marker": {
             "colorbar": {
              "outlinewidth": 0,
              "ticks": ""
             }
            },
            "type": "scattermap"
           }
          ],
          "scattermapbox": [
           {
            "marker": {
             "colorbar": {
              "outlinewidth": 0,
              "ticks": ""
             }
            },
            "type": "scattermapbox"
           }
          ],
          "scatterpolar": [
           {
            "marker": {
             "colorbar": {
              "outlinewidth": 0,
              "ticks": ""
             }
            },
            "type": "scatterpolar"
           }
          ],
          "scatterpolargl": [
           {
            "marker": {
             "colorbar": {
              "outlinewidth": 0,
              "ticks": ""
             }
            },
            "type": "scatterpolargl"
           }
          ],
          "scatterternary": [
           {
            "marker": {
             "colorbar": {
              "outlinewidth": 0,
              "ticks": ""
             }
            },
            "type": "scatterternary"
           }
          ],
          "surface": [
           {
            "colorbar": {
             "outlinewidth": 0,
             "ticks": ""
            },
            "colorscale": [
             [
              0,
              "#0d0887"
             ],
             [
              0.1111111111111111,
              "#46039f"
             ],
             [
              0.2222222222222222,
              "#7201a8"
             ],
             [
              0.3333333333333333,
              "#9c179e"
             ],
             [
              0.4444444444444444,
              "#bd3786"
             ],
             [
              0.5555555555555556,
              "#d8576b"
             ],
             [
              0.6666666666666666,
              "#ed7953"
             ],
             [
              0.7777777777777778,
              "#fb9f3a"
             ],
             [
              0.8888888888888888,
              "#fdca26"
             ],
             [
              1,
              "#f0f921"
             ]
            ],
            "type": "surface"
           }
          ],
          "table": [
           {
            "cells": {
             "fill": {
              "color": "#EBF0F8"
             },
             "line": {
              "color": "white"
             }
            },
            "header": {
             "fill": {
              "color": "#C8D4E3"
             },
             "line": {
              "color": "white"
             }
            },
            "type": "table"
           }
          ]
         },
         "layout": {
          "annotationdefaults": {
           "arrowcolor": "#2a3f5f",
           "arrowhead": 0,
           "arrowwidth": 1
          },
          "autotypenumbers": "strict",
          "coloraxis": {
           "colorbar": {
            "outlinewidth": 0,
            "ticks": ""
           }
          },
          "colorscale": {
           "diverging": [
            [
             0,
             "#8e0152"
            ],
            [
             0.1,
             "#c51b7d"
            ],
            [
             0.2,
             "#de77ae"
            ],
            [
             0.3,
             "#f1b6da"
            ],
            [
             0.4,
             "#fde0ef"
            ],
            [
             0.5,
             "#f7f7f7"
            ],
            [
             0.6,
             "#e6f5d0"
            ],
            [
             0.7,
             "#b8e186"
            ],
            [
             0.8,
             "#7fbc41"
            ],
            [
             0.9,
             "#4d9221"
            ],
            [
             1,
             "#276419"
            ]
           ],
           "sequential": [
            [
             0,
             "#0d0887"
            ],
            [
             0.1111111111111111,
             "#46039f"
            ],
            [
             0.2222222222222222,
             "#7201a8"
            ],
            [
             0.3333333333333333,
             "#9c179e"
            ],
            [
             0.4444444444444444,
             "#bd3786"
            ],
            [
             0.5555555555555556,
             "#d8576b"
            ],
            [
             0.6666666666666666,
             "#ed7953"
            ],
            [
             0.7777777777777778,
             "#fb9f3a"
            ],
            [
             0.8888888888888888,
             "#fdca26"
            ],
            [
             1,
             "#f0f921"
            ]
           ],
           "sequentialminus": [
            [
             0,
             "#0d0887"
            ],
            [
             0.1111111111111111,
             "#46039f"
            ],
            [
             0.2222222222222222,
             "#7201a8"
            ],
            [
             0.3333333333333333,
             "#9c179e"
            ],
            [
             0.4444444444444444,
             "#bd3786"
            ],
            [
             0.5555555555555556,
             "#d8576b"
            ],
            [
             0.6666666666666666,
             "#ed7953"
            ],
            [
             0.7777777777777778,
             "#fb9f3a"
            ],
            [
             0.8888888888888888,
             "#fdca26"
            ],
            [
             1,
             "#f0f921"
            ]
           ]
          },
          "colorway": [
           "#636efa",
           "#EF553B",
           "#00cc96",
           "#ab63fa",
           "#FFA15A",
           "#19d3f3",
           "#FF6692",
           "#B6E880",
           "#FF97FF",
           "#FECB52"
          ],
          "font": {
           "color": "#2a3f5f"
          },
          "geo": {
           "bgcolor": "white",
           "lakecolor": "white",
           "landcolor": "white",
           "showlakes": true,
           "showland": true,
           "subunitcolor": "#C8D4E3"
          },
          "hoverlabel": {
           "align": "left"
          },
          "hovermode": "closest",
          "mapbox": {
           "style": "light"
          },
          "paper_bgcolor": "white",
          "plot_bgcolor": "white",
          "polar": {
           "angularaxis": {
            "gridcolor": "#EBF0F8",
            "linecolor": "#EBF0F8",
            "ticks": ""
           },
           "bgcolor": "white",
           "radialaxis": {
            "gridcolor": "#EBF0F8",
            "linecolor": "#EBF0F8",
            "ticks": ""
           }
          },
          "scene": {
           "xaxis": {
            "backgroundcolor": "white",
            "gridcolor": "#DFE8F3",
            "gridwidth": 2,
            "linecolor": "#EBF0F8",
            "showbackground": true,
            "ticks": "",
            "zerolinecolor": "#EBF0F8"
           },
           "yaxis": {
            "backgroundcolor": "white",
            "gridcolor": "#DFE8F3",
            "gridwidth": 2,
            "linecolor": "#EBF0F8",
            "showbackground": true,
            "ticks": "",
            "zerolinecolor": "#EBF0F8"
           },
           "zaxis": {
            "backgroundcolor": "white",
            "gridcolor": "#DFE8F3",
            "gridwidth": 2,
            "linecolor": "#EBF0F8",
            "showbackground": true,
            "ticks": "",
            "zerolinecolor": "#EBF0F8"
           }
          },
          "shapedefaults": {
           "line": {
            "color": "#2a3f5f"
           }
          },
          "ternary": {
           "aaxis": {
            "gridcolor": "#DFE8F3",
            "linecolor": "#A2B1C6",
            "ticks": ""
           },
           "baxis": {
            "gridcolor": "#DFE8F3",
            "linecolor": "#A2B1C6",
            "ticks": ""
           },
           "bgcolor": "white",
           "caxis": {
            "gridcolor": "#DFE8F3",
            "linecolor": "#A2B1C6",
            "ticks": ""
           }
          },
          "title": {
           "x": 0.05
          },
          "xaxis": {
           "automargin": true,
           "gridcolor": "#EBF0F8",
           "linecolor": "#EBF0F8",
           "ticks": "",
           "title": {
            "standoff": 15
           },
           "zerolinecolor": "#EBF0F8",
           "zerolinewidth": 2
          },
          "yaxis": {
           "automargin": true,
           "gridcolor": "#EBF0F8",
           "linecolor": "#EBF0F8",
           "ticks": "",
           "title": {
            "standoff": 15
           },
           "zerolinecolor": "#EBF0F8",
           "zerolinewidth": 2
          }
         }
        },
        "title": {
         "text": "Top 10 Countries: Plastic Waste Generation (Last 10 Years)"
        },
        "xaxis": {
         "title": {
          "text": "Year"
         }
        },
        "yaxis": {
         "title": {
          "text": "Plastic Waste (Kilograms)"
         }
        }
       }
      }
     },
     "metadata": {},
     "output_type": "display_data"
    }
   ],
   "source": [
    "\n",
    "\n",
    "# Filter the last 10 years\n",
    "last_10_years = sorted(df_packaging_recy['TIME_PERIOD'].unique())[-10:]\n",
    "df_recent = df_packaging_recy[df_packaging_recy['TIME_PERIOD'].isin(last_10_years)]\n",
    "\n",
    "# Group by country and sum plastic waste over last 10 years\n",
    "country_totals = df_recent.groupby('Geopolitical entity (reporting)')['OBS_VALUE'].sum().sort_values(ascending=False)\n",
    "\n",
    "# Get top 10 countries\n",
    "top10_countries = country_totals.head(10).index.tolist()\n",
    "top3 = top10_countries[:3]\n",
    "rest7 = top10_countries[3:]\n",
    "\n",
    "# Filter data only for top 10 countries\n",
    "df_top10 = df_recent[df_recent['Geopolitical entity (reporting)'].isin(top10_countries)]\n",
    "\n",
    "# Create figure\n",
    "fig = go.Figure()\n",
    "\n",
    "# Add top 3 countries with vibrant colors\n",
    "highlight_colors = ['red', 'blue', 'green']\n",
    "for i, country in enumerate(top3):\n",
    "    df_country = df_top10[df_top10['Geopolitical entity (reporting)'] == country]\n",
    "    fig.add_trace(go.Scatter(\n",
    "        x=df_country['TIME_PERIOD'],\n",
    "        y=df_country['OBS_VALUE'],\n",
    "        mode='lines+markers',\n",
    "        name=country,\n",
    "        line=dict(color=highlight_colors[i], width=3),\n",
    "        marker=dict(size=6)\n",
    "    ))\n",
    "\n",
    "# Add rest of top 10 countries with subtle grey color\n",
    "for country in rest7:\n",
    "    df_country = df_top10[df_top10['Geopolitical entity (reporting)'] == country]\n",
    "    fig.add_trace(go.Scatter(\n",
    "        x=df_country['TIME_PERIOD'],\n",
    "        y=df_country['OBS_VALUE'],\n",
    "        mode='lines',\n",
    "        name=country,\n",
    "        line=dict(color='lightgrey', width=1.5),\n",
    "        showlegend=True\n",
    "    ))\n",
    "\n",
    "# Layout customization\n",
    "fig.update_layout(\n",
    "    title='Top 10 Countries: Plastic Waste Generation (Last 10 Years)',\n",
    "    xaxis_title='Year',\n",
    "    yaxis_title='Plastic Waste (Kilograms)',\n",
    "    template='plotly_white',\n",
    "    legend_title='Country',\n",
    "    hovermode='x unified'\n",
    ")\n",
    "\n",
    "fig.show()\n"
   ]
  },
  {
   "cell_type": "markdown",
   "metadata": {},
   "source": [
    "Municipal waste Generation"
   ]
  },
  {
   "cell_type": "code",
   "execution_count": 24,
   "metadata": {},
   "outputs": [],
   "source": [
    "df_municipal_waste = pd.read_csv(\"./Dataset_CE/municipal_waste_per_capita.csv\")"
   ]
  },
  {
   "cell_type": "code",
   "execution_count": 101,
   "metadata": {},
   "outputs": [],
   "source": [
    "df_municipal_waste_recycle = pd.read_csv(\"./Dataset_CE/Recycling_rate_of_municipal_waste.csv\")"
   ]
  },
  {
   "cell_type": "code",
   "execution_count": null,
   "metadata": {},
   "outputs": [
    {
     "data": {
      "application/vnd.plotly.v1+json": {
       "config": {
        "plotlyServerURL": "https://plot.ly"
       },
       "data": [
        {
         "line": {
          "color": "#1f77b4",
          "width": 3
         },
         "marker": {
          "size": 6
         },
         "mode": "lines+markers",
         "name": "Luxembourg",
         "type": "scatter",
         "x": {
          "bdata": "2gfbB9wH3QfeB98H4AfhB+IH4wfkB+UH5gfnBw==",
          "dtype": "i2"
         },
         "y": {
          "bdata": "pwKaAowCaAJyAl8CLwMeAyMDFwMWAxkD0QLIAg==",
          "dtype": "i2"
         }
        },
        {
         "line": {
          "color": "#2a9fd6",
          "width": 3
         },
         "marker": {
          "size": 6
         },
         "mode": "lines+markers",
         "name": "Denmark",
         "type": "scatter",
         "x": {
          "bdata": "2wfcB90H3gffB+AH4QfiB+MH5AflB+YH",
          "dtype": "i2"
         },
         "y": {
          "bdata": "XgMmAy0DKAM2Az4DNAMuA0wDLgMBAyID",
          "dtype": "i2"
         }
        },
        {
         "line": {
          "color": "#99ccff",
          "width": 3
         },
         "marker": {
          "size": 6
         },
         "mode": "lines+markers",
         "name": "Cyprus",
         "type": "scatter",
         "x": {
          "bdata": "2gfbB9wH3QfeB98H4AfhB+IH4wfkB+UH5gfnBw==",
          "dtype": "i2"
         },
         "y": {
          "bdata": "xwK0AqkCewJrAn0CiQKCApYCmAJxAooCoQKiAg==",
          "dtype": "i2"
         }
        },
        {
         "line": {
          "color": "crimson",
          "width": 3
         },
         "marker": {
          "size": 6,
          "symbol": "circle"
         },
         "mode": "lines+markers",
         "name": "Germany",
         "type": "scatter",
         "x": {
          "bdata": "2gfbB9wH3QfeB98H4AfhB+IH4wfkB+UH5gfnBw==",
          "dtype": "i2"
         },
         "y": {
          "bdata": "WgJyAmsCZwJ3AngCeQJzAl4CYQKBAosCXgJZAg==",
          "dtype": "i2"
         }
        },
        {
         "line": {
          "color": "#cccccc",
          "width": 1.5
         },
         "mode": "lines",
         "name": "Switzerland",
         "showlegend": true,
         "type": "scatter",
         "x": {
          "bdata": "2gfbB9wH3QfeB98H4AfhB+IH4wfkB+UH5gc=",
          "dtype": "i2"
         },
         "y": {
          "bdata": "xwK0ArkCwgLdAtgC0wLFAsICxQLCAsACpQI=",
          "dtype": "i2"
         }
        },
        {
         "line": {
          "color": "#bbbbbb",
          "width": 1.5
         },
         "mode": "lines",
         "name": "Malta",
         "showlegend": true,
         "type": "scatter",
         "x": {
          "bdata": "2gfbB9wH3QfeB98H4AfhB+IH4wfkB+UH5gfnBw==",
          "dtype": "i2"
         },
         "y": {
          "bdata": "bwJuAmQCXAJ1AoMCgwKbAqECuQKCAmMCagJeAg==",
          "dtype": "i2"
         }
        },
        {
         "line": {
          "color": "#aaaaaa",
          "width": 1.5
         },
         "mode": "lines",
         "name": "Norway",
         "showlegend": true,
         "type": "scatter",
         "x": {
          "bdata": "2gfbB9wH3QfeB98H4AfhB+IH4wfkB+UH5gfnBw==",
          "dtype": "i2"
         },
         "y": {
          "bdata": "1QHlAd0B8AGnAaUB8gLsAuMCCAPWAh8DAAPUAg==",
          "dtype": "i2"
         }
        },
        {
         "line": {
          "color": "#999999",
          "width": 1.5
         },
         "mode": "lines",
         "name": "Austria",
         "showlegend": true,
         "type": "scatter",
         "x": {
          "bdata": "2gfbB9wH3QfeB98H4AfhB+IH4wfkB+UH5gc=",
          "dtype": "i2"
         },
         "y": {
          "bdata": "MgI9AkMCQgI1AjACNAI6AkMCTAJCA0MDIwM=",
          "dtype": "i2"
         }
        },
        {
         "line": {
          "color": "#888888",
          "width": 1.5
         },
         "mode": "lines",
         "name": "France",
         "showlegend": true,
         "type": "scatter",
         "x": {
          "bdata": "2gfbB9wH3QfeB98H4AfhB+IH4wfkB+UH5gfnBw==",
          "dtype": "i2"
         },
         "y": {
          "bdata": "FgIWAg8CCAIFAgQCKQIuAi0CKwIaAjQCFwISAg==",
          "dtype": "i2"
         }
        },
        {
         "line": {
          "color": "#777777",
          "width": 1.5
         },
         "mode": "lines",
         "name": "Finland",
         "showlegend": true,
         "type": "scatter",
         "x": {
          "bdata": "2gfbB9wH3QfeB98H4AfhB+IH4wfkB+UH5gfnBw==",
          "dtype": "i2"
         },
         "y": {
          "bdata": "1gH5AfoB7QHiAfQB+AH+AScCNgJhAnYCCgLUAQ==",
          "dtype": "i2"
         }
        }
       ],
       "layout": {
        "hovermode": "x unified",
        "legend": {
         "title": {
          "text": "Country"
         }
        },
        "template": {
         "data": {
          "bar": [
           {
            "error_x": {
             "color": "#2a3f5f"
            },
            "error_y": {
             "color": "#2a3f5f"
            },
            "marker": {
             "line": {
              "color": "white",
              "width": 0.5
             },
             "pattern": {
              "fillmode": "overlay",
              "size": 10,
              "solidity": 0.2
             }
            },
            "type": "bar"
           }
          ],
          "barpolar": [
           {
            "marker": {
             "line": {
              "color": "white",
              "width": 0.5
             },
             "pattern": {
              "fillmode": "overlay",
              "size": 10,
              "solidity": 0.2
             }
            },
            "type": "barpolar"
           }
          ],
          "carpet": [
           {
            "aaxis": {
             "endlinecolor": "#2a3f5f",
             "gridcolor": "#C8D4E3",
             "linecolor": "#C8D4E3",
             "minorgridcolor": "#C8D4E3",
             "startlinecolor": "#2a3f5f"
            },
            "baxis": {
             "endlinecolor": "#2a3f5f",
             "gridcolor": "#C8D4E3",
             "linecolor": "#C8D4E3",
             "minorgridcolor": "#C8D4E3",
             "startlinecolor": "#2a3f5f"
            },
            "type": "carpet"
           }
          ],
          "choropleth": [
           {
            "colorbar": {
             "outlinewidth": 0,
             "ticks": ""
            },
            "type": "choropleth"
           }
          ],
          "contour": [
           {
            "colorbar": {
             "outlinewidth": 0,
             "ticks": ""
            },
            "colorscale": [
             [
              0,
              "#0d0887"
             ],
             [
              0.1111111111111111,
              "#46039f"
             ],
             [
              0.2222222222222222,
              "#7201a8"
             ],
             [
              0.3333333333333333,
              "#9c179e"
             ],
             [
              0.4444444444444444,
              "#bd3786"
             ],
             [
              0.5555555555555556,
              "#d8576b"
             ],
             [
              0.6666666666666666,
              "#ed7953"
             ],
             [
              0.7777777777777778,
              "#fb9f3a"
             ],
             [
              0.8888888888888888,
              "#fdca26"
             ],
             [
              1,
              "#f0f921"
             ]
            ],
            "type": "contour"
           }
          ],
          "contourcarpet": [
           {
            "colorbar": {
             "outlinewidth": 0,
             "ticks": ""
            },
            "type": "contourcarpet"
           }
          ],
          "heatmap": [
           {
            "colorbar": {
             "outlinewidth": 0,
             "ticks": ""
            },
            "colorscale": [
             [
              0,
              "#0d0887"
             ],
             [
              0.1111111111111111,
              "#46039f"
             ],
             [
              0.2222222222222222,
              "#7201a8"
             ],
             [
              0.3333333333333333,
              "#9c179e"
             ],
             [
              0.4444444444444444,
              "#bd3786"
             ],
             [
              0.5555555555555556,
              "#d8576b"
             ],
             [
              0.6666666666666666,
              "#ed7953"
             ],
             [
              0.7777777777777778,
              "#fb9f3a"
             ],
             [
              0.8888888888888888,
              "#fdca26"
             ],
             [
              1,
              "#f0f921"
             ]
            ],
            "type": "heatmap"
           }
          ],
          "histogram": [
           {
            "marker": {
             "pattern": {
              "fillmode": "overlay",
              "size": 10,
              "solidity": 0.2
             }
            },
            "type": "histogram"
           }
          ],
          "histogram2d": [
           {
            "colorbar": {
             "outlinewidth": 0,
             "ticks": ""
            },
            "colorscale": [
             [
              0,
              "#0d0887"
             ],
             [
              0.1111111111111111,
              "#46039f"
             ],
             [
              0.2222222222222222,
              "#7201a8"
             ],
             [
              0.3333333333333333,
              "#9c179e"
             ],
             [
              0.4444444444444444,
              "#bd3786"
             ],
             [
              0.5555555555555556,
              "#d8576b"
             ],
             [
              0.6666666666666666,
              "#ed7953"
             ],
             [
              0.7777777777777778,
              "#fb9f3a"
             ],
             [
              0.8888888888888888,
              "#fdca26"
             ],
             [
              1,
              "#f0f921"
             ]
            ],
            "type": "histogram2d"
           }
          ],
          "histogram2dcontour": [
           {
            "colorbar": {
             "outlinewidth": 0,
             "ticks": ""
            },
            "colorscale": [
             [
              0,
              "#0d0887"
             ],
             [
              0.1111111111111111,
              "#46039f"
             ],
             [
              0.2222222222222222,
              "#7201a8"
             ],
             [
              0.3333333333333333,
              "#9c179e"
             ],
             [
              0.4444444444444444,
              "#bd3786"
             ],
             [
              0.5555555555555556,
              "#d8576b"
             ],
             [
              0.6666666666666666,
              "#ed7953"
             ],
             [
              0.7777777777777778,
              "#fb9f3a"
             ],
             [
              0.8888888888888888,
              "#fdca26"
             ],
             [
              1,
              "#f0f921"
             ]
            ],
            "type": "histogram2dcontour"
           }
          ],
          "mesh3d": [
           {
            "colorbar": {
             "outlinewidth": 0,
             "ticks": ""
            },
            "type": "mesh3d"
           }
          ],
          "parcoords": [
           {
            "line": {
             "colorbar": {
              "outlinewidth": 0,
              "ticks": ""
             }
            },
            "type": "parcoords"
           }
          ],
          "pie": [
           {
            "automargin": true,
            "type": "pie"
           }
          ],
          "scatter": [
           {
            "fillpattern": {
             "fillmode": "overlay",
             "size": 10,
             "solidity": 0.2
            },
            "type": "scatter"
           }
          ],
          "scatter3d": [
           {
            "line": {
             "colorbar": {
              "outlinewidth": 0,
              "ticks": ""
             }
            },
            "marker": {
             "colorbar": {
              "outlinewidth": 0,
              "ticks": ""
             }
            },
            "type": "scatter3d"
           }
          ],
          "scattercarpet": [
           {
            "marker": {
             "colorbar": {
              "outlinewidth": 0,
              "ticks": ""
             }
            },
            "type": "scattercarpet"
           }
          ],
          "scattergeo": [
           {
            "marker": {
             "colorbar": {
              "outlinewidth": 0,
              "ticks": ""
             }
            },
            "type": "scattergeo"
           }
          ],
          "scattergl": [
           {
            "marker": {
             "colorbar": {
              "outlinewidth": 0,
              "ticks": ""
             }
            },
            "type": "scattergl"
           }
          ],
          "scattermap": [
           {
            "marker": {
             "colorbar": {
              "outlinewidth": 0,
              "ticks": ""
             }
            },
            "type": "scattermap"
           }
          ],
          "scattermapbox": [
           {
            "marker": {
             "colorbar": {
              "outlinewidth": 0,
              "ticks": ""
             }
            },
            "type": "scattermapbox"
           }
          ],
          "scatterpolar": [
           {
            "marker": {
             "colorbar": {
              "outlinewidth": 0,
              "ticks": ""
             }
            },
            "type": "scatterpolar"
           }
          ],
          "scatterpolargl": [
           {
            "marker": {
             "colorbar": {
              "outlinewidth": 0,
              "ticks": ""
             }
            },
            "type": "scatterpolargl"
           }
          ],
          "scatterternary": [
           {
            "marker": {
             "colorbar": {
              "outlinewidth": 0,
              "ticks": ""
             }
            },
            "type": "scatterternary"
           }
          ],
          "surface": [
           {
            "colorbar": {
             "outlinewidth": 0,
             "ticks": ""
            },
            "colorscale": [
             [
              0,
              "#0d0887"
             ],
             [
              0.1111111111111111,
              "#46039f"
             ],
             [
              0.2222222222222222,
              "#7201a8"
             ],
             [
              0.3333333333333333,
              "#9c179e"
             ],
             [
              0.4444444444444444,
              "#bd3786"
             ],
             [
              0.5555555555555556,
              "#d8576b"
             ],
             [
              0.6666666666666666,
              "#ed7953"
             ],
             [
              0.7777777777777778,
              "#fb9f3a"
             ],
             [
              0.8888888888888888,
              "#fdca26"
             ],
             [
              1,
              "#f0f921"
             ]
            ],
            "type": "surface"
           }
          ],
          "table": [
           {
            "cells": {
             "fill": {
              "color": "#EBF0F8"
             },
             "line": {
              "color": "white"
             }
            },
            "header": {
             "fill": {
              "color": "#C8D4E3"
             },
             "line": {
              "color": "white"
             }
            },
            "type": "table"
           }
          ]
         },
         "layout": {
          "annotationdefaults": {
           "arrowcolor": "#2a3f5f",
           "arrowhead": 0,
           "arrowwidth": 1
          },
          "autotypenumbers": "strict",
          "coloraxis": {
           "colorbar": {
            "outlinewidth": 0,
            "ticks": ""
           }
          },
          "colorscale": {
           "diverging": [
            [
             0,
             "#8e0152"
            ],
            [
             0.1,
             "#c51b7d"
            ],
            [
             0.2,
             "#de77ae"
            ],
            [
             0.3,
             "#f1b6da"
            ],
            [
             0.4,
             "#fde0ef"
            ],
            [
             0.5,
             "#f7f7f7"
            ],
            [
             0.6,
             "#e6f5d0"
            ],
            [
             0.7,
             "#b8e186"
            ],
            [
             0.8,
             "#7fbc41"
            ],
            [
             0.9,
             "#4d9221"
            ],
            [
             1,
             "#276419"
            ]
           ],
           "sequential": [
            [
             0,
             "#0d0887"
            ],
            [
             0.1111111111111111,
             "#46039f"
            ],
            [
             0.2222222222222222,
             "#7201a8"
            ],
            [
             0.3333333333333333,
             "#9c179e"
            ],
            [
             0.4444444444444444,
             "#bd3786"
            ],
            [
             0.5555555555555556,
             "#d8576b"
            ],
            [
             0.6666666666666666,
             "#ed7953"
            ],
            [
             0.7777777777777778,
             "#fb9f3a"
            ],
            [
             0.8888888888888888,
             "#fdca26"
            ],
            [
             1,
             "#f0f921"
            ]
           ],
           "sequentialminus": [
            [
             0,
             "#0d0887"
            ],
            [
             0.1111111111111111,
             "#46039f"
            ],
            [
             0.2222222222222222,
             "#7201a8"
            ],
            [
             0.3333333333333333,
             "#9c179e"
            ],
            [
             0.4444444444444444,
             "#bd3786"
            ],
            [
             0.5555555555555556,
             "#d8576b"
            ],
            [
             0.6666666666666666,
             "#ed7953"
            ],
            [
             0.7777777777777778,
             "#fb9f3a"
            ],
            [
             0.8888888888888888,
             "#fdca26"
            ],
            [
             1,
             "#f0f921"
            ]
           ]
          },
          "colorway": [
           "#636efa",
           "#EF553B",
           "#00cc96",
           "#ab63fa",
           "#FFA15A",
           "#19d3f3",
           "#FF6692",
           "#B6E880",
           "#FF97FF",
           "#FECB52"
          ],
          "font": {
           "color": "#2a3f5f"
          },
          "geo": {
           "bgcolor": "white",
           "lakecolor": "white",
           "landcolor": "white",
           "showlakes": true,
           "showland": true,
           "subunitcolor": "#C8D4E3"
          },
          "hoverlabel": {
           "align": "left"
          },
          "hovermode": "closest",
          "mapbox": {
           "style": "light"
          },
          "paper_bgcolor": "white",
          "plot_bgcolor": "white",
          "polar": {
           "angularaxis": {
            "gridcolor": "#EBF0F8",
            "linecolor": "#EBF0F8",
            "ticks": ""
           },
           "bgcolor": "white",
           "radialaxis": {
            "gridcolor": "#EBF0F8",
            "linecolor": "#EBF0F8",
            "ticks": ""
           }
          },
          "scene": {
           "xaxis": {
            "backgroundcolor": "white",
            "gridcolor": "#DFE8F3",
            "gridwidth": 2,
            "linecolor": "#EBF0F8",
            "showbackground": true,
            "ticks": "",
            "zerolinecolor": "#EBF0F8"
           },
           "yaxis": {
            "backgroundcolor": "white",
            "gridcolor": "#DFE8F3",
            "gridwidth": 2,
            "linecolor": "#EBF0F8",
            "showbackground": true,
            "ticks": "",
            "zerolinecolor": "#EBF0F8"
           },
           "zaxis": {
            "backgroundcolor": "white",
            "gridcolor": "#DFE8F3",
            "gridwidth": 2,
            "linecolor": "#EBF0F8",
            "showbackground": true,
            "ticks": "",
            "zerolinecolor": "#EBF0F8"
           }
          },
          "shapedefaults": {
           "line": {
            "color": "#2a3f5f"
           }
          },
          "ternary": {
           "aaxis": {
            "gridcolor": "#DFE8F3",
            "linecolor": "#A2B1C6",
            "ticks": ""
           },
           "baxis": {
            "gridcolor": "#DFE8F3",
            "linecolor": "#A2B1C6",
            "ticks": ""
           },
           "bgcolor": "white",
           "caxis": {
            "gridcolor": "#DFE8F3",
            "linecolor": "#A2B1C6",
            "ticks": ""
           }
          },
          "title": {
           "x": 0.05
          },
          "xaxis": {
           "automargin": true,
           "gridcolor": "#EBF0F8",
           "linecolor": "#EBF0F8",
           "ticks": "",
           "title": {
            "standoff": 15
           },
           "zerolinecolor": "#EBF0F8",
           "zerolinewidth": 2
          },
          "yaxis": {
           "automargin": true,
           "gridcolor": "#EBF0F8",
           "linecolor": "#EBF0F8",
           "ticks": "",
           "title": {
            "standoff": 15
           },
           "zerolinecolor": "#EBF0F8",
           "zerolinewidth": 2
          }
         }
        },
        "title": {
         "text": "Top 10 Countries: Municipal Waste Generation (Last 20 Years)"
        },
        "xaxis": {
         "title": {
          "text": "Year"
         }
        },
        "yaxis": {
         "rangemode": "tozero",
         "title": {
          "text": "Plastic Waste (Kilograms)"
         }
        }
       }
      }
     },
     "metadata": {},
     "output_type": "display_data"
    }
   ],
   "source": [
    "\n",
    "\n",
    "# Filter the last 10 years\n",
    "last_10_years = sorted(df_municipal_waste['TIME_PERIOD'].unique())[-20:]\n",
    "df_recent = df_municipal_waste[df_municipal_waste['TIME_PERIOD'].isin(last_20_years)]\n",
    "\n",
    "# Group by country and sum plastic waste over last 10 years\n",
    "country_totals = df_recent.groupby('Geopolitical entity (reporting)')['OBS_VALUE'].sum().sort_values(ascending=False)\n",
    "\n",
    "# Get top 10 countries\n",
    "top10_countries = country_totals.head(10).index.tolist()\n",
    "top3 = top10_countries[:3]\n",
    "rest = top10_countries[3:]\n",
    "\n",
    "# Check if Germany is in top 10\n",
    "germany_label = \"Germany\"\n",
    "germany_entry = [c for c in top10_countries if \"Germany\" in c]\n",
    "rest_except_germany = [c for c in rest if c != germany_entry[0]] if germany_entry else rest\n",
    "\n",
    "# Filter data only for top 10 countries\n",
    "df_top10 = df_recent[df_recent['Geopolitical entity (reporting)'].isin(top10_countries)]\n",
    "\n",
    "# Create figure\n",
    "fig = go.Figure()\n",
    "\n",
    "# Add top 3 countries with shades of blue\n",
    "top3_colors = ['#1f77b4', '#2a9fd6', '#99ccff']\n",
    "for i, country in enumerate(top3):\n",
    "    df_country = df_top10[df_top10['Geopolitical entity (reporting)'] == country]\n",
    "    fig.add_trace(go.Scatter(\n",
    "        x=df_country['TIME_PERIOD'],\n",
    "        y=df_country['OBS_VALUE'],\n",
    "        mode='lines+markers',\n",
    "        name=country,\n",
    "        line=dict(color=top3_colors[i], width=3),\n",
    "        marker=dict(size=6)\n",
    "    ))\n",
    "\n",
    "# Add Germany with a distinct color (red)\n",
    "if germany_entry:\n",
    "    df_germany = df_top10[df_top10['Geopolitical entity (reporting)'] == germany_entry[0]]\n",
    "    fig.add_trace(go.Scatter(\n",
    "        x=df_germany['TIME_PERIOD'],\n",
    "        y=df_germany['OBS_VALUE'],\n",
    "        mode='lines+markers',\n",
    "        name='Germany',\n",
    "        line=dict(color='crimson', width=3),\n",
    "        marker=dict(size=6, symbol='circle')\n",
    "    ))\n",
    "\n",
    "# Add remaining countries with subtle grey gradient\n",
    "grey_shades = ['#cccccc', '#bbbbbb', '#aaaaaa', '#999999', '#888888', '#777777']\n",
    "for i, country in enumerate(rest_except_germany):\n",
    "    df_country = df_top10[df_top10['Geopolitical entity (reporting)'] == country]\n",
    "    fig.add_trace(go.Scatter(\n",
    "        x=df_country['TIME_PERIOD'],\n",
    "        y=df_country['OBS_VALUE'],\n",
    "        mode='lines',\n",
    "        name=country,\n",
    "        line=dict(color=grey_shades[i % len(grey_shades)], width=1.5),\n",
    "        showlegend=True\n",
    "    ))\n",
    "\n",
    "# Layout customization\n",
    "fig.update_layout(\n",
    "    title='Top 10 Countries: Municipal Waste Generation (Last 10 Years)',\n",
    "    xaxis_title='Year',\n",
    "    yaxis_title='Plastic Waste (Kilograms)',\n",
    "    yaxis=dict(rangemode='tozero'),  # Start y-axis at 0\n",
    "    template='plotly_white',\n",
    "    legend_title='Country',\n",
    "    hovermode='x unified'\n",
    ")\n",
    "\n",
    "fig.show()\n"
   ]
  },
  {
   "cell_type": "code",
   "execution_count": 102,
   "metadata": {},
   "outputs": [
    {
     "data": {
      "application/vnd.plotly.v1+json": {
       "config": {
        "plotlyServerURL": "https://plot.ly"
       },
       "data": [
        {
         "line": {
          "color": "#1f77b4",
          "width": 3
         },
         "marker": {
          "size": 6
         },
         "mode": "lines+markers",
         "name": "Germany",
         "type": "scatter",
         "x": {
          "bdata": "2gfbB9wH3QfeB98H4AfhB+IH4wfkB+UH5gfnBw==",
          "dtype": "i2"
         },
         "y": {
          "bdata": "AAAAAABAT0AAAAAAAIBPQM3MzMzMTFBAZmZmZmbmT0BmZmZmZmZQQM3MzMzMrFBAZmZmZmbGUEDNzMzMzMxQQGZmZmZmxlBAzczMzMysUEAzMzMzM5NRQDMzMzMzU1FAzczMzMxMUUDNzMzMzAxRQA==",
          "dtype": "f8"
         }
        },
        {
         "line": {
          "color": "#2a9fd6",
          "width": 3
         },
         "marker": {
          "size": 6
         },
         "mode": "lines+markers",
         "name": "Austria",
         "type": "scatter",
         "x": {
          "bdata": "2gfbB9wH3QfeB98H4AfhB+IH4wfkB+UH5gc=",
          "dtype": "i2"
         },
         "y": {
          "bdata": "MzMzMzOzTUCamZmZmVlMQJqZmZmZ2UxAmpmZmZnZTEBmZmZmZiZMQDMzMzMzc0xAzczMzMzMTEBmZmZmZuZMQJqZmZmZ2UxAmpmZmZkZTUBmZmZmZiZPQAAAAAAAQE9AzczMzMxMT0A=",
          "dtype": "f8"
         }
        },
        {
         "line": {
          "color": "#99ccff",
          "width": 3
         },
         "marker": {
          "size": 6
         },
         "mode": "lines+markers",
         "name": "Belgium",
         "type": "scatter",
         "x": {
          "bdata": "2gfbB9wH3QfeB98H4AfhB+IH4wfkB+UH5gfnBw==",
          "dtype": "i2"
         },
         "y": {
          "bdata": "ZmZmZmZmS0AzMzMzMzNLQDMzMzMzs0pAZmZmZmZmSkBmZmZmZuZKQAAAAAAAwEpAAAAAAADASkAzMzMzM/NKQDMzMzMzM0tAmpmZmZlZS0AzMzMzM7NJQAAAAAAAwEtAmpmZmZlZS0AzMzMzM3NLQA==",
          "dtype": "f8"
         }
        },
        {
         "line": {
          "color": "crimson",
          "width": 3
         },
         "marker": {
          "size": 6,
          "symbol": "circle"
         },
         "mode": "lines+markers",
         "name": "Germany",
         "type": "scatter",
         "x": {
          "bdata": "2gfbB9wH3QfeB98H4AfhB+IH4wfkB+UH5gfnBw==",
          "dtype": "i2"
         },
         "y": {
          "bdata": "AAAAAABAT0AAAAAAAIBPQM3MzMzMTFBAZmZmZmbmT0BmZmZmZmZQQM3MzMzMrFBAZmZmZmbGUEDNzMzMzMxQQGZmZmZmxlBAzczMzMysUEAzMzMzM5NRQDMzMzMzU1FAzczMzMxMUUDNzMzMzAxRQA==",
          "dtype": "f8"
         }
        },
        {
         "line": {
          "color": "#cccccc",
          "width": 1.5
         },
         "mode": "lines",
         "name": "Netherlands",
         "showlegend": true,
         "type": "scatter",
         "x": {
          "bdata": "2gfbB9wH3QfeB98H4AfhB+IH4wfkB+UH5gfnBw==",
          "dtype": "i2"
         },
         "y": {
          "bdata": "mpmZmZmZSEDNzMzMzIxIQDMzMzMzs0hAZmZmZmbmSEAzMzMzM3NJQGZmZmZm5klAAAAAAADASkDNzMzMzExLQDMzMzMz80tAMzMzMzNzTEAAAAAAAIBMQGZmZmZm5kxAzczMzMzMTEAzMzMzMzNNQA==",
          "dtype": "f8"
         }
        },
        {
         "line": {
          "color": "#bbbbbb",
          "width": 1.5
         },
         "mode": "lines",
         "name": "Slovenia",
         "showlegend": true,
         "type": "scatter",
         "x": {
          "bdata": "2gfbB9wH3QfeB98H4AfhB+IH4wfkB+UH5gfnBw==",
          "dtype": "i2"
         },
         "y": {
          "bdata": "ZmZmZmZmNkCamZmZmdlBQM3MzMzMDEVAZmZmZmZmQUAAAAAAAABCQM3MzMzMDEtAAAAAAADAS0BmZmZmZuZMQDMzMzMzc01AmpmZmZmZTUBmZmZmZqZNQGZmZmZmZk5AzczMzMxMT0BmZmZmZuZNQA==",
          "dtype": "f8"
         }
        },
        {
         "line": {
          "color": "#aaaaaa",
          "width": 1.5
         },
         "mode": "lines",
         "name": "Luxembourg",
         "showlegend": true,
         "type": "scatter",
         "x": {
          "bdata": "2gfbB9wH3QfeB98H4AfhB+IH4wfkB+UH5gfnBw==",
          "dtype": "i2"
         },
         "y": {
          "bdata": "AAAAAABAR0AzMzMzMzNHQDMzMzMzs0dAZmZmZmYmR0CamZmZmdlHQDMzMzMzs0dAmpmZmZmZSEAzMzMzM3NIQAAAAAAAgEhAMzMzMzNzSEBmZmZmZmZKQGZmZmZmpktAzczMzMzMS0CamZmZmRlMQA==",
          "dtype": "f8"
         }
        },
        {
         "line": {
          "color": "#999999",
          "width": 1.5
         },
         "mode": "lines",
         "name": "Switzerland",
         "showlegend": true,
         "type": "scatter",
         "x": {
          "bdata": "2gfbB9wH3QfeB98H4AfhB+IH4wfkB+UH5gc=",
          "dtype": "i2"
         },
         "y": {
          "bdata": "AAAAAABASUDNzMzMzAxJQAAAAAAAAElAAAAAAACASUAAAAAAAMBKQJqZmZmZWUpAAAAAAABASkAAAAAAAEBKQAAAAAAAQEpAAAAAAACASkBmZmZmZmZKQGZmZmZmJkpAmpmZmZkZSkA=",
          "dtype": "f8"
         }
        },
        {
         "line": {
          "color": "#888888",
          "width": 1.5
         },
         "mode": "lines",
         "name": "Sweden",
         "showlegend": true,
         "type": "scatter",
         "x": {
          "bdata": "2gfbB9wH3QfeB98H4AfhB+IH4wfkB+UH5gfnBw==",
          "dtype": "i2"
         },
         "y": {
          "bdata": "ZmZmZmbmR0AAAAAAAIBHQDMzMzMzc0dAmpmZmZkZSEBmZmZmZqZIQM3MzMzMzEdAMzMzMzMzSEBmZmZmZmZHQGZmZmZm5kZAzczMzMxMR0BmZmZmZiZDQAAAAAAAwENAmpmZmZnZQ0AzMzMzM7NDQA==",
          "dtype": "f8"
         }
        },
        {
         "line": {
          "color": "#777777",
          "width": 1.5
         },
         "mode": "lines",
         "name": "European Union - 27 countries (from 2020)",
         "showlegend": true,
         "type": "scatter",
         "x": {
          "bdata": "2gfbB9wH3QfeB98H4AfhB+IH4wfkB+UH5gfnBw==",
          "dtype": "i2"
         },
         "y": {
          "bdata": "AAAAAAAAQ0AzMzMzM3NDQDMzMzMzc0RAAAAAAADAREAzMzMzM7NFQDMzMzMzc0ZAMzMzMzPzRkBmZmZmZiZHQDMzMzMzM0dAmpmZmZmZR0BmZmZmZmZIQDMzMzMz80hAzczMzMyMSECamZmZmRlIQA==",
          "dtype": "f8"
         }
        },
        {
         "line": {
          "color": "#cccccc",
          "width": 1.5
         },
         "mode": "lines",
         "name": "Italy",
         "showlegend": true,
         "type": "scatter",
         "x": {
          "bdata": "2gfbB9wH3QfeB98H4AfhB+IH4wfkB+UH5gc=",
          "dtype": "i2"
         },
         "y": {
          "bdata": "AAAAAAAAP0AAAAAAAMBBQDMzMzMzM0NAMzMzMzOzQ0DNzMzMzMxEQGZmZmZmJkZAMzMzMzPzRkBmZmZmZuZHQGZmZmZm5khAMzMzMzOzSUAzMzMzM7NJQDMzMzMz80lAZmZmZmamSkA=",
          "dtype": "f8"
         }
        }
       ],
       "layout": {
        "hovermode": "x unified",
        "legend": {
         "title": {
          "text": "Country"
         }
        },
        "template": {
         "data": {
          "bar": [
           {
            "error_x": {
             "color": "#2a3f5f"
            },
            "error_y": {
             "color": "#2a3f5f"
            },
            "marker": {
             "line": {
              "color": "white",
              "width": 0.5
             },
             "pattern": {
              "fillmode": "overlay",
              "size": 10,
              "solidity": 0.2
             }
            },
            "type": "bar"
           }
          ],
          "barpolar": [
           {
            "marker": {
             "line": {
              "color": "white",
              "width": 0.5
             },
             "pattern": {
              "fillmode": "overlay",
              "size": 10,
              "solidity": 0.2
             }
            },
            "type": "barpolar"
           }
          ],
          "carpet": [
           {
            "aaxis": {
             "endlinecolor": "#2a3f5f",
             "gridcolor": "#C8D4E3",
             "linecolor": "#C8D4E3",
             "minorgridcolor": "#C8D4E3",
             "startlinecolor": "#2a3f5f"
            },
            "baxis": {
             "endlinecolor": "#2a3f5f",
             "gridcolor": "#C8D4E3",
             "linecolor": "#C8D4E3",
             "minorgridcolor": "#C8D4E3",
             "startlinecolor": "#2a3f5f"
            },
            "type": "carpet"
           }
          ],
          "choropleth": [
           {
            "colorbar": {
             "outlinewidth": 0,
             "ticks": ""
            },
            "type": "choropleth"
           }
          ],
          "contour": [
           {
            "colorbar": {
             "outlinewidth": 0,
             "ticks": ""
            },
            "colorscale": [
             [
              0,
              "#0d0887"
             ],
             [
              0.1111111111111111,
              "#46039f"
             ],
             [
              0.2222222222222222,
              "#7201a8"
             ],
             [
              0.3333333333333333,
              "#9c179e"
             ],
             [
              0.4444444444444444,
              "#bd3786"
             ],
             [
              0.5555555555555556,
              "#d8576b"
             ],
             [
              0.6666666666666666,
              "#ed7953"
             ],
             [
              0.7777777777777778,
              "#fb9f3a"
             ],
             [
              0.8888888888888888,
              "#fdca26"
             ],
             [
              1,
              "#f0f921"
             ]
            ],
            "type": "contour"
           }
          ],
          "contourcarpet": [
           {
            "colorbar": {
             "outlinewidth": 0,
             "ticks": ""
            },
            "type": "contourcarpet"
           }
          ],
          "heatmap": [
           {
            "colorbar": {
             "outlinewidth": 0,
             "ticks": ""
            },
            "colorscale": [
             [
              0,
              "#0d0887"
             ],
             [
              0.1111111111111111,
              "#46039f"
             ],
             [
              0.2222222222222222,
              "#7201a8"
             ],
             [
              0.3333333333333333,
              "#9c179e"
             ],
             [
              0.4444444444444444,
              "#bd3786"
             ],
             [
              0.5555555555555556,
              "#d8576b"
             ],
             [
              0.6666666666666666,
              "#ed7953"
             ],
             [
              0.7777777777777778,
              "#fb9f3a"
             ],
             [
              0.8888888888888888,
              "#fdca26"
             ],
             [
              1,
              "#f0f921"
             ]
            ],
            "type": "heatmap"
           }
          ],
          "histogram": [
           {
            "marker": {
             "pattern": {
              "fillmode": "overlay",
              "size": 10,
              "solidity": 0.2
             }
            },
            "type": "histogram"
           }
          ],
          "histogram2d": [
           {
            "colorbar": {
             "outlinewidth": 0,
             "ticks": ""
            },
            "colorscale": [
             [
              0,
              "#0d0887"
             ],
             [
              0.1111111111111111,
              "#46039f"
             ],
             [
              0.2222222222222222,
              "#7201a8"
             ],
             [
              0.3333333333333333,
              "#9c179e"
             ],
             [
              0.4444444444444444,
              "#bd3786"
             ],
             [
              0.5555555555555556,
              "#d8576b"
             ],
             [
              0.6666666666666666,
              "#ed7953"
             ],
             [
              0.7777777777777778,
              "#fb9f3a"
             ],
             [
              0.8888888888888888,
              "#fdca26"
             ],
             [
              1,
              "#f0f921"
             ]
            ],
            "type": "histogram2d"
           }
          ],
          "histogram2dcontour": [
           {
            "colorbar": {
             "outlinewidth": 0,
             "ticks": ""
            },
            "colorscale": [
             [
              0,
              "#0d0887"
             ],
             [
              0.1111111111111111,
              "#46039f"
             ],
             [
              0.2222222222222222,
              "#7201a8"
             ],
             [
              0.3333333333333333,
              "#9c179e"
             ],
             [
              0.4444444444444444,
              "#bd3786"
             ],
             [
              0.5555555555555556,
              "#d8576b"
             ],
             [
              0.6666666666666666,
              "#ed7953"
             ],
             [
              0.7777777777777778,
              "#fb9f3a"
             ],
             [
              0.8888888888888888,
              "#fdca26"
             ],
             [
              1,
              "#f0f921"
             ]
            ],
            "type": "histogram2dcontour"
           }
          ],
          "mesh3d": [
           {
            "colorbar": {
             "outlinewidth": 0,
             "ticks": ""
            },
            "type": "mesh3d"
           }
          ],
          "parcoords": [
           {
            "line": {
             "colorbar": {
              "outlinewidth": 0,
              "ticks": ""
             }
            },
            "type": "parcoords"
           }
          ],
          "pie": [
           {
            "automargin": true,
            "type": "pie"
           }
          ],
          "scatter": [
           {
            "fillpattern": {
             "fillmode": "overlay",
             "size": 10,
             "solidity": 0.2
            },
            "type": "scatter"
           }
          ],
          "scatter3d": [
           {
            "line": {
             "colorbar": {
              "outlinewidth": 0,
              "ticks": ""
             }
            },
            "marker": {
             "colorbar": {
              "outlinewidth": 0,
              "ticks": ""
             }
            },
            "type": "scatter3d"
           }
          ],
          "scattercarpet": [
           {
            "marker": {
             "colorbar": {
              "outlinewidth": 0,
              "ticks": ""
             }
            },
            "type": "scattercarpet"
           }
          ],
          "scattergeo": [
           {
            "marker": {
             "colorbar": {
              "outlinewidth": 0,
              "ticks": ""
             }
            },
            "type": "scattergeo"
           }
          ],
          "scattergl": [
           {
            "marker": {
             "colorbar": {
              "outlinewidth": 0,
              "ticks": ""
             }
            },
            "type": "scattergl"
           }
          ],
          "scattermap": [
           {
            "marker": {
             "colorbar": {
              "outlinewidth": 0,
              "ticks": ""
             }
            },
            "type": "scattermap"
           }
          ],
          "scattermapbox": [
           {
            "marker": {
             "colorbar": {
              "outlinewidth": 0,
              "ticks": ""
             }
            },
            "type": "scattermapbox"
           }
          ],
          "scatterpolar": [
           {
            "marker": {
             "colorbar": {
              "outlinewidth": 0,
              "ticks": ""
             }
            },
            "type": "scatterpolar"
           }
          ],
          "scatterpolargl": [
           {
            "marker": {
             "colorbar": {
              "outlinewidth": 0,
              "ticks": ""
             }
            },
            "type": "scatterpolargl"
           }
          ],
          "scatterternary": [
           {
            "marker": {
             "colorbar": {
              "outlinewidth": 0,
              "ticks": ""
             }
            },
            "type": "scatterternary"
           }
          ],
          "surface": [
           {
            "colorbar": {
             "outlinewidth": 0,
             "ticks": ""
            },
            "colorscale": [
             [
              0,
              "#0d0887"
             ],
             [
              0.1111111111111111,
              "#46039f"
             ],
             [
              0.2222222222222222,
              "#7201a8"
             ],
             [
              0.3333333333333333,
              "#9c179e"
             ],
             [
              0.4444444444444444,
              "#bd3786"
             ],
             [
              0.5555555555555556,
              "#d8576b"
             ],
             [
              0.6666666666666666,
              "#ed7953"
             ],
             [
              0.7777777777777778,
              "#fb9f3a"
             ],
             [
              0.8888888888888888,
              "#fdca26"
             ],
             [
              1,
              "#f0f921"
             ]
            ],
            "type": "surface"
           }
          ],
          "table": [
           {
            "cells": {
             "fill": {
              "color": "#EBF0F8"
             },
             "line": {
              "color": "white"
             }
            },
            "header": {
             "fill": {
              "color": "#C8D4E3"
             },
             "line": {
              "color": "white"
             }
            },
            "type": "table"
           }
          ]
         },
         "layout": {
          "annotationdefaults": {
           "arrowcolor": "#2a3f5f",
           "arrowhead": 0,
           "arrowwidth": 1
          },
          "autotypenumbers": "strict",
          "coloraxis": {
           "colorbar": {
            "outlinewidth": 0,
            "ticks": ""
           }
          },
          "colorscale": {
           "diverging": [
            [
             0,
             "#8e0152"
            ],
            [
             0.1,
             "#c51b7d"
            ],
            [
             0.2,
             "#de77ae"
            ],
            [
             0.3,
             "#f1b6da"
            ],
            [
             0.4,
             "#fde0ef"
            ],
            [
             0.5,
             "#f7f7f7"
            ],
            [
             0.6,
             "#e6f5d0"
            ],
            [
             0.7,
             "#b8e186"
            ],
            [
             0.8,
             "#7fbc41"
            ],
            [
             0.9,
             "#4d9221"
            ],
            [
             1,
             "#276419"
            ]
           ],
           "sequential": [
            [
             0,
             "#0d0887"
            ],
            [
             0.1111111111111111,
             "#46039f"
            ],
            [
             0.2222222222222222,
             "#7201a8"
            ],
            [
             0.3333333333333333,
             "#9c179e"
            ],
            [
             0.4444444444444444,
             "#bd3786"
            ],
            [
             0.5555555555555556,
             "#d8576b"
            ],
            [
             0.6666666666666666,
             "#ed7953"
            ],
            [
             0.7777777777777778,
             "#fb9f3a"
            ],
            [
             0.8888888888888888,
             "#fdca26"
            ],
            [
             1,
             "#f0f921"
            ]
           ],
           "sequentialminus": [
            [
             0,
             "#0d0887"
            ],
            [
             0.1111111111111111,
             "#46039f"
            ],
            [
             0.2222222222222222,
             "#7201a8"
            ],
            [
             0.3333333333333333,
             "#9c179e"
            ],
            [
             0.4444444444444444,
             "#bd3786"
            ],
            [
             0.5555555555555556,
             "#d8576b"
            ],
            [
             0.6666666666666666,
             "#ed7953"
            ],
            [
             0.7777777777777778,
             "#fb9f3a"
            ],
            [
             0.8888888888888888,
             "#fdca26"
            ],
            [
             1,
             "#f0f921"
            ]
           ]
          },
          "colorway": [
           "#636efa",
           "#EF553B",
           "#00cc96",
           "#ab63fa",
           "#FFA15A",
           "#19d3f3",
           "#FF6692",
           "#B6E880",
           "#FF97FF",
           "#FECB52"
          ],
          "font": {
           "color": "#2a3f5f"
          },
          "geo": {
           "bgcolor": "white",
           "lakecolor": "white",
           "landcolor": "white",
           "showlakes": true,
           "showland": true,
           "subunitcolor": "#C8D4E3"
          },
          "hoverlabel": {
           "align": "left"
          },
          "hovermode": "closest",
          "mapbox": {
           "style": "light"
          },
          "paper_bgcolor": "white",
          "plot_bgcolor": "white",
          "polar": {
           "angularaxis": {
            "gridcolor": "#EBF0F8",
            "linecolor": "#EBF0F8",
            "ticks": ""
           },
           "bgcolor": "white",
           "radialaxis": {
            "gridcolor": "#EBF0F8",
            "linecolor": "#EBF0F8",
            "ticks": ""
           }
          },
          "scene": {
           "xaxis": {
            "backgroundcolor": "white",
            "gridcolor": "#DFE8F3",
            "gridwidth": 2,
            "linecolor": "#EBF0F8",
            "showbackground": true,
            "ticks": "",
            "zerolinecolor": "#EBF0F8"
           },
           "yaxis": {
            "backgroundcolor": "white",
            "gridcolor": "#DFE8F3",
            "gridwidth": 2,
            "linecolor": "#EBF0F8",
            "showbackground": true,
            "ticks": "",
            "zerolinecolor": "#EBF0F8"
           },
           "zaxis": {
            "backgroundcolor": "white",
            "gridcolor": "#DFE8F3",
            "gridwidth": 2,
            "linecolor": "#EBF0F8",
            "showbackground": true,
            "ticks": "",
            "zerolinecolor": "#EBF0F8"
           }
          },
          "shapedefaults": {
           "line": {
            "color": "#2a3f5f"
           }
          },
          "ternary": {
           "aaxis": {
            "gridcolor": "#DFE8F3",
            "linecolor": "#A2B1C6",
            "ticks": ""
           },
           "baxis": {
            "gridcolor": "#DFE8F3",
            "linecolor": "#A2B1C6",
            "ticks": ""
           },
           "bgcolor": "white",
           "caxis": {
            "gridcolor": "#DFE8F3",
            "linecolor": "#A2B1C6",
            "ticks": ""
           }
          },
          "title": {
           "x": 0.05
          },
          "xaxis": {
           "automargin": true,
           "gridcolor": "#EBF0F8",
           "linecolor": "#EBF0F8",
           "ticks": "",
           "title": {
            "standoff": 15
           },
           "zerolinecolor": "#EBF0F8",
           "zerolinewidth": 2
          },
          "yaxis": {
           "automargin": true,
           "gridcolor": "#EBF0F8",
           "linecolor": "#EBF0F8",
           "ticks": "",
           "title": {
            "standoff": 15
           },
           "zerolinecolor": "#EBF0F8",
           "zerolinewidth": 2
          }
         }
        },
        "title": {
         "text": "Top 10 Countries: Municipal Waste Generation (Last 10 Years)"
        },
        "xaxis": {
         "title": {
          "text": "Year"
         }
        },
        "yaxis": {
         "rangemode": "tozero",
         "title": {
          "text": "Plastic Waste (Kilograms)"
         }
        }
       }
      }
     },
     "metadata": {},
     "output_type": "display_data"
    }
   ],
   "source": [
    "\n",
    "\n",
    "\n",
    "# Filter the last 10 years\n",
    "last_10_years = sorted(df_municipal_waste_recycle['TIME_PERIOD'].unique())[-20:]\n",
    "df_recent = df_municipal_waste_recycle[df_municipal_waste_recycle['TIME_PERIOD'].isin(last_20_years)]\n",
    "\n",
    "# Group by country and sum plastic waste over last 10 years\n",
    "country_totals = df_recent.groupby('Geopolitical entity (reporting)')['OBS_VALUE'].sum().sort_values(ascending=False)\n",
    "\n",
    "# Get top 10 countries\n",
    "top10_countries = country_totals.head(10).index.tolist()\n",
    "top3 = top10_countries[:3]\n",
    "rest = top10_countries[3:]\n",
    "\n",
    "# Check if Germany is in top 10\n",
    "germany_label = \"Germany\"\n",
    "germany_entry = [c for c in top10_countries if \"Germany\" in c]\n",
    "rest_except_germany = [c for c in rest if c != germany_entry[0]] if germany_entry else rest\n",
    "\n",
    "# Filter data only for top 10 countries\n",
    "df_top10 = df_recent[df_recent['Geopolitical entity (reporting)'].isin(top10_countries)]\n",
    "\n",
    "# Create figure\n",
    "fig = go.Figure()\n",
    "\n",
    "# Add top 3 countries with shades of blue\n",
    "top3_colors = ['#1f77b4', '#2a9fd6', '#99ccff']\n",
    "for i, country in enumerate(top3):\n",
    "    df_country = df_top10[df_top10['Geopolitical entity (reporting)'] == country]\n",
    "    fig.add_trace(go.Scatter(\n",
    "        x=df_country['TIME_PERIOD'],\n",
    "        y=df_country['OBS_VALUE'],\n",
    "        mode='lines+markers',\n",
    "        name=country,\n",
    "        line=dict(color=top3_colors[i], width=3),\n",
    "        marker=dict(size=6)\n",
    "    ))\n",
    "\n",
    "# Add Germany with a distinct color (red)\n",
    "if germany_entry:\n",
    "    df_germany = df_top10[df_top10['Geopolitical entity (reporting)'] == germany_entry[0]]\n",
    "    fig.add_trace(go.Scatter(\n",
    "        x=df_germany['TIME_PERIOD'],\n",
    "        y=df_germany['OBS_VALUE'],\n",
    "        mode='lines+markers',\n",
    "        name='Germany',\n",
    "        line=dict(color='crimson', width=3),\n",
    "        marker=dict(size=6, symbol='circle')\n",
    "    ))\n",
    "\n",
    "# Add remaining countries with subtle grey gradient\n",
    "grey_shades = ['#cccccc', '#bbbbbb', '#aaaaaa', '#999999', '#888888', '#777777']\n",
    "for i, country in enumerate(rest_except_germany):\n",
    "    df_country = df_top10[df_top10['Geopolitical entity (reporting)'] == country]\n",
    "    fig.add_trace(go.Scatter(\n",
    "        x=df_country['TIME_PERIOD'],\n",
    "        y=df_country['OBS_VALUE'],\n",
    "        mode='lines',\n",
    "        name=country,\n",
    "        line=dict(color=grey_shades[i % len(grey_shades)], width=1.5),\n",
    "        showlegend=True\n",
    "    ))\n",
    "\n",
    "# Layout customization\n",
    "fig.update_layout(\n",
    "    title='Top 10 Countries: Municipal Waste Generation (Last 10 Years)',\n",
    "    xaxis_title='Year',\n",
    "    yaxis_title='Plastic Waste (Kilograms)',\n",
    "    yaxis=dict(rangemode='tozero'),  # Start y-axis at 0\n",
    "    template='plotly_white',\n",
    "    legend_title='Country',\n",
    "    hovermode='x unified'\n",
    ")\n",
    "\n",
    "fig.show()\n"
   ]
  },
  {
   "cell_type": "code",
   "execution_count": 103,
   "metadata": {},
   "outputs": [
    {
     "data": {
      "application/vnd.plotly.v1+json": {
       "config": {
        "plotlyServerURL": "https://plot.ly"
       },
       "data": [
        {
         "line": {
          "color": "#1f77b4",
          "width": 3
         },
         "marker": {
          "size": 6
         },
         "mode": "lines+markers",
         "name": "Germany",
         "type": "scatter",
         "x": {
          "bdata": "2gfbB9wH3QfeB98H4AfhB+IH4wfkB+UH5gfnBw==",
          "dtype": "i2"
         },
         "y": {
          "bdata": "AAAAAABAT0AAAAAAAIBPQM3MzMzMTFBAZmZmZmbmT0BmZmZmZmZQQM3MzMzMrFBAZmZmZmbGUEDNzMzMzMxQQGZmZmZmxlBAzczMzMysUEAzMzMzM5NRQDMzMzMzU1FAzczMzMxMUUDNzMzMzAxRQA==",
          "dtype": "f8"
         }
        },
        {
         "line": {
          "color": "#2a9fd6",
          "width": 3
         },
         "marker": {
          "size": 6
         },
         "mode": "lines+markers",
         "name": "Austria",
         "type": "scatter",
         "x": {
          "bdata": "2gfbB9wH3QfeB98H4AfhB+IH4wfkB+UH5gc=",
          "dtype": "i2"
         },
         "y": {
          "bdata": "MzMzMzOzTUCamZmZmVlMQJqZmZmZ2UxAmpmZmZnZTEBmZmZmZiZMQDMzMzMzc0xAzczMzMzMTEBmZmZmZuZMQJqZmZmZ2UxAmpmZmZkZTUBmZmZmZiZPQAAAAAAAQE9AzczMzMxMT0A=",
          "dtype": "f8"
         }
        },
        {
         "line": {
          "color": "#99ccff",
          "width": 3
         },
         "marker": {
          "size": 6
         },
         "mode": "lines+markers",
         "name": "Belgium",
         "type": "scatter",
         "x": {
          "bdata": "2gfbB9wH3QfeB98H4AfhB+IH4wfkB+UH5gfnBw==",
          "dtype": "i2"
         },
         "y": {
          "bdata": "ZmZmZmZmS0AzMzMzMzNLQDMzMzMzs0pAZmZmZmZmSkBmZmZmZuZKQAAAAAAAwEpAAAAAAADASkAzMzMzM/NKQDMzMzMzM0tAmpmZmZlZS0AzMzMzM7NJQAAAAAAAwEtAmpmZmZlZS0AzMzMzM3NLQA==",
          "dtype": "f8"
         }
        },
        {
         "line": {
          "color": "#cccccc",
          "width": 1.5
         },
         "marker": {
          "size": 5
         },
         "mode": "lines",
         "name": "Netherlands",
         "showlegend": true,
         "type": "scatter",
         "x": {
          "bdata": "2gfbB9wH3QfeB98H4AfhB+IH4wfkB+UH5gfnBw==",
          "dtype": "i2"
         },
         "y": {
          "bdata": "mpmZmZmZSEDNzMzMzIxIQDMzMzMzs0hAZmZmZmbmSEAzMzMzM3NJQGZmZmZm5klAAAAAAADASkDNzMzMzExLQDMzMzMz80tAMzMzMzNzTEAAAAAAAIBMQGZmZmZm5kxAzczMzMzMTEAzMzMzMzNNQA==",
          "dtype": "f8"
         }
        },
        {
         "line": {
          "color": "#bbbbbb",
          "width": 1.5
         },
         "marker": {
          "size": 5
         },
         "mode": "lines",
         "name": "Slovenia",
         "showlegend": true,
         "type": "scatter",
         "x": {
          "bdata": "2gfbB9wH3QfeB98H4AfhB+IH4wfkB+UH5gfnBw==",
          "dtype": "i2"
         },
         "y": {
          "bdata": "ZmZmZmZmNkCamZmZmdlBQM3MzMzMDEVAZmZmZmZmQUAAAAAAAABCQM3MzMzMDEtAAAAAAADAS0BmZmZmZuZMQDMzMzMzc01AmpmZmZmZTUBmZmZmZqZNQGZmZmZmZk5AzczMzMxMT0BmZmZmZuZNQA==",
          "dtype": "f8"
         }
        },
        {
         "line": {
          "color": "#aaaaaa",
          "width": 1.5
         },
         "marker": {
          "size": 5
         },
         "mode": "lines",
         "name": "Luxembourg",
         "showlegend": true,
         "type": "scatter",
         "x": {
          "bdata": "2gfbB9wH3QfeB98H4AfhB+IH4wfkB+UH5gfnBw==",
          "dtype": "i2"
         },
         "y": {
          "bdata": "AAAAAABAR0AzMzMzMzNHQDMzMzMzs0dAZmZmZmYmR0CamZmZmdlHQDMzMzMzs0dAmpmZmZmZSEAzMzMzM3NIQAAAAAAAgEhAMzMzMzNzSEBmZmZmZmZKQGZmZmZmpktAzczMzMzMS0CamZmZmRlMQA==",
          "dtype": "f8"
         }
        },
        {
         "line": {
          "color": "#999999",
          "width": 1.5
         },
         "marker": {
          "size": 5
         },
         "mode": "lines",
         "name": "Switzerland",
         "showlegend": true,
         "type": "scatter",
         "x": {
          "bdata": "2gfbB9wH3QfeB98H4AfhB+IH4wfkB+UH5gc=",
          "dtype": "i2"
         },
         "y": {
          "bdata": "AAAAAABASUDNzMzMzAxJQAAAAAAAAElAAAAAAACASUAAAAAAAMBKQJqZmZmZWUpAAAAAAABASkAAAAAAAEBKQAAAAAAAQEpAAAAAAACASkBmZmZmZmZKQGZmZmZmJkpAmpmZmZkZSkA=",
          "dtype": "f8"
         }
        },
        {
         "line": {
          "color": "#888888",
          "width": 1.5
         },
         "marker": {
          "size": 5
         },
         "mode": "lines",
         "name": "Sweden",
         "showlegend": true,
         "type": "scatter",
         "x": {
          "bdata": "2gfbB9wH3QfeB98H4AfhB+IH4wfkB+UH5gfnBw==",
          "dtype": "i2"
         },
         "y": {
          "bdata": "ZmZmZmbmR0AAAAAAAIBHQDMzMzMzc0dAmpmZmZkZSEBmZmZmZqZIQM3MzMzMzEdAMzMzMzMzSEBmZmZmZmZHQGZmZmZm5kZAzczMzMxMR0BmZmZmZiZDQAAAAAAAwENAmpmZmZnZQ0AzMzMzM7NDQA==",
          "dtype": "f8"
         }
        },
        {
         "line": {
          "color": "#777777",
          "width": 1.5
         },
         "marker": {
          "size": 5
         },
         "mode": "lines",
         "name": "European Union - 27 countries (from 2020)",
         "showlegend": true,
         "type": "scatter",
         "x": {
          "bdata": "2gfbB9wH3QfeB98H4AfhB+IH4wfkB+UH5gfnBw==",
          "dtype": "i2"
         },
         "y": {
          "bdata": "AAAAAAAAQ0AzMzMzM3NDQDMzMzMzc0RAAAAAAADAREAzMzMzM7NFQDMzMzMzc0ZAMzMzMzPzRkBmZmZmZiZHQDMzMzMzM0dAmpmZmZmZR0BmZmZmZmZIQDMzMzMz80hAzczMzMyMSECamZmZmRlIQA==",
          "dtype": "f8"
         }
        },
        {
         "line": {
          "color": "#cccccc",
          "width": 1.5
         },
         "marker": {
          "size": 5
         },
         "mode": "lines",
         "name": "Italy",
         "showlegend": true,
         "type": "scatter",
         "x": {
          "bdata": "2gfbB9wH3QfeB98H4AfhB+IH4wfkB+UH5gc=",
          "dtype": "i2"
         },
         "y": {
          "bdata": "AAAAAAAAP0AAAAAAAMBBQDMzMzMzM0NAMzMzMzOzQ0DNzMzMzMxEQGZmZmZmJkZAMzMzMzPzRkBmZmZmZuZHQGZmZmZm5khAMzMzMzOzSUAzMzMzM7NJQDMzMzMz80lAZmZmZmamSkA=",
          "dtype": "f8"
         }
        }
       ],
       "layout": {
        "hovermode": "x unified",
        "legend": {
         "title": {
          "text": "Country"
         }
        },
        "template": {
         "data": {
          "bar": [
           {
            "error_x": {
             "color": "#2a3f5f"
            },
            "error_y": {
             "color": "#2a3f5f"
            },
            "marker": {
             "line": {
              "color": "white",
              "width": 0.5
             },
             "pattern": {
              "fillmode": "overlay",
              "size": 10,
              "solidity": 0.2
             }
            },
            "type": "bar"
           }
          ],
          "barpolar": [
           {
            "marker": {
             "line": {
              "color": "white",
              "width": 0.5
             },
             "pattern": {
              "fillmode": "overlay",
              "size": 10,
              "solidity": 0.2
             }
            },
            "type": "barpolar"
           }
          ],
          "carpet": [
           {
            "aaxis": {
             "endlinecolor": "#2a3f5f",
             "gridcolor": "#C8D4E3",
             "linecolor": "#C8D4E3",
             "minorgridcolor": "#C8D4E3",
             "startlinecolor": "#2a3f5f"
            },
            "baxis": {
             "endlinecolor": "#2a3f5f",
             "gridcolor": "#C8D4E3",
             "linecolor": "#C8D4E3",
             "minorgridcolor": "#C8D4E3",
             "startlinecolor": "#2a3f5f"
            },
            "type": "carpet"
           }
          ],
          "choropleth": [
           {
            "colorbar": {
             "outlinewidth": 0,
             "ticks": ""
            },
            "type": "choropleth"
           }
          ],
          "contour": [
           {
            "colorbar": {
             "outlinewidth": 0,
             "ticks": ""
            },
            "colorscale": [
             [
              0,
              "#0d0887"
             ],
             [
              0.1111111111111111,
              "#46039f"
             ],
             [
              0.2222222222222222,
              "#7201a8"
             ],
             [
              0.3333333333333333,
              "#9c179e"
             ],
             [
              0.4444444444444444,
              "#bd3786"
             ],
             [
              0.5555555555555556,
              "#d8576b"
             ],
             [
              0.6666666666666666,
              "#ed7953"
             ],
             [
              0.7777777777777778,
              "#fb9f3a"
             ],
             [
              0.8888888888888888,
              "#fdca26"
             ],
             [
              1,
              "#f0f921"
             ]
            ],
            "type": "contour"
           }
          ],
          "contourcarpet": [
           {
            "colorbar": {
             "outlinewidth": 0,
             "ticks": ""
            },
            "type": "contourcarpet"
           }
          ],
          "heatmap": [
           {
            "colorbar": {
             "outlinewidth": 0,
             "ticks": ""
            },
            "colorscale": [
             [
              0,
              "#0d0887"
             ],
             [
              0.1111111111111111,
              "#46039f"
             ],
             [
              0.2222222222222222,
              "#7201a8"
             ],
             [
              0.3333333333333333,
              "#9c179e"
             ],
             [
              0.4444444444444444,
              "#bd3786"
             ],
             [
              0.5555555555555556,
              "#d8576b"
             ],
             [
              0.6666666666666666,
              "#ed7953"
             ],
             [
              0.7777777777777778,
              "#fb9f3a"
             ],
             [
              0.8888888888888888,
              "#fdca26"
             ],
             [
              1,
              "#f0f921"
             ]
            ],
            "type": "heatmap"
           }
          ],
          "histogram": [
           {
            "marker": {
             "pattern": {
              "fillmode": "overlay",
              "size": 10,
              "solidity": 0.2
             }
            },
            "type": "histogram"
           }
          ],
          "histogram2d": [
           {
            "colorbar": {
             "outlinewidth": 0,
             "ticks": ""
            },
            "colorscale": [
             [
              0,
              "#0d0887"
             ],
             [
              0.1111111111111111,
              "#46039f"
             ],
             [
              0.2222222222222222,
              "#7201a8"
             ],
             [
              0.3333333333333333,
              "#9c179e"
             ],
             [
              0.4444444444444444,
              "#bd3786"
             ],
             [
              0.5555555555555556,
              "#d8576b"
             ],
             [
              0.6666666666666666,
              "#ed7953"
             ],
             [
              0.7777777777777778,
              "#fb9f3a"
             ],
             [
              0.8888888888888888,
              "#fdca26"
             ],
             [
              1,
              "#f0f921"
             ]
            ],
            "type": "histogram2d"
           }
          ],
          "histogram2dcontour": [
           {
            "colorbar": {
             "outlinewidth": 0,
             "ticks": ""
            },
            "colorscale": [
             [
              0,
              "#0d0887"
             ],
             [
              0.1111111111111111,
              "#46039f"
             ],
             [
              0.2222222222222222,
              "#7201a8"
             ],
             [
              0.3333333333333333,
              "#9c179e"
             ],
             [
              0.4444444444444444,
              "#bd3786"
             ],
             [
              0.5555555555555556,
              "#d8576b"
             ],
             [
              0.6666666666666666,
              "#ed7953"
             ],
             [
              0.7777777777777778,
              "#fb9f3a"
             ],
             [
              0.8888888888888888,
              "#fdca26"
             ],
             [
              1,
              "#f0f921"
             ]
            ],
            "type": "histogram2dcontour"
           }
          ],
          "mesh3d": [
           {
            "colorbar": {
             "outlinewidth": 0,
             "ticks": ""
            },
            "type": "mesh3d"
           }
          ],
          "parcoords": [
           {
            "line": {
             "colorbar": {
              "outlinewidth": 0,
              "ticks": ""
             }
            },
            "type": "parcoords"
           }
          ],
          "pie": [
           {
            "automargin": true,
            "type": "pie"
           }
          ],
          "scatter": [
           {
            "fillpattern": {
             "fillmode": "overlay",
             "size": 10,
             "solidity": 0.2
            },
            "type": "scatter"
           }
          ],
          "scatter3d": [
           {
            "line": {
             "colorbar": {
              "outlinewidth": 0,
              "ticks": ""
             }
            },
            "marker": {
             "colorbar": {
              "outlinewidth": 0,
              "ticks": ""
             }
            },
            "type": "scatter3d"
           }
          ],
          "scattercarpet": [
           {
            "marker": {
             "colorbar": {
              "outlinewidth": 0,
              "ticks": ""
             }
            },
            "type": "scattercarpet"
           }
          ],
          "scattergeo": [
           {
            "marker": {
             "colorbar": {
              "outlinewidth": 0,
              "ticks": ""
             }
            },
            "type": "scattergeo"
           }
          ],
          "scattergl": [
           {
            "marker": {
             "colorbar": {
              "outlinewidth": 0,
              "ticks": ""
             }
            },
            "type": "scattergl"
           }
          ],
          "scattermap": [
           {
            "marker": {
             "colorbar": {
              "outlinewidth": 0,
              "ticks": ""
             }
            },
            "type": "scattermap"
           }
          ],
          "scattermapbox": [
           {
            "marker": {
             "colorbar": {
              "outlinewidth": 0,
              "ticks": ""
             }
            },
            "type": "scattermapbox"
           }
          ],
          "scatterpolar": [
           {
            "marker": {
             "colorbar": {
              "outlinewidth": 0,
              "ticks": ""
             }
            },
            "type": "scatterpolar"
           }
          ],
          "scatterpolargl": [
           {
            "marker": {
             "colorbar": {
              "outlinewidth": 0,
              "ticks": ""
             }
            },
            "type": "scatterpolargl"
           }
          ],
          "scatterternary": [
           {
            "marker": {
             "colorbar": {
              "outlinewidth": 0,
              "ticks": ""
             }
            },
            "type": "scatterternary"
           }
          ],
          "surface": [
           {
            "colorbar": {
             "outlinewidth": 0,
             "ticks": ""
            },
            "colorscale": [
             [
              0,
              "#0d0887"
             ],
             [
              0.1111111111111111,
              "#46039f"
             ],
             [
              0.2222222222222222,
              "#7201a8"
             ],
             [
              0.3333333333333333,
              "#9c179e"
             ],
             [
              0.4444444444444444,
              "#bd3786"
             ],
             [
              0.5555555555555556,
              "#d8576b"
             ],
             [
              0.6666666666666666,
              "#ed7953"
             ],
             [
              0.7777777777777778,
              "#fb9f3a"
             ],
             [
              0.8888888888888888,
              "#fdca26"
             ],
             [
              1,
              "#f0f921"
             ]
            ],
            "type": "surface"
           }
          ],
          "table": [
           {
            "cells": {
             "fill": {
              "color": "#EBF0F8"
             },
             "line": {
              "color": "white"
             }
            },
            "header": {
             "fill": {
              "color": "#C8D4E3"
             },
             "line": {
              "color": "white"
             }
            },
            "type": "table"
           }
          ]
         },
         "layout": {
          "annotationdefaults": {
           "arrowcolor": "#2a3f5f",
           "arrowhead": 0,
           "arrowwidth": 1
          },
          "autotypenumbers": "strict",
          "coloraxis": {
           "colorbar": {
            "outlinewidth": 0,
            "ticks": ""
           }
          },
          "colorscale": {
           "diverging": [
            [
             0,
             "#8e0152"
            ],
            [
             0.1,
             "#c51b7d"
            ],
            [
             0.2,
             "#de77ae"
            ],
            [
             0.3,
             "#f1b6da"
            ],
            [
             0.4,
             "#fde0ef"
            ],
            [
             0.5,
             "#f7f7f7"
            ],
            [
             0.6,
             "#e6f5d0"
            ],
            [
             0.7,
             "#b8e186"
            ],
            [
             0.8,
             "#7fbc41"
            ],
            [
             0.9,
             "#4d9221"
            ],
            [
             1,
             "#276419"
            ]
           ],
           "sequential": [
            [
             0,
             "#0d0887"
            ],
            [
             0.1111111111111111,
             "#46039f"
            ],
            [
             0.2222222222222222,
             "#7201a8"
            ],
            [
             0.3333333333333333,
             "#9c179e"
            ],
            [
             0.4444444444444444,
             "#bd3786"
            ],
            [
             0.5555555555555556,
             "#d8576b"
            ],
            [
             0.6666666666666666,
             "#ed7953"
            ],
            [
             0.7777777777777778,
             "#fb9f3a"
            ],
            [
             0.8888888888888888,
             "#fdca26"
            ],
            [
             1,
             "#f0f921"
            ]
           ],
           "sequentialminus": [
            [
             0,
             "#0d0887"
            ],
            [
             0.1111111111111111,
             "#46039f"
            ],
            [
             0.2222222222222222,
             "#7201a8"
            ],
            [
             0.3333333333333333,
             "#9c179e"
            ],
            [
             0.4444444444444444,
             "#bd3786"
            ],
            [
             0.5555555555555556,
             "#d8576b"
            ],
            [
             0.6666666666666666,
             "#ed7953"
            ],
            [
             0.7777777777777778,
             "#fb9f3a"
            ],
            [
             0.8888888888888888,
             "#fdca26"
            ],
            [
             1,
             "#f0f921"
            ]
           ]
          },
          "colorway": [
           "#636efa",
           "#EF553B",
           "#00cc96",
           "#ab63fa",
           "#FFA15A",
           "#19d3f3",
           "#FF6692",
           "#B6E880",
           "#FF97FF",
           "#FECB52"
          ],
          "font": {
           "color": "#2a3f5f"
          },
          "geo": {
           "bgcolor": "white",
           "lakecolor": "white",
           "landcolor": "white",
           "showlakes": true,
           "showland": true,
           "subunitcolor": "#C8D4E3"
          },
          "hoverlabel": {
           "align": "left"
          },
          "hovermode": "closest",
          "mapbox": {
           "style": "light"
          },
          "paper_bgcolor": "white",
          "plot_bgcolor": "white",
          "polar": {
           "angularaxis": {
            "gridcolor": "#EBF0F8",
            "linecolor": "#EBF0F8",
            "ticks": ""
           },
           "bgcolor": "white",
           "radialaxis": {
            "gridcolor": "#EBF0F8",
            "linecolor": "#EBF0F8",
            "ticks": ""
           }
          },
          "scene": {
           "xaxis": {
            "backgroundcolor": "white",
            "gridcolor": "#DFE8F3",
            "gridwidth": 2,
            "linecolor": "#EBF0F8",
            "showbackground": true,
            "ticks": "",
            "zerolinecolor": "#EBF0F8"
           },
           "yaxis": {
            "backgroundcolor": "white",
            "gridcolor": "#DFE8F3",
            "gridwidth": 2,
            "linecolor": "#EBF0F8",
            "showbackground": true,
            "ticks": "",
            "zerolinecolor": "#EBF0F8"
           },
           "zaxis": {
            "backgroundcolor": "white",
            "gridcolor": "#DFE8F3",
            "gridwidth": 2,
            "linecolor": "#EBF0F8",
            "showbackground": true,
            "ticks": "",
            "zerolinecolor": "#EBF0F8"
           }
          },
          "shapedefaults": {
           "line": {
            "color": "#2a3f5f"
           }
          },
          "ternary": {
           "aaxis": {
            "gridcolor": "#DFE8F3",
            "linecolor": "#A2B1C6",
            "ticks": ""
           },
           "baxis": {
            "gridcolor": "#DFE8F3",
            "linecolor": "#A2B1C6",
            "ticks": ""
           },
           "bgcolor": "white",
           "caxis": {
            "gridcolor": "#DFE8F3",
            "linecolor": "#A2B1C6",
            "ticks": ""
           }
          },
          "title": {
           "x": 0.05
          },
          "xaxis": {
           "automargin": true,
           "gridcolor": "#EBF0F8",
           "linecolor": "#EBF0F8",
           "ticks": "",
           "title": {
            "standoff": 15
           },
           "zerolinecolor": "#EBF0F8",
           "zerolinewidth": 2
          },
          "yaxis": {
           "automargin": true,
           "gridcolor": "#EBF0F8",
           "linecolor": "#EBF0F8",
           "ticks": "",
           "title": {
            "standoff": 15
           },
           "zerolinecolor": "#EBF0F8",
           "zerolinewidth": 2
          }
         }
        },
        "title": {
         "text": "Top 10 Countries: Municipal Waste Generation (Last 10 Years)"
        },
        "xaxis": {
         "title": {
          "text": "Year"
         }
        },
        "yaxis": {
         "rangemode": "tozero",
         "title": {
          "text": "Plastic Waste (Kilograms)"
         }
        }
       }
      }
     },
     "metadata": {},
     "output_type": "display_data"
    }
   ],
   "source": [
    "# Determine Germany's position\n",
    "germany_label = \"Germany\"\n",
    "germany_entry = [c for c in top10_countries if \"Germany\" in c]\n",
    "germany_rank = top10_countries.index(germany_entry[0]) if germany_entry else -1\n",
    "\n",
    "# Filter data only for top 10 countries\n",
    "df_top10 = df_recent[df_recent['Geopolitical entity (reporting)'].isin(top10_countries)]\n",
    "\n",
    "# Create figure\n",
    "fig = go.Figure()\n",
    "\n",
    "# Colors\n",
    "top3_colors = ['#1f77b4', '#2a9fd6', '#99ccff']\n",
    "grey_shades = ['#cccccc', '#bbbbbb', '#aaaaaa', '#999999', '#888888', '#777777']\n",
    "\n",
    "# Plot top 3\n",
    "for i, country in enumerate(top10_countries[:3]):\n",
    "    df_country = df_top10[df_top10['Geopolitical entity (reporting)'] == country]\n",
    "    \n",
    "    # If Germany is in top 3, color it as top 3 (blue)\n",
    "    if country == germany_label:\n",
    "        color = top3_colors[i]\n",
    "        name = 'Germany'\n",
    "    else:\n",
    "        color = top3_colors[i]\n",
    "        name = country\n",
    "\n",
    "    fig.add_trace(go.Scatter(\n",
    "        x=df_country['TIME_PERIOD'],\n",
    "        y=df_country['OBS_VALUE'],\n",
    "        mode='lines+markers',\n",
    "        name=name,\n",
    "        line=dict(color=color, width=3),\n",
    "        marker=dict(size=6)\n",
    "    ))\n",
    "\n",
    "# Plot ranks 4–10\n",
    "rest = top10_countries[3:]\n",
    "for i, country in enumerate(rest):\n",
    "    df_country = df_top10[df_top10['Geopolitical entity (reporting)'] == country]\n",
    "    \n",
    "    # If Germany is in lower ranks, highlight in red\n",
    "    if country == germany_label:\n",
    "        color = 'crimson'\n",
    "        width = 3\n",
    "        marker = dict(size=6, symbol='circle')\n",
    "    else:\n",
    "        color = grey_shades[i % len(grey_shades)]\n",
    "        width = 1.5\n",
    "        marker = dict(size=5)\n",
    "\n",
    "    fig.add_trace(go.Scatter(\n",
    "        x=df_country['TIME_PERIOD'],\n",
    "        y=df_country['OBS_VALUE'],\n",
    "        mode='lines+markers' if country == germany_label else 'lines',\n",
    "        name=country,\n",
    "        line=dict(color=color, width=width),\n",
    "        marker=marker,\n",
    "        showlegend=True\n",
    "    ))\n",
    "\n",
    "# Layout customization\n",
    "fig.update_layout(\n",
    "    title='Top 10 Countries: Municipal Waste Generation (Last 10 Years)',\n",
    "    xaxis_title='Year',\n",
    "    yaxis_title='Plastic Waste (Kilograms)',\n",
    "    yaxis=dict(rangemode='tozero'),\n",
    "    template='plotly_white',\n",
    "    legend_title='Country',\n",
    "    hovermode='x unified'\n",
    ")\n",
    "\n",
    "fig.show()\n"
   ]
  },
  {
   "cell_type": "code",
   "execution_count": 105,
   "metadata": {},
   "outputs": [
    {
     "data": {
      "application/vnd.plotly.v1+json": {
       "config": {
        "plotlyServerURL": "https://plot.ly"
       },
       "data": [
        {
         "line": {
          "color": "crimson",
          "width": 3
         },
         "marker": {
          "size": 6,
          "symbol": "circle"
         },
         "mode": "lines+markers",
         "name": "Germany",
         "type": "scatter",
         "x": {
          "bdata": "3gffB+AH4QfiB+MH5AflB+YH5wc=",
          "dtype": "i2"
         },
         "y": {
          "bdata": "ZmZmZmZmUEDNzMzMzKxQQGZmZmZmxlBAzczMzMzMUEBmZmZmZsZQQM3MzMzMrFBAMzMzMzOTUUAzMzMzM1NRQM3MzMzMTFFAzczMzMwMUUA=",
          "dtype": "f8"
         }
        },
        {
         "line": {
          "color": "#1f77b4",
          "width": 3
         },
         "marker": {
          "size": 6
         },
         "mode": "lines+markers",
         "name": "Slovenia",
         "type": "scatter",
         "x": {
          "bdata": "3gffB+AH4QfiB+MH5AflB+YH5wc=",
          "dtype": "i2"
         },
         "y": {
          "bdata": "AAAAAAAAQkDNzMzMzAxLQAAAAAAAwEtAZmZmZmbmTEAzMzMzM3NNQJqZmZmZmU1AZmZmZmamTUBmZmZmZmZOQM3MzMzMTE9AZmZmZmbmTUA=",
          "dtype": "f8"
         }
        },
        {
         "line": {
          "color": "#2a9fd6",
          "width": 3
         },
         "marker": {
          "size": 6
         },
         "mode": "lines+markers",
         "name": "Netherlands",
         "type": "scatter",
         "x": {
          "bdata": "3gffB+AH4QfiB+MH5AflB+YH5wc=",
          "dtype": "i2"
         },
         "y": {
          "bdata": "MzMzMzNzSUBmZmZmZuZJQAAAAAAAwEpAzczMzMxMS0AzMzMzM/NLQDMzMzMzc0xAAAAAAACATEBmZmZmZuZMQM3MzMzMzExAMzMzMzMzTUA=",
          "dtype": "f8"
         }
        },
        {
         "line": {
          "color": "#cccccc",
          "width": 1.5
         },
         "mode": "lines",
         "name": "Belgium",
         "showlegend": true,
         "type": "scatter",
         "x": {
          "bdata": "3gffB+AH4QfiB+MH5AflB+YH5wc=",
          "dtype": "i2"
         },
         "y": {
          "bdata": "ZmZmZmbmSkAAAAAAAMBKQAAAAAAAwEpAMzMzMzPzSkAzMzMzMzNLQJqZmZmZWUtAMzMzMzOzSUAAAAAAAMBLQJqZmZmZWUtAMzMzMzNzS0A=",
          "dtype": "f8"
         }
        },
        {
         "line": {
          "color": "#bbbbbb",
          "width": 1.5
         },
         "mode": "lines",
         "name": "Austria",
         "showlegend": true,
         "type": "scatter",
         "x": {
          "bdata": "3gffB+AH4QfiB+MH5AflB+YH",
          "dtype": "i2"
         },
         "y": {
          "bdata": "ZmZmZmYmTEAzMzMzM3NMQM3MzMzMzExAZmZmZmbmTECamZmZmdlMQJqZmZmZGU1AZmZmZmYmT0AAAAAAAEBPQM3MzMzMTE9A",
          "dtype": "f8"
         }
        },
        {
         "line": {
          "color": "#aaaaaa",
          "width": 1.5
         },
         "mode": "lines",
         "name": "Luxembourg",
         "showlegend": true,
         "type": "scatter",
         "x": {
          "bdata": "3gffB+AH4QfiB+MH5AflB+YH5wc=",
          "dtype": "i2"
         },
         "y": {
          "bdata": "mpmZmZnZR0AzMzMzM7NHQJqZmZmZmUhAMzMzMzNzSEAAAAAAAIBIQDMzMzMzc0hAZmZmZmZmSkBmZmZmZqZLQM3MzMzMzEtAmpmZmZkZTEA=",
          "dtype": "f8"
         }
        },
        {
         "line": {
          "color": "#999999",
          "width": 1.5
         },
         "mode": "lines",
         "name": "Switzerland",
         "showlegend": true,
         "type": "scatter",
         "x": {
          "bdata": "3gffB+AH4QfiB+MH5AflB+YH",
          "dtype": "i2"
         },
         "y": {
          "bdata": "AAAAAADASkCamZmZmVlKQAAAAAAAQEpAAAAAAABASkAAAAAAAEBKQAAAAAAAgEpAZmZmZmZmSkBmZmZmZiZKQJqZmZmZGUpA",
          "dtype": "f8"
         }
        },
        {
         "line": {
          "color": "#cccccc",
          "width": 1.5
         },
         "mode": "lines",
         "name": "Lithuania",
         "showlegend": true,
         "type": "scatter",
         "x": {
          "bdata": "3gffB+AH4QfiB+MH5AflB+YH5wc=",
          "dtype": "i2"
         },
         "y": {
          "bdata": "AAAAAACAPkCamZmZmZlAQAAAAAAAAEhAzczMzMwMSEDNzMzMzExKQJqZmZmZ2UhAZmZmZmamRkBmZmZmZiZGQDMzMzMzM0hAZmZmZmamSEA=",
          "dtype": "f8"
         }
        },
        {
         "line": {
          "color": "#bbbbbb",
          "width": 1.5
         },
         "mode": "lines",
         "name": "Sweden",
         "showlegend": true,
         "type": "scatter",
         "x": {
          "bdata": "3gffB+AH4QfiB+MH5AflB+YH5wc=",
          "dtype": "i2"
         },
         "y": {
          "bdata": "ZmZmZmamSEDNzMzMzMxHQDMzMzMzM0hAZmZmZmZmR0BmZmZmZuZGQM3MzMzMTEdAZmZmZmYmQ0AAAAAAAMBDQJqZmZmZ2UNAMzMzMzOzQ0A=",
          "dtype": "f8"
         }
        },
        {
         "line": {
          "color": "#aaaaaa",
          "width": 1.5
         },
         "mode": "lines",
         "name": "Denmark",
         "showlegend": true,
         "type": "scatter",
         "x": {
          "bdata": "3gffB+AH4QfiB+MH5AflB+YH",
          "dtype": "i2"
         },
         "y": {
          "bdata": "MzMzMzOzRkAzMzMzM7NHQGZmZmZmJkhAzczMzMzMR0AzMzMzM/NIQAAAAAAAwElAAAAAAACARkDNzMzMzMxMQJqZmZmZ2UZA",
          "dtype": "f8"
         }
        }
       ],
       "layout": {
        "hovermode": "x unified",
        "legend": {
         "title": {
          "text": "Country"
         }
        },
        "template": {
         "data": {
          "bar": [
           {
            "error_x": {
             "color": "#2a3f5f"
            },
            "error_y": {
             "color": "#2a3f5f"
            },
            "marker": {
             "line": {
              "color": "white",
              "width": 0.5
             },
             "pattern": {
              "fillmode": "overlay",
              "size": 10,
              "solidity": 0.2
             }
            },
            "type": "bar"
           }
          ],
          "barpolar": [
           {
            "marker": {
             "line": {
              "color": "white",
              "width": 0.5
             },
             "pattern": {
              "fillmode": "overlay",
              "size": 10,
              "solidity": 0.2
             }
            },
            "type": "barpolar"
           }
          ],
          "carpet": [
           {
            "aaxis": {
             "endlinecolor": "#2a3f5f",
             "gridcolor": "#C8D4E3",
             "linecolor": "#C8D4E3",
             "minorgridcolor": "#C8D4E3",
             "startlinecolor": "#2a3f5f"
            },
            "baxis": {
             "endlinecolor": "#2a3f5f",
             "gridcolor": "#C8D4E3",
             "linecolor": "#C8D4E3",
             "minorgridcolor": "#C8D4E3",
             "startlinecolor": "#2a3f5f"
            },
            "type": "carpet"
           }
          ],
          "choropleth": [
           {
            "colorbar": {
             "outlinewidth": 0,
             "ticks": ""
            },
            "type": "choropleth"
           }
          ],
          "contour": [
           {
            "colorbar": {
             "outlinewidth": 0,
             "ticks": ""
            },
            "colorscale": [
             [
              0,
              "#0d0887"
             ],
             [
              0.1111111111111111,
              "#46039f"
             ],
             [
              0.2222222222222222,
              "#7201a8"
             ],
             [
              0.3333333333333333,
              "#9c179e"
             ],
             [
              0.4444444444444444,
              "#bd3786"
             ],
             [
              0.5555555555555556,
              "#d8576b"
             ],
             [
              0.6666666666666666,
              "#ed7953"
             ],
             [
              0.7777777777777778,
              "#fb9f3a"
             ],
             [
              0.8888888888888888,
              "#fdca26"
             ],
             [
              1,
              "#f0f921"
             ]
            ],
            "type": "contour"
           }
          ],
          "contourcarpet": [
           {
            "colorbar": {
             "outlinewidth": 0,
             "ticks": ""
            },
            "type": "contourcarpet"
           }
          ],
          "heatmap": [
           {
            "colorbar": {
             "outlinewidth": 0,
             "ticks": ""
            },
            "colorscale": [
             [
              0,
              "#0d0887"
             ],
             [
              0.1111111111111111,
              "#46039f"
             ],
             [
              0.2222222222222222,
              "#7201a8"
             ],
             [
              0.3333333333333333,
              "#9c179e"
             ],
             [
              0.4444444444444444,
              "#bd3786"
             ],
             [
              0.5555555555555556,
              "#d8576b"
             ],
             [
              0.6666666666666666,
              "#ed7953"
             ],
             [
              0.7777777777777778,
              "#fb9f3a"
             ],
             [
              0.8888888888888888,
              "#fdca26"
             ],
             [
              1,
              "#f0f921"
             ]
            ],
            "type": "heatmap"
           }
          ],
          "histogram": [
           {
            "marker": {
             "pattern": {
              "fillmode": "overlay",
              "size": 10,
              "solidity": 0.2
             }
            },
            "type": "histogram"
           }
          ],
          "histogram2d": [
           {
            "colorbar": {
             "outlinewidth": 0,
             "ticks": ""
            },
            "colorscale": [
             [
              0,
              "#0d0887"
             ],
             [
              0.1111111111111111,
              "#46039f"
             ],
             [
              0.2222222222222222,
              "#7201a8"
             ],
             [
              0.3333333333333333,
              "#9c179e"
             ],
             [
              0.4444444444444444,
              "#bd3786"
             ],
             [
              0.5555555555555556,
              "#d8576b"
             ],
             [
              0.6666666666666666,
              "#ed7953"
             ],
             [
              0.7777777777777778,
              "#fb9f3a"
             ],
             [
              0.8888888888888888,
              "#fdca26"
             ],
             [
              1,
              "#f0f921"
             ]
            ],
            "type": "histogram2d"
           }
          ],
          "histogram2dcontour": [
           {
            "colorbar": {
             "outlinewidth": 0,
             "ticks": ""
            },
            "colorscale": [
             [
              0,
              "#0d0887"
             ],
             [
              0.1111111111111111,
              "#46039f"
             ],
             [
              0.2222222222222222,
              "#7201a8"
             ],
             [
              0.3333333333333333,
              "#9c179e"
             ],
             [
              0.4444444444444444,
              "#bd3786"
             ],
             [
              0.5555555555555556,
              "#d8576b"
             ],
             [
              0.6666666666666666,
              "#ed7953"
             ],
             [
              0.7777777777777778,
              "#fb9f3a"
             ],
             [
              0.8888888888888888,
              "#fdca26"
             ],
             [
              1,
              "#f0f921"
             ]
            ],
            "type": "histogram2dcontour"
           }
          ],
          "mesh3d": [
           {
            "colorbar": {
             "outlinewidth": 0,
             "ticks": ""
            },
            "type": "mesh3d"
           }
          ],
          "parcoords": [
           {
            "line": {
             "colorbar": {
              "outlinewidth": 0,
              "ticks": ""
             }
            },
            "type": "parcoords"
           }
          ],
          "pie": [
           {
            "automargin": true,
            "type": "pie"
           }
          ],
          "scatter": [
           {
            "fillpattern": {
             "fillmode": "overlay",
             "size": 10,
             "solidity": 0.2
            },
            "type": "scatter"
           }
          ],
          "scatter3d": [
           {
            "line": {
             "colorbar": {
              "outlinewidth": 0,
              "ticks": ""
             }
            },
            "marker": {
             "colorbar": {
              "outlinewidth": 0,
              "ticks": ""
             }
            },
            "type": "scatter3d"
           }
          ],
          "scattercarpet": [
           {
            "marker": {
             "colorbar": {
              "outlinewidth": 0,
              "ticks": ""
             }
            },
            "type": "scattercarpet"
           }
          ],
          "scattergeo": [
           {
            "marker": {
             "colorbar": {
              "outlinewidth": 0,
              "ticks": ""
             }
            },
            "type": "scattergeo"
           }
          ],
          "scattergl": [
           {
            "marker": {
             "colorbar": {
              "outlinewidth": 0,
              "ticks": ""
             }
            },
            "type": "scattergl"
           }
          ],
          "scattermap": [
           {
            "marker": {
             "colorbar": {
              "outlinewidth": 0,
              "ticks": ""
             }
            },
            "type": "scattermap"
           }
          ],
          "scattermapbox": [
           {
            "marker": {
             "colorbar": {
              "outlinewidth": 0,
              "ticks": ""
             }
            },
            "type": "scattermapbox"
           }
          ],
          "scatterpolar": [
           {
            "marker": {
             "colorbar": {
              "outlinewidth": 0,
              "ticks": ""
             }
            },
            "type": "scatterpolar"
           }
          ],
          "scatterpolargl": [
           {
            "marker": {
             "colorbar": {
              "outlinewidth": 0,
              "ticks": ""
             }
            },
            "type": "scatterpolargl"
           }
          ],
          "scatterternary": [
           {
            "marker": {
             "colorbar": {
              "outlinewidth": 0,
              "ticks": ""
             }
            },
            "type": "scatterternary"
           }
          ],
          "surface": [
           {
            "colorbar": {
             "outlinewidth": 0,
             "ticks": ""
            },
            "colorscale": [
             [
              0,
              "#0d0887"
             ],
             [
              0.1111111111111111,
              "#46039f"
             ],
             [
              0.2222222222222222,
              "#7201a8"
             ],
             [
              0.3333333333333333,
              "#9c179e"
             ],
             [
              0.4444444444444444,
              "#bd3786"
             ],
             [
              0.5555555555555556,
              "#d8576b"
             ],
             [
              0.6666666666666666,
              "#ed7953"
             ],
             [
              0.7777777777777778,
              "#fb9f3a"
             ],
             [
              0.8888888888888888,
              "#fdca26"
             ],
             [
              1,
              "#f0f921"
             ]
            ],
            "type": "surface"
           }
          ],
          "table": [
           {
            "cells": {
             "fill": {
              "color": "#EBF0F8"
             },
             "line": {
              "color": "white"
             }
            },
            "header": {
             "fill": {
              "color": "#C8D4E3"
             },
             "line": {
              "color": "white"
             }
            },
            "type": "table"
           }
          ]
         },
         "layout": {
          "annotationdefaults": {
           "arrowcolor": "#2a3f5f",
           "arrowhead": 0,
           "arrowwidth": 1
          },
          "autotypenumbers": "strict",
          "coloraxis": {
           "colorbar": {
            "outlinewidth": 0,
            "ticks": ""
           }
          },
          "colorscale": {
           "diverging": [
            [
             0,
             "#8e0152"
            ],
            [
             0.1,
             "#c51b7d"
            ],
            [
             0.2,
             "#de77ae"
            ],
            [
             0.3,
             "#f1b6da"
            ],
            [
             0.4,
             "#fde0ef"
            ],
            [
             0.5,
             "#f7f7f7"
            ],
            [
             0.6,
             "#e6f5d0"
            ],
            [
             0.7,
             "#b8e186"
            ],
            [
             0.8,
             "#7fbc41"
            ],
            [
             0.9,
             "#4d9221"
            ],
            [
             1,
             "#276419"
            ]
           ],
           "sequential": [
            [
             0,
             "#0d0887"
            ],
            [
             0.1111111111111111,
             "#46039f"
            ],
            [
             0.2222222222222222,
             "#7201a8"
            ],
            [
             0.3333333333333333,
             "#9c179e"
            ],
            [
             0.4444444444444444,
             "#bd3786"
            ],
            [
             0.5555555555555556,
             "#d8576b"
            ],
            [
             0.6666666666666666,
             "#ed7953"
            ],
            [
             0.7777777777777778,
             "#fb9f3a"
            ],
            [
             0.8888888888888888,
             "#fdca26"
            ],
            [
             1,
             "#f0f921"
            ]
           ],
           "sequentialminus": [
            [
             0,
             "#0d0887"
            ],
            [
             0.1111111111111111,
             "#46039f"
            ],
            [
             0.2222222222222222,
             "#7201a8"
            ],
            [
             0.3333333333333333,
             "#9c179e"
            ],
            [
             0.4444444444444444,
             "#bd3786"
            ],
            [
             0.5555555555555556,
             "#d8576b"
            ],
            [
             0.6666666666666666,
             "#ed7953"
            ],
            [
             0.7777777777777778,
             "#fb9f3a"
            ],
            [
             0.8888888888888888,
             "#fdca26"
            ],
            [
             1,
             "#f0f921"
            ]
           ]
          },
          "colorway": [
           "#636efa",
           "#EF553B",
           "#00cc96",
           "#ab63fa",
           "#FFA15A",
           "#19d3f3",
           "#FF6692",
           "#B6E880",
           "#FF97FF",
           "#FECB52"
          ],
          "font": {
           "color": "#2a3f5f"
          },
          "geo": {
           "bgcolor": "white",
           "lakecolor": "white",
           "landcolor": "white",
           "showlakes": true,
           "showland": true,
           "subunitcolor": "#C8D4E3"
          },
          "hoverlabel": {
           "align": "left"
          },
          "hovermode": "closest",
          "mapbox": {
           "style": "light"
          },
          "paper_bgcolor": "white",
          "plot_bgcolor": "white",
          "polar": {
           "angularaxis": {
            "gridcolor": "#EBF0F8",
            "linecolor": "#EBF0F8",
            "ticks": ""
           },
           "bgcolor": "white",
           "radialaxis": {
            "gridcolor": "#EBF0F8",
            "linecolor": "#EBF0F8",
            "ticks": ""
           }
          },
          "scene": {
           "xaxis": {
            "backgroundcolor": "white",
            "gridcolor": "#DFE8F3",
            "gridwidth": 2,
            "linecolor": "#EBF0F8",
            "showbackground": true,
            "ticks": "",
            "zerolinecolor": "#EBF0F8"
           },
           "yaxis": {
            "backgroundcolor": "white",
            "gridcolor": "#DFE8F3",
            "gridwidth": 2,
            "linecolor": "#EBF0F8",
            "showbackground": true,
            "ticks": "",
            "zerolinecolor": "#EBF0F8"
           },
           "zaxis": {
            "backgroundcolor": "white",
            "gridcolor": "#DFE8F3",
            "gridwidth": 2,
            "linecolor": "#EBF0F8",
            "showbackground": true,
            "ticks": "",
            "zerolinecolor": "#EBF0F8"
           }
          },
          "shapedefaults": {
           "line": {
            "color": "#2a3f5f"
           }
          },
          "ternary": {
           "aaxis": {
            "gridcolor": "#DFE8F3",
            "linecolor": "#A2B1C6",
            "ticks": ""
           },
           "baxis": {
            "gridcolor": "#DFE8F3",
            "linecolor": "#A2B1C6",
            "ticks": ""
           },
           "bgcolor": "white",
           "caxis": {
            "gridcolor": "#DFE8F3",
            "linecolor": "#A2B1C6",
            "ticks": ""
           }
          },
          "title": {
           "x": 0.05
          },
          "xaxis": {
           "automargin": true,
           "gridcolor": "#EBF0F8",
           "linecolor": "#EBF0F8",
           "ticks": "",
           "title": {
            "standoff": 15
           },
           "zerolinecolor": "#EBF0F8",
           "zerolinewidth": 2
          },
          "yaxis": {
           "automargin": true,
           "gridcolor": "#EBF0F8",
           "linecolor": "#EBF0F8",
           "ticks": "",
           "title": {
            "standoff": 15
           },
           "zerolinecolor": "#EBF0F8",
           "zerolinewidth": 2
          }
         }
        },
        "title": {
         "text": "Top 10 Countries: Municipal Waste Generation (Last 10 Years)"
        },
        "xaxis": {
         "title": {
          "text": "Year"
         }
        },
        "yaxis": {
         "rangemode": "tozero",
         "title": {
          "text": "Plastic Waste (Kilograms)"
         }
        }
       }
      }
     },
     "metadata": {},
     "output_type": "display_data"
    }
   ],
   "source": [
    "# Remove EU-wide aggregate from the dataset\n",
    "df_municipal_waste_recycle = df_municipal_waste_recycle[df_municipal_waste_recycle['Geopolitical entity (reporting)'] != 'European Union - 27 countries (from 2020)']\n",
    "# Filter last 10 years\n",
    "last_10_years = sorted(df_municipal_waste_recycle['TIME_PERIOD'].unique())[-10:]\n",
    "df_recent = df_municipal_waste_recycle[df_municipal_waste_recycle['TIME_PERIOD'].isin(last_10_years)]\n",
    "\n",
    "# Group by country and sum plastic waste\n",
    "country_totals = df_recent.groupby('Geopolitical entity (reporting)')['OBS_VALUE'].sum().sort_values(ascending=False)\n",
    "\n",
    "# Get top 10 countries\n",
    "top10_countries = country_totals.head(10).index.tolist()\n",
    "\n",
    "# Identify Germany\n",
    "germany_label = \"Germany\"\n",
    "germany_entry = [c for c in top10_countries if \"Germany\" in c]\n",
    "is_germany_in_top10 = bool(germany_entry)\n",
    "germany_name = germany_entry[0] if is_germany_in_top10 else None\n",
    "\n",
    "# Remove Germany temporarily to assign other colors\n",
    "top10_excluding_germany = [c for c in top10_countries if c != germany_name]\n",
    "top2_others = top10_excluding_germany[:2]\n",
    "rest = top10_excluding_germany[2:]\n",
    "\n",
    "# Filter data for plotting\n",
    "df_top10 = df_recent[df_recent['Geopolitical entity (reporting)'].isin(top10_countries)]\n",
    "\n",
    "# Create figure\n",
    "fig = go.Figure()\n",
    "\n",
    "# Always plot Germany in red\n",
    "if is_germany_in_top10:\n",
    "    df_germany = df_top10[df_top10['Geopolitical entity (reporting)'] == germany_name]\n",
    "    fig.add_trace(go.Scatter(\n",
    "        x=df_germany['TIME_PERIOD'],\n",
    "        y=df_germany['OBS_VALUE'],\n",
    "        mode='lines+markers',\n",
    "        name='Germany',\n",
    "        line=dict(color='crimson', width=3),\n",
    "        marker=dict(size=6, symbol='circle')\n",
    "    ))\n",
    "\n",
    "# Plot top 2 other countries in shades of blue\n",
    "top2_colors = ['#1f77b4', '#2a9fd6']\n",
    "for i, country in enumerate(top2_others):\n",
    "    df_country = df_top10[df_top10['Geopolitical entity (reporting)'] == country]\n",
    "    fig.add_trace(go.Scatter(\n",
    "        x=df_country['TIME_PERIOD'],\n",
    "        y=df_country['OBS_VALUE'],\n",
    "        mode='lines+markers',\n",
    "        name=country,\n",
    "        line=dict(color=top2_colors[i], width=3),\n",
    "        marker=dict(size=6)\n",
    "    ))\n",
    "\n",
    "# Plot remaining countries in grey shades\n",
    "grey_shades = ['#cccccc', '#bbbbbb', '#aaaaaa', '#999999']\n",
    "for i, country in enumerate(rest):\n",
    "    df_country = df_top10[df_top10['Geopolitical entity (reporting)'] == country]\n",
    "    fig.add_trace(go.Scatter(\n",
    "        x=df_country['TIME_PERIOD'],\n",
    "        y=df_country['OBS_VALUE'],\n",
    "        mode='lines',\n",
    "        name=country,\n",
    "        line=dict(color=grey_shades[i % len(grey_shades)], width=1.5),\n",
    "        showlegend=True\n",
    "    ))\n",
    "\n",
    "# Layout customization\n",
    "fig.update_layout(\n",
    "    title='Top 10 Countries: Municipal Waste Generation (Last 10 Years)',\n",
    "    xaxis_title='Year',\n",
    "    yaxis_title='Plastic Waste (Kilograms)',\n",
    "    yaxis=dict(rangemode='tozero'),\n",
    "    template='plotly_white',\n",
    "    legend_title='Country',\n",
    "    hovermode='x unified'\n",
    ")\n",
    "\n",
    "fig.show()\n"
   ]
  },
  {
   "cell_type": "code",
   "execution_count": 81,
   "metadata": {},
   "outputs": [],
   "source": [
    "df_weee_recycle = pd.read_csv(\"./Dataset_CE/Recycling rate of WEEE separately collected.csv\")"
   ]
  },
  {
   "cell_type": "code",
   "execution_count": 82,
   "metadata": {},
   "outputs": [
    {
     "data": {
      "application/vnd.plotly.v1+json": {
       "config": {
        "plotlyServerURL": "https://plot.ly"
       },
       "data": [
        {
         "line": {
          "color": "#1f77b4",
          "width": 3
         },
         "marker": {
          "size": 6
         },
         "mode": "lines+markers",
         "name": "Croatia",
         "type": "scatter",
         "x": {
          "bdata": "3QfeB98H4AfhB+IH4wfkB+UH5gc=",
          "dtype": "i2"
         },
         "y": {
          "bdata": "mpmZmZlZWEDNzMzMzOxXQAAAAAAAIFdAMzMzMzMTWEDNzMzMzMxXQM3MzMzMzFZAMzMzMzMTV0CamZmZmblXQAAAAAAAAFdAZmZmZmaGVkA=",
          "dtype": "f8"
         }
        },
        {
         "line": {
          "color": "#2a9fd6",
          "width": 3
         },
         "marker": {
          "size": 6
         },
         "mode": "lines+markers",
         "name": "Slovakia",
         "type": "scatter",
         "x": {
          "bdata": "3QfeB98H4AfhB+IH4wfkB+UH5gc=",
          "dtype": "i2"
         },
         "y": {
          "bdata": "ZmZmZmZGVUDNzMzMzKxWQM3MzMzMrFVAmpmZmZlZVkBmZmZmZiZWQJqZmZmZOVZAzczMzMzMVkBmZmZmZiZXQAAAAAAAIFdAmpmZmZm5VkA=",
          "dtype": "f8"
         }
        },
        {
         "line": {
          "color": "#99ccff",
          "width": 3
         },
         "marker": {
          "size": 6
         },
         "mode": "lines+markers",
         "name": "Finland",
         "type": "scatter",
         "x": {
          "bdata": "3QfeB98H4AfhB+IH4wfkB+UH5gc=",
          "dtype": "i2"
         },
         "y": {
          "bdata": "mpmZmZn5VUAzMzMzM/NVQAAAAAAAIFdAmpmZmZk5VkAAAAAAAIBWQM3MzMzMbFZAMzMzMzPzVUAzMzMzM7NWQGZmZmZmBlZAmpmZmZkZVkA=",
          "dtype": "f8"
         }
        },
        {
         "line": {
          "color": "crimson",
          "width": 3
         },
         "marker": {
          "size": 6,
          "symbol": "circle"
         },
         "mode": "lines+markers",
         "name": "Germany",
         "type": "scatter",
         "x": {
          "bdata": "3QfeB98H4AfhB+IH4wfkB+UH5gc=",
          "dtype": "i2"
         },
         "y": {
          "bdata": "MzMzMzOzVEDNzMzMzAxVQDMzMzMz01NAzczMzMysVUAzMzMzM3NVQGZmZmZmZlVAmpmZmZlZVUDNzMzMzKxVQGZmZmZmhlVAAAAAAABgVUA=",
          "dtype": "f8"
         }
        },
        {
         "line": {
          "color": "#cccccc",
          "width": 1.5
         },
         "mode": "lines",
         "name": "Czechia",
         "showlegend": true,
         "type": "scatter",
         "x": {
          "bdata": "3QfeB98H4AfhB+IH4wfkB+UH5gc=",
          "dtype": "i2"
         },
         "y": {
          "bdata": "ZmZmZmbGVkAAAAAAAGBVQAAAAAAAoFRAAAAAAACAVkCamZmZmblVQM3MzMzMLFVAZmZmZmYmV0AzMzMzMzNWQAAAAAAAoFdAMzMzMzMzV0A=",
          "dtype": "f8"
         }
        },
        {
         "line": {
          "color": "#bbbbbb",
          "width": 1.5
         },
         "mode": "lines",
         "name": "Luxembourg",
         "showlegend": true,
         "type": "scatter",
         "x": {
          "bdata": "3QfeB98H4AfhB+IH4wfkB+UH5gc=",
          "dtype": "i2"
         },
         "y": {
          "bdata": "ZmZmZmbmVUAAAAAAAABWQJqZmZmZuVVAmpmZmZnZVUBmZmZmZkZWQAAAAAAAAFZAAAAAAAAgVkCamZmZmflVQAAAAAAAQFZAAAAAAABAVUA=",
          "dtype": "f8"
         }
        },
        {
         "line": {
          "color": "#aaaaaa",
          "width": 1.5
         },
         "mode": "lines",
         "name": "Italy",
         "showlegend": true,
         "type": "scatter",
         "x": {
          "bdata": "3QfeB98H4AfhB+IH4wfkB+UH5gc=",
          "dtype": "i2"
         },
         "y": {
          "bdata": "AAAAAAAAVkAzMzMzM5NUQM3MzMzMbFVAAAAAAACAVUCamZmZmTlWQDMzMzMzE1VAzczMzMyMVECamZmZmZlVQGZmZmZmxlVAzczMzMzsVEA=",
          "dtype": "f8"
         }
        },
        {
         "line": {
          "color": "#999999",
          "width": 1.5
         },
         "mode": "lines",
         "name": "Cyprus",
         "showlegend": true,
         "type": "scatter",
         "x": {
          "bdata": "3QfeB98H4AfhB+IH4wfkB+UH5gc=",
          "dtype": "i2"
         },
         "y": {
          "bdata": "MzMzMzMTVECamZmZmVlWQAAAAAAAwFZAMzMzMzPzVUAzMzMzM5NTQGZmZmZmplZAmpmZmZlZVECamZmZmblWQGZmZmZmZlRAzczMzMysU0A=",
          "dtype": "f8"
         }
        },
        {
         "line": {
          "color": "#888888",
          "width": 1.5
         },
         "mode": "lines",
         "name": "Latvia",
         "showlegend": true,
         "type": "scatter",
         "x": {
          "bdata": "3QfeB98H4AfhB+IH4wfkB+UH5gc=",
          "dtype": "i2"
         },
         "y": {
          "bdata": "MzMzMzOTVkAzMzMzM5NWQM3MzMzMjFRAAAAAAAAgVkAzMzMzMzNUQJqZmZmZWVRAAAAAAADAVEAAAAAAAOBUQAAAAAAA4FRAzczMzMysVEA=",
          "dtype": "f8"
         }
        },
        {
         "line": {
          "color": "#777777",
          "width": 1.5
         },
         "mode": "lines",
         "name": "Bulgaria",
         "showlegend": true,
         "type": "scatter",
         "x": {
          "bdata": "3QfeB98H4AfhB+IH4wfkB+UH5gc=",
          "dtype": "i2"
         },
         "y": {
          "bdata": "AAAAAADgVECamZmZmTlVQGZmZmZmZlVAAAAAAABgVEDNzMzMzOxUQAAAAAAAQFRAAAAAAADAVEBmZmZmZuZUQAAAAAAAQFZAZmZmZmZmVUA=",
          "dtype": "f8"
         }
        }
       ],
       "layout": {
        "hovermode": "x unified",
        "legend": {
         "title": {
          "text": "Country"
         }
        },
        "template": {
         "data": {
          "bar": [
           {
            "error_x": {
             "color": "#2a3f5f"
            },
            "error_y": {
             "color": "#2a3f5f"
            },
            "marker": {
             "line": {
              "color": "white",
              "width": 0.5
             },
             "pattern": {
              "fillmode": "overlay",
              "size": 10,
              "solidity": 0.2
             }
            },
            "type": "bar"
           }
          ],
          "barpolar": [
           {
            "marker": {
             "line": {
              "color": "white",
              "width": 0.5
             },
             "pattern": {
              "fillmode": "overlay",
              "size": 10,
              "solidity": 0.2
             }
            },
            "type": "barpolar"
           }
          ],
          "carpet": [
           {
            "aaxis": {
             "endlinecolor": "#2a3f5f",
             "gridcolor": "#C8D4E3",
             "linecolor": "#C8D4E3",
             "minorgridcolor": "#C8D4E3",
             "startlinecolor": "#2a3f5f"
            },
            "baxis": {
             "endlinecolor": "#2a3f5f",
             "gridcolor": "#C8D4E3",
             "linecolor": "#C8D4E3",
             "minorgridcolor": "#C8D4E3",
             "startlinecolor": "#2a3f5f"
            },
            "type": "carpet"
           }
          ],
          "choropleth": [
           {
            "colorbar": {
             "outlinewidth": 0,
             "ticks": ""
            },
            "type": "choropleth"
           }
          ],
          "contour": [
           {
            "colorbar": {
             "outlinewidth": 0,
             "ticks": ""
            },
            "colorscale": [
             [
              0,
              "#0d0887"
             ],
             [
              0.1111111111111111,
              "#46039f"
             ],
             [
              0.2222222222222222,
              "#7201a8"
             ],
             [
              0.3333333333333333,
              "#9c179e"
             ],
             [
              0.4444444444444444,
              "#bd3786"
             ],
             [
              0.5555555555555556,
              "#d8576b"
             ],
             [
              0.6666666666666666,
              "#ed7953"
             ],
             [
              0.7777777777777778,
              "#fb9f3a"
             ],
             [
              0.8888888888888888,
              "#fdca26"
             ],
             [
              1,
              "#f0f921"
             ]
            ],
            "type": "contour"
           }
          ],
          "contourcarpet": [
           {
            "colorbar": {
             "outlinewidth": 0,
             "ticks": ""
            },
            "type": "contourcarpet"
           }
          ],
          "heatmap": [
           {
            "colorbar": {
             "outlinewidth": 0,
             "ticks": ""
            },
            "colorscale": [
             [
              0,
              "#0d0887"
             ],
             [
              0.1111111111111111,
              "#46039f"
             ],
             [
              0.2222222222222222,
              "#7201a8"
             ],
             [
              0.3333333333333333,
              "#9c179e"
             ],
             [
              0.4444444444444444,
              "#bd3786"
             ],
             [
              0.5555555555555556,
              "#d8576b"
             ],
             [
              0.6666666666666666,
              "#ed7953"
             ],
             [
              0.7777777777777778,
              "#fb9f3a"
             ],
             [
              0.8888888888888888,
              "#fdca26"
             ],
             [
              1,
              "#f0f921"
             ]
            ],
            "type": "heatmap"
           }
          ],
          "histogram": [
           {
            "marker": {
             "pattern": {
              "fillmode": "overlay",
              "size": 10,
              "solidity": 0.2
             }
            },
            "type": "histogram"
           }
          ],
          "histogram2d": [
           {
            "colorbar": {
             "outlinewidth": 0,
             "ticks": ""
            },
            "colorscale": [
             [
              0,
              "#0d0887"
             ],
             [
              0.1111111111111111,
              "#46039f"
             ],
             [
              0.2222222222222222,
              "#7201a8"
             ],
             [
              0.3333333333333333,
              "#9c179e"
             ],
             [
              0.4444444444444444,
              "#bd3786"
             ],
             [
              0.5555555555555556,
              "#d8576b"
             ],
             [
              0.6666666666666666,
              "#ed7953"
             ],
             [
              0.7777777777777778,
              "#fb9f3a"
             ],
             [
              0.8888888888888888,
              "#fdca26"
             ],
             [
              1,
              "#f0f921"
             ]
            ],
            "type": "histogram2d"
           }
          ],
          "histogram2dcontour": [
           {
            "colorbar": {
             "outlinewidth": 0,
             "ticks": ""
            },
            "colorscale": [
             [
              0,
              "#0d0887"
             ],
             [
              0.1111111111111111,
              "#46039f"
             ],
             [
              0.2222222222222222,
              "#7201a8"
             ],
             [
              0.3333333333333333,
              "#9c179e"
             ],
             [
              0.4444444444444444,
              "#bd3786"
             ],
             [
              0.5555555555555556,
              "#d8576b"
             ],
             [
              0.6666666666666666,
              "#ed7953"
             ],
             [
              0.7777777777777778,
              "#fb9f3a"
             ],
             [
              0.8888888888888888,
              "#fdca26"
             ],
             [
              1,
              "#f0f921"
             ]
            ],
            "type": "histogram2dcontour"
           }
          ],
          "mesh3d": [
           {
            "colorbar": {
             "outlinewidth": 0,
             "ticks": ""
            },
            "type": "mesh3d"
           }
          ],
          "parcoords": [
           {
            "line": {
             "colorbar": {
              "outlinewidth": 0,
              "ticks": ""
             }
            },
            "type": "parcoords"
           }
          ],
          "pie": [
           {
            "automargin": true,
            "type": "pie"
           }
          ],
          "scatter": [
           {
            "fillpattern": {
             "fillmode": "overlay",
             "size": 10,
             "solidity": 0.2
            },
            "type": "scatter"
           }
          ],
          "scatter3d": [
           {
            "line": {
             "colorbar": {
              "outlinewidth": 0,
              "ticks": ""
             }
            },
            "marker": {
             "colorbar": {
              "outlinewidth": 0,
              "ticks": ""
             }
            },
            "type": "scatter3d"
           }
          ],
          "scattercarpet": [
           {
            "marker": {
             "colorbar": {
              "outlinewidth": 0,
              "ticks": ""
             }
            },
            "type": "scattercarpet"
           }
          ],
          "scattergeo": [
           {
            "marker": {
             "colorbar": {
              "outlinewidth": 0,
              "ticks": ""
             }
            },
            "type": "scattergeo"
           }
          ],
          "scattergl": [
           {
            "marker": {
             "colorbar": {
              "outlinewidth": 0,
              "ticks": ""
             }
            },
            "type": "scattergl"
           }
          ],
          "scattermap": [
           {
            "marker": {
             "colorbar": {
              "outlinewidth": 0,
              "ticks": ""
             }
            },
            "type": "scattermap"
           }
          ],
          "scattermapbox": [
           {
            "marker": {
             "colorbar": {
              "outlinewidth": 0,
              "ticks": ""
             }
            },
            "type": "scattermapbox"
           }
          ],
          "scatterpolar": [
           {
            "marker": {
             "colorbar": {
              "outlinewidth": 0,
              "ticks": ""
             }
            },
            "type": "scatterpolar"
           }
          ],
          "scatterpolargl": [
           {
            "marker": {
             "colorbar": {
              "outlinewidth": 0,
              "ticks": ""
             }
            },
            "type": "scatterpolargl"
           }
          ],
          "scatterternary": [
           {
            "marker": {
             "colorbar": {
              "outlinewidth": 0,
              "ticks": ""
             }
            },
            "type": "scatterternary"
           }
          ],
          "surface": [
           {
            "colorbar": {
             "outlinewidth": 0,
             "ticks": ""
            },
            "colorscale": [
             [
              0,
              "#0d0887"
             ],
             [
              0.1111111111111111,
              "#46039f"
             ],
             [
              0.2222222222222222,
              "#7201a8"
             ],
             [
              0.3333333333333333,
              "#9c179e"
             ],
             [
              0.4444444444444444,
              "#bd3786"
             ],
             [
              0.5555555555555556,
              "#d8576b"
             ],
             [
              0.6666666666666666,
              "#ed7953"
             ],
             [
              0.7777777777777778,
              "#fb9f3a"
             ],
             [
              0.8888888888888888,
              "#fdca26"
             ],
             [
              1,
              "#f0f921"
             ]
            ],
            "type": "surface"
           }
          ],
          "table": [
           {
            "cells": {
             "fill": {
              "color": "#EBF0F8"
             },
             "line": {
              "color": "white"
             }
            },
            "header": {
             "fill": {
              "color": "#C8D4E3"
             },
             "line": {
              "color": "white"
             }
            },
            "type": "table"
           }
          ]
         },
         "layout": {
          "annotationdefaults": {
           "arrowcolor": "#2a3f5f",
           "arrowhead": 0,
           "arrowwidth": 1
          },
          "autotypenumbers": "strict",
          "coloraxis": {
           "colorbar": {
            "outlinewidth": 0,
            "ticks": ""
           }
          },
          "colorscale": {
           "diverging": [
            [
             0,
             "#8e0152"
            ],
            [
             0.1,
             "#c51b7d"
            ],
            [
             0.2,
             "#de77ae"
            ],
            [
             0.3,
             "#f1b6da"
            ],
            [
             0.4,
             "#fde0ef"
            ],
            [
             0.5,
             "#f7f7f7"
            ],
            [
             0.6,
             "#e6f5d0"
            ],
            [
             0.7,
             "#b8e186"
            ],
            [
             0.8,
             "#7fbc41"
            ],
            [
             0.9,
             "#4d9221"
            ],
            [
             1,
             "#276419"
            ]
           ],
           "sequential": [
            [
             0,
             "#0d0887"
            ],
            [
             0.1111111111111111,
             "#46039f"
            ],
            [
             0.2222222222222222,
             "#7201a8"
            ],
            [
             0.3333333333333333,
             "#9c179e"
            ],
            [
             0.4444444444444444,
             "#bd3786"
            ],
            [
             0.5555555555555556,
             "#d8576b"
            ],
            [
             0.6666666666666666,
             "#ed7953"
            ],
            [
             0.7777777777777778,
             "#fb9f3a"
            ],
            [
             0.8888888888888888,
             "#fdca26"
            ],
            [
             1,
             "#f0f921"
            ]
           ],
           "sequentialminus": [
            [
             0,
             "#0d0887"
            ],
            [
             0.1111111111111111,
             "#46039f"
            ],
            [
             0.2222222222222222,
             "#7201a8"
            ],
            [
             0.3333333333333333,
             "#9c179e"
            ],
            [
             0.4444444444444444,
             "#bd3786"
            ],
            [
             0.5555555555555556,
             "#d8576b"
            ],
            [
             0.6666666666666666,
             "#ed7953"
            ],
            [
             0.7777777777777778,
             "#fb9f3a"
            ],
            [
             0.8888888888888888,
             "#fdca26"
            ],
            [
             1,
             "#f0f921"
            ]
           ]
          },
          "colorway": [
           "#636efa",
           "#EF553B",
           "#00cc96",
           "#ab63fa",
           "#FFA15A",
           "#19d3f3",
           "#FF6692",
           "#B6E880",
           "#FF97FF",
           "#FECB52"
          ],
          "font": {
           "color": "#2a3f5f"
          },
          "geo": {
           "bgcolor": "white",
           "lakecolor": "white",
           "landcolor": "white",
           "showlakes": true,
           "showland": true,
           "subunitcolor": "#C8D4E3"
          },
          "hoverlabel": {
           "align": "left"
          },
          "hovermode": "closest",
          "mapbox": {
           "style": "light"
          },
          "paper_bgcolor": "white",
          "plot_bgcolor": "white",
          "polar": {
           "angularaxis": {
            "gridcolor": "#EBF0F8",
            "linecolor": "#EBF0F8",
            "ticks": ""
           },
           "bgcolor": "white",
           "radialaxis": {
            "gridcolor": "#EBF0F8",
            "linecolor": "#EBF0F8",
            "ticks": ""
           }
          },
          "scene": {
           "xaxis": {
            "backgroundcolor": "white",
            "gridcolor": "#DFE8F3",
            "gridwidth": 2,
            "linecolor": "#EBF0F8",
            "showbackground": true,
            "ticks": "",
            "zerolinecolor": "#EBF0F8"
           },
           "yaxis": {
            "backgroundcolor": "white",
            "gridcolor": "#DFE8F3",
            "gridwidth": 2,
            "linecolor": "#EBF0F8",
            "showbackground": true,
            "ticks": "",
            "zerolinecolor": "#EBF0F8"
           },
           "zaxis": {
            "backgroundcolor": "white",
            "gridcolor": "#DFE8F3",
            "gridwidth": 2,
            "linecolor": "#EBF0F8",
            "showbackground": true,
            "ticks": "",
            "zerolinecolor": "#EBF0F8"
           }
          },
          "shapedefaults": {
           "line": {
            "color": "#2a3f5f"
           }
          },
          "ternary": {
           "aaxis": {
            "gridcolor": "#DFE8F3",
            "linecolor": "#A2B1C6",
            "ticks": ""
           },
           "baxis": {
            "gridcolor": "#DFE8F3",
            "linecolor": "#A2B1C6",
            "ticks": ""
           },
           "bgcolor": "white",
           "caxis": {
            "gridcolor": "#DFE8F3",
            "linecolor": "#A2B1C6",
            "ticks": ""
           }
          },
          "title": {
           "x": 0.05
          },
          "xaxis": {
           "automargin": true,
           "gridcolor": "#EBF0F8",
           "linecolor": "#EBF0F8",
           "ticks": "",
           "title": {
            "standoff": 15
           },
           "zerolinecolor": "#EBF0F8",
           "zerolinewidth": 2
          },
          "yaxis": {
           "automargin": true,
           "gridcolor": "#EBF0F8",
           "linecolor": "#EBF0F8",
           "ticks": "",
           "title": {
            "standoff": 15
           },
           "zerolinecolor": "#EBF0F8",
           "zerolinewidth": 2
          }
         }
        },
        "title": {
         "text": "Top 10 Countries: Municipal Waste Generation (Last 10 Years)"
        },
        "xaxis": {
         "title": {
          "text": "Year"
         }
        },
        "yaxis": {
         "rangemode": "tozero",
         "title": {
          "text": "WEEE Recycling Rate"
         }
        }
       }
      }
     },
     "metadata": {},
     "output_type": "display_data"
    }
   ],
   "source": [
    "\n",
    "\n",
    "# Filter the last 10 years\n",
    "last_10_years = sorted(df_weee_recycle['TIME_PERIOD'].unique())[-10:]\n",
    "df_recent = df_weee_recycle[df_weee_recycle['TIME_PERIOD'].isin(last_10_years)]\n",
    "\n",
    "# Group by country and sum plastic waste over last 10 years\n",
    "country_totals = df_recent.groupby('Geopolitical entity (reporting)')['OBS_VALUE'].sum().sort_values(ascending=False)\n",
    "\n",
    "# Get top 10 countries\n",
    "top10_countries = country_totals.head(10).index.tolist()\n",
    "top3 = top10_countries[:3]\n",
    "rest = top10_countries[3:]\n",
    "\n",
    "# Check if Germany is in top 10\n",
    "germany_label = \"Germany\"\n",
    "germany_entry = [c for c in top10_countries if \"Germany\" in c]\n",
    "rest_except_germany = [c for c in rest if c != germany_entry[0]] if germany_entry else rest\n",
    "\n",
    "# Filter data only for top 10 countries\n",
    "df_top10 = df_recent[df_recent['Geopolitical entity (reporting)'].isin(top10_countries)]\n",
    "\n",
    "# Create figure\n",
    "fig = go.Figure()\n",
    "\n",
    "# Add top 3 countries with shades of blue\n",
    "top3_colors = ['#1f77b4', '#2a9fd6', '#99ccff']\n",
    "for i, country in enumerate(top3):\n",
    "    df_country = df_top10[df_top10['Geopolitical entity (reporting)'] == country]\n",
    "    fig.add_trace(go.Scatter(\n",
    "        x=df_country['TIME_PERIOD'],\n",
    "        y=df_country['OBS_VALUE'],\n",
    "        mode='lines+markers',\n",
    "        name=country,\n",
    "        line=dict(color=top3_colors[i], width=3),\n",
    "        marker=dict(size=6)\n",
    "    ))\n",
    "\n",
    "# Add Germany with a distinct color (red)\n",
    "if germany_entry:\n",
    "    df_germany = df_top10[df_top10['Geopolitical entity (reporting)'] == germany_entry[0]]\n",
    "    fig.add_trace(go.Scatter(\n",
    "        x=df_germany['TIME_PERIOD'],\n",
    "        y=df_germany['OBS_VALUE'],\n",
    "        mode='lines+markers',\n",
    "        name='Germany',\n",
    "        line=dict(color='crimson', width=3),\n",
    "        marker=dict(size=6, symbol='circle')\n",
    "    ))\n",
    "\n",
    "# Add remaining countries with subtle grey gradient\n",
    "grey_shades = ['#cccccc', '#bbbbbb', '#aaaaaa', '#999999', '#888888', '#777777']\n",
    "for i, country in enumerate(rest_except_germany):\n",
    "    df_country = df_top10[df_top10['Geopolitical entity (reporting)'] == country]\n",
    "    fig.add_trace(go.Scatter(\n",
    "        x=df_country['TIME_PERIOD'],\n",
    "        y=df_country['OBS_VALUE'],\n",
    "        mode='lines',\n",
    "        name=country,\n",
    "        line=dict(color=grey_shades[i % len(grey_shades)], width=1.5),\n",
    "        showlegend=True\n",
    "    ))\n",
    "\n",
    "# Layout customization\n",
    "fig.update_layout(\n",
    "    title='Top 10 Countries: Municipal Waste Generation (Last 10 Years)',\n",
    "    xaxis_title='Year',\n",
    "    yaxis_title='WEEE Recycling Rate',\n",
    "    yaxis=dict(rangemode='tozero'),  # Start y-axis at 0\n",
    "    template='plotly_white',\n",
    "    legend_title='Country',\n",
    "    hovermode='x unified'\n",
    ")\n",
    "\n",
    "fig.show()\n"
   ]
  },
  {
   "cell_type": "markdown",
   "metadata": {},
   "source": [
    "Circular Material Use Rate"
   ]
  },
  {
   "cell_type": "code",
   "execution_count": 58,
   "metadata": {},
   "outputs": [],
   "source": [
    "df_circular_mtl_use = pd.read_csv(\"./Dataset_CE/Circular_material_use_rate.csv\")"
   ]
  },
  {
   "cell_type": "code",
   "execution_count": 63,
   "metadata": {},
   "outputs": [
    {
     "data": {
      "application/vnd.plotly.v1+json": {
       "config": {
        "plotlyServerURL": "https://plot.ly"
       },
       "data": [
        {
         "coloraxis": "coloraxis",
         "geo": "geo",
         "hovertemplate": "<b>%{hovertext}</b><br><br>Country=%{location}<br>Circular Material Use Rate (%)=%{z}<extra></extra>",
         "hovertext": [
          "Austria",
          "Belgium",
          "Bulgaria",
          "Cyprus",
          "Czech Republic",
          "Germany",
          "Denmark",
          "Estonia",
          "Greece",
          "Spain",
          "European Union - 27 countries (from 2020)",
          "Finland",
          "France",
          "Croatia",
          "Hungary",
          "Ireland",
          "Italy",
          "Lithuania",
          "Luxembourg",
          "Latvia",
          "Malta",
          "Netherlands",
          "Poland",
          "Portugal",
          "Romania",
          "Sweden",
          "Slovenia",
          "Slovakia"
         ],
         "locationmode": "country names",
         "locations": [
          "Austria",
          "Belgium",
          "Bulgaria",
          "Cyprus",
          "Czech Republic",
          "Germany",
          "Denmark",
          "Estonia",
          "Greece",
          "Spain",
          "European Union - 27 countries (from 2020)",
          "Finland",
          "France",
          "Croatia",
          "Hungary",
          "Ireland",
          "Italy",
          "Lithuania",
          "Luxembourg",
          "Latvia",
          "Malta",
          "Netherlands",
          "Poland",
          "Portugal",
          "Romania",
          "Sweden",
          "Slovenia",
          "Slovakia"
         ],
         "name": "",
         "type": "choropleth",
         "z": {
          "bdata": "mpmZmZmZLEAzMzMzM7MzQJqZmZmZmRNAmpmZmZmZFUCamZmZmZkpQM3MzMzMzCtAMzMzMzMzIkCamZmZmRkyQM3MzMzMzBRAAAAAAAAAIUCamZmZmZknQDMzMzMzMwNAmpmZmZmZMUDNzMzMzMwYQJqZmZmZmRdAZmZmZmZmAkDNzMzMzMw0QDMzMzMzMw9AZmZmZmZmJEAAAAAAAAAUQM3MzMzMzDNAmpmZmZmZPkAAAAAAAAAeQGZmZmZmZgZAzczMzMzM9D/NzMzMzMwjQJqZmZmZmSFAMzMzMzMzJUA=",
          "dtype": "f8"
         }
        }
       ],
       "layout": {
        "coloraxis": {
         "colorbar": {
          "title": {
           "text": "Circular Material Use Rate (%)"
          }
         },
         "colorscale": [
          [
           0,
           "#440154"
          ],
          [
           0.1111111111111111,
           "#482878"
          ],
          [
           0.2222222222222222,
           "#3e4989"
          ],
          [
           0.3333333333333333,
           "#31688e"
          ],
          [
           0.4444444444444444,
           "#26828e"
          ],
          [
           0.5555555555555556,
           "#1f9e89"
          ],
          [
           0.6666666666666666,
           "#35b779"
          ],
          [
           0.7777777777777778,
           "#6ece58"
          ],
          [
           0.8888888888888888,
           "#b5de2b"
          ],
          [
           1,
           "#fde725"
          ]
         ]
        },
        "geo": {
         "bgcolor": "rgba(0,0,0,0)",
         "center": {},
         "domain": {
          "x": [
           0,
           1
          ],
          "y": [
           0,
           1
          ]
         },
         "fitbounds": false,
         "projection": {
          "type": "natural earth"
         },
         "showcoastlines": true,
         "showcountries": true,
         "showland": true
        },
        "legend": {
         "tracegroupgap": 0
        },
        "margin": {
         "b": 0,
         "l": 0,
         "r": 0,
         "t": 50
        },
        "template": {
         "data": {
          "bar": [
           {
            "error_x": {
             "color": "#2a3f5f"
            },
            "error_y": {
             "color": "#2a3f5f"
            },
            "marker": {
             "line": {
              "color": "white",
              "width": 0.5
             },
             "pattern": {
              "fillmode": "overlay",
              "size": 10,
              "solidity": 0.2
             }
            },
            "type": "bar"
           }
          ],
          "barpolar": [
           {
            "marker": {
             "line": {
              "color": "white",
              "width": 0.5
             },
             "pattern": {
              "fillmode": "overlay",
              "size": 10,
              "solidity": 0.2
             }
            },
            "type": "barpolar"
           }
          ],
          "carpet": [
           {
            "aaxis": {
             "endlinecolor": "#2a3f5f",
             "gridcolor": "#C8D4E3",
             "linecolor": "#C8D4E3",
             "minorgridcolor": "#C8D4E3",
             "startlinecolor": "#2a3f5f"
            },
            "baxis": {
             "endlinecolor": "#2a3f5f",
             "gridcolor": "#C8D4E3",
             "linecolor": "#C8D4E3",
             "minorgridcolor": "#C8D4E3",
             "startlinecolor": "#2a3f5f"
            },
            "type": "carpet"
           }
          ],
          "choropleth": [
           {
            "colorbar": {
             "outlinewidth": 0,
             "ticks": ""
            },
            "type": "choropleth"
           }
          ],
          "contour": [
           {
            "colorbar": {
             "outlinewidth": 0,
             "ticks": ""
            },
            "colorscale": [
             [
              0,
              "#0d0887"
             ],
             [
              0.1111111111111111,
              "#46039f"
             ],
             [
              0.2222222222222222,
              "#7201a8"
             ],
             [
              0.3333333333333333,
              "#9c179e"
             ],
             [
              0.4444444444444444,
              "#bd3786"
             ],
             [
              0.5555555555555556,
              "#d8576b"
             ],
             [
              0.6666666666666666,
              "#ed7953"
             ],
             [
              0.7777777777777778,
              "#fb9f3a"
             ],
             [
              0.8888888888888888,
              "#fdca26"
             ],
             [
              1,
              "#f0f921"
             ]
            ],
            "type": "contour"
           }
          ],
          "contourcarpet": [
           {
            "colorbar": {
             "outlinewidth": 0,
             "ticks": ""
            },
            "type": "contourcarpet"
           }
          ],
          "heatmap": [
           {
            "colorbar": {
             "outlinewidth": 0,
             "ticks": ""
            },
            "colorscale": [
             [
              0,
              "#0d0887"
             ],
             [
              0.1111111111111111,
              "#46039f"
             ],
             [
              0.2222222222222222,
              "#7201a8"
             ],
             [
              0.3333333333333333,
              "#9c179e"
             ],
             [
              0.4444444444444444,
              "#bd3786"
             ],
             [
              0.5555555555555556,
              "#d8576b"
             ],
             [
              0.6666666666666666,
              "#ed7953"
             ],
             [
              0.7777777777777778,
              "#fb9f3a"
             ],
             [
              0.8888888888888888,
              "#fdca26"
             ],
             [
              1,
              "#f0f921"
             ]
            ],
            "type": "heatmap"
           }
          ],
          "histogram": [
           {
            "marker": {
             "pattern": {
              "fillmode": "overlay",
              "size": 10,
              "solidity": 0.2
             }
            },
            "type": "histogram"
           }
          ],
          "histogram2d": [
           {
            "colorbar": {
             "outlinewidth": 0,
             "ticks": ""
            },
            "colorscale": [
             [
              0,
              "#0d0887"
             ],
             [
              0.1111111111111111,
              "#46039f"
             ],
             [
              0.2222222222222222,
              "#7201a8"
             ],
             [
              0.3333333333333333,
              "#9c179e"
             ],
             [
              0.4444444444444444,
              "#bd3786"
             ],
             [
              0.5555555555555556,
              "#d8576b"
             ],
             [
              0.6666666666666666,
              "#ed7953"
             ],
             [
              0.7777777777777778,
              "#fb9f3a"
             ],
             [
              0.8888888888888888,
              "#fdca26"
             ],
             [
              1,
              "#f0f921"
             ]
            ],
            "type": "histogram2d"
           }
          ],
          "histogram2dcontour": [
           {
            "colorbar": {
             "outlinewidth": 0,
             "ticks": ""
            },
            "colorscale": [
             [
              0,
              "#0d0887"
             ],
             [
              0.1111111111111111,
              "#46039f"
             ],
             [
              0.2222222222222222,
              "#7201a8"
             ],
             [
              0.3333333333333333,
              "#9c179e"
             ],
             [
              0.4444444444444444,
              "#bd3786"
             ],
             [
              0.5555555555555556,
              "#d8576b"
             ],
             [
              0.6666666666666666,
              "#ed7953"
             ],
             [
              0.7777777777777778,
              "#fb9f3a"
             ],
             [
              0.8888888888888888,
              "#fdca26"
             ],
             [
              1,
              "#f0f921"
             ]
            ],
            "type": "histogram2dcontour"
           }
          ],
          "mesh3d": [
           {
            "colorbar": {
             "outlinewidth": 0,
             "ticks": ""
            },
            "type": "mesh3d"
           }
          ],
          "parcoords": [
           {
            "line": {
             "colorbar": {
              "outlinewidth": 0,
              "ticks": ""
             }
            },
            "type": "parcoords"
           }
          ],
          "pie": [
           {
            "automargin": true,
            "type": "pie"
           }
          ],
          "scatter": [
           {
            "fillpattern": {
             "fillmode": "overlay",
             "size": 10,
             "solidity": 0.2
            },
            "type": "scatter"
           }
          ],
          "scatter3d": [
           {
            "line": {
             "colorbar": {
              "outlinewidth": 0,
              "ticks": ""
             }
            },
            "marker": {
             "colorbar": {
              "outlinewidth": 0,
              "ticks": ""
             }
            },
            "type": "scatter3d"
           }
          ],
          "scattercarpet": [
           {
            "marker": {
             "colorbar": {
              "outlinewidth": 0,
              "ticks": ""
             }
            },
            "type": "scattercarpet"
           }
          ],
          "scattergeo": [
           {
            "marker": {
             "colorbar": {
              "outlinewidth": 0,
              "ticks": ""
             }
            },
            "type": "scattergeo"
           }
          ],
          "scattergl": [
           {
            "marker": {
             "colorbar": {
              "outlinewidth": 0,
              "ticks": ""
             }
            },
            "type": "scattergl"
           }
          ],
          "scattermap": [
           {
            "marker": {
             "colorbar": {
              "outlinewidth": 0,
              "ticks": ""
             }
            },
            "type": "scattermap"
           }
          ],
          "scattermapbox": [
           {
            "marker": {
             "colorbar": {
              "outlinewidth": 0,
              "ticks": ""
             }
            },
            "type": "scattermapbox"
           }
          ],
          "scatterpolar": [
           {
            "marker": {
             "colorbar": {
              "outlinewidth": 0,
              "ticks": ""
             }
            },
            "type": "scatterpolar"
           }
          ],
          "scatterpolargl": [
           {
            "marker": {
             "colorbar": {
              "outlinewidth": 0,
              "ticks": ""
             }
            },
            "type": "scatterpolargl"
           }
          ],
          "scatterternary": [
           {
            "marker": {
             "colorbar": {
              "outlinewidth": 0,
              "ticks": ""
             }
            },
            "type": "scatterternary"
           }
          ],
          "surface": [
           {
            "colorbar": {
             "outlinewidth": 0,
             "ticks": ""
            },
            "colorscale": [
             [
              0,
              "#0d0887"
             ],
             [
              0.1111111111111111,
              "#46039f"
             ],
             [
              0.2222222222222222,
              "#7201a8"
             ],
             [
              0.3333333333333333,
              "#9c179e"
             ],
             [
              0.4444444444444444,
              "#bd3786"
             ],
             [
              0.5555555555555556,
              "#d8576b"
             ],
             [
              0.6666666666666666,
              "#ed7953"
             ],
             [
              0.7777777777777778,
              "#fb9f3a"
             ],
             [
              0.8888888888888888,
              "#fdca26"
             ],
             [
              1,
              "#f0f921"
             ]
            ],
            "type": "surface"
           }
          ],
          "table": [
           {
            "cells": {
             "fill": {
              "color": "#EBF0F8"
             },
             "line": {
              "color": "white"
             }
            },
            "header": {
             "fill": {
              "color": "#C8D4E3"
             },
             "line": {
              "color": "white"
             }
            },
            "type": "table"
           }
          ]
         },
         "layout": {
          "annotationdefaults": {
           "arrowcolor": "#2a3f5f",
           "arrowhead": 0,
           "arrowwidth": 1
          },
          "autotypenumbers": "strict",
          "coloraxis": {
           "colorbar": {
            "outlinewidth": 0,
            "ticks": ""
           }
          },
          "colorscale": {
           "diverging": [
            [
             0,
             "#8e0152"
            ],
            [
             0.1,
             "#c51b7d"
            ],
            [
             0.2,
             "#de77ae"
            ],
            [
             0.3,
             "#f1b6da"
            ],
            [
             0.4,
             "#fde0ef"
            ],
            [
             0.5,
             "#f7f7f7"
            ],
            [
             0.6,
             "#e6f5d0"
            ],
            [
             0.7,
             "#b8e186"
            ],
            [
             0.8,
             "#7fbc41"
            ],
            [
             0.9,
             "#4d9221"
            ],
            [
             1,
             "#276419"
            ]
           ],
           "sequential": [
            [
             0,
             "#0d0887"
            ],
            [
             0.1111111111111111,
             "#46039f"
            ],
            [
             0.2222222222222222,
             "#7201a8"
            ],
            [
             0.3333333333333333,
             "#9c179e"
            ],
            [
             0.4444444444444444,
             "#bd3786"
            ],
            [
             0.5555555555555556,
             "#d8576b"
            ],
            [
             0.6666666666666666,
             "#ed7953"
            ],
            [
             0.7777777777777778,
             "#fb9f3a"
            ],
            [
             0.8888888888888888,
             "#fdca26"
            ],
            [
             1,
             "#f0f921"
            ]
           ],
           "sequentialminus": [
            [
             0,
             "#0d0887"
            ],
            [
             0.1111111111111111,
             "#46039f"
            ],
            [
             0.2222222222222222,
             "#7201a8"
            ],
            [
             0.3333333333333333,
             "#9c179e"
            ],
            [
             0.4444444444444444,
             "#bd3786"
            ],
            [
             0.5555555555555556,
             "#d8576b"
            ],
            [
             0.6666666666666666,
             "#ed7953"
            ],
            [
             0.7777777777777778,
             "#fb9f3a"
            ],
            [
             0.8888888888888888,
             "#fdca26"
            ],
            [
             1,
             "#f0f921"
            ]
           ]
          },
          "colorway": [
           "#636efa",
           "#EF553B",
           "#00cc96",
           "#ab63fa",
           "#FFA15A",
           "#19d3f3",
           "#FF6692",
           "#B6E880",
           "#FF97FF",
           "#FECB52"
          ],
          "font": {
           "color": "#2a3f5f"
          },
          "geo": {
           "bgcolor": "white",
           "lakecolor": "white",
           "landcolor": "white",
           "showlakes": true,
           "showland": true,
           "subunitcolor": "#C8D4E3"
          },
          "hoverlabel": {
           "align": "left"
          },
          "hovermode": "closest",
          "mapbox": {
           "style": "light"
          },
          "paper_bgcolor": "white",
          "plot_bgcolor": "white",
          "polar": {
           "angularaxis": {
            "gridcolor": "#EBF0F8",
            "linecolor": "#EBF0F8",
            "ticks": ""
           },
           "bgcolor": "white",
           "radialaxis": {
            "gridcolor": "#EBF0F8",
            "linecolor": "#EBF0F8",
            "ticks": ""
           }
          },
          "scene": {
           "xaxis": {
            "backgroundcolor": "white",
            "gridcolor": "#DFE8F3",
            "gridwidth": 2,
            "linecolor": "#EBF0F8",
            "showbackground": true,
            "ticks": "",
            "zerolinecolor": "#EBF0F8"
           },
           "yaxis": {
            "backgroundcolor": "white",
            "gridcolor": "#DFE8F3",
            "gridwidth": 2,
            "linecolor": "#EBF0F8",
            "showbackground": true,
            "ticks": "",
            "zerolinecolor": "#EBF0F8"
           },
           "zaxis": {
            "backgroundcolor": "white",
            "gridcolor": "#DFE8F3",
            "gridwidth": 2,
            "linecolor": "#EBF0F8",
            "showbackground": true,
            "ticks": "",
            "zerolinecolor": "#EBF0F8"
           }
          },
          "shapedefaults": {
           "line": {
            "color": "#2a3f5f"
           }
          },
          "ternary": {
           "aaxis": {
            "gridcolor": "#DFE8F3",
            "linecolor": "#A2B1C6",
            "ticks": ""
           },
           "baxis": {
            "gridcolor": "#DFE8F3",
            "linecolor": "#A2B1C6",
            "ticks": ""
           },
           "bgcolor": "white",
           "caxis": {
            "gridcolor": "#DFE8F3",
            "linecolor": "#A2B1C6",
            "ticks": ""
           }
          },
          "title": {
           "x": 0.05
          },
          "xaxis": {
           "automargin": true,
           "gridcolor": "#EBF0F8",
           "linecolor": "#EBF0F8",
           "ticks": "",
           "title": {
            "standoff": 15
           },
           "zerolinecolor": "#EBF0F8",
           "zerolinewidth": 2
          },
          "yaxis": {
           "automargin": true,
           "gridcolor": "#EBF0F8",
           "linecolor": "#EBF0F8",
           "ticks": "",
           "title": {
            "standoff": 15
           },
           "zerolinecolor": "#EBF0F8",
           "zerolinewidth": 2
          }
         }
        },
        "title": {
         "text": "Circular Material Use Rate by Country (2023)"
        }
       }
      }
     },
     "metadata": {},
     "output_type": "display_data"
    }
   ],
   "source": [
    "\n",
    "\n",
    "# Drop missing and unwanted units if necessary\n",
    "df_circular_mtl_use = df_circular_mtl_use[['Geopolitical entity (reporting)', 'TIME_PERIOD', 'OBS_VALUE']].dropna()\n",
    "\n",
    "# Keep only the latest year\n",
    "latest_year = df_circular_mtl_use['TIME_PERIOD'].max()\n",
    "df_latest = df_circular_mtl_use[df_circular_mtl_use['TIME_PERIOD'] == latest_year].copy()\n",
    "\n",
    "# Rename columns\n",
    "df_latest.rename(columns={\n",
    "    'Geopolitical entity (reporting)': 'Country',\n",
    "    'OBS_VALUE': 'Circular Material Use Rate (%)'\n",
    "}, inplace=True)\n",
    "\n",
    "# Map EU reporting names to actual country names if needed\n",
    "country_name_map = {\n",
    "    \"Czechia\": \"Czech Republic\",\n",
    "    \"EU27_2020\": \"European Union\"  # Optional: remove if not a real country\n",
    "}\n",
    "\n",
    "df_latest['Country'] = df_latest['Country'].replace(country_name_map)\n",
    "\n",
    "# World choropleth (only values for countries in the data)\n",
    "fig = px.choropleth(\n",
    "    df_latest,\n",
    "    locations=\"Country\",\n",
    "    locationmode=\"country names\",\n",
    "    color=\"Circular Material Use Rate (%)\",\n",
    "    hover_name=\"Country\",\n",
    "    color_continuous_scale=\"Viridis\",\n",
    "    title=f\"Circular Material Use Rate by Country ({latest_year})\",\n",
    "    template=\"plotly_white\"\n",
    ")\n",
    "\n",
    "# Ensure full world map is visible\n",
    "fig.update_geos(\n",
    "    showcoastlines=True,\n",
    "    showland=True,\n",
    "    showcountries=True,\n",
    "    fitbounds=False,  # Ensures full world map instead of zoom to data\n",
    "    projection_type=\"natural earth\"\n",
    ")\n",
    "\n",
    "fig.update_layout(\n",
    "    margin={\"r\":0,\"t\":50,\"l\":0,\"b\":0},\n",
    "    geo=dict(bgcolor=\"rgba(0,0,0,0)\")\n",
    ")\n",
    "\n",
    "fig.show()\n"
   ]
  },
  {
   "cell_type": "code",
   "execution_count": 83,
   "metadata": {},
   "outputs": [
    {
     "ename": "ObsoleteAttributeException",
     "evalue": "app.run_server has been replaced by app.run",
     "output_type": "error",
     "traceback": [
      "\u001b[31m---------------------------------------------------------------------------\u001b[39m",
      "\u001b[31mObsoleteAttributeException\u001b[39m                Traceback (most recent call last)",
      "\u001b[36mCell\u001b[39m\u001b[36m \u001b[39m\u001b[32mIn[83]\u001b[39m\u001b[32m, line 73\u001b[39m\n\u001b[32m     71\u001b[39m \u001b[38;5;66;03m# Run app\u001b[39;00m\n\u001b[32m     72\u001b[39m \u001b[38;5;28;01mif\u001b[39;00m \u001b[34m__name__\u001b[39m == \u001b[33m'\u001b[39m\u001b[33m__main__\u001b[39m\u001b[33m'\u001b[39m:\n\u001b[32m---> \u001b[39m\u001b[32m73\u001b[39m     \u001b[43mapp\u001b[49m\u001b[43m.\u001b[49m\u001b[43mrun_server\u001b[49m(debug=\u001b[38;5;28;01mTrue\u001b[39;00m)\n",
      "\u001b[36mFile \u001b[39m\u001b[32m~/miniconda3/lib/python3.12/site-packages/dash/_obsolete.py:22\u001b[39m, in \u001b[36mObsoleteChecker.__getattr__\u001b[39m\u001b[34m(self, name)\u001b[39m\n\u001b[32m     20\u001b[39m \u001b[38;5;28;01mif\u001b[39;00m name \u001b[38;5;129;01min\u001b[39;00m \u001b[38;5;28mself\u001b[39m._obsolete_attributes:\n\u001b[32m     21\u001b[39m     err = \u001b[38;5;28mself\u001b[39m._obsolete_attributes[name]\n\u001b[32m---> \u001b[39m\u001b[32m22\u001b[39m     \u001b[38;5;28;01mraise\u001b[39;00m err.exc(err.message)\n\u001b[32m     23\u001b[39m \u001b[38;5;28;01mreturn\u001b[39;00m \u001b[38;5;28mgetattr\u001b[39m(\u001b[38;5;28mself\u001b[39m.\u001b[34m__dict__\u001b[39m, name)\n",
      "\u001b[31mObsoleteAttributeException\u001b[39m: app.run_server has been replaced by app.run"
     ]
    }
   ],
   "source": [
    "from dash import Dash, dcc, html, Input, Output\n",
    "import pandas as pd\n",
    "import plotly.express as px\n",
    "\n",
    "# Load your dataset\n",
    "df_circular_mtl_use = pd.read_csv(\"./Dataset_CE/Circular_Material_Use_Rate.csv\")  # Replace with your actual path\n",
    "\n",
    "# Prepare and clean the dataset\n",
    "df_circular_mtl_use = df_circular_mtl_use[['Geopolitical entity (reporting)', 'TIME_PERIOD', 'OBS_VALUE']].dropna()\n",
    "\n",
    "# Get the latest year\n",
    "latest_year = df_circular_mtl_use['TIME_PERIOD'].max()\n",
    "df_latest = df_circular_mtl_use[df_circular_mtl_use['TIME_PERIOD'] == latest_year].copy()\n",
    "\n",
    "# Rename columns\n",
    "df_latest.rename(columns={\n",
    "    'Geopolitical entity (reporting)': 'Country',\n",
    "    'OBS_VALUE': 'Circular Material Use Rate (%)'\n",
    "}, inplace=True)\n",
    "\n",
    "# Optional name mapping\n",
    "country_name_map = {\n",
    "    \"Czechia\": \"Czech Republic\",\n",
    "    \"EU27_2020\": \"European Union\"\n",
    "}\n",
    "df_latest['Country'] = df_latest['Country'].replace(country_name_map)\n",
    "\n",
    "# Drop unwanted regional aggregates\n",
    "df_latest = df_latest[df_latest['Country'] != \"European Union\"]\n",
    "\n",
    "# Start Dash app\n",
    "app = Dash(__name__)\n",
    "\n",
    "app.layout = html.Div([\n",
    "    html.H4('🌍 Circular Material Use Rate in Europe'),\n",
    "    html.P(f'Displaying the most recent data from {latest_year}'),\n",
    "    dcc.Graph(id=\"circular-map\")\n",
    "])\n",
    "\n",
    "@app.callback(\n",
    "    Output(\"circular-map\", \"figure\"),\n",
    "    Input(\"circular-map\", \"id\")  # Dummy input just to initialize\n",
    ")\n",
    "def render_choropleth(_):\n",
    "    fig = px.choropleth(\n",
    "        df_latest,\n",
    "        locations=\"Country\",\n",
    "        locationmode=\"country names\",\n",
    "        color=\"Circular Material Use Rate (%)\",\n",
    "        hover_name=\"Country\",\n",
    "        color_continuous_scale=\"Viridis\",\n",
    "        title=f\"Circular Material Use Rate by Country ({latest_year})\",\n",
    "        template=\"plotly_white\"\n",
    "    )\n",
    "\n",
    "    fig.update_geos(\n",
    "        showcoastlines=True,\n",
    "        showland=True,\n",
    "        showcountries=True,\n",
    "        fitbounds=False,\n",
    "        projection_type=\"natural earth\"\n",
    "    )\n",
    "\n",
    "    fig.update_layout(\n",
    "        margin={\"r\": 0, \"t\": 50, \"l\": 0, \"b\": 0},\n",
    "        geo=dict(bgcolor=\"rgba(0,0,0,0)\")\n",
    "    )\n",
    "\n",
    "    return fig\n",
    "\n",
    "# Run app\n",
    "if __name__ == '__main__':\n",
    "    app.run_server(debug=True)\n"
   ]
  },
  {
   "cell_type": "code",
   "execution_count": 67,
   "metadata": {},
   "outputs": [
    {
     "name": "stderr",
     "output_type": "stream",
     "text": [
      "/var/folders/qp/p5v2tv9s7fj3ydmlz7m2k0280000gn/T/ipykernel_99851/3018360342.py:17: DeprecationWarning:\n",
      "\n",
      "DataFrameGroupBy.apply operated on the grouping columns. This behavior is deprecated, and in a future version of pandas the grouping columns will be excluded from the operation. Either pass `include_groups=False` to exclude the groupings or explicitly select the grouping columns after groupby to silence this warning.\n",
      "\n"
     ]
    },
    {
     "data": {
      "application/vnd.plotly.v1+json": {
       "config": {
        "plotlyServerURL": "https://plot.ly"
       },
       "data": [
        {
         "hovertemplate": "Country=%{y}<br>TIME_PERIOD=2010<br>Circular Use Rate (%)=%{x}<extra></extra>",
         "legendgroup": "Netherlands",
         "marker": {
          "color": "#636efa",
          "pattern": {
           "shape": ""
          }
         },
         "name": "Netherlands",
         "orientation": "h",
         "showlegend": true,
         "textposition": "auto",
         "type": "bar",
         "x": {
          "bdata": "AAAAAACAOUA=",
          "dtype": "f8"
         },
         "xaxis": "x",
         "y": [
          "Netherlands"
         ],
         "yaxis": "y"
        },
        {
         "hovertemplate": "Country=%{y}<br>TIME_PERIOD=2010<br>Circular Use Rate (%)=%{x}<extra></extra>",
         "legendgroup": "Luxembourg",
         "marker": {
          "color": "#EF553B",
          "pattern": {
           "shape": ""
          }
         },
         "name": "Luxembourg",
         "orientation": "h",
         "showlegend": true,
         "textposition": "auto",
         "type": "bar",
         "x": {
          "bdata": "ZmZmZmZmN0A=",
          "dtype": "f8"
         },
         "xaxis": "x",
         "y": [
          "Luxembourg"
         ],
         "yaxis": "y"
        },
        {
         "hovertemplate": "Country=%{y}<br>TIME_PERIOD=2010<br>Circular Use Rate (%)=%{x}<extra></extra>",
         "legendgroup": "France",
         "marker": {
          "color": "#00cc96",
          "pattern": {
           "shape": ""
          }
         },
         "name": "France",
         "orientation": "h",
         "showlegend": true,
         "textposition": "auto",
         "type": "bar",
         "x": {
          "bdata": "AAAAAACAMUA=",
          "dtype": "f8"
         },
         "xaxis": "x",
         "y": [
          "France"
         ],
         "yaxis": "y"
        },
        {
         "hovertemplate": "Country=%{y}<br>TIME_PERIOD=2010<br>Circular Use Rate (%)=%{x}<extra></extra>",
         "legendgroup": "Belgium",
         "marker": {
          "color": "#ab63fa",
          "pattern": {
           "shape": ""
          }
         },
         "name": "Belgium",
         "orientation": "h",
         "showlegend": true,
         "textposition": "auto",
         "type": "bar",
         "x": {
          "bdata": "AAAAAAAAK0A=",
          "dtype": "f8"
         },
         "xaxis": "x",
         "y": [
          "Belgium"
         ],
         "yaxis": "y"
        },
        {
         "hovertemplate": "Country=%{y}<br>TIME_PERIOD=2010<br>Circular Use Rate (%)=%{x}<extra></extra>",
         "legendgroup": "Italy",
         "marker": {
          "color": "#FFA15A",
          "pattern": {
           "shape": ""
          }
         },
         "name": "Italy",
         "orientation": "h",
         "showlegend": true,
         "textposition": "auto",
         "type": "bar",
         "x": {
          "bdata": "MzMzMzMzJ0A=",
          "dtype": "f8"
         },
         "xaxis": "x",
         "y": [
          "Italy"
         ],
         "yaxis": "y"
        },
        {
         "hovertemplate": "Country=%{y}<br>TIME_PERIOD=2010<br>Circular Use Rate (%)=%{x}<extra></extra>",
         "legendgroup": "Germany",
         "marker": {
          "color": "#19d3f3",
          "pattern": {
           "shape": ""
          }
         },
         "name": "Germany",
         "orientation": "h",
         "showlegend": true,
         "textposition": "auto",
         "type": "bar",
         "x": {
          "bdata": "ZmZmZmZmJkA=",
          "dtype": "f8"
         },
         "xaxis": "x",
         "y": [
          "Germany"
         ],
         "yaxis": "y"
        },
        {
         "hovertemplate": "Country=%{y}<br>TIME_PERIOD=2010<br>Circular Use Rate (%)=%{x}<extra></extra>",
         "legendgroup": "Poland",
         "marker": {
          "color": "#FF6692",
          "pattern": {
           "shape": ""
          }
         },
         "name": "Poland",
         "orientation": "h",
         "showlegend": true,
         "textposition": "auto",
         "type": "bar",
         "x": {
          "bdata": "MzMzMzMzJkA=",
          "dtype": "f8"
         },
         "xaxis": "x",
         "y": [
          "Poland"
         ],
         "yaxis": "y"
        },
        {
         "hovertemplate": "Country=%{y}<br>TIME_PERIOD=2010<br>Circular Use Rate (%)=%{x}<extra></extra>",
         "legendgroup": "Finland",
         "marker": {
          "color": "#B6E880",
          "pattern": {
           "shape": ""
          }
         },
         "name": "Finland",
         "orientation": "h",
         "showlegend": true,
         "textposition": "auto",
         "type": "bar",
         "x": {
          "bdata": "ZmZmZmZmJUA=",
          "dtype": "f8"
         },
         "xaxis": "x",
         "y": [
          "Finland"
         ],
         "yaxis": "y"
        },
        {
         "hovertemplate": "Country=%{y}<br>TIME_PERIOD=2010<br>Circular Use Rate (%)=%{x}<extra></extra>",
         "legendgroup": "Spain",
         "marker": {
          "color": "#FF97FF",
          "pattern": {
           "shape": ""
          }
         },
         "name": "Spain",
         "orientation": "h",
         "showlegend": true,
         "textposition": "auto",
         "type": "bar",
         "x": {
          "bdata": "zczMzMzMJEA=",
          "dtype": "f8"
         },
         "xaxis": "x",
         "y": [
          "Spain"
         ],
         "yaxis": "y"
        },
        {
         "hovertemplate": "Country=%{y}<br>TIME_PERIOD=2010<br>Circular Use Rate (%)=%{x}<extra></extra>",
         "legendgroup": "Estonia",
         "marker": {
          "color": "#FECB52",
          "pattern": {
           "shape": ""
          }
         },
         "name": "Estonia",
         "orientation": "h",
         "showlegend": true,
         "textposition": "auto",
         "type": "bar",
         "x": {
          "bdata": "AAAAAAAAIkA=",
          "dtype": "f8"
         },
         "xaxis": "x",
         "y": [
          "Estonia"
         ],
         "yaxis": "y"
        }
       ],
       "frames": [
        {
         "data": [
          {
           "hovertemplate": "Country=%{y}<br>TIME_PERIOD=2010<br>Circular Use Rate (%)=%{x}<extra></extra>",
           "legendgroup": "Netherlands",
           "marker": {
            "color": "#636efa",
            "pattern": {
             "shape": ""
            }
           },
           "name": "Netherlands",
           "orientation": "h",
           "showlegend": true,
           "textposition": "auto",
           "type": "bar",
           "x": {
            "bdata": "AAAAAACAOUA=",
            "dtype": "f8"
           },
           "xaxis": "x",
           "y": [
            "Netherlands"
           ],
           "yaxis": "y"
          },
          {
           "hovertemplate": "Country=%{y}<br>TIME_PERIOD=2010<br>Circular Use Rate (%)=%{x}<extra></extra>",
           "legendgroup": "Luxembourg",
           "marker": {
            "color": "#EF553B",
            "pattern": {
             "shape": ""
            }
           },
           "name": "Luxembourg",
           "orientation": "h",
           "showlegend": true,
           "textposition": "auto",
           "type": "bar",
           "x": {
            "bdata": "ZmZmZmZmN0A=",
            "dtype": "f8"
           },
           "xaxis": "x",
           "y": [
            "Luxembourg"
           ],
           "yaxis": "y"
          },
          {
           "hovertemplate": "Country=%{y}<br>TIME_PERIOD=2010<br>Circular Use Rate (%)=%{x}<extra></extra>",
           "legendgroup": "France",
           "marker": {
            "color": "#00cc96",
            "pattern": {
             "shape": ""
            }
           },
           "name": "France",
           "orientation": "h",
           "showlegend": true,
           "textposition": "auto",
           "type": "bar",
           "x": {
            "bdata": "AAAAAACAMUA=",
            "dtype": "f8"
           },
           "xaxis": "x",
           "y": [
            "France"
           ],
           "yaxis": "y"
          },
          {
           "hovertemplate": "Country=%{y}<br>TIME_PERIOD=2010<br>Circular Use Rate (%)=%{x}<extra></extra>",
           "legendgroup": "Belgium",
           "marker": {
            "color": "#ab63fa",
            "pattern": {
             "shape": ""
            }
           },
           "name": "Belgium",
           "orientation": "h",
           "showlegend": true,
           "textposition": "auto",
           "type": "bar",
           "x": {
            "bdata": "AAAAAAAAK0A=",
            "dtype": "f8"
           },
           "xaxis": "x",
           "y": [
            "Belgium"
           ],
           "yaxis": "y"
          },
          {
           "hovertemplate": "Country=%{y}<br>TIME_PERIOD=2010<br>Circular Use Rate (%)=%{x}<extra></extra>",
           "legendgroup": "Italy",
           "marker": {
            "color": "#FFA15A",
            "pattern": {
             "shape": ""
            }
           },
           "name": "Italy",
           "orientation": "h",
           "showlegend": true,
           "textposition": "auto",
           "type": "bar",
           "x": {
            "bdata": "MzMzMzMzJ0A=",
            "dtype": "f8"
           },
           "xaxis": "x",
           "y": [
            "Italy"
           ],
           "yaxis": "y"
          },
          {
           "hovertemplate": "Country=%{y}<br>TIME_PERIOD=2010<br>Circular Use Rate (%)=%{x}<extra></extra>",
           "legendgroup": "Germany",
           "marker": {
            "color": "#19d3f3",
            "pattern": {
             "shape": ""
            }
           },
           "name": "Germany",
           "orientation": "h",
           "showlegend": true,
           "textposition": "auto",
           "type": "bar",
           "x": {
            "bdata": "ZmZmZmZmJkA=",
            "dtype": "f8"
           },
           "xaxis": "x",
           "y": [
            "Germany"
           ],
           "yaxis": "y"
          },
          {
           "hovertemplate": "Country=%{y}<br>TIME_PERIOD=2010<br>Circular Use Rate (%)=%{x}<extra></extra>",
           "legendgroup": "Poland",
           "marker": {
            "color": "#FF6692",
            "pattern": {
             "shape": ""
            }
           },
           "name": "Poland",
           "orientation": "h",
           "showlegend": true,
           "textposition": "auto",
           "type": "bar",
           "x": {
            "bdata": "MzMzMzMzJkA=",
            "dtype": "f8"
           },
           "xaxis": "x",
           "y": [
            "Poland"
           ],
           "yaxis": "y"
          },
          {
           "hovertemplate": "Country=%{y}<br>TIME_PERIOD=2010<br>Circular Use Rate (%)=%{x}<extra></extra>",
           "legendgroup": "Finland",
           "marker": {
            "color": "#B6E880",
            "pattern": {
             "shape": ""
            }
           },
           "name": "Finland",
           "orientation": "h",
           "showlegend": true,
           "textposition": "auto",
           "type": "bar",
           "x": {
            "bdata": "ZmZmZmZmJUA=",
            "dtype": "f8"
           },
           "xaxis": "x",
           "y": [
            "Finland"
           ],
           "yaxis": "y"
          },
          {
           "hovertemplate": "Country=%{y}<br>TIME_PERIOD=2010<br>Circular Use Rate (%)=%{x}<extra></extra>",
           "legendgroup": "Spain",
           "marker": {
            "color": "#FF97FF",
            "pattern": {
             "shape": ""
            }
           },
           "name": "Spain",
           "orientation": "h",
           "showlegend": true,
           "textposition": "auto",
           "type": "bar",
           "x": {
            "bdata": "zczMzMzMJEA=",
            "dtype": "f8"
           },
           "xaxis": "x",
           "y": [
            "Spain"
           ],
           "yaxis": "y"
          },
          {
           "hovertemplate": "Country=%{y}<br>TIME_PERIOD=2010<br>Circular Use Rate (%)=%{x}<extra></extra>",
           "legendgroup": "Estonia",
           "marker": {
            "color": "#FECB52",
            "pattern": {
             "shape": ""
            }
           },
           "name": "Estonia",
           "orientation": "h",
           "showlegend": true,
           "textposition": "auto",
           "type": "bar",
           "x": {
            "bdata": "AAAAAAAAIkA=",
            "dtype": "f8"
           },
           "xaxis": "x",
           "y": [
            "Estonia"
           ],
           "yaxis": "y"
          }
         ],
         "name": "2010"
        },
        {
         "data": [
          {
           "hovertemplate": "Country=%{y}<br>TIME_PERIOD=2011<br>Circular Use Rate (%)=%{x}<extra></extra>",
           "legendgroup": "Netherlands",
           "marker": {
            "color": "#636efa",
            "pattern": {
             "shape": ""
            }
           },
           "name": "Netherlands",
           "orientation": "h",
           "showlegend": true,
           "textposition": "auto",
           "type": "bar",
           "x": {
            "bdata": "AAAAAAAAOUA=",
            "dtype": "f8"
           },
           "xaxis": "x",
           "y": [
            "Netherlands"
           ],
           "yaxis": "y"
          },
          {
           "hovertemplate": "Country=%{y}<br>TIME_PERIOD=2011<br>Circular Use Rate (%)=%{x}<extra></extra>",
           "legendgroup": "Luxembourg",
           "marker": {
            "color": "#EF553B",
            "pattern": {
             "shape": ""
            }
           },
           "name": "Luxembourg",
           "orientation": "h",
           "showlegend": true,
           "textposition": "auto",
           "type": "bar",
           "x": {
            "bdata": "zczMzMzMM0A=",
            "dtype": "f8"
           },
           "xaxis": "x",
           "y": [
            "Luxembourg"
           ],
           "yaxis": "y"
          },
          {
           "hovertemplate": "Country=%{y}<br>TIME_PERIOD=2011<br>Circular Use Rate (%)=%{x}<extra></extra>",
           "legendgroup": "France",
           "marker": {
            "color": "#00cc96",
            "pattern": {
             "shape": ""
            }
           },
           "name": "France",
           "orientation": "h",
           "showlegend": true,
           "textposition": "auto",
           "type": "bar",
           "x": {
            "bdata": "ZmZmZmbmMEA=",
            "dtype": "f8"
           },
           "xaxis": "x",
           "y": [
            "France"
           ],
           "yaxis": "y"
          },
          {
           "hovertemplate": "Country=%{y}<br>TIME_PERIOD=2011<br>Circular Use Rate (%)=%{x}<extra></extra>",
           "legendgroup": "Belgium",
           "marker": {
            "color": "#ab63fa",
            "pattern": {
             "shape": ""
            }
           },
           "name": "Belgium",
           "orientation": "h",
           "showlegend": true,
           "textposition": "auto",
           "type": "bar",
           "x": {
            "bdata": "zczMzMzMLEA=",
            "dtype": "f8"
           },
           "xaxis": "x",
           "y": [
            "Belgium"
           ],
           "yaxis": "y"
          },
          {
           "hovertemplate": "Country=%{y}<br>TIME_PERIOD=2011<br>Circular Use Rate (%)=%{x}<extra></extra>",
           "legendgroup": "Italy",
           "marker": {
            "color": "#FFA15A",
            "pattern": {
             "shape": ""
            }
           },
           "name": "Italy",
           "orientation": "h",
           "showlegend": true,
           "textposition": "auto",
           "type": "bar",
           "x": {
            "bdata": "MzMzMzMzJ0A=",
            "dtype": "f8"
           },
           "xaxis": "x",
           "y": [
            "Italy"
           ],
           "yaxis": "y"
          },
          {
           "hovertemplate": "Country=%{y}<br>TIME_PERIOD=2011<br>Circular Use Rate (%)=%{x}<extra></extra>",
           "legendgroup": "Germany",
           "marker": {
            "color": "#19d3f3",
            "pattern": {
             "shape": ""
            }
           },
           "name": "Germany",
           "orientation": "h",
           "showlegend": true,
           "textposition": "auto",
           "type": "bar",
           "x": {
            "bdata": "MzMzMzMzJUA=",
            "dtype": "f8"
           },
           "xaxis": "x",
           "y": [
            "Germany"
           ],
           "yaxis": "y"
          },
          {
           "hovertemplate": "Country=%{y}<br>TIME_PERIOD=2011<br>Circular Use Rate (%)=%{x}<extra></extra>",
           "legendgroup": "Poland",
           "marker": {
            "color": "#FF6692",
            "pattern": {
             "shape": ""
            }
           },
           "name": "Poland",
           "orientation": "h",
           "showlegend": true,
           "textposition": "auto",
           "type": "bar",
           "x": {
            "bdata": "zczMzMzMIkA=",
            "dtype": "f8"
           },
           "xaxis": "x",
           "y": [
            "Poland"
           ],
           "yaxis": "y"
          },
          {
           "hovertemplate": "Country=%{y}<br>TIME_PERIOD=2011<br>Circular Use Rate (%)=%{x}<extra></extra>",
           "legendgroup": "Finland",
           "marker": {
            "color": "#B6E880",
            "pattern": {
             "shape": ""
            }
           },
           "name": "Finland",
           "orientation": "h",
           "showlegend": true,
           "textposition": "auto",
           "type": "bar",
           "x": {
            "bdata": "zczMzMzMJkA=",
            "dtype": "f8"
           },
           "xaxis": "x",
           "y": [
            "Finland"
           ],
           "yaxis": "y"
          },
          {
           "hovertemplate": "Country=%{y}<br>TIME_PERIOD=2011<br>Circular Use Rate (%)=%{x}<extra></extra>",
           "legendgroup": "Spain",
           "marker": {
            "color": "#FF97FF",
            "pattern": {
             "shape": ""
            }
           },
           "name": "Spain",
           "orientation": "h",
           "showlegend": true,
           "textposition": "auto",
           "type": "bar",
           "x": {
            "bdata": "zczMzMzMI0A=",
            "dtype": "f8"
           },
           "xaxis": "x",
           "y": [
            "Spain"
           ],
           "yaxis": "y"
          },
          {
           "hovertemplate": "Country=%{y}<br>TIME_PERIOD=2011<br>Circular Use Rate (%)=%{x}<extra></extra>",
           "legendgroup": "Estonia",
           "marker": {
            "color": "#FECB52",
            "pattern": {
             "shape": ""
            }
           },
           "name": "Estonia",
           "orientation": "h",
           "showlegend": true,
           "textposition": "auto",
           "type": "bar",
           "x": {
            "bdata": "AAAAAAAALUA=",
            "dtype": "f8"
           },
           "xaxis": "x",
           "y": [
            "Estonia"
           ],
           "yaxis": "y"
          }
         ],
         "name": "2011"
        },
        {
         "data": [
          {
           "hovertemplate": "Country=%{y}<br>TIME_PERIOD=2012<br>Circular Use Rate (%)=%{x}<extra></extra>",
           "legendgroup": "Netherlands",
           "marker": {
            "color": "#636efa",
            "pattern": {
             "shape": ""
            }
           },
           "name": "Netherlands",
           "orientation": "h",
           "showlegend": true,
           "textposition": "auto",
           "type": "bar",
           "x": {
            "bdata": "zczMzMxMOkA=",
            "dtype": "f8"
           },
           "xaxis": "x",
           "y": [
            "Netherlands"
           ],
           "yaxis": "y"
          },
          {
           "hovertemplate": "Country=%{y}<br>TIME_PERIOD=2012<br>Circular Use Rate (%)=%{x}<extra></extra>",
           "legendgroup": "Luxembourg",
           "marker": {
            "color": "#EF553B",
            "pattern": {
             "shape": ""
            }
           },
           "name": "Luxembourg",
           "orientation": "h",
           "showlegend": true,
           "textposition": "auto",
           "type": "bar",
           "x": {
            "bdata": "MzMzMzOzMUA=",
            "dtype": "f8"
           },
           "xaxis": "x",
           "y": [
            "Luxembourg"
           ],
           "yaxis": "y"
          },
          {
           "hovertemplate": "Country=%{y}<br>TIME_PERIOD=2012<br>Circular Use Rate (%)=%{x}<extra></extra>",
           "legendgroup": "France",
           "marker": {
            "color": "#00cc96",
            "pattern": {
             "shape": ""
            }
           },
           "name": "France",
           "orientation": "h",
           "showlegend": true,
           "textposition": "auto",
           "type": "bar",
           "x": {
            "bdata": "zczMzMzMMEA=",
            "dtype": "f8"
           },
           "xaxis": "x",
           "y": [
            "France"
           ],
           "yaxis": "y"
          },
          {
           "hovertemplate": "Country=%{y}<br>TIME_PERIOD=2012<br>Circular Use Rate (%)=%{x}<extra></extra>",
           "legendgroup": "Belgium",
           "marker": {
            "color": "#ab63fa",
            "pattern": {
             "shape": ""
            }
           },
           "name": "Belgium",
           "orientation": "h",
           "showlegend": true,
           "textposition": "auto",
           "type": "bar",
           "x": {
            "bdata": "zczMzMxMMUA=",
            "dtype": "f8"
           },
           "xaxis": "x",
           "y": [
            "Belgium"
           ],
           "yaxis": "y"
          },
          {
           "hovertemplate": "Country=%{y}<br>TIME_PERIOD=2012<br>Circular Use Rate (%)=%{x}<extra></extra>",
           "legendgroup": "Italy",
           "marker": {
            "color": "#FFA15A",
            "pattern": {
             "shape": ""
            }
           },
           "name": "Italy",
           "orientation": "h",
           "showlegend": true,
           "textposition": "auto",
           "type": "bar",
           "x": {
            "bdata": "zczMzMzMK0A=",
            "dtype": "f8"
           },
           "xaxis": "x",
           "y": [
            "Italy"
           ],
           "yaxis": "y"
          },
          {
           "hovertemplate": "Country=%{y}<br>TIME_PERIOD=2012<br>Circular Use Rate (%)=%{x}<extra></extra>",
           "legendgroup": "Germany",
           "marker": {
            "color": "#19d3f3",
            "pattern": {
             "shape": ""
            }
           },
           "name": "Germany",
           "orientation": "h",
           "showlegend": true,
           "textposition": "auto",
           "type": "bar",
           "x": {
            "bdata": "AAAAAAAAJkA=",
            "dtype": "f8"
           },
           "xaxis": "x",
           "y": [
            "Germany"
           ],
           "yaxis": "y"
          },
          {
           "hovertemplate": "Country=%{y}<br>TIME_PERIOD=2012<br>Circular Use Rate (%)=%{x}<extra></extra>",
           "legendgroup": "Poland",
           "marker": {
            "color": "#FF6692",
            "pattern": {
             "shape": ""
            }
           },
           "name": "Poland",
           "orientation": "h",
           "showlegend": true,
           "textposition": "auto",
           "type": "bar",
           "x": {
            "bdata": "AAAAAAAAJkA=",
            "dtype": "f8"
           },
           "xaxis": "x",
           "y": [
            "Poland"
           ],
           "yaxis": "y"
          },
          {
           "hovertemplate": "Country=%{y}<br>TIME_PERIOD=2012<br>Circular Use Rate (%)=%{x}<extra></extra>",
           "legendgroup": "Finland",
           "marker": {
            "color": "#B6E880",
            "pattern": {
             "shape": ""
            }
           },
           "name": "Finland",
           "orientation": "h",
           "showlegend": true,
           "textposition": "auto",
           "type": "bar",
           "x": {
            "bdata": "ZmZmZmZmKEA=",
            "dtype": "f8"
           },
           "xaxis": "x",
           "y": [
            "Finland"
           ],
           "yaxis": "y"
          },
          {
           "hovertemplate": "Country=%{y}<br>TIME_PERIOD=2012<br>Circular Use Rate (%)=%{x}<extra></extra>",
           "legendgroup": "Spain",
           "marker": {
            "color": "#FF97FF",
            "pattern": {
             "shape": ""
            }
           },
           "name": "Spain",
           "orientation": "h",
           "showlegend": true,
           "textposition": "auto",
           "type": "bar",
           "x": {
            "bdata": "mpmZmZmZI0A=",
            "dtype": "f8"
           },
           "xaxis": "x",
           "y": [
            "Spain"
           ],
           "yaxis": "y"
          },
          {
           "hovertemplate": "Country=%{y}<br>TIME_PERIOD=2012<br>Circular Use Rate (%)=%{x}<extra></extra>",
           "legendgroup": "Estonia",
           "marker": {
            "color": "#FECB52",
            "pattern": {
             "shape": ""
            }
           },
           "name": "Estonia",
           "orientation": "h",
           "showlegend": true,
           "textposition": "auto",
           "type": "bar",
           "x": {
            "bdata": "MzMzMzMzM0A=",
            "dtype": "f8"
           },
           "xaxis": "x",
           "y": [
            "Estonia"
           ],
           "yaxis": "y"
          }
         ],
         "name": "2012"
        },
        {
         "data": [
          {
           "hovertemplate": "Country=%{y}<br>TIME_PERIOD=2013<br>Circular Use Rate (%)=%{x}<extra></extra>",
           "legendgroup": "Netherlands",
           "marker": {
            "color": "#636efa",
            "pattern": {
             "shape": ""
            }
           },
           "name": "Netherlands",
           "orientation": "h",
           "showlegend": true,
           "textposition": "auto",
           "type": "bar",
           "x": {
            "bdata": "zczMzMzMOkA=",
            "dtype": "f8"
           },
           "xaxis": "x",
           "y": [
            "Netherlands"
           ],
           "yaxis": "y"
          },
          {
           "hovertemplate": "Country=%{y}<br>TIME_PERIOD=2013<br>Circular Use Rate (%)=%{x}<extra></extra>",
           "legendgroup": "Luxembourg",
           "marker": {
            "color": "#EF553B",
            "pattern": {
             "shape": ""
            }
           },
           "name": "Luxembourg",
           "orientation": "h",
           "showlegend": true,
           "textposition": "auto",
           "type": "bar",
           "x": {
            "bdata": "ZmZmZmZmLkA=",
            "dtype": "f8"
           },
           "xaxis": "x",
           "y": [
            "Luxembourg"
           ],
           "yaxis": "y"
          },
          {
           "hovertemplate": "Country=%{y}<br>TIME_PERIOD=2013<br>Circular Use Rate (%)=%{x}<extra></extra>",
           "legendgroup": "France",
           "marker": {
            "color": "#00cc96",
            "pattern": {
             "shape": ""
            }
           },
           "name": "France",
           "orientation": "h",
           "showlegend": true,
           "textposition": "auto",
           "type": "bar",
           "x": {
            "bdata": "MzMzMzMzMUA=",
            "dtype": "f8"
           },
           "xaxis": "x",
           "y": [
            "France"
           ],
           "yaxis": "y"
          },
          {
           "hovertemplate": "Country=%{y}<br>TIME_PERIOD=2013<br>Circular Use Rate (%)=%{x}<extra></extra>",
           "legendgroup": "Belgium",
           "marker": {
            "color": "#ab63fa",
            "pattern": {
             "shape": ""
            }
           },
           "name": "Belgium",
           "orientation": "h",
           "showlegend": true,
           "textposition": "auto",
           "type": "bar",
           "x": {
            "bdata": "zczMzMxMMUA=",
            "dtype": "f8"
           },
           "xaxis": "x",
           "y": [
            "Belgium"
           ],
           "yaxis": "y"
          },
          {
           "hovertemplate": "Country=%{y}<br>TIME_PERIOD=2013<br>Circular Use Rate (%)=%{x}<extra></extra>",
           "legendgroup": "Italy",
           "marker": {
            "color": "#FFA15A",
            "pattern": {
             "shape": ""
            }
           },
           "name": "Italy",
           "orientation": "h",
           "showlegend": true,
           "textposition": "auto",
           "type": "bar",
           "x": {
            "bdata": "AAAAAAAAMEA=",
            "dtype": "f8"
           },
           "xaxis": "x",
           "y": [
            "Italy"
           ],
           "yaxis": "y"
          },
          {
           "hovertemplate": "Country=%{y}<br>TIME_PERIOD=2013<br>Circular Use Rate (%)=%{x}<extra></extra>",
           "legendgroup": "Germany",
           "marker": {
            "color": "#19d3f3",
            "pattern": {
             "shape": ""
            }
           },
           "name": "Germany",
           "orientation": "h",
           "showlegend": true,
           "textposition": "auto",
           "type": "bar",
           "x": {
            "bdata": "MzMzMzMzJkA=",
            "dtype": "f8"
           },
           "xaxis": "x",
           "y": [
            "Germany"
           ],
           "yaxis": "y"
          },
          {
           "hovertemplate": "Country=%{y}<br>TIME_PERIOD=2013<br>Circular Use Rate (%)=%{x}<extra></extra>",
           "legendgroup": "Poland",
           "marker": {
            "color": "#FF6692",
            "pattern": {
             "shape": ""
            }
           },
           "name": "Poland",
           "orientation": "h",
           "showlegend": true,
           "textposition": "auto",
           "type": "bar",
           "x": {
            "bdata": "ZmZmZmZmKEA=",
            "dtype": "f8"
           },
           "xaxis": "x",
           "y": [
            "Poland"
           ],
           "yaxis": "y"
          },
          {
           "hovertemplate": "Country=%{y}<br>TIME_PERIOD=2013<br>Circular Use Rate (%)=%{x}<extra></extra>",
           "legendgroup": "Estonia",
           "marker": {
            "color": "#FECB52",
            "pattern": {
             "shape": ""
            }
           },
           "name": "Estonia",
           "orientation": "h",
           "showlegend": true,
           "textposition": "auto",
           "type": "bar",
           "x": {
            "bdata": "ZmZmZmZmLUA=",
            "dtype": "f8"
           },
           "xaxis": "x",
           "y": [
            "Estonia"
           ],
           "yaxis": "y"
          },
          {
           "hovertemplate": "Country=%{y}<br>TIME_PERIOD=2013<br>Circular Use Rate (%)=%{x}<extra></extra>",
           "legendgroup": "Slovenia",
           "marker": {
            "color": "#636efa",
            "pattern": {
             "shape": ""
            }
           },
           "name": "Slovenia",
           "orientation": "h",
           "showlegend": true,
           "textposition": "auto",
           "type": "bar",
           "x": {
            "bdata": "mpmZmZmZIkA=",
            "dtype": "f8"
           },
           "xaxis": "x",
           "y": [
            "Slovenia"
           ],
           "yaxis": "y"
          },
          {
           "hovertemplate": "Country=%{y}<br>TIME_PERIOD=2013<br>Circular Use Rate (%)=%{x}<extra></extra>",
           "legendgroup": "Austria",
           "marker": {
            "color": "#EF553B",
            "pattern": {
             "shape": ""
            }
           },
           "name": "Austria",
           "orientation": "h",
           "showlegend": true,
           "textposition": "auto",
           "type": "bar",
           "x": {
            "bdata": "MzMzMzMzIkA=",
            "dtype": "f8"
           },
           "xaxis": "x",
           "y": [
            "Austria"
           ],
           "yaxis": "y"
          }
         ],
         "name": "2013"
        },
        {
         "data": [
          {
           "hovertemplate": "Country=%{y}<br>TIME_PERIOD=2014<br>Circular Use Rate (%)=%{x}<extra></extra>",
           "legendgroup": "Netherlands",
           "marker": {
            "color": "#636efa",
            "pattern": {
             "shape": ""
            }
           },
           "name": "Netherlands",
           "orientation": "h",
           "showlegend": true,
           "textposition": "auto",
           "type": "bar",
           "x": {
            "bdata": "AAAAAACAOkA=",
            "dtype": "f8"
           },
           "xaxis": "x",
           "y": [
            "Netherlands"
           ],
           "yaxis": "y"
          },
          {
           "hovertemplate": "Country=%{y}<br>TIME_PERIOD=2014<br>Circular Use Rate (%)=%{x}<extra></extra>",
           "legendgroup": "Luxembourg",
           "marker": {
            "color": "#EF553B",
            "pattern": {
             "shape": ""
            }
           },
           "name": "Luxembourg",
           "orientation": "h",
           "showlegend": true,
           "textposition": "auto",
           "type": "bar",
           "x": {
            "bdata": "MzMzMzMzJkA=",
            "dtype": "f8"
           },
           "xaxis": "x",
           "y": [
            "Luxembourg"
           ],
           "yaxis": "y"
          },
          {
           "hovertemplate": "Country=%{y}<br>TIME_PERIOD=2014<br>Circular Use Rate (%)=%{x}<extra></extra>",
           "legendgroup": "France",
           "marker": {
            "color": "#00cc96",
            "pattern": {
             "shape": ""
            }
           },
           "name": "France",
           "orientation": "h",
           "showlegend": true,
           "textposition": "auto",
           "type": "bar",
           "x": {
            "bdata": "zczMzMzMMUA=",
            "dtype": "f8"
           },
           "xaxis": "x",
           "y": [
            "France"
           ],
           "yaxis": "y"
          },
          {
           "hovertemplate": "Country=%{y}<br>TIME_PERIOD=2014<br>Circular Use Rate (%)=%{x}<extra></extra>",
           "legendgroup": "Belgium",
           "marker": {
            "color": "#ab63fa",
            "pattern": {
             "shape": ""
            }
           },
           "name": "Belgium",
           "orientation": "h",
           "showlegend": true,
           "textposition": "auto",
           "type": "bar",
           "x": {
            "bdata": "ZmZmZmbmMUA=",
            "dtype": "f8"
           },
           "xaxis": "x",
           "y": [
            "Belgium"
           ],
           "yaxis": "y"
          },
          {
           "hovertemplate": "Country=%{y}<br>TIME_PERIOD=2014<br>Circular Use Rate (%)=%{x}<extra></extra>",
           "legendgroup": "Italy",
           "marker": {
            "color": "#FFA15A",
            "pattern": {
             "shape": ""
            }
           },
           "name": "Italy",
           "orientation": "h",
           "showlegend": true,
           "textposition": "auto",
           "type": "bar",
           "x": {
            "bdata": "mpmZmZkZMEA=",
            "dtype": "f8"
           },
           "xaxis": "x",
           "y": [
            "Italy"
           ],
           "yaxis": "y"
          },
          {
           "hovertemplate": "Country=%{y}<br>TIME_PERIOD=2014<br>Circular Use Rate (%)=%{x}<extra></extra>",
           "legendgroup": "Germany",
           "marker": {
            "color": "#19d3f3",
            "pattern": {
             "shape": ""
            }
           },
           "name": "Germany",
           "orientation": "h",
           "showlegend": true,
           "textposition": "auto",
           "type": "bar",
           "x": {
            "bdata": "ZmZmZmZmJkA=",
            "dtype": "f8"
           },
           "xaxis": "x",
           "y": [
            "Germany"
           ],
           "yaxis": "y"
          },
          {
           "hovertemplate": "Country=%{y}<br>TIME_PERIOD=2014<br>Circular Use Rate (%)=%{x}<extra></extra>",
           "legendgroup": "Poland",
           "marker": {
            "color": "#FF6692",
            "pattern": {
             "shape": ""
            }
           },
           "name": "Poland",
           "orientation": "h",
           "showlegend": true,
           "textposition": "auto",
           "type": "bar",
           "x": {
            "bdata": "AAAAAAAAKkA=",
            "dtype": "f8"
           },
           "xaxis": "x",
           "y": [
            "Poland"
           ],
           "yaxis": "y"
          },
          {
           "hovertemplate": "Country=%{y}<br>TIME_PERIOD=2014<br>Circular Use Rate (%)=%{x}<extra></extra>",
           "legendgroup": "Estonia",
           "marker": {
            "color": "#FECB52",
            "pattern": {
             "shape": ""
            }
           },
           "name": "Estonia",
           "orientation": "h",
           "showlegend": true,
           "textposition": "auto",
           "type": "bar",
           "x": {
            "bdata": "mpmZmZmZJkA=",
            "dtype": "f8"
           },
           "xaxis": "x",
           "y": [
            "Estonia"
           ],
           "yaxis": "y"
          },
          {
           "hovertemplate": "Country=%{y}<br>TIME_PERIOD=2014<br>Circular Use Rate (%)=%{x}<extra></extra>",
           "legendgroup": "Austria",
           "marker": {
            "color": "#EF553B",
            "pattern": {
             "shape": ""
            }
           },
           "name": "Austria",
           "orientation": "h",
           "showlegend": true,
           "textposition": "auto",
           "type": "bar",
           "x": {
            "bdata": "zczMzMzMI0A=",
            "dtype": "f8"
           },
           "xaxis": "x",
           "y": [
            "Austria"
           ],
           "yaxis": "y"
          },
          {
           "hovertemplate": "Country=%{y}<br>TIME_PERIOD=2014<br>Circular Use Rate (%)=%{x}<extra></extra>",
           "legendgroup": "Denmark",
           "marker": {
            "color": "#00cc96",
            "pattern": {
             "shape": ""
            }
           },
           "name": "Denmark",
           "orientation": "h",
           "showlegend": true,
           "textposition": "auto",
           "type": "bar",
           "x": {
            "bdata": "AAAAAAAAIkA=",
            "dtype": "f8"
           },
           "xaxis": "x",
           "y": [
            "Denmark"
           ],
           "yaxis": "y"
          }
         ],
         "name": "2014"
        },
        {
         "data": [
          {
           "hovertemplate": "Country=%{y}<br>TIME_PERIOD=2015<br>Circular Use Rate (%)=%{x}<extra></extra>",
           "legendgroup": "Netherlands",
           "marker": {
            "color": "#636efa",
            "pattern": {
             "shape": ""
            }
           },
           "name": "Netherlands",
           "orientation": "h",
           "showlegend": true,
           "textposition": "auto",
           "type": "bar",
           "x": {
            "bdata": "MzMzMzOzOkA=",
            "dtype": "f8"
           },
           "xaxis": "x",
           "y": [
            "Netherlands"
           ],
           "yaxis": "y"
          },
          {
           "hovertemplate": "Country=%{y}<br>TIME_PERIOD=2015<br>Circular Use Rate (%)=%{x}<extra></extra>",
           "legendgroup": "Luxembourg",
           "marker": {
            "color": "#EF553B",
            "pattern": {
             "shape": ""
            }
           },
           "name": "Luxembourg",
           "orientation": "h",
           "showlegend": true,
           "textposition": "auto",
           "type": "bar",
           "x": {
            "bdata": "MzMzMzMzI0A=",
            "dtype": "f8"
           },
           "xaxis": "x",
           "y": [
            "Luxembourg"
           ],
           "yaxis": "y"
          },
          {
           "hovertemplate": "Country=%{y}<br>TIME_PERIOD=2015<br>Circular Use Rate (%)=%{x}<extra></extra>",
           "legendgroup": "France",
           "marker": {
            "color": "#00cc96",
            "pattern": {
             "shape": ""
            }
           },
           "name": "France",
           "orientation": "h",
           "showlegend": true,
           "textposition": "auto",
           "type": "bar",
           "x": {
            "bdata": "zczMzMzMMkA=",
            "dtype": "f8"
           },
           "xaxis": "x",
           "y": [
            "France"
           ],
           "yaxis": "y"
          },
          {
           "hovertemplate": "Country=%{y}<br>TIME_PERIOD=2015<br>Circular Use Rate (%)=%{x}<extra></extra>",
           "legendgroup": "Belgium",
           "marker": {
            "color": "#ab63fa",
            "pattern": {
             "shape": ""
            }
           },
           "name": "Belgium",
           "orientation": "h",
           "showlegend": true,
           "textposition": "auto",
           "type": "bar",
           "x": {
            "bdata": "AAAAAAAAMkA=",
            "dtype": "f8"
           },
           "xaxis": "x",
           "y": [
            "Belgium"
           ],
           "yaxis": "y"
          },
          {
           "hovertemplate": "Country=%{y}<br>TIME_PERIOD=2015<br>Circular Use Rate (%)=%{x}<extra></extra>",
           "legendgroup": "Italy",
           "marker": {
            "color": "#FFA15A",
            "pattern": {
             "shape": ""
            }
           },
           "name": "Italy",
           "orientation": "h",
           "showlegend": true,
           "textposition": "auto",
           "type": "bar",
           "x": {
            "bdata": "MzMzMzMzMUA=",
            "dtype": "f8"
           },
           "xaxis": "x",
           "y": [
            "Italy"
           ],
           "yaxis": "y"
          },
          {
           "hovertemplate": "Country=%{y}<br>TIME_PERIOD=2015<br>Circular Use Rate (%)=%{x}<extra></extra>",
           "legendgroup": "Germany",
           "marker": {
            "color": "#19d3f3",
            "pattern": {
             "shape": ""
            }
           },
           "name": "Germany",
           "orientation": "h",
           "showlegend": true,
           "textposition": "auto",
           "type": "bar",
           "x": {
            "bdata": "MzMzMzMzJ0A=",
            "dtype": "f8"
           },
           "xaxis": "x",
           "y": [
            "Germany"
           ],
           "yaxis": "y"
          },
          {
           "hovertemplate": "Country=%{y}<br>TIME_PERIOD=2015<br>Circular Use Rate (%)=%{x}<extra></extra>",
           "legendgroup": "Poland",
           "marker": {
            "color": "#FF6692",
            "pattern": {
             "shape": ""
            }
           },
           "name": "Poland",
           "orientation": "h",
           "showlegend": true,
           "textposition": "auto",
           "type": "bar",
           "x": {
            "bdata": "zczMzMzMJ0A=",
            "dtype": "f8"
           },
           "xaxis": "x",
           "y": [
            "Poland"
           ],
           "yaxis": "y"
          },
          {
           "hovertemplate": "Country=%{y}<br>TIME_PERIOD=2015<br>Circular Use Rate (%)=%{x}<extra></extra>",
           "legendgroup": "Estonia",
           "marker": {
            "color": "#FECB52",
            "pattern": {
             "shape": ""
            }
           },
           "name": "Estonia",
           "orientation": "h",
           "showlegend": true,
           "textposition": "auto",
           "type": "bar",
           "x": {
            "bdata": "zczMzMzMJkA=",
            "dtype": "f8"
           },
           "xaxis": "x",
           "y": [
            "Estonia"
           ],
           "yaxis": "y"
          },
          {
           "hovertemplate": "Country=%{y}<br>TIME_PERIOD=2015<br>Circular Use Rate (%)=%{x}<extra></extra>",
           "legendgroup": "Slovenia",
           "marker": {
            "color": "#636efa",
            "pattern": {
             "shape": ""
            }
           },
           "name": "Slovenia",
           "orientation": "h",
           "showlegend": true,
           "textposition": "auto",
           "type": "bar",
           "x": {
            "bdata": "ZmZmZmZmIUA=",
            "dtype": "f8"
           },
           "xaxis": "x",
           "y": [
            "Slovenia"
           ],
           "yaxis": "y"
          },
          {
           "hovertemplate": "Country=%{y}<br>TIME_PERIOD=2015<br>Circular Use Rate (%)=%{x}<extra></extra>",
           "legendgroup": "Austria",
           "marker": {
            "color": "#EF553B",
            "pattern": {
             "shape": ""
            }
           },
           "name": "Austria",
           "orientation": "h",
           "showlegend": true,
           "textposition": "auto",
           "type": "bar",
           "x": {
            "bdata": "ZmZmZmZmJkA=",
            "dtype": "f8"
           },
           "xaxis": "x",
           "y": [
            "Austria"
           ],
           "yaxis": "y"
          }
         ],
         "name": "2015"
        },
        {
         "data": [
          {
           "hovertemplate": "Country=%{y}<br>TIME_PERIOD=2016<br>Circular Use Rate (%)=%{x}<extra></extra>",
           "legendgroup": "Netherlands",
           "marker": {
            "color": "#636efa",
            "pattern": {
             "shape": ""
            }
           },
           "name": "Netherlands",
           "orientation": "h",
           "showlegend": true,
           "textposition": "auto",
           "type": "bar",
           "x": {
            "bdata": "AAAAAAAAPUA=",
            "dtype": "f8"
           },
           "xaxis": "x",
           "y": [
            "Netherlands"
           ],
           "yaxis": "y"
          },
          {
           "hovertemplate": "Country=%{y}<br>TIME_PERIOD=2016<br>Circular Use Rate (%)=%{x}<extra></extra>",
           "legendgroup": "France",
           "marker": {
            "color": "#00cc96",
            "pattern": {
             "shape": ""
            }
           },
           "name": "France",
           "orientation": "h",
           "showlegend": true,
           "textposition": "auto",
           "type": "bar",
           "x": {
            "bdata": "zczMzMxMM0A=",
            "dtype": "f8"
           },
           "xaxis": "x",
           "y": [
            "France"
           ],
           "yaxis": "y"
          },
          {
           "hovertemplate": "Country=%{y}<br>TIME_PERIOD=2016<br>Circular Use Rate (%)=%{x}<extra></extra>",
           "legendgroup": "Belgium",
           "marker": {
            "color": "#ab63fa",
            "pattern": {
             "shape": ""
            }
           },
           "name": "Belgium",
           "orientation": "h",
           "showlegend": true,
           "textposition": "auto",
           "type": "bar",
           "x": {
            "bdata": "AAAAAAAAMkA=",
            "dtype": "f8"
           },
           "xaxis": "x",
           "y": [
            "Belgium"
           ],
           "yaxis": "y"
          },
          {
           "hovertemplate": "Country=%{y}<br>TIME_PERIOD=2016<br>Circular Use Rate (%)=%{x}<extra></extra>",
           "legendgroup": "Italy",
           "marker": {
            "color": "#FFA15A",
            "pattern": {
             "shape": ""
            }
           },
           "name": "Italy",
           "orientation": "h",
           "showlegend": true,
           "textposition": "auto",
           "type": "bar",
           "x": {
            "bdata": "zczMzMzMMUA=",
            "dtype": "f8"
           },
           "xaxis": "x",
           "y": [
            "Italy"
           ],
           "yaxis": "y"
          },
          {
           "hovertemplate": "Country=%{y}<br>TIME_PERIOD=2016<br>Circular Use Rate (%)=%{x}<extra></extra>",
           "legendgroup": "Germany",
           "marker": {
            "color": "#19d3f3",
            "pattern": {
             "shape": ""
            }
           },
           "name": "Germany",
           "orientation": "h",
           "showlegend": true,
           "textposition": "auto",
           "type": "bar",
           "x": {
            "bdata": "mpmZmZmZJ0A=",
            "dtype": "f8"
           },
           "xaxis": "x",
           "y": [
            "Germany"
           ],
           "yaxis": "y"
          },
          {
           "hovertemplate": "Country=%{y}<br>TIME_PERIOD=2016<br>Circular Use Rate (%)=%{x}<extra></extra>",
           "legendgroup": "Poland",
           "marker": {
            "color": "#FF6692",
            "pattern": {
             "shape": ""
            }
           },
           "name": "Poland",
           "orientation": "h",
           "showlegend": true,
           "textposition": "auto",
           "type": "bar",
           "x": {
            "bdata": "MzMzMzMzJUA=",
            "dtype": "f8"
           },
           "xaxis": "x",
           "y": [
            "Poland"
           ],
           "yaxis": "y"
          },
          {
           "hovertemplate": "Country=%{y}<br>TIME_PERIOD=2016<br>Circular Use Rate (%)=%{x}<extra></extra>",
           "legendgroup": "Spain",
           "marker": {
            "color": "#FF97FF",
            "pattern": {
             "shape": ""
            }
           },
           "name": "Spain",
           "orientation": "h",
           "showlegend": true,
           "textposition": "auto",
           "type": "bar",
           "x": {
            "bdata": "ZmZmZmZmIEA=",
            "dtype": "f8"
           },
           "xaxis": "x",
           "y": [
            "Spain"
           ],
           "yaxis": "y"
          },
          {
           "hovertemplate": "Country=%{y}<br>TIME_PERIOD=2016<br>Circular Use Rate (%)=%{x}<extra></extra>",
           "legendgroup": "Estonia",
           "marker": {
            "color": "#FECB52",
            "pattern": {
             "shape": ""
            }
           },
           "name": "Estonia",
           "orientation": "h",
           "showlegend": true,
           "textposition": "auto",
           "type": "bar",
           "x": {
            "bdata": "zczMzMzMJ0A=",
            "dtype": "f8"
           },
           "xaxis": "x",
           "y": [
            "Estonia"
           ],
           "yaxis": "y"
          },
          {
           "hovertemplate": "Country=%{y}<br>TIME_PERIOD=2016<br>Circular Use Rate (%)=%{x}<extra></extra>",
           "legendgroup": "Slovenia",
           "marker": {
            "color": "#636efa",
            "pattern": {
             "shape": ""
            }
           },
           "name": "Slovenia",
           "orientation": "h",
           "showlegend": true,
           "textposition": "auto",
           "type": "bar",
           "x": {
            "bdata": "ZmZmZmZmIUA=",
            "dtype": "f8"
           },
           "xaxis": "x",
           "y": [
            "Slovenia"
           ],
           "yaxis": "y"
          },
          {
           "hovertemplate": "Country=%{y}<br>TIME_PERIOD=2016<br>Circular Use Rate (%)=%{x}<extra></extra>",
           "legendgroup": "Austria",
           "marker": {
            "color": "#EF553B",
            "pattern": {
             "shape": ""
            }
           },
           "name": "Austria",
           "orientation": "h",
           "showlegend": true,
           "textposition": "auto",
           "type": "bar",
           "x": {
            "bdata": "zczMzMzMJ0A=",
            "dtype": "f8"
           },
           "xaxis": "x",
           "y": [
            "Austria"
           ],
           "yaxis": "y"
          }
         ],
         "name": "2016"
        },
        {
         "data": [
          {
           "hovertemplate": "Country=%{y}<br>TIME_PERIOD=2017<br>Circular Use Rate (%)=%{x}<extra></extra>",
           "legendgroup": "Netherlands",
           "marker": {
            "color": "#636efa",
            "pattern": {
             "shape": ""
            }
           },
           "name": "Netherlands",
           "orientation": "h",
           "showlegend": true,
           "textposition": "auto",
           "type": "bar",
           "x": {
            "bdata": "MzMzMzOzOkA=",
            "dtype": "f8"
           },
           "xaxis": "x",
           "y": [
            "Netherlands"
           ],
           "yaxis": "y"
          },
          {
           "hovertemplate": "Country=%{y}<br>TIME_PERIOD=2017<br>Circular Use Rate (%)=%{x}<extra></extra>",
           "legendgroup": "Luxembourg",
           "marker": {
            "color": "#EF553B",
            "pattern": {
             "shape": ""
            }
           },
           "name": "Luxembourg",
           "orientation": "h",
           "showlegend": true,
           "textposition": "auto",
           "type": "bar",
           "x": {
            "bdata": "MzMzMzMzJUA=",
            "dtype": "f8"
           },
           "xaxis": "x",
           "y": [
            "Luxembourg"
           ],
           "yaxis": "y"
          },
          {
           "hovertemplate": "Country=%{y}<br>TIME_PERIOD=2017<br>Circular Use Rate (%)=%{x}<extra></extra>",
           "legendgroup": "France",
           "marker": {
            "color": "#00cc96",
            "pattern": {
             "shape": ""
            }
           },
           "name": "France",
           "orientation": "h",
           "showlegend": true,
           "textposition": "auto",
           "type": "bar",
           "x": {
            "bdata": "MzMzMzOzMkA=",
            "dtype": "f8"
           },
           "xaxis": "x",
           "y": [
            "France"
           ],
           "yaxis": "y"
          },
          {
           "hovertemplate": "Country=%{y}<br>TIME_PERIOD=2017<br>Circular Use Rate (%)=%{x}<extra></extra>",
           "legendgroup": "Belgium",
           "marker": {
            "color": "#ab63fa",
            "pattern": {
             "shape": ""
            }
           },
           "name": "Belgium",
           "orientation": "h",
           "showlegend": true,
           "textposition": "auto",
           "type": "bar",
           "x": {
            "bdata": "AAAAAAAAM0A=",
            "dtype": "f8"
           },
           "xaxis": "x",
           "y": [
            "Belgium"
           ],
           "yaxis": "y"
          },
          {
           "hovertemplate": "Country=%{y}<br>TIME_PERIOD=2017<br>Circular Use Rate (%)=%{x}<extra></extra>",
           "legendgroup": "Italy",
           "marker": {
            "color": "#FFA15A",
            "pattern": {
             "shape": ""
            }
           },
           "name": "Italy",
           "orientation": "h",
           "showlegend": true,
           "textposition": "auto",
           "type": "bar",
           "x": {
            "bdata": "ZmZmZmZmMkA=",
            "dtype": "f8"
           },
           "xaxis": "x",
           "y": [
            "Italy"
           ],
           "yaxis": "y"
          },
          {
           "hovertemplate": "Country=%{y}<br>TIME_PERIOD=2017<br>Circular Use Rate (%)=%{x}<extra></extra>",
           "legendgroup": "Germany",
           "marker": {
            "color": "#19d3f3",
            "pattern": {
             "shape": ""
            }
           },
           "name": "Germany",
           "orientation": "h",
           "showlegend": true,
           "textposition": "auto",
           "type": "bar",
           "x": {
            "bdata": "MzMzMzMzJ0A=",
            "dtype": "f8"
           },
           "xaxis": "x",
           "y": [
            "Germany"
           ],
           "yaxis": "y"
          },
          {
           "hovertemplate": "Country=%{y}<br>TIME_PERIOD=2017<br>Circular Use Rate (%)=%{x}<extra></extra>",
           "legendgroup": "Poland",
           "marker": {
            "color": "#FF6692",
            "pattern": {
             "shape": ""
            }
           },
           "name": "Poland",
           "orientation": "h",
           "showlegend": true,
           "textposition": "auto",
           "type": "bar",
           "x": {
            "bdata": "zczMzMzMJEA=",
            "dtype": "f8"
           },
           "xaxis": "x",
           "y": [
            "Poland"
           ],
           "yaxis": "y"
          },
          {
           "hovertemplate": "Country=%{y}<br>TIME_PERIOD=2017<br>Circular Use Rate (%)=%{x}<extra></extra>",
           "legendgroup": "Estonia",
           "marker": {
            "color": "#FECB52",
            "pattern": {
             "shape": ""
            }
           },
           "name": "Estonia",
           "orientation": "h",
           "showlegend": true,
           "textposition": "auto",
           "type": "bar",
           "x": {
            "bdata": "AAAAAAAAKUA=",
            "dtype": "f8"
           },
           "xaxis": "x",
           "y": [
            "Estonia"
           ],
           "yaxis": "y"
          },
          {
           "hovertemplate": "Country=%{y}<br>TIME_PERIOD=2017<br>Circular Use Rate (%)=%{x}<extra></extra>",
           "legendgroup": "Slovenia",
           "marker": {
            "color": "#636efa",
            "pattern": {
             "shape": ""
            }
           },
           "name": "Slovenia",
           "orientation": "h",
           "showlegend": true,
           "textposition": "auto",
           "type": "bar",
           "x": {
            "bdata": "mpmZmZmZI0A=",
            "dtype": "f8"
           },
           "xaxis": "x",
           "y": [
            "Slovenia"
           ],
           "yaxis": "y"
          },
          {
           "hovertemplate": "Country=%{y}<br>TIME_PERIOD=2017<br>Circular Use Rate (%)=%{x}<extra></extra>",
           "legendgroup": "Austria",
           "marker": {
            "color": "#EF553B",
            "pattern": {
             "shape": ""
            }
           },
           "name": "Austria",
           "orientation": "h",
           "showlegend": true,
           "textposition": "auto",
           "type": "bar",
           "x": {
            "bdata": "AAAAAAAAKEA=",
            "dtype": "f8"
           },
           "xaxis": "x",
           "y": [
            "Austria"
           ],
           "yaxis": "y"
          }
         ],
         "name": "2017"
        },
        {
         "data": [
          {
           "hovertemplate": "Country=%{y}<br>TIME_PERIOD=2018<br>Circular Use Rate (%)=%{x}<extra></extra>",
           "legendgroup": "Netherlands",
           "marker": {
            "color": "#636efa",
            "pattern": {
             "shape": ""
            }
           },
           "name": "Netherlands",
           "orientation": "h",
           "showlegend": true,
           "textposition": "auto",
           "type": "bar",
           "x": {
            "bdata": "zczMzMzMOUA=",
            "dtype": "f8"
           },
           "xaxis": "x",
           "y": [
            "Netherlands"
           ],
           "yaxis": "y"
          },
          {
           "hovertemplate": "Country=%{y}<br>TIME_PERIOD=2018<br>Circular Use Rate (%)=%{x}<extra></extra>",
           "legendgroup": "Luxembourg",
           "marker": {
            "color": "#EF553B",
            "pattern": {
             "shape": ""
            }
           },
           "name": "Luxembourg",
           "orientation": "h",
           "showlegend": true,
           "textposition": "auto",
           "type": "bar",
           "x": {
            "bdata": "mpmZmZmZJUA=",
            "dtype": "f8"
           },
           "xaxis": "x",
           "y": [
            "Luxembourg"
           ],
           "yaxis": "y"
          },
          {
           "hovertemplate": "Country=%{y}<br>TIME_PERIOD=2018<br>Circular Use Rate (%)=%{x}<extra></extra>",
           "legendgroup": "France",
           "marker": {
            "color": "#00cc96",
            "pattern": {
             "shape": ""
            }
           },
           "name": "France",
           "orientation": "h",
           "showlegend": true,
           "textposition": "auto",
           "type": "bar",
           "x": {
            "bdata": "AAAAAACAM0A=",
            "dtype": "f8"
           },
           "xaxis": "x",
           "y": [
            "France"
           ],
           "yaxis": "y"
          },
          {
           "hovertemplate": "Country=%{y}<br>TIME_PERIOD=2018<br>Circular Use Rate (%)=%{x}<extra></extra>",
           "legendgroup": "Belgium",
           "marker": {
            "color": "#ab63fa",
            "pattern": {
             "shape": ""
            }
           },
           "name": "Belgium",
           "orientation": "h",
           "showlegend": true,
           "textposition": "auto",
           "type": "bar",
           "x": {
            "bdata": "mpmZmZmZNEA=",
            "dtype": "f8"
           },
           "xaxis": "x",
           "y": [
            "Belgium"
           ],
           "yaxis": "y"
          },
          {
           "hovertemplate": "Country=%{y}<br>TIME_PERIOD=2018<br>Circular Use Rate (%)=%{x}<extra></extra>",
           "legendgroup": "Italy",
           "marker": {
            "color": "#FFA15A",
            "pattern": {
             "shape": ""
            }
           },
           "name": "Italy",
           "orientation": "h",
           "showlegend": true,
           "textposition": "auto",
           "type": "bar",
           "x": {
            "bdata": "zczMzMzMMkA=",
            "dtype": "f8"
           },
           "xaxis": "x",
           "y": [
            "Italy"
           ],
           "yaxis": "y"
          },
          {
           "hovertemplate": "Country=%{y}<br>TIME_PERIOD=2018<br>Circular Use Rate (%)=%{x}<extra></extra>",
           "legendgroup": "Germany",
           "marker": {
            "color": "#19d3f3",
            "pattern": {
             "shape": ""
            }
           },
           "name": "Germany",
           "orientation": "h",
           "showlegend": true,
           "textposition": "auto",
           "type": "bar",
           "x": {
            "bdata": "AAAAAAAAKEA=",
            "dtype": "f8"
           },
           "xaxis": "x",
           "y": [
            "Germany"
           ],
           "yaxis": "y"
          },
          {
           "hovertemplate": "Country=%{y}<br>TIME_PERIOD=2018<br>Circular Use Rate (%)=%{x}<extra></extra>",
           "legendgroup": "Poland",
           "marker": {
            "color": "#FF6692",
            "pattern": {
             "shape": ""
            }
           },
           "name": "Poland",
           "orientation": "h",
           "showlegend": true,
           "textposition": "auto",
           "type": "bar",
           "x": {
            "bdata": "AAAAAAAAJUA=",
            "dtype": "f8"
           },
           "xaxis": "x",
           "y": [
            "Poland"
           ],
           "yaxis": "y"
          },
          {
           "hovertemplate": "Country=%{y}<br>TIME_PERIOD=2018<br>Circular Use Rate (%)=%{x}<extra></extra>",
           "legendgroup": "Estonia",
           "marker": {
            "color": "#FECB52",
            "pattern": {
             "shape": ""
            }
           },
           "name": "Estonia",
           "orientation": "h",
           "showlegend": true,
           "textposition": "auto",
           "type": "bar",
           "x": {
            "bdata": "mpmZmZmZK0A=",
            "dtype": "f8"
           },
           "xaxis": "x",
           "y": [
            "Estonia"
           ],
           "yaxis": "y"
          },
          {
           "hovertemplate": "Country=%{y}<br>TIME_PERIOD=2018<br>Circular Use Rate (%)=%{x}<extra></extra>",
           "legendgroup": "Austria",
           "marker": {
            "color": "#EF553B",
            "pattern": {
             "shape": ""
            }
           },
           "name": "Austria",
           "orientation": "h",
           "showlegend": true,
           "textposition": "auto",
           "type": "bar",
           "x": {
            "bdata": "mpmZmZmZJ0A=",
            "dtype": "f8"
           },
           "xaxis": "x",
           "y": [
            "Austria"
           ],
           "yaxis": "y"
          },
          {
           "hovertemplate": "Country=%{y}<br>TIME_PERIOD=2018<br>Circular Use Rate (%)=%{x}<extra></extra>",
           "legendgroup": "Czechia",
           "marker": {
            "color": "#ab63fa",
            "pattern": {
             "shape": ""
            }
           },
           "name": "Czechia",
           "orientation": "h",
           "showlegend": true,
           "textposition": "auto",
           "type": "bar",
           "x": {
            "bdata": "AAAAAAAAJUA=",
            "dtype": "f8"
           },
           "xaxis": "x",
           "y": [
            "Czechia"
           ],
           "yaxis": "y"
          }
         ],
         "name": "2018"
        },
        {
         "data": [
          {
           "hovertemplate": "Country=%{y}<br>TIME_PERIOD=2019<br>Circular Use Rate (%)=%{x}<extra></extra>",
           "legendgroup": "Netherlands",
           "marker": {
            "color": "#636efa",
            "pattern": {
             "shape": ""
            }
           },
           "name": "Netherlands",
           "orientation": "h",
           "showlegend": true,
           "textposition": "auto",
           "type": "bar",
           "x": {
            "bdata": "mpmZmZmZOUA=",
            "dtype": "f8"
           },
           "xaxis": "x",
           "y": [
            "Netherlands"
           ],
           "yaxis": "y"
          },
          {
           "hovertemplate": "Country=%{y}<br>TIME_PERIOD=2019<br>Circular Use Rate (%)=%{x}<extra></extra>",
           "legendgroup": "France",
           "marker": {
            "color": "#00cc96",
            "pattern": {
             "shape": ""
            }
           },
           "name": "France",
           "orientation": "h",
           "showlegend": true,
           "textposition": "auto",
           "type": "bar",
           "x": {
            "bdata": "mpmZmZkZMUA=",
            "dtype": "f8"
           },
           "xaxis": "x",
           "y": [
            "France"
           ],
           "yaxis": "y"
          },
          {
           "hovertemplate": "Country=%{y}<br>TIME_PERIOD=2019<br>Circular Use Rate (%)=%{x}<extra></extra>",
           "legendgroup": "Belgium",
           "marker": {
            "color": "#ab63fa",
            "pattern": {
             "shape": ""
            }
           },
           "name": "Belgium",
           "orientation": "h",
           "showlegend": true,
           "textposition": "auto",
           "type": "bar",
           "x": {
            "bdata": "AAAAAACANEA=",
            "dtype": "f8"
           },
           "xaxis": "x",
           "y": [
            "Belgium"
           ],
           "yaxis": "y"
          },
          {
           "hovertemplate": "Country=%{y}<br>TIME_PERIOD=2019<br>Circular Use Rate (%)=%{x}<extra></extra>",
           "legendgroup": "Italy",
           "marker": {
            "color": "#FFA15A",
            "pattern": {
             "shape": ""
            }
           },
           "name": "Italy",
           "orientation": "h",
           "showlegend": true,
           "textposition": "auto",
           "type": "bar",
           "x": {
            "bdata": "zczMzMzMMkA=",
            "dtype": "f8"
           },
           "xaxis": "x",
           "y": [
            "Italy"
           ],
           "yaxis": "y"
          },
          {
           "hovertemplate": "Country=%{y}<br>TIME_PERIOD=2019<br>Circular Use Rate (%)=%{x}<extra></extra>",
           "legendgroup": "Germany",
           "marker": {
            "color": "#19d3f3",
            "pattern": {
             "shape": ""
            }
           },
           "name": "Germany",
           "orientation": "h",
           "showlegend": true,
           "textposition": "auto",
           "type": "bar",
           "x": {
            "bdata": "zczMzMzMKEA=",
            "dtype": "f8"
           },
           "xaxis": "x",
           "y": [
            "Germany"
           ],
           "yaxis": "y"
          },
          {
           "hovertemplate": "Country=%{y}<br>TIME_PERIOD=2019<br>Circular Use Rate (%)=%{x}<extra></extra>",
           "legendgroup": "Estonia",
           "marker": {
            "color": "#FECB52",
            "pattern": {
             "shape": ""
            }
           },
           "name": "Estonia",
           "orientation": "h",
           "showlegend": true,
           "textposition": "auto",
           "type": "bar",
           "x": {
            "bdata": "mpmZmZmZLkA=",
            "dtype": "f8"
           },
           "xaxis": "x",
           "y": [
            "Estonia"
           ],
           "yaxis": "y"
          },
          {
           "hovertemplate": "Country=%{y}<br>TIME_PERIOD=2019<br>Circular Use Rate (%)=%{x}<extra></extra>",
           "legendgroup": "Slovenia",
           "marker": {
            "color": "#636efa",
            "pattern": {
             "shape": ""
            }
           },
           "name": "Slovenia",
           "orientation": "h",
           "showlegend": true,
           "textposition": "auto",
           "type": "bar",
           "x": {
            "bdata": "ZmZmZmZmJEA=",
            "dtype": "f8"
           },
           "xaxis": "x",
           "y": [
            "Slovenia"
           ],
           "yaxis": "y"
          },
          {
           "hovertemplate": "Country=%{y}<br>TIME_PERIOD=2019<br>Circular Use Rate (%)=%{x}<extra></extra>",
           "legendgroup": "Austria",
           "marker": {
            "color": "#EF553B",
            "pattern": {
             "shape": ""
            }
           },
           "name": "Austria",
           "orientation": "h",
           "showlegend": true,
           "textposition": "auto",
           "type": "bar",
           "x": {
            "bdata": "AAAAAAAAJ0A=",
            "dtype": "f8"
           },
           "xaxis": "x",
           "y": [
            "Austria"
           ],
           "yaxis": "y"
          },
          {
           "hovertemplate": "Country=%{y}<br>TIME_PERIOD=2019<br>Circular Use Rate (%)=%{x}<extra></extra>",
           "legendgroup": "Czechia",
           "marker": {
            "color": "#ab63fa",
            "pattern": {
             "shape": ""
            }
           },
           "name": "Czechia",
           "orientation": "h",
           "showlegend": true,
           "textposition": "auto",
           "type": "bar",
           "x": {
            "bdata": "MzMzMzMzJUA=",
            "dtype": "f8"
           },
           "xaxis": "x",
           "y": [
            "Czechia"
           ],
           "yaxis": "y"
          },
          {
           "hovertemplate": "Country=%{y}<br>TIME_PERIOD=2019<br>Circular Use Rate (%)=%{x}<extra></extra>",
           "legendgroup": "Malta",
           "marker": {
            "color": "#FFA15A",
            "pattern": {
             "shape": ""
            }
           },
           "name": "Malta",
           "orientation": "h",
           "showlegend": true,
           "textposition": "auto",
           "type": "bar",
           "x": {
            "bdata": "mpmZmZmZKUA=",
            "dtype": "f8"
           },
           "xaxis": "x",
           "y": [
            "Malta"
           ],
           "yaxis": "y"
          }
         ],
         "name": "2019"
        },
        {
         "data": [
          {
           "hovertemplate": "Country=%{y}<br>TIME_PERIOD=2020<br>Circular Use Rate (%)=%{x}<extra></extra>",
           "legendgroup": "Netherlands",
           "marker": {
            "color": "#636efa",
            "pattern": {
             "shape": ""
            }
           },
           "name": "Netherlands",
           "orientation": "h",
           "showlegend": true,
           "textposition": "auto",
           "type": "bar",
           "x": {
            "bdata": "mpmZmZkZO0A=",
            "dtype": "f8"
           },
           "xaxis": "x",
           "y": [
            "Netherlands"
           ],
           "yaxis": "y"
          },
          {
           "hovertemplate": "Country=%{y}<br>TIME_PERIOD=2020<br>Circular Use Rate (%)=%{x}<extra></extra>",
           "legendgroup": "France",
           "marker": {
            "color": "#00cc96",
            "pattern": {
             "shape": ""
            }
           },
           "name": "France",
           "orientation": "h",
           "showlegend": true,
           "textposition": "auto",
           "type": "bar",
           "x": {
            "bdata": "MzMzMzMzMEA=",
            "dtype": "f8"
           },
           "xaxis": "x",
           "y": [
            "France"
           ],
           "yaxis": "y"
          },
          {
           "hovertemplate": "Country=%{y}<br>TIME_PERIOD=2020<br>Circular Use Rate (%)=%{x}<extra></extra>",
           "legendgroup": "Belgium",
           "marker": {
            "color": "#ab63fa",
            "pattern": {
             "shape": ""
            }
           },
           "name": "Belgium",
           "orientation": "h",
           "showlegend": true,
           "textposition": "auto",
           "type": "bar",
           "x": {
            "bdata": "ZmZmZmbmNkA=",
            "dtype": "f8"
           },
           "xaxis": "x",
           "y": [
            "Belgium"
           ],
           "yaxis": "y"
          },
          {
           "hovertemplate": "Country=%{y}<br>TIME_PERIOD=2020<br>Circular Use Rate (%)=%{x}<extra></extra>",
           "legendgroup": "Italy",
           "marker": {
            "color": "#FFA15A",
            "pattern": {
             "shape": ""
            }
           },
           "name": "Italy",
           "orientation": "h",
           "showlegend": true,
           "textposition": "auto",
           "type": "bar",
           "x": {
            "bdata": "mpmZmZmZNEA=",
            "dtype": "f8"
           },
           "xaxis": "x",
           "y": [
            "Italy"
           ],
           "yaxis": "y"
          },
          {
           "hovertemplate": "Country=%{y}<br>TIME_PERIOD=2020<br>Circular Use Rate (%)=%{x}<extra></extra>",
           "legendgroup": "Germany",
           "marker": {
            "color": "#19d3f3",
            "pattern": {
             "shape": ""
            }
           },
           "name": "Germany",
           "orientation": "h",
           "showlegend": true,
           "textposition": "auto",
           "type": "bar",
           "x": {
            "bdata": "mpmZmZmZKUA=",
            "dtype": "f8"
           },
           "xaxis": "x",
           "y": [
            "Germany"
           ],
           "yaxis": "y"
          },
          {
           "hovertemplate": "Country=%{y}<br>TIME_PERIOD=2020<br>Circular Use Rate (%)=%{x}<extra></extra>",
           "legendgroup": "Estonia",
           "marker": {
            "color": "#FECB52",
            "pattern": {
             "shape": ""
            }
           },
           "name": "Estonia",
           "orientation": "h",
           "showlegend": true,
           "textposition": "auto",
           "type": "bar",
           "x": {
            "bdata": "ZmZmZmZmMEA=",
            "dtype": "f8"
           },
           "xaxis": "x",
           "y": [
            "Estonia"
           ],
           "yaxis": "y"
          },
          {
           "hovertemplate": "Country=%{y}<br>TIME_PERIOD=2020<br>Circular Use Rate (%)=%{x}<extra></extra>",
           "legendgroup": "Austria",
           "marker": {
            "color": "#EF553B",
            "pattern": {
             "shape": ""
            }
           },
           "name": "Austria",
           "orientation": "h",
           "showlegend": true,
           "textposition": "auto",
           "type": "bar",
           "x": {
            "bdata": "zczMzMzMJkA=",
            "dtype": "f8"
           },
           "xaxis": "x",
           "y": [
            "Austria"
           ],
           "yaxis": "y"
          },
          {
           "hovertemplate": "Country=%{y}<br>TIME_PERIOD=2020<br>Circular Use Rate (%)=%{x}<extra></extra>",
           "legendgroup": "Czechia",
           "marker": {
            "color": "#ab63fa",
            "pattern": {
             "shape": ""
            }
           },
           "name": "Czechia",
           "orientation": "h",
           "showlegend": true,
           "textposition": "auto",
           "type": "bar",
           "x": {
            "bdata": "AAAAAAAAJ0A=",
            "dtype": "f8"
           },
           "xaxis": "x",
           "y": [
            "Czechia"
           ],
           "yaxis": "y"
          },
          {
           "hovertemplate": "Country=%{y}<br>TIME_PERIOD=2020<br>Circular Use Rate (%)=%{x}<extra></extra>",
           "legendgroup": "Malta",
           "marker": {
            "color": "#FFA15A",
            "pattern": {
             "shape": ""
            }
           },
           "name": "Malta",
           "orientation": "h",
           "showlegend": true,
           "textposition": "auto",
           "type": "bar",
           "x": {
            "bdata": "AAAAAACAMEA=",
            "dtype": "f8"
           },
           "xaxis": "x",
           "y": [
            "Malta"
           ],
           "yaxis": "y"
          },
          {
           "hovertemplate": "Country=%{y}<br>TIME_PERIOD=2020<br>Circular Use Rate (%)=%{x}<extra></extra>",
           "legendgroup": "Slovakia",
           "marker": {
            "color": "#19d3f3",
            "pattern": {
             "shape": ""
            }
           },
           "name": "Slovakia",
           "orientation": "h",
           "showlegend": true,
           "textposition": "auto",
           "type": "bar",
           "x": {
            "bdata": "mpmZmZmZJEA=",
            "dtype": "f8"
           },
           "xaxis": "x",
           "y": [
            "Slovakia"
           ],
           "yaxis": "y"
          }
         ],
         "name": "2020"
        },
        {
         "data": [
          {
           "hovertemplate": "Country=%{y}<br>TIME_PERIOD=2021<br>Circular Use Rate (%)=%{x}<extra></extra>",
           "legendgroup": "Netherlands",
           "marker": {
            "color": "#636efa",
            "pattern": {
             "shape": ""
            }
           },
           "name": "Netherlands",
           "orientation": "h",
           "showlegend": true,
           "textposition": "auto",
           "type": "bar",
           "x": {
            "bdata": "AAAAAACAPEA=",
            "dtype": "f8"
           },
           "xaxis": "x",
           "y": [
            "Netherlands"
           ],
           "yaxis": "y"
          },
          {
           "hovertemplate": "Country=%{y}<br>TIME_PERIOD=2021<br>Circular Use Rate (%)=%{x}<extra></extra>",
           "legendgroup": "France",
           "marker": {
            "color": "#00cc96",
            "pattern": {
             "shape": ""
            }
           },
           "name": "France",
           "orientation": "h",
           "showlegend": true,
           "textposition": "auto",
           "type": "bar",
           "x": {
            "bdata": "zczMzMzML0A=",
            "dtype": "f8"
           },
           "xaxis": "x",
           "y": [
            "France"
           ],
           "yaxis": "y"
          },
          {
           "hovertemplate": "Country=%{y}<br>TIME_PERIOD=2021<br>Circular Use Rate (%)=%{x}<extra></extra>",
           "legendgroup": "Belgium",
           "marker": {
            "color": "#ab63fa",
            "pattern": {
             "shape": ""
            }
           },
           "name": "Belgium",
           "orientation": "h",
           "showlegend": true,
           "textposition": "auto",
           "type": "bar",
           "x": {
            "bdata": "ZmZmZmZmNUA=",
            "dtype": "f8"
           },
           "xaxis": "x",
           "y": [
            "Belgium"
           ],
           "yaxis": "y"
          },
          {
           "hovertemplate": "Country=%{y}<br>TIME_PERIOD=2021<br>Circular Use Rate (%)=%{x}<extra></extra>",
           "legendgroup": "Italy",
           "marker": {
            "color": "#FFA15A",
            "pattern": {
             "shape": ""
            }
           },
           "name": "Italy",
           "orientation": "h",
           "showlegend": true,
           "textposition": "auto",
           "type": "bar",
           "x": {
            "bdata": "MzMzMzOzM0A=",
            "dtype": "f8"
           },
           "xaxis": "x",
           "y": [
            "Italy"
           ],
           "yaxis": "y"
          },
          {
           "hovertemplate": "Country=%{y}<br>TIME_PERIOD=2021<br>Circular Use Rate (%)=%{x}<extra></extra>",
           "legendgroup": "Germany",
           "marker": {
            "color": "#19d3f3",
            "pattern": {
             "shape": ""
            }
           },
           "name": "Germany",
           "orientation": "h",
           "showlegend": true,
           "textposition": "auto",
           "type": "bar",
           "x": {
            "bdata": "ZmZmZmZmKEA=",
            "dtype": "f8"
           },
           "xaxis": "x",
           "y": [
            "Germany"
           ],
           "yaxis": "y"
          },
          {
           "hovertemplate": "Country=%{y}<br>TIME_PERIOD=2021<br>Circular Use Rate (%)=%{x}<extra></extra>",
           "legendgroup": "Estonia",
           "marker": {
            "color": "#FECB52",
            "pattern": {
             "shape": ""
            }
           },
           "name": "Estonia",
           "orientation": "h",
           "showlegend": true,
           "textposition": "auto",
           "type": "bar",
           "x": {
            "bdata": "AAAAAAAANEA=",
            "dtype": "f8"
           },
           "xaxis": "x",
           "y": [
            "Estonia"
           ],
           "yaxis": "y"
          },
          {
           "hovertemplate": "Country=%{y}<br>TIME_PERIOD=2021<br>Circular Use Rate (%)=%{x}<extra></extra>",
           "legendgroup": "Austria",
           "marker": {
            "color": "#EF553B",
            "pattern": {
             "shape": ""
            }
           },
           "name": "Austria",
           "orientation": "h",
           "showlegend": true,
           "textposition": "auto",
           "type": "bar",
           "x": {
            "bdata": "mpmZmZmZJkA=",
            "dtype": "f8"
           },
           "xaxis": "x",
           "y": [
            "Austria"
           ],
           "yaxis": "y"
          },
          {
           "hovertemplate": "Country=%{y}<br>TIME_PERIOD=2021<br>Circular Use Rate (%)=%{x}<extra></extra>",
           "legendgroup": "Czechia",
           "marker": {
            "color": "#ab63fa",
            "pattern": {
             "shape": ""
            }
           },
           "name": "Czechia",
           "orientation": "h",
           "showlegend": true,
           "textposition": "auto",
           "type": "bar",
           "x": {
            "bdata": "AAAAAAAAJkA=",
            "dtype": "f8"
           },
           "xaxis": "x",
           "y": [
            "Czechia"
           ],
           "yaxis": "y"
          },
          {
           "hovertemplate": "Country=%{y}<br>TIME_PERIOD=2021<br>Circular Use Rate (%)=%{x}<extra></extra>",
           "legendgroup": "Malta",
           "marker": {
            "color": "#FFA15A",
            "pattern": {
             "shape": ""
            }
           },
           "name": "Malta",
           "orientation": "h",
           "showlegend": true,
           "textposition": "auto",
           "type": "bar",
           "x": {
            "bdata": "MzMzMzMzM0A=",
            "dtype": "f8"
           },
           "xaxis": "x",
           "y": [
            "Malta"
           ],
           "yaxis": "y"
          },
          {
           "hovertemplate": "Country=%{y}<br>TIME_PERIOD=2021<br>Circular Use Rate (%)=%{x}<extra></extra>",
           "legendgroup": "Slovakia",
           "marker": {
            "color": "#19d3f3",
            "pattern": {
             "shape": ""
            }
           },
           "name": "Slovakia",
           "orientation": "h",
           "showlegend": true,
           "textposition": "auto",
           "type": "bar",
           "x": {
            "bdata": "zczMzMzMJEA=",
            "dtype": "f8"
           },
           "xaxis": "x",
           "y": [
            "Slovakia"
           ],
           "yaxis": "y"
          }
         ],
         "name": "2021"
        },
        {
         "data": [
          {
           "hovertemplate": "Country=%{y}<br>TIME_PERIOD=2022<br>Circular Use Rate (%)=%{x}<extra></extra>",
           "legendgroup": "Netherlands",
           "marker": {
            "color": "#636efa",
            "pattern": {
             "shape": ""
            }
           },
           "name": "Netherlands",
           "orientation": "h",
           "showlegend": true,
           "textposition": "auto",
           "type": "bar",
           "x": {
            "bdata": "MzMzMzMzO0A=",
            "dtype": "f8"
           },
           "xaxis": "x",
           "y": [
            "Netherlands"
           ],
           "yaxis": "y"
          },
          {
           "hovertemplate": "Country=%{y}<br>TIME_PERIOD=2022<br>Circular Use Rate (%)=%{x}<extra></extra>",
           "legendgroup": "Luxembourg",
           "marker": {
            "color": "#EF553B",
            "pattern": {
             "shape": ""
            }
           },
           "name": "Luxembourg",
           "orientation": "h",
           "showlegend": true,
           "textposition": "auto",
           "type": "bar",
           "x": {
            "bdata": "mpmZmZmZKEA=",
            "dtype": "f8"
           },
           "xaxis": "x",
           "y": [
            "Luxembourg"
           ],
           "yaxis": "y"
          },
          {
           "hovertemplate": "Country=%{y}<br>TIME_PERIOD=2022<br>Circular Use Rate (%)=%{x}<extra></extra>",
           "legendgroup": "France",
           "marker": {
            "color": "#00cc96",
            "pattern": {
             "shape": ""
            }
           },
           "name": "France",
           "orientation": "h",
           "showlegend": true,
           "textposition": "auto",
           "type": "bar",
           "x": {
            "bdata": "AAAAAACAMUA=",
            "dtype": "f8"
           },
           "xaxis": "x",
           "y": [
            "France"
           ],
           "yaxis": "y"
          },
          {
           "hovertemplate": "Country=%{y}<br>TIME_PERIOD=2022<br>Circular Use Rate (%)=%{x}<extra></extra>",
           "legendgroup": "Belgium",
           "marker": {
            "color": "#ab63fa",
            "pattern": {
             "shape": ""
            }
           },
           "name": "Belgium",
           "orientation": "h",
           "showlegend": true,
           "textposition": "auto",
           "type": "bar",
           "x": {
            "bdata": "zczMzMxMMkA=",
            "dtype": "f8"
           },
           "xaxis": "x",
           "y": [
            "Belgium"
           ],
           "yaxis": "y"
          },
          {
           "hovertemplate": "Country=%{y}<br>TIME_PERIOD=2022<br>Circular Use Rate (%)=%{x}<extra></extra>",
           "legendgroup": "Italy",
           "marker": {
            "color": "#FFA15A",
            "pattern": {
             "shape": ""
            }
           },
           "name": "Italy",
           "orientation": "h",
           "showlegend": true,
           "textposition": "auto",
           "type": "bar",
           "x": {
            "bdata": "mpmZmZmZNEA=",
            "dtype": "f8"
           },
           "xaxis": "x",
           "y": [
            "Italy"
           ],
           "yaxis": "y"
          },
          {
           "hovertemplate": "Country=%{y}<br>TIME_PERIOD=2022<br>Circular Use Rate (%)=%{x}<extra></extra>",
           "legendgroup": "Germany",
           "marker": {
            "color": "#19d3f3",
            "pattern": {
             "shape": ""
            }
           },
           "name": "Germany",
           "orientation": "h",
           "showlegend": true,
           "textposition": "auto",
           "type": "bar",
           "x": {
            "bdata": "AAAAAAAAKUA=",
            "dtype": "f8"
           },
           "xaxis": "x",
           "y": [
            "Germany"
           ],
           "yaxis": "y"
          },
          {
           "hovertemplate": "Country=%{y}<br>TIME_PERIOD=2022<br>Circular Use Rate (%)=%{x}<extra></extra>",
           "legendgroup": "Estonia",
           "marker": {
            "color": "#FECB52",
            "pattern": {
             "shape": ""
            }
           },
           "name": "Estonia",
           "orientation": "h",
           "showlegend": true,
           "textposition": "auto",
           "type": "bar",
           "x": {
            "bdata": "ZmZmZmZmNUA=",
            "dtype": "f8"
           },
           "xaxis": "x",
           "y": [
            "Estonia"
           ],
           "yaxis": "y"
          },
          {
           "hovertemplate": "Country=%{y}<br>TIME_PERIOD=2022<br>Circular Use Rate (%)=%{x}<extra></extra>",
           "legendgroup": "Austria",
           "marker": {
            "color": "#EF553B",
            "pattern": {
             "shape": ""
            }
           },
           "name": "Austria",
           "orientation": "h",
           "showlegend": true,
           "textposition": "auto",
           "type": "bar",
           "x": {
            "bdata": "zczMzMzMKEA=",
            "dtype": "f8"
           },
           "xaxis": "x",
           "y": [
            "Austria"
           ],
           "yaxis": "y"
          },
          {
           "hovertemplate": "Country=%{y}<br>TIME_PERIOD=2022<br>Circular Use Rate (%)=%{x}<extra></extra>",
           "legendgroup": "Malta",
           "marker": {
            "color": "#FFA15A",
            "pattern": {
             "shape": ""
            }
           },
           "name": "Malta",
           "orientation": "h",
           "showlegend": true,
           "textposition": "auto",
           "type": "bar",
           "x": {
            "bdata": "AAAAAACANUA=",
            "dtype": "f8"
           },
           "xaxis": "x",
           "y": [
            "Malta"
           ],
           "yaxis": "y"
          },
          {
           "hovertemplate": "Country=%{y}<br>TIME_PERIOD=2022<br>Circular Use Rate (%)=%{x}<extra></extra>",
           "legendgroup": "Sweden",
           "marker": {
            "color": "#FF6692",
            "pattern": {
             "shape": ""
            }
           },
           "name": "Sweden",
           "orientation": "h",
           "showlegend": true,
           "textposition": "auto",
           "type": "bar",
           "x": {
            "bdata": "MzMzMzMzKEA=",
            "dtype": "f8"
           },
           "xaxis": "x",
           "y": [
            "Sweden"
           ],
           "yaxis": "y"
          }
         ],
         "name": "2022"
        },
        {
         "data": [
          {
           "hovertemplate": "Country=%{y}<br>TIME_PERIOD=2023<br>Circular Use Rate (%)=%{x}<extra></extra>",
           "legendgroup": "Netherlands",
           "marker": {
            "color": "#636efa",
            "pattern": {
             "shape": ""
            }
           },
           "name": "Netherlands",
           "orientation": "h",
           "showlegend": true,
           "textposition": "auto",
           "type": "bar",
           "x": {
            "bdata": "mpmZmZmZPkA=",
            "dtype": "f8"
           },
           "xaxis": "x",
           "y": [
            "Netherlands"
           ],
           "yaxis": "y"
          },
          {
           "hovertemplate": "Country=%{y}<br>TIME_PERIOD=2023<br>Circular Use Rate (%)=%{x}<extra></extra>",
           "legendgroup": "France",
           "marker": {
            "color": "#00cc96",
            "pattern": {
             "shape": ""
            }
           },
           "name": "France",
           "orientation": "h",
           "showlegend": true,
           "textposition": "auto",
           "type": "bar",
           "x": {
            "bdata": "mpmZmZmZMUA=",
            "dtype": "f8"
           },
           "xaxis": "x",
           "y": [
            "France"
           ],
           "yaxis": "y"
          },
          {
           "hovertemplate": "Country=%{y}<br>TIME_PERIOD=2023<br>Circular Use Rate (%)=%{x}<extra></extra>",
           "legendgroup": "Belgium",
           "marker": {
            "color": "#ab63fa",
            "pattern": {
             "shape": ""
            }
           },
           "name": "Belgium",
           "orientation": "h",
           "showlegend": true,
           "textposition": "auto",
           "type": "bar",
           "x": {
            "bdata": "MzMzMzOzM0A=",
            "dtype": "f8"
           },
           "xaxis": "x",
           "y": [
            "Belgium"
           ],
           "yaxis": "y"
          },
          {
           "hovertemplate": "Country=%{y}<br>TIME_PERIOD=2023<br>Circular Use Rate (%)=%{x}<extra></extra>",
           "legendgroup": "Italy",
           "marker": {
            "color": "#FFA15A",
            "pattern": {
             "shape": ""
            }
           },
           "name": "Italy",
           "orientation": "h",
           "showlegend": true,
           "textposition": "auto",
           "type": "bar",
           "x": {
            "bdata": "zczMzMzMNEA=",
            "dtype": "f8"
           },
           "xaxis": "x",
           "y": [
            "Italy"
           ],
           "yaxis": "y"
          },
          {
           "hovertemplate": "Country=%{y}<br>TIME_PERIOD=2023<br>Circular Use Rate (%)=%{x}<extra></extra>",
           "legendgroup": "Germany",
           "marker": {
            "color": "#19d3f3",
            "pattern": {
             "shape": ""
            }
           },
           "name": "Germany",
           "orientation": "h",
           "showlegend": true,
           "textposition": "auto",
           "type": "bar",
           "x": {
            "bdata": "zczMzMzMK0A=",
            "dtype": "f8"
           },
           "xaxis": "x",
           "y": [
            "Germany"
           ],
           "yaxis": "y"
          },
          {
           "hovertemplate": "Country=%{y}<br>TIME_PERIOD=2023<br>Circular Use Rate (%)=%{x}<extra></extra>",
           "legendgroup": "Estonia",
           "marker": {
            "color": "#FECB52",
            "pattern": {
             "shape": ""
            }
           },
           "name": "Estonia",
           "orientation": "h",
           "showlegend": true,
           "textposition": "auto",
           "type": "bar",
           "x": {
            "bdata": "mpmZmZkZMkA=",
            "dtype": "f8"
           },
           "xaxis": "x",
           "y": [
            "Estonia"
           ],
           "yaxis": "y"
          },
          {
           "hovertemplate": "Country=%{y}<br>TIME_PERIOD=2023<br>Circular Use Rate (%)=%{x}<extra></extra>",
           "legendgroup": "Austria",
           "marker": {
            "color": "#EF553B",
            "pattern": {
             "shape": ""
            }
           },
           "name": "Austria",
           "orientation": "h",
           "showlegend": true,
           "textposition": "auto",
           "type": "bar",
           "x": {
            "bdata": "mpmZmZmZLEA=",
            "dtype": "f8"
           },
           "xaxis": "x",
           "y": [
            "Austria"
           ],
           "yaxis": "y"
          },
          {
           "hovertemplate": "Country=%{y}<br>TIME_PERIOD=2023<br>Circular Use Rate (%)=%{x}<extra></extra>",
           "legendgroup": "Czechia",
           "marker": {
            "color": "#ab63fa",
            "pattern": {
             "shape": ""
            }
           },
           "name": "Czechia",
           "orientation": "h",
           "showlegend": true,
           "textposition": "auto",
           "type": "bar",
           "x": {
            "bdata": "mpmZmZmZKUA=",
            "dtype": "f8"
           },
           "xaxis": "x",
           "y": [
            "Czechia"
           ],
           "yaxis": "y"
          },
          {
           "hovertemplate": "Country=%{y}<br>TIME_PERIOD=2023<br>Circular Use Rate (%)=%{x}<extra></extra>",
           "legendgroup": "Malta",
           "marker": {
            "color": "#FFA15A",
            "pattern": {
             "shape": ""
            }
           },
           "name": "Malta",
           "orientation": "h",
           "showlegend": true,
           "textposition": "auto",
           "type": "bar",
           "x": {
            "bdata": "zczMzMzMM0A=",
            "dtype": "f8"
           },
           "xaxis": "x",
           "y": [
            "Malta"
           ],
           "yaxis": "y"
          },
          {
           "hovertemplate": "Country=%{y}<br>TIME_PERIOD=2023<br>Circular Use Rate (%)=%{x}<extra></extra>",
           "legendgroup": "Slovakia",
           "marker": {
            "color": "#19d3f3",
            "pattern": {
             "shape": ""
            }
           },
           "name": "Slovakia",
           "orientation": "h",
           "showlegend": true,
           "textposition": "auto",
           "type": "bar",
           "x": {
            "bdata": "MzMzMzMzJUA=",
            "dtype": "f8"
           },
           "xaxis": "x",
           "y": [
            "Slovakia"
           ],
           "yaxis": "y"
          }
         ],
         "name": "2023"
        }
       ],
       "layout": {
        "barmode": "relative",
        "hovermode": "closest",
        "legend": {
         "title": {
          "text": "Country"
         },
         "tracegroupgap": 0
        },
        "sliders": [
         {
          "active": 0,
          "currentvalue": {
           "prefix": "TIME_PERIOD="
          },
          "len": 0.9,
          "pad": {
           "b": 10,
           "t": 60
          },
          "steps": [
           {
            "args": [
             [
              "2010"
             ],
             {
              "frame": {
               "duration": 0,
               "redraw": true
              },
              "fromcurrent": true,
              "mode": "immediate",
              "transition": {
               "duration": 0,
               "easing": "linear"
              }
             }
            ],
            "label": "2010",
            "method": "animate"
           },
           {
            "args": [
             [
              "2011"
             ],
             {
              "frame": {
               "duration": 0,
               "redraw": true
              },
              "fromcurrent": true,
              "mode": "immediate",
              "transition": {
               "duration": 0,
               "easing": "linear"
              }
             }
            ],
            "label": "2011",
            "method": "animate"
           },
           {
            "args": [
             [
              "2012"
             ],
             {
              "frame": {
               "duration": 0,
               "redraw": true
              },
              "fromcurrent": true,
              "mode": "immediate",
              "transition": {
               "duration": 0,
               "easing": "linear"
              }
             }
            ],
            "label": "2012",
            "method": "animate"
           },
           {
            "args": [
             [
              "2013"
             ],
             {
              "frame": {
               "duration": 0,
               "redraw": true
              },
              "fromcurrent": true,
              "mode": "immediate",
              "transition": {
               "duration": 0,
               "easing": "linear"
              }
             }
            ],
            "label": "2013",
            "method": "animate"
           },
           {
            "args": [
             [
              "2014"
             ],
             {
              "frame": {
               "duration": 0,
               "redraw": true
              },
              "fromcurrent": true,
              "mode": "immediate",
              "transition": {
               "duration": 0,
               "easing": "linear"
              }
             }
            ],
            "label": "2014",
            "method": "animate"
           },
           {
            "args": [
             [
              "2015"
             ],
             {
              "frame": {
               "duration": 0,
               "redraw": true
              },
              "fromcurrent": true,
              "mode": "immediate",
              "transition": {
               "duration": 0,
               "easing": "linear"
              }
             }
            ],
            "label": "2015",
            "method": "animate"
           },
           {
            "args": [
             [
              "2016"
             ],
             {
              "frame": {
               "duration": 0,
               "redraw": true
              },
              "fromcurrent": true,
              "mode": "immediate",
              "transition": {
               "duration": 0,
               "easing": "linear"
              }
             }
            ],
            "label": "2016",
            "method": "animate"
           },
           {
            "args": [
             [
              "2017"
             ],
             {
              "frame": {
               "duration": 0,
               "redraw": true
              },
              "fromcurrent": true,
              "mode": "immediate",
              "transition": {
               "duration": 0,
               "easing": "linear"
              }
             }
            ],
            "label": "2017",
            "method": "animate"
           },
           {
            "args": [
             [
              "2018"
             ],
             {
              "frame": {
               "duration": 0,
               "redraw": true
              },
              "fromcurrent": true,
              "mode": "immediate",
              "transition": {
               "duration": 0,
               "easing": "linear"
              }
             }
            ],
            "label": "2018",
            "method": "animate"
           },
           {
            "args": [
             [
              "2019"
             ],
             {
              "frame": {
               "duration": 0,
               "redraw": true
              },
              "fromcurrent": true,
              "mode": "immediate",
              "transition": {
               "duration": 0,
               "easing": "linear"
              }
             }
            ],
            "label": "2019",
            "method": "animate"
           },
           {
            "args": [
             [
              "2020"
             ],
             {
              "frame": {
               "duration": 0,
               "redraw": true
              },
              "fromcurrent": true,
              "mode": "immediate",
              "transition": {
               "duration": 0,
               "easing": "linear"
              }
             }
            ],
            "label": "2020",
            "method": "animate"
           },
           {
            "args": [
             [
              "2021"
             ],
             {
              "frame": {
               "duration": 0,
               "redraw": true
              },
              "fromcurrent": true,
              "mode": "immediate",
              "transition": {
               "duration": 0,
               "easing": "linear"
              }
             }
            ],
            "label": "2021",
            "method": "animate"
           },
           {
            "args": [
             [
              "2022"
             ],
             {
              "frame": {
               "duration": 0,
               "redraw": true
              },
              "fromcurrent": true,
              "mode": "immediate",
              "transition": {
               "duration": 0,
               "easing": "linear"
              }
             }
            ],
            "label": "2022",
            "method": "animate"
           },
           {
            "args": [
             [
              "2023"
             ],
             {
              "frame": {
               "duration": 0,
               "redraw": true
              },
              "fromcurrent": true,
              "mode": "immediate",
              "transition": {
               "duration": 0,
               "easing": "linear"
              }
             }
            ],
            "label": "2023",
            "method": "animate"
           }
          ],
          "x": 0.1,
          "xanchor": "left",
          "y": 0,
          "yanchor": "top"
         }
        ],
        "template": {
         "data": {
          "bar": [
           {
            "error_x": {
             "color": "#2a3f5f"
            },
            "error_y": {
             "color": "#2a3f5f"
            },
            "marker": {
             "line": {
              "color": "white",
              "width": 0.5
             },
             "pattern": {
              "fillmode": "overlay",
              "size": 10,
              "solidity": 0.2
             }
            },
            "type": "bar"
           }
          ],
          "barpolar": [
           {
            "marker": {
             "line": {
              "color": "white",
              "width": 0.5
             },
             "pattern": {
              "fillmode": "overlay",
              "size": 10,
              "solidity": 0.2
             }
            },
            "type": "barpolar"
           }
          ],
          "carpet": [
           {
            "aaxis": {
             "endlinecolor": "#2a3f5f",
             "gridcolor": "#C8D4E3",
             "linecolor": "#C8D4E3",
             "minorgridcolor": "#C8D4E3",
             "startlinecolor": "#2a3f5f"
            },
            "baxis": {
             "endlinecolor": "#2a3f5f",
             "gridcolor": "#C8D4E3",
             "linecolor": "#C8D4E3",
             "minorgridcolor": "#C8D4E3",
             "startlinecolor": "#2a3f5f"
            },
            "type": "carpet"
           }
          ],
          "choropleth": [
           {
            "colorbar": {
             "outlinewidth": 0,
             "ticks": ""
            },
            "type": "choropleth"
           }
          ],
          "contour": [
           {
            "colorbar": {
             "outlinewidth": 0,
             "ticks": ""
            },
            "colorscale": [
             [
              0,
              "#0d0887"
             ],
             [
              0.1111111111111111,
              "#46039f"
             ],
             [
              0.2222222222222222,
              "#7201a8"
             ],
             [
              0.3333333333333333,
              "#9c179e"
             ],
             [
              0.4444444444444444,
              "#bd3786"
             ],
             [
              0.5555555555555556,
              "#d8576b"
             ],
             [
              0.6666666666666666,
              "#ed7953"
             ],
             [
              0.7777777777777778,
              "#fb9f3a"
             ],
             [
              0.8888888888888888,
              "#fdca26"
             ],
             [
              1,
              "#f0f921"
             ]
            ],
            "type": "contour"
           }
          ],
          "contourcarpet": [
           {
            "colorbar": {
             "outlinewidth": 0,
             "ticks": ""
            },
            "type": "contourcarpet"
           }
          ],
          "heatmap": [
           {
            "colorbar": {
             "outlinewidth": 0,
             "ticks": ""
            },
            "colorscale": [
             [
              0,
              "#0d0887"
             ],
             [
              0.1111111111111111,
              "#46039f"
             ],
             [
              0.2222222222222222,
              "#7201a8"
             ],
             [
              0.3333333333333333,
              "#9c179e"
             ],
             [
              0.4444444444444444,
              "#bd3786"
             ],
             [
              0.5555555555555556,
              "#d8576b"
             ],
             [
              0.6666666666666666,
              "#ed7953"
             ],
             [
              0.7777777777777778,
              "#fb9f3a"
             ],
             [
              0.8888888888888888,
              "#fdca26"
             ],
             [
              1,
              "#f0f921"
             ]
            ],
            "type": "heatmap"
           }
          ],
          "histogram": [
           {
            "marker": {
             "pattern": {
              "fillmode": "overlay",
              "size": 10,
              "solidity": 0.2
             }
            },
            "type": "histogram"
           }
          ],
          "histogram2d": [
           {
            "colorbar": {
             "outlinewidth": 0,
             "ticks": ""
            },
            "colorscale": [
             [
              0,
              "#0d0887"
             ],
             [
              0.1111111111111111,
              "#46039f"
             ],
             [
              0.2222222222222222,
              "#7201a8"
             ],
             [
              0.3333333333333333,
              "#9c179e"
             ],
             [
              0.4444444444444444,
              "#bd3786"
             ],
             [
              0.5555555555555556,
              "#d8576b"
             ],
             [
              0.6666666666666666,
              "#ed7953"
             ],
             [
              0.7777777777777778,
              "#fb9f3a"
             ],
             [
              0.8888888888888888,
              "#fdca26"
             ],
             [
              1,
              "#f0f921"
             ]
            ],
            "type": "histogram2d"
           }
          ],
          "histogram2dcontour": [
           {
            "colorbar": {
             "outlinewidth": 0,
             "ticks": ""
            },
            "colorscale": [
             [
              0,
              "#0d0887"
             ],
             [
              0.1111111111111111,
              "#46039f"
             ],
             [
              0.2222222222222222,
              "#7201a8"
             ],
             [
              0.3333333333333333,
              "#9c179e"
             ],
             [
              0.4444444444444444,
              "#bd3786"
             ],
             [
              0.5555555555555556,
              "#d8576b"
             ],
             [
              0.6666666666666666,
              "#ed7953"
             ],
             [
              0.7777777777777778,
              "#fb9f3a"
             ],
             [
              0.8888888888888888,
              "#fdca26"
             ],
             [
              1,
              "#f0f921"
             ]
            ],
            "type": "histogram2dcontour"
           }
          ],
          "mesh3d": [
           {
            "colorbar": {
             "outlinewidth": 0,
             "ticks": ""
            },
            "type": "mesh3d"
           }
          ],
          "parcoords": [
           {
            "line": {
             "colorbar": {
              "outlinewidth": 0,
              "ticks": ""
             }
            },
            "type": "parcoords"
           }
          ],
          "pie": [
           {
            "automargin": true,
            "type": "pie"
           }
          ],
          "scatter": [
           {
            "fillpattern": {
             "fillmode": "overlay",
             "size": 10,
             "solidity": 0.2
            },
            "type": "scatter"
           }
          ],
          "scatter3d": [
           {
            "line": {
             "colorbar": {
              "outlinewidth": 0,
              "ticks": ""
             }
            },
            "marker": {
             "colorbar": {
              "outlinewidth": 0,
              "ticks": ""
             }
            },
            "type": "scatter3d"
           }
          ],
          "scattercarpet": [
           {
            "marker": {
             "colorbar": {
              "outlinewidth": 0,
              "ticks": ""
             }
            },
            "type": "scattercarpet"
           }
          ],
          "scattergeo": [
           {
            "marker": {
             "colorbar": {
              "outlinewidth": 0,
              "ticks": ""
             }
            },
            "type": "scattergeo"
           }
          ],
          "scattergl": [
           {
            "marker": {
             "colorbar": {
              "outlinewidth": 0,
              "ticks": ""
             }
            },
            "type": "scattergl"
           }
          ],
          "scattermap": [
           {
            "marker": {
             "colorbar": {
              "outlinewidth": 0,
              "ticks": ""
             }
            },
            "type": "scattermap"
           }
          ],
          "scattermapbox": [
           {
            "marker": {
             "colorbar": {
              "outlinewidth": 0,
              "ticks": ""
             }
            },
            "type": "scattermapbox"
           }
          ],
          "scatterpolar": [
           {
            "marker": {
             "colorbar": {
              "outlinewidth": 0,
              "ticks": ""
             }
            },
            "type": "scatterpolar"
           }
          ],
          "scatterpolargl": [
           {
            "marker": {
             "colorbar": {
              "outlinewidth": 0,
              "ticks": ""
             }
            },
            "type": "scatterpolargl"
           }
          ],
          "scatterternary": [
           {
            "marker": {
             "colorbar": {
              "outlinewidth": 0,
              "ticks": ""
             }
            },
            "type": "scatterternary"
           }
          ],
          "surface": [
           {
            "colorbar": {
             "outlinewidth": 0,
             "ticks": ""
            },
            "colorscale": [
             [
              0,
              "#0d0887"
             ],
             [
              0.1111111111111111,
              "#46039f"
             ],
             [
              0.2222222222222222,
              "#7201a8"
             ],
             [
              0.3333333333333333,
              "#9c179e"
             ],
             [
              0.4444444444444444,
              "#bd3786"
             ],
             [
              0.5555555555555556,
              "#d8576b"
             ],
             [
              0.6666666666666666,
              "#ed7953"
             ],
             [
              0.7777777777777778,
              "#fb9f3a"
             ],
             [
              0.8888888888888888,
              "#fdca26"
             ],
             [
              1,
              "#f0f921"
             ]
            ],
            "type": "surface"
           }
          ],
          "table": [
           {
            "cells": {
             "fill": {
              "color": "#EBF0F8"
             },
             "line": {
              "color": "white"
             }
            },
            "header": {
             "fill": {
              "color": "#C8D4E3"
             },
             "line": {
              "color": "white"
             }
            },
            "type": "table"
           }
          ]
         },
         "layout": {
          "annotationdefaults": {
           "arrowcolor": "#2a3f5f",
           "arrowhead": 0,
           "arrowwidth": 1
          },
          "autotypenumbers": "strict",
          "coloraxis": {
           "colorbar": {
            "outlinewidth": 0,
            "ticks": ""
           }
          },
          "colorscale": {
           "diverging": [
            [
             0,
             "#8e0152"
            ],
            [
             0.1,
             "#c51b7d"
            ],
            [
             0.2,
             "#de77ae"
            ],
            [
             0.3,
             "#f1b6da"
            ],
            [
             0.4,
             "#fde0ef"
            ],
            [
             0.5,
             "#f7f7f7"
            ],
            [
             0.6,
             "#e6f5d0"
            ],
            [
             0.7,
             "#b8e186"
            ],
            [
             0.8,
             "#7fbc41"
            ],
            [
             0.9,
             "#4d9221"
            ],
            [
             1,
             "#276419"
            ]
           ],
           "sequential": [
            [
             0,
             "#0d0887"
            ],
            [
             0.1111111111111111,
             "#46039f"
            ],
            [
             0.2222222222222222,
             "#7201a8"
            ],
            [
             0.3333333333333333,
             "#9c179e"
            ],
            [
             0.4444444444444444,
             "#bd3786"
            ],
            [
             0.5555555555555556,
             "#d8576b"
            ],
            [
             0.6666666666666666,
             "#ed7953"
            ],
            [
             0.7777777777777778,
             "#fb9f3a"
            ],
            [
             0.8888888888888888,
             "#fdca26"
            ],
            [
             1,
             "#f0f921"
            ]
           ],
           "sequentialminus": [
            [
             0,
             "#0d0887"
            ],
            [
             0.1111111111111111,
             "#46039f"
            ],
            [
             0.2222222222222222,
             "#7201a8"
            ],
            [
             0.3333333333333333,
             "#9c179e"
            ],
            [
             0.4444444444444444,
             "#bd3786"
            ],
            [
             0.5555555555555556,
             "#d8576b"
            ],
            [
             0.6666666666666666,
             "#ed7953"
            ],
            [
             0.7777777777777778,
             "#fb9f3a"
            ],
            [
             0.8888888888888888,
             "#fdca26"
            ],
            [
             1,
             "#f0f921"
            ]
           ]
          },
          "colorway": [
           "#636efa",
           "#EF553B",
           "#00cc96",
           "#ab63fa",
           "#FFA15A",
           "#19d3f3",
           "#FF6692",
           "#B6E880",
           "#FF97FF",
           "#FECB52"
          ],
          "font": {
           "color": "#2a3f5f"
          },
          "geo": {
           "bgcolor": "white",
           "lakecolor": "white",
           "landcolor": "white",
           "showlakes": true,
           "showland": true,
           "subunitcolor": "#C8D4E3"
          },
          "hoverlabel": {
           "align": "left"
          },
          "hovermode": "closest",
          "mapbox": {
           "style": "light"
          },
          "paper_bgcolor": "white",
          "plot_bgcolor": "white",
          "polar": {
           "angularaxis": {
            "gridcolor": "#EBF0F8",
            "linecolor": "#EBF0F8",
            "ticks": ""
           },
           "bgcolor": "white",
           "radialaxis": {
            "gridcolor": "#EBF0F8",
            "linecolor": "#EBF0F8",
            "ticks": ""
           }
          },
          "scene": {
           "xaxis": {
            "backgroundcolor": "white",
            "gridcolor": "#DFE8F3",
            "gridwidth": 2,
            "linecolor": "#EBF0F8",
            "showbackground": true,
            "ticks": "",
            "zerolinecolor": "#EBF0F8"
           },
           "yaxis": {
            "backgroundcolor": "white",
            "gridcolor": "#DFE8F3",
            "gridwidth": 2,
            "linecolor": "#EBF0F8",
            "showbackground": true,
            "ticks": "",
            "zerolinecolor": "#EBF0F8"
           },
           "zaxis": {
            "backgroundcolor": "white",
            "gridcolor": "#DFE8F3",
            "gridwidth": 2,
            "linecolor": "#EBF0F8",
            "showbackground": true,
            "ticks": "",
            "zerolinecolor": "#EBF0F8"
           }
          },
          "shapedefaults": {
           "line": {
            "color": "#2a3f5f"
           }
          },
          "ternary": {
           "aaxis": {
            "gridcolor": "#DFE8F3",
            "linecolor": "#A2B1C6",
            "ticks": ""
           },
           "baxis": {
            "gridcolor": "#DFE8F3",
            "linecolor": "#A2B1C6",
            "ticks": ""
           },
           "bgcolor": "white",
           "caxis": {
            "gridcolor": "#DFE8F3",
            "linecolor": "#A2B1C6",
            "ticks": ""
           }
          },
          "title": {
           "x": 0.05
          },
          "xaxis": {
           "automargin": true,
           "gridcolor": "#EBF0F8",
           "linecolor": "#EBF0F8",
           "ticks": "",
           "title": {
            "standoff": 15
           },
           "zerolinecolor": "#EBF0F8",
           "zerolinewidth": 2
          },
          "yaxis": {
           "automargin": true,
           "gridcolor": "#EBF0F8",
           "linecolor": "#EBF0F8",
           "ticks": "",
           "title": {
            "standoff": 15
           },
           "zerolinecolor": "#EBF0F8",
           "zerolinewidth": 2
          }
         }
        },
        "title": {
         "text": "Top 10 Countries: Circular Material Use Rate (Animated by Year)"
        },
        "transition": {
         "duration": 500
        },
        "updatemenus": [
         {
          "buttons": [
           {
            "args": [
             null,
             {
              "frame": {
               "duration": 500,
               "redraw": true
              },
              "fromcurrent": true,
              "mode": "immediate",
              "transition": {
               "duration": 500,
               "easing": "linear"
              }
             }
            ],
            "label": "&#9654;",
            "method": "animate"
           },
           {
            "args": [
             [
              null
             ],
             {
              "frame": {
               "duration": 0,
               "redraw": true
              },
              "fromcurrent": true,
              "mode": "immediate",
              "transition": {
               "duration": 0,
               "easing": "linear"
              }
             }
            ],
            "label": "&#9724;",
            "method": "animate"
           }
          ],
          "direction": "left",
          "pad": {
           "r": 10,
           "t": 70
          },
          "showactive": false,
          "type": "buttons",
          "x": 0.1,
          "xanchor": "right",
          "y": 0,
          "yanchor": "top"
         }
        ],
        "xaxis": {
         "anchor": "y",
         "domain": [
          0,
          1
         ],
         "range": [
          0,
          33.660000000000004
         ],
         "title": {
          "text": "Circular Use Rate (%)"
         }
        },
        "yaxis": {
         "anchor": "x",
         "categoryarray": [
          "Sweden",
          "Slovakia",
          "Malta",
          "Czechia",
          "Denmark",
          "Austria",
          "Slovenia",
          "Estonia",
          "Spain",
          "Finland",
          "Poland",
          "Germany",
          "Italy",
          "Belgium",
          "France",
          "Luxembourg",
          "Netherlands"
         ],
         "categoryorder": "total ascending",
         "domain": [
          0,
          1
         ],
         "title": {
          "text": "Country"
         }
        }
       }
      }
     },
     "metadata": {},
     "output_type": "display_data"
    }
   ],
   "source": [
    "import pandas as pd\n",
    "import plotly.express as px\n",
    "\n",
    "# Clean and filter data\n",
    "df = df_circular_mtl_use.copy()\n",
    "df = df[df[\"Geopolitical entity (reporting)\"] != \"European Union - 27 countries (from 2020)\"]\n",
    "\n",
    "# Ensure numeric\n",
    "df[\"TIME_PERIOD\"] = pd.to_numeric(df[\"TIME_PERIOD\"], errors='coerce')\n",
    "df[\"OBS_VALUE\"] = pd.to_numeric(df[\"OBS_VALUE\"], errors='coerce')\n",
    "\n",
    "# Filter to last 20 years\n",
    "recent_years = sorted(df[\"TIME_PERIOD\"].dropna().unique())[-20:]\n",
    "df = df[df[\"TIME_PERIOD\"].isin(recent_years)]\n",
    "\n",
    "# Group: get top 10 per year\n",
    "df_top10 = df.groupby(\"TIME_PERIOD\").apply(lambda x: x.nlargest(10, \"OBS_VALUE\")).reset_index(drop=True)\n",
    "\n",
    "# Create animated bar chart\n",
    "fig = px.bar(\n",
    "    df_top10,\n",
    "    x=\"OBS_VALUE\",\n",
    "    y=\"Geopolitical entity (reporting)\",\n",
    "    color=\"Geopolitical entity (reporting)\",\n",
    "    orientation='h',\n",
    "    animation_frame=\"TIME_PERIOD\",\n",
    "    range_x=[0, df_top10[\"OBS_VALUE\"].max() * 1.1],\n",
    "    title=\"Top 10 Countries: Circular Material Use Rate (Animated by Year)\",\n",
    "    labels={\n",
    "        \"OBS_VALUE\": \"Circular Use Rate (%)\",\n",
    "        \"Geopolitical entity (reporting)\": \"Country\"\n",
    "    },\n",
    "    template=\"plotly_white\"\n",
    ")\n",
    "\n",
    "fig.update_layout(\n",
    "    yaxis={'categoryorder': 'total ascending'},\n",
    "    xaxis_title=\"Circular Use Rate (%)\",\n",
    "    yaxis_title=\"Country\",\n",
    "    legend_title=\"Country\",\n",
    "    transition={'duration': 500},\n",
    "    hovermode=\"closest\"\n",
    ")\n",
    "\n",
    "fig.show()\n"
   ]
  },
  {
   "cell_type": "code",
   "execution_count": 71,
   "metadata": {},
   "outputs": [
    {
     "name": "stderr",
     "output_type": "stream",
     "text": [
      "/var/folders/qp/p5v2tv9s7fj3ydmlz7m2k0280000gn/T/ipykernel_99851/2182692374.py:24: DeprecationWarning:\n",
      "\n",
      "DataFrameGroupBy.apply operated on the grouping columns. This behavior is deprecated, and in a future version of pandas the grouping columns will be excluded from the operation. Either pass `include_groups=False` to exclude the groupings or explicitly select the grouping columns after groupby to silence this warning.\n",
      "\n"
     ]
    },
    {
     "data": {
      "application/vnd.plotly.v1+json": {
       "config": {
        "plotlyServerURL": "https://plot.ly"
       },
       "data": [
        {
         "hovertemplate": "<b>%{hovertext}</b><br><br>Country=%{x}<br>TIME_PERIOD=2010<br>Circular Use Rate (%)=%{y}<br>Total_Circular_Use=%{marker.size}<extra></extra>",
         "hovertext": [
          "Netherlands"
         ],
         "legendgroup": "Netherlands",
         "marker": {
          "color": "#636efa",
          "size": {
           "bdata": "zczMzMyUd0A=",
           "dtype": "f8"
          },
          "sizemode": "area",
          "sizeref": 0.15092,
          "symbol": "circle"
         },
         "mode": "markers",
         "name": "Netherlands",
         "orientation": "v",
         "showlegend": true,
         "type": "scatter",
         "x": [
          "Netherlands"
         ],
         "xaxis": "x",
         "y": {
          "bdata": "AAAAAACAOUA=",
          "dtype": "f8"
         },
         "yaxis": "y"
        },
        {
         "hovertemplate": "<b>%{hovertext}</b><br><br>Country=%{x}<br>TIME_PERIOD=2010<br>Circular Use Rate (%)=%{y}<br>Total_Circular_Use=%{marker.size}<extra></extra>",
         "hovertext": [
          "Luxembourg"
         ],
         "legendgroup": "Luxembourg",
         "marker": {
          "color": "#EF553B",
          "size": {
           "bdata": "mpmZmZnZZUA=",
           "dtype": "f8"
          },
          "sizemode": "area",
          "sizeref": 0.15092,
          "symbol": "circle"
         },
         "mode": "markers",
         "name": "Luxembourg",
         "orientation": "v",
         "showlegend": true,
         "type": "scatter",
         "x": [
          "Luxembourg"
         ],
         "xaxis": "x",
         "y": {
          "bdata": "ZmZmZmZmN0A=",
          "dtype": "f8"
         },
         "yaxis": "y"
        },
        {
         "hovertemplate": "<b>%{hovertext}</b><br><br>Country=%{x}<br>TIME_PERIOD=2010<br>Circular Use Rate (%)=%{y}<br>Total_Circular_Use=%{marker.size}<extra></extra>",
         "hovertext": [
          "France"
         ],
         "legendgroup": "France",
         "marker": {
          "color": "#00cc96",
          "size": {
           "bdata": "mpmZmZnZbkA=",
           "dtype": "f8"
          },
          "sizemode": "area",
          "sizeref": 0.15092,
          "symbol": "circle"
         },
         "mode": "markers",
         "name": "France",
         "orientation": "v",
         "showlegend": true,
         "type": "scatter",
         "x": [
          "France"
         ],
         "xaxis": "x",
         "y": {
          "bdata": "AAAAAACAMUA=",
          "dtype": "f8"
         },
         "yaxis": "y"
        },
        {
         "hovertemplate": "<b>%{hovertext}</b><br><br>Country=%{x}<br>TIME_PERIOD=2010<br>Circular Use Rate (%)=%{y}<br>Total_Circular_Use=%{marker.size}<extra></extra>",
         "hovertext": [
          "Belgium"
         ],
         "legendgroup": "Belgium",
         "marker": {
          "color": "#ab63fa",
          "size": {
           "bdata": "zczMzMwscEA=",
           "dtype": "f8"
          },
          "sizemode": "area",
          "sizeref": 0.15092,
          "symbol": "circle"
         },
         "mode": "markers",
         "name": "Belgium",
         "orientation": "v",
         "showlegend": true,
         "type": "scatter",
         "x": [
          "Belgium"
         ],
         "xaxis": "x",
         "y": {
          "bdata": "AAAAAAAAK0A=",
          "dtype": "f8"
         },
         "yaxis": "y"
        },
        {
         "hovertemplate": "<b>%{hovertext}</b><br><br>Country=%{x}<br>TIME_PERIOD=2010<br>Circular Use Rate (%)=%{y}<br>Total_Circular_Use=%{marker.size}<extra></extra>",
         "hovertext": [
          "Italy"
         ],
         "legendgroup": "Italy",
         "marker": {
          "color": "#FFA15A",
          "size": {
           "bdata": "zczMzMw8bkA=",
           "dtype": "f8"
          },
          "sizemode": "area",
          "sizeref": 0.15092,
          "symbol": "circle"
         },
         "mode": "markers",
         "name": "Italy",
         "orientation": "v",
         "showlegend": true,
         "type": "scatter",
         "x": [
          "Italy"
         ],
         "xaxis": "x",
         "y": {
          "bdata": "MzMzMzMzJ0A=",
          "dtype": "f8"
         },
         "yaxis": "y"
        },
        {
         "hovertemplate": "<b>%{hovertext}</b><br><br>Country=%{x}<br>TIME_PERIOD=2010<br>Circular Use Rate (%)=%{y}<br>Total_Circular_Use=%{marker.size}<extra></extra>",
         "hovertext": [
          "Germany"
         ],
         "legendgroup": "Germany",
         "marker": {
          "color": "#19d3f3",
          "size": {
           "bdata": "zczMzMy8ZEA=",
           "dtype": "f8"
          },
          "sizemode": "area",
          "sizeref": 0.15092,
          "symbol": "circle"
         },
         "mode": "markers",
         "name": "Germany",
         "orientation": "v",
         "showlegend": true,
         "type": "scatter",
         "x": [
          "Germany"
         ],
         "xaxis": "x",
         "y": {
          "bdata": "ZmZmZmZmJkA=",
          "dtype": "f8"
         },
         "yaxis": "y"
        },
        {
         "hovertemplate": "<b>%{hovertext}</b><br><br>Country=%{x}<br>TIME_PERIOD=2010<br>Circular Use Rate (%)=%{y}<br>Total_Circular_Use=%{marker.size}<extra></extra>",
         "hovertext": [
          "Poland"
         ],
         "legendgroup": "Poland",
         "marker": {
          "color": "#FF6692",
          "size": {
           "bdata": "zczMzMw8YUA=",
           "dtype": "f8"
          },
          "sizemode": "area",
          "sizeref": 0.15092,
          "symbol": "circle"
         },
         "mode": "markers",
         "name": "Poland",
         "orientation": "v",
         "showlegend": true,
         "type": "scatter",
         "x": [
          "Poland"
         ],
         "xaxis": "x",
         "y": {
          "bdata": "MzMzMzMzJkA=",
          "dtype": "f8"
         },
         "yaxis": "y"
        },
        {
         "hovertemplate": "<b>%{hovertext}</b><br><br>Country=%{x}<br>TIME_PERIOD=2010<br>Circular Use Rate (%)=%{y}<br>Total_Circular_Use=%{marker.size}<extra></extra>",
         "hovertext": [
          "Finland"
         ],
         "legendgroup": "Finland",
         "marker": {
          "color": "#B6E880",
          "size": {
           "bdata": "AAAAAADAVUA=",
           "dtype": "f8"
          },
          "sizemode": "area",
          "sizeref": 0.15092,
          "symbol": "circle"
         },
         "mode": "markers",
         "name": "Finland",
         "orientation": "v",
         "showlegend": true,
         "type": "scatter",
         "x": [
          "Finland"
         ],
         "xaxis": "x",
         "y": {
          "bdata": "ZmZmZmZmJUA=",
          "dtype": "f8"
         },
         "yaxis": "y"
        },
        {
         "hovertemplate": "<b>%{hovertext}</b><br><br>Country=%{x}<br>TIME_PERIOD=2010<br>Circular Use Rate (%)=%{y}<br>Total_Circular_Use=%{marker.size}<extra></extra>",
         "hovertext": [
          "Spain"
         ],
         "legendgroup": "Spain",
         "marker": {
          "color": "#FF97FF",
          "size": {
           "bdata": "zczMzMxMX0A=",
           "dtype": "f8"
          },
          "sizemode": "area",
          "sizeref": 0.15092,
          "symbol": "circle"
         },
         "mode": "markers",
         "name": "Spain",
         "orientation": "v",
         "showlegend": true,
         "type": "scatter",
         "x": [
          "Spain"
         ],
         "xaxis": "x",
         "y": {
          "bdata": "zczMzMzMJEA=",
          "dtype": "f8"
         },
         "yaxis": "y"
        },
        {
         "hovertemplate": "<b>%{hovertext}</b><br><br>Country=%{x}<br>TIME_PERIOD=2010<br>Circular Use Rate (%)=%{y}<br>Total_Circular_Use=%{marker.size}<extra></extra>",
         "hovertext": [
          "Estonia"
         ],
         "legendgroup": "Estonia",
         "marker": {
          "color": "#FECB52",
          "size": {
           "bdata": "AAAAAAAwakA=",
           "dtype": "f8"
          },
          "sizemode": "area",
          "sizeref": 0.15092,
          "symbol": "circle"
         },
         "mode": "markers",
         "name": "Estonia",
         "orientation": "v",
         "showlegend": true,
         "type": "scatter",
         "x": [
          "Estonia"
         ],
         "xaxis": "x",
         "y": {
          "bdata": "AAAAAAAAIkA=",
          "dtype": "f8"
         },
         "yaxis": "y"
        }
       ],
       "frames": [
        {
         "data": [
          {
           "hovertemplate": "<b>%{hovertext}</b><br><br>Country=%{x}<br>TIME_PERIOD=2010<br>Circular Use Rate (%)=%{y}<br>Total_Circular_Use=%{marker.size}<extra></extra>",
           "hovertext": [
            "Netherlands"
           ],
           "legendgroup": "Netherlands",
           "marker": {
            "color": "#636efa",
            "size": {
             "bdata": "zczMzMyUd0A=",
             "dtype": "f8"
            },
            "sizemode": "area",
            "sizeref": 0.15092,
            "symbol": "circle"
           },
           "mode": "markers",
           "name": "Netherlands",
           "orientation": "v",
           "showlegend": true,
           "type": "scatter",
           "x": [
            "Netherlands"
           ],
           "xaxis": "x",
           "y": {
            "bdata": "AAAAAACAOUA=",
            "dtype": "f8"
           },
           "yaxis": "y"
          },
          {
           "hovertemplate": "<b>%{hovertext}</b><br><br>Country=%{x}<br>TIME_PERIOD=2010<br>Circular Use Rate (%)=%{y}<br>Total_Circular_Use=%{marker.size}<extra></extra>",
           "hovertext": [
            "Luxembourg"
           ],
           "legendgroup": "Luxembourg",
           "marker": {
            "color": "#EF553B",
            "size": {
             "bdata": "mpmZmZnZZUA=",
             "dtype": "f8"
            },
            "sizemode": "area",
            "sizeref": 0.15092,
            "symbol": "circle"
           },
           "mode": "markers",
           "name": "Luxembourg",
           "orientation": "v",
           "showlegend": true,
           "type": "scatter",
           "x": [
            "Luxembourg"
           ],
           "xaxis": "x",
           "y": {
            "bdata": "ZmZmZmZmN0A=",
            "dtype": "f8"
           },
           "yaxis": "y"
          },
          {
           "hovertemplate": "<b>%{hovertext}</b><br><br>Country=%{x}<br>TIME_PERIOD=2010<br>Circular Use Rate (%)=%{y}<br>Total_Circular_Use=%{marker.size}<extra></extra>",
           "hovertext": [
            "France"
           ],
           "legendgroup": "France",
           "marker": {
            "color": "#00cc96",
            "size": {
             "bdata": "mpmZmZnZbkA=",
             "dtype": "f8"
            },
            "sizemode": "area",
            "sizeref": 0.15092,
            "symbol": "circle"
           },
           "mode": "markers",
           "name": "France",
           "orientation": "v",
           "showlegend": true,
           "type": "scatter",
           "x": [
            "France"
           ],
           "xaxis": "x",
           "y": {
            "bdata": "AAAAAACAMUA=",
            "dtype": "f8"
           },
           "yaxis": "y"
          },
          {
           "hovertemplate": "<b>%{hovertext}</b><br><br>Country=%{x}<br>TIME_PERIOD=2010<br>Circular Use Rate (%)=%{y}<br>Total_Circular_Use=%{marker.size}<extra></extra>",
           "hovertext": [
            "Belgium"
           ],
           "legendgroup": "Belgium",
           "marker": {
            "color": "#ab63fa",
            "size": {
             "bdata": "zczMzMwscEA=",
             "dtype": "f8"
            },
            "sizemode": "area",
            "sizeref": 0.15092,
            "symbol": "circle"
           },
           "mode": "markers",
           "name": "Belgium",
           "orientation": "v",
           "showlegend": true,
           "type": "scatter",
           "x": [
            "Belgium"
           ],
           "xaxis": "x",
           "y": {
            "bdata": "AAAAAAAAK0A=",
            "dtype": "f8"
           },
           "yaxis": "y"
          },
          {
           "hovertemplate": "<b>%{hovertext}</b><br><br>Country=%{x}<br>TIME_PERIOD=2010<br>Circular Use Rate (%)=%{y}<br>Total_Circular_Use=%{marker.size}<extra></extra>",
           "hovertext": [
            "Italy"
           ],
           "legendgroup": "Italy",
           "marker": {
            "color": "#FFA15A",
            "size": {
             "bdata": "zczMzMw8bkA=",
             "dtype": "f8"
            },
            "sizemode": "area",
            "sizeref": 0.15092,
            "symbol": "circle"
           },
           "mode": "markers",
           "name": "Italy",
           "orientation": "v",
           "showlegend": true,
           "type": "scatter",
           "x": [
            "Italy"
           ],
           "xaxis": "x",
           "y": {
            "bdata": "MzMzMzMzJ0A=",
            "dtype": "f8"
           },
           "yaxis": "y"
          },
          {
           "hovertemplate": "<b>%{hovertext}</b><br><br>Country=%{x}<br>TIME_PERIOD=2010<br>Circular Use Rate (%)=%{y}<br>Total_Circular_Use=%{marker.size}<extra></extra>",
           "hovertext": [
            "Germany"
           ],
           "legendgroup": "Germany",
           "marker": {
            "color": "#19d3f3",
            "size": {
             "bdata": "zczMzMy8ZEA=",
             "dtype": "f8"
            },
            "sizemode": "area",
            "sizeref": 0.15092,
            "symbol": "circle"
           },
           "mode": "markers",
           "name": "Germany",
           "orientation": "v",
           "showlegend": true,
           "type": "scatter",
           "x": [
            "Germany"
           ],
           "xaxis": "x",
           "y": {
            "bdata": "ZmZmZmZmJkA=",
            "dtype": "f8"
           },
           "yaxis": "y"
          },
          {
           "hovertemplate": "<b>%{hovertext}</b><br><br>Country=%{x}<br>TIME_PERIOD=2010<br>Circular Use Rate (%)=%{y}<br>Total_Circular_Use=%{marker.size}<extra></extra>",
           "hovertext": [
            "Poland"
           ],
           "legendgroup": "Poland",
           "marker": {
            "color": "#FF6692",
            "size": {
             "bdata": "zczMzMw8YUA=",
             "dtype": "f8"
            },
            "sizemode": "area",
            "sizeref": 0.15092,
            "symbol": "circle"
           },
           "mode": "markers",
           "name": "Poland",
           "orientation": "v",
           "showlegend": true,
           "type": "scatter",
           "x": [
            "Poland"
           ],
           "xaxis": "x",
           "y": {
            "bdata": "MzMzMzMzJkA=",
            "dtype": "f8"
           },
           "yaxis": "y"
          },
          {
           "hovertemplate": "<b>%{hovertext}</b><br><br>Country=%{x}<br>TIME_PERIOD=2010<br>Circular Use Rate (%)=%{y}<br>Total_Circular_Use=%{marker.size}<extra></extra>",
           "hovertext": [
            "Finland"
           ],
           "legendgroup": "Finland",
           "marker": {
            "color": "#B6E880",
            "size": {
             "bdata": "AAAAAADAVUA=",
             "dtype": "f8"
            },
            "sizemode": "area",
            "sizeref": 0.15092,
            "symbol": "circle"
           },
           "mode": "markers",
           "name": "Finland",
           "orientation": "v",
           "showlegend": true,
           "type": "scatter",
           "x": [
            "Finland"
           ],
           "xaxis": "x",
           "y": {
            "bdata": "ZmZmZmZmJUA=",
            "dtype": "f8"
           },
           "yaxis": "y"
          },
          {
           "hovertemplate": "<b>%{hovertext}</b><br><br>Country=%{x}<br>TIME_PERIOD=2010<br>Circular Use Rate (%)=%{y}<br>Total_Circular_Use=%{marker.size}<extra></extra>",
           "hovertext": [
            "Spain"
           ],
           "legendgroup": "Spain",
           "marker": {
            "color": "#FF97FF",
            "size": {
             "bdata": "zczMzMxMX0A=",
             "dtype": "f8"
            },
            "sizemode": "area",
            "sizeref": 0.15092,
            "symbol": "circle"
           },
           "mode": "markers",
           "name": "Spain",
           "orientation": "v",
           "showlegend": true,
           "type": "scatter",
           "x": [
            "Spain"
           ],
           "xaxis": "x",
           "y": {
            "bdata": "zczMzMzMJEA=",
            "dtype": "f8"
           },
           "yaxis": "y"
          },
          {
           "hovertemplate": "<b>%{hovertext}</b><br><br>Country=%{x}<br>TIME_PERIOD=2010<br>Circular Use Rate (%)=%{y}<br>Total_Circular_Use=%{marker.size}<extra></extra>",
           "hovertext": [
            "Estonia"
           ],
           "legendgroup": "Estonia",
           "marker": {
            "color": "#FECB52",
            "size": {
             "bdata": "AAAAAAAwakA=",
             "dtype": "f8"
            },
            "sizemode": "area",
            "sizeref": 0.15092,
            "symbol": "circle"
           },
           "mode": "markers",
           "name": "Estonia",
           "orientation": "v",
           "showlegend": true,
           "type": "scatter",
           "x": [
            "Estonia"
           ],
           "xaxis": "x",
           "y": {
            "bdata": "AAAAAAAAIkA=",
            "dtype": "f8"
           },
           "yaxis": "y"
          }
         ],
         "name": "2010"
        },
        {
         "data": [
          {
           "hovertemplate": "<b>%{hovertext}</b><br><br>Country=%{x}<br>TIME_PERIOD=2011<br>Circular Use Rate (%)=%{y}<br>Total_Circular_Use=%{marker.size}<extra></extra>",
           "hovertext": [
            "Netherlands"
           ],
           "legendgroup": "Netherlands",
           "marker": {
            "color": "#636efa",
            "size": {
             "bdata": "zczMzMyUd0A=",
             "dtype": "f8"
            },
            "sizemode": "area",
            "sizeref": 0.15092,
            "symbol": "circle"
           },
           "mode": "markers",
           "name": "Netherlands",
           "orientation": "v",
           "showlegend": true,
           "type": "scatter",
           "x": [
            "Netherlands"
           ],
           "xaxis": "x",
           "y": {
            "bdata": "AAAAAAAAOUA=",
            "dtype": "f8"
           },
           "yaxis": "y"
          },
          {
           "hovertemplate": "<b>%{hovertext}</b><br><br>Country=%{x}<br>TIME_PERIOD=2011<br>Circular Use Rate (%)=%{y}<br>Total_Circular_Use=%{marker.size}<extra></extra>",
           "hovertext": [
            "Luxembourg"
           ],
           "legendgroup": "Luxembourg",
           "marker": {
            "color": "#EF553B",
            "size": {
             "bdata": "mpmZmZnZZUA=",
             "dtype": "f8"
            },
            "sizemode": "area",
            "sizeref": 0.15092,
            "symbol": "circle"
           },
           "mode": "markers",
           "name": "Luxembourg",
           "orientation": "v",
           "showlegend": true,
           "type": "scatter",
           "x": [
            "Luxembourg"
           ],
           "xaxis": "x",
           "y": {
            "bdata": "zczMzMzMM0A=",
            "dtype": "f8"
           },
           "yaxis": "y"
          },
          {
           "hovertemplate": "<b>%{hovertext}</b><br><br>Country=%{x}<br>TIME_PERIOD=2011<br>Circular Use Rate (%)=%{y}<br>Total_Circular_Use=%{marker.size}<extra></extra>",
           "hovertext": [
            "France"
           ],
           "legendgroup": "France",
           "marker": {
            "color": "#00cc96",
            "size": {
             "bdata": "mpmZmZnZbkA=",
             "dtype": "f8"
            },
            "sizemode": "area",
            "sizeref": 0.15092,
            "symbol": "circle"
           },
           "mode": "markers",
           "name": "France",
           "orientation": "v",
           "showlegend": true,
           "type": "scatter",
           "x": [
            "France"
           ],
           "xaxis": "x",
           "y": {
            "bdata": "ZmZmZmbmMEA=",
            "dtype": "f8"
           },
           "yaxis": "y"
          },
          {
           "hovertemplate": "<b>%{hovertext}</b><br><br>Country=%{x}<br>TIME_PERIOD=2011<br>Circular Use Rate (%)=%{y}<br>Total_Circular_Use=%{marker.size}<extra></extra>",
           "hovertext": [
            "Belgium"
           ],
           "legendgroup": "Belgium",
           "marker": {
            "color": "#ab63fa",
            "size": {
             "bdata": "zczMzMwscEA=",
             "dtype": "f8"
            },
            "sizemode": "area",
            "sizeref": 0.15092,
            "symbol": "circle"
           },
           "mode": "markers",
           "name": "Belgium",
           "orientation": "v",
           "showlegend": true,
           "type": "scatter",
           "x": [
            "Belgium"
           ],
           "xaxis": "x",
           "y": {
            "bdata": "zczMzMzMLEA=",
            "dtype": "f8"
           },
           "yaxis": "y"
          },
          {
           "hovertemplate": "<b>%{hovertext}</b><br><br>Country=%{x}<br>TIME_PERIOD=2011<br>Circular Use Rate (%)=%{y}<br>Total_Circular_Use=%{marker.size}<extra></extra>",
           "hovertext": [
            "Italy"
           ],
           "legendgroup": "Italy",
           "marker": {
            "color": "#FFA15A",
            "size": {
             "bdata": "zczMzMw8bkA=",
             "dtype": "f8"
            },
            "sizemode": "area",
            "sizeref": 0.15092,
            "symbol": "circle"
           },
           "mode": "markers",
           "name": "Italy",
           "orientation": "v",
           "showlegend": true,
           "type": "scatter",
           "x": [
            "Italy"
           ],
           "xaxis": "x",
           "y": {
            "bdata": "MzMzMzMzJ0A=",
            "dtype": "f8"
           },
           "yaxis": "y"
          },
          {
           "hovertemplate": "<b>%{hovertext}</b><br><br>Country=%{x}<br>TIME_PERIOD=2011<br>Circular Use Rate (%)=%{y}<br>Total_Circular_Use=%{marker.size}<extra></extra>",
           "hovertext": [
            "Germany"
           ],
           "legendgroup": "Germany",
           "marker": {
            "color": "#19d3f3",
            "size": {
             "bdata": "zczMzMy8ZEA=",
             "dtype": "f8"
            },
            "sizemode": "area",
            "sizeref": 0.15092,
            "symbol": "circle"
           },
           "mode": "markers",
           "name": "Germany",
           "orientation": "v",
           "showlegend": true,
           "type": "scatter",
           "x": [
            "Germany"
           ],
           "xaxis": "x",
           "y": {
            "bdata": "MzMzMzMzJUA=",
            "dtype": "f8"
           },
           "yaxis": "y"
          },
          {
           "hovertemplate": "<b>%{hovertext}</b><br><br>Country=%{x}<br>TIME_PERIOD=2011<br>Circular Use Rate (%)=%{y}<br>Total_Circular_Use=%{marker.size}<extra></extra>",
           "hovertext": [
            "Poland"
           ],
           "legendgroup": "Poland",
           "marker": {
            "color": "#FF6692",
            "size": {
             "bdata": "zczMzMw8YUA=",
             "dtype": "f8"
            },
            "sizemode": "area",
            "sizeref": 0.15092,
            "symbol": "circle"
           },
           "mode": "markers",
           "name": "Poland",
           "orientation": "v",
           "showlegend": true,
           "type": "scatter",
           "x": [
            "Poland"
           ],
           "xaxis": "x",
           "y": {
            "bdata": "zczMzMzMIkA=",
            "dtype": "f8"
           },
           "yaxis": "y"
          },
          {
           "hovertemplate": "<b>%{hovertext}</b><br><br>Country=%{x}<br>TIME_PERIOD=2011<br>Circular Use Rate (%)=%{y}<br>Total_Circular_Use=%{marker.size}<extra></extra>",
           "hovertext": [
            "Finland"
           ],
           "legendgroup": "Finland",
           "marker": {
            "color": "#B6E880",
            "size": {
             "bdata": "AAAAAADAVUA=",
             "dtype": "f8"
            },
            "sizemode": "area",
            "sizeref": 0.15092,
            "symbol": "circle"
           },
           "mode": "markers",
           "name": "Finland",
           "orientation": "v",
           "showlegend": true,
           "type": "scatter",
           "x": [
            "Finland"
           ],
           "xaxis": "x",
           "y": {
            "bdata": "zczMzMzMJkA=",
            "dtype": "f8"
           },
           "yaxis": "y"
          },
          {
           "hovertemplate": "<b>%{hovertext}</b><br><br>Country=%{x}<br>TIME_PERIOD=2011<br>Circular Use Rate (%)=%{y}<br>Total_Circular_Use=%{marker.size}<extra></extra>",
           "hovertext": [
            "Spain"
           ],
           "legendgroup": "Spain",
           "marker": {
            "color": "#FF97FF",
            "size": {
             "bdata": "zczMzMxMX0A=",
             "dtype": "f8"
            },
            "sizemode": "area",
            "sizeref": 0.15092,
            "symbol": "circle"
           },
           "mode": "markers",
           "name": "Spain",
           "orientation": "v",
           "showlegend": true,
           "type": "scatter",
           "x": [
            "Spain"
           ],
           "xaxis": "x",
           "y": {
            "bdata": "zczMzMzMI0A=",
            "dtype": "f8"
           },
           "yaxis": "y"
          },
          {
           "hovertemplate": "<b>%{hovertext}</b><br><br>Country=%{x}<br>TIME_PERIOD=2011<br>Circular Use Rate (%)=%{y}<br>Total_Circular_Use=%{marker.size}<extra></extra>",
           "hovertext": [
            "Estonia"
           ],
           "legendgroup": "Estonia",
           "marker": {
            "color": "#FECB52",
            "size": {
             "bdata": "AAAAAAAwakA=",
             "dtype": "f8"
            },
            "sizemode": "area",
            "sizeref": 0.15092,
            "symbol": "circle"
           },
           "mode": "markers",
           "name": "Estonia",
           "orientation": "v",
           "showlegend": true,
           "type": "scatter",
           "x": [
            "Estonia"
           ],
           "xaxis": "x",
           "y": {
            "bdata": "AAAAAAAALUA=",
            "dtype": "f8"
           },
           "yaxis": "y"
          }
         ],
         "name": "2011"
        },
        {
         "data": [
          {
           "hovertemplate": "<b>%{hovertext}</b><br><br>Country=%{x}<br>TIME_PERIOD=2012<br>Circular Use Rate (%)=%{y}<br>Total_Circular_Use=%{marker.size}<extra></extra>",
           "hovertext": [
            "Netherlands"
           ],
           "legendgroup": "Netherlands",
           "marker": {
            "color": "#636efa",
            "size": {
             "bdata": "zczMzMyUd0A=",
             "dtype": "f8"
            },
            "sizemode": "area",
            "sizeref": 0.15092,
            "symbol": "circle"
           },
           "mode": "markers",
           "name": "Netherlands",
           "orientation": "v",
           "showlegend": true,
           "type": "scatter",
           "x": [
            "Netherlands"
           ],
           "xaxis": "x",
           "y": {
            "bdata": "zczMzMxMOkA=",
            "dtype": "f8"
           },
           "yaxis": "y"
          },
          {
           "hovertemplate": "<b>%{hovertext}</b><br><br>Country=%{x}<br>TIME_PERIOD=2012<br>Circular Use Rate (%)=%{y}<br>Total_Circular_Use=%{marker.size}<extra></extra>",
           "hovertext": [
            "Luxembourg"
           ],
           "legendgroup": "Luxembourg",
           "marker": {
            "color": "#EF553B",
            "size": {
             "bdata": "mpmZmZnZZUA=",
             "dtype": "f8"
            },
            "sizemode": "area",
            "sizeref": 0.15092,
            "symbol": "circle"
           },
           "mode": "markers",
           "name": "Luxembourg",
           "orientation": "v",
           "showlegend": true,
           "type": "scatter",
           "x": [
            "Luxembourg"
           ],
           "xaxis": "x",
           "y": {
            "bdata": "MzMzMzOzMUA=",
            "dtype": "f8"
           },
           "yaxis": "y"
          },
          {
           "hovertemplate": "<b>%{hovertext}</b><br><br>Country=%{x}<br>TIME_PERIOD=2012<br>Circular Use Rate (%)=%{y}<br>Total_Circular_Use=%{marker.size}<extra></extra>",
           "hovertext": [
            "France"
           ],
           "legendgroup": "France",
           "marker": {
            "color": "#00cc96",
            "size": {
             "bdata": "mpmZmZnZbkA=",
             "dtype": "f8"
            },
            "sizemode": "area",
            "sizeref": 0.15092,
            "symbol": "circle"
           },
           "mode": "markers",
           "name": "France",
           "orientation": "v",
           "showlegend": true,
           "type": "scatter",
           "x": [
            "France"
           ],
           "xaxis": "x",
           "y": {
            "bdata": "zczMzMzMMEA=",
            "dtype": "f8"
           },
           "yaxis": "y"
          },
          {
           "hovertemplate": "<b>%{hovertext}</b><br><br>Country=%{x}<br>TIME_PERIOD=2012<br>Circular Use Rate (%)=%{y}<br>Total_Circular_Use=%{marker.size}<extra></extra>",
           "hovertext": [
            "Belgium"
           ],
           "legendgroup": "Belgium",
           "marker": {
            "color": "#ab63fa",
            "size": {
             "bdata": "zczMzMwscEA=",
             "dtype": "f8"
            },
            "sizemode": "area",
            "sizeref": 0.15092,
            "symbol": "circle"
           },
           "mode": "markers",
           "name": "Belgium",
           "orientation": "v",
           "showlegend": true,
           "type": "scatter",
           "x": [
            "Belgium"
           ],
           "xaxis": "x",
           "y": {
            "bdata": "zczMzMxMMUA=",
            "dtype": "f8"
           },
           "yaxis": "y"
          },
          {
           "hovertemplate": "<b>%{hovertext}</b><br><br>Country=%{x}<br>TIME_PERIOD=2012<br>Circular Use Rate (%)=%{y}<br>Total_Circular_Use=%{marker.size}<extra></extra>",
           "hovertext": [
            "Italy"
           ],
           "legendgroup": "Italy",
           "marker": {
            "color": "#FFA15A",
            "size": {
             "bdata": "zczMzMw8bkA=",
             "dtype": "f8"
            },
            "sizemode": "area",
            "sizeref": 0.15092,
            "symbol": "circle"
           },
           "mode": "markers",
           "name": "Italy",
           "orientation": "v",
           "showlegend": true,
           "type": "scatter",
           "x": [
            "Italy"
           ],
           "xaxis": "x",
           "y": {
            "bdata": "zczMzMzMK0A=",
            "dtype": "f8"
           },
           "yaxis": "y"
          },
          {
           "hovertemplate": "<b>%{hovertext}</b><br><br>Country=%{x}<br>TIME_PERIOD=2012<br>Circular Use Rate (%)=%{y}<br>Total_Circular_Use=%{marker.size}<extra></extra>",
           "hovertext": [
            "Germany"
           ],
           "legendgroup": "Germany",
           "marker": {
            "color": "#19d3f3",
            "size": {
             "bdata": "zczMzMy8ZEA=",
             "dtype": "f8"
            },
            "sizemode": "area",
            "sizeref": 0.15092,
            "symbol": "circle"
           },
           "mode": "markers",
           "name": "Germany",
           "orientation": "v",
           "showlegend": true,
           "type": "scatter",
           "x": [
            "Germany"
           ],
           "xaxis": "x",
           "y": {
            "bdata": "AAAAAAAAJkA=",
            "dtype": "f8"
           },
           "yaxis": "y"
          },
          {
           "hovertemplate": "<b>%{hovertext}</b><br><br>Country=%{x}<br>TIME_PERIOD=2012<br>Circular Use Rate (%)=%{y}<br>Total_Circular_Use=%{marker.size}<extra></extra>",
           "hovertext": [
            "Poland"
           ],
           "legendgroup": "Poland",
           "marker": {
            "color": "#FF6692",
            "size": {
             "bdata": "zczMzMw8YUA=",
             "dtype": "f8"
            },
            "sizemode": "area",
            "sizeref": 0.15092,
            "symbol": "circle"
           },
           "mode": "markers",
           "name": "Poland",
           "orientation": "v",
           "showlegend": true,
           "type": "scatter",
           "x": [
            "Poland"
           ],
           "xaxis": "x",
           "y": {
            "bdata": "AAAAAAAAJkA=",
            "dtype": "f8"
           },
           "yaxis": "y"
          },
          {
           "hovertemplate": "<b>%{hovertext}</b><br><br>Country=%{x}<br>TIME_PERIOD=2012<br>Circular Use Rate (%)=%{y}<br>Total_Circular_Use=%{marker.size}<extra></extra>",
           "hovertext": [
            "Finland"
           ],
           "legendgroup": "Finland",
           "marker": {
            "color": "#B6E880",
            "size": {
             "bdata": "AAAAAADAVUA=",
             "dtype": "f8"
            },
            "sizemode": "area",
            "sizeref": 0.15092,
            "symbol": "circle"
           },
           "mode": "markers",
           "name": "Finland",
           "orientation": "v",
           "showlegend": true,
           "type": "scatter",
           "x": [
            "Finland"
           ],
           "xaxis": "x",
           "y": {
            "bdata": "ZmZmZmZmKEA=",
            "dtype": "f8"
           },
           "yaxis": "y"
          },
          {
           "hovertemplate": "<b>%{hovertext}</b><br><br>Country=%{x}<br>TIME_PERIOD=2012<br>Circular Use Rate (%)=%{y}<br>Total_Circular_Use=%{marker.size}<extra></extra>",
           "hovertext": [
            "Spain"
           ],
           "legendgroup": "Spain",
           "marker": {
            "color": "#FF97FF",
            "size": {
             "bdata": "zczMzMxMX0A=",
             "dtype": "f8"
            },
            "sizemode": "area",
            "sizeref": 0.15092,
            "symbol": "circle"
           },
           "mode": "markers",
           "name": "Spain",
           "orientation": "v",
           "showlegend": true,
           "type": "scatter",
           "x": [
            "Spain"
           ],
           "xaxis": "x",
           "y": {
            "bdata": "mpmZmZmZI0A=",
            "dtype": "f8"
           },
           "yaxis": "y"
          },
          {
           "hovertemplate": "<b>%{hovertext}</b><br><br>Country=%{x}<br>TIME_PERIOD=2012<br>Circular Use Rate (%)=%{y}<br>Total_Circular_Use=%{marker.size}<extra></extra>",
           "hovertext": [
            "Estonia"
           ],
           "legendgroup": "Estonia",
           "marker": {
            "color": "#FECB52",
            "size": {
             "bdata": "AAAAAAAwakA=",
             "dtype": "f8"
            },
            "sizemode": "area",
            "sizeref": 0.15092,
            "symbol": "circle"
           },
           "mode": "markers",
           "name": "Estonia",
           "orientation": "v",
           "showlegend": true,
           "type": "scatter",
           "x": [
            "Estonia"
           ],
           "xaxis": "x",
           "y": {
            "bdata": "MzMzMzMzM0A=",
            "dtype": "f8"
           },
           "yaxis": "y"
          }
         ],
         "name": "2012"
        },
        {
         "data": [
          {
           "hovertemplate": "<b>%{hovertext}</b><br><br>Country=%{x}<br>TIME_PERIOD=2013<br>Circular Use Rate (%)=%{y}<br>Total_Circular_Use=%{marker.size}<extra></extra>",
           "hovertext": [
            "Netherlands"
           ],
           "legendgroup": "Netherlands",
           "marker": {
            "color": "#636efa",
            "size": {
             "bdata": "zczMzMyUd0A=",
             "dtype": "f8"
            },
            "sizemode": "area",
            "sizeref": 0.15092,
            "symbol": "circle"
           },
           "mode": "markers",
           "name": "Netherlands",
           "orientation": "v",
           "showlegend": true,
           "type": "scatter",
           "x": [
            "Netherlands"
           ],
           "xaxis": "x",
           "y": {
            "bdata": "zczMzMzMOkA=",
            "dtype": "f8"
           },
           "yaxis": "y"
          },
          {
           "hovertemplate": "<b>%{hovertext}</b><br><br>Country=%{x}<br>TIME_PERIOD=2013<br>Circular Use Rate (%)=%{y}<br>Total_Circular_Use=%{marker.size}<extra></extra>",
           "hovertext": [
            "Luxembourg"
           ],
           "legendgroup": "Luxembourg",
           "marker": {
            "color": "#EF553B",
            "size": {
             "bdata": "mpmZmZnZZUA=",
             "dtype": "f8"
            },
            "sizemode": "area",
            "sizeref": 0.15092,
            "symbol": "circle"
           },
           "mode": "markers",
           "name": "Luxembourg",
           "orientation": "v",
           "showlegend": true,
           "type": "scatter",
           "x": [
            "Luxembourg"
           ],
           "xaxis": "x",
           "y": {
            "bdata": "ZmZmZmZmLkA=",
            "dtype": "f8"
           },
           "yaxis": "y"
          },
          {
           "hovertemplate": "<b>%{hovertext}</b><br><br>Country=%{x}<br>TIME_PERIOD=2013<br>Circular Use Rate (%)=%{y}<br>Total_Circular_Use=%{marker.size}<extra></extra>",
           "hovertext": [
            "France"
           ],
           "legendgroup": "France",
           "marker": {
            "color": "#00cc96",
            "size": {
             "bdata": "mpmZmZnZbkA=",
             "dtype": "f8"
            },
            "sizemode": "area",
            "sizeref": 0.15092,
            "symbol": "circle"
           },
           "mode": "markers",
           "name": "France",
           "orientation": "v",
           "showlegend": true,
           "type": "scatter",
           "x": [
            "France"
           ],
           "xaxis": "x",
           "y": {
            "bdata": "MzMzMzMzMUA=",
            "dtype": "f8"
           },
           "yaxis": "y"
          },
          {
           "hovertemplate": "<b>%{hovertext}</b><br><br>Country=%{x}<br>TIME_PERIOD=2013<br>Circular Use Rate (%)=%{y}<br>Total_Circular_Use=%{marker.size}<extra></extra>",
           "hovertext": [
            "Belgium"
           ],
           "legendgroup": "Belgium",
           "marker": {
            "color": "#ab63fa",
            "size": {
             "bdata": "zczMzMwscEA=",
             "dtype": "f8"
            },
            "sizemode": "area",
            "sizeref": 0.15092,
            "symbol": "circle"
           },
           "mode": "markers",
           "name": "Belgium",
           "orientation": "v",
           "showlegend": true,
           "type": "scatter",
           "x": [
            "Belgium"
           ],
           "xaxis": "x",
           "y": {
            "bdata": "zczMzMxMMUA=",
            "dtype": "f8"
           },
           "yaxis": "y"
          },
          {
           "hovertemplate": "<b>%{hovertext}</b><br><br>Country=%{x}<br>TIME_PERIOD=2013<br>Circular Use Rate (%)=%{y}<br>Total_Circular_Use=%{marker.size}<extra></extra>",
           "hovertext": [
            "Italy"
           ],
           "legendgroup": "Italy",
           "marker": {
            "color": "#FFA15A",
            "size": {
             "bdata": "zczMzMw8bkA=",
             "dtype": "f8"
            },
            "sizemode": "area",
            "sizeref": 0.15092,
            "symbol": "circle"
           },
           "mode": "markers",
           "name": "Italy",
           "orientation": "v",
           "showlegend": true,
           "type": "scatter",
           "x": [
            "Italy"
           ],
           "xaxis": "x",
           "y": {
            "bdata": "AAAAAAAAMEA=",
            "dtype": "f8"
           },
           "yaxis": "y"
          },
          {
           "hovertemplate": "<b>%{hovertext}</b><br><br>Country=%{x}<br>TIME_PERIOD=2013<br>Circular Use Rate (%)=%{y}<br>Total_Circular_Use=%{marker.size}<extra></extra>",
           "hovertext": [
            "Germany"
           ],
           "legendgroup": "Germany",
           "marker": {
            "color": "#19d3f3",
            "size": {
             "bdata": "zczMzMy8ZEA=",
             "dtype": "f8"
            },
            "sizemode": "area",
            "sizeref": 0.15092,
            "symbol": "circle"
           },
           "mode": "markers",
           "name": "Germany",
           "orientation": "v",
           "showlegend": true,
           "type": "scatter",
           "x": [
            "Germany"
           ],
           "xaxis": "x",
           "y": {
            "bdata": "MzMzMzMzJkA=",
            "dtype": "f8"
           },
           "yaxis": "y"
          },
          {
           "hovertemplate": "<b>%{hovertext}</b><br><br>Country=%{x}<br>TIME_PERIOD=2013<br>Circular Use Rate (%)=%{y}<br>Total_Circular_Use=%{marker.size}<extra></extra>",
           "hovertext": [
            "Poland"
           ],
           "legendgroup": "Poland",
           "marker": {
            "color": "#FF6692",
            "size": {
             "bdata": "zczMzMw8YUA=",
             "dtype": "f8"
            },
            "sizemode": "area",
            "sizeref": 0.15092,
            "symbol": "circle"
           },
           "mode": "markers",
           "name": "Poland",
           "orientation": "v",
           "showlegend": true,
           "type": "scatter",
           "x": [
            "Poland"
           ],
           "xaxis": "x",
           "y": {
            "bdata": "ZmZmZmZmKEA=",
            "dtype": "f8"
           },
           "yaxis": "y"
          },
          {
           "hovertemplate": "<b>%{hovertext}</b><br><br>Country=%{x}<br>TIME_PERIOD=2013<br>Circular Use Rate (%)=%{y}<br>Total_Circular_Use=%{marker.size}<extra></extra>",
           "hovertext": [
            "Estonia"
           ],
           "legendgroup": "Estonia",
           "marker": {
            "color": "#FECB52",
            "size": {
             "bdata": "AAAAAAAwakA=",
             "dtype": "f8"
            },
            "sizemode": "area",
            "sizeref": 0.15092,
            "symbol": "circle"
           },
           "mode": "markers",
           "name": "Estonia",
           "orientation": "v",
           "showlegend": true,
           "type": "scatter",
           "x": [
            "Estonia"
           ],
           "xaxis": "x",
           "y": {
            "bdata": "ZmZmZmZmLUA=",
            "dtype": "f8"
           },
           "yaxis": "y"
          },
          {
           "hovertemplate": "<b>%{hovertext}</b><br><br>Country=%{x}<br>TIME_PERIOD=2013<br>Circular Use Rate (%)=%{y}<br>Total_Circular_Use=%{marker.size}<extra></extra>",
           "hovertext": [
            "Slovenia"
           ],
           "legendgroup": "Slovenia",
           "marker": {
            "color": "#636efa",
            "size": {
             "bdata": "ZmZmZmYGX0A=",
             "dtype": "f8"
            },
            "sizemode": "area",
            "sizeref": 0.15092,
            "symbol": "circle"
           },
           "mode": "markers",
           "name": "Slovenia",
           "orientation": "v",
           "showlegend": true,
           "type": "scatter",
           "x": [
            "Slovenia"
           ],
           "xaxis": "x",
           "y": {
            "bdata": "mpmZmZmZIkA=",
            "dtype": "f8"
           },
           "yaxis": "y"
          },
          {
           "hovertemplate": "<b>%{hovertext}</b><br><br>Country=%{x}<br>TIME_PERIOD=2013<br>Circular Use Rate (%)=%{y}<br>Total_Circular_Use=%{marker.size}<extra></extra>",
           "hovertext": [
            "Austria"
           ],
           "legendgroup": "Austria",
           "marker": {
            "color": "#EF553B",
            "size": {
             "bdata": "zczMzMyMYkA=",
             "dtype": "f8"
            },
            "sizemode": "area",
            "sizeref": 0.15092,
            "symbol": "circle"
           },
           "mode": "markers",
           "name": "Austria",
           "orientation": "v",
           "showlegend": true,
           "type": "scatter",
           "x": [
            "Austria"
           ],
           "xaxis": "x",
           "y": {
            "bdata": "MzMzMzMzIkA=",
            "dtype": "f8"
           },
           "yaxis": "y"
          }
         ],
         "name": "2013"
        },
        {
         "data": [
          {
           "hovertemplate": "<b>%{hovertext}</b><br><br>Country=%{x}<br>TIME_PERIOD=2014<br>Circular Use Rate (%)=%{y}<br>Total_Circular_Use=%{marker.size}<extra></extra>",
           "hovertext": [
            "Netherlands"
           ],
           "legendgroup": "Netherlands",
           "marker": {
            "color": "#636efa",
            "size": {
             "bdata": "zczMzMyUd0A=",
             "dtype": "f8"
            },
            "sizemode": "area",
            "sizeref": 0.15092,
            "symbol": "circle"
           },
           "mode": "markers",
           "name": "Netherlands",
           "orientation": "v",
           "showlegend": true,
           "type": "scatter",
           "x": [
            "Netherlands"
           ],
           "xaxis": "x",
           "y": {
            "bdata": "AAAAAACAOkA=",
            "dtype": "f8"
           },
           "yaxis": "y"
          },
          {
           "hovertemplate": "<b>%{hovertext}</b><br><br>Country=%{x}<br>TIME_PERIOD=2014<br>Circular Use Rate (%)=%{y}<br>Total_Circular_Use=%{marker.size}<extra></extra>",
           "hovertext": [
            "Luxembourg"
           ],
           "legendgroup": "Luxembourg",
           "marker": {
            "color": "#EF553B",
            "size": {
             "bdata": "mpmZmZnZZUA=",
             "dtype": "f8"
            },
            "sizemode": "area",
            "sizeref": 0.15092,
            "symbol": "circle"
           },
           "mode": "markers",
           "name": "Luxembourg",
           "orientation": "v",
           "showlegend": true,
           "type": "scatter",
           "x": [
            "Luxembourg"
           ],
           "xaxis": "x",
           "y": {
            "bdata": "MzMzMzMzJkA=",
            "dtype": "f8"
           },
           "yaxis": "y"
          },
          {
           "hovertemplate": "<b>%{hovertext}</b><br><br>Country=%{x}<br>TIME_PERIOD=2014<br>Circular Use Rate (%)=%{y}<br>Total_Circular_Use=%{marker.size}<extra></extra>",
           "hovertext": [
            "France"
           ],
           "legendgroup": "France",
           "marker": {
            "color": "#00cc96",
            "size": {
             "bdata": "mpmZmZnZbkA=",
             "dtype": "f8"
            },
            "sizemode": "area",
            "sizeref": 0.15092,
            "symbol": "circle"
           },
           "mode": "markers",
           "name": "France",
           "orientation": "v",
           "showlegend": true,
           "type": "scatter",
           "x": [
            "France"
           ],
           "xaxis": "x",
           "y": {
            "bdata": "zczMzMzMMUA=",
            "dtype": "f8"
           },
           "yaxis": "y"
          },
          {
           "hovertemplate": "<b>%{hovertext}</b><br><br>Country=%{x}<br>TIME_PERIOD=2014<br>Circular Use Rate (%)=%{y}<br>Total_Circular_Use=%{marker.size}<extra></extra>",
           "hovertext": [
            "Belgium"
           ],
           "legendgroup": "Belgium",
           "marker": {
            "color": "#ab63fa",
            "size": {
             "bdata": "zczMzMwscEA=",
             "dtype": "f8"
            },
            "sizemode": "area",
            "sizeref": 0.15092,
            "symbol": "circle"
           },
           "mode": "markers",
           "name": "Belgium",
           "orientation": "v",
           "showlegend": true,
           "type": "scatter",
           "x": [
            "Belgium"
           ],
           "xaxis": "x",
           "y": {
            "bdata": "ZmZmZmbmMUA=",
            "dtype": "f8"
           },
           "yaxis": "y"
          },
          {
           "hovertemplate": "<b>%{hovertext}</b><br><br>Country=%{x}<br>TIME_PERIOD=2014<br>Circular Use Rate (%)=%{y}<br>Total_Circular_Use=%{marker.size}<extra></extra>",
           "hovertext": [
            "Italy"
           ],
           "legendgroup": "Italy",
           "marker": {
            "color": "#FFA15A",
            "size": {
             "bdata": "zczMzMw8bkA=",
             "dtype": "f8"
            },
            "sizemode": "area",
            "sizeref": 0.15092,
            "symbol": "circle"
           },
           "mode": "markers",
           "name": "Italy",
           "orientation": "v",
           "showlegend": true,
           "type": "scatter",
           "x": [
            "Italy"
           ],
           "xaxis": "x",
           "y": {
            "bdata": "mpmZmZkZMEA=",
            "dtype": "f8"
           },
           "yaxis": "y"
          },
          {
           "hovertemplate": "<b>%{hovertext}</b><br><br>Country=%{x}<br>TIME_PERIOD=2014<br>Circular Use Rate (%)=%{y}<br>Total_Circular_Use=%{marker.size}<extra></extra>",
           "hovertext": [
            "Germany"
           ],
           "legendgroup": "Germany",
           "marker": {
            "color": "#19d3f3",
            "size": {
             "bdata": "zczMzMy8ZEA=",
             "dtype": "f8"
            },
            "sizemode": "area",
            "sizeref": 0.15092,
            "symbol": "circle"
           },
           "mode": "markers",
           "name": "Germany",
           "orientation": "v",
           "showlegend": true,
           "type": "scatter",
           "x": [
            "Germany"
           ],
           "xaxis": "x",
           "y": {
            "bdata": "ZmZmZmZmJkA=",
            "dtype": "f8"
           },
           "yaxis": "y"
          },
          {
           "hovertemplate": "<b>%{hovertext}</b><br><br>Country=%{x}<br>TIME_PERIOD=2014<br>Circular Use Rate (%)=%{y}<br>Total_Circular_Use=%{marker.size}<extra></extra>",
           "hovertext": [
            "Poland"
           ],
           "legendgroup": "Poland",
           "marker": {
            "color": "#FF6692",
            "size": {
             "bdata": "zczMzMw8YUA=",
             "dtype": "f8"
            },
            "sizemode": "area",
            "sizeref": 0.15092,
            "symbol": "circle"
           },
           "mode": "markers",
           "name": "Poland",
           "orientation": "v",
           "showlegend": true,
           "type": "scatter",
           "x": [
            "Poland"
           ],
           "xaxis": "x",
           "y": {
            "bdata": "AAAAAAAAKkA=",
            "dtype": "f8"
           },
           "yaxis": "y"
          },
          {
           "hovertemplate": "<b>%{hovertext}</b><br><br>Country=%{x}<br>TIME_PERIOD=2014<br>Circular Use Rate (%)=%{y}<br>Total_Circular_Use=%{marker.size}<extra></extra>",
           "hovertext": [
            "Estonia"
           ],
           "legendgroup": "Estonia",
           "marker": {
            "color": "#FECB52",
            "size": {
             "bdata": "AAAAAAAwakA=",
             "dtype": "f8"
            },
            "sizemode": "area",
            "sizeref": 0.15092,
            "symbol": "circle"
           },
           "mode": "markers",
           "name": "Estonia",
           "orientation": "v",
           "showlegend": true,
           "type": "scatter",
           "x": [
            "Estonia"
           ],
           "xaxis": "x",
           "y": {
            "bdata": "mpmZmZmZJkA=",
            "dtype": "f8"
           },
           "yaxis": "y"
          },
          {
           "hovertemplate": "<b>%{hovertext}</b><br><br>Country=%{x}<br>TIME_PERIOD=2014<br>Circular Use Rate (%)=%{y}<br>Total_Circular_Use=%{marker.size}<extra></extra>",
           "hovertext": [
            "Austria"
           ],
           "legendgroup": "Austria",
           "marker": {
            "color": "#EF553B",
            "size": {
             "bdata": "zczMzMyMYkA=",
             "dtype": "f8"
            },
            "sizemode": "area",
            "sizeref": 0.15092,
            "symbol": "circle"
           },
           "mode": "markers",
           "name": "Austria",
           "orientation": "v",
           "showlegend": true,
           "type": "scatter",
           "x": [
            "Austria"
           ],
           "xaxis": "x",
           "y": {
            "bdata": "zczMzMzMI0A=",
            "dtype": "f8"
           },
           "yaxis": "y"
          },
          {
           "hovertemplate": "<b>%{hovertext}</b><br><br>Country=%{x}<br>TIME_PERIOD=2014<br>Circular Use Rate (%)=%{y}<br>Total_Circular_Use=%{marker.size}<extra></extra>",
           "hovertext": [
            "Denmark"
           ],
           "legendgroup": "Denmark",
           "marker": {
            "color": "#00cc96",
            "size": {
             "bdata": "ZmZmZmYmXEA=",
             "dtype": "f8"
            },
            "sizemode": "area",
            "sizeref": 0.15092,
            "symbol": "circle"
           },
           "mode": "markers",
           "name": "Denmark",
           "orientation": "v",
           "showlegend": true,
           "type": "scatter",
           "x": [
            "Denmark"
           ],
           "xaxis": "x",
           "y": {
            "bdata": "AAAAAAAAIkA=",
            "dtype": "f8"
           },
           "yaxis": "y"
          }
         ],
         "name": "2014"
        },
        {
         "data": [
          {
           "hovertemplate": "<b>%{hovertext}</b><br><br>Country=%{x}<br>TIME_PERIOD=2015<br>Circular Use Rate (%)=%{y}<br>Total_Circular_Use=%{marker.size}<extra></extra>",
           "hovertext": [
            "Netherlands"
           ],
           "legendgroup": "Netherlands",
           "marker": {
            "color": "#636efa",
            "size": {
             "bdata": "zczMzMyUd0A=",
             "dtype": "f8"
            },
            "sizemode": "area",
            "sizeref": 0.15092,
            "symbol": "circle"
           },
           "mode": "markers",
           "name": "Netherlands",
           "orientation": "v",
           "showlegend": true,
           "type": "scatter",
           "x": [
            "Netherlands"
           ],
           "xaxis": "x",
           "y": {
            "bdata": "MzMzMzOzOkA=",
            "dtype": "f8"
           },
           "yaxis": "y"
          },
          {
           "hovertemplate": "<b>%{hovertext}</b><br><br>Country=%{x}<br>TIME_PERIOD=2015<br>Circular Use Rate (%)=%{y}<br>Total_Circular_Use=%{marker.size}<extra></extra>",
           "hovertext": [
            "Luxembourg"
           ],
           "legendgroup": "Luxembourg",
           "marker": {
            "color": "#EF553B",
            "size": {
             "bdata": "mpmZmZnZZUA=",
             "dtype": "f8"
            },
            "sizemode": "area",
            "sizeref": 0.15092,
            "symbol": "circle"
           },
           "mode": "markers",
           "name": "Luxembourg",
           "orientation": "v",
           "showlegend": true,
           "type": "scatter",
           "x": [
            "Luxembourg"
           ],
           "xaxis": "x",
           "y": {
            "bdata": "MzMzMzMzI0A=",
            "dtype": "f8"
           },
           "yaxis": "y"
          },
          {
           "hovertemplate": "<b>%{hovertext}</b><br><br>Country=%{x}<br>TIME_PERIOD=2015<br>Circular Use Rate (%)=%{y}<br>Total_Circular_Use=%{marker.size}<extra></extra>",
           "hovertext": [
            "France"
           ],
           "legendgroup": "France",
           "marker": {
            "color": "#00cc96",
            "size": {
             "bdata": "mpmZmZnZbkA=",
             "dtype": "f8"
            },
            "sizemode": "area",
            "sizeref": 0.15092,
            "symbol": "circle"
           },
           "mode": "markers",
           "name": "France",
           "orientation": "v",
           "showlegend": true,
           "type": "scatter",
           "x": [
            "France"
           ],
           "xaxis": "x",
           "y": {
            "bdata": "zczMzMzMMkA=",
            "dtype": "f8"
           },
           "yaxis": "y"
          },
          {
           "hovertemplate": "<b>%{hovertext}</b><br><br>Country=%{x}<br>TIME_PERIOD=2015<br>Circular Use Rate (%)=%{y}<br>Total_Circular_Use=%{marker.size}<extra></extra>",
           "hovertext": [
            "Belgium"
           ],
           "legendgroup": "Belgium",
           "marker": {
            "color": "#ab63fa",
            "size": {
             "bdata": "zczMzMwscEA=",
             "dtype": "f8"
            },
            "sizemode": "area",
            "sizeref": 0.15092,
            "symbol": "circle"
           },
           "mode": "markers",
           "name": "Belgium",
           "orientation": "v",
           "showlegend": true,
           "type": "scatter",
           "x": [
            "Belgium"
           ],
           "xaxis": "x",
           "y": {
            "bdata": "AAAAAAAAMkA=",
            "dtype": "f8"
           },
           "yaxis": "y"
          },
          {
           "hovertemplate": "<b>%{hovertext}</b><br><br>Country=%{x}<br>TIME_PERIOD=2015<br>Circular Use Rate (%)=%{y}<br>Total_Circular_Use=%{marker.size}<extra></extra>",
           "hovertext": [
            "Italy"
           ],
           "legendgroup": "Italy",
           "marker": {
            "color": "#FFA15A",
            "size": {
             "bdata": "zczMzMw8bkA=",
             "dtype": "f8"
            },
            "sizemode": "area",
            "sizeref": 0.15092,
            "symbol": "circle"
           },
           "mode": "markers",
           "name": "Italy",
           "orientation": "v",
           "showlegend": true,
           "type": "scatter",
           "x": [
            "Italy"
           ],
           "xaxis": "x",
           "y": {
            "bdata": "MzMzMzMzMUA=",
            "dtype": "f8"
           },
           "yaxis": "y"
          },
          {
           "hovertemplate": "<b>%{hovertext}</b><br><br>Country=%{x}<br>TIME_PERIOD=2015<br>Circular Use Rate (%)=%{y}<br>Total_Circular_Use=%{marker.size}<extra></extra>",
           "hovertext": [
            "Germany"
           ],
           "legendgroup": "Germany",
           "marker": {
            "color": "#19d3f3",
            "size": {
             "bdata": "zczMzMy8ZEA=",
             "dtype": "f8"
            },
            "sizemode": "area",
            "sizeref": 0.15092,
            "symbol": "circle"
           },
           "mode": "markers",
           "name": "Germany",
           "orientation": "v",
           "showlegend": true,
           "type": "scatter",
           "x": [
            "Germany"
           ],
           "xaxis": "x",
           "y": {
            "bdata": "MzMzMzMzJ0A=",
            "dtype": "f8"
           },
           "yaxis": "y"
          },
          {
           "hovertemplate": "<b>%{hovertext}</b><br><br>Country=%{x}<br>TIME_PERIOD=2015<br>Circular Use Rate (%)=%{y}<br>Total_Circular_Use=%{marker.size}<extra></extra>",
           "hovertext": [
            "Poland"
           ],
           "legendgroup": "Poland",
           "marker": {
            "color": "#FF6692",
            "size": {
             "bdata": "zczMzMw8YUA=",
             "dtype": "f8"
            },
            "sizemode": "area",
            "sizeref": 0.15092,
            "symbol": "circle"
           },
           "mode": "markers",
           "name": "Poland",
           "orientation": "v",
           "showlegend": true,
           "type": "scatter",
           "x": [
            "Poland"
           ],
           "xaxis": "x",
           "y": {
            "bdata": "zczMzMzMJ0A=",
            "dtype": "f8"
           },
           "yaxis": "y"
          },
          {
           "hovertemplate": "<b>%{hovertext}</b><br><br>Country=%{x}<br>TIME_PERIOD=2015<br>Circular Use Rate (%)=%{y}<br>Total_Circular_Use=%{marker.size}<extra></extra>",
           "hovertext": [
            "Estonia"
           ],
           "legendgroup": "Estonia",
           "marker": {
            "color": "#FECB52",
            "size": {
             "bdata": "AAAAAAAwakA=",
             "dtype": "f8"
            },
            "sizemode": "area",
            "sizeref": 0.15092,
            "symbol": "circle"
           },
           "mode": "markers",
           "name": "Estonia",
           "orientation": "v",
           "showlegend": true,
           "type": "scatter",
           "x": [
            "Estonia"
           ],
           "xaxis": "x",
           "y": {
            "bdata": "zczMzMzMJkA=",
            "dtype": "f8"
           },
           "yaxis": "y"
          },
          {
           "hovertemplate": "<b>%{hovertext}</b><br><br>Country=%{x}<br>TIME_PERIOD=2015<br>Circular Use Rate (%)=%{y}<br>Total_Circular_Use=%{marker.size}<extra></extra>",
           "hovertext": [
            "Slovenia"
           ],
           "legendgroup": "Slovenia",
           "marker": {
            "color": "#636efa",
            "size": {
             "bdata": "ZmZmZmYGX0A=",
             "dtype": "f8"
            },
            "sizemode": "area",
            "sizeref": 0.15092,
            "symbol": "circle"
           },
           "mode": "markers",
           "name": "Slovenia",
           "orientation": "v",
           "showlegend": true,
           "type": "scatter",
           "x": [
            "Slovenia"
           ],
           "xaxis": "x",
           "y": {
            "bdata": "ZmZmZmZmIUA=",
            "dtype": "f8"
           },
           "yaxis": "y"
          },
          {
           "hovertemplate": "<b>%{hovertext}</b><br><br>Country=%{x}<br>TIME_PERIOD=2015<br>Circular Use Rate (%)=%{y}<br>Total_Circular_Use=%{marker.size}<extra></extra>",
           "hovertext": [
            "Austria"
           ],
           "legendgroup": "Austria",
           "marker": {
            "color": "#EF553B",
            "size": {
             "bdata": "zczMzMyMYkA=",
             "dtype": "f8"
            },
            "sizemode": "area",
            "sizeref": 0.15092,
            "symbol": "circle"
           },
           "mode": "markers",
           "name": "Austria",
           "orientation": "v",
           "showlegend": true,
           "type": "scatter",
           "x": [
            "Austria"
           ],
           "xaxis": "x",
           "y": {
            "bdata": "ZmZmZmZmJkA=",
            "dtype": "f8"
           },
           "yaxis": "y"
          }
         ],
         "name": "2015"
        },
        {
         "data": [
          {
           "hovertemplate": "<b>%{hovertext}</b><br><br>Country=%{x}<br>TIME_PERIOD=2016<br>Circular Use Rate (%)=%{y}<br>Total_Circular_Use=%{marker.size}<extra></extra>",
           "hovertext": [
            "Netherlands"
           ],
           "legendgroup": "Netherlands",
           "marker": {
            "color": "#636efa",
            "size": {
             "bdata": "zczMzMyUd0A=",
             "dtype": "f8"
            },
            "sizemode": "area",
            "sizeref": 0.15092,
            "symbol": "circle"
           },
           "mode": "markers",
           "name": "Netherlands",
           "orientation": "v",
           "showlegend": true,
           "type": "scatter",
           "x": [
            "Netherlands"
           ],
           "xaxis": "x",
           "y": {
            "bdata": "AAAAAAAAPUA=",
            "dtype": "f8"
           },
           "yaxis": "y"
          },
          {
           "hovertemplate": "<b>%{hovertext}</b><br><br>Country=%{x}<br>TIME_PERIOD=2016<br>Circular Use Rate (%)=%{y}<br>Total_Circular_Use=%{marker.size}<extra></extra>",
           "hovertext": [
            "France"
           ],
           "legendgroup": "France",
           "marker": {
            "color": "#00cc96",
            "size": {
             "bdata": "mpmZmZnZbkA=",
             "dtype": "f8"
            },
            "sizemode": "area",
            "sizeref": 0.15092,
            "symbol": "circle"
           },
           "mode": "markers",
           "name": "France",
           "orientation": "v",
           "showlegend": true,
           "type": "scatter",
           "x": [
            "France"
           ],
           "xaxis": "x",
           "y": {
            "bdata": "zczMzMxMM0A=",
            "dtype": "f8"
           },
           "yaxis": "y"
          },
          {
           "hovertemplate": "<b>%{hovertext}</b><br><br>Country=%{x}<br>TIME_PERIOD=2016<br>Circular Use Rate (%)=%{y}<br>Total_Circular_Use=%{marker.size}<extra></extra>",
           "hovertext": [
            "Belgium"
           ],
           "legendgroup": "Belgium",
           "marker": {
            "color": "#ab63fa",
            "size": {
             "bdata": "zczMzMwscEA=",
             "dtype": "f8"
            },
            "sizemode": "area",
            "sizeref": 0.15092,
            "symbol": "circle"
           },
           "mode": "markers",
           "name": "Belgium",
           "orientation": "v",
           "showlegend": true,
           "type": "scatter",
           "x": [
            "Belgium"
           ],
           "xaxis": "x",
           "y": {
            "bdata": "AAAAAAAAMkA=",
            "dtype": "f8"
           },
           "yaxis": "y"
          },
          {
           "hovertemplate": "<b>%{hovertext}</b><br><br>Country=%{x}<br>TIME_PERIOD=2016<br>Circular Use Rate (%)=%{y}<br>Total_Circular_Use=%{marker.size}<extra></extra>",
           "hovertext": [
            "Italy"
           ],
           "legendgroup": "Italy",
           "marker": {
            "color": "#FFA15A",
            "size": {
             "bdata": "zczMzMw8bkA=",
             "dtype": "f8"
            },
            "sizemode": "area",
            "sizeref": 0.15092,
            "symbol": "circle"
           },
           "mode": "markers",
           "name": "Italy",
           "orientation": "v",
           "showlegend": true,
           "type": "scatter",
           "x": [
            "Italy"
           ],
           "xaxis": "x",
           "y": {
            "bdata": "zczMzMzMMUA=",
            "dtype": "f8"
           },
           "yaxis": "y"
          },
          {
           "hovertemplate": "<b>%{hovertext}</b><br><br>Country=%{x}<br>TIME_PERIOD=2016<br>Circular Use Rate (%)=%{y}<br>Total_Circular_Use=%{marker.size}<extra></extra>",
           "hovertext": [
            "Germany"
           ],
           "legendgroup": "Germany",
           "marker": {
            "color": "#19d3f3",
            "size": {
             "bdata": "zczMzMy8ZEA=",
             "dtype": "f8"
            },
            "sizemode": "area",
            "sizeref": 0.15092,
            "symbol": "circle"
           },
           "mode": "markers",
           "name": "Germany",
           "orientation": "v",
           "showlegend": true,
           "type": "scatter",
           "x": [
            "Germany"
           ],
           "xaxis": "x",
           "y": {
            "bdata": "mpmZmZmZJ0A=",
            "dtype": "f8"
           },
           "yaxis": "y"
          },
          {
           "hovertemplate": "<b>%{hovertext}</b><br><br>Country=%{x}<br>TIME_PERIOD=2016<br>Circular Use Rate (%)=%{y}<br>Total_Circular_Use=%{marker.size}<extra></extra>",
           "hovertext": [
            "Poland"
           ],
           "legendgroup": "Poland",
           "marker": {
            "color": "#FF6692",
            "size": {
             "bdata": "zczMzMw8YUA=",
             "dtype": "f8"
            },
            "sizemode": "area",
            "sizeref": 0.15092,
            "symbol": "circle"
           },
           "mode": "markers",
           "name": "Poland",
           "orientation": "v",
           "showlegend": true,
           "type": "scatter",
           "x": [
            "Poland"
           ],
           "xaxis": "x",
           "y": {
            "bdata": "MzMzMzMzJUA=",
            "dtype": "f8"
           },
           "yaxis": "y"
          },
          {
           "hovertemplate": "<b>%{hovertext}</b><br><br>Country=%{x}<br>TIME_PERIOD=2016<br>Circular Use Rate (%)=%{y}<br>Total_Circular_Use=%{marker.size}<extra></extra>",
           "hovertext": [
            "Spain"
           ],
           "legendgroup": "Spain",
           "marker": {
            "color": "#FF97FF",
            "size": {
             "bdata": "zczMzMxMX0A=",
             "dtype": "f8"
            },
            "sizemode": "area",
            "sizeref": 0.15092,
            "symbol": "circle"
           },
           "mode": "markers",
           "name": "Spain",
           "orientation": "v",
           "showlegend": true,
           "type": "scatter",
           "x": [
            "Spain"
           ],
           "xaxis": "x",
           "y": {
            "bdata": "ZmZmZmZmIEA=",
            "dtype": "f8"
           },
           "yaxis": "y"
          },
          {
           "hovertemplate": "<b>%{hovertext}</b><br><br>Country=%{x}<br>TIME_PERIOD=2016<br>Circular Use Rate (%)=%{y}<br>Total_Circular_Use=%{marker.size}<extra></extra>",
           "hovertext": [
            "Estonia"
           ],
           "legendgroup": "Estonia",
           "marker": {
            "color": "#FECB52",
            "size": {
             "bdata": "AAAAAAAwakA=",
             "dtype": "f8"
            },
            "sizemode": "area",
            "sizeref": 0.15092,
            "symbol": "circle"
           },
           "mode": "markers",
           "name": "Estonia",
           "orientation": "v",
           "showlegend": true,
           "type": "scatter",
           "x": [
            "Estonia"
           ],
           "xaxis": "x",
           "y": {
            "bdata": "zczMzMzMJ0A=",
            "dtype": "f8"
           },
           "yaxis": "y"
          },
          {
           "hovertemplate": "<b>%{hovertext}</b><br><br>Country=%{x}<br>TIME_PERIOD=2016<br>Circular Use Rate (%)=%{y}<br>Total_Circular_Use=%{marker.size}<extra></extra>",
           "hovertext": [
            "Slovenia"
           ],
           "legendgroup": "Slovenia",
           "marker": {
            "color": "#636efa",
            "size": {
             "bdata": "ZmZmZmYGX0A=",
             "dtype": "f8"
            },
            "sizemode": "area",
            "sizeref": 0.15092,
            "symbol": "circle"
           },
           "mode": "markers",
           "name": "Slovenia",
           "orientation": "v",
           "showlegend": true,
           "type": "scatter",
           "x": [
            "Slovenia"
           ],
           "xaxis": "x",
           "y": {
            "bdata": "ZmZmZmZmIUA=",
            "dtype": "f8"
           },
           "yaxis": "y"
          },
          {
           "hovertemplate": "<b>%{hovertext}</b><br><br>Country=%{x}<br>TIME_PERIOD=2016<br>Circular Use Rate (%)=%{y}<br>Total_Circular_Use=%{marker.size}<extra></extra>",
           "hovertext": [
            "Austria"
           ],
           "legendgroup": "Austria",
           "marker": {
            "color": "#EF553B",
            "size": {
             "bdata": "zczMzMyMYkA=",
             "dtype": "f8"
            },
            "sizemode": "area",
            "sizeref": 0.15092,
            "symbol": "circle"
           },
           "mode": "markers",
           "name": "Austria",
           "orientation": "v",
           "showlegend": true,
           "type": "scatter",
           "x": [
            "Austria"
           ],
           "xaxis": "x",
           "y": {
            "bdata": "zczMzMzMJ0A=",
            "dtype": "f8"
           },
           "yaxis": "y"
          }
         ],
         "name": "2016"
        },
        {
         "data": [
          {
           "hovertemplate": "<b>%{hovertext}</b><br><br>Country=%{x}<br>TIME_PERIOD=2017<br>Circular Use Rate (%)=%{y}<br>Total_Circular_Use=%{marker.size}<extra></extra>",
           "hovertext": [
            "Netherlands"
           ],
           "legendgroup": "Netherlands",
           "marker": {
            "color": "#636efa",
            "size": {
             "bdata": "zczMzMyUd0A=",
             "dtype": "f8"
            },
            "sizemode": "area",
            "sizeref": 0.15092,
            "symbol": "circle"
           },
           "mode": "markers",
           "name": "Netherlands",
           "orientation": "v",
           "showlegend": true,
           "type": "scatter",
           "x": [
            "Netherlands"
           ],
           "xaxis": "x",
           "y": {
            "bdata": "MzMzMzOzOkA=",
            "dtype": "f8"
           },
           "yaxis": "y"
          },
          {
           "hovertemplate": "<b>%{hovertext}</b><br><br>Country=%{x}<br>TIME_PERIOD=2017<br>Circular Use Rate (%)=%{y}<br>Total_Circular_Use=%{marker.size}<extra></extra>",
           "hovertext": [
            "Luxembourg"
           ],
           "legendgroup": "Luxembourg",
           "marker": {
            "color": "#EF553B",
            "size": {
             "bdata": "mpmZmZnZZUA=",
             "dtype": "f8"
            },
            "sizemode": "area",
            "sizeref": 0.15092,
            "symbol": "circle"
           },
           "mode": "markers",
           "name": "Luxembourg",
           "orientation": "v",
           "showlegend": true,
           "type": "scatter",
           "x": [
            "Luxembourg"
           ],
           "xaxis": "x",
           "y": {
            "bdata": "MzMzMzMzJUA=",
            "dtype": "f8"
           },
           "yaxis": "y"
          },
          {
           "hovertemplate": "<b>%{hovertext}</b><br><br>Country=%{x}<br>TIME_PERIOD=2017<br>Circular Use Rate (%)=%{y}<br>Total_Circular_Use=%{marker.size}<extra></extra>",
           "hovertext": [
            "France"
           ],
           "legendgroup": "France",
           "marker": {
            "color": "#00cc96",
            "size": {
             "bdata": "mpmZmZnZbkA=",
             "dtype": "f8"
            },
            "sizemode": "area",
            "sizeref": 0.15092,
            "symbol": "circle"
           },
           "mode": "markers",
           "name": "France",
           "orientation": "v",
           "showlegend": true,
           "type": "scatter",
           "x": [
            "France"
           ],
           "xaxis": "x",
           "y": {
            "bdata": "MzMzMzOzMkA=",
            "dtype": "f8"
           },
           "yaxis": "y"
          },
          {
           "hovertemplate": "<b>%{hovertext}</b><br><br>Country=%{x}<br>TIME_PERIOD=2017<br>Circular Use Rate (%)=%{y}<br>Total_Circular_Use=%{marker.size}<extra></extra>",
           "hovertext": [
            "Belgium"
           ],
           "legendgroup": "Belgium",
           "marker": {
            "color": "#ab63fa",
            "size": {
             "bdata": "zczMzMwscEA=",
             "dtype": "f8"
            },
            "sizemode": "area",
            "sizeref": 0.15092,
            "symbol": "circle"
           },
           "mode": "markers",
           "name": "Belgium",
           "orientation": "v",
           "showlegend": true,
           "type": "scatter",
           "x": [
            "Belgium"
           ],
           "xaxis": "x",
           "y": {
            "bdata": "AAAAAAAAM0A=",
            "dtype": "f8"
           },
           "yaxis": "y"
          },
          {
           "hovertemplate": "<b>%{hovertext}</b><br><br>Country=%{x}<br>TIME_PERIOD=2017<br>Circular Use Rate (%)=%{y}<br>Total_Circular_Use=%{marker.size}<extra></extra>",
           "hovertext": [
            "Italy"
           ],
           "legendgroup": "Italy",
           "marker": {
            "color": "#FFA15A",
            "size": {
             "bdata": "zczMzMw8bkA=",
             "dtype": "f8"
            },
            "sizemode": "area",
            "sizeref": 0.15092,
            "symbol": "circle"
           },
           "mode": "markers",
           "name": "Italy",
           "orientation": "v",
           "showlegend": true,
           "type": "scatter",
           "x": [
            "Italy"
           ],
           "xaxis": "x",
           "y": {
            "bdata": "ZmZmZmZmMkA=",
            "dtype": "f8"
           },
           "yaxis": "y"
          },
          {
           "hovertemplate": "<b>%{hovertext}</b><br><br>Country=%{x}<br>TIME_PERIOD=2017<br>Circular Use Rate (%)=%{y}<br>Total_Circular_Use=%{marker.size}<extra></extra>",
           "hovertext": [
            "Germany"
           ],
           "legendgroup": "Germany",
           "marker": {
            "color": "#19d3f3",
            "size": {
             "bdata": "zczMzMy8ZEA=",
             "dtype": "f8"
            },
            "sizemode": "area",
            "sizeref": 0.15092,
            "symbol": "circle"
           },
           "mode": "markers",
           "name": "Germany",
           "orientation": "v",
           "showlegend": true,
           "type": "scatter",
           "x": [
            "Germany"
           ],
           "xaxis": "x",
           "y": {
            "bdata": "MzMzMzMzJ0A=",
            "dtype": "f8"
           },
           "yaxis": "y"
          },
          {
           "hovertemplate": "<b>%{hovertext}</b><br><br>Country=%{x}<br>TIME_PERIOD=2017<br>Circular Use Rate (%)=%{y}<br>Total_Circular_Use=%{marker.size}<extra></extra>",
           "hovertext": [
            "Poland"
           ],
           "legendgroup": "Poland",
           "marker": {
            "color": "#FF6692",
            "size": {
             "bdata": "zczMzMw8YUA=",
             "dtype": "f8"
            },
            "sizemode": "area",
            "sizeref": 0.15092,
            "symbol": "circle"
           },
           "mode": "markers",
           "name": "Poland",
           "orientation": "v",
           "showlegend": true,
           "type": "scatter",
           "x": [
            "Poland"
           ],
           "xaxis": "x",
           "y": {
            "bdata": "zczMzMzMJEA=",
            "dtype": "f8"
           },
           "yaxis": "y"
          },
          {
           "hovertemplate": "<b>%{hovertext}</b><br><br>Country=%{x}<br>TIME_PERIOD=2017<br>Circular Use Rate (%)=%{y}<br>Total_Circular_Use=%{marker.size}<extra></extra>",
           "hovertext": [
            "Estonia"
           ],
           "legendgroup": "Estonia",
           "marker": {
            "color": "#FECB52",
            "size": {
             "bdata": "AAAAAAAwakA=",
             "dtype": "f8"
            },
            "sizemode": "area",
            "sizeref": 0.15092,
            "symbol": "circle"
           },
           "mode": "markers",
           "name": "Estonia",
           "orientation": "v",
           "showlegend": true,
           "type": "scatter",
           "x": [
            "Estonia"
           ],
           "xaxis": "x",
           "y": {
            "bdata": "AAAAAAAAKUA=",
            "dtype": "f8"
           },
           "yaxis": "y"
          },
          {
           "hovertemplate": "<b>%{hovertext}</b><br><br>Country=%{x}<br>TIME_PERIOD=2017<br>Circular Use Rate (%)=%{y}<br>Total_Circular_Use=%{marker.size}<extra></extra>",
           "hovertext": [
            "Slovenia"
           ],
           "legendgroup": "Slovenia",
           "marker": {
            "color": "#636efa",
            "size": {
             "bdata": "ZmZmZmYGX0A=",
             "dtype": "f8"
            },
            "sizemode": "area",
            "sizeref": 0.15092,
            "symbol": "circle"
           },
           "mode": "markers",
           "name": "Slovenia",
           "orientation": "v",
           "showlegend": true,
           "type": "scatter",
           "x": [
            "Slovenia"
           ],
           "xaxis": "x",
           "y": {
            "bdata": "mpmZmZmZI0A=",
            "dtype": "f8"
           },
           "yaxis": "y"
          },
          {
           "hovertemplate": "<b>%{hovertext}</b><br><br>Country=%{x}<br>TIME_PERIOD=2017<br>Circular Use Rate (%)=%{y}<br>Total_Circular_Use=%{marker.size}<extra></extra>",
           "hovertext": [
            "Austria"
           ],
           "legendgroup": "Austria",
           "marker": {
            "color": "#EF553B",
            "size": {
             "bdata": "zczMzMyMYkA=",
             "dtype": "f8"
            },
            "sizemode": "area",
            "sizeref": 0.15092,
            "symbol": "circle"
           },
           "mode": "markers",
           "name": "Austria",
           "orientation": "v",
           "showlegend": true,
           "type": "scatter",
           "x": [
            "Austria"
           ],
           "xaxis": "x",
           "y": {
            "bdata": "AAAAAAAAKEA=",
            "dtype": "f8"
           },
           "yaxis": "y"
          }
         ],
         "name": "2017"
        },
        {
         "data": [
          {
           "hovertemplate": "<b>%{hovertext}</b><br><br>Country=%{x}<br>TIME_PERIOD=2018<br>Circular Use Rate (%)=%{y}<br>Total_Circular_Use=%{marker.size}<extra></extra>",
           "hovertext": [
            "Netherlands"
           ],
           "legendgroup": "Netherlands",
           "marker": {
            "color": "#636efa",
            "size": {
             "bdata": "zczMzMyUd0A=",
             "dtype": "f8"
            },
            "sizemode": "area",
            "sizeref": 0.15092,
            "symbol": "circle"
           },
           "mode": "markers",
           "name": "Netherlands",
           "orientation": "v",
           "showlegend": true,
           "type": "scatter",
           "x": [
            "Netherlands"
           ],
           "xaxis": "x",
           "y": {
            "bdata": "zczMzMzMOUA=",
            "dtype": "f8"
           },
           "yaxis": "y"
          },
          {
           "hovertemplate": "<b>%{hovertext}</b><br><br>Country=%{x}<br>TIME_PERIOD=2018<br>Circular Use Rate (%)=%{y}<br>Total_Circular_Use=%{marker.size}<extra></extra>",
           "hovertext": [
            "Luxembourg"
           ],
           "legendgroup": "Luxembourg",
           "marker": {
            "color": "#EF553B",
            "size": {
             "bdata": "mpmZmZnZZUA=",
             "dtype": "f8"
            },
            "sizemode": "area",
            "sizeref": 0.15092,
            "symbol": "circle"
           },
           "mode": "markers",
           "name": "Luxembourg",
           "orientation": "v",
           "showlegend": true,
           "type": "scatter",
           "x": [
            "Luxembourg"
           ],
           "xaxis": "x",
           "y": {
            "bdata": "mpmZmZmZJUA=",
            "dtype": "f8"
           },
           "yaxis": "y"
          },
          {
           "hovertemplate": "<b>%{hovertext}</b><br><br>Country=%{x}<br>TIME_PERIOD=2018<br>Circular Use Rate (%)=%{y}<br>Total_Circular_Use=%{marker.size}<extra></extra>",
           "hovertext": [
            "France"
           ],
           "legendgroup": "France",
           "marker": {
            "color": "#00cc96",
            "size": {
             "bdata": "mpmZmZnZbkA=",
             "dtype": "f8"
            },
            "sizemode": "area",
            "sizeref": 0.15092,
            "symbol": "circle"
           },
           "mode": "markers",
           "name": "France",
           "orientation": "v",
           "showlegend": true,
           "type": "scatter",
           "x": [
            "France"
           ],
           "xaxis": "x",
           "y": {
            "bdata": "AAAAAACAM0A=",
            "dtype": "f8"
           },
           "yaxis": "y"
          },
          {
           "hovertemplate": "<b>%{hovertext}</b><br><br>Country=%{x}<br>TIME_PERIOD=2018<br>Circular Use Rate (%)=%{y}<br>Total_Circular_Use=%{marker.size}<extra></extra>",
           "hovertext": [
            "Belgium"
           ],
           "legendgroup": "Belgium",
           "marker": {
            "color": "#ab63fa",
            "size": {
             "bdata": "zczMzMwscEA=",
             "dtype": "f8"
            },
            "sizemode": "area",
            "sizeref": 0.15092,
            "symbol": "circle"
           },
           "mode": "markers",
           "name": "Belgium",
           "orientation": "v",
           "showlegend": true,
           "type": "scatter",
           "x": [
            "Belgium"
           ],
           "xaxis": "x",
           "y": {
            "bdata": "mpmZmZmZNEA=",
            "dtype": "f8"
           },
           "yaxis": "y"
          },
          {
           "hovertemplate": "<b>%{hovertext}</b><br><br>Country=%{x}<br>TIME_PERIOD=2018<br>Circular Use Rate (%)=%{y}<br>Total_Circular_Use=%{marker.size}<extra></extra>",
           "hovertext": [
            "Italy"
           ],
           "legendgroup": "Italy",
           "marker": {
            "color": "#FFA15A",
            "size": {
             "bdata": "zczMzMw8bkA=",
             "dtype": "f8"
            },
            "sizemode": "area",
            "sizeref": 0.15092,
            "symbol": "circle"
           },
           "mode": "markers",
           "name": "Italy",
           "orientation": "v",
           "showlegend": true,
           "type": "scatter",
           "x": [
            "Italy"
           ],
           "xaxis": "x",
           "y": {
            "bdata": "zczMzMzMMkA=",
            "dtype": "f8"
           },
           "yaxis": "y"
          },
          {
           "hovertemplate": "<b>%{hovertext}</b><br><br>Country=%{x}<br>TIME_PERIOD=2018<br>Circular Use Rate (%)=%{y}<br>Total_Circular_Use=%{marker.size}<extra></extra>",
           "hovertext": [
            "Germany"
           ],
           "legendgroup": "Germany",
           "marker": {
            "color": "#19d3f3",
            "size": {
             "bdata": "zczMzMy8ZEA=",
             "dtype": "f8"
            },
            "sizemode": "area",
            "sizeref": 0.15092,
            "symbol": "circle"
           },
           "mode": "markers",
           "name": "Germany",
           "orientation": "v",
           "showlegend": true,
           "type": "scatter",
           "x": [
            "Germany"
           ],
           "xaxis": "x",
           "y": {
            "bdata": "AAAAAAAAKEA=",
            "dtype": "f8"
           },
           "yaxis": "y"
          },
          {
           "hovertemplate": "<b>%{hovertext}</b><br><br>Country=%{x}<br>TIME_PERIOD=2018<br>Circular Use Rate (%)=%{y}<br>Total_Circular_Use=%{marker.size}<extra></extra>",
           "hovertext": [
            "Poland"
           ],
           "legendgroup": "Poland",
           "marker": {
            "color": "#FF6692",
            "size": {
             "bdata": "zczMzMw8YUA=",
             "dtype": "f8"
            },
            "sizemode": "area",
            "sizeref": 0.15092,
            "symbol": "circle"
           },
           "mode": "markers",
           "name": "Poland",
           "orientation": "v",
           "showlegend": true,
           "type": "scatter",
           "x": [
            "Poland"
           ],
           "xaxis": "x",
           "y": {
            "bdata": "AAAAAAAAJUA=",
            "dtype": "f8"
           },
           "yaxis": "y"
          },
          {
           "hovertemplate": "<b>%{hovertext}</b><br><br>Country=%{x}<br>TIME_PERIOD=2018<br>Circular Use Rate (%)=%{y}<br>Total_Circular_Use=%{marker.size}<extra></extra>",
           "hovertext": [
            "Estonia"
           ],
           "legendgroup": "Estonia",
           "marker": {
            "color": "#FECB52",
            "size": {
             "bdata": "AAAAAAAwakA=",
             "dtype": "f8"
            },
            "sizemode": "area",
            "sizeref": 0.15092,
            "symbol": "circle"
           },
           "mode": "markers",
           "name": "Estonia",
           "orientation": "v",
           "showlegend": true,
           "type": "scatter",
           "x": [
            "Estonia"
           ],
           "xaxis": "x",
           "y": {
            "bdata": "mpmZmZmZK0A=",
            "dtype": "f8"
           },
           "yaxis": "y"
          },
          {
           "hovertemplate": "<b>%{hovertext}</b><br><br>Country=%{x}<br>TIME_PERIOD=2018<br>Circular Use Rate (%)=%{y}<br>Total_Circular_Use=%{marker.size}<extra></extra>",
           "hovertext": [
            "Austria"
           ],
           "legendgroup": "Austria",
           "marker": {
            "color": "#EF553B",
            "size": {
             "bdata": "zczMzMyMYkA=",
             "dtype": "f8"
            },
            "sizemode": "area",
            "sizeref": 0.15092,
            "symbol": "circle"
           },
           "mode": "markers",
           "name": "Austria",
           "orientation": "v",
           "showlegend": true,
           "type": "scatter",
           "x": [
            "Austria"
           ],
           "xaxis": "x",
           "y": {
            "bdata": "mpmZmZmZJ0A=",
            "dtype": "f8"
           },
           "yaxis": "y"
          },
          {
           "hovertemplate": "<b>%{hovertext}</b><br><br>Country=%{x}<br>TIME_PERIOD=2018<br>Circular Use Rate (%)=%{y}<br>Total_Circular_Use=%{marker.size}<extra></extra>",
           "hovertext": [
            "Czechia"
           ],
           "legendgroup": "Czechia",
           "marker": {
            "color": "#ab63fa",
            "size": {
             "bdata": "zczMzMxsXkA=",
             "dtype": "f8"
            },
            "sizemode": "area",
            "sizeref": 0.15092,
            "symbol": "circle"
           },
           "mode": "markers",
           "name": "Czechia",
           "orientation": "v",
           "showlegend": true,
           "type": "scatter",
           "x": [
            "Czechia"
           ],
           "xaxis": "x",
           "y": {
            "bdata": "AAAAAAAAJUA=",
            "dtype": "f8"
           },
           "yaxis": "y"
          }
         ],
         "name": "2018"
        },
        {
         "data": [
          {
           "hovertemplate": "<b>%{hovertext}</b><br><br>Country=%{x}<br>TIME_PERIOD=2019<br>Circular Use Rate (%)=%{y}<br>Total_Circular_Use=%{marker.size}<extra></extra>",
           "hovertext": [
            "Netherlands"
           ],
           "legendgroup": "Netherlands",
           "marker": {
            "color": "#636efa",
            "size": {
             "bdata": "zczMzMyUd0A=",
             "dtype": "f8"
            },
            "sizemode": "area",
            "sizeref": 0.15092,
            "symbol": "circle"
           },
           "mode": "markers",
           "name": "Netherlands",
           "orientation": "v",
           "showlegend": true,
           "type": "scatter",
           "x": [
            "Netherlands"
           ],
           "xaxis": "x",
           "y": {
            "bdata": "mpmZmZmZOUA=",
            "dtype": "f8"
           },
           "yaxis": "y"
          },
          {
           "hovertemplate": "<b>%{hovertext}</b><br><br>Country=%{x}<br>TIME_PERIOD=2019<br>Circular Use Rate (%)=%{y}<br>Total_Circular_Use=%{marker.size}<extra></extra>",
           "hovertext": [
            "France"
           ],
           "legendgroup": "France",
           "marker": {
            "color": "#00cc96",
            "size": {
             "bdata": "mpmZmZnZbkA=",
             "dtype": "f8"
            },
            "sizemode": "area",
            "sizeref": 0.15092,
            "symbol": "circle"
           },
           "mode": "markers",
           "name": "France",
           "orientation": "v",
           "showlegend": true,
           "type": "scatter",
           "x": [
            "France"
           ],
           "xaxis": "x",
           "y": {
            "bdata": "mpmZmZkZMUA=",
            "dtype": "f8"
           },
           "yaxis": "y"
          },
          {
           "hovertemplate": "<b>%{hovertext}</b><br><br>Country=%{x}<br>TIME_PERIOD=2019<br>Circular Use Rate (%)=%{y}<br>Total_Circular_Use=%{marker.size}<extra></extra>",
           "hovertext": [
            "Belgium"
           ],
           "legendgroup": "Belgium",
           "marker": {
            "color": "#ab63fa",
            "size": {
             "bdata": "zczMzMwscEA=",
             "dtype": "f8"
            },
            "sizemode": "area",
            "sizeref": 0.15092,
            "symbol": "circle"
           },
           "mode": "markers",
           "name": "Belgium",
           "orientation": "v",
           "showlegend": true,
           "type": "scatter",
           "x": [
            "Belgium"
           ],
           "xaxis": "x",
           "y": {
            "bdata": "AAAAAACANEA=",
            "dtype": "f8"
           },
           "yaxis": "y"
          },
          {
           "hovertemplate": "<b>%{hovertext}</b><br><br>Country=%{x}<br>TIME_PERIOD=2019<br>Circular Use Rate (%)=%{y}<br>Total_Circular_Use=%{marker.size}<extra></extra>",
           "hovertext": [
            "Italy"
           ],
           "legendgroup": "Italy",
           "marker": {
            "color": "#FFA15A",
            "size": {
             "bdata": "zczMzMw8bkA=",
             "dtype": "f8"
            },
            "sizemode": "area",
            "sizeref": 0.15092,
            "symbol": "circle"
           },
           "mode": "markers",
           "name": "Italy",
           "orientation": "v",
           "showlegend": true,
           "type": "scatter",
           "x": [
            "Italy"
           ],
           "xaxis": "x",
           "y": {
            "bdata": "zczMzMzMMkA=",
            "dtype": "f8"
           },
           "yaxis": "y"
          },
          {
           "hovertemplate": "<b>%{hovertext}</b><br><br>Country=%{x}<br>TIME_PERIOD=2019<br>Circular Use Rate (%)=%{y}<br>Total_Circular_Use=%{marker.size}<extra></extra>",
           "hovertext": [
            "Germany"
           ],
           "legendgroup": "Germany",
           "marker": {
            "color": "#19d3f3",
            "size": {
             "bdata": "zczMzMy8ZEA=",
             "dtype": "f8"
            },
            "sizemode": "area",
            "sizeref": 0.15092,
            "symbol": "circle"
           },
           "mode": "markers",
           "name": "Germany",
           "orientation": "v",
           "showlegend": true,
           "type": "scatter",
           "x": [
            "Germany"
           ],
           "xaxis": "x",
           "y": {
            "bdata": "zczMzMzMKEA=",
            "dtype": "f8"
           },
           "yaxis": "y"
          },
          {
           "hovertemplate": "<b>%{hovertext}</b><br><br>Country=%{x}<br>TIME_PERIOD=2019<br>Circular Use Rate (%)=%{y}<br>Total_Circular_Use=%{marker.size}<extra></extra>",
           "hovertext": [
            "Estonia"
           ],
           "legendgroup": "Estonia",
           "marker": {
            "color": "#FECB52",
            "size": {
             "bdata": "AAAAAAAwakA=",
             "dtype": "f8"
            },
            "sizemode": "area",
            "sizeref": 0.15092,
            "symbol": "circle"
           },
           "mode": "markers",
           "name": "Estonia",
           "orientation": "v",
           "showlegend": true,
           "type": "scatter",
           "x": [
            "Estonia"
           ],
           "xaxis": "x",
           "y": {
            "bdata": "mpmZmZmZLkA=",
            "dtype": "f8"
           },
           "yaxis": "y"
          },
          {
           "hovertemplate": "<b>%{hovertext}</b><br><br>Country=%{x}<br>TIME_PERIOD=2019<br>Circular Use Rate (%)=%{y}<br>Total_Circular_Use=%{marker.size}<extra></extra>",
           "hovertext": [
            "Slovenia"
           ],
           "legendgroup": "Slovenia",
           "marker": {
            "color": "#636efa",
            "size": {
             "bdata": "ZmZmZmYGX0A=",
             "dtype": "f8"
            },
            "sizemode": "area",
            "sizeref": 0.15092,
            "symbol": "circle"
           },
           "mode": "markers",
           "name": "Slovenia",
           "orientation": "v",
           "showlegend": true,
           "type": "scatter",
           "x": [
            "Slovenia"
           ],
           "xaxis": "x",
           "y": {
            "bdata": "ZmZmZmZmJEA=",
            "dtype": "f8"
           },
           "yaxis": "y"
          },
          {
           "hovertemplate": "<b>%{hovertext}</b><br><br>Country=%{x}<br>TIME_PERIOD=2019<br>Circular Use Rate (%)=%{y}<br>Total_Circular_Use=%{marker.size}<extra></extra>",
           "hovertext": [
            "Austria"
           ],
           "legendgroup": "Austria",
           "marker": {
            "color": "#EF553B",
            "size": {
             "bdata": "zczMzMyMYkA=",
             "dtype": "f8"
            },
            "sizemode": "area",
            "sizeref": 0.15092,
            "symbol": "circle"
           },
           "mode": "markers",
           "name": "Austria",
           "orientation": "v",
           "showlegend": true,
           "type": "scatter",
           "x": [
            "Austria"
           ],
           "xaxis": "x",
           "y": {
            "bdata": "AAAAAAAAJ0A=",
            "dtype": "f8"
           },
           "yaxis": "y"
          },
          {
           "hovertemplate": "<b>%{hovertext}</b><br><br>Country=%{x}<br>TIME_PERIOD=2019<br>Circular Use Rate (%)=%{y}<br>Total_Circular_Use=%{marker.size}<extra></extra>",
           "hovertext": [
            "Czechia"
           ],
           "legendgroup": "Czechia",
           "marker": {
            "color": "#ab63fa",
            "size": {
             "bdata": "zczMzMxsXkA=",
             "dtype": "f8"
            },
            "sizemode": "area",
            "sizeref": 0.15092,
            "symbol": "circle"
           },
           "mode": "markers",
           "name": "Czechia",
           "orientation": "v",
           "showlegend": true,
           "type": "scatter",
           "x": [
            "Czechia"
           ],
           "xaxis": "x",
           "y": {
            "bdata": "MzMzMzMzJUA=",
            "dtype": "f8"
           },
           "yaxis": "y"
          },
          {
           "hovertemplate": "<b>%{hovertext}</b><br><br>Country=%{x}<br>TIME_PERIOD=2019<br>Circular Use Rate (%)=%{y}<br>Total_Circular_Use=%{marker.size}<extra></extra>",
           "hovertext": [
            "Malta"
           ],
           "legendgroup": "Malta",
           "marker": {
            "color": "#FFA15A",
            "size": {
             "bdata": "mpmZmZl5YUA=",
             "dtype": "f8"
            },
            "sizemode": "area",
            "sizeref": 0.15092,
            "symbol": "circle"
           },
           "mode": "markers",
           "name": "Malta",
           "orientation": "v",
           "showlegend": true,
           "type": "scatter",
           "x": [
            "Malta"
           ],
           "xaxis": "x",
           "y": {
            "bdata": "mpmZmZmZKUA=",
            "dtype": "f8"
           },
           "yaxis": "y"
          }
         ],
         "name": "2019"
        },
        {
         "data": [
          {
           "hovertemplate": "<b>%{hovertext}</b><br><br>Country=%{x}<br>TIME_PERIOD=2020<br>Circular Use Rate (%)=%{y}<br>Total_Circular_Use=%{marker.size}<extra></extra>",
           "hovertext": [
            "Netherlands"
           ],
           "legendgroup": "Netherlands",
           "marker": {
            "color": "#636efa",
            "size": {
             "bdata": "zczMzMyUd0A=",
             "dtype": "f8"
            },
            "sizemode": "area",
            "sizeref": 0.15092,
            "symbol": "circle"
           },
           "mode": "markers",
           "name": "Netherlands",
           "orientation": "v",
           "showlegend": true,
           "type": "scatter",
           "x": [
            "Netherlands"
           ],
           "xaxis": "x",
           "y": {
            "bdata": "mpmZmZkZO0A=",
            "dtype": "f8"
           },
           "yaxis": "y"
          },
          {
           "hovertemplate": "<b>%{hovertext}</b><br><br>Country=%{x}<br>TIME_PERIOD=2020<br>Circular Use Rate (%)=%{y}<br>Total_Circular_Use=%{marker.size}<extra></extra>",
           "hovertext": [
            "France"
           ],
           "legendgroup": "France",
           "marker": {
            "color": "#00cc96",
            "size": {
             "bdata": "mpmZmZnZbkA=",
             "dtype": "f8"
            },
            "sizemode": "area",
            "sizeref": 0.15092,
            "symbol": "circle"
           },
           "mode": "markers",
           "name": "France",
           "orientation": "v",
           "showlegend": true,
           "type": "scatter",
           "x": [
            "France"
           ],
           "xaxis": "x",
           "y": {
            "bdata": "MzMzMzMzMEA=",
            "dtype": "f8"
           },
           "yaxis": "y"
          },
          {
           "hovertemplate": "<b>%{hovertext}</b><br><br>Country=%{x}<br>TIME_PERIOD=2020<br>Circular Use Rate (%)=%{y}<br>Total_Circular_Use=%{marker.size}<extra></extra>",
           "hovertext": [
            "Belgium"
           ],
           "legendgroup": "Belgium",
           "marker": {
            "color": "#ab63fa",
            "size": {
             "bdata": "zczMzMwscEA=",
             "dtype": "f8"
            },
            "sizemode": "area",
            "sizeref": 0.15092,
            "symbol": "circle"
           },
           "mode": "markers",
           "name": "Belgium",
           "orientation": "v",
           "showlegend": true,
           "type": "scatter",
           "x": [
            "Belgium"
           ],
           "xaxis": "x",
           "y": {
            "bdata": "ZmZmZmbmNkA=",
            "dtype": "f8"
           },
           "yaxis": "y"
          },
          {
           "hovertemplate": "<b>%{hovertext}</b><br><br>Country=%{x}<br>TIME_PERIOD=2020<br>Circular Use Rate (%)=%{y}<br>Total_Circular_Use=%{marker.size}<extra></extra>",
           "hovertext": [
            "Italy"
           ],
           "legendgroup": "Italy",
           "marker": {
            "color": "#FFA15A",
            "size": {
             "bdata": "zczMzMw8bkA=",
             "dtype": "f8"
            },
            "sizemode": "area",
            "sizeref": 0.15092,
            "symbol": "circle"
           },
           "mode": "markers",
           "name": "Italy",
           "orientation": "v",
           "showlegend": true,
           "type": "scatter",
           "x": [
            "Italy"
           ],
           "xaxis": "x",
           "y": {
            "bdata": "mpmZmZmZNEA=",
            "dtype": "f8"
           },
           "yaxis": "y"
          },
          {
           "hovertemplate": "<b>%{hovertext}</b><br><br>Country=%{x}<br>TIME_PERIOD=2020<br>Circular Use Rate (%)=%{y}<br>Total_Circular_Use=%{marker.size}<extra></extra>",
           "hovertext": [
            "Germany"
           ],
           "legendgroup": "Germany",
           "marker": {
            "color": "#19d3f3",
            "size": {
             "bdata": "zczMzMy8ZEA=",
             "dtype": "f8"
            },
            "sizemode": "area",
            "sizeref": 0.15092,
            "symbol": "circle"
           },
           "mode": "markers",
           "name": "Germany",
           "orientation": "v",
           "showlegend": true,
           "type": "scatter",
           "x": [
            "Germany"
           ],
           "xaxis": "x",
           "y": {
            "bdata": "mpmZmZmZKUA=",
            "dtype": "f8"
           },
           "yaxis": "y"
          },
          {
           "hovertemplate": "<b>%{hovertext}</b><br><br>Country=%{x}<br>TIME_PERIOD=2020<br>Circular Use Rate (%)=%{y}<br>Total_Circular_Use=%{marker.size}<extra></extra>",
           "hovertext": [
            "Estonia"
           ],
           "legendgroup": "Estonia",
           "marker": {
            "color": "#FECB52",
            "size": {
             "bdata": "AAAAAAAwakA=",
             "dtype": "f8"
            },
            "sizemode": "area",
            "sizeref": 0.15092,
            "symbol": "circle"
           },
           "mode": "markers",
           "name": "Estonia",
           "orientation": "v",
           "showlegend": true,
           "type": "scatter",
           "x": [
            "Estonia"
           ],
           "xaxis": "x",
           "y": {
            "bdata": "ZmZmZmZmMEA=",
            "dtype": "f8"
           },
           "yaxis": "y"
          },
          {
           "hovertemplate": "<b>%{hovertext}</b><br><br>Country=%{x}<br>TIME_PERIOD=2020<br>Circular Use Rate (%)=%{y}<br>Total_Circular_Use=%{marker.size}<extra></extra>",
           "hovertext": [
            "Austria"
           ],
           "legendgroup": "Austria",
           "marker": {
            "color": "#EF553B",
            "size": {
             "bdata": "zczMzMyMYkA=",
             "dtype": "f8"
            },
            "sizemode": "area",
            "sizeref": 0.15092,
            "symbol": "circle"
           },
           "mode": "markers",
           "name": "Austria",
           "orientation": "v",
           "showlegend": true,
           "type": "scatter",
           "x": [
            "Austria"
           ],
           "xaxis": "x",
           "y": {
            "bdata": "zczMzMzMJkA=",
            "dtype": "f8"
           },
           "yaxis": "y"
          },
          {
           "hovertemplate": "<b>%{hovertext}</b><br><br>Country=%{x}<br>TIME_PERIOD=2020<br>Circular Use Rate (%)=%{y}<br>Total_Circular_Use=%{marker.size}<extra></extra>",
           "hovertext": [
            "Czechia"
           ],
           "legendgroup": "Czechia",
           "marker": {
            "color": "#ab63fa",
            "size": {
             "bdata": "zczMzMxsXkA=",
             "dtype": "f8"
            },
            "sizemode": "area",
            "sizeref": 0.15092,
            "symbol": "circle"
           },
           "mode": "markers",
           "name": "Czechia",
           "orientation": "v",
           "showlegend": true,
           "type": "scatter",
           "x": [
            "Czechia"
           ],
           "xaxis": "x",
           "y": {
            "bdata": "AAAAAAAAJ0A=",
            "dtype": "f8"
           },
           "yaxis": "y"
          },
          {
           "hovertemplate": "<b>%{hovertext}</b><br><br>Country=%{x}<br>TIME_PERIOD=2020<br>Circular Use Rate (%)=%{y}<br>Total_Circular_Use=%{marker.size}<extra></extra>",
           "hovertext": [
            "Malta"
           ],
           "legendgroup": "Malta",
           "marker": {
            "color": "#FFA15A",
            "size": {
             "bdata": "mpmZmZl5YUA=",
             "dtype": "f8"
            },
            "sizemode": "area",
            "sizeref": 0.15092,
            "symbol": "circle"
           },
           "mode": "markers",
           "name": "Malta",
           "orientation": "v",
           "showlegend": true,
           "type": "scatter",
           "x": [
            "Malta"
           ],
           "xaxis": "x",
           "y": {
            "bdata": "AAAAAACAMEA=",
            "dtype": "f8"
           },
           "yaxis": "y"
          },
          {
           "hovertemplate": "<b>%{hovertext}</b><br><br>Country=%{x}<br>TIME_PERIOD=2020<br>Circular Use Rate (%)=%{y}<br>Total_Circular_Use=%{marker.size}<extra></extra>",
           "hovertext": [
            "Slovakia"
           ],
           "legendgroup": "Slovakia",
           "marker": {
            "color": "#19d3f3",
            "size": {
             "bdata": "mpmZmZl5V0A=",
             "dtype": "f8"
            },
            "sizemode": "area",
            "sizeref": 0.15092,
            "symbol": "circle"
           },
           "mode": "markers",
           "name": "Slovakia",
           "orientation": "v",
           "showlegend": true,
           "type": "scatter",
           "x": [
            "Slovakia"
           ],
           "xaxis": "x",
           "y": {
            "bdata": "mpmZmZmZJEA=",
            "dtype": "f8"
           },
           "yaxis": "y"
          }
         ],
         "name": "2020"
        },
        {
         "data": [
          {
           "hovertemplate": "<b>%{hovertext}</b><br><br>Country=%{x}<br>TIME_PERIOD=2021<br>Circular Use Rate (%)=%{y}<br>Total_Circular_Use=%{marker.size}<extra></extra>",
           "hovertext": [
            "Netherlands"
           ],
           "legendgroup": "Netherlands",
           "marker": {
            "color": "#636efa",
            "size": {
             "bdata": "zczMzMyUd0A=",
             "dtype": "f8"
            },
            "sizemode": "area",
            "sizeref": 0.15092,
            "symbol": "circle"
           },
           "mode": "markers",
           "name": "Netherlands",
           "orientation": "v",
           "showlegend": true,
           "type": "scatter",
           "x": [
            "Netherlands"
           ],
           "xaxis": "x",
           "y": {
            "bdata": "AAAAAACAPEA=",
            "dtype": "f8"
           },
           "yaxis": "y"
          },
          {
           "hovertemplate": "<b>%{hovertext}</b><br><br>Country=%{x}<br>TIME_PERIOD=2021<br>Circular Use Rate (%)=%{y}<br>Total_Circular_Use=%{marker.size}<extra></extra>",
           "hovertext": [
            "France"
           ],
           "legendgroup": "France",
           "marker": {
            "color": "#00cc96",
            "size": {
             "bdata": "mpmZmZnZbkA=",
             "dtype": "f8"
            },
            "sizemode": "area",
            "sizeref": 0.15092,
            "symbol": "circle"
           },
           "mode": "markers",
           "name": "France",
           "orientation": "v",
           "showlegend": true,
           "type": "scatter",
           "x": [
            "France"
           ],
           "xaxis": "x",
           "y": {
            "bdata": "zczMzMzML0A=",
            "dtype": "f8"
           },
           "yaxis": "y"
          },
          {
           "hovertemplate": "<b>%{hovertext}</b><br><br>Country=%{x}<br>TIME_PERIOD=2021<br>Circular Use Rate (%)=%{y}<br>Total_Circular_Use=%{marker.size}<extra></extra>",
           "hovertext": [
            "Belgium"
           ],
           "legendgroup": "Belgium",
           "marker": {
            "color": "#ab63fa",
            "size": {
             "bdata": "zczMzMwscEA=",
             "dtype": "f8"
            },
            "sizemode": "area",
            "sizeref": 0.15092,
            "symbol": "circle"
           },
           "mode": "markers",
           "name": "Belgium",
           "orientation": "v",
           "showlegend": true,
           "type": "scatter",
           "x": [
            "Belgium"
           ],
           "xaxis": "x",
           "y": {
            "bdata": "ZmZmZmZmNUA=",
            "dtype": "f8"
           },
           "yaxis": "y"
          },
          {
           "hovertemplate": "<b>%{hovertext}</b><br><br>Country=%{x}<br>TIME_PERIOD=2021<br>Circular Use Rate (%)=%{y}<br>Total_Circular_Use=%{marker.size}<extra></extra>",
           "hovertext": [
            "Italy"
           ],
           "legendgroup": "Italy",
           "marker": {
            "color": "#FFA15A",
            "size": {
             "bdata": "zczMzMw8bkA=",
             "dtype": "f8"
            },
            "sizemode": "area",
            "sizeref": 0.15092,
            "symbol": "circle"
           },
           "mode": "markers",
           "name": "Italy",
           "orientation": "v",
           "showlegend": true,
           "type": "scatter",
           "x": [
            "Italy"
           ],
           "xaxis": "x",
           "y": {
            "bdata": "MzMzMzOzM0A=",
            "dtype": "f8"
           },
           "yaxis": "y"
          },
          {
           "hovertemplate": "<b>%{hovertext}</b><br><br>Country=%{x}<br>TIME_PERIOD=2021<br>Circular Use Rate (%)=%{y}<br>Total_Circular_Use=%{marker.size}<extra></extra>",
           "hovertext": [
            "Germany"
           ],
           "legendgroup": "Germany",
           "marker": {
            "color": "#19d3f3",
            "size": {
             "bdata": "zczMzMy8ZEA=",
             "dtype": "f8"
            },
            "sizemode": "area",
            "sizeref": 0.15092,
            "symbol": "circle"
           },
           "mode": "markers",
           "name": "Germany",
           "orientation": "v",
           "showlegend": true,
           "type": "scatter",
           "x": [
            "Germany"
           ],
           "xaxis": "x",
           "y": {
            "bdata": "ZmZmZmZmKEA=",
            "dtype": "f8"
           },
           "yaxis": "y"
          },
          {
           "hovertemplate": "<b>%{hovertext}</b><br><br>Country=%{x}<br>TIME_PERIOD=2021<br>Circular Use Rate (%)=%{y}<br>Total_Circular_Use=%{marker.size}<extra></extra>",
           "hovertext": [
            "Estonia"
           ],
           "legendgroup": "Estonia",
           "marker": {
            "color": "#FECB52",
            "size": {
             "bdata": "AAAAAAAwakA=",
             "dtype": "f8"
            },
            "sizemode": "area",
            "sizeref": 0.15092,
            "symbol": "circle"
           },
           "mode": "markers",
           "name": "Estonia",
           "orientation": "v",
           "showlegend": true,
           "type": "scatter",
           "x": [
            "Estonia"
           ],
           "xaxis": "x",
           "y": {
            "bdata": "AAAAAAAANEA=",
            "dtype": "f8"
           },
           "yaxis": "y"
          },
          {
           "hovertemplate": "<b>%{hovertext}</b><br><br>Country=%{x}<br>TIME_PERIOD=2021<br>Circular Use Rate (%)=%{y}<br>Total_Circular_Use=%{marker.size}<extra></extra>",
           "hovertext": [
            "Austria"
           ],
           "legendgroup": "Austria",
           "marker": {
            "color": "#EF553B",
            "size": {
             "bdata": "zczMzMyMYkA=",
             "dtype": "f8"
            },
            "sizemode": "area",
            "sizeref": 0.15092,
            "symbol": "circle"
           },
           "mode": "markers",
           "name": "Austria",
           "orientation": "v",
           "showlegend": true,
           "type": "scatter",
           "x": [
            "Austria"
           ],
           "xaxis": "x",
           "y": {
            "bdata": "mpmZmZmZJkA=",
            "dtype": "f8"
           },
           "yaxis": "y"
          },
          {
           "hovertemplate": "<b>%{hovertext}</b><br><br>Country=%{x}<br>TIME_PERIOD=2021<br>Circular Use Rate (%)=%{y}<br>Total_Circular_Use=%{marker.size}<extra></extra>",
           "hovertext": [
            "Czechia"
           ],
           "legendgroup": "Czechia",
           "marker": {
            "color": "#ab63fa",
            "size": {
             "bdata": "zczMzMxsXkA=",
             "dtype": "f8"
            },
            "sizemode": "area",
            "sizeref": 0.15092,
            "symbol": "circle"
           },
           "mode": "markers",
           "name": "Czechia",
           "orientation": "v",
           "showlegend": true,
           "type": "scatter",
           "x": [
            "Czechia"
           ],
           "xaxis": "x",
           "y": {
            "bdata": "AAAAAAAAJkA=",
            "dtype": "f8"
           },
           "yaxis": "y"
          },
          {
           "hovertemplate": "<b>%{hovertext}</b><br><br>Country=%{x}<br>TIME_PERIOD=2021<br>Circular Use Rate (%)=%{y}<br>Total_Circular_Use=%{marker.size}<extra></extra>",
           "hovertext": [
            "Malta"
           ],
           "legendgroup": "Malta",
           "marker": {
            "color": "#FFA15A",
            "size": {
             "bdata": "mpmZmZl5YUA=",
             "dtype": "f8"
            },
            "sizemode": "area",
            "sizeref": 0.15092,
            "symbol": "circle"
           },
           "mode": "markers",
           "name": "Malta",
           "orientation": "v",
           "showlegend": true,
           "type": "scatter",
           "x": [
            "Malta"
           ],
           "xaxis": "x",
           "y": {
            "bdata": "MzMzMzMzM0A=",
            "dtype": "f8"
           },
           "yaxis": "y"
          },
          {
           "hovertemplate": "<b>%{hovertext}</b><br><br>Country=%{x}<br>TIME_PERIOD=2021<br>Circular Use Rate (%)=%{y}<br>Total_Circular_Use=%{marker.size}<extra></extra>",
           "hovertext": [
            "Slovakia"
           ],
           "legendgroup": "Slovakia",
           "marker": {
            "color": "#19d3f3",
            "size": {
             "bdata": "mpmZmZl5V0A=",
             "dtype": "f8"
            },
            "sizemode": "area",
            "sizeref": 0.15092,
            "symbol": "circle"
           },
           "mode": "markers",
           "name": "Slovakia",
           "orientation": "v",
           "showlegend": true,
           "type": "scatter",
           "x": [
            "Slovakia"
           ],
           "xaxis": "x",
           "y": {
            "bdata": "zczMzMzMJEA=",
            "dtype": "f8"
           },
           "yaxis": "y"
          }
         ],
         "name": "2021"
        },
        {
         "data": [
          {
           "hovertemplate": "<b>%{hovertext}</b><br><br>Country=%{x}<br>TIME_PERIOD=2022<br>Circular Use Rate (%)=%{y}<br>Total_Circular_Use=%{marker.size}<extra></extra>",
           "hovertext": [
            "Netherlands"
           ],
           "legendgroup": "Netherlands",
           "marker": {
            "color": "#636efa",
            "size": {
             "bdata": "zczMzMyUd0A=",
             "dtype": "f8"
            },
            "sizemode": "area",
            "sizeref": 0.15092,
            "symbol": "circle"
           },
           "mode": "markers",
           "name": "Netherlands",
           "orientation": "v",
           "showlegend": true,
           "type": "scatter",
           "x": [
            "Netherlands"
           ],
           "xaxis": "x",
           "y": {
            "bdata": "MzMzMzMzO0A=",
            "dtype": "f8"
           },
           "yaxis": "y"
          },
          {
           "hovertemplate": "<b>%{hovertext}</b><br><br>Country=%{x}<br>TIME_PERIOD=2022<br>Circular Use Rate (%)=%{y}<br>Total_Circular_Use=%{marker.size}<extra></extra>",
           "hovertext": [
            "Luxembourg"
           ],
           "legendgroup": "Luxembourg",
           "marker": {
            "color": "#EF553B",
            "size": {
             "bdata": "mpmZmZnZZUA=",
             "dtype": "f8"
            },
            "sizemode": "area",
            "sizeref": 0.15092,
            "symbol": "circle"
           },
           "mode": "markers",
           "name": "Luxembourg",
           "orientation": "v",
           "showlegend": true,
           "type": "scatter",
           "x": [
            "Luxembourg"
           ],
           "xaxis": "x",
           "y": {
            "bdata": "mpmZmZmZKEA=",
            "dtype": "f8"
           },
           "yaxis": "y"
          },
          {
           "hovertemplate": "<b>%{hovertext}</b><br><br>Country=%{x}<br>TIME_PERIOD=2022<br>Circular Use Rate (%)=%{y}<br>Total_Circular_Use=%{marker.size}<extra></extra>",
           "hovertext": [
            "France"
           ],
           "legendgroup": "France",
           "marker": {
            "color": "#00cc96",
            "size": {
             "bdata": "mpmZmZnZbkA=",
             "dtype": "f8"
            },
            "sizemode": "area",
            "sizeref": 0.15092,
            "symbol": "circle"
           },
           "mode": "markers",
           "name": "France",
           "orientation": "v",
           "showlegend": true,
           "type": "scatter",
           "x": [
            "France"
           ],
           "xaxis": "x",
           "y": {
            "bdata": "AAAAAACAMUA=",
            "dtype": "f8"
           },
           "yaxis": "y"
          },
          {
           "hovertemplate": "<b>%{hovertext}</b><br><br>Country=%{x}<br>TIME_PERIOD=2022<br>Circular Use Rate (%)=%{y}<br>Total_Circular_Use=%{marker.size}<extra></extra>",
           "hovertext": [
            "Belgium"
           ],
           "legendgroup": "Belgium",
           "marker": {
            "color": "#ab63fa",
            "size": {
             "bdata": "zczMzMwscEA=",
             "dtype": "f8"
            },
            "sizemode": "area",
            "sizeref": 0.15092,
            "symbol": "circle"
           },
           "mode": "markers",
           "name": "Belgium",
           "orientation": "v",
           "showlegend": true,
           "type": "scatter",
           "x": [
            "Belgium"
           ],
           "xaxis": "x",
           "y": {
            "bdata": "zczMzMxMMkA=",
            "dtype": "f8"
           },
           "yaxis": "y"
          },
          {
           "hovertemplate": "<b>%{hovertext}</b><br><br>Country=%{x}<br>TIME_PERIOD=2022<br>Circular Use Rate (%)=%{y}<br>Total_Circular_Use=%{marker.size}<extra></extra>",
           "hovertext": [
            "Italy"
           ],
           "legendgroup": "Italy",
           "marker": {
            "color": "#FFA15A",
            "size": {
             "bdata": "zczMzMw8bkA=",
             "dtype": "f8"
            },
            "sizemode": "area",
            "sizeref": 0.15092,
            "symbol": "circle"
           },
           "mode": "markers",
           "name": "Italy",
           "orientation": "v",
           "showlegend": true,
           "type": "scatter",
           "x": [
            "Italy"
           ],
           "xaxis": "x",
           "y": {
            "bdata": "mpmZmZmZNEA=",
            "dtype": "f8"
           },
           "yaxis": "y"
          },
          {
           "hovertemplate": "<b>%{hovertext}</b><br><br>Country=%{x}<br>TIME_PERIOD=2022<br>Circular Use Rate (%)=%{y}<br>Total_Circular_Use=%{marker.size}<extra></extra>",
           "hovertext": [
            "Germany"
           ],
           "legendgroup": "Germany",
           "marker": {
            "color": "#19d3f3",
            "size": {
             "bdata": "zczMzMy8ZEA=",
             "dtype": "f8"
            },
            "sizemode": "area",
            "sizeref": 0.15092,
            "symbol": "circle"
           },
           "mode": "markers",
           "name": "Germany",
           "orientation": "v",
           "showlegend": true,
           "type": "scatter",
           "x": [
            "Germany"
           ],
           "xaxis": "x",
           "y": {
            "bdata": "AAAAAAAAKUA=",
            "dtype": "f8"
           },
           "yaxis": "y"
          },
          {
           "hovertemplate": "<b>%{hovertext}</b><br><br>Country=%{x}<br>TIME_PERIOD=2022<br>Circular Use Rate (%)=%{y}<br>Total_Circular_Use=%{marker.size}<extra></extra>",
           "hovertext": [
            "Estonia"
           ],
           "legendgroup": "Estonia",
           "marker": {
            "color": "#FECB52",
            "size": {
             "bdata": "AAAAAAAwakA=",
             "dtype": "f8"
            },
            "sizemode": "area",
            "sizeref": 0.15092,
            "symbol": "circle"
           },
           "mode": "markers",
           "name": "Estonia",
           "orientation": "v",
           "showlegend": true,
           "type": "scatter",
           "x": [
            "Estonia"
           ],
           "xaxis": "x",
           "y": {
            "bdata": "ZmZmZmZmNUA=",
            "dtype": "f8"
           },
           "yaxis": "y"
          },
          {
           "hovertemplate": "<b>%{hovertext}</b><br><br>Country=%{x}<br>TIME_PERIOD=2022<br>Circular Use Rate (%)=%{y}<br>Total_Circular_Use=%{marker.size}<extra></extra>",
           "hovertext": [
            "Austria"
           ],
           "legendgroup": "Austria",
           "marker": {
            "color": "#EF553B",
            "size": {
             "bdata": "zczMzMyMYkA=",
             "dtype": "f8"
            },
            "sizemode": "area",
            "sizeref": 0.15092,
            "symbol": "circle"
           },
           "mode": "markers",
           "name": "Austria",
           "orientation": "v",
           "showlegend": true,
           "type": "scatter",
           "x": [
            "Austria"
           ],
           "xaxis": "x",
           "y": {
            "bdata": "zczMzMzMKEA=",
            "dtype": "f8"
           },
           "yaxis": "y"
          },
          {
           "hovertemplate": "<b>%{hovertext}</b><br><br>Country=%{x}<br>TIME_PERIOD=2022<br>Circular Use Rate (%)=%{y}<br>Total_Circular_Use=%{marker.size}<extra></extra>",
           "hovertext": [
            "Malta"
           ],
           "legendgroup": "Malta",
           "marker": {
            "color": "#FFA15A",
            "size": {
             "bdata": "mpmZmZl5YUA=",
             "dtype": "f8"
            },
            "sizemode": "area",
            "sizeref": 0.15092,
            "symbol": "circle"
           },
           "mode": "markers",
           "name": "Malta",
           "orientation": "v",
           "showlegend": true,
           "type": "scatter",
           "x": [
            "Malta"
           ],
           "xaxis": "x",
           "y": {
            "bdata": "AAAAAACANUA=",
            "dtype": "f8"
           },
           "yaxis": "y"
          },
          {
           "hovertemplate": "<b>%{hovertext}</b><br><br>Country=%{x}<br>TIME_PERIOD=2022<br>Circular Use Rate (%)=%{y}<br>Total_Circular_Use=%{marker.size}<extra></extra>",
           "hovertext": [
            "Sweden"
           ],
           "legendgroup": "Sweden",
           "marker": {
            "color": "#FF6692",
            "size": {
             "bdata": "MzMzMzMTW0A=",
             "dtype": "f8"
            },
            "sizemode": "area",
            "sizeref": 0.15092,
            "symbol": "circle"
           },
           "mode": "markers",
           "name": "Sweden",
           "orientation": "v",
           "showlegend": true,
           "type": "scatter",
           "x": [
            "Sweden"
           ],
           "xaxis": "x",
           "y": {
            "bdata": "MzMzMzMzKEA=",
            "dtype": "f8"
           },
           "yaxis": "y"
          }
         ],
         "name": "2022"
        },
        {
         "data": [
          {
           "hovertemplate": "<b>%{hovertext}</b><br><br>Country=%{x}<br>TIME_PERIOD=2023<br>Circular Use Rate (%)=%{y}<br>Total_Circular_Use=%{marker.size}<extra></extra>",
           "hovertext": [
            "Netherlands"
           ],
           "legendgroup": "Netherlands",
           "marker": {
            "color": "#636efa",
            "size": {
             "bdata": "zczMzMyUd0A=",
             "dtype": "f8"
            },
            "sizemode": "area",
            "sizeref": 0.15092,
            "symbol": "circle"
           },
           "mode": "markers",
           "name": "Netherlands",
           "orientation": "v",
           "showlegend": true,
           "type": "scatter",
           "x": [
            "Netherlands"
           ],
           "xaxis": "x",
           "y": {
            "bdata": "mpmZmZmZPkA=",
            "dtype": "f8"
           },
           "yaxis": "y"
          },
          {
           "hovertemplate": "<b>%{hovertext}</b><br><br>Country=%{x}<br>TIME_PERIOD=2023<br>Circular Use Rate (%)=%{y}<br>Total_Circular_Use=%{marker.size}<extra></extra>",
           "hovertext": [
            "France"
           ],
           "legendgroup": "France",
           "marker": {
            "color": "#00cc96",
            "size": {
             "bdata": "mpmZmZnZbkA=",
             "dtype": "f8"
            },
            "sizemode": "area",
            "sizeref": 0.15092,
            "symbol": "circle"
           },
           "mode": "markers",
           "name": "France",
           "orientation": "v",
           "showlegend": true,
           "type": "scatter",
           "x": [
            "France"
           ],
           "xaxis": "x",
           "y": {
            "bdata": "mpmZmZmZMUA=",
            "dtype": "f8"
           },
           "yaxis": "y"
          },
          {
           "hovertemplate": "<b>%{hovertext}</b><br><br>Country=%{x}<br>TIME_PERIOD=2023<br>Circular Use Rate (%)=%{y}<br>Total_Circular_Use=%{marker.size}<extra></extra>",
           "hovertext": [
            "Belgium"
           ],
           "legendgroup": "Belgium",
           "marker": {
            "color": "#ab63fa",
            "size": {
             "bdata": "zczMzMwscEA=",
             "dtype": "f8"
            },
            "sizemode": "area",
            "sizeref": 0.15092,
            "symbol": "circle"
           },
           "mode": "markers",
           "name": "Belgium",
           "orientation": "v",
           "showlegend": true,
           "type": "scatter",
           "x": [
            "Belgium"
           ],
           "xaxis": "x",
           "y": {
            "bdata": "MzMzMzOzM0A=",
            "dtype": "f8"
           },
           "yaxis": "y"
          },
          {
           "hovertemplate": "<b>%{hovertext}</b><br><br>Country=%{x}<br>TIME_PERIOD=2023<br>Circular Use Rate (%)=%{y}<br>Total_Circular_Use=%{marker.size}<extra></extra>",
           "hovertext": [
            "Italy"
           ],
           "legendgroup": "Italy",
           "marker": {
            "color": "#FFA15A",
            "size": {
             "bdata": "zczMzMw8bkA=",
             "dtype": "f8"
            },
            "sizemode": "area",
            "sizeref": 0.15092,
            "symbol": "circle"
           },
           "mode": "markers",
           "name": "Italy",
           "orientation": "v",
           "showlegend": true,
           "type": "scatter",
           "x": [
            "Italy"
           ],
           "xaxis": "x",
           "y": {
            "bdata": "zczMzMzMNEA=",
            "dtype": "f8"
           },
           "yaxis": "y"
          },
          {
           "hovertemplate": "<b>%{hovertext}</b><br><br>Country=%{x}<br>TIME_PERIOD=2023<br>Circular Use Rate (%)=%{y}<br>Total_Circular_Use=%{marker.size}<extra></extra>",
           "hovertext": [
            "Germany"
           ],
           "legendgroup": "Germany",
           "marker": {
            "color": "#19d3f3",
            "size": {
             "bdata": "zczMzMy8ZEA=",
             "dtype": "f8"
            },
            "sizemode": "area",
            "sizeref": 0.15092,
            "symbol": "circle"
           },
           "mode": "markers",
           "name": "Germany",
           "orientation": "v",
           "showlegend": true,
           "type": "scatter",
           "x": [
            "Germany"
           ],
           "xaxis": "x",
           "y": {
            "bdata": "zczMzMzMK0A=",
            "dtype": "f8"
           },
           "yaxis": "y"
          },
          {
           "hovertemplate": "<b>%{hovertext}</b><br><br>Country=%{x}<br>TIME_PERIOD=2023<br>Circular Use Rate (%)=%{y}<br>Total_Circular_Use=%{marker.size}<extra></extra>",
           "hovertext": [
            "Estonia"
           ],
           "legendgroup": "Estonia",
           "marker": {
            "color": "#FECB52",
            "size": {
             "bdata": "AAAAAAAwakA=",
             "dtype": "f8"
            },
            "sizemode": "area",
            "sizeref": 0.15092,
            "symbol": "circle"
           },
           "mode": "markers",
           "name": "Estonia",
           "orientation": "v",
           "showlegend": true,
           "type": "scatter",
           "x": [
            "Estonia"
           ],
           "xaxis": "x",
           "y": {
            "bdata": "mpmZmZkZMkA=",
            "dtype": "f8"
           },
           "yaxis": "y"
          },
          {
           "hovertemplate": "<b>%{hovertext}</b><br><br>Country=%{x}<br>TIME_PERIOD=2023<br>Circular Use Rate (%)=%{y}<br>Total_Circular_Use=%{marker.size}<extra></extra>",
           "hovertext": [
            "Austria"
           ],
           "legendgroup": "Austria",
           "marker": {
            "color": "#EF553B",
            "size": {
             "bdata": "zczMzMyMYkA=",
             "dtype": "f8"
            },
            "sizemode": "area",
            "sizeref": 0.15092,
            "symbol": "circle"
           },
           "mode": "markers",
           "name": "Austria",
           "orientation": "v",
           "showlegend": true,
           "type": "scatter",
           "x": [
            "Austria"
           ],
           "xaxis": "x",
           "y": {
            "bdata": "mpmZmZmZLEA=",
            "dtype": "f8"
           },
           "yaxis": "y"
          },
          {
           "hovertemplate": "<b>%{hovertext}</b><br><br>Country=%{x}<br>TIME_PERIOD=2023<br>Circular Use Rate (%)=%{y}<br>Total_Circular_Use=%{marker.size}<extra></extra>",
           "hovertext": [
            "Czechia"
           ],
           "legendgroup": "Czechia",
           "marker": {
            "color": "#ab63fa",
            "size": {
             "bdata": "zczMzMxsXkA=",
             "dtype": "f8"
            },
            "sizemode": "area",
            "sizeref": 0.15092,
            "symbol": "circle"
           },
           "mode": "markers",
           "name": "Czechia",
           "orientation": "v",
           "showlegend": true,
           "type": "scatter",
           "x": [
            "Czechia"
           ],
           "xaxis": "x",
           "y": {
            "bdata": "mpmZmZmZKUA=",
            "dtype": "f8"
           },
           "yaxis": "y"
          },
          {
           "hovertemplate": "<b>%{hovertext}</b><br><br>Country=%{x}<br>TIME_PERIOD=2023<br>Circular Use Rate (%)=%{y}<br>Total_Circular_Use=%{marker.size}<extra></extra>",
           "hovertext": [
            "Malta"
           ],
           "legendgroup": "Malta",
           "marker": {
            "color": "#FFA15A",
            "size": {
             "bdata": "mpmZmZl5YUA=",
             "dtype": "f8"
            },
            "sizemode": "area",
            "sizeref": 0.15092,
            "symbol": "circle"
           },
           "mode": "markers",
           "name": "Malta",
           "orientation": "v",
           "showlegend": true,
           "type": "scatter",
           "x": [
            "Malta"
           ],
           "xaxis": "x",
           "y": {
            "bdata": "zczMzMzMM0A=",
            "dtype": "f8"
           },
           "yaxis": "y"
          },
          {
           "hovertemplate": "<b>%{hovertext}</b><br><br>Country=%{x}<br>TIME_PERIOD=2023<br>Circular Use Rate (%)=%{y}<br>Total_Circular_Use=%{marker.size}<extra></extra>",
           "hovertext": [
            "Slovakia"
           ],
           "legendgroup": "Slovakia",
           "marker": {
            "color": "#19d3f3",
            "size": {
             "bdata": "mpmZmZl5V0A=",
             "dtype": "f8"
            },
            "sizemode": "area",
            "sizeref": 0.15092,
            "symbol": "circle"
           },
           "mode": "markers",
           "name": "Slovakia",
           "orientation": "v",
           "showlegend": true,
           "type": "scatter",
           "x": [
            "Slovakia"
           ],
           "xaxis": "x",
           "y": {
            "bdata": "MzMzMzMzJUA=",
            "dtype": "f8"
           },
           "yaxis": "y"
          }
         ],
         "name": "2023"
        }
       ],
       "layout": {
        "hovermode": "closest",
        "legend": {
         "itemsizing": "constant",
         "title": {
          "text": "Country"
         },
         "tracegroupgap": 0
        },
        "sliders": [
         {
          "active": 0,
          "currentvalue": {
           "prefix": "TIME_PERIOD="
          },
          "len": 0.9,
          "pad": {
           "b": 10,
           "t": 60
          },
          "steps": [
           {
            "args": [
             [
              "2010"
             ],
             {
              "frame": {
               "duration": 0,
               "redraw": false
              },
              "fromcurrent": true,
              "mode": "immediate",
              "transition": {
               "duration": 0,
               "easing": "linear"
              }
             }
            ],
            "label": "2010",
            "method": "animate"
           },
           {
            "args": [
             [
              "2011"
             ],
             {
              "frame": {
               "duration": 0,
               "redraw": false
              },
              "fromcurrent": true,
              "mode": "immediate",
              "transition": {
               "duration": 0,
               "easing": "linear"
              }
             }
            ],
            "label": "2011",
            "method": "animate"
           },
           {
            "args": [
             [
              "2012"
             ],
             {
              "frame": {
               "duration": 0,
               "redraw": false
              },
              "fromcurrent": true,
              "mode": "immediate",
              "transition": {
               "duration": 0,
               "easing": "linear"
              }
             }
            ],
            "label": "2012",
            "method": "animate"
           },
           {
            "args": [
             [
              "2013"
             ],
             {
              "frame": {
               "duration": 0,
               "redraw": false
              },
              "fromcurrent": true,
              "mode": "immediate",
              "transition": {
               "duration": 0,
               "easing": "linear"
              }
             }
            ],
            "label": "2013",
            "method": "animate"
           },
           {
            "args": [
             [
              "2014"
             ],
             {
              "frame": {
               "duration": 0,
               "redraw": false
              },
              "fromcurrent": true,
              "mode": "immediate",
              "transition": {
               "duration": 0,
               "easing": "linear"
              }
             }
            ],
            "label": "2014",
            "method": "animate"
           },
           {
            "args": [
             [
              "2015"
             ],
             {
              "frame": {
               "duration": 0,
               "redraw": false
              },
              "fromcurrent": true,
              "mode": "immediate",
              "transition": {
               "duration": 0,
               "easing": "linear"
              }
             }
            ],
            "label": "2015",
            "method": "animate"
           },
           {
            "args": [
             [
              "2016"
             ],
             {
              "frame": {
               "duration": 0,
               "redraw": false
              },
              "fromcurrent": true,
              "mode": "immediate",
              "transition": {
               "duration": 0,
               "easing": "linear"
              }
             }
            ],
            "label": "2016",
            "method": "animate"
           },
           {
            "args": [
             [
              "2017"
             ],
             {
              "frame": {
               "duration": 0,
               "redraw": false
              },
              "fromcurrent": true,
              "mode": "immediate",
              "transition": {
               "duration": 0,
               "easing": "linear"
              }
             }
            ],
            "label": "2017",
            "method": "animate"
           },
           {
            "args": [
             [
              "2018"
             ],
             {
              "frame": {
               "duration": 0,
               "redraw": false
              },
              "fromcurrent": true,
              "mode": "immediate",
              "transition": {
               "duration": 0,
               "easing": "linear"
              }
             }
            ],
            "label": "2018",
            "method": "animate"
           },
           {
            "args": [
             [
              "2019"
             ],
             {
              "frame": {
               "duration": 0,
               "redraw": false
              },
              "fromcurrent": true,
              "mode": "immediate",
              "transition": {
               "duration": 0,
               "easing": "linear"
              }
             }
            ],
            "label": "2019",
            "method": "animate"
           },
           {
            "args": [
             [
              "2020"
             ],
             {
              "frame": {
               "duration": 0,
               "redraw": false
              },
              "fromcurrent": true,
              "mode": "immediate",
              "transition": {
               "duration": 0,
               "easing": "linear"
              }
             }
            ],
            "label": "2020",
            "method": "animate"
           },
           {
            "args": [
             [
              "2021"
             ],
             {
              "frame": {
               "duration": 0,
               "redraw": false
              },
              "fromcurrent": true,
              "mode": "immediate",
              "transition": {
               "duration": 0,
               "easing": "linear"
              }
             }
            ],
            "label": "2021",
            "method": "animate"
           },
           {
            "args": [
             [
              "2022"
             ],
             {
              "frame": {
               "duration": 0,
               "redraw": false
              },
              "fromcurrent": true,
              "mode": "immediate",
              "transition": {
               "duration": 0,
               "easing": "linear"
              }
             }
            ],
            "label": "2022",
            "method": "animate"
           },
           {
            "args": [
             [
              "2023"
             ],
             {
              "frame": {
               "duration": 0,
               "redraw": false
              },
              "fromcurrent": true,
              "mode": "immediate",
              "transition": {
               "duration": 0,
               "easing": "linear"
              }
             }
            ],
            "label": "2023",
            "method": "animate"
           }
          ],
          "x": 0.1,
          "xanchor": "left",
          "y": 0,
          "yanchor": "top"
         }
        ],
        "template": {
         "data": {
          "bar": [
           {
            "error_x": {
             "color": "#2a3f5f"
            },
            "error_y": {
             "color": "#2a3f5f"
            },
            "marker": {
             "line": {
              "color": "white",
              "width": 0.5
             },
             "pattern": {
              "fillmode": "overlay",
              "size": 10,
              "solidity": 0.2
             }
            },
            "type": "bar"
           }
          ],
          "barpolar": [
           {
            "marker": {
             "line": {
              "color": "white",
              "width": 0.5
             },
             "pattern": {
              "fillmode": "overlay",
              "size": 10,
              "solidity": 0.2
             }
            },
            "type": "barpolar"
           }
          ],
          "carpet": [
           {
            "aaxis": {
             "endlinecolor": "#2a3f5f",
             "gridcolor": "#C8D4E3",
             "linecolor": "#C8D4E3",
             "minorgridcolor": "#C8D4E3",
             "startlinecolor": "#2a3f5f"
            },
            "baxis": {
             "endlinecolor": "#2a3f5f",
             "gridcolor": "#C8D4E3",
             "linecolor": "#C8D4E3",
             "minorgridcolor": "#C8D4E3",
             "startlinecolor": "#2a3f5f"
            },
            "type": "carpet"
           }
          ],
          "choropleth": [
           {
            "colorbar": {
             "outlinewidth": 0,
             "ticks": ""
            },
            "type": "choropleth"
           }
          ],
          "contour": [
           {
            "colorbar": {
             "outlinewidth": 0,
             "ticks": ""
            },
            "colorscale": [
             [
              0,
              "#0d0887"
             ],
             [
              0.1111111111111111,
              "#46039f"
             ],
             [
              0.2222222222222222,
              "#7201a8"
             ],
             [
              0.3333333333333333,
              "#9c179e"
             ],
             [
              0.4444444444444444,
              "#bd3786"
             ],
             [
              0.5555555555555556,
              "#d8576b"
             ],
             [
              0.6666666666666666,
              "#ed7953"
             ],
             [
              0.7777777777777778,
              "#fb9f3a"
             ],
             [
              0.8888888888888888,
              "#fdca26"
             ],
             [
              1,
              "#f0f921"
             ]
            ],
            "type": "contour"
           }
          ],
          "contourcarpet": [
           {
            "colorbar": {
             "outlinewidth": 0,
             "ticks": ""
            },
            "type": "contourcarpet"
           }
          ],
          "heatmap": [
           {
            "colorbar": {
             "outlinewidth": 0,
             "ticks": ""
            },
            "colorscale": [
             [
              0,
              "#0d0887"
             ],
             [
              0.1111111111111111,
              "#46039f"
             ],
             [
              0.2222222222222222,
              "#7201a8"
             ],
             [
              0.3333333333333333,
              "#9c179e"
             ],
             [
              0.4444444444444444,
              "#bd3786"
             ],
             [
              0.5555555555555556,
              "#d8576b"
             ],
             [
              0.6666666666666666,
              "#ed7953"
             ],
             [
              0.7777777777777778,
              "#fb9f3a"
             ],
             [
              0.8888888888888888,
              "#fdca26"
             ],
             [
              1,
              "#f0f921"
             ]
            ],
            "type": "heatmap"
           }
          ],
          "histogram": [
           {
            "marker": {
             "pattern": {
              "fillmode": "overlay",
              "size": 10,
              "solidity": 0.2
             }
            },
            "type": "histogram"
           }
          ],
          "histogram2d": [
           {
            "colorbar": {
             "outlinewidth": 0,
             "ticks": ""
            },
            "colorscale": [
             [
              0,
              "#0d0887"
             ],
             [
              0.1111111111111111,
              "#46039f"
             ],
             [
              0.2222222222222222,
              "#7201a8"
             ],
             [
              0.3333333333333333,
              "#9c179e"
             ],
             [
              0.4444444444444444,
              "#bd3786"
             ],
             [
              0.5555555555555556,
              "#d8576b"
             ],
             [
              0.6666666666666666,
              "#ed7953"
             ],
             [
              0.7777777777777778,
              "#fb9f3a"
             ],
             [
              0.8888888888888888,
              "#fdca26"
             ],
             [
              1,
              "#f0f921"
             ]
            ],
            "type": "histogram2d"
           }
          ],
          "histogram2dcontour": [
           {
            "colorbar": {
             "outlinewidth": 0,
             "ticks": ""
            },
            "colorscale": [
             [
              0,
              "#0d0887"
             ],
             [
              0.1111111111111111,
              "#46039f"
             ],
             [
              0.2222222222222222,
              "#7201a8"
             ],
             [
              0.3333333333333333,
              "#9c179e"
             ],
             [
              0.4444444444444444,
              "#bd3786"
             ],
             [
              0.5555555555555556,
              "#d8576b"
             ],
             [
              0.6666666666666666,
              "#ed7953"
             ],
             [
              0.7777777777777778,
              "#fb9f3a"
             ],
             [
              0.8888888888888888,
              "#fdca26"
             ],
             [
              1,
              "#f0f921"
             ]
            ],
            "type": "histogram2dcontour"
           }
          ],
          "mesh3d": [
           {
            "colorbar": {
             "outlinewidth": 0,
             "ticks": ""
            },
            "type": "mesh3d"
           }
          ],
          "parcoords": [
           {
            "line": {
             "colorbar": {
              "outlinewidth": 0,
              "ticks": ""
             }
            },
            "type": "parcoords"
           }
          ],
          "pie": [
           {
            "automargin": true,
            "type": "pie"
           }
          ],
          "scatter": [
           {
            "fillpattern": {
             "fillmode": "overlay",
             "size": 10,
             "solidity": 0.2
            },
            "type": "scatter"
           }
          ],
          "scatter3d": [
           {
            "line": {
             "colorbar": {
              "outlinewidth": 0,
              "ticks": ""
             }
            },
            "marker": {
             "colorbar": {
              "outlinewidth": 0,
              "ticks": ""
             }
            },
            "type": "scatter3d"
           }
          ],
          "scattercarpet": [
           {
            "marker": {
             "colorbar": {
              "outlinewidth": 0,
              "ticks": ""
             }
            },
            "type": "scattercarpet"
           }
          ],
          "scattergeo": [
           {
            "marker": {
             "colorbar": {
              "outlinewidth": 0,
              "ticks": ""
             }
            },
            "type": "scattergeo"
           }
          ],
          "scattergl": [
           {
            "marker": {
             "colorbar": {
              "outlinewidth": 0,
              "ticks": ""
             }
            },
            "type": "scattergl"
           }
          ],
          "scattermap": [
           {
            "marker": {
             "colorbar": {
              "outlinewidth": 0,
              "ticks": ""
             }
            },
            "type": "scattermap"
           }
          ],
          "scattermapbox": [
           {
            "marker": {
             "colorbar": {
              "outlinewidth": 0,
              "ticks": ""
             }
            },
            "type": "scattermapbox"
           }
          ],
          "scatterpolar": [
           {
            "marker": {
             "colorbar": {
              "outlinewidth": 0,
              "ticks": ""
             }
            },
            "type": "scatterpolar"
           }
          ],
          "scatterpolargl": [
           {
            "marker": {
             "colorbar": {
              "outlinewidth": 0,
              "ticks": ""
             }
            },
            "type": "scatterpolargl"
           }
          ],
          "scatterternary": [
           {
            "marker": {
             "colorbar": {
              "outlinewidth": 0,
              "ticks": ""
             }
            },
            "type": "scatterternary"
           }
          ],
          "surface": [
           {
            "colorbar": {
             "outlinewidth": 0,
             "ticks": ""
            },
            "colorscale": [
             [
              0,
              "#0d0887"
             ],
             [
              0.1111111111111111,
              "#46039f"
             ],
             [
              0.2222222222222222,
              "#7201a8"
             ],
             [
              0.3333333333333333,
              "#9c179e"
             ],
             [
              0.4444444444444444,
              "#bd3786"
             ],
             [
              0.5555555555555556,
              "#d8576b"
             ],
             [
              0.6666666666666666,
              "#ed7953"
             ],
             [
              0.7777777777777778,
              "#fb9f3a"
             ],
             [
              0.8888888888888888,
              "#fdca26"
             ],
             [
              1,
              "#f0f921"
             ]
            ],
            "type": "surface"
           }
          ],
          "table": [
           {
            "cells": {
             "fill": {
              "color": "#EBF0F8"
             },
             "line": {
              "color": "white"
             }
            },
            "header": {
             "fill": {
              "color": "#C8D4E3"
             },
             "line": {
              "color": "white"
             }
            },
            "type": "table"
           }
          ]
         },
         "layout": {
          "annotationdefaults": {
           "arrowcolor": "#2a3f5f",
           "arrowhead": 0,
           "arrowwidth": 1
          },
          "autotypenumbers": "strict",
          "coloraxis": {
           "colorbar": {
            "outlinewidth": 0,
            "ticks": ""
           }
          },
          "colorscale": {
           "diverging": [
            [
             0,
             "#8e0152"
            ],
            [
             0.1,
             "#c51b7d"
            ],
            [
             0.2,
             "#de77ae"
            ],
            [
             0.3,
             "#f1b6da"
            ],
            [
             0.4,
             "#fde0ef"
            ],
            [
             0.5,
             "#f7f7f7"
            ],
            [
             0.6,
             "#e6f5d0"
            ],
            [
             0.7,
             "#b8e186"
            ],
            [
             0.8,
             "#7fbc41"
            ],
            [
             0.9,
             "#4d9221"
            ],
            [
             1,
             "#276419"
            ]
           ],
           "sequential": [
            [
             0,
             "#0d0887"
            ],
            [
             0.1111111111111111,
             "#46039f"
            ],
            [
             0.2222222222222222,
             "#7201a8"
            ],
            [
             0.3333333333333333,
             "#9c179e"
            ],
            [
             0.4444444444444444,
             "#bd3786"
            ],
            [
             0.5555555555555556,
             "#d8576b"
            ],
            [
             0.6666666666666666,
             "#ed7953"
            ],
            [
             0.7777777777777778,
             "#fb9f3a"
            ],
            [
             0.8888888888888888,
             "#fdca26"
            ],
            [
             1,
             "#f0f921"
            ]
           ],
           "sequentialminus": [
            [
             0,
             "#0d0887"
            ],
            [
             0.1111111111111111,
             "#46039f"
            ],
            [
             0.2222222222222222,
             "#7201a8"
            ],
            [
             0.3333333333333333,
             "#9c179e"
            ],
            [
             0.4444444444444444,
             "#bd3786"
            ],
            [
             0.5555555555555556,
             "#d8576b"
            ],
            [
             0.6666666666666666,
             "#ed7953"
            ],
            [
             0.7777777777777778,
             "#fb9f3a"
            ],
            [
             0.8888888888888888,
             "#fdca26"
            ],
            [
             1,
             "#f0f921"
            ]
           ]
          },
          "colorway": [
           "#636efa",
           "#EF553B",
           "#00cc96",
           "#ab63fa",
           "#FFA15A",
           "#19d3f3",
           "#FF6692",
           "#B6E880",
           "#FF97FF",
           "#FECB52"
          ],
          "font": {
           "color": "#2a3f5f"
          },
          "geo": {
           "bgcolor": "white",
           "lakecolor": "white",
           "landcolor": "white",
           "showlakes": true,
           "showland": true,
           "subunitcolor": "#C8D4E3"
          },
          "hoverlabel": {
           "align": "left"
          },
          "hovermode": "closest",
          "mapbox": {
           "style": "light"
          },
          "paper_bgcolor": "white",
          "plot_bgcolor": "white",
          "polar": {
           "angularaxis": {
            "gridcolor": "#EBF0F8",
            "linecolor": "#EBF0F8",
            "ticks": ""
           },
           "bgcolor": "white",
           "radialaxis": {
            "gridcolor": "#EBF0F8",
            "linecolor": "#EBF0F8",
            "ticks": ""
           }
          },
          "scene": {
           "xaxis": {
            "backgroundcolor": "white",
            "gridcolor": "#DFE8F3",
            "gridwidth": 2,
            "linecolor": "#EBF0F8",
            "showbackground": true,
            "ticks": "",
            "zerolinecolor": "#EBF0F8"
           },
           "yaxis": {
            "backgroundcolor": "white",
            "gridcolor": "#DFE8F3",
            "gridwidth": 2,
            "linecolor": "#EBF0F8",
            "showbackground": true,
            "ticks": "",
            "zerolinecolor": "#EBF0F8"
           },
           "zaxis": {
            "backgroundcolor": "white",
            "gridcolor": "#DFE8F3",
            "gridwidth": 2,
            "linecolor": "#EBF0F8",
            "showbackground": true,
            "ticks": "",
            "zerolinecolor": "#EBF0F8"
           }
          },
          "shapedefaults": {
           "line": {
            "color": "#2a3f5f"
           }
          },
          "ternary": {
           "aaxis": {
            "gridcolor": "#DFE8F3",
            "linecolor": "#A2B1C6",
            "ticks": ""
           },
           "baxis": {
            "gridcolor": "#DFE8F3",
            "linecolor": "#A2B1C6",
            "ticks": ""
           },
           "bgcolor": "white",
           "caxis": {
            "gridcolor": "#DFE8F3",
            "linecolor": "#A2B1C6",
            "ticks": ""
           }
          },
          "title": {
           "x": 0.05
          },
          "xaxis": {
           "automargin": true,
           "gridcolor": "#EBF0F8",
           "linecolor": "#EBF0F8",
           "ticks": "",
           "title": {
            "standoff": 15
           },
           "zerolinecolor": "#EBF0F8",
           "zerolinewidth": 2
          },
          "yaxis": {
           "automargin": true,
           "gridcolor": "#EBF0F8",
           "linecolor": "#EBF0F8",
           "ticks": "",
           "title": {
            "standoff": 15
           },
           "zerolinecolor": "#EBF0F8",
           "zerolinewidth": 2
          }
         }
        },
        "title": {
         "text": "Top 10 Countries: Circular Material Use Rate (Last 20 Years)"
        },
        "updatemenus": [
         {
          "buttons": [
           {
            "args": [
             null,
             {
              "frame": {
               "duration": 500,
               "redraw": false
              },
              "fromcurrent": true,
              "mode": "immediate",
              "transition": {
               "duration": 500,
               "easing": "linear"
              }
             }
            ],
            "label": "&#9654;",
            "method": "animate"
           },
           {
            "args": [
             [
              null
             ],
             {
              "frame": {
               "duration": 0,
               "redraw": false
              },
              "fromcurrent": true,
              "mode": "immediate",
              "transition": {
               "duration": 0,
               "easing": "linear"
              }
             }
            ],
            "label": "&#9724;",
            "method": "animate"
           }
          ],
          "direction": "left",
          "pad": {
           "r": 10,
           "t": 70
          },
          "showactive": false,
          "type": "buttons",
          "x": 0.1,
          "xanchor": "right",
          "y": 0,
          "yanchor": "top"
         }
        ],
        "xaxis": {
         "anchor": "y",
         "categoryarray": [
          "Netherlands",
          "Luxembourg",
          "France",
          "Belgium",
          "Italy",
          "Germany",
          "Poland",
          "Finland",
          "Spain",
          "Estonia",
          "Slovenia",
          "Austria",
          "Denmark",
          "Czechia",
          "Malta",
          "Slovakia",
          "Sweden"
         ],
         "categoryorder": "array",
         "domain": [
          0,
          1
         ],
         "title": {
          "text": "Country"
         }
        },
        "yaxis": {
         "anchor": "x",
         "domain": [
          0,
          1
         ],
         "title": {
          "text": "Circular Use Rate (%)"
         }
        }
       }
      }
     },
     "metadata": {},
     "output_type": "display_data"
    }
   ],
   "source": [
    "import pandas as pd\n",
    "import plotly.express as px\n",
    "\n",
    "# Copy your dataset\n",
    "df = df_circular_mtl_use.copy()\n",
    "\n",
    "# Filter out the EU aggregate\n",
    "df = df[df[\"Geopolitical entity (reporting)\"] != \"European Union - 27 countries (from 2020)\"]\n",
    "\n",
    "# Keep only rows with numeric values and the last 20 years\n",
    "df['TIME_PERIOD'] = pd.to_numeric(df['TIME_PERIOD'], errors='coerce')\n",
    "df['OBS_VALUE'] = pd.to_numeric(df['OBS_VALUE'], errors='coerce')\n",
    "last_20_years = sorted(df['TIME_PERIOD'].dropna().unique())[-20:]\n",
    "df = df[df['TIME_PERIOD'].isin(last_20_years)]\n",
    "\n",
    "# Compute total OBS_VALUE per country for bubble size\n",
    "agg_total = df.groupby(\"Geopolitical entity (reporting)\")[\"OBS_VALUE\"].sum().reset_index()\n",
    "agg_total.rename(columns={\"OBS_VALUE\": \"Total_Circular_Use\"}, inplace=True)\n",
    "\n",
    "# Merge total back to df\n",
    "df = df.merge(agg_total, on=\"Geopolitical entity (reporting)\", how=\"left\")\n",
    "\n",
    "# For each year, get top 10 countries\n",
    "top_countries = df.groupby(\"TIME_PERIOD\").apply(\n",
    "    lambda x: x.nlargest(10, 'OBS_VALUE')\n",
    ").reset_index(drop=True)\n",
    "\n",
    "# Plot\n",
    "fig = px.scatter(\n",
    "    top_countries,\n",
    "    x=\"Geopolitical entity (reporting)\",\n",
    "    y=\"OBS_VALUE\",\n",
    "    animation_frame=\"TIME_PERIOD\",\n",
    "    size=\"Total_Circular_Use\",\n",
    "    color=\"Geopolitical entity (reporting)\",\n",
    "    hover_name=\"Geopolitical entity (reporting)\",\n",
    "    title=\"Top 10 Countries: Circular Material Use Rate (Last 20 Years)\",\n",
    "    labels={\n",
    "        \"OBS_VALUE\": \"Circular Use Rate (%)\",\n",
    "        \"Geopolitical entity (reporting)\": \"Country\"\n",
    "    },\n",
    "    template=\"plotly_white\",\n",
    "    size_max=50\n",
    ")\n",
    "\n",
    "fig.update_layout(\n",
    "    xaxis_title=\"Country\",\n",
    "    yaxis_title=\"Circular Use Rate (%)\",\n",
    "    legend_title=\"Country\",\n",
    "    hovermode=\"closest\"\n",
    ")\n",
    "\n",
    "fig.show()\n"
   ]
  },
  {
   "cell_type": "markdown",
   "metadata": {},
   "source": [
    "Consumption Footprint"
   ]
  },
  {
   "cell_type": "code",
   "execution_count": 56,
   "metadata": {},
   "outputs": [],
   "source": [
    "df_consumption_footprint = pd.read_csv(\"./Dataset_CE/Consumption_footprint.csv\")"
   ]
  },
  {
   "cell_type": "code",
   "execution_count": 59,
   "metadata": {},
   "outputs": [
    {
     "data": {
      "application/vnd.plotly.v1+json": {
       "config": {
        "plotlyServerURL": "https://plot.ly"
       },
       "data": [
        {
         "hovertemplate": "Average Index Value=%{text}<br>Footprint Category=%{y}<extra></extra>",
         "legendgroup": "",
         "marker": {
          "color": "#636efa",
          "pattern": {
           "shape": ""
          }
         },
         "name": "",
         "orientation": "h",
         "showlegend": false,
         "text": {
          "bdata": "OQUvp+B9W0BeTsHLKQBbQG7btm3b7lpAg5dT8HLiWkAqeDkFL9daQPahsT401lpAcwpeTsHLWkB4OQUvp6haQAUvp+DlbFpAJUmSJElKWkAlSZIkSTpaQOYUvJyCJ1pAjfWhsT4MWkAVvJyCl/tZQKwPjfWh6VlAfWisD41VWUAQjfWhsS5ZQA==",
          "dtype": "f8"
         },
         "textposition": "outside",
         "texttemplate": "%{text:.1f}",
         "type": "bar",
         "x": {
          "bdata": "OQUvp+B9W0BeTsHLKQBbQG7btm3b7lpAg5dT8HLiWkAqeDkFL9daQPahsT401lpAcwpeTsHLWkB4OQUvp6haQAUvp+DlbFpAJUmSJElKWkAlSZIkSTpaQOYUvJyCJ1pAjfWhsT4MWkAVvJyCl/tZQKwPjfWh6VlAfWisD41VWUAQjfWhsS5ZQA==",
          "dtype": "f8"
         },
         "xaxis": "x",
         "y": [
          "Water use",
          "Eutrophication, terrestrial",
          "Land use",
          "Eutrophication, marine",
          "Ecotoxicity, freshwater",
          "Ozone depletion",
          "Resource use, minerals and metals",
          "Acidification",
          "Human toxicity, non-cancer",
          "Single weighted score",
          "Human toxicity, cancer",
          "Eutrophication, freshwater",
          "Particulate matter, human health",
          "Climate change",
          "Photochemical ozone formation",
          "Resource use, fossil",
          "Ionising radiation, human health"
         ],
         "yaxis": "y"
        }
       ],
       "layout": {
        "barmode": "relative",
        "legend": {
         "tracegroupgap": 0
        },
        "template": {
         "data": {
          "bar": [
           {
            "error_x": {
             "color": "#2a3f5f"
            },
            "error_y": {
             "color": "#2a3f5f"
            },
            "marker": {
             "line": {
              "color": "white",
              "width": 0.5
             },
             "pattern": {
              "fillmode": "overlay",
              "size": 10,
              "solidity": 0.2
             }
            },
            "type": "bar"
           }
          ],
          "barpolar": [
           {
            "marker": {
             "line": {
              "color": "white",
              "width": 0.5
             },
             "pattern": {
              "fillmode": "overlay",
              "size": 10,
              "solidity": 0.2
             }
            },
            "type": "barpolar"
           }
          ],
          "carpet": [
           {
            "aaxis": {
             "endlinecolor": "#2a3f5f",
             "gridcolor": "#C8D4E3",
             "linecolor": "#C8D4E3",
             "minorgridcolor": "#C8D4E3",
             "startlinecolor": "#2a3f5f"
            },
            "baxis": {
             "endlinecolor": "#2a3f5f",
             "gridcolor": "#C8D4E3",
             "linecolor": "#C8D4E3",
             "minorgridcolor": "#C8D4E3",
             "startlinecolor": "#2a3f5f"
            },
            "type": "carpet"
           }
          ],
          "choropleth": [
           {
            "colorbar": {
             "outlinewidth": 0,
             "ticks": ""
            },
            "type": "choropleth"
           }
          ],
          "contour": [
           {
            "colorbar": {
             "outlinewidth": 0,
             "ticks": ""
            },
            "colorscale": [
             [
              0,
              "#0d0887"
             ],
             [
              0.1111111111111111,
              "#46039f"
             ],
             [
              0.2222222222222222,
              "#7201a8"
             ],
             [
              0.3333333333333333,
              "#9c179e"
             ],
             [
              0.4444444444444444,
              "#bd3786"
             ],
             [
              0.5555555555555556,
              "#d8576b"
             ],
             [
              0.6666666666666666,
              "#ed7953"
             ],
             [
              0.7777777777777778,
              "#fb9f3a"
             ],
             [
              0.8888888888888888,
              "#fdca26"
             ],
             [
              1,
              "#f0f921"
             ]
            ],
            "type": "contour"
           }
          ],
          "contourcarpet": [
           {
            "colorbar": {
             "outlinewidth": 0,
             "ticks": ""
            },
            "type": "contourcarpet"
           }
          ],
          "heatmap": [
           {
            "colorbar": {
             "outlinewidth": 0,
             "ticks": ""
            },
            "colorscale": [
             [
              0,
              "#0d0887"
             ],
             [
              0.1111111111111111,
              "#46039f"
             ],
             [
              0.2222222222222222,
              "#7201a8"
             ],
             [
              0.3333333333333333,
              "#9c179e"
             ],
             [
              0.4444444444444444,
              "#bd3786"
             ],
             [
              0.5555555555555556,
              "#d8576b"
             ],
             [
              0.6666666666666666,
              "#ed7953"
             ],
             [
              0.7777777777777778,
              "#fb9f3a"
             ],
             [
              0.8888888888888888,
              "#fdca26"
             ],
             [
              1,
              "#f0f921"
             ]
            ],
            "type": "heatmap"
           }
          ],
          "histogram": [
           {
            "marker": {
             "pattern": {
              "fillmode": "overlay",
              "size": 10,
              "solidity": 0.2
             }
            },
            "type": "histogram"
           }
          ],
          "histogram2d": [
           {
            "colorbar": {
             "outlinewidth": 0,
             "ticks": ""
            },
            "colorscale": [
             [
              0,
              "#0d0887"
             ],
             [
              0.1111111111111111,
              "#46039f"
             ],
             [
              0.2222222222222222,
              "#7201a8"
             ],
             [
              0.3333333333333333,
              "#9c179e"
             ],
             [
              0.4444444444444444,
              "#bd3786"
             ],
             [
              0.5555555555555556,
              "#d8576b"
             ],
             [
              0.6666666666666666,
              "#ed7953"
             ],
             [
              0.7777777777777778,
              "#fb9f3a"
             ],
             [
              0.8888888888888888,
              "#fdca26"
             ],
             [
              1,
              "#f0f921"
             ]
            ],
            "type": "histogram2d"
           }
          ],
          "histogram2dcontour": [
           {
            "colorbar": {
             "outlinewidth": 0,
             "ticks": ""
            },
            "colorscale": [
             [
              0,
              "#0d0887"
             ],
             [
              0.1111111111111111,
              "#46039f"
             ],
             [
              0.2222222222222222,
              "#7201a8"
             ],
             [
              0.3333333333333333,
              "#9c179e"
             ],
             [
              0.4444444444444444,
              "#bd3786"
             ],
             [
              0.5555555555555556,
              "#d8576b"
             ],
             [
              0.6666666666666666,
              "#ed7953"
             ],
             [
              0.7777777777777778,
              "#fb9f3a"
             ],
             [
              0.8888888888888888,
              "#fdca26"
             ],
             [
              1,
              "#f0f921"
             ]
            ],
            "type": "histogram2dcontour"
           }
          ],
          "mesh3d": [
           {
            "colorbar": {
             "outlinewidth": 0,
             "ticks": ""
            },
            "type": "mesh3d"
           }
          ],
          "parcoords": [
           {
            "line": {
             "colorbar": {
              "outlinewidth": 0,
              "ticks": ""
             }
            },
            "type": "parcoords"
           }
          ],
          "pie": [
           {
            "automargin": true,
            "type": "pie"
           }
          ],
          "scatter": [
           {
            "fillpattern": {
             "fillmode": "overlay",
             "size": 10,
             "solidity": 0.2
            },
            "type": "scatter"
           }
          ],
          "scatter3d": [
           {
            "line": {
             "colorbar": {
              "outlinewidth": 0,
              "ticks": ""
             }
            },
            "marker": {
             "colorbar": {
              "outlinewidth": 0,
              "ticks": ""
             }
            },
            "type": "scatter3d"
           }
          ],
          "scattercarpet": [
           {
            "marker": {
             "colorbar": {
              "outlinewidth": 0,
              "ticks": ""
             }
            },
            "type": "scattercarpet"
           }
          ],
          "scattergeo": [
           {
            "marker": {
             "colorbar": {
              "outlinewidth": 0,
              "ticks": ""
             }
            },
            "type": "scattergeo"
           }
          ],
          "scattergl": [
           {
            "marker": {
             "colorbar": {
              "outlinewidth": 0,
              "ticks": ""
             }
            },
            "type": "scattergl"
           }
          ],
          "scattermap": [
           {
            "marker": {
             "colorbar": {
              "outlinewidth": 0,
              "ticks": ""
             }
            },
            "type": "scattermap"
           }
          ],
          "scattermapbox": [
           {
            "marker": {
             "colorbar": {
              "outlinewidth": 0,
              "ticks": ""
             }
            },
            "type": "scattermapbox"
           }
          ],
          "scatterpolar": [
           {
            "marker": {
             "colorbar": {
              "outlinewidth": 0,
              "ticks": ""
             }
            },
            "type": "scatterpolar"
           }
          ],
          "scatterpolargl": [
           {
            "marker": {
             "colorbar": {
              "outlinewidth": 0,
              "ticks": ""
             }
            },
            "type": "scatterpolargl"
           }
          ],
          "scatterternary": [
           {
            "marker": {
             "colorbar": {
              "outlinewidth": 0,
              "ticks": ""
             }
            },
            "type": "scatterternary"
           }
          ],
          "surface": [
           {
            "colorbar": {
             "outlinewidth": 0,
             "ticks": ""
            },
            "colorscale": [
             [
              0,
              "#0d0887"
             ],
             [
              0.1111111111111111,
              "#46039f"
             ],
             [
              0.2222222222222222,
              "#7201a8"
             ],
             [
              0.3333333333333333,
              "#9c179e"
             ],
             [
              0.4444444444444444,
              "#bd3786"
             ],
             [
              0.5555555555555556,
              "#d8576b"
             ],
             [
              0.6666666666666666,
              "#ed7953"
             ],
             [
              0.7777777777777778,
              "#fb9f3a"
             ],
             [
              0.8888888888888888,
              "#fdca26"
             ],
             [
              1,
              "#f0f921"
             ]
            ],
            "type": "surface"
           }
          ],
          "table": [
           {
            "cells": {
             "fill": {
              "color": "#EBF0F8"
             },
             "line": {
              "color": "white"
             }
            },
            "header": {
             "fill": {
              "color": "#C8D4E3"
             },
             "line": {
              "color": "white"
             }
            },
            "type": "table"
           }
          ]
         },
         "layout": {
          "annotationdefaults": {
           "arrowcolor": "#2a3f5f",
           "arrowhead": 0,
           "arrowwidth": 1
          },
          "autotypenumbers": "strict",
          "coloraxis": {
           "colorbar": {
            "outlinewidth": 0,
            "ticks": ""
           }
          },
          "colorscale": {
           "diverging": [
            [
             0,
             "#8e0152"
            ],
            [
             0.1,
             "#c51b7d"
            ],
            [
             0.2,
             "#de77ae"
            ],
            [
             0.3,
             "#f1b6da"
            ],
            [
             0.4,
             "#fde0ef"
            ],
            [
             0.5,
             "#f7f7f7"
            ],
            [
             0.6,
             "#e6f5d0"
            ],
            [
             0.7,
             "#b8e186"
            ],
            [
             0.8,
             "#7fbc41"
            ],
            [
             0.9,
             "#4d9221"
            ],
            [
             1,
             "#276419"
            ]
           ],
           "sequential": [
            [
             0,
             "#0d0887"
            ],
            [
             0.1111111111111111,
             "#46039f"
            ],
            [
             0.2222222222222222,
             "#7201a8"
            ],
            [
             0.3333333333333333,
             "#9c179e"
            ],
            [
             0.4444444444444444,
             "#bd3786"
            ],
            [
             0.5555555555555556,
             "#d8576b"
            ],
            [
             0.6666666666666666,
             "#ed7953"
            ],
            [
             0.7777777777777778,
             "#fb9f3a"
            ],
            [
             0.8888888888888888,
             "#fdca26"
            ],
            [
             1,
             "#f0f921"
            ]
           ],
           "sequentialminus": [
            [
             0,
             "#0d0887"
            ],
            [
             0.1111111111111111,
             "#46039f"
            ],
            [
             0.2222222222222222,
             "#7201a8"
            ],
            [
             0.3333333333333333,
             "#9c179e"
            ],
            [
             0.4444444444444444,
             "#bd3786"
            ],
            [
             0.5555555555555556,
             "#d8576b"
            ],
            [
             0.6666666666666666,
             "#ed7953"
            ],
            [
             0.7777777777777778,
             "#fb9f3a"
            ],
            [
             0.8888888888888888,
             "#fdca26"
            ],
            [
             1,
             "#f0f921"
            ]
           ]
          },
          "colorway": [
           "#636efa",
           "#EF553B",
           "#00cc96",
           "#ab63fa",
           "#FFA15A",
           "#19d3f3",
           "#FF6692",
           "#B6E880",
           "#FF97FF",
           "#FECB52"
          ],
          "font": {
           "color": "#2a3f5f"
          },
          "geo": {
           "bgcolor": "white",
           "lakecolor": "white",
           "landcolor": "white",
           "showlakes": true,
           "showland": true,
           "subunitcolor": "#C8D4E3"
          },
          "hoverlabel": {
           "align": "left"
          },
          "hovermode": "closest",
          "mapbox": {
           "style": "light"
          },
          "paper_bgcolor": "white",
          "plot_bgcolor": "white",
          "polar": {
           "angularaxis": {
            "gridcolor": "#EBF0F8",
            "linecolor": "#EBF0F8",
            "ticks": ""
           },
           "bgcolor": "white",
           "radialaxis": {
            "gridcolor": "#EBF0F8",
            "linecolor": "#EBF0F8",
            "ticks": ""
           }
          },
          "scene": {
           "xaxis": {
            "backgroundcolor": "white",
            "gridcolor": "#DFE8F3",
            "gridwidth": 2,
            "linecolor": "#EBF0F8",
            "showbackground": true,
            "ticks": "",
            "zerolinecolor": "#EBF0F8"
           },
           "yaxis": {
            "backgroundcolor": "white",
            "gridcolor": "#DFE8F3",
            "gridwidth": 2,
            "linecolor": "#EBF0F8",
            "showbackground": true,
            "ticks": "",
            "zerolinecolor": "#EBF0F8"
           },
           "zaxis": {
            "backgroundcolor": "white",
            "gridcolor": "#DFE8F3",
            "gridwidth": 2,
            "linecolor": "#EBF0F8",
            "showbackground": true,
            "ticks": "",
            "zerolinecolor": "#EBF0F8"
           }
          },
          "shapedefaults": {
           "line": {
            "color": "#2a3f5f"
           }
          },
          "ternary": {
           "aaxis": {
            "gridcolor": "#DFE8F3",
            "linecolor": "#A2B1C6",
            "ticks": ""
           },
           "baxis": {
            "gridcolor": "#DFE8F3",
            "linecolor": "#A2B1C6",
            "ticks": ""
           },
           "bgcolor": "white",
           "caxis": {
            "gridcolor": "#DFE8F3",
            "linecolor": "#A2B1C6",
            "ticks": ""
           }
          },
          "title": {
           "x": 0.05
          },
          "xaxis": {
           "automargin": true,
           "gridcolor": "#EBF0F8",
           "linecolor": "#EBF0F8",
           "ticks": "",
           "title": {
            "standoff": 15
           },
           "zerolinecolor": "#EBF0F8",
           "zerolinewidth": 2
          },
          "yaxis": {
           "automargin": true,
           "gridcolor": "#EBF0F8",
           "linecolor": "#EBF0F8",
           "ticks": "",
           "title": {
            "standoff": 15
           },
           "zerolinecolor": "#EBF0F8",
           "zerolinewidth": 2
          }
         }
        },
        "title": {
         "text": "Average Consumption Footprint by Category (Index, 2010=100)"
        },
        "xaxis": {
         "anchor": "y",
         "domain": [
          0,
          1
         ],
         "title": {
          "text": "Index (2010=100)"
         }
        },
        "yaxis": {
         "anchor": "x",
         "domain": [
          0,
          1
         ],
         "dtick": 1,
         "title": {
          "text": "Consumption Category"
         }
        }
       }
      }
     },
     "metadata": {},
     "output_type": "display_data"
    }
   ],
   "source": [
    "import pandas as pd\n",
    "import plotly.express as px\n",
    "\n",
    "\n",
    "# Filter to keep only Index, 2010=100\n",
    "df_filtered = df_consumption_footprint[df_consumption_footprint['Unit of measure'] == 'Index, 2010=100']\n",
    "\n",
    "# Group by consumption footprint and calculate average value\n",
    "avg_footprint = df_filtered.groupby('Consumption footprint', as_index=False)['OBS_VALUE'].mean().sort_values(by='OBS_VALUE', ascending=False)\n",
    "\n",
    "# Create a bar chart\n",
    "fig = px.bar(\n",
    "    avg_footprint,\n",
    "    x='OBS_VALUE',\n",
    "    y='Consumption footprint',\n",
    "    orientation='h',\n",
    "    title=\"Average Consumption Footprint by Category (Index, 2010=100)\",\n",
    "    labels={\"OBS_VALUE\": \"Average Index Value\", \"Consumption footprint\": \"Footprint Category\"},\n",
    "    template='plotly_white',\n",
    "    text='OBS_VALUE'\n",
    ")\n",
    "\n",
    "fig.update_traces(texttemplate='%{text:.1f}', textposition='outside')\n",
    "fig.update_layout(yaxis=dict(dtick=1), xaxis_title=\"Index (2010=100)\", yaxis_title=\"Consumption Category\")\n",
    "fig.show()\n"
   ]
  },
  {
   "cell_type": "code",
   "execution_count": 96,
   "metadata": {},
   "outputs": [],
   "source": [
    "df_mtl_dep = pd.read_csv(\"./Dataset_CE/Material import dependency.csv\")"
   ]
  },
  {
   "cell_type": "code",
   "execution_count": 100,
   "metadata": {},
   "outputs": [
    {
     "name": "stderr",
     "output_type": "stream",
     "text": [
      "/var/folders/qp/p5v2tv9s7fj3ydmlz7m2k0280000gn/T/ipykernel_99851/4197018336.py:7: DeprecationWarning:\n",
      "\n",
      "DataFrameGroupBy.apply operated on the grouping columns. This behavior is deprecated, and in a future version of pandas the grouping columns will be excluded from the operation. Either pass `include_groups=False` to exclude the groupings or explicitly select the grouping columns after groupby to silence this warning.\n",
      "\n"
     ]
    },
    {
     "data": {
      "application/vnd.plotly.v1+json": {
       "config": {
        "plotlyServerURL": "https://plot.ly"
       },
       "data": [
        {
         "hovertemplate": "Country=%{x}<br>TIME_PERIOD=2003<br>Material Import Dependency (%)=%{marker.size}<extra></extra>",
         "ids": [
          "Luxembourg"
         ],
         "legendgroup": "Luxembourg",
         "marker": {
          "color": "#636efa",
          "size": {
           "bdata": "ZmZmZmYmVkA=",
           "dtype": "f8"
          },
          "sizemode": "area",
          "sizeref": 0.025527777777777778,
          "symbol": "circle"
         },
         "mode": "markers",
         "name": "Luxembourg",
         "orientation": "v",
         "showlegend": true,
         "type": "scatter",
         "x": [
          "Luxembourg"
         ],
         "xaxis": "x",
         "y": {
          "bdata": "ZmZmZmYmVkA=",
          "dtype": "f8"
         },
         "yaxis": "y"
        },
        {
         "hovertemplate": "Country=%{x}<br>TIME_PERIOD=2003<br>Material Import Dependency (%)=%{marker.size}<extra></extra>",
         "ids": [
          "Netherlands"
         ],
         "legendgroup": "Netherlands",
         "marker": {
          "color": "#EF553B",
          "size": {
           "bdata": "zczMzMyMUUA=",
           "dtype": "f8"
          },
          "sizemode": "area",
          "sizeref": 0.025527777777777778,
          "symbol": "circle"
         },
         "mode": "markers",
         "name": "Netherlands",
         "orientation": "v",
         "showlegend": true,
         "type": "scatter",
         "x": [
          "Netherlands"
         ],
         "xaxis": "x",
         "y": {
          "bdata": "zczMzMyMUUA=",
          "dtype": "f8"
         },
         "yaxis": "y"
        },
        {
         "hovertemplate": "Country=%{x}<br>TIME_PERIOD=2003<br>Material Import Dependency (%)=%{marker.size}<extra></extra>",
         "ids": [
          "Belgium"
         ],
         "legendgroup": "Belgium",
         "marker": {
          "color": "#00cc96",
          "size": {
           "bdata": "AAAAAABAUUA=",
           "dtype": "f8"
          },
          "sizemode": "area",
          "sizeref": 0.025527777777777778,
          "symbol": "circle"
         },
         "mode": "markers",
         "name": "Belgium",
         "orientation": "v",
         "showlegend": true,
         "type": "scatter",
         "x": [
          "Belgium"
         ],
         "xaxis": "x",
         "y": {
          "bdata": "AAAAAABAUUA=",
          "dtype": "f8"
         },
         "yaxis": "y"
        },
        {
         "hovertemplate": "Country=%{x}<br>TIME_PERIOD=2003<br>Material Import Dependency (%)=%{marker.size}<extra></extra>",
         "ids": [
          "Switzerland"
         ],
         "legendgroup": "Switzerland",
         "marker": {
          "color": "#ab63fa",
          "size": {
           "bdata": "ZmZmZmYmR0A=",
           "dtype": "f8"
          },
          "sizemode": "area",
          "sizeref": 0.025527777777777778,
          "symbol": "circle"
         },
         "mode": "markers",
         "name": "Switzerland",
         "orientation": "v",
         "showlegend": true,
         "type": "scatter",
         "x": [
          "Switzerland"
         ],
         "xaxis": "x",
         "y": {
          "bdata": "ZmZmZmYmR0A=",
          "dtype": "f8"
         },
         "yaxis": "y"
        },
        {
         "hovertemplate": "Country=%{x}<br>TIME_PERIOD=2003<br>Material Import Dependency (%)=%{marker.size}<extra></extra>",
         "ids": [
          "Slovakia"
         ],
         "legendgroup": "Slovakia",
         "marker": {
          "color": "#FFA15A",
          "size": {
           "bdata": "zczMzMzMREA=",
           "dtype": "f8"
          },
          "sizemode": "area",
          "sizeref": 0.025527777777777778,
          "symbol": "circle"
         },
         "mode": "markers",
         "name": "Slovakia",
         "orientation": "v",
         "showlegend": true,
         "type": "scatter",
         "x": [
          "Slovakia"
         ],
         "xaxis": "x",
         "y": {
          "bdata": "zczMzMzMREA=",
          "dtype": "f8"
         },
         "yaxis": "y"
        },
        {
         "hovertemplate": "Country=%{x}<br>TIME_PERIOD=2003<br>Material Import Dependency (%)=%{marker.size}<extra></extra>",
         "ids": [
          "Italy"
         ],
         "legendgroup": "Italy",
         "marker": {
          "color": "#19d3f3",
          "size": {
           "bdata": "MzMzMzPzQkA=",
           "dtype": "f8"
          },
          "sizemode": "area",
          "sizeref": 0.025527777777777778,
          "symbol": "circle"
         },
         "mode": "markers",
         "name": "Italy",
         "orientation": "v",
         "showlegend": true,
         "type": "scatter",
         "x": [
          "Italy"
         ],
         "xaxis": "x",
         "y": {
          "bdata": "MzMzMzPzQkA=",
          "dtype": "f8"
         },
         "yaxis": "y"
        },
        {
         "hovertemplate": "Country=%{x}<br>TIME_PERIOD=2003<br>Material Import Dependency (%)=%{marker.size}<extra></extra>",
         "ids": [
          "Austria"
         ],
         "legendgroup": "Austria",
         "marker": {
          "color": "#FF6692",
          "size": {
           "bdata": "AAAAAACAQkA=",
           "dtype": "f8"
          },
          "sizemode": "area",
          "sizeref": 0.025527777777777778,
          "symbol": "circle"
         },
         "mode": "markers",
         "name": "Austria",
         "orientation": "v",
         "showlegend": true,
         "type": "scatter",
         "x": [
          "Austria"
         ],
         "xaxis": "x",
         "y": {
          "bdata": "AAAAAACAQkA=",
          "dtype": "f8"
         },
         "yaxis": "y"
        },
        {
         "hovertemplate": "Country=%{x}<br>TIME_PERIOD=2003<br>Material Import Dependency (%)=%{marker.size}<extra></extra>",
         "ids": [
          "Malta"
         ],
         "legendgroup": "Malta",
         "marker": {
          "color": "#B6E880",
          "size": {
           "bdata": "mpmZmZkZQkA=",
           "dtype": "f8"
          },
          "sizemode": "area",
          "sizeref": 0.025527777777777778,
          "symbol": "circle"
         },
         "mode": "markers",
         "name": "Malta",
         "orientation": "v",
         "showlegend": true,
         "type": "scatter",
         "x": [
          "Malta"
         ],
         "xaxis": "x",
         "y": {
          "bdata": "mpmZmZkZQkA=",
          "dtype": "f8"
         },
         "yaxis": "y"
        },
        {
         "hovertemplate": "Country=%{x}<br>TIME_PERIOD=2003<br>Material Import Dependency (%)=%{marker.size}<extra></extra>",
         "ids": [
          "Lithuania"
         ],
         "legendgroup": "Lithuania",
         "marker": {
          "color": "#FF97FF",
          "size": {
           "bdata": "AAAAAADAQUA=",
           "dtype": "f8"
          },
          "sizemode": "area",
          "sizeref": 0.025527777777777778,
          "symbol": "circle"
         },
         "mode": "markers",
         "name": "Lithuania",
         "orientation": "v",
         "showlegend": true,
         "type": "scatter",
         "x": [
          "Lithuania"
         ],
         "xaxis": "x",
         "y": {
          "bdata": "AAAAAADAQUA=",
          "dtype": "f8"
         },
         "yaxis": "y"
        },
        {
         "hovertemplate": "Country=%{x}<br>TIME_PERIOD=2003<br>Material Import Dependency (%)=%{marker.size}<extra></extra>",
         "ids": [
          "France"
         ],
         "legendgroup": "France",
         "marker": {
          "color": "#FECB52",
          "size": {
           "bdata": "zczMzMxMQUA=",
           "dtype": "f8"
          },
          "sizemode": "area",
          "sizeref": 0.025527777777777778,
          "symbol": "circle"
         },
         "mode": "markers",
         "name": "France",
         "orientation": "v",
         "showlegend": true,
         "type": "scatter",
         "x": [
          "France"
         ],
         "xaxis": "x",
         "y": {
          "bdata": "zczMzMxMQUA=",
          "dtype": "f8"
         },
         "yaxis": "y"
        }
       ],
       "frames": [
        {
         "data": [
          {
           "hovertemplate": "Country=%{x}<br>TIME_PERIOD=2003<br>Material Import Dependency (%)=%{marker.size}<extra></extra>",
           "ids": [
            "Luxembourg"
           ],
           "legendgroup": "Luxembourg",
           "marker": {
            "color": "#636efa",
            "size": {
             "bdata": "ZmZmZmYmVkA=",
             "dtype": "f8"
            },
            "sizemode": "area",
            "sizeref": 0.025527777777777778,
            "symbol": "circle"
           },
           "mode": "markers",
           "name": "Luxembourg",
           "orientation": "v",
           "showlegend": true,
           "type": "scatter",
           "x": [
            "Luxembourg"
           ],
           "xaxis": "x",
           "y": {
            "bdata": "ZmZmZmYmVkA=",
            "dtype": "f8"
           },
           "yaxis": "y"
          },
          {
           "hovertemplate": "Country=%{x}<br>TIME_PERIOD=2003<br>Material Import Dependency (%)=%{marker.size}<extra></extra>",
           "ids": [
            "Netherlands"
           ],
           "legendgroup": "Netherlands",
           "marker": {
            "color": "#EF553B",
            "size": {
             "bdata": "zczMzMyMUUA=",
             "dtype": "f8"
            },
            "sizemode": "area",
            "sizeref": 0.025527777777777778,
            "symbol": "circle"
           },
           "mode": "markers",
           "name": "Netherlands",
           "orientation": "v",
           "showlegend": true,
           "type": "scatter",
           "x": [
            "Netherlands"
           ],
           "xaxis": "x",
           "y": {
            "bdata": "zczMzMyMUUA=",
            "dtype": "f8"
           },
           "yaxis": "y"
          },
          {
           "hovertemplate": "Country=%{x}<br>TIME_PERIOD=2003<br>Material Import Dependency (%)=%{marker.size}<extra></extra>",
           "ids": [
            "Belgium"
           ],
           "legendgroup": "Belgium",
           "marker": {
            "color": "#00cc96",
            "size": {
             "bdata": "AAAAAABAUUA=",
             "dtype": "f8"
            },
            "sizemode": "area",
            "sizeref": 0.025527777777777778,
            "symbol": "circle"
           },
           "mode": "markers",
           "name": "Belgium",
           "orientation": "v",
           "showlegend": true,
           "type": "scatter",
           "x": [
            "Belgium"
           ],
           "xaxis": "x",
           "y": {
            "bdata": "AAAAAABAUUA=",
            "dtype": "f8"
           },
           "yaxis": "y"
          },
          {
           "hovertemplate": "Country=%{x}<br>TIME_PERIOD=2003<br>Material Import Dependency (%)=%{marker.size}<extra></extra>",
           "ids": [
            "Switzerland"
           ],
           "legendgroup": "Switzerland",
           "marker": {
            "color": "#ab63fa",
            "size": {
             "bdata": "ZmZmZmYmR0A=",
             "dtype": "f8"
            },
            "sizemode": "area",
            "sizeref": 0.025527777777777778,
            "symbol": "circle"
           },
           "mode": "markers",
           "name": "Switzerland",
           "orientation": "v",
           "showlegend": true,
           "type": "scatter",
           "x": [
            "Switzerland"
           ],
           "xaxis": "x",
           "y": {
            "bdata": "ZmZmZmYmR0A=",
            "dtype": "f8"
           },
           "yaxis": "y"
          },
          {
           "hovertemplate": "Country=%{x}<br>TIME_PERIOD=2003<br>Material Import Dependency (%)=%{marker.size}<extra></extra>",
           "ids": [
            "Slovakia"
           ],
           "legendgroup": "Slovakia",
           "marker": {
            "color": "#FFA15A",
            "size": {
             "bdata": "zczMzMzMREA=",
             "dtype": "f8"
            },
            "sizemode": "area",
            "sizeref": 0.025527777777777778,
            "symbol": "circle"
           },
           "mode": "markers",
           "name": "Slovakia",
           "orientation": "v",
           "showlegend": true,
           "type": "scatter",
           "x": [
            "Slovakia"
           ],
           "xaxis": "x",
           "y": {
            "bdata": "zczMzMzMREA=",
            "dtype": "f8"
           },
           "yaxis": "y"
          },
          {
           "hovertemplate": "Country=%{x}<br>TIME_PERIOD=2003<br>Material Import Dependency (%)=%{marker.size}<extra></extra>",
           "ids": [
            "Italy"
           ],
           "legendgroup": "Italy",
           "marker": {
            "color": "#19d3f3",
            "size": {
             "bdata": "MzMzMzPzQkA=",
             "dtype": "f8"
            },
            "sizemode": "area",
            "sizeref": 0.025527777777777778,
            "symbol": "circle"
           },
           "mode": "markers",
           "name": "Italy",
           "orientation": "v",
           "showlegend": true,
           "type": "scatter",
           "x": [
            "Italy"
           ],
           "xaxis": "x",
           "y": {
            "bdata": "MzMzMzPzQkA=",
            "dtype": "f8"
           },
           "yaxis": "y"
          },
          {
           "hovertemplate": "Country=%{x}<br>TIME_PERIOD=2003<br>Material Import Dependency (%)=%{marker.size}<extra></extra>",
           "ids": [
            "Austria"
           ],
           "legendgroup": "Austria",
           "marker": {
            "color": "#FF6692",
            "size": {
             "bdata": "AAAAAACAQkA=",
             "dtype": "f8"
            },
            "sizemode": "area",
            "sizeref": 0.025527777777777778,
            "symbol": "circle"
           },
           "mode": "markers",
           "name": "Austria",
           "orientation": "v",
           "showlegend": true,
           "type": "scatter",
           "x": [
            "Austria"
           ],
           "xaxis": "x",
           "y": {
            "bdata": "AAAAAACAQkA=",
            "dtype": "f8"
           },
           "yaxis": "y"
          },
          {
           "hovertemplate": "Country=%{x}<br>TIME_PERIOD=2003<br>Material Import Dependency (%)=%{marker.size}<extra></extra>",
           "ids": [
            "Malta"
           ],
           "legendgroup": "Malta",
           "marker": {
            "color": "#B6E880",
            "size": {
             "bdata": "mpmZmZkZQkA=",
             "dtype": "f8"
            },
            "sizemode": "area",
            "sizeref": 0.025527777777777778,
            "symbol": "circle"
           },
           "mode": "markers",
           "name": "Malta",
           "orientation": "v",
           "showlegend": true,
           "type": "scatter",
           "x": [
            "Malta"
           ],
           "xaxis": "x",
           "y": {
            "bdata": "mpmZmZkZQkA=",
            "dtype": "f8"
           },
           "yaxis": "y"
          },
          {
           "hovertemplate": "Country=%{x}<br>TIME_PERIOD=2003<br>Material Import Dependency (%)=%{marker.size}<extra></extra>",
           "ids": [
            "Lithuania"
           ],
           "legendgroup": "Lithuania",
           "marker": {
            "color": "#FF97FF",
            "size": {
             "bdata": "AAAAAADAQUA=",
             "dtype": "f8"
            },
            "sizemode": "area",
            "sizeref": 0.025527777777777778,
            "symbol": "circle"
           },
           "mode": "markers",
           "name": "Lithuania",
           "orientation": "v",
           "showlegend": true,
           "type": "scatter",
           "x": [
            "Lithuania"
           ],
           "xaxis": "x",
           "y": {
            "bdata": "AAAAAADAQUA=",
            "dtype": "f8"
           },
           "yaxis": "y"
          },
          {
           "hovertemplate": "Country=%{x}<br>TIME_PERIOD=2003<br>Material Import Dependency (%)=%{marker.size}<extra></extra>",
           "ids": [
            "France"
           ],
           "legendgroup": "France",
           "marker": {
            "color": "#FECB52",
            "size": {
             "bdata": "zczMzMxMQUA=",
             "dtype": "f8"
            },
            "sizemode": "area",
            "sizeref": 0.025527777777777778,
            "symbol": "circle"
           },
           "mode": "markers",
           "name": "France",
           "orientation": "v",
           "showlegend": true,
           "type": "scatter",
           "x": [
            "France"
           ],
           "xaxis": "x",
           "y": {
            "bdata": "zczMzMxMQUA=",
            "dtype": "f8"
           },
           "yaxis": "y"
          }
         ],
         "name": "2003"
        },
        {
         "data": [
          {
           "hovertemplate": "Country=%{x}<br>TIME_PERIOD=2004<br>Material Import Dependency (%)=%{marker.size}<extra></extra>",
           "ids": [
            "Luxembourg"
           ],
           "legendgroup": "Luxembourg",
           "marker": {
            "color": "#636efa",
            "size": {
             "bdata": "zczMzMzMVUA=",
             "dtype": "f8"
            },
            "sizemode": "area",
            "sizeref": 0.025527777777777778,
            "symbol": "circle"
           },
           "mode": "markers",
           "name": "Luxembourg",
           "orientation": "v",
           "showlegend": true,
           "type": "scatter",
           "x": [
            "Luxembourg"
           ],
           "xaxis": "x",
           "y": {
            "bdata": "zczMzMzMVUA=",
            "dtype": "f8"
           },
           "yaxis": "y"
          },
          {
           "hovertemplate": "Country=%{x}<br>TIME_PERIOD=2004<br>Material Import Dependency (%)=%{marker.size}<extra></extra>",
           "ids": [
            "Netherlands"
           ],
           "legendgroup": "Netherlands",
           "marker": {
            "color": "#EF553B",
            "size": {
             "bdata": "ZmZmZmZmUUA=",
             "dtype": "f8"
            },
            "sizemode": "area",
            "sizeref": 0.025527777777777778,
            "symbol": "circle"
           },
           "mode": "markers",
           "name": "Netherlands",
           "orientation": "v",
           "showlegend": true,
           "type": "scatter",
           "x": [
            "Netherlands"
           ],
           "xaxis": "x",
           "y": {
            "bdata": "ZmZmZmZmUUA=",
            "dtype": "f8"
           },
           "yaxis": "y"
          },
          {
           "hovertemplate": "Country=%{x}<br>TIME_PERIOD=2004<br>Material Import Dependency (%)=%{marker.size}<extra></extra>",
           "ids": [
            "Belgium"
           ],
           "legendgroup": "Belgium",
           "marker": {
            "color": "#00cc96",
            "size": {
             "bdata": "zczMzMxsUUA=",
             "dtype": "f8"
            },
            "sizemode": "area",
            "sizeref": 0.025527777777777778,
            "symbol": "circle"
           },
           "mode": "markers",
           "name": "Belgium",
           "orientation": "v",
           "showlegend": true,
           "type": "scatter",
           "x": [
            "Belgium"
           ],
           "xaxis": "x",
           "y": {
            "bdata": "zczMzMxsUUA=",
            "dtype": "f8"
           },
           "yaxis": "y"
          },
          {
           "hovertemplate": "Country=%{x}<br>TIME_PERIOD=2004<br>Material Import Dependency (%)=%{marker.size}<extra></extra>",
           "ids": [
            "Switzerland"
           ],
           "legendgroup": "Switzerland",
           "marker": {
            "color": "#ab63fa",
            "size": {
             "bdata": "zczMzMxMRkA=",
             "dtype": "f8"
            },
            "sizemode": "area",
            "sizeref": 0.025527777777777778,
            "symbol": "circle"
           },
           "mode": "markers",
           "name": "Switzerland",
           "orientation": "v",
           "showlegend": true,
           "type": "scatter",
           "x": [
            "Switzerland"
           ],
           "xaxis": "x",
           "y": {
            "bdata": "zczMzMxMRkA=",
            "dtype": "f8"
           },
           "yaxis": "y"
          },
          {
           "hovertemplate": "Country=%{x}<br>TIME_PERIOD=2004<br>Material Import Dependency (%)=%{marker.size}<extra></extra>",
           "ids": [
            "Slovakia"
           ],
           "legendgroup": "Slovakia",
           "marker": {
            "color": "#FFA15A",
            "size": {
             "bdata": "zczMzMyMREA=",
             "dtype": "f8"
            },
            "sizemode": "area",
            "sizeref": 0.025527777777777778,
            "symbol": "circle"
           },
           "mode": "markers",
           "name": "Slovakia",
           "orientation": "v",
           "showlegend": true,
           "type": "scatter",
           "x": [
            "Slovakia"
           ],
           "xaxis": "x",
           "y": {
            "bdata": "zczMzMyMREA=",
            "dtype": "f8"
           },
           "yaxis": "y"
          },
          {
           "hovertemplate": "Country=%{x}<br>TIME_PERIOD=2004<br>Material Import Dependency (%)=%{marker.size}<extra></extra>",
           "ids": [
            "Italy"
           ],
           "legendgroup": "Italy",
           "marker": {
            "color": "#19d3f3",
            "size": {
             "bdata": "mpmZmZkZQ0A=",
             "dtype": "f8"
            },
            "sizemode": "area",
            "sizeref": 0.025527777777777778,
            "symbol": "circle"
           },
           "mode": "markers",
           "name": "Italy",
           "orientation": "v",
           "showlegend": true,
           "type": "scatter",
           "x": [
            "Italy"
           ],
           "xaxis": "x",
           "y": {
            "bdata": "mpmZmZkZQ0A=",
            "dtype": "f8"
           },
           "yaxis": "y"
          },
          {
           "hovertemplate": "Country=%{x}<br>TIME_PERIOD=2004<br>Material Import Dependency (%)=%{marker.size}<extra></extra>",
           "ids": [
            "Austria"
           ],
           "legendgroup": "Austria",
           "marker": {
            "color": "#FF6692",
            "size": {
             "bdata": "ZmZmZmamQkA=",
             "dtype": "f8"
            },
            "sizemode": "area",
            "sizeref": 0.025527777777777778,
            "symbol": "circle"
           },
           "mode": "markers",
           "name": "Austria",
           "orientation": "v",
           "showlegend": true,
           "type": "scatter",
           "x": [
            "Austria"
           ],
           "xaxis": "x",
           "y": {
            "bdata": "ZmZmZmamQkA=",
            "dtype": "f8"
           },
           "yaxis": "y"
          },
          {
           "hovertemplate": "Country=%{x}<br>TIME_PERIOD=2004<br>Material Import Dependency (%)=%{marker.size}<extra></extra>",
           "ids": [
            "Malta"
           ],
           "legendgroup": "Malta",
           "marker": {
            "color": "#B6E880",
            "size": {
             "bdata": "AAAAAABASUA=",
             "dtype": "f8"
            },
            "sizemode": "area",
            "sizeref": 0.025527777777777778,
            "symbol": "circle"
           },
           "mode": "markers",
           "name": "Malta",
           "orientation": "v",
           "showlegend": true,
           "type": "scatter",
           "x": [
            "Malta"
           ],
           "xaxis": "x",
           "y": {
            "bdata": "AAAAAABASUA=",
            "dtype": "f8"
           },
           "yaxis": "y"
          },
          {
           "hovertemplate": "Country=%{x}<br>TIME_PERIOD=2004<br>Material Import Dependency (%)=%{marker.size}<extra></extra>",
           "ids": [
            "Lithuania"
           ],
           "legendgroup": "Lithuania",
           "marker": {
            "color": "#FF97FF",
            "size": {
             "bdata": "AAAAAADAQkA=",
             "dtype": "f8"
            },
            "sizemode": "area",
            "sizeref": 0.025527777777777778,
            "symbol": "circle"
           },
           "mode": "markers",
           "name": "Lithuania",
           "orientation": "v",
           "showlegend": true,
           "type": "scatter",
           "x": [
            "Lithuania"
           ],
           "xaxis": "x",
           "y": {
            "bdata": "AAAAAADAQkA=",
            "dtype": "f8"
           },
           "yaxis": "y"
          },
          {
           "hovertemplate": "Country=%{x}<br>TIME_PERIOD=2004<br>Material Import Dependency (%)=%{marker.size}<extra></extra>",
           "ids": [
            "Germany"
           ],
           "legendgroup": "Germany",
           "marker": {
            "color": "#636efa",
            "size": {
             "bdata": "mpmZmZlZQUA=",
             "dtype": "f8"
            },
            "sizemode": "area",
            "sizeref": 0.025527777777777778,
            "symbol": "circle"
           },
           "mode": "markers",
           "name": "Germany",
           "orientation": "v",
           "showlegend": true,
           "type": "scatter",
           "x": [
            "Germany"
           ],
           "xaxis": "x",
           "y": {
            "bdata": "mpmZmZlZQUA=",
            "dtype": "f8"
           },
           "yaxis": "y"
          }
         ],
         "name": "2004"
        },
        {
         "data": [
          {
           "hovertemplate": "Country=%{x}<br>TIME_PERIOD=2005<br>Material Import Dependency (%)=%{marker.size}<extra></extra>",
           "ids": [
            "Luxembourg"
           ],
           "legendgroup": "Luxembourg",
           "marker": {
            "color": "#636efa",
            "size": {
             "bdata": "AAAAAAAAVkA=",
             "dtype": "f8"
            },
            "sizemode": "area",
            "sizeref": 0.025527777777777778,
            "symbol": "circle"
           },
           "mode": "markers",
           "name": "Luxembourg",
           "orientation": "v",
           "showlegend": true,
           "type": "scatter",
           "x": [
            "Luxembourg"
           ],
           "xaxis": "x",
           "y": {
            "bdata": "AAAAAAAAVkA=",
            "dtype": "f8"
           },
           "yaxis": "y"
          },
          {
           "hovertemplate": "Country=%{x}<br>TIME_PERIOD=2005<br>Material Import Dependency (%)=%{marker.size}<extra></extra>",
           "ids": [
            "Netherlands"
           ],
           "legendgroup": "Netherlands",
           "marker": {
            "color": "#EF553B",
            "size": {
             "bdata": "MzMzMzPzUUA=",
             "dtype": "f8"
            },
            "sizemode": "area",
            "sizeref": 0.025527777777777778,
            "symbol": "circle"
           },
           "mode": "markers",
           "name": "Netherlands",
           "orientation": "v",
           "showlegend": true,
           "type": "scatter",
           "x": [
            "Netherlands"
           ],
           "xaxis": "x",
           "y": {
            "bdata": "MzMzMzPzUUA=",
            "dtype": "f8"
           },
           "yaxis": "y"
          },
          {
           "hovertemplate": "Country=%{x}<br>TIME_PERIOD=2005<br>Material Import Dependency (%)=%{marker.size}<extra></extra>",
           "ids": [
            "Belgium"
           ],
           "legendgroup": "Belgium",
           "marker": {
            "color": "#00cc96",
            "size": {
             "bdata": "zczMzMyMUUA=",
             "dtype": "f8"
            },
            "sizemode": "area",
            "sizeref": 0.025527777777777778,
            "symbol": "circle"
           },
           "mode": "markers",
           "name": "Belgium",
           "orientation": "v",
           "showlegend": true,
           "type": "scatter",
           "x": [
            "Belgium"
           ],
           "xaxis": "x",
           "y": {
            "bdata": "zczMzMyMUUA=",
            "dtype": "f8"
           },
           "yaxis": "y"
          },
          {
           "hovertemplate": "Country=%{x}<br>TIME_PERIOD=2005<br>Material Import Dependency (%)=%{marker.size}<extra></extra>",
           "ids": [
            "Switzerland"
           ],
           "legendgroup": "Switzerland",
           "marker": {
            "color": "#ab63fa",
            "size": {
             "bdata": "zczMzMxMRkA=",
             "dtype": "f8"
            },
            "sizemode": "area",
            "sizeref": 0.025527777777777778,
            "symbol": "circle"
           },
           "mode": "markers",
           "name": "Switzerland",
           "orientation": "v",
           "showlegend": true,
           "type": "scatter",
           "x": [
            "Switzerland"
           ],
           "xaxis": "x",
           "y": {
            "bdata": "zczMzMxMRkA=",
            "dtype": "f8"
           },
           "yaxis": "y"
          },
          {
           "hovertemplate": "Country=%{x}<br>TIME_PERIOD=2005<br>Material Import Dependency (%)=%{marker.size}<extra></extra>",
           "ids": [
            "Slovakia"
           ],
           "legendgroup": "Slovakia",
           "marker": {
            "color": "#FFA15A",
            "size": {
             "bdata": "AAAAAAAAQ0A=",
             "dtype": "f8"
            },
            "sizemode": "area",
            "sizeref": 0.025527777777777778,
            "symbol": "circle"
           },
           "mode": "markers",
           "name": "Slovakia",
           "orientation": "v",
           "showlegend": true,
           "type": "scatter",
           "x": [
            "Slovakia"
           ],
           "xaxis": "x",
           "y": {
            "bdata": "AAAAAAAAQ0A=",
            "dtype": "f8"
           },
           "yaxis": "y"
          },
          {
           "hovertemplate": "Country=%{x}<br>TIME_PERIOD=2005<br>Material Import Dependency (%)=%{marker.size}<extra></extra>",
           "ids": [
            "Italy"
           ],
           "legendgroup": "Italy",
           "marker": {
            "color": "#19d3f3",
            "size": {
             "bdata": "ZmZmZmbmQkA=",
             "dtype": "f8"
            },
            "sizemode": "area",
            "sizeref": 0.025527777777777778,
            "symbol": "circle"
           },
           "mode": "markers",
           "name": "Italy",
           "orientation": "v",
           "showlegend": true,
           "type": "scatter",
           "x": [
            "Italy"
           ],
           "xaxis": "x",
           "y": {
            "bdata": "ZmZmZmbmQkA=",
            "dtype": "f8"
           },
           "yaxis": "y"
          },
          {
           "hovertemplate": "Country=%{x}<br>TIME_PERIOD=2005<br>Material Import Dependency (%)=%{marker.size}<extra></extra>",
           "ids": [
            "Austria"
           ],
           "legendgroup": "Austria",
           "marker": {
            "color": "#FF6692",
            "size": {
             "bdata": "AAAAAAAAQ0A=",
             "dtype": "f8"
            },
            "sizemode": "area",
            "sizeref": 0.025527777777777778,
            "symbol": "circle"
           },
           "mode": "markers",
           "name": "Austria",
           "orientation": "v",
           "showlegend": true,
           "type": "scatter",
           "x": [
            "Austria"
           ],
           "xaxis": "x",
           "y": {
            "bdata": "AAAAAAAAQ0A=",
            "dtype": "f8"
           },
           "yaxis": "y"
          },
          {
           "hovertemplate": "Country=%{x}<br>TIME_PERIOD=2005<br>Material Import Dependency (%)=%{marker.size}<extra></extra>",
           "ids": [
            "Malta"
           ],
           "legendgroup": "Malta",
           "marker": {
            "color": "#B6E880",
            "size": {
             "bdata": "mpmZmZkZSUA=",
             "dtype": "f8"
            },
            "sizemode": "area",
            "sizeref": 0.025527777777777778,
            "symbol": "circle"
           },
           "mode": "markers",
           "name": "Malta",
           "orientation": "v",
           "showlegend": true,
           "type": "scatter",
           "x": [
            "Malta"
           ],
           "xaxis": "x",
           "y": {
            "bdata": "mpmZmZkZSUA=",
            "dtype": "f8"
           },
           "yaxis": "y"
          },
          {
           "hovertemplate": "Country=%{x}<br>TIME_PERIOD=2005<br>Material Import Dependency (%)=%{marker.size}<extra></extra>",
           "ids": [
            "Lithuania"
           ],
           "legendgroup": "Lithuania",
           "marker": {
            "color": "#FF97FF",
            "size": {
             "bdata": "zczMzMzMQ0A=",
             "dtype": "f8"
            },
            "sizemode": "area",
            "sizeref": 0.025527777777777778,
            "symbol": "circle"
           },
           "mode": "markers",
           "name": "Lithuania",
           "orientation": "v",
           "showlegend": true,
           "type": "scatter",
           "x": [
            "Lithuania"
           ],
           "xaxis": "x",
           "y": {
            "bdata": "zczMzMzMQ0A=",
            "dtype": "f8"
           },
           "yaxis": "y"
          },
          {
           "hovertemplate": "Country=%{x}<br>TIME_PERIOD=2005<br>Material Import Dependency (%)=%{marker.size}<extra></extra>",
           "ids": [
            "Iceland"
           ],
           "legendgroup": "Iceland",
           "marker": {
            "color": "#EF553B",
            "size": {
             "bdata": "AAAAAAAAQkA=",
             "dtype": "f8"
            },
            "sizemode": "area",
            "sizeref": 0.025527777777777778,
            "symbol": "circle"
           },
           "mode": "markers",
           "name": "Iceland",
           "orientation": "v",
           "showlegend": true,
           "type": "scatter",
           "x": [
            "Iceland"
           ],
           "xaxis": "x",
           "y": {
            "bdata": "AAAAAAAAQkA=",
            "dtype": "f8"
           },
           "yaxis": "y"
          }
         ],
         "name": "2005"
        },
        {
         "data": [
          {
           "hovertemplate": "Country=%{x}<br>TIME_PERIOD=2006<br>Material Import Dependency (%)=%{marker.size}<extra></extra>",
           "ids": [
            "Luxembourg"
           ],
           "legendgroup": "Luxembourg",
           "marker": {
            "color": "#636efa",
            "size": {
             "bdata": "mpmZmZn5VUA=",
             "dtype": "f8"
            },
            "sizemode": "area",
            "sizeref": 0.025527777777777778,
            "symbol": "circle"
           },
           "mode": "markers",
           "name": "Luxembourg",
           "orientation": "v",
           "showlegend": true,
           "type": "scatter",
           "x": [
            "Luxembourg"
           ],
           "xaxis": "x",
           "y": {
            "bdata": "mpmZmZn5VUA=",
            "dtype": "f8"
           },
           "yaxis": "y"
          },
          {
           "hovertemplate": "Country=%{x}<br>TIME_PERIOD=2006<br>Material Import Dependency (%)=%{marker.size}<extra></extra>",
           "ids": [
            "Netherlands"
           ],
           "legendgroup": "Netherlands",
           "marker": {
            "color": "#EF553B",
            "size": {
             "bdata": "zczMzMxsUkA=",
             "dtype": "f8"
            },
            "sizemode": "area",
            "sizeref": 0.025527777777777778,
            "symbol": "circle"
           },
           "mode": "markers",
           "name": "Netherlands",
           "orientation": "v",
           "showlegend": true,
           "type": "scatter",
           "x": [
            "Netherlands"
           ],
           "xaxis": "x",
           "y": {
            "bdata": "zczMzMxsUkA=",
            "dtype": "f8"
           },
           "yaxis": "y"
          },
          {
           "hovertemplate": "Country=%{x}<br>TIME_PERIOD=2006<br>Material Import Dependency (%)=%{marker.size}<extra></extra>",
           "ids": [
            "Belgium"
           ],
           "legendgroup": "Belgium",
           "marker": {
            "color": "#00cc96",
            "size": {
             "bdata": "zczMzMysUUA=",
             "dtype": "f8"
            },
            "sizemode": "area",
            "sizeref": 0.025527777777777778,
            "symbol": "circle"
           },
           "mode": "markers",
           "name": "Belgium",
           "orientation": "v",
           "showlegend": true,
           "type": "scatter",
           "x": [
            "Belgium"
           ],
           "xaxis": "x",
           "y": {
            "bdata": "zczMzMysUUA=",
            "dtype": "f8"
           },
           "yaxis": "y"
          },
          {
           "hovertemplate": "Country=%{x}<br>TIME_PERIOD=2006<br>Material Import Dependency (%)=%{marker.size}<extra></extra>",
           "ids": [
            "Switzerland"
           ],
           "legendgroup": "Switzerland",
           "marker": {
            "color": "#ab63fa",
            "size": {
             "bdata": "zczMzMwMR0A=",
             "dtype": "f8"
            },
            "sizemode": "area",
            "sizeref": 0.025527777777777778,
            "symbol": "circle"
           },
           "mode": "markers",
           "name": "Switzerland",
           "orientation": "v",
           "showlegend": true,
           "type": "scatter",
           "x": [
            "Switzerland"
           ],
           "xaxis": "x",
           "y": {
            "bdata": "zczMzMwMR0A=",
            "dtype": "f8"
           },
           "yaxis": "y"
          },
          {
           "hovertemplate": "Country=%{x}<br>TIME_PERIOD=2006<br>Material Import Dependency (%)=%{marker.size}<extra></extra>",
           "ids": [
            "Slovakia"
           ],
           "legendgroup": "Slovakia",
           "marker": {
            "color": "#FFA15A",
            "size": {
             "bdata": "zczMzMxMREA=",
             "dtype": "f8"
            },
            "sizemode": "area",
            "sizeref": 0.025527777777777778,
            "symbol": "circle"
           },
           "mode": "markers",
           "name": "Slovakia",
           "orientation": "v",
           "showlegend": true,
           "type": "scatter",
           "x": [
            "Slovakia"
           ],
           "xaxis": "x",
           "y": {
            "bdata": "zczMzMxMREA=",
            "dtype": "f8"
           },
           "yaxis": "y"
          },
          {
           "hovertemplate": "Country=%{x}<br>TIME_PERIOD=2006<br>Material Import Dependency (%)=%{marker.size}<extra></extra>",
           "ids": [
            "Italy"
           ],
           "legendgroup": "Italy",
           "marker": {
            "color": "#19d3f3",
            "size": {
             "bdata": "zczMzMxMQ0A=",
             "dtype": "f8"
            },
            "sizemode": "area",
            "sizeref": 0.025527777777777778,
            "symbol": "circle"
           },
           "mode": "markers",
           "name": "Italy",
           "orientation": "v",
           "showlegend": true,
           "type": "scatter",
           "x": [
            "Italy"
           ],
           "xaxis": "x",
           "y": {
            "bdata": "zczMzMxMQ0A=",
            "dtype": "f8"
           },
           "yaxis": "y"
          },
          {
           "hovertemplate": "Country=%{x}<br>TIME_PERIOD=2006<br>Material Import Dependency (%)=%{marker.size}<extra></extra>",
           "ids": [
            "Austria"
           ],
           "legendgroup": "Austria",
           "marker": {
            "color": "#FF6692",
            "size": {
             "bdata": "AAAAAADAQ0A=",
             "dtype": "f8"
            },
            "sizemode": "area",
            "sizeref": 0.025527777777777778,
            "symbol": "circle"
           },
           "mode": "markers",
           "name": "Austria",
           "orientation": "v",
           "showlegend": true,
           "type": "scatter",
           "x": [
            "Austria"
           ],
           "xaxis": "x",
           "y": {
            "bdata": "AAAAAADAQ0A=",
            "dtype": "f8"
           },
           "yaxis": "y"
          },
          {
           "hovertemplate": "Country=%{x}<br>TIME_PERIOD=2006<br>Material Import Dependency (%)=%{marker.size}<extra></extra>",
           "ids": [
            "Malta"
           ],
           "legendgroup": "Malta",
           "marker": {
            "color": "#B6E880",
            "size": {
             "bdata": "MzMzMzOzR0A=",
             "dtype": "f8"
            },
            "sizemode": "area",
            "sizeref": 0.025527777777777778,
            "symbol": "circle"
           },
           "mode": "markers",
           "name": "Malta",
           "orientation": "v",
           "showlegend": true,
           "type": "scatter",
           "x": [
            "Malta"
           ],
           "xaxis": "x",
           "y": {
            "bdata": "MzMzMzOzR0A=",
            "dtype": "f8"
           },
           "yaxis": "y"
          },
          {
           "hovertemplate": "Country=%{x}<br>TIME_PERIOD=2006<br>Material Import Dependency (%)=%{marker.size}<extra></extra>",
           "ids": [
            "Lithuania"
           ],
           "legendgroup": "Lithuania",
           "marker": {
            "color": "#FF97FF",
            "size": {
             "bdata": "MzMzMzMzREA=",
             "dtype": "f8"
            },
            "sizemode": "area",
            "sizeref": 0.025527777777777778,
            "symbol": "circle"
           },
           "mode": "markers",
           "name": "Lithuania",
           "orientation": "v",
           "showlegend": true,
           "type": "scatter",
           "x": [
            "Lithuania"
           ],
           "xaxis": "x",
           "y": {
            "bdata": "MzMzMzMzREA=",
            "dtype": "f8"
           },
           "yaxis": "y"
          },
          {
           "hovertemplate": "Country=%{x}<br>TIME_PERIOD=2006<br>Material Import Dependency (%)=%{marker.size}<extra></extra>",
           "ids": [
            "Iceland"
           ],
           "legendgroup": "Iceland",
           "marker": {
            "color": "#EF553B",
            "size": {
             "bdata": "zczMzMxMQ0A=",
             "dtype": "f8"
            },
            "sizemode": "area",
            "sizeref": 0.025527777777777778,
            "symbol": "circle"
           },
           "mode": "markers",
           "name": "Iceland",
           "orientation": "v",
           "showlegend": true,
           "type": "scatter",
           "x": [
            "Iceland"
           ],
           "xaxis": "x",
           "y": {
            "bdata": "zczMzMxMQ0A=",
            "dtype": "f8"
           },
           "yaxis": "y"
          }
         ],
         "name": "2006"
        },
        {
         "data": [
          {
           "hovertemplate": "Country=%{x}<br>TIME_PERIOD=2007<br>Material Import Dependency (%)=%{marker.size}<extra></extra>",
           "ids": [
            "Luxembourg"
           ],
           "legendgroup": "Luxembourg",
           "marker": {
            "color": "#636efa",
            "size": {
             "bdata": "zczMzMzMVUA=",
             "dtype": "f8"
            },
            "sizemode": "area",
            "sizeref": 0.025527777777777778,
            "symbol": "circle"
           },
           "mode": "markers",
           "name": "Luxembourg",
           "orientation": "v",
           "showlegend": true,
           "type": "scatter",
           "x": [
            "Luxembourg"
           ],
           "xaxis": "x",
           "y": {
            "bdata": "zczMzMzMVUA=",
            "dtype": "f8"
           },
           "yaxis": "y"
          },
          {
           "hovertemplate": "Country=%{x}<br>TIME_PERIOD=2007<br>Material Import Dependency (%)=%{marker.size}<extra></extra>",
           "ids": [
            "Netherlands"
           ],
           "legendgroup": "Netherlands",
           "marker": {
            "color": "#EF553B",
            "size": {
             "bdata": "mpmZmZmZUkA=",
             "dtype": "f8"
            },
            "sizemode": "area",
            "sizeref": 0.025527777777777778,
            "symbol": "circle"
           },
           "mode": "markers",
           "name": "Netherlands",
           "orientation": "v",
           "showlegend": true,
           "type": "scatter",
           "x": [
            "Netherlands"
           ],
           "xaxis": "x",
           "y": {
            "bdata": "mpmZmZmZUkA=",
            "dtype": "f8"
           },
           "yaxis": "y"
          },
          {
           "hovertemplate": "Country=%{x}<br>TIME_PERIOD=2007<br>Material Import Dependency (%)=%{marker.size}<extra></extra>",
           "ids": [
            "Belgium"
           ],
           "legendgroup": "Belgium",
           "marker": {
            "color": "#00cc96",
            "size": {
             "bdata": "zczMzMxsUUA=",
             "dtype": "f8"
            },
            "sizemode": "area",
            "sizeref": 0.025527777777777778,
            "symbol": "circle"
           },
           "mode": "markers",
           "name": "Belgium",
           "orientation": "v",
           "showlegend": true,
           "type": "scatter",
           "x": [
            "Belgium"
           ],
           "xaxis": "x",
           "y": {
            "bdata": "zczMzMxsUUA=",
            "dtype": "f8"
           },
           "yaxis": "y"
          },
          {
           "hovertemplate": "Country=%{x}<br>TIME_PERIOD=2007<br>Material Import Dependency (%)=%{marker.size}<extra></extra>",
           "ids": [
            "Switzerland"
           ],
           "legendgroup": "Switzerland",
           "marker": {
            "color": "#ab63fa",
            "size": {
             "bdata": "mpmZmZnZRkA=",
             "dtype": "f8"
            },
            "sizemode": "area",
            "sizeref": 0.025527777777777778,
            "symbol": "circle"
           },
           "mode": "markers",
           "name": "Switzerland",
           "orientation": "v",
           "showlegend": true,
           "type": "scatter",
           "x": [
            "Switzerland"
           ],
           "xaxis": "x",
           "y": {
            "bdata": "mpmZmZnZRkA=",
            "dtype": "f8"
           },
           "yaxis": "y"
          },
          {
           "hovertemplate": "Country=%{x}<br>TIME_PERIOD=2007<br>Material Import Dependency (%)=%{marker.size}<extra></extra>",
           "ids": [
            "Slovakia"
           ],
           "legendgroup": "Slovakia",
           "marker": {
            "color": "#FFA15A",
            "size": {
             "bdata": "zczMzMxMRUA=",
             "dtype": "f8"
            },
            "sizemode": "area",
            "sizeref": 0.025527777777777778,
            "symbol": "circle"
           },
           "mode": "markers",
           "name": "Slovakia",
           "orientation": "v",
           "showlegend": true,
           "type": "scatter",
           "x": [
            "Slovakia"
           ],
           "xaxis": "x",
           "y": {
            "bdata": "zczMzMxMRUA=",
            "dtype": "f8"
           },
           "yaxis": "y"
          },
          {
           "hovertemplate": "Country=%{x}<br>TIME_PERIOD=2007<br>Material Import Dependency (%)=%{marker.size}<extra></extra>",
           "ids": [
            "Italy"
           ],
           "legendgroup": "Italy",
           "marker": {
            "color": "#19d3f3",
            "size": {
             "bdata": "AAAAAACAQ0A=",
             "dtype": "f8"
            },
            "sizemode": "area",
            "sizeref": 0.025527777777777778,
            "symbol": "circle"
           },
           "mode": "markers",
           "name": "Italy",
           "orientation": "v",
           "showlegend": true,
           "type": "scatter",
           "x": [
            "Italy"
           ],
           "xaxis": "x",
           "y": {
            "bdata": "AAAAAACAQ0A=",
            "dtype": "f8"
           },
           "yaxis": "y"
          },
          {
           "hovertemplate": "Country=%{x}<br>TIME_PERIOD=2007<br>Material Import Dependency (%)=%{marker.size}<extra></extra>",
           "ids": [
            "Austria"
           ],
           "legendgroup": "Austria",
           "marker": {
            "color": "#FF6692",
            "size": {
             "bdata": "mpmZmZnZQ0A=",
             "dtype": "f8"
            },
            "sizemode": "area",
            "sizeref": 0.025527777777777778,
            "symbol": "circle"
           },
           "mode": "markers",
           "name": "Austria",
           "orientation": "v",
           "showlegend": true,
           "type": "scatter",
           "x": [
            "Austria"
           ],
           "xaxis": "x",
           "y": {
            "bdata": "mpmZmZnZQ0A=",
            "dtype": "f8"
           },
           "yaxis": "y"
          },
          {
           "hovertemplate": "Country=%{x}<br>TIME_PERIOD=2007<br>Material Import Dependency (%)=%{marker.size}<extra></extra>",
           "ids": [
            "Malta"
           ],
           "legendgroup": "Malta",
           "marker": {
            "color": "#B6E880",
            "size": {
             "bdata": "mpmZmZlZSUA=",
             "dtype": "f8"
            },
            "sizemode": "area",
            "sizeref": 0.025527777777777778,
            "symbol": "circle"
           },
           "mode": "markers",
           "name": "Malta",
           "orientation": "v",
           "showlegend": true,
           "type": "scatter",
           "x": [
            "Malta"
           ],
           "xaxis": "x",
           "y": {
            "bdata": "mpmZmZlZSUA=",
            "dtype": "f8"
           },
           "yaxis": "y"
          },
          {
           "hovertemplate": "Country=%{x}<br>TIME_PERIOD=2007<br>Material Import Dependency (%)=%{marker.size}<extra></extra>",
           "ids": [
            "Germany"
           ],
           "legendgroup": "Germany",
           "marker": {
            "color": "#636efa",
            "size": {
             "bdata": "zczMzMxMQkA=",
             "dtype": "f8"
            },
            "sizemode": "area",
            "sizeref": 0.025527777777777778,
            "symbol": "circle"
           },
           "mode": "markers",
           "name": "Germany",
           "orientation": "v",
           "showlegend": true,
           "type": "scatter",
           "x": [
            "Germany"
           ],
           "xaxis": "x",
           "y": {
            "bdata": "zczMzMxMQkA=",
            "dtype": "f8"
           },
           "yaxis": "y"
          },
          {
           "hovertemplate": "Country=%{x}<br>TIME_PERIOD=2007<br>Material Import Dependency (%)=%{marker.size}<extra></extra>",
           "ids": [
            "Iceland"
           ],
           "legendgroup": "Iceland",
           "marker": {
            "color": "#EF553B",
            "size": {
             "bdata": "ZmZmZmamQ0A=",
             "dtype": "f8"
            },
            "sizemode": "area",
            "sizeref": 0.025527777777777778,
            "symbol": "circle"
           },
           "mode": "markers",
           "name": "Iceland",
           "orientation": "v",
           "showlegend": true,
           "type": "scatter",
           "x": [
            "Iceland"
           ],
           "xaxis": "x",
           "y": {
            "bdata": "ZmZmZmamQ0A=",
            "dtype": "f8"
           },
           "yaxis": "y"
          }
         ],
         "name": "2007"
        },
        {
         "data": [
          {
           "hovertemplate": "Country=%{x}<br>TIME_PERIOD=2008<br>Material Import Dependency (%)=%{marker.size}<extra></extra>",
           "ids": [
            "Luxembourg"
           ],
           "legendgroup": "Luxembourg",
           "marker": {
            "color": "#636efa",
            "size": {
             "bdata": "MzMzMzPTVUA=",
             "dtype": "f8"
            },
            "sizemode": "area",
            "sizeref": 0.025527777777777778,
            "symbol": "circle"
           },
           "mode": "markers",
           "name": "Luxembourg",
           "orientation": "v",
           "showlegend": true,
           "type": "scatter",
           "x": [
            "Luxembourg"
           ],
           "xaxis": "x",
           "y": {
            "bdata": "MzMzMzPTVUA=",
            "dtype": "f8"
           },
           "yaxis": "y"
          },
          {
           "hovertemplate": "Country=%{x}<br>TIME_PERIOD=2008<br>Material Import Dependency (%)=%{marker.size}<extra></extra>",
           "ids": [
            "Netherlands"
           ],
           "legendgroup": "Netherlands",
           "marker": {
            "color": "#EF553B",
            "size": {
             "bdata": "AAAAAABgUkA=",
             "dtype": "f8"
            },
            "sizemode": "area",
            "sizeref": 0.025527777777777778,
            "symbol": "circle"
           },
           "mode": "markers",
           "name": "Netherlands",
           "orientation": "v",
           "showlegend": true,
           "type": "scatter",
           "x": [
            "Netherlands"
           ],
           "xaxis": "x",
           "y": {
            "bdata": "AAAAAABgUkA=",
            "dtype": "f8"
           },
           "yaxis": "y"
          },
          {
           "hovertemplate": "Country=%{x}<br>TIME_PERIOD=2008<br>Material Import Dependency (%)=%{marker.size}<extra></extra>",
           "ids": [
            "Belgium"
           ],
           "legendgroup": "Belgium",
           "marker": {
            "color": "#00cc96",
            "size": {
             "bdata": "mpmZmZmZUUA=",
             "dtype": "f8"
            },
            "sizemode": "area",
            "sizeref": 0.025527777777777778,
            "symbol": "circle"
           },
           "mode": "markers",
           "name": "Belgium",
           "orientation": "v",
           "showlegend": true,
           "type": "scatter",
           "x": [
            "Belgium"
           ],
           "xaxis": "x",
           "y": {
            "bdata": "mpmZmZmZUUA=",
            "dtype": "f8"
           },
           "yaxis": "y"
          },
          {
           "hovertemplate": "Country=%{x}<br>TIME_PERIOD=2008<br>Material Import Dependency (%)=%{marker.size}<extra></extra>",
           "ids": [
            "Switzerland"
           ],
           "legendgroup": "Switzerland",
           "marker": {
            "color": "#ab63fa",
            "size": {
             "bdata": "ZmZmZmYmR0A=",
             "dtype": "f8"
            },
            "sizemode": "area",
            "sizeref": 0.025527777777777778,
            "symbol": "circle"
           },
           "mode": "markers",
           "name": "Switzerland",
           "orientation": "v",
           "showlegend": true,
           "type": "scatter",
           "x": [
            "Switzerland"
           ],
           "xaxis": "x",
           "y": {
            "bdata": "ZmZmZmYmR0A=",
            "dtype": "f8"
           },
           "yaxis": "y"
          },
          {
           "hovertemplate": "Country=%{x}<br>TIME_PERIOD=2008<br>Material Import Dependency (%)=%{marker.size}<extra></extra>",
           "ids": [
            "Slovakia"
           ],
           "legendgroup": "Slovakia",
           "marker": {
            "color": "#FFA15A",
            "size": {
             "bdata": "ZmZmZmZmQ0A=",
             "dtype": "f8"
            },
            "sizemode": "area",
            "sizeref": 0.025527777777777778,
            "symbol": "circle"
           },
           "mode": "markers",
           "name": "Slovakia",
           "orientation": "v",
           "showlegend": true,
           "type": "scatter",
           "x": [
            "Slovakia"
           ],
           "xaxis": "x",
           "y": {
            "bdata": "ZmZmZmZmQ0A=",
            "dtype": "f8"
           },
           "yaxis": "y"
          },
          {
           "hovertemplate": "Country=%{x}<br>TIME_PERIOD=2008<br>Material Import Dependency (%)=%{marker.size}<extra></extra>",
           "ids": [
            "Italy"
           ],
           "legendgroup": "Italy",
           "marker": {
            "color": "#19d3f3",
            "size": {
             "bdata": "mpmZmZmZQ0A=",
             "dtype": "f8"
            },
            "sizemode": "area",
            "sizeref": 0.025527777777777778,
            "symbol": "circle"
           },
           "mode": "markers",
           "name": "Italy",
           "orientation": "v",
           "showlegend": true,
           "type": "scatter",
           "x": [
            "Italy"
           ],
           "xaxis": "x",
           "y": {
            "bdata": "mpmZmZmZQ0A=",
            "dtype": "f8"
           },
           "yaxis": "y"
          },
          {
           "hovertemplate": "Country=%{x}<br>TIME_PERIOD=2008<br>Material Import Dependency (%)=%{marker.size}<extra></extra>",
           "ids": [
            "Austria"
           ],
           "legendgroup": "Austria",
           "marker": {
            "color": "#FF6692",
            "size": {
             "bdata": "zczMzMyMQ0A=",
             "dtype": "f8"
            },
            "sizemode": "area",
            "sizeref": 0.025527777777777778,
            "symbol": "circle"
           },
           "mode": "markers",
           "name": "Austria",
           "orientation": "v",
           "showlegend": true,
           "type": "scatter",
           "x": [
            "Austria"
           ],
           "xaxis": "x",
           "y": {
            "bdata": "zczMzMyMQ0A=",
            "dtype": "f8"
           },
           "yaxis": "y"
          },
          {
           "hovertemplate": "Country=%{x}<br>TIME_PERIOD=2008<br>Material Import Dependency (%)=%{marker.size}<extra></extra>",
           "ids": [
            "Malta"
           ],
           "legendgroup": "Malta",
           "marker": {
            "color": "#B6E880",
            "size": {
             "bdata": "MzMzMzPzSUA=",
             "dtype": "f8"
            },
            "sizemode": "area",
            "sizeref": 0.025527777777777778,
            "symbol": "circle"
           },
           "mode": "markers",
           "name": "Malta",
           "orientation": "v",
           "showlegend": true,
           "type": "scatter",
           "x": [
            "Malta"
           ],
           "xaxis": "x",
           "y": {
            "bdata": "MzMzMzPzSUA=",
            "dtype": "f8"
           },
           "yaxis": "y"
          },
          {
           "hovertemplate": "Country=%{x}<br>TIME_PERIOD=2008<br>Material Import Dependency (%)=%{marker.size}<extra></extra>",
           "ids": [
            "Iceland"
           ],
           "legendgroup": "Iceland",
           "marker": {
            "color": "#EF553B",
            "size": {
             "bdata": "MzMzMzPzRkA=",
             "dtype": "f8"
            },
            "sizemode": "area",
            "sizeref": 0.025527777777777778,
            "symbol": "circle"
           },
           "mode": "markers",
           "name": "Iceland",
           "orientation": "v",
           "showlegend": true,
           "type": "scatter",
           "x": [
            "Iceland"
           ],
           "xaxis": "x",
           "y": {
            "bdata": "MzMzMzPzRkA=",
            "dtype": "f8"
           },
           "yaxis": "y"
          },
          {
           "hovertemplate": "Country=%{x}<br>TIME_PERIOD=2008<br>Material Import Dependency (%)=%{marker.size}<extra></extra>",
           "ids": [
            "Slovenia"
           ],
           "legendgroup": "Slovenia",
           "marker": {
            "color": "#00cc96",
            "size": {
             "bdata": "MzMzMzOzQkA=",
             "dtype": "f8"
            },
            "sizemode": "area",
            "sizeref": 0.025527777777777778,
            "symbol": "circle"
           },
           "mode": "markers",
           "name": "Slovenia",
           "orientation": "v",
           "showlegend": true,
           "type": "scatter",
           "x": [
            "Slovenia"
           ],
           "xaxis": "x",
           "y": {
            "bdata": "MzMzMzOzQkA=",
            "dtype": "f8"
           },
           "yaxis": "y"
          }
         ],
         "name": "2008"
        },
        {
         "data": [
          {
           "hovertemplate": "Country=%{x}<br>TIME_PERIOD=2009<br>Material Import Dependency (%)=%{marker.size}<extra></extra>",
           "ids": [
            "Luxembourg"
           ],
           "legendgroup": "Luxembourg",
           "marker": {
            "color": "#636efa",
            "size": {
             "bdata": "zczMzMysVUA=",
             "dtype": "f8"
            },
            "sizemode": "area",
            "sizeref": 0.025527777777777778,
            "symbol": "circle"
           },
           "mode": "markers",
           "name": "Luxembourg",
           "orientation": "v",
           "showlegend": true,
           "type": "scatter",
           "x": [
            "Luxembourg"
           ],
           "xaxis": "x",
           "y": {
            "bdata": "zczMzMysVUA=",
            "dtype": "f8"
           },
           "yaxis": "y"
          },
          {
           "hovertemplate": "Country=%{x}<br>TIME_PERIOD=2009<br>Material Import Dependency (%)=%{marker.size}<extra></extra>",
           "ids": [
            "Netherlands"
           ],
           "legendgroup": "Netherlands",
           "marker": {
            "color": "#EF553B",
            "size": {
             "bdata": "ZmZmZmYmUkA=",
             "dtype": "f8"
            },
            "sizemode": "area",
            "sizeref": 0.025527777777777778,
            "symbol": "circle"
           },
           "mode": "markers",
           "name": "Netherlands",
           "orientation": "v",
           "showlegend": true,
           "type": "scatter",
           "x": [
            "Netherlands"
           ],
           "xaxis": "x",
           "y": {
            "bdata": "ZmZmZmYmUkA=",
            "dtype": "f8"
           },
           "yaxis": "y"
          },
          {
           "hovertemplate": "Country=%{x}<br>TIME_PERIOD=2009<br>Material Import Dependency (%)=%{marker.size}<extra></extra>",
           "ids": [
            "Belgium"
           ],
           "legendgroup": "Belgium",
           "marker": {
            "color": "#00cc96",
            "size": {
             "bdata": "ZmZmZmaGUUA=",
             "dtype": "f8"
            },
            "sizemode": "area",
            "sizeref": 0.025527777777777778,
            "symbol": "circle"
           },
           "mode": "markers",
           "name": "Belgium",
           "orientation": "v",
           "showlegend": true,
           "type": "scatter",
           "x": [
            "Belgium"
           ],
           "xaxis": "x",
           "y": {
            "bdata": "ZmZmZmaGUUA=",
            "dtype": "f8"
           },
           "yaxis": "y"
          },
          {
           "hovertemplate": "Country=%{x}<br>TIME_PERIOD=2009<br>Material Import Dependency (%)=%{marker.size}<extra></extra>",
           "ids": [
            "Switzerland"
           ],
           "legendgroup": "Switzerland",
           "marker": {
            "color": "#ab63fa",
            "size": {
             "bdata": "zczMzMxMRkA=",
             "dtype": "f8"
            },
            "sizemode": "area",
            "sizeref": 0.025527777777777778,
            "symbol": "circle"
           },
           "mode": "markers",
           "name": "Switzerland",
           "orientation": "v",
           "showlegend": true,
           "type": "scatter",
           "x": [
            "Switzerland"
           ],
           "xaxis": "x",
           "y": {
            "bdata": "zczMzMxMRkA=",
            "dtype": "f8"
           },
           "yaxis": "y"
          },
          {
           "hovertemplate": "Country=%{x}<br>TIME_PERIOD=2009<br>Material Import Dependency (%)=%{marker.size}<extra></extra>",
           "ids": [
            "Slovakia"
           ],
           "legendgroup": "Slovakia",
           "marker": {
            "color": "#FFA15A",
            "size": {
             "bdata": "AAAAAABAQ0A=",
             "dtype": "f8"
            },
            "sizemode": "area",
            "sizeref": 0.025527777777777778,
            "symbol": "circle"
           },
           "mode": "markers",
           "name": "Slovakia",
           "orientation": "v",
           "showlegend": true,
           "type": "scatter",
           "x": [
            "Slovakia"
           ],
           "xaxis": "x",
           "y": {
            "bdata": "AAAAAABAQ0A=",
            "dtype": "f8"
           },
           "yaxis": "y"
          },
          {
           "hovertemplate": "Country=%{x}<br>TIME_PERIOD=2009<br>Material Import Dependency (%)=%{marker.size}<extra></extra>",
           "ids": [
            "Italy"
           ],
           "legendgroup": "Italy",
           "marker": {
            "color": "#19d3f3",
            "size": {
             "bdata": "MzMzMzOzQkA=",
             "dtype": "f8"
            },
            "sizemode": "area",
            "sizeref": 0.025527777777777778,
            "symbol": "circle"
           },
           "mode": "markers",
           "name": "Italy",
           "orientation": "v",
           "showlegend": true,
           "type": "scatter",
           "x": [
            "Italy"
           ],
           "xaxis": "x",
           "y": {
            "bdata": "MzMzMzOzQkA=",
            "dtype": "f8"
           },
           "yaxis": "y"
          },
          {
           "hovertemplate": "Country=%{x}<br>TIME_PERIOD=2009<br>Material Import Dependency (%)=%{marker.size}<extra></extra>",
           "ids": [
            "Austria"
           ],
           "legendgroup": "Austria",
           "marker": {
            "color": "#FF6692",
            "size": {
             "bdata": "MzMzMzNzQ0A=",
             "dtype": "f8"
            },
            "sizemode": "area",
            "sizeref": 0.025527777777777778,
            "symbol": "circle"
           },
           "mode": "markers",
           "name": "Austria",
           "orientation": "v",
           "showlegend": true,
           "type": "scatter",
           "x": [
            "Austria"
           ],
           "xaxis": "x",
           "y": {
            "bdata": "MzMzMzNzQ0A=",
            "dtype": "f8"
           },
           "yaxis": "y"
          },
          {
           "hovertemplate": "Country=%{x}<br>TIME_PERIOD=2009<br>Material Import Dependency (%)=%{marker.size}<extra></extra>",
           "ids": [
            "Malta"
           ],
           "legendgroup": "Malta",
           "marker": {
            "color": "#B6E880",
            "size": {
             "bdata": "AAAAAACATkA=",
             "dtype": "f8"
            },
            "sizemode": "area",
            "sizeref": 0.025527777777777778,
            "symbol": "circle"
           },
           "mode": "markers",
           "name": "Malta",
           "orientation": "v",
           "showlegend": true,
           "type": "scatter",
           "x": [
            "Malta"
           ],
           "xaxis": "x",
           "y": {
            "bdata": "AAAAAACATkA=",
            "dtype": "f8"
           },
           "yaxis": "y"
          },
          {
           "hovertemplate": "Country=%{x}<br>TIME_PERIOD=2009<br>Material Import Dependency (%)=%{marker.size}<extra></extra>",
           "ids": [
            "Lithuania"
           ],
           "legendgroup": "Lithuania",
           "marker": {
            "color": "#FF97FF",
            "size": {
             "bdata": "AAAAAACAQ0A=",
             "dtype": "f8"
            },
            "sizemode": "area",
            "sizeref": 0.025527777777777778,
            "symbol": "circle"
           },
           "mode": "markers",
           "name": "Lithuania",
           "orientation": "v",
           "showlegend": true,
           "type": "scatter",
           "x": [
            "Lithuania"
           ],
           "xaxis": "x",
           "y": {
            "bdata": "AAAAAACAQ0A=",
            "dtype": "f8"
           },
           "yaxis": "y"
          },
          {
           "hovertemplate": "Country=%{x}<br>TIME_PERIOD=2009<br>Material Import Dependency (%)=%{marker.size}<extra></extra>",
           "ids": [
            "Iceland"
           ],
           "legendgroup": "Iceland",
           "marker": {
            "color": "#EF553B",
            "size": {
             "bdata": "MzMzMzMzS0A=",
             "dtype": "f8"
            },
            "sizemode": "area",
            "sizeref": 0.025527777777777778,
            "symbol": "circle"
           },
           "mode": "markers",
           "name": "Iceland",
           "orientation": "v",
           "showlegend": true,
           "type": "scatter",
           "x": [
            "Iceland"
           ],
           "xaxis": "x",
           "y": {
            "bdata": "MzMzMzMzS0A=",
            "dtype": "f8"
           },
           "yaxis": "y"
          }
         ],
         "name": "2009"
        },
        {
         "data": [
          {
           "hovertemplate": "Country=%{x}<br>TIME_PERIOD=2010<br>Material Import Dependency (%)=%{marker.size}<extra></extra>",
           "ids": [
            "Luxembourg"
           ],
           "legendgroup": "Luxembourg",
           "marker": {
            "color": "#636efa",
            "size": {
             "bdata": "zczMzMyMVkA=",
             "dtype": "f8"
            },
            "sizemode": "area",
            "sizeref": 0.025527777777777778,
            "symbol": "circle"
           },
           "mode": "markers",
           "name": "Luxembourg",
           "orientation": "v",
           "showlegend": true,
           "type": "scatter",
           "x": [
            "Luxembourg"
           ],
           "xaxis": "x",
           "y": {
            "bdata": "zczMzMyMVkA=",
            "dtype": "f8"
           },
           "yaxis": "y"
          },
          {
           "hovertemplate": "Country=%{x}<br>TIME_PERIOD=2010<br>Material Import Dependency (%)=%{marker.size}<extra></extra>",
           "ids": [
            "Netherlands"
           ],
           "legendgroup": "Netherlands",
           "marker": {
            "color": "#EF553B",
            "size": {
             "bdata": "MzMzMzMTUkA=",
             "dtype": "f8"
            },
            "sizemode": "area",
            "sizeref": 0.025527777777777778,
            "symbol": "circle"
           },
           "mode": "markers",
           "name": "Netherlands",
           "orientation": "v",
           "showlegend": true,
           "type": "scatter",
           "x": [
            "Netherlands"
           ],
           "xaxis": "x",
           "y": {
            "bdata": "MzMzMzMTUkA=",
            "dtype": "f8"
           },
           "yaxis": "y"
          },
          {
           "hovertemplate": "Country=%{x}<br>TIME_PERIOD=2010<br>Material Import Dependency (%)=%{marker.size}<extra></extra>",
           "ids": [
            "Belgium"
           ],
           "legendgroup": "Belgium",
           "marker": {
            "color": "#00cc96",
            "size": {
             "bdata": "AAAAAAAgUkA=",
             "dtype": "f8"
            },
            "sizemode": "area",
            "sizeref": 0.025527777777777778,
            "symbol": "circle"
           },
           "mode": "markers",
           "name": "Belgium",
           "orientation": "v",
           "showlegend": true,
           "type": "scatter",
           "x": [
            "Belgium"
           ],
           "xaxis": "x",
           "y": {
            "bdata": "AAAAAAAgUkA=",
            "dtype": "f8"
           },
           "yaxis": "y"
          },
          {
           "hovertemplate": "Country=%{x}<br>TIME_PERIOD=2010<br>Material Import Dependency (%)=%{marker.size}<extra></extra>",
           "ids": [
            "Switzerland"
           ],
           "legendgroup": "Switzerland",
           "marker": {
            "color": "#ab63fa",
            "size": {
             "bdata": "AAAAAADARkA=",
             "dtype": "f8"
            },
            "sizemode": "area",
            "sizeref": 0.025527777777777778,
            "symbol": "circle"
           },
           "mode": "markers",
           "name": "Switzerland",
           "orientation": "v",
           "showlegend": true,
           "type": "scatter",
           "x": [
            "Switzerland"
           ],
           "xaxis": "x",
           "y": {
            "bdata": "AAAAAADARkA=",
            "dtype": "f8"
           },
           "yaxis": "y"
          },
          {
           "hovertemplate": "Country=%{x}<br>TIME_PERIOD=2010<br>Material Import Dependency (%)=%{marker.size}<extra></extra>",
           "ids": [
            "Slovakia"
           ],
           "legendgroup": "Slovakia",
           "marker": {
            "color": "#FFA15A",
            "size": {
             "bdata": "mpmZmZkZRUA=",
             "dtype": "f8"
            },
            "sizemode": "area",
            "sizeref": 0.025527777777777778,
            "symbol": "circle"
           },
           "mode": "markers",
           "name": "Slovakia",
           "orientation": "v",
           "showlegend": true,
           "type": "scatter",
           "x": [
            "Slovakia"
           ],
           "xaxis": "x",
           "y": {
            "bdata": "mpmZmZkZRUA=",
            "dtype": "f8"
           },
           "yaxis": "y"
          },
          {
           "hovertemplate": "Country=%{x}<br>TIME_PERIOD=2010<br>Material Import Dependency (%)=%{marker.size}<extra></extra>",
           "ids": [
            "Italy"
           ],
           "legendgroup": "Italy",
           "marker": {
            "color": "#19d3f3",
            "size": {
             "bdata": "mpmZmZnZREA=",
             "dtype": "f8"
            },
            "sizemode": "area",
            "sizeref": 0.025527777777777778,
            "symbol": "circle"
           },
           "mode": "markers",
           "name": "Italy",
           "orientation": "v",
           "showlegend": true,
           "type": "scatter",
           "x": [
            "Italy"
           ],
           "xaxis": "x",
           "y": {
            "bdata": "mpmZmZnZREA=",
            "dtype": "f8"
           },
           "yaxis": "y"
          },
          {
           "hovertemplate": "Country=%{x}<br>TIME_PERIOD=2010<br>Material Import Dependency (%)=%{marker.size}<extra></extra>",
           "ids": [
            "Austria"
           ],
           "legendgroup": "Austria",
           "marker": {
            "color": "#FF6692",
            "size": {
             "bdata": "AAAAAADAREA=",
             "dtype": "f8"
            },
            "sizemode": "area",
            "sizeref": 0.025527777777777778,
            "symbol": "circle"
           },
           "mode": "markers",
           "name": "Austria",
           "orientation": "v",
           "showlegend": true,
           "type": "scatter",
           "x": [
            "Austria"
           ],
           "xaxis": "x",
           "y": {
            "bdata": "AAAAAADAREA=",
            "dtype": "f8"
           },
           "yaxis": "y"
          },
          {
           "hovertemplate": "Country=%{x}<br>TIME_PERIOD=2010<br>Material Import Dependency (%)=%{marker.size}<extra></extra>",
           "ids": [
            "Malta"
           ],
           "legendgroup": "Malta",
           "marker": {
            "color": "#B6E880",
            "size": {
             "bdata": "mpmZmZnZTEA=",
             "dtype": "f8"
            },
            "sizemode": "area",
            "sizeref": 0.025527777777777778,
            "symbol": "circle"
           },
           "mode": "markers",
           "name": "Malta",
           "orientation": "v",
           "showlegend": true,
           "type": "scatter",
           "x": [
            "Malta"
           ],
           "xaxis": "x",
           "y": {
            "bdata": "mpmZmZnZTEA=",
            "dtype": "f8"
           },
           "yaxis": "y"
          },
          {
           "hovertemplate": "Country=%{x}<br>TIME_PERIOD=2010<br>Material Import Dependency (%)=%{marker.size}<extra></extra>",
           "ids": [
            "Lithuania"
           ],
           "legendgroup": "Lithuania",
           "marker": {
            "color": "#FF97FF",
            "size": {
             "bdata": "AAAAAACAREA=",
             "dtype": "f8"
            },
            "sizemode": "area",
            "sizeref": 0.025527777777777778,
            "symbol": "circle"
           },
           "mode": "markers",
           "name": "Lithuania",
           "orientation": "v",
           "showlegend": true,
           "type": "scatter",
           "x": [
            "Lithuania"
           ],
           "xaxis": "x",
           "y": {
            "bdata": "AAAAAACAREA=",
            "dtype": "f8"
           },
           "yaxis": "y"
          },
          {
           "hovertemplate": "Country=%{x}<br>TIME_PERIOD=2010<br>Material Import Dependency (%)=%{marker.size}<extra></extra>",
           "ids": [
            "Iceland"
           ],
           "legendgroup": "Iceland",
           "marker": {
            "color": "#EF553B",
            "size": {
             "bdata": "MzMzMzPzTEA=",
             "dtype": "f8"
            },
            "sizemode": "area",
            "sizeref": 0.025527777777777778,
            "symbol": "circle"
           },
           "mode": "markers",
           "name": "Iceland",
           "orientation": "v",
           "showlegend": true,
           "type": "scatter",
           "x": [
            "Iceland"
           ],
           "xaxis": "x",
           "y": {
            "bdata": "MzMzMzPzTEA=",
            "dtype": "f8"
           },
           "yaxis": "y"
          }
         ],
         "name": "2010"
        },
        {
         "data": [
          {
           "hovertemplate": "Country=%{x}<br>TIME_PERIOD=2011<br>Material Import Dependency (%)=%{marker.size}<extra></extra>",
           "ids": [
            "Luxembourg"
           ],
           "legendgroup": "Luxembourg",
           "marker": {
            "color": "#636efa",
            "size": {
             "bdata": "mpmZmZn5VkA=",
             "dtype": "f8"
            },
            "sizemode": "area",
            "sizeref": 0.025527777777777778,
            "symbol": "circle"
           },
           "mode": "markers",
           "name": "Luxembourg",
           "orientation": "v",
           "showlegend": true,
           "type": "scatter",
           "x": [
            "Luxembourg"
           ],
           "xaxis": "x",
           "y": {
            "bdata": "mpmZmZn5VkA=",
            "dtype": "f8"
           },
           "yaxis": "y"
          },
          {
           "hovertemplate": "Country=%{x}<br>TIME_PERIOD=2011<br>Material Import Dependency (%)=%{marker.size}<extra></extra>",
           "ids": [
            "Netherlands"
           ],
           "legendgroup": "Netherlands",
           "marker": {
            "color": "#EF553B",
            "size": {
             "bdata": "AAAAAAAgUkA=",
             "dtype": "f8"
            },
            "sizemode": "area",
            "sizeref": 0.025527777777777778,
            "symbol": "circle"
           },
           "mode": "markers",
           "name": "Netherlands",
           "orientation": "v",
           "showlegend": true,
           "type": "scatter",
           "x": [
            "Netherlands"
           ],
           "xaxis": "x",
           "y": {
            "bdata": "AAAAAAAgUkA=",
            "dtype": "f8"
           },
           "yaxis": "y"
          },
          {
           "hovertemplate": "Country=%{x}<br>TIME_PERIOD=2011<br>Material Import Dependency (%)=%{marker.size}<extra></extra>",
           "ids": [
            "Belgium"
           ],
           "legendgroup": "Belgium",
           "marker": {
            "color": "#00cc96",
            "size": {
             "bdata": "MzMzMzPTUUA=",
             "dtype": "f8"
            },
            "sizemode": "area",
            "sizeref": 0.025527777777777778,
            "symbol": "circle"
           },
           "mode": "markers",
           "name": "Belgium",
           "orientation": "v",
           "showlegend": true,
           "type": "scatter",
           "x": [
            "Belgium"
           ],
           "xaxis": "x",
           "y": {
            "bdata": "MzMzMzPTUUA=",
            "dtype": "f8"
           },
           "yaxis": "y"
          },
          {
           "hovertemplate": "Country=%{x}<br>TIME_PERIOD=2011<br>Material Import Dependency (%)=%{marker.size}<extra></extra>",
           "ids": [
            "Switzerland"
           ],
           "legendgroup": "Switzerland",
           "marker": {
            "color": "#ab63fa",
            "size": {
             "bdata": "zczMzMyMRkA=",
             "dtype": "f8"
            },
            "sizemode": "area",
            "sizeref": 0.025527777777777778,
            "symbol": "circle"
           },
           "mode": "markers",
           "name": "Switzerland",
           "orientation": "v",
           "showlegend": true,
           "type": "scatter",
           "x": [
            "Switzerland"
           ],
           "xaxis": "x",
           "y": {
            "bdata": "zczMzMyMRkA=",
            "dtype": "f8"
           },
           "yaxis": "y"
          },
          {
           "hovertemplate": "Country=%{x}<br>TIME_PERIOD=2011<br>Material Import Dependency (%)=%{marker.size}<extra></extra>",
           "ids": [
            "Slovakia"
           ],
           "legendgroup": "Slovakia",
           "marker": {
            "color": "#FFA15A",
            "size": {
             "bdata": "ZmZmZmbmREA=",
             "dtype": "f8"
            },
            "sizemode": "area",
            "sizeref": 0.025527777777777778,
            "symbol": "circle"
           },
           "mode": "markers",
           "name": "Slovakia",
           "orientation": "v",
           "showlegend": true,
           "type": "scatter",
           "x": [
            "Slovakia"
           ],
           "xaxis": "x",
           "y": {
            "bdata": "ZmZmZmbmREA=",
            "dtype": "f8"
           },
           "yaxis": "y"
          },
          {
           "hovertemplate": "Country=%{x}<br>TIME_PERIOD=2011<br>Material Import Dependency (%)=%{marker.size}<extra></extra>",
           "ids": [
            "Italy"
           ],
           "legendgroup": "Italy",
           "marker": {
            "color": "#19d3f3",
            "size": {
             "bdata": "AAAAAABAREA=",
             "dtype": "f8"
            },
            "sizemode": "area",
            "sizeref": 0.025527777777777778,
            "symbol": "circle"
           },
           "mode": "markers",
           "name": "Italy",
           "orientation": "v",
           "showlegend": true,
           "type": "scatter",
           "x": [
            "Italy"
           ],
           "xaxis": "x",
           "y": {
            "bdata": "AAAAAABAREA=",
            "dtype": "f8"
           },
           "yaxis": "y"
          },
          {
           "hovertemplate": "Country=%{x}<br>TIME_PERIOD=2011<br>Material Import Dependency (%)=%{marker.size}<extra></extra>",
           "ids": [
            "Austria"
           ],
           "legendgroup": "Austria",
           "marker": {
            "color": "#FF6692",
            "size": {
             "bdata": "ZmZmZmamREA=",
             "dtype": "f8"
            },
            "sizemode": "area",
            "sizeref": 0.025527777777777778,
            "symbol": "circle"
           },
           "mode": "markers",
           "name": "Austria",
           "orientation": "v",
           "showlegend": true,
           "type": "scatter",
           "x": [
            "Austria"
           ],
           "xaxis": "x",
           "y": {
            "bdata": "ZmZmZmamREA=",
            "dtype": "f8"
           },
           "yaxis": "y"
          },
          {
           "hovertemplate": "Country=%{x}<br>TIME_PERIOD=2011<br>Material Import Dependency (%)=%{marker.size}<extra></extra>",
           "ids": [
            "Malta"
           ],
           "legendgroup": "Malta",
           "marker": {
            "color": "#B6E880",
            "size": {
             "bdata": "MzMzMzMzT0A=",
             "dtype": "f8"
            },
            "sizemode": "area",
            "sizeref": 0.025527777777777778,
            "symbol": "circle"
           },
           "mode": "markers",
           "name": "Malta",
           "orientation": "v",
           "showlegend": true,
           "type": "scatter",
           "x": [
            "Malta"
           ],
           "xaxis": "x",
           "y": {
            "bdata": "MzMzMzMzT0A=",
            "dtype": "f8"
           },
           "yaxis": "y"
          },
          {
           "hovertemplate": "Country=%{x}<br>TIME_PERIOD=2011<br>Material Import Dependency (%)=%{marker.size}<extra></extra>",
           "ids": [
            "Iceland"
           ],
           "legendgroup": "Iceland",
           "marker": {
            "color": "#EF553B",
            "size": {
             "bdata": "zczMzMxMTkA=",
             "dtype": "f8"
            },
            "sizemode": "area",
            "sizeref": 0.025527777777777778,
            "symbol": "circle"
           },
           "mode": "markers",
           "name": "Iceland",
           "orientation": "v",
           "showlegend": true,
           "type": "scatter",
           "x": [
            "Iceland"
           ],
           "xaxis": "x",
           "y": {
            "bdata": "zczMzMxMTkA=",
            "dtype": "f8"
           },
           "yaxis": "y"
          },
          {
           "hovertemplate": "Country=%{x}<br>TIME_PERIOD=2011<br>Material Import Dependency (%)=%{marker.size}<extra></extra>",
           "ids": [
            "Slovenia"
           ],
           "legendgroup": "Slovenia",
           "marker": {
            "color": "#00cc96",
            "size": {
             "bdata": "ZmZmZmZmREA=",
             "dtype": "f8"
            },
            "sizemode": "area",
            "sizeref": 0.025527777777777778,
            "symbol": "circle"
           },
           "mode": "markers",
           "name": "Slovenia",
           "orientation": "v",
           "showlegend": true,
           "type": "scatter",
           "x": [
            "Slovenia"
           ],
           "xaxis": "x",
           "y": {
            "bdata": "ZmZmZmZmREA=",
            "dtype": "f8"
           },
           "yaxis": "y"
          }
         ],
         "name": "2011"
        },
        {
         "data": [
          {
           "hovertemplate": "Country=%{x}<br>TIME_PERIOD=2012<br>Material Import Dependency (%)=%{marker.size}<extra></extra>",
           "ids": [
            "Luxembourg"
           ],
           "legendgroup": "Luxembourg",
           "marker": {
            "color": "#636efa",
            "size": {
             "bdata": "ZmZmZmbmVUA=",
             "dtype": "f8"
            },
            "sizemode": "area",
            "sizeref": 0.025527777777777778,
            "symbol": "circle"
           },
           "mode": "markers",
           "name": "Luxembourg",
           "orientation": "v",
           "showlegend": true,
           "type": "scatter",
           "x": [
            "Luxembourg"
           ],
           "xaxis": "x",
           "y": {
            "bdata": "ZmZmZmbmVUA=",
            "dtype": "f8"
           },
           "yaxis": "y"
          },
          {
           "hovertemplate": "Country=%{x}<br>TIME_PERIOD=2012<br>Material Import Dependency (%)=%{marker.size}<extra></extra>",
           "ids": [
            "Netherlands"
           ],
           "legendgroup": "Netherlands",
           "marker": {
            "color": "#EF553B",
            "size": {
             "bdata": "mpmZmZlZUkA=",
             "dtype": "f8"
            },
            "sizemode": "area",
            "sizeref": 0.025527777777777778,
            "symbol": "circle"
           },
           "mode": "markers",
           "name": "Netherlands",
           "orientation": "v",
           "showlegend": true,
           "type": "scatter",
           "x": [
            "Netherlands"
           ],
           "xaxis": "x",
           "y": {
            "bdata": "mpmZmZlZUkA=",
            "dtype": "f8"
           },
           "yaxis": "y"
          },
          {
           "hovertemplate": "Country=%{x}<br>TIME_PERIOD=2012<br>Material Import Dependency (%)=%{marker.size}<extra></extra>",
           "ids": [
            "Belgium"
           ],
           "legendgroup": "Belgium",
           "marker": {
            "color": "#00cc96",
            "size": {
             "bdata": "zczMzMwMUkA=",
             "dtype": "f8"
            },
            "sizemode": "area",
            "sizeref": 0.025527777777777778,
            "symbol": "circle"
           },
           "mode": "markers",
           "name": "Belgium",
           "orientation": "v",
           "showlegend": true,
           "type": "scatter",
           "x": [
            "Belgium"
           ],
           "xaxis": "x",
           "y": {
            "bdata": "zczMzMwMUkA=",
            "dtype": "f8"
           },
           "yaxis": "y"
          },
          {
           "hovertemplate": "Country=%{x}<br>TIME_PERIOD=2012<br>Material Import Dependency (%)=%{marker.size}<extra></extra>",
           "ids": [
            "Switzerland"
           ],
           "legendgroup": "Switzerland",
           "marker": {
            "color": "#ab63fa",
            "size": {
             "bdata": "ZmZmZmbmRkA=",
             "dtype": "f8"
            },
            "sizemode": "area",
            "sizeref": 0.025527777777777778,
            "symbol": "circle"
           },
           "mode": "markers",
           "name": "Switzerland",
           "orientation": "v",
           "showlegend": true,
           "type": "scatter",
           "x": [
            "Switzerland"
           ],
           "xaxis": "x",
           "y": {
            "bdata": "ZmZmZmbmRkA=",
            "dtype": "f8"
           },
           "yaxis": "y"
          },
          {
           "hovertemplate": "Country=%{x}<br>TIME_PERIOD=2012<br>Material Import Dependency (%)=%{marker.size}<extra></extra>",
           "ids": [
            "Slovakia"
           ],
           "legendgroup": "Slovakia",
           "marker": {
            "color": "#FFA15A",
            "size": {
             "bdata": "mpmZmZkZRkA=",
             "dtype": "f8"
            },
            "sizemode": "area",
            "sizeref": 0.025527777777777778,
            "symbol": "circle"
           },
           "mode": "markers",
           "name": "Slovakia",
           "orientation": "v",
           "showlegend": true,
           "type": "scatter",
           "x": [
            "Slovakia"
           ],
           "xaxis": "x",
           "y": {
            "bdata": "mpmZmZkZRkA=",
            "dtype": "f8"
           },
           "yaxis": "y"
          },
          {
           "hovertemplate": "Country=%{x}<br>TIME_PERIOD=2012<br>Material Import Dependency (%)=%{marker.size}<extra></extra>",
           "ids": [
            "Italy"
           ],
           "legendgroup": "Italy",
           "marker": {
            "color": "#19d3f3",
            "size": {
             "bdata": "ZmZmZmZmRUA=",
             "dtype": "f8"
            },
            "sizemode": "area",
            "sizeref": 0.025527777777777778,
            "symbol": "circle"
           },
           "mode": "markers",
           "name": "Italy",
           "orientation": "v",
           "showlegend": true,
           "type": "scatter",
           "x": [
            "Italy"
           ],
           "xaxis": "x",
           "y": {
            "bdata": "ZmZmZmZmRUA=",
            "dtype": "f8"
           },
           "yaxis": "y"
          },
          {
           "hovertemplate": "Country=%{x}<br>TIME_PERIOD=2012<br>Material Import Dependency (%)=%{marker.size}<extra></extra>",
           "ids": [
            "Austria"
           ],
           "legendgroup": "Austria",
           "marker": {
            "color": "#FF6692",
            "size": {
             "bdata": "MzMzMzNzRUA=",
             "dtype": "f8"
            },
            "sizemode": "area",
            "sizeref": 0.025527777777777778,
            "symbol": "circle"
           },
           "mode": "markers",
           "name": "Austria",
           "orientation": "v",
           "showlegend": true,
           "type": "scatter",
           "x": [
            "Austria"
           ],
           "xaxis": "x",
           "y": {
            "bdata": "MzMzMzNzRUA=",
            "dtype": "f8"
           },
           "yaxis": "y"
          },
          {
           "hovertemplate": "Country=%{x}<br>TIME_PERIOD=2012<br>Material Import Dependency (%)=%{marker.size}<extra></extra>",
           "ids": [
            "Malta"
           ],
           "legendgroup": "Malta",
           "marker": {
            "color": "#B6E880",
            "size": {
             "bdata": "ZmZmZmYGUUA=",
             "dtype": "f8"
            },
            "sizemode": "area",
            "sizeref": 0.025527777777777778,
            "symbol": "circle"
           },
           "mode": "markers",
           "name": "Malta",
           "orientation": "v",
           "showlegend": true,
           "type": "scatter",
           "x": [
            "Malta"
           ],
           "xaxis": "x",
           "y": {
            "bdata": "ZmZmZmYGUUA=",
            "dtype": "f8"
           },
           "yaxis": "y"
          },
          {
           "hovertemplate": "Country=%{x}<br>TIME_PERIOD=2012<br>Material Import Dependency (%)=%{marker.size}<extra></extra>",
           "ids": [
            "Iceland"
           ],
           "legendgroup": "Iceland",
           "marker": {
            "color": "#EF553B",
            "size": {
             "bdata": "AAAAAABATEA=",
             "dtype": "f8"
            },
            "sizemode": "area",
            "sizeref": 0.025527777777777778,
            "symbol": "circle"
           },
           "mode": "markers",
           "name": "Iceland",
           "orientation": "v",
           "showlegend": true,
           "type": "scatter",
           "x": [
            "Iceland"
           ],
           "xaxis": "x",
           "y": {
            "bdata": "AAAAAABATEA=",
            "dtype": "f8"
           },
           "yaxis": "y"
          },
          {
           "hovertemplate": "Country=%{x}<br>TIME_PERIOD=2012<br>Material Import Dependency (%)=%{marker.size}<extra></extra>",
           "ids": [
            "Slovenia"
           ],
           "legendgroup": "Slovenia",
           "marker": {
            "color": "#00cc96",
            "size": {
             "bdata": "zczMzMyMRUA=",
             "dtype": "f8"
            },
            "sizemode": "area",
            "sizeref": 0.025527777777777778,
            "symbol": "circle"
           },
           "mode": "markers",
           "name": "Slovenia",
           "orientation": "v",
           "showlegend": true,
           "type": "scatter",
           "x": [
            "Slovenia"
           ],
           "xaxis": "x",
           "y": {
            "bdata": "zczMzMyMRUA=",
            "dtype": "f8"
           },
           "yaxis": "y"
          }
         ],
         "name": "2012"
        },
        {
         "data": [
          {
           "hovertemplate": "Country=%{x}<br>TIME_PERIOD=2013<br>Material Import Dependency (%)=%{marker.size}<extra></extra>",
           "ids": [
            "Luxembourg"
           ],
           "legendgroup": "Luxembourg",
           "marker": {
            "color": "#636efa",
            "size": {
             "bdata": "zczMzMzMVUA=",
             "dtype": "f8"
            },
            "sizemode": "area",
            "sizeref": 0.025527777777777778,
            "symbol": "circle"
           },
           "mode": "markers",
           "name": "Luxembourg",
           "orientation": "v",
           "showlegend": true,
           "type": "scatter",
           "x": [
            "Luxembourg"
           ],
           "xaxis": "x",
           "y": {
            "bdata": "zczMzMzMVUA=",
            "dtype": "f8"
           },
           "yaxis": "y"
          },
          {
           "hovertemplate": "Country=%{x}<br>TIME_PERIOD=2013<br>Material Import Dependency (%)=%{marker.size}<extra></extra>",
           "ids": [
            "Netherlands"
           ],
           "legendgroup": "Netherlands",
           "marker": {
            "color": "#EF553B",
            "size": {
             "bdata": "MzMzMzNTUkA=",
             "dtype": "f8"
            },
            "sizemode": "area",
            "sizeref": 0.025527777777777778,
            "symbol": "circle"
           },
           "mode": "markers",
           "name": "Netherlands",
           "orientation": "v",
           "showlegend": true,
           "type": "scatter",
           "x": [
            "Netherlands"
           ],
           "xaxis": "x",
           "y": {
            "bdata": "MzMzMzNTUkA=",
            "dtype": "f8"
           },
           "yaxis": "y"
          },
          {
           "hovertemplate": "Country=%{x}<br>TIME_PERIOD=2013<br>Material Import Dependency (%)=%{marker.size}<extra></extra>",
           "ids": [
            "Belgium"
           ],
           "legendgroup": "Belgium",
           "marker": {
            "color": "#00cc96",
            "size": {
             "bdata": "ZmZmZmYGUkA=",
             "dtype": "f8"
            },
            "sizemode": "area",
            "sizeref": 0.025527777777777778,
            "symbol": "circle"
           },
           "mode": "markers",
           "name": "Belgium",
           "orientation": "v",
           "showlegend": true,
           "type": "scatter",
           "x": [
            "Belgium"
           ],
           "xaxis": "x",
           "y": {
            "bdata": "ZmZmZmYGUkA=",
            "dtype": "f8"
           },
           "yaxis": "y"
          },
          {
           "hovertemplate": "Country=%{x}<br>TIME_PERIOD=2013<br>Material Import Dependency (%)=%{marker.size}<extra></extra>",
           "ids": [
            "Switzerland"
           ],
           "legendgroup": "Switzerland",
           "marker": {
            "color": "#ab63fa",
            "size": {
             "bdata": "AAAAAABAR0A=",
             "dtype": "f8"
            },
            "sizemode": "area",
            "sizeref": 0.025527777777777778,
            "symbol": "circle"
           },
           "mode": "markers",
           "name": "Switzerland",
           "orientation": "v",
           "showlegend": true,
           "type": "scatter",
           "x": [
            "Switzerland"
           ],
           "xaxis": "x",
           "y": {
            "bdata": "AAAAAABAR0A=",
            "dtype": "f8"
           },
           "yaxis": "y"
          },
          {
           "hovertemplate": "Country=%{x}<br>TIME_PERIOD=2013<br>Material Import Dependency (%)=%{marker.size}<extra></extra>",
           "ids": [
            "Slovakia"
           ],
           "legendgroup": "Slovakia",
           "marker": {
            "color": "#FFA15A",
            "size": {
             "bdata": "ZmZmZmbmRkA=",
             "dtype": "f8"
            },
            "sizemode": "area",
            "sizeref": 0.025527777777777778,
            "symbol": "circle"
           },
           "mode": "markers",
           "name": "Slovakia",
           "orientation": "v",
           "showlegend": true,
           "type": "scatter",
           "x": [
            "Slovakia"
           ],
           "xaxis": "x",
           "y": {
            "bdata": "ZmZmZmbmRkA=",
            "dtype": "f8"
           },
           "yaxis": "y"
          },
          {
           "hovertemplate": "Country=%{x}<br>TIME_PERIOD=2013<br>Material Import Dependency (%)=%{marker.size}<extra></extra>",
           "ids": [
            "Italy"
           ],
           "legendgroup": "Italy",
           "marker": {
            "color": "#19d3f3",
            "size": {
             "bdata": "AAAAAABAR0A=",
             "dtype": "f8"
            },
            "sizemode": "area",
            "sizeref": 0.025527777777777778,
            "symbol": "circle"
           },
           "mode": "markers",
           "name": "Italy",
           "orientation": "v",
           "showlegend": true,
           "type": "scatter",
           "x": [
            "Italy"
           ],
           "xaxis": "x",
           "y": {
            "bdata": "AAAAAABAR0A=",
            "dtype": "f8"
           },
           "yaxis": "y"
          },
          {
           "hovertemplate": "Country=%{x}<br>TIME_PERIOD=2013<br>Material Import Dependency (%)=%{marker.size}<extra></extra>",
           "ids": [
            "Austria"
           ],
           "legendgroup": "Austria",
           "marker": {
            "color": "#FF6692",
            "size": {
             "bdata": "mpmZmZlZRUA=",
             "dtype": "f8"
            },
            "sizemode": "area",
            "sizeref": 0.025527777777777778,
            "symbol": "circle"
           },
           "mode": "markers",
           "name": "Austria",
           "orientation": "v",
           "showlegend": true,
           "type": "scatter",
           "x": [
            "Austria"
           ],
           "xaxis": "x",
           "y": {
            "bdata": "mpmZmZlZRUA=",
            "dtype": "f8"
           },
           "yaxis": "y"
          },
          {
           "hovertemplate": "Country=%{x}<br>TIME_PERIOD=2013<br>Material Import Dependency (%)=%{marker.size}<extra></extra>",
           "ids": [
            "Malta"
           ],
           "legendgroup": "Malta",
           "marker": {
            "color": "#B6E880",
            "size": {
             "bdata": "MzMzMzMzUUA=",
             "dtype": "f8"
            },
            "sizemode": "area",
            "sizeref": 0.025527777777777778,
            "symbol": "circle"
           },
           "mode": "markers",
           "name": "Malta",
           "orientation": "v",
           "showlegend": true,
           "type": "scatter",
           "x": [
            "Malta"
           ],
           "xaxis": "x",
           "y": {
            "bdata": "MzMzMzMzUUA=",
            "dtype": "f8"
           },
           "yaxis": "y"
          },
          {
           "hovertemplate": "Country=%{x}<br>TIME_PERIOD=2013<br>Material Import Dependency (%)=%{marker.size}<extra></extra>",
           "ids": [
            "Iceland"
           ],
           "legendgroup": "Iceland",
           "marker": {
            "color": "#EF553B",
            "size": {
             "bdata": "zczMzMyMTEA=",
             "dtype": "f8"
            },
            "sizemode": "area",
            "sizeref": 0.025527777777777778,
            "symbol": "circle"
           },
           "mode": "markers",
           "name": "Iceland",
           "orientation": "v",
           "showlegend": true,
           "type": "scatter",
           "x": [
            "Iceland"
           ],
           "xaxis": "x",
           "y": {
            "bdata": "zczMzMyMTEA=",
            "dtype": "f8"
           },
           "yaxis": "y"
          },
          {
           "hovertemplate": "Country=%{x}<br>TIME_PERIOD=2013<br>Material Import Dependency (%)=%{marker.size}<extra></extra>",
           "ids": [
            "Slovenia"
           ],
           "legendgroup": "Slovenia",
           "marker": {
            "color": "#00cc96",
            "size": {
             "bdata": "ZmZmZmYmRkA=",
             "dtype": "f8"
            },
            "sizemode": "area",
            "sizeref": 0.025527777777777778,
            "symbol": "circle"
           },
           "mode": "markers",
           "name": "Slovenia",
           "orientation": "v",
           "showlegend": true,
           "type": "scatter",
           "x": [
            "Slovenia"
           ],
           "xaxis": "x",
           "y": {
            "bdata": "ZmZmZmYmRkA=",
            "dtype": "f8"
           },
           "yaxis": "y"
          }
         ],
         "name": "2013"
        },
        {
         "data": [
          {
           "hovertemplate": "Country=%{x}<br>TIME_PERIOD=2014<br>Material Import Dependency (%)=%{marker.size}<extra></extra>",
           "ids": [
            "Luxembourg"
           ],
           "legendgroup": "Luxembourg",
           "marker": {
            "color": "#636efa",
            "size": {
             "bdata": "MzMzMzNTVkA=",
             "dtype": "f8"
            },
            "sizemode": "area",
            "sizeref": 0.025527777777777778,
            "symbol": "circle"
           },
           "mode": "markers",
           "name": "Luxembourg",
           "orientation": "v",
           "showlegend": true,
           "type": "scatter",
           "x": [
            "Luxembourg"
           ],
           "xaxis": "x",
           "y": {
            "bdata": "MzMzMzNTVkA=",
            "dtype": "f8"
           },
           "yaxis": "y"
          },
          {
           "hovertemplate": "Country=%{x}<br>TIME_PERIOD=2014<br>Material Import Dependency (%)=%{marker.size}<extra></extra>",
           "ids": [
            "Netherlands"
           ],
           "legendgroup": "Netherlands",
           "marker": {
            "color": "#EF553B",
            "size": {
             "bdata": "MzMzMzOTUkA=",
             "dtype": "f8"
            },
            "sizemode": "area",
            "sizeref": 0.025527777777777778,
            "symbol": "circle"
           },
           "mode": "markers",
           "name": "Netherlands",
           "orientation": "v",
           "showlegend": true,
           "type": "scatter",
           "x": [
            "Netherlands"
           ],
           "xaxis": "x",
           "y": {
            "bdata": "MzMzMzOTUkA=",
            "dtype": "f8"
           },
           "yaxis": "y"
          },
          {
           "hovertemplate": "Country=%{x}<br>TIME_PERIOD=2014<br>Material Import Dependency (%)=%{marker.size}<extra></extra>",
           "ids": [
            "Belgium"
           ],
           "legendgroup": "Belgium",
           "marker": {
            "color": "#00cc96",
            "size": {
             "bdata": "AAAAAADgUUA=",
             "dtype": "f8"
            },
            "sizemode": "area",
            "sizeref": 0.025527777777777778,
            "symbol": "circle"
           },
           "mode": "markers",
           "name": "Belgium",
           "orientation": "v",
           "showlegend": true,
           "type": "scatter",
           "x": [
            "Belgium"
           ],
           "xaxis": "x",
           "y": {
            "bdata": "AAAAAADgUUA=",
            "dtype": "f8"
           },
           "yaxis": "y"
          },
          {
           "hovertemplate": "Country=%{x}<br>TIME_PERIOD=2014<br>Material Import Dependency (%)=%{marker.size}<extra></extra>",
           "ids": [
            "Switzerland"
           ],
           "legendgroup": "Switzerland",
           "marker": {
            "color": "#ab63fa",
            "size": {
             "bdata": "MzMzMzNzRkA=",
             "dtype": "f8"
            },
            "sizemode": "area",
            "sizeref": 0.025527777777777778,
            "symbol": "circle"
           },
           "mode": "markers",
           "name": "Switzerland",
           "orientation": "v",
           "showlegend": true,
           "type": "scatter",
           "x": [
            "Switzerland"
           ],
           "xaxis": "x",
           "y": {
            "bdata": "MzMzMzNzRkA=",
            "dtype": "f8"
           },
           "yaxis": "y"
          },
          {
           "hovertemplate": "Country=%{x}<br>TIME_PERIOD=2014<br>Material Import Dependency (%)=%{marker.size}<extra></extra>",
           "ids": [
            "Slovakia"
           ],
           "legendgroup": "Slovakia",
           "marker": {
            "color": "#FFA15A",
            "size": {
             "bdata": "AAAAAAAARUA=",
             "dtype": "f8"
            },
            "sizemode": "area",
            "sizeref": 0.025527777777777778,
            "symbol": "circle"
           },
           "mode": "markers",
           "name": "Slovakia",
           "orientation": "v",
           "showlegend": true,
           "type": "scatter",
           "x": [
            "Slovakia"
           ],
           "xaxis": "x",
           "y": {
            "bdata": "AAAAAAAARUA=",
            "dtype": "f8"
           },
           "yaxis": "y"
          },
          {
           "hovertemplate": "Country=%{x}<br>TIME_PERIOD=2014<br>Material Import Dependency (%)=%{marker.size}<extra></extra>",
           "ids": [
            "Italy"
           ],
           "legendgroup": "Italy",
           "marker": {
            "color": "#19d3f3",
            "size": {
             "bdata": "AAAAAABAR0A=",
             "dtype": "f8"
            },
            "sizemode": "area",
            "sizeref": 0.025527777777777778,
            "symbol": "circle"
           },
           "mode": "markers",
           "name": "Italy",
           "orientation": "v",
           "showlegend": true,
           "type": "scatter",
           "x": [
            "Italy"
           ],
           "xaxis": "x",
           "y": {
            "bdata": "AAAAAABAR0A=",
            "dtype": "f8"
           },
           "yaxis": "y"
          },
          {
           "hovertemplate": "Country=%{x}<br>TIME_PERIOD=2014<br>Material Import Dependency (%)=%{marker.size}<extra></extra>",
           "ids": [
            "Malta"
           ],
           "legendgroup": "Malta",
           "marker": {
            "color": "#B6E880",
            "size": {
             "bdata": "AAAAAACAUkA=",
             "dtype": "f8"
            },
            "sizemode": "area",
            "sizeref": 0.025527777777777778,
            "symbol": "circle"
           },
           "mode": "markers",
           "name": "Malta",
           "orientation": "v",
           "showlegend": true,
           "type": "scatter",
           "x": [
            "Malta"
           ],
           "xaxis": "x",
           "y": {
            "bdata": "AAAAAACAUkA=",
            "dtype": "f8"
           },
           "yaxis": "y"
          },
          {
           "hovertemplate": "Country=%{x}<br>TIME_PERIOD=2014<br>Material Import Dependency (%)=%{marker.size}<extra></extra>",
           "ids": [
            "Iceland"
           ],
           "legendgroup": "Iceland",
           "marker": {
            "color": "#EF553B",
            "size": {
             "bdata": "ZmZmZmbmTUA=",
             "dtype": "f8"
            },
            "sizemode": "area",
            "sizeref": 0.025527777777777778,
            "symbol": "circle"
           },
           "mode": "markers",
           "name": "Iceland",
           "orientation": "v",
           "showlegend": true,
           "type": "scatter",
           "x": [
            "Iceland"
           ],
           "xaxis": "x",
           "y": {
            "bdata": "ZmZmZmbmTUA=",
            "dtype": "f8"
           },
           "yaxis": "y"
          },
          {
           "hovertemplate": "Country=%{x}<br>TIME_PERIOD=2014<br>Material Import Dependency (%)=%{marker.size}<extra></extra>",
           "ids": [
            "Slovenia"
           ],
           "legendgroup": "Slovenia",
           "marker": {
            "color": "#00cc96",
            "size": {
             "bdata": "mpmZmZkZRUA=",
             "dtype": "f8"
            },
            "sizemode": "area",
            "sizeref": 0.025527777777777778,
            "symbol": "circle"
           },
           "mode": "markers",
           "name": "Slovenia",
           "orientation": "v",
           "showlegend": true,
           "type": "scatter",
           "x": [
            "Slovenia"
           ],
           "xaxis": "x",
           "y": {
            "bdata": "mpmZmZkZRUA=",
            "dtype": "f8"
           },
           "yaxis": "y"
          },
          {
           "hovertemplate": "Country=%{x}<br>TIME_PERIOD=2014<br>Material Import Dependency (%)=%{marker.size}<extra></extra>",
           "ids": [
            "Spain"
           ],
           "legendgroup": "Spain",
           "marker": {
            "color": "#ab63fa",
            "size": {
             "bdata": "ZmZmZmamRUA=",
             "dtype": "f8"
            },
            "sizemode": "area",
            "sizeref": 0.025527777777777778,
            "symbol": "circle"
           },
           "mode": "markers",
           "name": "Spain",
           "orientation": "v",
           "showlegend": true,
           "type": "scatter",
           "x": [
            "Spain"
           ],
           "xaxis": "x",
           "y": {
            "bdata": "ZmZmZmamRUA=",
            "dtype": "f8"
           },
           "yaxis": "y"
          }
         ],
         "name": "2014"
        },
        {
         "data": [
          {
           "hovertemplate": "Country=%{x}<br>TIME_PERIOD=2015<br>Material Import Dependency (%)=%{marker.size}<extra></extra>",
           "ids": [
            "Luxembourg"
           ],
           "legendgroup": "Luxembourg",
           "marker": {
            "color": "#636efa",
            "size": {
             "bdata": "zczMzMzMVkA=",
             "dtype": "f8"
            },
            "sizemode": "area",
            "sizeref": 0.025527777777777778,
            "symbol": "circle"
           },
           "mode": "markers",
           "name": "Luxembourg",
           "orientation": "v",
           "showlegend": true,
           "type": "scatter",
           "x": [
            "Luxembourg"
           ],
           "xaxis": "x",
           "y": {
            "bdata": "zczMzMzMVkA=",
            "dtype": "f8"
           },
           "yaxis": "y"
          },
          {
           "hovertemplate": "Country=%{x}<br>TIME_PERIOD=2015<br>Material Import Dependency (%)=%{marker.size}<extra></extra>",
           "ids": [
            "Netherlands"
           ],
           "legendgroup": "Netherlands",
           "marker": {
            "color": "#EF553B",
            "size": {
             "bdata": "ZmZmZmZGU0A=",
             "dtype": "f8"
            },
            "sizemode": "area",
            "sizeref": 0.025527777777777778,
            "symbol": "circle"
           },
           "mode": "markers",
           "name": "Netherlands",
           "orientation": "v",
           "showlegend": true,
           "type": "scatter",
           "x": [
            "Netherlands"
           ],
           "xaxis": "x",
           "y": {
            "bdata": "ZmZmZmZGU0A=",
            "dtype": "f8"
           },
           "yaxis": "y"
          },
          {
           "hovertemplate": "Country=%{x}<br>TIME_PERIOD=2015<br>Material Import Dependency (%)=%{marker.size}<extra></extra>",
           "ids": [
            "Belgium"
           ],
           "legendgroup": "Belgium",
           "marker": {
            "color": "#00cc96",
            "size": {
             "bdata": "mpmZmZnZUUA=",
             "dtype": "f8"
            },
            "sizemode": "area",
            "sizeref": 0.025527777777777778,
            "symbol": "circle"
           },
           "mode": "markers",
           "name": "Belgium",
           "orientation": "v",
           "showlegend": true,
           "type": "scatter",
           "x": [
            "Belgium"
           ],
           "xaxis": "x",
           "y": {
            "bdata": "mpmZmZnZUUA=",
            "dtype": "f8"
           },
           "yaxis": "y"
          },
          {
           "hovertemplate": "Country=%{x}<br>TIME_PERIOD=2015<br>Material Import Dependency (%)=%{marker.size}<extra></extra>",
           "ids": [
            "Switzerland"
           ],
           "legendgroup": "Switzerland",
           "marker": {
            "color": "#ab63fa",
            "size": {
             "bdata": "ZmZmZmbmR0A=",
             "dtype": "f8"
            },
            "sizemode": "area",
            "sizeref": 0.025527777777777778,
            "symbol": "circle"
           },
           "mode": "markers",
           "name": "Switzerland",
           "orientation": "v",
           "showlegend": true,
           "type": "scatter",
           "x": [
            "Switzerland"
           ],
           "xaxis": "x",
           "y": {
            "bdata": "ZmZmZmbmR0A=",
            "dtype": "f8"
           },
           "yaxis": "y"
          },
          {
           "hovertemplate": "Country=%{x}<br>TIME_PERIOD=2015<br>Material Import Dependency (%)=%{marker.size}<extra></extra>",
           "ids": [
            "Italy"
           ],
           "legendgroup": "Italy",
           "marker": {
            "color": "#19d3f3",
            "size": {
             "bdata": "zczMzMxMSEA=",
             "dtype": "f8"
            },
            "sizemode": "area",
            "sizeref": 0.025527777777777778,
            "symbol": "circle"
           },
           "mode": "markers",
           "name": "Italy",
           "orientation": "v",
           "showlegend": true,
           "type": "scatter",
           "x": [
            "Italy"
           ],
           "xaxis": "x",
           "y": {
            "bdata": "zczMzMxMSEA=",
            "dtype": "f8"
           },
           "yaxis": "y"
          },
          {
           "hovertemplate": "Country=%{x}<br>TIME_PERIOD=2015<br>Material Import Dependency (%)=%{marker.size}<extra></extra>",
           "ids": [
            "Austria"
           ],
           "legendgroup": "Austria",
           "marker": {
            "color": "#FF6692",
            "size": {
             "bdata": "MzMzMzMzRUA=",
             "dtype": "f8"
            },
            "sizemode": "area",
            "sizeref": 0.025527777777777778,
            "symbol": "circle"
           },
           "mode": "markers",
           "name": "Austria",
           "orientation": "v",
           "showlegend": true,
           "type": "scatter",
           "x": [
            "Austria"
           ],
           "xaxis": "x",
           "y": {
            "bdata": "MzMzMzMzRUA=",
            "dtype": "f8"
           },
           "yaxis": "y"
          },
          {
           "hovertemplate": "Country=%{x}<br>TIME_PERIOD=2015<br>Material Import Dependency (%)=%{marker.size}<extra></extra>",
           "ids": [
            "Malta"
           ],
           "legendgroup": "Malta",
           "marker": {
            "color": "#B6E880",
            "size": {
             "bdata": "ZmZmZmamUkA=",
             "dtype": "f8"
            },
            "sizemode": "area",
            "sizeref": 0.025527777777777778,
            "symbol": "circle"
           },
           "mode": "markers",
           "name": "Malta",
           "orientation": "v",
           "showlegend": true,
           "type": "scatter",
           "x": [
            "Malta"
           ],
           "xaxis": "x",
           "y": {
            "bdata": "ZmZmZmamUkA=",
            "dtype": "f8"
           },
           "yaxis": "y"
          },
          {
           "hovertemplate": "Country=%{x}<br>TIME_PERIOD=2015<br>Material Import Dependency (%)=%{marker.size}<extra></extra>",
           "ids": [
            "Iceland"
           ],
           "legendgroup": "Iceland",
           "marker": {
            "color": "#EF553B",
            "size": {
             "bdata": "mpmZmZmZTkA=",
             "dtype": "f8"
            },
            "sizemode": "area",
            "sizeref": 0.025527777777777778,
            "symbol": "circle"
           },
           "mode": "markers",
           "name": "Iceland",
           "orientation": "v",
           "showlegend": true,
           "type": "scatter",
           "x": [
            "Iceland"
           ],
           "xaxis": "x",
           "y": {
            "bdata": "mpmZmZmZTkA=",
            "dtype": "f8"
           },
           "yaxis": "y"
          },
          {
           "hovertemplate": "Country=%{x}<br>TIME_PERIOD=2015<br>Material Import Dependency (%)=%{marker.size}<extra></extra>",
           "ids": [
            "Slovenia"
           ],
           "legendgroup": "Slovenia",
           "marker": {
            "color": "#00cc96",
            "size": {
             "bdata": "mpmZmZkZRkA=",
             "dtype": "f8"
            },
            "sizemode": "area",
            "sizeref": 0.025527777777777778,
            "symbol": "circle"
           },
           "mode": "markers",
           "name": "Slovenia",
           "orientation": "v",
           "showlegend": true,
           "type": "scatter",
           "x": [
            "Slovenia"
           ],
           "xaxis": "x",
           "y": {
            "bdata": "mpmZmZkZRkA=",
            "dtype": "f8"
           },
           "yaxis": "y"
          },
          {
           "hovertemplate": "Country=%{x}<br>TIME_PERIOD=2015<br>Material Import Dependency (%)=%{marker.size}<extra></extra>",
           "ids": [
            "Spain"
           ],
           "legendgroup": "Spain",
           "marker": {
            "color": "#ab63fa",
            "size": {
             "bdata": "mpmZmZnZRUA=",
             "dtype": "f8"
            },
            "sizemode": "area",
            "sizeref": 0.025527777777777778,
            "symbol": "circle"
           },
           "mode": "markers",
           "name": "Spain",
           "orientation": "v",
           "showlegend": true,
           "type": "scatter",
           "x": [
            "Spain"
           ],
           "xaxis": "x",
           "y": {
            "bdata": "mpmZmZnZRUA=",
            "dtype": "f8"
           },
           "yaxis": "y"
          }
         ],
         "name": "2015"
        },
        {
         "data": [
          {
           "hovertemplate": "Country=%{x}<br>TIME_PERIOD=2016<br>Material Import Dependency (%)=%{marker.size}<extra></extra>",
           "ids": [
            "Luxembourg"
           ],
           "legendgroup": "Luxembourg",
           "marker": {
            "color": "#636efa",
            "size": {
             "bdata": "mpmZmZm5VkA=",
             "dtype": "f8"
            },
            "sizemode": "area",
            "sizeref": 0.025527777777777778,
            "symbol": "circle"
           },
           "mode": "markers",
           "name": "Luxembourg",
           "orientation": "v",
           "showlegend": true,
           "type": "scatter",
           "x": [
            "Luxembourg"
           ],
           "xaxis": "x",
           "y": {
            "bdata": "mpmZmZm5VkA=",
            "dtype": "f8"
           },
           "yaxis": "y"
          },
          {
           "hovertemplate": "Country=%{x}<br>TIME_PERIOD=2016<br>Material Import Dependency (%)=%{marker.size}<extra></extra>",
           "ids": [
            "Netherlands"
           ],
           "legendgroup": "Netherlands",
           "marker": {
            "color": "#EF553B",
            "size": {
             "bdata": "ZmZmZmaGU0A=",
             "dtype": "f8"
            },
            "sizemode": "area",
            "sizeref": 0.025527777777777778,
            "symbol": "circle"
           },
           "mode": "markers",
           "name": "Netherlands",
           "orientation": "v",
           "showlegend": true,
           "type": "scatter",
           "x": [
            "Netherlands"
           ],
           "xaxis": "x",
           "y": {
            "bdata": "ZmZmZmaGU0A=",
            "dtype": "f8"
           },
           "yaxis": "y"
          },
          {
           "hovertemplate": "Country=%{x}<br>TIME_PERIOD=2016<br>Material Import Dependency (%)=%{marker.size}<extra></extra>",
           "ids": [
            "Belgium"
           ],
           "legendgroup": "Belgium",
           "marker": {
            "color": "#00cc96",
            "size": {
             "bdata": "mpmZmZk5UkA=",
             "dtype": "f8"
            },
            "sizemode": "area",
            "sizeref": 0.025527777777777778,
            "symbol": "circle"
           },
           "mode": "markers",
           "name": "Belgium",
           "orientation": "v",
           "showlegend": true,
           "type": "scatter",
           "x": [
            "Belgium"
           ],
           "xaxis": "x",
           "y": {
            "bdata": "mpmZmZk5UkA=",
            "dtype": "f8"
           },
           "yaxis": "y"
          },
          {
           "hovertemplate": "Country=%{x}<br>TIME_PERIOD=2016<br>Material Import Dependency (%)=%{marker.size}<extra></extra>",
           "ids": [
            "Switzerland"
           ],
           "legendgroup": "Switzerland",
           "marker": {
            "color": "#ab63fa",
            "size": {
             "bdata": "AAAAAACAR0A=",
             "dtype": "f8"
            },
            "sizemode": "area",
            "sizeref": 0.025527777777777778,
            "symbol": "circle"
           },
           "mode": "markers",
           "name": "Switzerland",
           "orientation": "v",
           "showlegend": true,
           "type": "scatter",
           "x": [
            "Switzerland"
           ],
           "xaxis": "x",
           "y": {
            "bdata": "AAAAAACAR0A=",
            "dtype": "f8"
           },
           "yaxis": "y"
          },
          {
           "hovertemplate": "Country=%{x}<br>TIME_PERIOD=2016<br>Material Import Dependency (%)=%{marker.size}<extra></extra>",
           "ids": [
            "Italy"
           ],
           "legendgroup": "Italy",
           "marker": {
            "color": "#19d3f3",
            "size": {
             "bdata": "MzMzMzNzSEA=",
             "dtype": "f8"
            },
            "sizemode": "area",
            "sizeref": 0.025527777777777778,
            "symbol": "circle"
           },
           "mode": "markers",
           "name": "Italy",
           "orientation": "v",
           "showlegend": true,
           "type": "scatter",
           "x": [
            "Italy"
           ],
           "xaxis": "x",
           "y": {
            "bdata": "MzMzMzNzSEA=",
            "dtype": "f8"
           },
           "yaxis": "y"
          },
          {
           "hovertemplate": "Country=%{x}<br>TIME_PERIOD=2016<br>Material Import Dependency (%)=%{marker.size}<extra></extra>",
           "ids": [
            "Austria"
           ],
           "legendgroup": "Austria",
           "marker": {
            "color": "#FF6692",
            "size": {
             "bdata": "zczMzMyMRUA=",
             "dtype": "f8"
            },
            "sizemode": "area",
            "sizeref": 0.025527777777777778,
            "symbol": "circle"
           },
           "mode": "markers",
           "name": "Austria",
           "orientation": "v",
           "showlegend": true,
           "type": "scatter",
           "x": [
            "Austria"
           ],
           "xaxis": "x",
           "y": {
            "bdata": "zczMzMyMRUA=",
            "dtype": "f8"
           },
           "yaxis": "y"
          },
          {
           "hovertemplate": "Country=%{x}<br>TIME_PERIOD=2016<br>Material Import Dependency (%)=%{marker.size}<extra></extra>",
           "ids": [
            "Malta"
           ],
           "legendgroup": "Malta",
           "marker": {
            "color": "#B6E880",
            "size": {
             "bdata": "MzMzMzPTUkA=",
             "dtype": "f8"
            },
            "sizemode": "area",
            "sizeref": 0.025527777777777778,
            "symbol": "circle"
           },
           "mode": "markers",
           "name": "Malta",
           "orientation": "v",
           "showlegend": true,
           "type": "scatter",
           "x": [
            "Malta"
           ],
           "xaxis": "x",
           "y": {
            "bdata": "MzMzMzPTUkA=",
            "dtype": "f8"
           },
           "yaxis": "y"
          },
          {
           "hovertemplate": "Country=%{x}<br>TIME_PERIOD=2016<br>Material Import Dependency (%)=%{marker.size}<extra></extra>",
           "ids": [
            "Iceland"
           ],
           "legendgroup": "Iceland",
           "marker": {
            "color": "#EF553B",
            "size": {
             "bdata": "AAAAAADATkA=",
             "dtype": "f8"
            },
            "sizemode": "area",
            "sizeref": 0.025527777777777778,
            "symbol": "circle"
           },
           "mode": "markers",
           "name": "Iceland",
           "orientation": "v",
           "showlegend": true,
           "type": "scatter",
           "x": [
            "Iceland"
           ],
           "xaxis": "x",
           "y": {
            "bdata": "AAAAAADATkA=",
            "dtype": "f8"
           },
           "yaxis": "y"
          },
          {
           "hovertemplate": "Country=%{x}<br>TIME_PERIOD=2016<br>Material Import Dependency (%)=%{marker.size}<extra></extra>",
           "ids": [
            "Slovenia"
           ],
           "legendgroup": "Slovenia",
           "marker": {
            "color": "#00cc96",
            "size": {
             "bdata": "mpmZmZmZR0A=",
             "dtype": "f8"
            },
            "sizemode": "area",
            "sizeref": 0.025527777777777778,
            "symbol": "circle"
           },
           "mode": "markers",
           "name": "Slovenia",
           "orientation": "v",
           "showlegend": true,
           "type": "scatter",
           "x": [
            "Slovenia"
           ],
           "xaxis": "x",
           "y": {
            "bdata": "mpmZmZmZR0A=",
            "dtype": "f8"
           },
           "yaxis": "y"
          },
          {
           "hovertemplate": "Country=%{x}<br>TIME_PERIOD=2016<br>Material Import Dependency (%)=%{marker.size}<extra></extra>",
           "ids": [
            "Spain"
           ],
           "legendgroup": "Spain",
           "marker": {
            "color": "#ab63fa",
            "size": {
             "bdata": "MzMzMzNzRUA=",
             "dtype": "f8"
            },
            "sizemode": "area",
            "sizeref": 0.025527777777777778,
            "symbol": "circle"
           },
           "mode": "markers",
           "name": "Spain",
           "orientation": "v",
           "showlegend": true,
           "type": "scatter",
           "x": [
            "Spain"
           ],
           "xaxis": "x",
           "y": {
            "bdata": "MzMzMzNzRUA=",
            "dtype": "f8"
           },
           "yaxis": "y"
          }
         ],
         "name": "2016"
        },
        {
         "data": [
          {
           "hovertemplate": "Country=%{x}<br>TIME_PERIOD=2017<br>Material Import Dependency (%)=%{marker.size}<extra></extra>",
           "ids": [
            "Luxembourg"
           ],
           "legendgroup": "Luxembourg",
           "marker": {
            "color": "#636efa",
            "size": {
             "bdata": "mpmZmZnZVkA=",
             "dtype": "f8"
            },
            "sizemode": "area",
            "sizeref": 0.025527777777777778,
            "symbol": "circle"
           },
           "mode": "markers",
           "name": "Luxembourg",
           "orientation": "v",
           "showlegend": true,
           "type": "scatter",
           "x": [
            "Luxembourg"
           ],
           "xaxis": "x",
           "y": {
            "bdata": "mpmZmZnZVkA=",
            "dtype": "f8"
           },
           "yaxis": "y"
          },
          {
           "hovertemplate": "Country=%{x}<br>TIME_PERIOD=2017<br>Material Import Dependency (%)=%{marker.size}<extra></extra>",
           "ids": [
            "Netherlands"
           ],
           "legendgroup": "Netherlands",
           "marker": {
            "color": "#EF553B",
            "size": {
             "bdata": "MzMzMzOzU0A=",
             "dtype": "f8"
            },
            "sizemode": "area",
            "sizeref": 0.025527777777777778,
            "symbol": "circle"
           },
           "mode": "markers",
           "name": "Netherlands",
           "orientation": "v",
           "showlegend": true,
           "type": "scatter",
           "x": [
            "Netherlands"
           ],
           "xaxis": "x",
           "y": {
            "bdata": "MzMzMzOzU0A=",
            "dtype": "f8"
           },
           "yaxis": "y"
          },
          {
           "hovertemplate": "Country=%{x}<br>TIME_PERIOD=2017<br>Material Import Dependency (%)=%{marker.size}<extra></extra>",
           "ids": [
            "Belgium"
           ],
           "legendgroup": "Belgium",
           "marker": {
            "color": "#00cc96",
            "size": {
             "bdata": "AAAAAAAAUkA=",
             "dtype": "f8"
            },
            "sizemode": "area",
            "sizeref": 0.025527777777777778,
            "symbol": "circle"
           },
           "mode": "markers",
           "name": "Belgium",
           "orientation": "v",
           "showlegend": true,
           "type": "scatter",
           "x": [
            "Belgium"
           ],
           "xaxis": "x",
           "y": {
            "bdata": "AAAAAAAAUkA=",
            "dtype": "f8"
           },
           "yaxis": "y"
          },
          {
           "hovertemplate": "Country=%{x}<br>TIME_PERIOD=2017<br>Material Import Dependency (%)=%{marker.size}<extra></extra>",
           "ids": [
            "Switzerland"
           ],
           "legendgroup": "Switzerland",
           "marker": {
            "color": "#ab63fa",
            "size": {
             "bdata": "MzMzMzOzR0A=",
             "dtype": "f8"
            },
            "sizemode": "area",
            "sizeref": 0.025527777777777778,
            "symbol": "circle"
           },
           "mode": "markers",
           "name": "Switzerland",
           "orientation": "v",
           "showlegend": true,
           "type": "scatter",
           "x": [
            "Switzerland"
           ],
           "xaxis": "x",
           "y": {
            "bdata": "MzMzMzOzR0A=",
            "dtype": "f8"
           },
           "yaxis": "y"
          },
          {
           "hovertemplate": "Country=%{x}<br>TIME_PERIOD=2017<br>Material Import Dependency (%)=%{marker.size}<extra></extra>",
           "ids": [
            "Italy"
           ],
           "legendgroup": "Italy",
           "marker": {
            "color": "#19d3f3",
            "size": {
             "bdata": "ZmZmZmZmSUA=",
             "dtype": "f8"
            },
            "sizemode": "area",
            "sizeref": 0.025527777777777778,
            "symbol": "circle"
           },
           "mode": "markers",
           "name": "Italy",
           "orientation": "v",
           "showlegend": true,
           "type": "scatter",
           "x": [
            "Italy"
           ],
           "xaxis": "x",
           "y": {
            "bdata": "ZmZmZmZmSUA=",
            "dtype": "f8"
           },
           "yaxis": "y"
          },
          {
           "hovertemplate": "Country=%{x}<br>TIME_PERIOD=2017<br>Material Import Dependency (%)=%{marker.size}<extra></extra>",
           "ids": [
            "Austria"
           ],
           "legendgroup": "Austria",
           "marker": {
            "color": "#FF6692",
            "size": {
             "bdata": "mpmZmZkZRkA=",
             "dtype": "f8"
            },
            "sizemode": "area",
            "sizeref": 0.025527777777777778,
            "symbol": "circle"
           },
           "mode": "markers",
           "name": "Austria",
           "orientation": "v",
           "showlegend": true,
           "type": "scatter",
           "x": [
            "Austria"
           ],
           "xaxis": "x",
           "y": {
            "bdata": "mpmZmZkZRkA=",
            "dtype": "f8"
           },
           "yaxis": "y"
          },
          {
           "hovertemplate": "Country=%{x}<br>TIME_PERIOD=2017<br>Material Import Dependency (%)=%{marker.size}<extra></extra>",
           "ids": [
            "Malta"
           ],
           "legendgroup": "Malta",
           "marker": {
            "color": "#B6E880",
            "size": {
             "bdata": "ZmZmZmZGU0A=",
             "dtype": "f8"
            },
            "sizemode": "area",
            "sizeref": 0.025527777777777778,
            "symbol": "circle"
           },
           "mode": "markers",
           "name": "Malta",
           "orientation": "v",
           "showlegend": true,
           "type": "scatter",
           "x": [
            "Malta"
           ],
           "xaxis": "x",
           "y": {
            "bdata": "ZmZmZmZGU0A=",
            "dtype": "f8"
           },
           "yaxis": "y"
          },
          {
           "hovertemplate": "Country=%{x}<br>TIME_PERIOD=2017<br>Material Import Dependency (%)=%{marker.size}<extra></extra>",
           "ids": [
            "Iceland"
           ],
           "legendgroup": "Iceland",
           "marker": {
            "color": "#EF553B",
            "size": {
             "bdata": "mpmZmZkZTkA=",
             "dtype": "f8"
            },
            "sizemode": "area",
            "sizeref": 0.025527777777777778,
            "symbol": "circle"
           },
           "mode": "markers",
           "name": "Iceland",
           "orientation": "v",
           "showlegend": true,
           "type": "scatter",
           "x": [
            "Iceland"
           ],
           "xaxis": "x",
           "y": {
            "bdata": "mpmZmZkZTkA=",
            "dtype": "f8"
           },
           "yaxis": "y"
          },
          {
           "hovertemplate": "Country=%{x}<br>TIME_PERIOD=2017<br>Material Import Dependency (%)=%{marker.size}<extra></extra>",
           "ids": [
            "Slovenia"
           ],
           "legendgroup": "Slovenia",
           "marker": {
            "color": "#00cc96",
            "size": {
             "bdata": "MzMzMzOzR0A=",
             "dtype": "f8"
            },
            "sizemode": "area",
            "sizeref": 0.025527777777777778,
            "symbol": "circle"
           },
           "mode": "markers",
           "name": "Slovenia",
           "orientation": "v",
           "showlegend": true,
           "type": "scatter",
           "x": [
            "Slovenia"
           ],
           "xaxis": "x",
           "y": {
            "bdata": "MzMzMzOzR0A=",
            "dtype": "f8"
           },
           "yaxis": "y"
          },
          {
           "hovertemplate": "Country=%{x}<br>TIME_PERIOD=2017<br>Material Import Dependency (%)=%{marker.size}<extra></extra>",
           "ids": [
            "Spain"
           ],
           "legendgroup": "Spain",
           "marker": {
            "color": "#ab63fa",
            "size": {
             "bdata": "mpmZmZnZRkA=",
             "dtype": "f8"
            },
            "sizemode": "area",
            "sizeref": 0.025527777777777778,
            "symbol": "circle"
           },
           "mode": "markers",
           "name": "Spain",
           "orientation": "v",
           "showlegend": true,
           "type": "scatter",
           "x": [
            "Spain"
           ],
           "xaxis": "x",
           "y": {
            "bdata": "mpmZmZnZRkA=",
            "dtype": "f8"
           },
           "yaxis": "y"
          }
         ],
         "name": "2017"
        },
        {
         "data": [
          {
           "hovertemplate": "Country=%{x}<br>TIME_PERIOD=2018<br>Material Import Dependency (%)=%{marker.size}<extra></extra>",
           "ids": [
            "Luxembourg"
           ],
           "legendgroup": "Luxembourg",
           "marker": {
            "color": "#636efa",
            "size": {
             "bdata": "zczMzMzMVkA=",
             "dtype": "f8"
            },
            "sizemode": "area",
            "sizeref": 0.025527777777777778,
            "symbol": "circle"
           },
           "mode": "markers",
           "name": "Luxembourg",
           "orientation": "v",
           "showlegend": true,
           "type": "scatter",
           "x": [
            "Luxembourg"
           ],
           "xaxis": "x",
           "y": {
            "bdata": "zczMzMzMVkA=",
            "dtype": "f8"
           },
           "yaxis": "y"
          },
          {
           "hovertemplate": "Country=%{x}<br>TIME_PERIOD=2018<br>Material Import Dependency (%)=%{marker.size}<extra></extra>",
           "ids": [
            "Netherlands"
           ],
           "legendgroup": "Netherlands",
           "marker": {
            "color": "#EF553B",
            "size": {
             "bdata": "mpmZmZkZVEA=",
             "dtype": "f8"
            },
            "sizemode": "area",
            "sizeref": 0.025527777777777778,
            "symbol": "circle"
           },
           "mode": "markers",
           "name": "Netherlands",
           "orientation": "v",
           "showlegend": true,
           "type": "scatter",
           "x": [
            "Netherlands"
           ],
           "xaxis": "x",
           "y": {
            "bdata": "mpmZmZkZVEA=",
            "dtype": "f8"
           },
           "yaxis": "y"
          },
          {
           "hovertemplate": "Country=%{x}<br>TIME_PERIOD=2018<br>Material Import Dependency (%)=%{marker.size}<extra></extra>",
           "ids": [
            "Belgium"
           ],
           "legendgroup": "Belgium",
           "marker": {
            "color": "#00cc96",
            "size": {
             "bdata": "zczMzMwsUkA=",
             "dtype": "f8"
            },
            "sizemode": "area",
            "sizeref": 0.025527777777777778,
            "symbol": "circle"
           },
           "mode": "markers",
           "name": "Belgium",
           "orientation": "v",
           "showlegend": true,
           "type": "scatter",
           "x": [
            "Belgium"
           ],
           "xaxis": "x",
           "y": {
            "bdata": "zczMzMwsUkA=",
            "dtype": "f8"
           },
           "yaxis": "y"
          },
          {
           "hovertemplate": "Country=%{x}<br>TIME_PERIOD=2018<br>Material Import Dependency (%)=%{marker.size}<extra></extra>",
           "ids": [
            "Switzerland"
           ],
           "legendgroup": "Switzerland",
           "marker": {
            "color": "#ab63fa",
            "size": {
             "bdata": "mpmZmZmZR0A=",
             "dtype": "f8"
            },
            "sizemode": "area",
            "sizeref": 0.025527777777777778,
            "symbol": "circle"
           },
           "mode": "markers",
           "name": "Switzerland",
           "orientation": "v",
           "showlegend": true,
           "type": "scatter",
           "x": [
            "Switzerland"
           ],
           "xaxis": "x",
           "y": {
            "bdata": "mpmZmZmZR0A=",
            "dtype": "f8"
           },
           "yaxis": "y"
          },
          {
           "hovertemplate": "Country=%{x}<br>TIME_PERIOD=2018<br>Material Import Dependency (%)=%{marker.size}<extra></extra>",
           "ids": [
            "Slovakia"
           ],
           "legendgroup": "Slovakia",
           "marker": {
            "color": "#FFA15A",
            "size": {
             "bdata": "AAAAAACARUA=",
             "dtype": "f8"
            },
            "sizemode": "area",
            "sizeref": 0.025527777777777778,
            "symbol": "circle"
           },
           "mode": "markers",
           "name": "Slovakia",
           "orientation": "v",
           "showlegend": true,
           "type": "scatter",
           "x": [
            "Slovakia"
           ],
           "xaxis": "x",
           "y": {
            "bdata": "AAAAAACARUA=",
            "dtype": "f8"
           },
           "yaxis": "y"
          },
          {
           "hovertemplate": "Country=%{x}<br>TIME_PERIOD=2018<br>Material Import Dependency (%)=%{marker.size}<extra></extra>",
           "ids": [
            "Italy"
           ],
           "legendgroup": "Italy",
           "marker": {
            "color": "#19d3f3",
            "size": {
             "bdata": "zczMzMxMSUA=",
             "dtype": "f8"
            },
            "sizemode": "area",
            "sizeref": 0.025527777777777778,
            "symbol": "circle"
           },
           "mode": "markers",
           "name": "Italy",
           "orientation": "v",
           "showlegend": true,
           "type": "scatter",
           "x": [
            "Italy"
           ],
           "xaxis": "x",
           "y": {
            "bdata": "zczMzMxMSUA=",
            "dtype": "f8"
           },
           "yaxis": "y"
          },
          {
           "hovertemplate": "Country=%{x}<br>TIME_PERIOD=2018<br>Material Import Dependency (%)=%{marker.size}<extra></extra>",
           "ids": [
            "Austria"
           ],
           "legendgroup": "Austria",
           "marker": {
            "color": "#FF6692",
            "size": {
             "bdata": "AAAAAABARkA=",
             "dtype": "f8"
            },
            "sizemode": "area",
            "sizeref": 0.025527777777777778,
            "symbol": "circle"
           },
           "mode": "markers",
           "name": "Austria",
           "orientation": "v",
           "showlegend": true,
           "type": "scatter",
           "x": [
            "Austria"
           ],
           "xaxis": "x",
           "y": {
            "bdata": "AAAAAABARkA=",
            "dtype": "f8"
           },
           "yaxis": "y"
          },
          {
           "hovertemplate": "Country=%{x}<br>TIME_PERIOD=2018<br>Material Import Dependency (%)=%{marker.size}<extra></extra>",
           "ids": [
            "Malta"
           ],
           "legendgroup": "Malta",
           "marker": {
            "color": "#B6E880",
            "size": {
             "bdata": "ZmZmZmbGUkA=",
             "dtype": "f8"
            },
            "sizemode": "area",
            "sizeref": 0.025527777777777778,
            "symbol": "circle"
           },
           "mode": "markers",
           "name": "Malta",
           "orientation": "v",
           "showlegend": true,
           "type": "scatter",
           "x": [
            "Malta"
           ],
           "xaxis": "x",
           "y": {
            "bdata": "ZmZmZmbGUkA=",
            "dtype": "f8"
           },
           "yaxis": "y"
          },
          {
           "hovertemplate": "Country=%{x}<br>TIME_PERIOD=2018<br>Material Import Dependency (%)=%{marker.size}<extra></extra>",
           "ids": [
            "Iceland"
           ],
           "legendgroup": "Iceland",
           "marker": {
            "color": "#EF553B",
            "size": {
             "bdata": "AAAAAAAATkA=",
             "dtype": "f8"
            },
            "sizemode": "area",
            "sizeref": 0.025527777777777778,
            "symbol": "circle"
           },
           "mode": "markers",
           "name": "Iceland",
           "orientation": "v",
           "showlegend": true,
           "type": "scatter",
           "x": [
            "Iceland"
           ],
           "xaxis": "x",
           "y": {
            "bdata": "AAAAAAAATkA=",
            "dtype": "f8"
           },
           "yaxis": "y"
          },
          {
           "hovertemplate": "Country=%{x}<br>TIME_PERIOD=2018<br>Material Import Dependency (%)=%{marker.size}<extra></extra>",
           "ids": [
            "Slovenia"
           ],
           "legendgroup": "Slovenia",
           "marker": {
            "color": "#00cc96",
            "size": {
             "bdata": "ZmZmZmZmR0A=",
             "dtype": "f8"
            },
            "sizemode": "area",
            "sizeref": 0.025527777777777778,
            "symbol": "circle"
           },
           "mode": "markers",
           "name": "Slovenia",
           "orientation": "v",
           "showlegend": true,
           "type": "scatter",
           "x": [
            "Slovenia"
           ],
           "xaxis": "x",
           "y": {
            "bdata": "ZmZmZmZmR0A=",
            "dtype": "f8"
           },
           "yaxis": "y"
          }
         ],
         "name": "2018"
        },
        {
         "data": [
          {
           "hovertemplate": "Country=%{x}<br>TIME_PERIOD=2019<br>Material Import Dependency (%)=%{marker.size}<extra></extra>",
           "ids": [
            "Luxembourg"
           ],
           "legendgroup": "Luxembourg",
           "marker": {
            "color": "#636efa",
            "size": {
             "bdata": "AAAAAADAVkA=",
             "dtype": "f8"
            },
            "sizemode": "area",
            "sizeref": 0.025527777777777778,
            "symbol": "circle"
           },
           "mode": "markers",
           "name": "Luxembourg",
           "orientation": "v",
           "showlegend": true,
           "type": "scatter",
           "x": [
            "Luxembourg"
           ],
           "xaxis": "x",
           "y": {
            "bdata": "AAAAAADAVkA=",
            "dtype": "f8"
           },
           "yaxis": "y"
          },
          {
           "hovertemplate": "Country=%{x}<br>TIME_PERIOD=2019<br>Material Import Dependency (%)=%{marker.size}<extra></extra>",
           "ids": [
            "Netherlands"
           ],
           "legendgroup": "Netherlands",
           "marker": {
            "color": "#EF553B",
            "size": {
             "bdata": "ZmZmZmYmVEA=",
             "dtype": "f8"
            },
            "sizemode": "area",
            "sizeref": 0.025527777777777778,
            "symbol": "circle"
           },
           "mode": "markers",
           "name": "Netherlands",
           "orientation": "v",
           "showlegend": true,
           "type": "scatter",
           "x": [
            "Netherlands"
           ],
           "xaxis": "x",
           "y": {
            "bdata": "ZmZmZmYmVEA=",
            "dtype": "f8"
           },
           "yaxis": "y"
          },
          {
           "hovertemplate": "Country=%{x}<br>TIME_PERIOD=2019<br>Material Import Dependency (%)=%{marker.size}<extra></extra>",
           "ids": [
            "Belgium"
           ],
           "legendgroup": "Belgium",
           "marker": {
            "color": "#00cc96",
            "size": {
             "bdata": "AAAAAAAgUkA=",
             "dtype": "f8"
            },
            "sizemode": "area",
            "sizeref": 0.025527777777777778,
            "symbol": "circle"
           },
           "mode": "markers",
           "name": "Belgium",
           "orientation": "v",
           "showlegend": true,
           "type": "scatter",
           "x": [
            "Belgium"
           ],
           "xaxis": "x",
           "y": {
            "bdata": "AAAAAAAgUkA=",
            "dtype": "f8"
           },
           "yaxis": "y"
          },
          {
           "hovertemplate": "Country=%{x}<br>TIME_PERIOD=2019<br>Material Import Dependency (%)=%{marker.size}<extra></extra>",
           "ids": [
            "Switzerland"
           ],
           "legendgroup": "Switzerland",
           "marker": {
            "color": "#ab63fa",
            "size": {
             "bdata": "MzMzMzNzR0A=",
             "dtype": "f8"
            },
            "sizemode": "area",
            "sizeref": 0.025527777777777778,
            "symbol": "circle"
           },
           "mode": "markers",
           "name": "Switzerland",
           "orientation": "v",
           "showlegend": true,
           "type": "scatter",
           "x": [
            "Switzerland"
           ],
           "xaxis": "x",
           "y": {
            "bdata": "MzMzMzNzR0A=",
            "dtype": "f8"
           },
           "yaxis": "y"
          },
          {
           "hovertemplate": "Country=%{x}<br>TIME_PERIOD=2019<br>Material Import Dependency (%)=%{marker.size}<extra></extra>",
           "ids": [
            "Slovakia"
           ],
           "legendgroup": "Slovakia",
           "marker": {
            "color": "#FFA15A",
            "size": {
             "bdata": "AAAAAAAARkA=",
             "dtype": "f8"
            },
            "sizemode": "area",
            "sizeref": 0.025527777777777778,
            "symbol": "circle"
           },
           "mode": "markers",
           "name": "Slovakia",
           "orientation": "v",
           "showlegend": true,
           "type": "scatter",
           "x": [
            "Slovakia"
           ],
           "xaxis": "x",
           "y": {
            "bdata": "AAAAAAAARkA=",
            "dtype": "f8"
           },
           "yaxis": "y"
          },
          {
           "hovertemplate": "Country=%{x}<br>TIME_PERIOD=2019<br>Material Import Dependency (%)=%{marker.size}<extra></extra>",
           "ids": [
            "Italy"
           ],
           "legendgroup": "Italy",
           "marker": {
            "color": "#19d3f3",
            "size": {
             "bdata": "MzMzMzNzSEA=",
             "dtype": "f8"
            },
            "sizemode": "area",
            "sizeref": 0.025527777777777778,
            "symbol": "circle"
           },
           "mode": "markers",
           "name": "Italy",
           "orientation": "v",
           "showlegend": true,
           "type": "scatter",
           "x": [
            "Italy"
           ],
           "xaxis": "x",
           "y": {
            "bdata": "MzMzMzNzSEA=",
            "dtype": "f8"
           },
           "yaxis": "y"
          },
          {
           "hovertemplate": "Country=%{x}<br>TIME_PERIOD=2019<br>Material Import Dependency (%)=%{marker.size}<extra></extra>",
           "ids": [
            "Austria"
           ],
           "legendgroup": "Austria",
           "marker": {
            "color": "#FF6692",
            "size": {
             "bdata": "MzMzMzMzRkA=",
             "dtype": "f8"
            },
            "sizemode": "area",
            "sizeref": 0.025527777777777778,
            "symbol": "circle"
           },
           "mode": "markers",
           "name": "Austria",
           "orientation": "v",
           "showlegend": true,
           "type": "scatter",
           "x": [
            "Austria"
           ],
           "xaxis": "x",
           "y": {
            "bdata": "MzMzMzMzRkA=",
            "dtype": "f8"
           },
           "yaxis": "y"
          },
          {
           "hovertemplate": "Country=%{x}<br>TIME_PERIOD=2019<br>Material Import Dependency (%)=%{marker.size}<extra></extra>",
           "ids": [
            "Malta"
           ],
           "legendgroup": "Malta",
           "marker": {
            "color": "#B6E880",
            "size": {
             "bdata": "ZmZmZmaGUUA=",
             "dtype": "f8"
            },
            "sizemode": "area",
            "sizeref": 0.025527777777777778,
            "symbol": "circle"
           },
           "mode": "markers",
           "name": "Malta",
           "orientation": "v",
           "showlegend": true,
           "type": "scatter",
           "x": [
            "Malta"
           ],
           "xaxis": "x",
           "y": {
            "bdata": "ZmZmZmaGUUA=",
            "dtype": "f8"
           },
           "yaxis": "y"
          },
          {
           "hovertemplate": "Country=%{x}<br>TIME_PERIOD=2019<br>Material Import Dependency (%)=%{marker.size}<extra></extra>",
           "ids": [
            "Iceland"
           ],
           "legendgroup": "Iceland",
           "marker": {
            "color": "#EF553B",
            "size": {
             "bdata": "ZmZmZmYmTkA=",
             "dtype": "f8"
            },
            "sizemode": "area",
            "sizeref": 0.025527777777777778,
            "symbol": "circle"
           },
           "mode": "markers",
           "name": "Iceland",
           "orientation": "v",
           "showlegend": true,
           "type": "scatter",
           "x": [
            "Iceland"
           ],
           "xaxis": "x",
           "y": {
            "bdata": "ZmZmZmYmTkA=",
            "dtype": "f8"
           },
           "yaxis": "y"
          },
          {
           "hovertemplate": "Country=%{x}<br>TIME_PERIOD=2019<br>Material Import Dependency (%)=%{marker.size}<extra></extra>",
           "ids": [
            "Slovenia"
           ],
           "legendgroup": "Slovenia",
           "marker": {
            "color": "#00cc96",
            "size": {
             "bdata": "AAAAAAAASEA=",
             "dtype": "f8"
            },
            "sizemode": "area",
            "sizeref": 0.025527777777777778,
            "symbol": "circle"
           },
           "mode": "markers",
           "name": "Slovenia",
           "orientation": "v",
           "showlegend": true,
           "type": "scatter",
           "x": [
            "Slovenia"
           ],
           "xaxis": "x",
           "y": {
            "bdata": "AAAAAAAASEA=",
            "dtype": "f8"
           },
           "yaxis": "y"
          }
         ],
         "name": "2019"
        },
        {
         "data": [
          {
           "hovertemplate": "Country=%{x}<br>TIME_PERIOD=2020<br>Material Import Dependency (%)=%{marker.size}<extra></extra>",
           "ids": [
            "Luxembourg"
           ],
           "legendgroup": "Luxembourg",
           "marker": {
            "color": "#636efa",
            "size": {
             "bdata": "mpmZmZmZVkA=",
             "dtype": "f8"
            },
            "sizemode": "area",
            "sizeref": 0.025527777777777778,
            "symbol": "circle"
           },
           "mode": "markers",
           "name": "Luxembourg",
           "orientation": "v",
           "showlegend": true,
           "type": "scatter",
           "x": [
            "Luxembourg"
           ],
           "xaxis": "x",
           "y": {
            "bdata": "mpmZmZmZVkA=",
            "dtype": "f8"
           },
           "yaxis": "y"
          },
          {
           "hovertemplate": "Country=%{x}<br>TIME_PERIOD=2020<br>Material Import Dependency (%)=%{marker.size}<extra></extra>",
           "ids": [
            "Netherlands"
           ],
           "legendgroup": "Netherlands",
           "marker": {
            "color": "#EF553B",
            "size": {
             "bdata": "AAAAAABAVEA=",
             "dtype": "f8"
            },
            "sizemode": "area",
            "sizeref": 0.025527777777777778,
            "symbol": "circle"
           },
           "mode": "markers",
           "name": "Netherlands",
           "orientation": "v",
           "showlegend": true,
           "type": "scatter",
           "x": [
            "Netherlands"
           ],
           "xaxis": "x",
           "y": {
            "bdata": "AAAAAABAVEA=",
            "dtype": "f8"
           },
           "yaxis": "y"
          },
          {
           "hovertemplate": "Country=%{x}<br>TIME_PERIOD=2020<br>Material Import Dependency (%)=%{marker.size}<extra></extra>",
           "ids": [
            "Belgium"
           ],
           "legendgroup": "Belgium",
           "marker": {
            "color": "#00cc96",
            "size": {
             "bdata": "MzMzMzMTUkA=",
             "dtype": "f8"
            },
            "sizemode": "area",
            "sizeref": 0.025527777777777778,
            "symbol": "circle"
           },
           "mode": "markers",
           "name": "Belgium",
           "orientation": "v",
           "showlegend": true,
           "type": "scatter",
           "x": [
            "Belgium"
           ],
           "xaxis": "x",
           "y": {
            "bdata": "MzMzMzMTUkA=",
            "dtype": "f8"
           },
           "yaxis": "y"
          },
          {
           "hovertemplate": "Country=%{x}<br>TIME_PERIOD=2020<br>Material Import Dependency (%)=%{marker.size}<extra></extra>",
           "ids": [
            "Switzerland"
           ],
           "legendgroup": "Switzerland",
           "marker": {
            "color": "#ab63fa",
            "size": {
             "bdata": "mpmZmZmZRkA=",
             "dtype": "f8"
            },
            "sizemode": "area",
            "sizeref": 0.025527777777777778,
            "symbol": "circle"
           },
           "mode": "markers",
           "name": "Switzerland",
           "orientation": "v",
           "showlegend": true,
           "type": "scatter",
           "x": [
            "Switzerland"
           ],
           "xaxis": "x",
           "y": {
            "bdata": "mpmZmZmZRkA=",
            "dtype": "f8"
           },
           "yaxis": "y"
          },
          {
           "hovertemplate": "Country=%{x}<br>TIME_PERIOD=2020<br>Material Import Dependency (%)=%{marker.size}<extra></extra>",
           "ids": [
            "Slovakia"
           ],
           "legendgroup": "Slovakia",
           "marker": {
            "color": "#FFA15A",
            "size": {
             "bdata": "mpmZmZlZRUA=",
             "dtype": "f8"
            },
            "sizemode": "area",
            "sizeref": 0.025527777777777778,
            "symbol": "circle"
           },
           "mode": "markers",
           "name": "Slovakia",
           "orientation": "v",
           "showlegend": true,
           "type": "scatter",
           "x": [
            "Slovakia"
           ],
           "xaxis": "x",
           "y": {
            "bdata": "mpmZmZlZRUA=",
            "dtype": "f8"
           },
           "yaxis": "y"
          },
          {
           "hovertemplate": "Country=%{x}<br>TIME_PERIOD=2020<br>Material Import Dependency (%)=%{marker.size}<extra></extra>",
           "ids": [
            "Italy"
           ],
           "legendgroup": "Italy",
           "marker": {
            "color": "#19d3f3",
            "size": {
             "bdata": "AAAAAABAR0A=",
             "dtype": "f8"
            },
            "sizemode": "area",
            "sizeref": 0.025527777777777778,
            "symbol": "circle"
           },
           "mode": "markers",
           "name": "Italy",
           "orientation": "v",
           "showlegend": true,
           "type": "scatter",
           "x": [
            "Italy"
           ],
           "xaxis": "x",
           "y": {
            "bdata": "AAAAAABAR0A=",
            "dtype": "f8"
           },
           "yaxis": "y"
          },
          {
           "hovertemplate": "Country=%{x}<br>TIME_PERIOD=2020<br>Material Import Dependency (%)=%{marker.size}<extra></extra>",
           "ids": [
            "Austria"
           ],
           "legendgroup": "Austria",
           "marker": {
            "color": "#FF6692",
            "size": {
             "bdata": "ZmZmZmYmRkA=",
             "dtype": "f8"
            },
            "sizemode": "area",
            "sizeref": 0.025527777777777778,
            "symbol": "circle"
           },
           "mode": "markers",
           "name": "Austria",
           "orientation": "v",
           "showlegend": true,
           "type": "scatter",
           "x": [
            "Austria"
           ],
           "xaxis": "x",
           "y": {
            "bdata": "ZmZmZmYmRkA=",
            "dtype": "f8"
           },
           "yaxis": "y"
          },
          {
           "hovertemplate": "Country=%{x}<br>TIME_PERIOD=2020<br>Material Import Dependency (%)=%{marker.size}<extra></extra>",
           "ids": [
            "Malta"
           ],
           "legendgroup": "Malta",
           "marker": {
            "color": "#B6E880",
            "size": {
             "bdata": "MzMzMzNTUUA=",
             "dtype": "f8"
            },
            "sizemode": "area",
            "sizeref": 0.025527777777777778,
            "symbol": "circle"
           },
           "mode": "markers",
           "name": "Malta",
           "orientation": "v",
           "showlegend": true,
           "type": "scatter",
           "x": [
            "Malta"
           ],
           "xaxis": "x",
           "y": {
            "bdata": "MzMzMzNTUUA=",
            "dtype": "f8"
           },
           "yaxis": "y"
          },
          {
           "hovertemplate": "Country=%{x}<br>TIME_PERIOD=2020<br>Material Import Dependency (%)=%{marker.size}<extra></extra>",
           "ids": [
            "Iceland"
           ],
           "legendgroup": "Iceland",
           "marker": {
            "color": "#EF553B",
            "size": {
             "bdata": "AAAAAAAATUA=",
             "dtype": "f8"
            },
            "sizemode": "area",
            "sizeref": 0.025527777777777778,
            "symbol": "circle"
           },
           "mode": "markers",
           "name": "Iceland",
           "orientation": "v",
           "showlegend": true,
           "type": "scatter",
           "x": [
            "Iceland"
           ],
           "xaxis": "x",
           "y": {
            "bdata": "AAAAAAAATUA=",
            "dtype": "f8"
           },
           "yaxis": "y"
          },
          {
           "hovertemplate": "Country=%{x}<br>TIME_PERIOD=2020<br>Material Import Dependency (%)=%{marker.size}<extra></extra>",
           "ids": [
            "Slovenia"
           ],
           "legendgroup": "Slovenia",
           "marker": {
            "color": "#00cc96",
            "size": {
             "bdata": "mpmZmZkZR0A=",
             "dtype": "f8"
            },
            "sizemode": "area",
            "sizeref": 0.025527777777777778,
            "symbol": "circle"
           },
           "mode": "markers",
           "name": "Slovenia",
           "orientation": "v",
           "showlegend": true,
           "type": "scatter",
           "x": [
            "Slovenia"
           ],
           "xaxis": "x",
           "y": {
            "bdata": "mpmZmZkZR0A=",
            "dtype": "f8"
           },
           "yaxis": "y"
          }
         ],
         "name": "2020"
        },
        {
         "data": [
          {
           "hovertemplate": "Country=%{x}<br>TIME_PERIOD=2021<br>Material Import Dependency (%)=%{marker.size}<extra></extra>",
           "ids": [
            "Luxembourg"
           ],
           "legendgroup": "Luxembourg",
           "marker": {
            "color": "#636efa",
            "size": {
             "bdata": "ZmZmZmZmVkA=",
             "dtype": "f8"
            },
            "sizemode": "area",
            "sizeref": 0.025527777777777778,
            "symbol": "circle"
           },
           "mode": "markers",
           "name": "Luxembourg",
           "orientation": "v",
           "showlegend": true,
           "type": "scatter",
           "x": [
            "Luxembourg"
           ],
           "xaxis": "x",
           "y": {
            "bdata": "ZmZmZmZmVkA=",
            "dtype": "f8"
           },
           "yaxis": "y"
          },
          {
           "hovertemplate": "Country=%{x}<br>TIME_PERIOD=2021<br>Material Import Dependency (%)=%{marker.size}<extra></extra>",
           "ids": [
            "Netherlands"
           ],
           "legendgroup": "Netherlands",
           "marker": {
            "color": "#EF553B",
            "size": {
             "bdata": "AAAAAACgVEA=",
             "dtype": "f8"
            },
            "sizemode": "area",
            "sizeref": 0.025527777777777778,
            "symbol": "circle"
           },
           "mode": "markers",
           "name": "Netherlands",
           "orientation": "v",
           "showlegend": true,
           "type": "scatter",
           "x": [
            "Netherlands"
           ],
           "xaxis": "x",
           "y": {
            "bdata": "AAAAAACgVEA=",
            "dtype": "f8"
           },
           "yaxis": "y"
          },
          {
           "hovertemplate": "Country=%{x}<br>TIME_PERIOD=2021<br>Material Import Dependency (%)=%{marker.size}<extra></extra>",
           "ids": [
            "Belgium"
           ],
           "legendgroup": "Belgium",
           "marker": {
            "color": "#00cc96",
            "size": {
             "bdata": "mpmZmZk5UkA=",
             "dtype": "f8"
            },
            "sizemode": "area",
            "sizeref": 0.025527777777777778,
            "symbol": "circle"
           },
           "mode": "markers",
           "name": "Belgium",
           "orientation": "v",
           "showlegend": true,
           "type": "scatter",
           "x": [
            "Belgium"
           ],
           "xaxis": "x",
           "y": {
            "bdata": "mpmZmZk5UkA=",
            "dtype": "f8"
           },
           "yaxis": "y"
          },
          {
           "hovertemplate": "Country=%{x}<br>TIME_PERIOD=2021<br>Material Import Dependency (%)=%{marker.size}<extra></extra>",
           "ids": [
            "Switzerland"
           ],
           "legendgroup": "Switzerland",
           "marker": {
            "color": "#ab63fa",
            "size": {
             "bdata": "zczMzMwMR0A=",
             "dtype": "f8"
            },
            "sizemode": "area",
            "sizeref": 0.025527777777777778,
            "symbol": "circle"
           },
           "mode": "markers",
           "name": "Switzerland",
           "orientation": "v",
           "showlegend": true,
           "type": "scatter",
           "x": [
            "Switzerland"
           ],
           "xaxis": "x",
           "y": {
            "bdata": "zczMzMwMR0A=",
            "dtype": "f8"
           },
           "yaxis": "y"
          },
          {
           "hovertemplate": "Country=%{x}<br>TIME_PERIOD=2021<br>Material Import Dependency (%)=%{marker.size}<extra></extra>",
           "ids": [
            "Slovakia"
           ],
           "legendgroup": "Slovakia",
           "marker": {
            "color": "#FFA15A",
            "size": {
             "bdata": "mpmZmZmZRkA=",
             "dtype": "f8"
            },
            "sizemode": "area",
            "sizeref": 0.025527777777777778,
            "symbol": "circle"
           },
           "mode": "markers",
           "name": "Slovakia",
           "orientation": "v",
           "showlegend": true,
           "type": "scatter",
           "x": [
            "Slovakia"
           ],
           "xaxis": "x",
           "y": {
            "bdata": "mpmZmZmZRkA=",
            "dtype": "f8"
           },
           "yaxis": "y"
          },
          {
           "hovertemplate": "Country=%{x}<br>TIME_PERIOD=2021<br>Material Import Dependency (%)=%{marker.size}<extra></extra>",
           "ids": [
            "Italy"
           ],
           "legendgroup": "Italy",
           "marker": {
            "color": "#19d3f3",
            "size": {
             "bdata": "ZmZmZmamR0A=",
             "dtype": "f8"
            },
            "sizemode": "area",
            "sizeref": 0.025527777777777778,
            "symbol": "circle"
           },
           "mode": "markers",
           "name": "Italy",
           "orientation": "v",
           "showlegend": true,
           "type": "scatter",
           "x": [
            "Italy"
           ],
           "xaxis": "x",
           "y": {
            "bdata": "ZmZmZmamR0A=",
            "dtype": "f8"
           },
           "yaxis": "y"
          },
          {
           "hovertemplate": "Country=%{x}<br>TIME_PERIOD=2021<br>Material Import Dependency (%)=%{marker.size}<extra></extra>",
           "ids": [
            "Austria"
           ],
           "legendgroup": "Austria",
           "marker": {
            "color": "#FF6692",
            "size": {
             "bdata": "MzMzMzOzRUA=",
             "dtype": "f8"
            },
            "sizemode": "area",
            "sizeref": 0.025527777777777778,
            "symbol": "circle"
           },
           "mode": "markers",
           "name": "Austria",
           "orientation": "v",
           "showlegend": true,
           "type": "scatter",
           "x": [
            "Austria"
           ],
           "xaxis": "x",
           "y": {
            "bdata": "MzMzMzOzRUA=",
            "dtype": "f8"
           },
           "yaxis": "y"
          },
          {
           "hovertemplate": "Country=%{x}<br>TIME_PERIOD=2021<br>Material Import Dependency (%)=%{marker.size}<extra></extra>",
           "ids": [
            "Malta"
           ],
           "legendgroup": "Malta",
           "marker": {
            "color": "#B6E880",
            "size": {
             "bdata": "MzMzMzPTUUA=",
             "dtype": "f8"
            },
            "sizemode": "area",
            "sizeref": 0.025527777777777778,
            "symbol": "circle"
           },
           "mode": "markers",
           "name": "Malta",
           "orientation": "v",
           "showlegend": true,
           "type": "scatter",
           "x": [
            "Malta"
           ],
           "xaxis": "x",
           "y": {
            "bdata": "MzMzMzPTUUA=",
            "dtype": "f8"
           },
           "yaxis": "y"
          },
          {
           "hovertemplate": "Country=%{x}<br>TIME_PERIOD=2021<br>Material Import Dependency (%)=%{marker.size}<extra></extra>",
           "ids": [
            "Iceland"
           ],
           "legendgroup": "Iceland",
           "marker": {
            "color": "#EF553B",
            "size": {
             "bdata": "mpmZmZkZTUA=",
             "dtype": "f8"
            },
            "sizemode": "area",
            "sizeref": 0.025527777777777778,
            "symbol": "circle"
           },
           "mode": "markers",
           "name": "Iceland",
           "orientation": "v",
           "showlegend": true,
           "type": "scatter",
           "x": [
            "Iceland"
           ],
           "xaxis": "x",
           "y": {
            "bdata": "mpmZmZkZTUA=",
            "dtype": "f8"
           },
           "yaxis": "y"
          },
          {
           "hovertemplate": "Country=%{x}<br>TIME_PERIOD=2021<br>Material Import Dependency (%)=%{marker.size}<extra></extra>",
           "ids": [
            "Slovenia"
           ],
           "legendgroup": "Slovenia",
           "marker": {
            "color": "#00cc96",
            "size": {
             "bdata": "ZmZmZmamRkA=",
             "dtype": "f8"
            },
            "sizemode": "area",
            "sizeref": 0.025527777777777778,
            "symbol": "circle"
           },
           "mode": "markers",
           "name": "Slovenia",
           "orientation": "v",
           "showlegend": true,
           "type": "scatter",
           "x": [
            "Slovenia"
           ],
           "xaxis": "x",
           "y": {
            "bdata": "ZmZmZmamRkA=",
            "dtype": "f8"
           },
           "yaxis": "y"
          }
         ],
         "name": "2021"
        },
        {
         "data": [
          {
           "hovertemplate": "Country=%{x}<br>TIME_PERIOD=2022<br>Material Import Dependency (%)=%{marker.size}<extra></extra>",
           "ids": [
            "Luxembourg"
           ],
           "legendgroup": "Luxembourg",
           "marker": {
            "color": "#636efa",
            "size": {
             "bdata": "AAAAAACAVkA=",
             "dtype": "f8"
            },
            "sizemode": "area",
            "sizeref": 0.025527777777777778,
            "symbol": "circle"
           },
           "mode": "markers",
           "name": "Luxembourg",
           "orientation": "v",
           "showlegend": true,
           "type": "scatter",
           "x": [
            "Luxembourg"
           ],
           "xaxis": "x",
           "y": {
            "bdata": "AAAAAACAVkA=",
            "dtype": "f8"
           },
           "yaxis": "y"
          },
          {
           "hovertemplate": "Country=%{x}<br>TIME_PERIOD=2022<br>Material Import Dependency (%)=%{marker.size}<extra></extra>",
           "ids": [
            "Netherlands"
           ],
           "legendgroup": "Netherlands",
           "marker": {
            "color": "#EF553B",
            "size": {
             "bdata": "mpmZmZm5VEA=",
             "dtype": "f8"
            },
            "sizemode": "area",
            "sizeref": 0.025527777777777778,
            "symbol": "circle"
           },
           "mode": "markers",
           "name": "Netherlands",
           "orientation": "v",
           "showlegend": true,
           "type": "scatter",
           "x": [
            "Netherlands"
           ],
           "xaxis": "x",
           "y": {
            "bdata": "mpmZmZm5VEA=",
            "dtype": "f8"
           },
           "yaxis": "y"
          },
          {
           "hovertemplate": "Country=%{x}<br>TIME_PERIOD=2022<br>Material Import Dependency (%)=%{marker.size}<extra></extra>",
           "ids": [
            "Belgium"
           ],
           "legendgroup": "Belgium",
           "marker": {
            "color": "#00cc96",
            "size": {
             "bdata": "zczMzMzMUkA=",
             "dtype": "f8"
            },
            "sizemode": "area",
            "sizeref": 0.025527777777777778,
            "symbol": "circle"
           },
           "mode": "markers",
           "name": "Belgium",
           "orientation": "v",
           "showlegend": true,
           "type": "scatter",
           "x": [
            "Belgium"
           ],
           "xaxis": "x",
           "y": {
            "bdata": "zczMzMzMUkA=",
            "dtype": "f8"
           },
           "yaxis": "y"
          },
          {
           "hovertemplate": "Country=%{x}<br>TIME_PERIOD=2022<br>Material Import Dependency (%)=%{marker.size}<extra></extra>",
           "ids": [
            "Switzerland"
           ],
           "legendgroup": "Switzerland",
           "marker": {
            "color": "#ab63fa",
            "size": {
             "bdata": "zczMzMxMR0A=",
             "dtype": "f8"
            },
            "sizemode": "area",
            "sizeref": 0.025527777777777778,
            "symbol": "circle"
           },
           "mode": "markers",
           "name": "Switzerland",
           "orientation": "v",
           "showlegend": true,
           "type": "scatter",
           "x": [
            "Switzerland"
           ],
           "xaxis": "x",
           "y": {
            "bdata": "zczMzMxMR0A=",
            "dtype": "f8"
           },
           "yaxis": "y"
          },
          {
           "hovertemplate": "Country=%{x}<br>TIME_PERIOD=2022<br>Material Import Dependency (%)=%{marker.size}<extra></extra>",
           "ids": [
            "Slovakia"
           ],
           "legendgroup": "Slovakia",
           "marker": {
            "color": "#FFA15A",
            "size": {
             "bdata": "ZmZmZmbmRkA=",
             "dtype": "f8"
            },
            "sizemode": "area",
            "sizeref": 0.025527777777777778,
            "symbol": "circle"
           },
           "mode": "markers",
           "name": "Slovakia",
           "orientation": "v",
           "showlegend": true,
           "type": "scatter",
           "x": [
            "Slovakia"
           ],
           "xaxis": "x",
           "y": {
            "bdata": "ZmZmZmbmRkA=",
            "dtype": "f8"
           },
           "yaxis": "y"
          },
          {
           "hovertemplate": "Country=%{x}<br>TIME_PERIOD=2022<br>Material Import Dependency (%)=%{marker.size}<extra></extra>",
           "ids": [
            "Italy"
           ],
           "legendgroup": "Italy",
           "marker": {
            "color": "#19d3f3",
            "size": {
             "bdata": "AAAAAACASEA=",
             "dtype": "f8"
            },
            "sizemode": "area",
            "sizeref": 0.025527777777777778,
            "symbol": "circle"
           },
           "mode": "markers",
           "name": "Italy",
           "orientation": "v",
           "showlegend": true,
           "type": "scatter",
           "x": [
            "Italy"
           ],
           "xaxis": "x",
           "y": {
            "bdata": "AAAAAACASEA=",
            "dtype": "f8"
           },
           "yaxis": "y"
          },
          {
           "hovertemplate": "Country=%{x}<br>TIME_PERIOD=2022<br>Material Import Dependency (%)=%{marker.size}<extra></extra>",
           "ids": [
            "Austria"
           ],
           "legendgroup": "Austria",
           "marker": {
            "color": "#FF6692",
            "size": {
             "bdata": "AAAAAABARUA=",
             "dtype": "f8"
            },
            "sizemode": "area",
            "sizeref": 0.025527777777777778,
            "symbol": "circle"
           },
           "mode": "markers",
           "name": "Austria",
           "orientation": "v",
           "showlegend": true,
           "type": "scatter",
           "x": [
            "Austria"
           ],
           "xaxis": "x",
           "y": {
            "bdata": "AAAAAABARUA=",
            "dtype": "f8"
           },
           "yaxis": "y"
          },
          {
           "hovertemplate": "Country=%{x}<br>TIME_PERIOD=2022<br>Material Import Dependency (%)=%{marker.size}<extra></extra>",
           "ids": [
            "Malta"
           ],
           "legendgroup": "Malta",
           "marker": {
            "color": "#B6E880",
            "size": {
             "bdata": "zczMzMyMUUA=",
             "dtype": "f8"
            },
            "sizemode": "area",
            "sizeref": 0.025527777777777778,
            "symbol": "circle"
           },
           "mode": "markers",
           "name": "Malta",
           "orientation": "v",
           "showlegend": true,
           "type": "scatter",
           "x": [
            "Malta"
           ],
           "xaxis": "x",
           "y": {
            "bdata": "zczMzMyMUUA=",
            "dtype": "f8"
           },
           "yaxis": "y"
          },
          {
           "hovertemplate": "Country=%{x}<br>TIME_PERIOD=2022<br>Material Import Dependency (%)=%{marker.size}<extra></extra>",
           "ids": [
            "Iceland"
           ],
           "legendgroup": "Iceland",
           "marker": {
            "color": "#EF553B",
            "size": {
             "bdata": "MzMzMzNzTUA=",
             "dtype": "f8"
            },
            "sizemode": "area",
            "sizeref": 0.025527777777777778,
            "symbol": "circle"
           },
           "mode": "markers",
           "name": "Iceland",
           "orientation": "v",
           "showlegend": true,
           "type": "scatter",
           "x": [
            "Iceland"
           ],
           "xaxis": "x",
           "y": {
            "bdata": "MzMzMzNzTUA=",
            "dtype": "f8"
           },
           "yaxis": "y"
          },
          {
           "hovertemplate": "Country=%{x}<br>TIME_PERIOD=2022<br>Material Import Dependency (%)=%{marker.size}<extra></extra>",
           "ids": [
            "Slovenia"
           ],
           "legendgroup": "Slovenia",
           "marker": {
            "color": "#00cc96",
            "size": {
             "bdata": "AAAAAABAR0A=",
             "dtype": "f8"
            },
            "sizemode": "area",
            "sizeref": 0.025527777777777778,
            "symbol": "circle"
           },
           "mode": "markers",
           "name": "Slovenia",
           "orientation": "v",
           "showlegend": true,
           "type": "scatter",
           "x": [
            "Slovenia"
           ],
           "xaxis": "x",
           "y": {
            "bdata": "AAAAAABAR0A=",
            "dtype": "f8"
           },
           "yaxis": "y"
          }
         ],
         "name": "2022"
        },
        {
         "data": [
          {
           "hovertemplate": "Country=%{x}<br>TIME_PERIOD=2023<br>Material Import Dependency (%)=%{marker.size}<extra></extra>",
           "ids": [
            "Luxembourg"
           ],
           "legendgroup": "Luxembourg",
           "marker": {
            "color": "#636efa",
            "size": {
             "bdata": "zczMzMwsVkA=",
             "dtype": "f8"
            },
            "sizemode": "area",
            "sizeref": 0.025527777777777778,
            "symbol": "circle"
           },
           "mode": "markers",
           "name": "Luxembourg",
           "orientation": "v",
           "showlegend": true,
           "type": "scatter",
           "x": [
            "Luxembourg"
           ],
           "xaxis": "x",
           "y": {
            "bdata": "zczMzMwsVkA=",
            "dtype": "f8"
           },
           "yaxis": "y"
          },
          {
           "hovertemplate": "Country=%{x}<br>TIME_PERIOD=2023<br>Material Import Dependency (%)=%{marker.size}<extra></extra>",
           "ids": [
            "Netherlands"
           ],
           "legendgroup": "Netherlands",
           "marker": {
            "color": "#EF553B",
            "size": {
             "bdata": "zczMzMysVEA=",
             "dtype": "f8"
            },
            "sizemode": "area",
            "sizeref": 0.025527777777777778,
            "symbol": "circle"
           },
           "mode": "markers",
           "name": "Netherlands",
           "orientation": "v",
           "showlegend": true,
           "type": "scatter",
           "x": [
            "Netherlands"
           ],
           "xaxis": "x",
           "y": {
            "bdata": "zczMzMysVEA=",
            "dtype": "f8"
           },
           "yaxis": "y"
          },
          {
           "hovertemplate": "Country=%{x}<br>TIME_PERIOD=2023<br>Material Import Dependency (%)=%{marker.size}<extra></extra>",
           "ids": [
            "Belgium"
           ],
           "legendgroup": "Belgium",
           "marker": {
            "color": "#00cc96",
            "size": {
             "bdata": "ZmZmZmbmUkA=",
             "dtype": "f8"
            },
            "sizemode": "area",
            "sizeref": 0.025527777777777778,
            "symbol": "circle"
           },
           "mode": "markers",
           "name": "Belgium",
           "orientation": "v",
           "showlegend": true,
           "type": "scatter",
           "x": [
            "Belgium"
           ],
           "xaxis": "x",
           "y": {
            "bdata": "ZmZmZmbmUkA=",
            "dtype": "f8"
           },
           "yaxis": "y"
          },
          {
           "hovertemplate": "Country=%{x}<br>TIME_PERIOD=2023<br>Material Import Dependency (%)=%{marker.size}<extra></extra>",
           "ids": [
            "Switzerland"
           ],
           "legendgroup": "Switzerland",
           "marker": {
            "color": "#ab63fa",
            "size": {
             "bdata": "mpmZmZlZR0A=",
             "dtype": "f8"
            },
            "sizemode": "area",
            "sizeref": 0.025527777777777778,
            "symbol": "circle"
           },
           "mode": "markers",
           "name": "Switzerland",
           "orientation": "v",
           "showlegend": true,
           "type": "scatter",
           "x": [
            "Switzerland"
           ],
           "xaxis": "x",
           "y": {
            "bdata": "mpmZmZlZR0A=",
            "dtype": "f8"
           },
           "yaxis": "y"
          },
          {
           "hovertemplate": "Country=%{x}<br>TIME_PERIOD=2023<br>Material Import Dependency (%)=%{marker.size}<extra></extra>",
           "ids": [
            "Slovakia"
           ],
           "legendgroup": "Slovakia",
           "marker": {
            "color": "#FFA15A",
            "size": {
             "bdata": "ZmZmZmamRUA=",
             "dtype": "f8"
            },
            "sizemode": "area",
            "sizeref": 0.025527777777777778,
            "symbol": "circle"
           },
           "mode": "markers",
           "name": "Slovakia",
           "orientation": "v",
           "showlegend": true,
           "type": "scatter",
           "x": [
            "Slovakia"
           ],
           "xaxis": "x",
           "y": {
            "bdata": "ZmZmZmamRUA=",
            "dtype": "f8"
           },
           "yaxis": "y"
          },
          {
           "hovertemplate": "Country=%{x}<br>TIME_PERIOD=2023<br>Material Import Dependency (%)=%{marker.size}<extra></extra>",
           "ids": [
            "Italy"
           ],
           "legendgroup": "Italy",
           "marker": {
            "color": "#19d3f3",
            "size": {
             "bdata": "AAAAAAAASEA=",
             "dtype": "f8"
            },
            "sizemode": "area",
            "sizeref": 0.025527777777777778,
            "symbol": "circle"
           },
           "mode": "markers",
           "name": "Italy",
           "orientation": "v",
           "showlegend": true,
           "type": "scatter",
           "x": [
            "Italy"
           ],
           "xaxis": "x",
           "y": {
            "bdata": "AAAAAAAASEA=",
            "dtype": "f8"
           },
           "yaxis": "y"
          },
          {
           "hovertemplate": "Country=%{x}<br>TIME_PERIOD=2023<br>Material Import Dependency (%)=%{marker.size}<extra></extra>",
           "ids": [
            "Austria"
           ],
           "legendgroup": "Austria",
           "marker": {
            "color": "#FF6692",
            "size": {
             "bdata": "AAAAAADAREA=",
             "dtype": "f8"
            },
            "sizemode": "area",
            "sizeref": 0.025527777777777778,
            "symbol": "circle"
           },
           "mode": "markers",
           "name": "Austria",
           "orientation": "v",
           "showlegend": true,
           "type": "scatter",
           "x": [
            "Austria"
           ],
           "xaxis": "x",
           "y": {
            "bdata": "AAAAAADAREA=",
            "dtype": "f8"
           },
           "yaxis": "y"
          },
          {
           "hovertemplate": "Country=%{x}<br>TIME_PERIOD=2023<br>Material Import Dependency (%)=%{marker.size}<extra></extra>",
           "ids": [
            "Malta"
           ],
           "legendgroup": "Malta",
           "marker": {
            "color": "#B6E880",
            "size": {
             "bdata": "mpmZmZm5UUA=",
             "dtype": "f8"
            },
            "sizemode": "area",
            "sizeref": 0.025527777777777778,
            "symbol": "circle"
           },
           "mode": "markers",
           "name": "Malta",
           "orientation": "v",
           "showlegend": true,
           "type": "scatter",
           "x": [
            "Malta"
           ],
           "xaxis": "x",
           "y": {
            "bdata": "mpmZmZm5UUA=",
            "dtype": "f8"
           },
           "yaxis": "y"
          },
          {
           "hovertemplate": "Country=%{x}<br>TIME_PERIOD=2023<br>Material Import Dependency (%)=%{marker.size}<extra></extra>",
           "ids": [
            "Slovenia"
           ],
           "legendgroup": "Slovenia",
           "marker": {
            "color": "#00cc96",
            "size": {
             "bdata": "AAAAAADAREA=",
             "dtype": "f8"
            },
            "sizemode": "area",
            "sizeref": 0.025527777777777778,
            "symbol": "circle"
           },
           "mode": "markers",
           "name": "Slovenia",
           "orientation": "v",
           "showlegend": true,
           "type": "scatter",
           "x": [
            "Slovenia"
           ],
           "xaxis": "x",
           "y": {
            "bdata": "AAAAAADAREA=",
            "dtype": "f8"
           },
           "yaxis": "y"
          },
          {
           "hovertemplate": "Country=%{x}<br>TIME_PERIOD=2023<br>Material Import Dependency (%)=%{marker.size}<extra></extra>",
           "ids": [
            "Spain"
           ],
           "legendgroup": "Spain",
           "marker": {
            "color": "#ab63fa",
            "size": {
             "bdata": "AAAAAAAARUA=",
             "dtype": "f8"
            },
            "sizemode": "area",
            "sizeref": 0.025527777777777778,
            "symbol": "circle"
           },
           "mode": "markers",
           "name": "Spain",
           "orientation": "v",
           "showlegend": true,
           "type": "scatter",
           "x": [
            "Spain"
           ],
           "xaxis": "x",
           "y": {
            "bdata": "AAAAAAAARUA=",
            "dtype": "f8"
           },
           "yaxis": "y"
          }
         ],
         "name": "2023"
        }
       ],
       "layout": {
        "height": 600,
        "legend": {
         "itemsizing": "constant",
         "title": {
          "text": "Country"
         },
         "tracegroupgap": 0
        },
        "showlegend": false,
        "sliders": [
         {
          "active": 0,
          "currentvalue": {
           "prefix": "TIME_PERIOD="
          },
          "len": 0.9,
          "pad": {
           "b": 10,
           "t": 60
          },
          "steps": [
           {
            "args": [
             [
              "2003"
             ],
             {
              "frame": {
               "duration": 0,
               "redraw": false
              },
              "fromcurrent": true,
              "mode": "immediate",
              "transition": {
               "duration": 0,
               "easing": "linear"
              }
             }
            ],
            "label": "2003",
            "method": "animate"
           },
           {
            "args": [
             [
              "2004"
             ],
             {
              "frame": {
               "duration": 0,
               "redraw": false
              },
              "fromcurrent": true,
              "mode": "immediate",
              "transition": {
               "duration": 0,
               "easing": "linear"
              }
             }
            ],
            "label": "2004",
            "method": "animate"
           },
           {
            "args": [
             [
              "2005"
             ],
             {
              "frame": {
               "duration": 0,
               "redraw": false
              },
              "fromcurrent": true,
              "mode": "immediate",
              "transition": {
               "duration": 0,
               "easing": "linear"
              }
             }
            ],
            "label": "2005",
            "method": "animate"
           },
           {
            "args": [
             [
              "2006"
             ],
             {
              "frame": {
               "duration": 0,
               "redraw": false
              },
              "fromcurrent": true,
              "mode": "immediate",
              "transition": {
               "duration": 0,
               "easing": "linear"
              }
             }
            ],
            "label": "2006",
            "method": "animate"
           },
           {
            "args": [
             [
              "2007"
             ],
             {
              "frame": {
               "duration": 0,
               "redraw": false
              },
              "fromcurrent": true,
              "mode": "immediate",
              "transition": {
               "duration": 0,
               "easing": "linear"
              }
             }
            ],
            "label": "2007",
            "method": "animate"
           },
           {
            "args": [
             [
              "2008"
             ],
             {
              "frame": {
               "duration": 0,
               "redraw": false
              },
              "fromcurrent": true,
              "mode": "immediate",
              "transition": {
               "duration": 0,
               "easing": "linear"
              }
             }
            ],
            "label": "2008",
            "method": "animate"
           },
           {
            "args": [
             [
              "2009"
             ],
             {
              "frame": {
               "duration": 0,
               "redraw": false
              },
              "fromcurrent": true,
              "mode": "immediate",
              "transition": {
               "duration": 0,
               "easing": "linear"
              }
             }
            ],
            "label": "2009",
            "method": "animate"
           },
           {
            "args": [
             [
              "2010"
             ],
             {
              "frame": {
               "duration": 0,
               "redraw": false
              },
              "fromcurrent": true,
              "mode": "immediate",
              "transition": {
               "duration": 0,
               "easing": "linear"
              }
             }
            ],
            "label": "2010",
            "method": "animate"
           },
           {
            "args": [
             [
              "2011"
             ],
             {
              "frame": {
               "duration": 0,
               "redraw": false
              },
              "fromcurrent": true,
              "mode": "immediate",
              "transition": {
               "duration": 0,
               "easing": "linear"
              }
             }
            ],
            "label": "2011",
            "method": "animate"
           },
           {
            "args": [
             [
              "2012"
             ],
             {
              "frame": {
               "duration": 0,
               "redraw": false
              },
              "fromcurrent": true,
              "mode": "immediate",
              "transition": {
               "duration": 0,
               "easing": "linear"
              }
             }
            ],
            "label": "2012",
            "method": "animate"
           },
           {
            "args": [
             [
              "2013"
             ],
             {
              "frame": {
               "duration": 0,
               "redraw": false
              },
              "fromcurrent": true,
              "mode": "immediate",
              "transition": {
               "duration": 0,
               "easing": "linear"
              }
             }
            ],
            "label": "2013",
            "method": "animate"
           },
           {
            "args": [
             [
              "2014"
             ],
             {
              "frame": {
               "duration": 0,
               "redraw": false
              },
              "fromcurrent": true,
              "mode": "immediate",
              "transition": {
               "duration": 0,
               "easing": "linear"
              }
             }
            ],
            "label": "2014",
            "method": "animate"
           },
           {
            "args": [
             [
              "2015"
             ],
             {
              "frame": {
               "duration": 0,
               "redraw": false
              },
              "fromcurrent": true,
              "mode": "immediate",
              "transition": {
               "duration": 0,
               "easing": "linear"
              }
             }
            ],
            "label": "2015",
            "method": "animate"
           },
           {
            "args": [
             [
              "2016"
             ],
             {
              "frame": {
               "duration": 0,
               "redraw": false
              },
              "fromcurrent": true,
              "mode": "immediate",
              "transition": {
               "duration": 0,
               "easing": "linear"
              }
             }
            ],
            "label": "2016",
            "method": "animate"
           },
           {
            "args": [
             [
              "2017"
             ],
             {
              "frame": {
               "duration": 0,
               "redraw": false
              },
              "fromcurrent": true,
              "mode": "immediate",
              "transition": {
               "duration": 0,
               "easing": "linear"
              }
             }
            ],
            "label": "2017",
            "method": "animate"
           },
           {
            "args": [
             [
              "2018"
             ],
             {
              "frame": {
               "duration": 0,
               "redraw": false
              },
              "fromcurrent": true,
              "mode": "immediate",
              "transition": {
               "duration": 0,
               "easing": "linear"
              }
             }
            ],
            "label": "2018",
            "method": "animate"
           },
           {
            "args": [
             [
              "2019"
             ],
             {
              "frame": {
               "duration": 0,
               "redraw": false
              },
              "fromcurrent": true,
              "mode": "immediate",
              "transition": {
               "duration": 0,
               "easing": "linear"
              }
             }
            ],
            "label": "2019",
            "method": "animate"
           },
           {
            "args": [
             [
              "2020"
             ],
             {
              "frame": {
               "duration": 0,
               "redraw": false
              },
              "fromcurrent": true,
              "mode": "immediate",
              "transition": {
               "duration": 0,
               "easing": "linear"
              }
             }
            ],
            "label": "2020",
            "method": "animate"
           },
           {
            "args": [
             [
              "2021"
             ],
             {
              "frame": {
               "duration": 0,
               "redraw": false
              },
              "fromcurrent": true,
              "mode": "immediate",
              "transition": {
               "duration": 0,
               "easing": "linear"
              }
             }
            ],
            "label": "2021",
            "method": "animate"
           },
           {
            "args": [
             [
              "2022"
             ],
             {
              "frame": {
               "duration": 0,
               "redraw": false
              },
              "fromcurrent": true,
              "mode": "immediate",
              "transition": {
               "duration": 0,
               "easing": "linear"
              }
             }
            ],
            "label": "2022",
            "method": "animate"
           },
           {
            "args": [
             [
              "2023"
             ],
             {
              "frame": {
               "duration": 0,
               "redraw": false
              },
              "fromcurrent": true,
              "mode": "immediate",
              "transition": {
               "duration": 0,
               "easing": "linear"
              }
             }
            ],
            "label": "2023",
            "method": "animate"
           }
          ],
          "x": 0.1,
          "xanchor": "left",
          "y": 0,
          "yanchor": "top"
         }
        ],
        "template": {
         "data": {
          "bar": [
           {
            "error_x": {
             "color": "#2a3f5f"
            },
            "error_y": {
             "color": "#2a3f5f"
            },
            "marker": {
             "line": {
              "color": "white",
              "width": 0.5
             },
             "pattern": {
              "fillmode": "overlay",
              "size": 10,
              "solidity": 0.2
             }
            },
            "type": "bar"
           }
          ],
          "barpolar": [
           {
            "marker": {
             "line": {
              "color": "white",
              "width": 0.5
             },
             "pattern": {
              "fillmode": "overlay",
              "size": 10,
              "solidity": 0.2
             }
            },
            "type": "barpolar"
           }
          ],
          "carpet": [
           {
            "aaxis": {
             "endlinecolor": "#2a3f5f",
             "gridcolor": "#C8D4E3",
             "linecolor": "#C8D4E3",
             "minorgridcolor": "#C8D4E3",
             "startlinecolor": "#2a3f5f"
            },
            "baxis": {
             "endlinecolor": "#2a3f5f",
             "gridcolor": "#C8D4E3",
             "linecolor": "#C8D4E3",
             "minorgridcolor": "#C8D4E3",
             "startlinecolor": "#2a3f5f"
            },
            "type": "carpet"
           }
          ],
          "choropleth": [
           {
            "colorbar": {
             "outlinewidth": 0,
             "ticks": ""
            },
            "type": "choropleth"
           }
          ],
          "contour": [
           {
            "colorbar": {
             "outlinewidth": 0,
             "ticks": ""
            },
            "colorscale": [
             [
              0,
              "#0d0887"
             ],
             [
              0.1111111111111111,
              "#46039f"
             ],
             [
              0.2222222222222222,
              "#7201a8"
             ],
             [
              0.3333333333333333,
              "#9c179e"
             ],
             [
              0.4444444444444444,
              "#bd3786"
             ],
             [
              0.5555555555555556,
              "#d8576b"
             ],
             [
              0.6666666666666666,
              "#ed7953"
             ],
             [
              0.7777777777777778,
              "#fb9f3a"
             ],
             [
              0.8888888888888888,
              "#fdca26"
             ],
             [
              1,
              "#f0f921"
             ]
            ],
            "type": "contour"
           }
          ],
          "contourcarpet": [
           {
            "colorbar": {
             "outlinewidth": 0,
             "ticks": ""
            },
            "type": "contourcarpet"
           }
          ],
          "heatmap": [
           {
            "colorbar": {
             "outlinewidth": 0,
             "ticks": ""
            },
            "colorscale": [
             [
              0,
              "#0d0887"
             ],
             [
              0.1111111111111111,
              "#46039f"
             ],
             [
              0.2222222222222222,
              "#7201a8"
             ],
             [
              0.3333333333333333,
              "#9c179e"
             ],
             [
              0.4444444444444444,
              "#bd3786"
             ],
             [
              0.5555555555555556,
              "#d8576b"
             ],
             [
              0.6666666666666666,
              "#ed7953"
             ],
             [
              0.7777777777777778,
              "#fb9f3a"
             ],
             [
              0.8888888888888888,
              "#fdca26"
             ],
             [
              1,
              "#f0f921"
             ]
            ],
            "type": "heatmap"
           }
          ],
          "histogram": [
           {
            "marker": {
             "pattern": {
              "fillmode": "overlay",
              "size": 10,
              "solidity": 0.2
             }
            },
            "type": "histogram"
           }
          ],
          "histogram2d": [
           {
            "colorbar": {
             "outlinewidth": 0,
             "ticks": ""
            },
            "colorscale": [
             [
              0,
              "#0d0887"
             ],
             [
              0.1111111111111111,
              "#46039f"
             ],
             [
              0.2222222222222222,
              "#7201a8"
             ],
             [
              0.3333333333333333,
              "#9c179e"
             ],
             [
              0.4444444444444444,
              "#bd3786"
             ],
             [
              0.5555555555555556,
              "#d8576b"
             ],
             [
              0.6666666666666666,
              "#ed7953"
             ],
             [
              0.7777777777777778,
              "#fb9f3a"
             ],
             [
              0.8888888888888888,
              "#fdca26"
             ],
             [
              1,
              "#f0f921"
             ]
            ],
            "type": "histogram2d"
           }
          ],
          "histogram2dcontour": [
           {
            "colorbar": {
             "outlinewidth": 0,
             "ticks": ""
            },
            "colorscale": [
             [
              0,
              "#0d0887"
             ],
             [
              0.1111111111111111,
              "#46039f"
             ],
             [
              0.2222222222222222,
              "#7201a8"
             ],
             [
              0.3333333333333333,
              "#9c179e"
             ],
             [
              0.4444444444444444,
              "#bd3786"
             ],
             [
              0.5555555555555556,
              "#d8576b"
             ],
             [
              0.6666666666666666,
              "#ed7953"
             ],
             [
              0.7777777777777778,
              "#fb9f3a"
             ],
             [
              0.8888888888888888,
              "#fdca26"
             ],
             [
              1,
              "#f0f921"
             ]
            ],
            "type": "histogram2dcontour"
           }
          ],
          "mesh3d": [
           {
            "colorbar": {
             "outlinewidth": 0,
             "ticks": ""
            },
            "type": "mesh3d"
           }
          ],
          "parcoords": [
           {
            "line": {
             "colorbar": {
              "outlinewidth": 0,
              "ticks": ""
             }
            },
            "type": "parcoords"
           }
          ],
          "pie": [
           {
            "automargin": true,
            "type": "pie"
           }
          ],
          "scatter": [
           {
            "fillpattern": {
             "fillmode": "overlay",
             "size": 10,
             "solidity": 0.2
            },
            "type": "scatter"
           }
          ],
          "scatter3d": [
           {
            "line": {
             "colorbar": {
              "outlinewidth": 0,
              "ticks": ""
             }
            },
            "marker": {
             "colorbar": {
              "outlinewidth": 0,
              "ticks": ""
             }
            },
            "type": "scatter3d"
           }
          ],
          "scattercarpet": [
           {
            "marker": {
             "colorbar": {
              "outlinewidth": 0,
              "ticks": ""
             }
            },
            "type": "scattercarpet"
           }
          ],
          "scattergeo": [
           {
            "marker": {
             "colorbar": {
              "outlinewidth": 0,
              "ticks": ""
             }
            },
            "type": "scattergeo"
           }
          ],
          "scattergl": [
           {
            "marker": {
             "colorbar": {
              "outlinewidth": 0,
              "ticks": ""
             }
            },
            "type": "scattergl"
           }
          ],
          "scattermap": [
           {
            "marker": {
             "colorbar": {
              "outlinewidth": 0,
              "ticks": ""
             }
            },
            "type": "scattermap"
           }
          ],
          "scattermapbox": [
           {
            "marker": {
             "colorbar": {
              "outlinewidth": 0,
              "ticks": ""
             }
            },
            "type": "scattermapbox"
           }
          ],
          "scatterpolar": [
           {
            "marker": {
             "colorbar": {
              "outlinewidth": 0,
              "ticks": ""
             }
            },
            "type": "scatterpolar"
           }
          ],
          "scatterpolargl": [
           {
            "marker": {
             "colorbar": {
              "outlinewidth": 0,
              "ticks": ""
             }
            },
            "type": "scatterpolargl"
           }
          ],
          "scatterternary": [
           {
            "marker": {
             "colorbar": {
              "outlinewidth": 0,
              "ticks": ""
             }
            },
            "type": "scatterternary"
           }
          ],
          "surface": [
           {
            "colorbar": {
             "outlinewidth": 0,
             "ticks": ""
            },
            "colorscale": [
             [
              0,
              "#0d0887"
             ],
             [
              0.1111111111111111,
              "#46039f"
             ],
             [
              0.2222222222222222,
              "#7201a8"
             ],
             [
              0.3333333333333333,
              "#9c179e"
             ],
             [
              0.4444444444444444,
              "#bd3786"
             ],
             [
              0.5555555555555556,
              "#d8576b"
             ],
             [
              0.6666666666666666,
              "#ed7953"
             ],
             [
              0.7777777777777778,
              "#fb9f3a"
             ],
             [
              0.8888888888888888,
              "#fdca26"
             ],
             [
              1,
              "#f0f921"
             ]
            ],
            "type": "surface"
           }
          ],
          "table": [
           {
            "cells": {
             "fill": {
              "color": "#EBF0F8"
             },
             "line": {
              "color": "white"
             }
            },
            "header": {
             "fill": {
              "color": "#C8D4E3"
             },
             "line": {
              "color": "white"
             }
            },
            "type": "table"
           }
          ]
         },
         "layout": {
          "annotationdefaults": {
           "arrowcolor": "#2a3f5f",
           "arrowhead": 0,
           "arrowwidth": 1
          },
          "autotypenumbers": "strict",
          "coloraxis": {
           "colorbar": {
            "outlinewidth": 0,
            "ticks": ""
           }
          },
          "colorscale": {
           "diverging": [
            [
             0,
             "#8e0152"
            ],
            [
             0.1,
             "#c51b7d"
            ],
            [
             0.2,
             "#de77ae"
            ],
            [
             0.3,
             "#f1b6da"
            ],
            [
             0.4,
             "#fde0ef"
            ],
            [
             0.5,
             "#f7f7f7"
            ],
            [
             0.6,
             "#e6f5d0"
            ],
            [
             0.7,
             "#b8e186"
            ],
            [
             0.8,
             "#7fbc41"
            ],
            [
             0.9,
             "#4d9221"
            ],
            [
             1,
             "#276419"
            ]
           ],
           "sequential": [
            [
             0,
             "#0d0887"
            ],
            [
             0.1111111111111111,
             "#46039f"
            ],
            [
             0.2222222222222222,
             "#7201a8"
            ],
            [
             0.3333333333333333,
             "#9c179e"
            ],
            [
             0.4444444444444444,
             "#bd3786"
            ],
            [
             0.5555555555555556,
             "#d8576b"
            ],
            [
             0.6666666666666666,
             "#ed7953"
            ],
            [
             0.7777777777777778,
             "#fb9f3a"
            ],
            [
             0.8888888888888888,
             "#fdca26"
            ],
            [
             1,
             "#f0f921"
            ]
           ],
           "sequentialminus": [
            [
             0,
             "#0d0887"
            ],
            [
             0.1111111111111111,
             "#46039f"
            ],
            [
             0.2222222222222222,
             "#7201a8"
            ],
            [
             0.3333333333333333,
             "#9c179e"
            ],
            [
             0.4444444444444444,
             "#bd3786"
            ],
            [
             0.5555555555555556,
             "#d8576b"
            ],
            [
             0.6666666666666666,
             "#ed7953"
            ],
            [
             0.7777777777777778,
             "#fb9f3a"
            ],
            [
             0.8888888888888888,
             "#fdca26"
            ],
            [
             1,
             "#f0f921"
            ]
           ]
          },
          "colorway": [
           "#636efa",
           "#EF553B",
           "#00cc96",
           "#ab63fa",
           "#FFA15A",
           "#19d3f3",
           "#FF6692",
           "#B6E880",
           "#FF97FF",
           "#FECB52"
          ],
          "font": {
           "color": "#2a3f5f"
          },
          "geo": {
           "bgcolor": "white",
           "lakecolor": "white",
           "landcolor": "white",
           "showlakes": true,
           "showland": true,
           "subunitcolor": "#C8D4E3"
          },
          "hoverlabel": {
           "align": "left"
          },
          "hovermode": "closest",
          "mapbox": {
           "style": "light"
          },
          "paper_bgcolor": "white",
          "plot_bgcolor": "white",
          "polar": {
           "angularaxis": {
            "gridcolor": "#EBF0F8",
            "linecolor": "#EBF0F8",
            "ticks": ""
           },
           "bgcolor": "white",
           "radialaxis": {
            "gridcolor": "#EBF0F8",
            "linecolor": "#EBF0F8",
            "ticks": ""
           }
          },
          "scene": {
           "xaxis": {
            "backgroundcolor": "white",
            "gridcolor": "#DFE8F3",
            "gridwidth": 2,
            "linecolor": "#EBF0F8",
            "showbackground": true,
            "ticks": "",
            "zerolinecolor": "#EBF0F8"
           },
           "yaxis": {
            "backgroundcolor": "white",
            "gridcolor": "#DFE8F3",
            "gridwidth": 2,
            "linecolor": "#EBF0F8",
            "showbackground": true,
            "ticks": "",
            "zerolinecolor": "#EBF0F8"
           },
           "zaxis": {
            "backgroundcolor": "white",
            "gridcolor": "#DFE8F3",
            "gridwidth": 2,
            "linecolor": "#EBF0F8",
            "showbackground": true,
            "ticks": "",
            "zerolinecolor": "#EBF0F8"
           }
          },
          "shapedefaults": {
           "line": {
            "color": "#2a3f5f"
           }
          },
          "ternary": {
           "aaxis": {
            "gridcolor": "#DFE8F3",
            "linecolor": "#A2B1C6",
            "ticks": ""
           },
           "baxis": {
            "gridcolor": "#DFE8F3",
            "linecolor": "#A2B1C6",
            "ticks": ""
           },
           "bgcolor": "white",
           "caxis": {
            "gridcolor": "#DFE8F3",
            "linecolor": "#A2B1C6",
            "ticks": ""
           }
          },
          "title": {
           "x": 0.05
          },
          "xaxis": {
           "automargin": true,
           "gridcolor": "#EBF0F8",
           "linecolor": "#EBF0F8",
           "ticks": "",
           "title": {
            "standoff": 15
           },
           "zerolinecolor": "#EBF0F8",
           "zerolinewidth": 2
          },
          "yaxis": {
           "automargin": true,
           "gridcolor": "#EBF0F8",
           "linecolor": "#EBF0F8",
           "ticks": "",
           "title": {
            "standoff": 15
           },
           "zerolinecolor": "#EBF0F8",
           "zerolinewidth": 2
          }
         }
        },
        "title": {
         "text": "🔄 Material Import Dependency — Top 10 Countries (Dynamic by Year)"
        },
        "updatemenus": [
         {
          "buttons": [
           {
            "args": [
             null,
             {
              "frame": {
               "duration": 700,
               "redraw": false
              },
              "fromcurrent": true,
              "mode": "immediate",
              "transition": {
               "duration": 500,
               "easing": "linear"
              }
             }
            ],
            "label": "&#9654;",
            "method": "animate"
           },
           {
            "args": [
             [
              null
             ],
             {
              "frame": {
               "duration": 0,
               "redraw": false
              },
              "fromcurrent": true,
              "mode": "immediate",
              "transition": {
               "duration": 0,
               "easing": "linear"
              }
             }
            ],
            "label": "&#9724;",
            "method": "animate"
           }
          ],
          "direction": "left",
          "pad": {
           "r": 10,
           "t": 70
          },
          "showactive": false,
          "type": "buttons",
          "x": 0.1,
          "xanchor": "right",
          "y": 0,
          "yanchor": "top"
         }
        ],
        "xaxis": {
         "anchor": "y",
         "categoryarray": [
          "Luxembourg",
          "Netherlands",
          "Belgium",
          "Switzerland",
          "Slovakia",
          "Italy",
          "Austria",
          "Malta",
          "Lithuania",
          "France",
          "Germany",
          "Iceland",
          "Slovenia",
          "Spain"
         ],
         "categoryorder": "array",
         "domain": [
          0,
          1
         ],
         "title": {
          "text": "Country"
         }
        },
        "yaxis": {
         "anchor": "x",
         "domain": [
          0,
          1
         ],
         "range": [
          0,
          101.9
         ],
         "title": {
          "text": "Import Dependency (%)"
         }
        }
       }
      }
     },
     "metadata": {},
     "output_type": "display_data"
    }
   ],
   "source": [
    "\n",
    "\n",
    "# Clean data: remove EU aggregate entries\n",
    "df_mtl_dep = df_mtl_dep[~df_mtl_dep['Geopolitical entity (reporting)'].str.contains(\"European Union\", na=False)]\n",
    "df_mtl_dep = df_mtl_dep.dropna(subset=['OBS_VALUE'])\n",
    "df_mtl_dep = df_mtl_dep[df_mtl_dep['TIME_PERIOD'] >= 2003]\n",
    "\n",
    "# Compute top 10 countries for each year independently\n",
    "df_top10_dynamic = df_mtl_dep.groupby('TIME_PERIOD', group_keys=False).apply(lambda g: g.nlargest(10, 'OBS_VALUE')).reset_index(drop=True)\n",
    "\n",
    "# Animated bubble chart\n",
    "fig = px.scatter(\n",
    "    df_top10_dynamic,\n",
    "    x='Geopolitical entity (reporting)',\n",
    "    y='OBS_VALUE',\n",
    "    size='OBS_VALUE',\n",
    "    color='Geopolitical entity (reporting)',\n",
    "    animation_frame='TIME_PERIOD',\n",
    "    animation_group='Geopolitical entity (reporting)',\n",
    "    size_max=60,\n",
    "    range_y=[0, df_top10_dynamic['OBS_VALUE'].max() + 10],\n",
    "    title='🔄 Material Import Dependency — Top 10 Countries (Dynamic by Year)',\n",
    "    labels={\n",
    "        'OBS_VALUE': 'Material Import Dependency (%)',\n",
    "        'Geopolitical entity (reporting)': 'Country'\n",
    "    },\n",
    "    template='plotly_white'\n",
    ")\n",
    "\n",
    "# Smooth transition settings\n",
    "fig.layout.updatemenus[0].buttons[0].args[1]['frame']['duration'] = 700  # Animation speed\n",
    "fig.layout.updatemenus[0].buttons[0].args[1]['transition']['duration'] = 500\n",
    "\n",
    "fig.update_layout(\n",
    "    xaxis_title='Country',\n",
    "    yaxis_title='Import Dependency (%)',\n",
    "    showlegend=False,\n",
    "    height=600\n",
    ")\n",
    "\n",
    "fig.show()\n"
   ]
  }
 ],
 "metadata": {
  "kernelspec": {
   "display_name": "base",
   "language": "python",
   "name": "python3"
  },
  "language_info": {
   "codemirror_mode": {
    "name": "ipython",
    "version": 3
   },
   "file_extension": ".py",
   "mimetype": "text/x-python",
   "name": "python",
   "nbconvert_exporter": "python",
   "pygments_lexer": "ipython3",
   "version": "3.12.9"
  }
 },
 "nbformat": 4,
 "nbformat_minor": 2
}
