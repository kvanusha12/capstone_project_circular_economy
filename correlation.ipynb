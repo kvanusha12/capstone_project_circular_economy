{
 "cells": [
  {
   "cell_type": "code",
   "execution_count": 42,
   "metadata": {},
   "outputs": [],
   "source": [
    "import pandas as pd \n",
    "import plotly.express as px\n"
   ]
  },
  {
   "cell_type": "code",
   "execution_count": 2,
   "metadata": {},
   "outputs": [],
   "source": [
    "df_europe_population = pd.read_csv(\"./Dataset_CE/europe_population.csv\")"
   ]
  },
  {
   "cell_type": "code",
   "execution_count": 46,
   "metadata": {},
   "outputs": [
    {
     "data": {
      "text/html": [
       "<div>\n",
       "<style scoped>\n",
       "    .dataframe tbody tr th:only-of-type {\n",
       "        vertical-align: middle;\n",
       "    }\n",
       "\n",
       "    .dataframe tbody tr th {\n",
       "        vertical-align: top;\n",
       "    }\n",
       "\n",
       "    .dataframe thead th {\n",
       "        text-align: right;\n",
       "    }\n",
       "</style>\n",
       "<table border=\"1\" class=\"dataframe\">\n",
       "  <thead>\n",
       "    <tr style=\"text-align: right;\">\n",
       "      <th></th>\n",
       "      <th>STRUCTURE</th>\n",
       "      <th>STRUCTURE_ID</th>\n",
       "      <th>STRUCTURE_NAME</th>\n",
       "      <th>freq</th>\n",
       "      <th>Time frequency</th>\n",
       "      <th>indic_de</th>\n",
       "      <th>Demographic indicator</th>\n",
       "      <th>geo</th>\n",
       "      <th>Geopolitical entity (reporting)</th>\n",
       "      <th>TIME_PERIOD</th>\n",
       "      <th>Time</th>\n",
       "      <th>OBS_VALUE</th>\n",
       "      <th>Observation value</th>\n",
       "      <th>OBS_FLAG</th>\n",
       "      <th>Observation status (Flag) V2 structure</th>\n",
       "      <th>CONF_STATUS</th>\n",
       "      <th>Confidentiality status (flag)</th>\n",
       "    </tr>\n",
       "  </thead>\n",
       "  <tbody>\n",
       "    <tr>\n",
       "      <th>684</th>\n",
       "      <td>dataflow</td>\n",
       "      <td>ESTAT:DEMO_GIND(1.0)</td>\n",
       "      <td>Population change - Demographic balance and cr...</td>\n",
       "      <td>A</td>\n",
       "      <td>Annual</td>\n",
       "      <td>AVG</td>\n",
       "      <td>Average population - total</td>\n",
       "      <td>HU</td>\n",
       "      <td>Hungary</td>\n",
       "      <td>2000</td>\n",
       "      <td>NaN</td>\n",
       "      <td>10210971.0</td>\n",
       "      <td>NaN</td>\n",
       "      <td>NaN</td>\n",
       "      <td>NaN</td>\n",
       "      <td>NaN</td>\n",
       "      <td>NaN</td>\n",
       "    </tr>\n",
       "    <tr>\n",
       "      <th>685</th>\n",
       "      <td>dataflow</td>\n",
       "      <td>ESTAT:DEMO_GIND(1.0)</td>\n",
       "      <td>Population change - Demographic balance and cr...</td>\n",
       "      <td>A</td>\n",
       "      <td>Annual</td>\n",
       "      <td>AVG</td>\n",
       "      <td>Average population - total</td>\n",
       "      <td>HU</td>\n",
       "      <td>Hungary</td>\n",
       "      <td>2001</td>\n",
       "      <td>NaN</td>\n",
       "      <td>10187576.0</td>\n",
       "      <td>NaN</td>\n",
       "      <td>NaN</td>\n",
       "      <td>NaN</td>\n",
       "      <td>NaN</td>\n",
       "      <td>NaN</td>\n",
       "    </tr>\n",
       "    <tr>\n",
       "      <th>686</th>\n",
       "      <td>dataflow</td>\n",
       "      <td>ESTAT:DEMO_GIND(1.0)</td>\n",
       "      <td>Population change - Demographic balance and cr...</td>\n",
       "      <td>A</td>\n",
       "      <td>Annual</td>\n",
       "      <td>AVG</td>\n",
       "      <td>Average population - total</td>\n",
       "      <td>HU</td>\n",
       "      <td>Hungary</td>\n",
       "      <td>2002</td>\n",
       "      <td>NaN</td>\n",
       "      <td>10158608.0</td>\n",
       "      <td>NaN</td>\n",
       "      <td>NaN</td>\n",
       "      <td>NaN</td>\n",
       "      <td>NaN</td>\n",
       "      <td>NaN</td>\n",
       "    </tr>\n",
       "    <tr>\n",
       "      <th>687</th>\n",
       "      <td>dataflow</td>\n",
       "      <td>ESTAT:DEMO_GIND(1.0)</td>\n",
       "      <td>Population change - Demographic balance and cr...</td>\n",
       "      <td>A</td>\n",
       "      <td>Annual</td>\n",
       "      <td>AVG</td>\n",
       "      <td>Average population - total</td>\n",
       "      <td>HU</td>\n",
       "      <td>Hungary</td>\n",
       "      <td>2003</td>\n",
       "      <td>NaN</td>\n",
       "      <td>10129552.0</td>\n",
       "      <td>NaN</td>\n",
       "      <td>NaN</td>\n",
       "      <td>NaN</td>\n",
       "      <td>NaN</td>\n",
       "      <td>NaN</td>\n",
       "    </tr>\n",
       "    <tr>\n",
       "      <th>688</th>\n",
       "      <td>dataflow</td>\n",
       "      <td>ESTAT:DEMO_GIND(1.0)</td>\n",
       "      <td>Population change - Demographic balance and cr...</td>\n",
       "      <td>A</td>\n",
       "      <td>Annual</td>\n",
       "      <td>AVG</td>\n",
       "      <td>Average population - total</td>\n",
       "      <td>HU</td>\n",
       "      <td>Hungary</td>\n",
       "      <td>2004</td>\n",
       "      <td>NaN</td>\n",
       "      <td>10107146.0</td>\n",
       "      <td>NaN</td>\n",
       "      <td>NaN</td>\n",
       "      <td>NaN</td>\n",
       "      <td>NaN</td>\n",
       "      <td>NaN</td>\n",
       "    </tr>\n",
       "    <tr>\n",
       "      <th>689</th>\n",
       "      <td>dataflow</td>\n",
       "      <td>ESTAT:DEMO_GIND(1.0)</td>\n",
       "      <td>Population change - Demographic balance and cr...</td>\n",
       "      <td>A</td>\n",
       "      <td>Annual</td>\n",
       "      <td>AVG</td>\n",
       "      <td>Average population - total</td>\n",
       "      <td>HU</td>\n",
       "      <td>Hungary</td>\n",
       "      <td>2005</td>\n",
       "      <td>NaN</td>\n",
       "      <td>10087065.0</td>\n",
       "      <td>NaN</td>\n",
       "      <td>NaN</td>\n",
       "      <td>NaN</td>\n",
       "      <td>NaN</td>\n",
       "      <td>NaN</td>\n",
       "    </tr>\n",
       "    <tr>\n",
       "      <th>690</th>\n",
       "      <td>dataflow</td>\n",
       "      <td>ESTAT:DEMO_GIND(1.0)</td>\n",
       "      <td>Population change - Demographic balance and cr...</td>\n",
       "      <td>A</td>\n",
       "      <td>Annual</td>\n",
       "      <td>AVG</td>\n",
       "      <td>Average population - total</td>\n",
       "      <td>HU</td>\n",
       "      <td>Hungary</td>\n",
       "      <td>2006</td>\n",
       "      <td>NaN</td>\n",
       "      <td>10071370.0</td>\n",
       "      <td>NaN</td>\n",
       "      <td>NaN</td>\n",
       "      <td>NaN</td>\n",
       "      <td>NaN</td>\n",
       "      <td>NaN</td>\n",
       "    </tr>\n",
       "    <tr>\n",
       "      <th>691</th>\n",
       "      <td>dataflow</td>\n",
       "      <td>ESTAT:DEMO_GIND(1.0)</td>\n",
       "      <td>Population change - Demographic balance and cr...</td>\n",
       "      <td>A</td>\n",
       "      <td>Annual</td>\n",
       "      <td>AVG</td>\n",
       "      <td>Average population - total</td>\n",
       "      <td>HU</td>\n",
       "      <td>Hungary</td>\n",
       "      <td>2007</td>\n",
       "      <td>NaN</td>\n",
       "      <td>10055780.0</td>\n",
       "      <td>NaN</td>\n",
       "      <td>NaN</td>\n",
       "      <td>NaN</td>\n",
       "      <td>NaN</td>\n",
       "      <td>NaN</td>\n",
       "    </tr>\n",
       "    <tr>\n",
       "      <th>692</th>\n",
       "      <td>dataflow</td>\n",
       "      <td>ESTAT:DEMO_GIND(1.0)</td>\n",
       "      <td>Population change - Demographic balance and cr...</td>\n",
       "      <td>A</td>\n",
       "      <td>Annual</td>\n",
       "      <td>AVG</td>\n",
       "      <td>Average population - total</td>\n",
       "      <td>HU</td>\n",
       "      <td>Hungary</td>\n",
       "      <td>2008</td>\n",
       "      <td>NaN</td>\n",
       "      <td>10038188.0</td>\n",
       "      <td>NaN</td>\n",
       "      <td>NaN</td>\n",
       "      <td>NaN</td>\n",
       "      <td>NaN</td>\n",
       "      <td>NaN</td>\n",
       "    </tr>\n",
       "    <tr>\n",
       "      <th>693</th>\n",
       "      <td>dataflow</td>\n",
       "      <td>ESTAT:DEMO_GIND(1.0)</td>\n",
       "      <td>Population change - Demographic balance and cr...</td>\n",
       "      <td>A</td>\n",
       "      <td>Annual</td>\n",
       "      <td>AVG</td>\n",
       "      <td>Average population - total</td>\n",
       "      <td>HU</td>\n",
       "      <td>Hungary</td>\n",
       "      <td>2009</td>\n",
       "      <td>NaN</td>\n",
       "      <td>10022650.0</td>\n",
       "      <td>NaN</td>\n",
       "      <td>NaN</td>\n",
       "      <td>NaN</td>\n",
       "      <td>NaN</td>\n",
       "      <td>NaN</td>\n",
       "    </tr>\n",
       "    <tr>\n",
       "      <th>694</th>\n",
       "      <td>dataflow</td>\n",
       "      <td>ESTAT:DEMO_GIND(1.0)</td>\n",
       "      <td>Population change - Demographic balance and cr...</td>\n",
       "      <td>A</td>\n",
       "      <td>Annual</td>\n",
       "      <td>AVG</td>\n",
       "      <td>Average population - total</td>\n",
       "      <td>HU</td>\n",
       "      <td>Hungary</td>\n",
       "      <td>2010</td>\n",
       "      <td>NaN</td>\n",
       "      <td>10000023.0</td>\n",
       "      <td>NaN</td>\n",
       "      <td>NaN</td>\n",
       "      <td>NaN</td>\n",
       "      <td>NaN</td>\n",
       "      <td>NaN</td>\n",
       "    </tr>\n",
       "    <tr>\n",
       "      <th>695</th>\n",
       "      <td>dataflow</td>\n",
       "      <td>ESTAT:DEMO_GIND(1.0)</td>\n",
       "      <td>Population change - Demographic balance and cr...</td>\n",
       "      <td>A</td>\n",
       "      <td>Annual</td>\n",
       "      <td>AVG</td>\n",
       "      <td>Average population - total</td>\n",
       "      <td>HU</td>\n",
       "      <td>Hungary</td>\n",
       "      <td>2011</td>\n",
       "      <td>NaN</td>\n",
       "      <td>9971727.0</td>\n",
       "      <td>NaN</td>\n",
       "      <td>NaN</td>\n",
       "      <td>NaN</td>\n",
       "      <td>NaN</td>\n",
       "      <td>NaN</td>\n",
       "    </tr>\n",
       "    <tr>\n",
       "      <th>696</th>\n",
       "      <td>dataflow</td>\n",
       "      <td>ESTAT:DEMO_GIND(1.0)</td>\n",
       "      <td>Population change - Demographic balance and cr...</td>\n",
       "      <td>A</td>\n",
       "      <td>Annual</td>\n",
       "      <td>AVG</td>\n",
       "      <td>Average population - total</td>\n",
       "      <td>HU</td>\n",
       "      <td>Hungary</td>\n",
       "      <td>2012</td>\n",
       "      <td>NaN</td>\n",
       "      <td>9920362.0</td>\n",
       "      <td>NaN</td>\n",
       "      <td>b</td>\n",
       "      <td>break in time series</td>\n",
       "      <td>NaN</td>\n",
       "      <td>NaN</td>\n",
       "    </tr>\n",
       "    <tr>\n",
       "      <th>697</th>\n",
       "      <td>dataflow</td>\n",
       "      <td>ESTAT:DEMO_GIND(1.0)</td>\n",
       "      <td>Population change - Demographic balance and cr...</td>\n",
       "      <td>A</td>\n",
       "      <td>Annual</td>\n",
       "      <td>AVG</td>\n",
       "      <td>Average population - total</td>\n",
       "      <td>HU</td>\n",
       "      <td>Hungary</td>\n",
       "      <td>2013</td>\n",
       "      <td>NaN</td>\n",
       "      <td>9872734.0</td>\n",
       "      <td>NaN</td>\n",
       "      <td>NaN</td>\n",
       "      <td>NaN</td>\n",
       "      <td>NaN</td>\n",
       "      <td>NaN</td>\n",
       "    </tr>\n",
       "    <tr>\n",
       "      <th>698</th>\n",
       "      <td>dataflow</td>\n",
       "      <td>ESTAT:DEMO_GIND(1.0)</td>\n",
       "      <td>Population change - Demographic balance and cr...</td>\n",
       "      <td>A</td>\n",
       "      <td>Annual</td>\n",
       "      <td>AVG</td>\n",
       "      <td>Average population - total</td>\n",
       "      <td>HU</td>\n",
       "      <td>Hungary</td>\n",
       "      <td>2014</td>\n",
       "      <td>NaN</td>\n",
       "      <td>9833038.0</td>\n",
       "      <td>NaN</td>\n",
       "      <td>NaN</td>\n",
       "      <td>NaN</td>\n",
       "      <td>NaN</td>\n",
       "      <td>NaN</td>\n",
       "    </tr>\n",
       "    <tr>\n",
       "      <th>699</th>\n",
       "      <td>dataflow</td>\n",
       "      <td>ESTAT:DEMO_GIND(1.0)</td>\n",
       "      <td>Population change - Demographic balance and cr...</td>\n",
       "      <td>A</td>\n",
       "      <td>Annual</td>\n",
       "      <td>AVG</td>\n",
       "      <td>Average population - total</td>\n",
       "      <td>HU</td>\n",
       "      <td>Hungary</td>\n",
       "      <td>2015</td>\n",
       "      <td>NaN</td>\n",
       "      <td>9797755.0</td>\n",
       "      <td>NaN</td>\n",
       "      <td>NaN</td>\n",
       "      <td>NaN</td>\n",
       "      <td>NaN</td>\n",
       "      <td>NaN</td>\n",
       "    </tr>\n",
       "    <tr>\n",
       "      <th>700</th>\n",
       "      <td>dataflow</td>\n",
       "      <td>ESTAT:DEMO_GIND(1.0)</td>\n",
       "      <td>Population change - Demographic balance and cr...</td>\n",
       "      <td>A</td>\n",
       "      <td>Annual</td>\n",
       "      <td>AVG</td>\n",
       "      <td>Average population - total</td>\n",
       "      <td>HU</td>\n",
       "      <td>Hungary</td>\n",
       "      <td>2016</td>\n",
       "      <td>NaN</td>\n",
       "      <td>9759755.0</td>\n",
       "      <td>NaN</td>\n",
       "      <td>NaN</td>\n",
       "      <td>NaN</td>\n",
       "      <td>NaN</td>\n",
       "      <td>NaN</td>\n",
       "    </tr>\n",
       "    <tr>\n",
       "      <th>701</th>\n",
       "      <td>dataflow</td>\n",
       "      <td>ESTAT:DEMO_GIND(1.0)</td>\n",
       "      <td>Population change - Demographic balance and cr...</td>\n",
       "      <td>A</td>\n",
       "      <td>Annual</td>\n",
       "      <td>AVG</td>\n",
       "      <td>Average population - total</td>\n",
       "      <td>HU</td>\n",
       "      <td>Hungary</td>\n",
       "      <td>2017</td>\n",
       "      <td>NaN</td>\n",
       "      <td>9726756.0</td>\n",
       "      <td>NaN</td>\n",
       "      <td>NaN</td>\n",
       "      <td>NaN</td>\n",
       "      <td>NaN</td>\n",
       "      <td>NaN</td>\n",
       "    </tr>\n",
       "    <tr>\n",
       "      <th>702</th>\n",
       "      <td>dataflow</td>\n",
       "      <td>ESTAT:DEMO_GIND(1.0)</td>\n",
       "      <td>Population change - Demographic balance and cr...</td>\n",
       "      <td>A</td>\n",
       "      <td>Annual</td>\n",
       "      <td>AVG</td>\n",
       "      <td>Average population - total</td>\n",
       "      <td>HU</td>\n",
       "      <td>Hungary</td>\n",
       "      <td>2018</td>\n",
       "      <td>NaN</td>\n",
       "      <td>9706964.0</td>\n",
       "      <td>NaN</td>\n",
       "      <td>NaN</td>\n",
       "      <td>NaN</td>\n",
       "      <td>NaN</td>\n",
       "      <td>NaN</td>\n",
       "    </tr>\n",
       "    <tr>\n",
       "      <th>703</th>\n",
       "      <td>dataflow</td>\n",
       "      <td>ESTAT:DEMO_GIND(1.0)</td>\n",
       "      <td>Population change - Demographic balance and cr...</td>\n",
       "      <td>A</td>\n",
       "      <td>Annual</td>\n",
       "      <td>AVG</td>\n",
       "      <td>Average population - total</td>\n",
       "      <td>HU</td>\n",
       "      <td>Hungary</td>\n",
       "      <td>2019</td>\n",
       "      <td>NaN</td>\n",
       "      <td>9694824.0</td>\n",
       "      <td>NaN</td>\n",
       "      <td>NaN</td>\n",
       "      <td>NaN</td>\n",
       "      <td>NaN</td>\n",
       "      <td>NaN</td>\n",
       "    </tr>\n",
       "    <tr>\n",
       "      <th>704</th>\n",
       "      <td>dataflow</td>\n",
       "      <td>ESTAT:DEMO_GIND(1.0)</td>\n",
       "      <td>Population change - Demographic balance and cr...</td>\n",
       "      <td>A</td>\n",
       "      <td>Annual</td>\n",
       "      <td>AVG</td>\n",
       "      <td>Average population - total</td>\n",
       "      <td>HU</td>\n",
       "      <td>Hungary</td>\n",
       "      <td>2020</td>\n",
       "      <td>NaN</td>\n",
       "      <td>9670419.0</td>\n",
       "      <td>NaN</td>\n",
       "      <td>NaN</td>\n",
       "      <td>NaN</td>\n",
       "      <td>NaN</td>\n",
       "      <td>NaN</td>\n",
       "    </tr>\n",
       "    <tr>\n",
       "      <th>705</th>\n",
       "      <td>dataflow</td>\n",
       "      <td>ESTAT:DEMO_GIND(1.0)</td>\n",
       "      <td>Population change - Demographic balance and cr...</td>\n",
       "      <td>A</td>\n",
       "      <td>Annual</td>\n",
       "      <td>AVG</td>\n",
       "      <td>Average population - total</td>\n",
       "      <td>HU</td>\n",
       "      <td>Hungary</td>\n",
       "      <td>2021</td>\n",
       "      <td>NaN</td>\n",
       "      <td>9630932.0</td>\n",
       "      <td>NaN</td>\n",
       "      <td>NaN</td>\n",
       "      <td>NaN</td>\n",
       "      <td>NaN</td>\n",
       "      <td>NaN</td>\n",
       "    </tr>\n",
       "    <tr>\n",
       "      <th>706</th>\n",
       "      <td>dataflow</td>\n",
       "      <td>ESTAT:DEMO_GIND(1.0)</td>\n",
       "      <td>Population change - Demographic balance and cr...</td>\n",
       "      <td>A</td>\n",
       "      <td>Annual</td>\n",
       "      <td>AVG</td>\n",
       "      <td>Average population - total</td>\n",
       "      <td>HU</td>\n",
       "      <td>Hungary</td>\n",
       "      <td>2022</td>\n",
       "      <td>NaN</td>\n",
       "      <td>9605074.0</td>\n",
       "      <td>NaN</td>\n",
       "      <td>NaN</td>\n",
       "      <td>NaN</td>\n",
       "      <td>NaN</td>\n",
       "      <td>NaN</td>\n",
       "    </tr>\n",
       "    <tr>\n",
       "      <th>707</th>\n",
       "      <td>dataflow</td>\n",
       "      <td>ESTAT:DEMO_GIND(1.0)</td>\n",
       "      <td>Population change - Demographic balance and cr...</td>\n",
       "      <td>A</td>\n",
       "      <td>Annual</td>\n",
       "      <td>AVG</td>\n",
       "      <td>Average population - total</td>\n",
       "      <td>HU</td>\n",
       "      <td>Hungary</td>\n",
       "      <td>2023</td>\n",
       "      <td>NaN</td>\n",
       "      <td>9592186.0</td>\n",
       "      <td>NaN</td>\n",
       "      <td>NaN</td>\n",
       "      <td>NaN</td>\n",
       "      <td>NaN</td>\n",
       "      <td>NaN</td>\n",
       "    </tr>\n",
       "    <tr>\n",
       "      <th>1981</th>\n",
       "      <td>dataflow</td>\n",
       "      <td>ESTAT:DEMO_GIND(1.0)</td>\n",
       "      <td>Population change - Demographic balance and cr...</td>\n",
       "      <td>A</td>\n",
       "      <td>Annual</td>\n",
       "      <td>CNMIGRAT</td>\n",
       "      <td>Net migration plus statistical adjustment</td>\n",
       "      <td>HU</td>\n",
       "      <td>Hungary</td>\n",
       "      <td>2000</td>\n",
       "      <td>NaN</td>\n",
       "      <td>16658.0</td>\n",
       "      <td>NaN</td>\n",
       "      <td>NaN</td>\n",
       "      <td>NaN</td>\n",
       "      <td>NaN</td>\n",
       "      <td>NaN</td>\n",
       "    </tr>\n",
       "    <tr>\n",
       "      <th>1982</th>\n",
       "      <td>dataflow</td>\n",
       "      <td>ESTAT:DEMO_GIND(1.0)</td>\n",
       "      <td>Population change - Demographic balance and cr...</td>\n",
       "      <td>A</td>\n",
       "      <td>Annual</td>\n",
       "      <td>CNMIGRAT</td>\n",
       "      <td>Net migration plus statistical adjustment</td>\n",
       "      <td>HU</td>\n",
       "      <td>Hungary</td>\n",
       "      <td>2001</td>\n",
       "      <td>NaN</td>\n",
       "      <td>9691.0</td>\n",
       "      <td>NaN</td>\n",
       "      <td>NaN</td>\n",
       "      <td>NaN</td>\n",
       "      <td>NaN</td>\n",
       "      <td>NaN</td>\n",
       "    </tr>\n",
       "    <tr>\n",
       "      <th>1983</th>\n",
       "      <td>dataflow</td>\n",
       "      <td>ESTAT:DEMO_GIND(1.0)</td>\n",
       "      <td>Population change - Demographic balance and cr...</td>\n",
       "      <td>A</td>\n",
       "      <td>Annual</td>\n",
       "      <td>CNMIGRAT</td>\n",
       "      <td>Net migration plus statistical adjustment</td>\n",
       "      <td>HU</td>\n",
       "      <td>Hungary</td>\n",
       "      <td>2002</td>\n",
       "      <td>NaN</td>\n",
       "      <td>3538.0</td>\n",
       "      <td>NaN</td>\n",
       "      <td>NaN</td>\n",
       "      <td>NaN</td>\n",
       "      <td>NaN</td>\n",
       "      <td>NaN</td>\n",
       "    </tr>\n",
       "    <tr>\n",
       "      <th>1984</th>\n",
       "      <td>dataflow</td>\n",
       "      <td>ESTAT:DEMO_GIND(1.0)</td>\n",
       "      <td>Population change - Demographic balance and cr...</td>\n",
       "      <td>A</td>\n",
       "      <td>Annual</td>\n",
       "      <td>CNMIGRAT</td>\n",
       "      <td>Net migration plus statistical adjustment</td>\n",
       "      <td>HU</td>\n",
       "      <td>Hungary</td>\n",
       "      <td>2003</td>\n",
       "      <td>NaN</td>\n",
       "      <td>15556.0</td>\n",
       "      <td>NaN</td>\n",
       "      <td>NaN</td>\n",
       "      <td>NaN</td>\n",
       "      <td>NaN</td>\n",
       "      <td>NaN</td>\n",
       "    </tr>\n",
       "    <tr>\n",
       "      <th>1985</th>\n",
       "      <td>dataflow</td>\n",
       "      <td>ESTAT:DEMO_GIND(1.0)</td>\n",
       "      <td>Population change - Demographic balance and cr...</td>\n",
       "      <td>A</td>\n",
       "      <td>Annual</td>\n",
       "      <td>CNMIGRAT</td>\n",
       "      <td>Net migration plus statistical adjustment</td>\n",
       "      <td>HU</td>\n",
       "      <td>Hungary</td>\n",
       "      <td>2004</td>\n",
       "      <td>NaN</td>\n",
       "      <td>18162.0</td>\n",
       "      <td>NaN</td>\n",
       "      <td>NaN</td>\n",
       "      <td>NaN</td>\n",
       "      <td>NaN</td>\n",
       "      <td>NaN</td>\n",
       "    </tr>\n",
       "    <tr>\n",
       "      <th>1986</th>\n",
       "      <td>dataflow</td>\n",
       "      <td>ESTAT:DEMO_GIND(1.0)</td>\n",
       "      <td>Population change - Demographic balance and cr...</td>\n",
       "      <td>A</td>\n",
       "      <td>Annual</td>\n",
       "      <td>CNMIGRAT</td>\n",
       "      <td>Net migration plus statistical adjustment</td>\n",
       "      <td>HU</td>\n",
       "      <td>Hungary</td>\n",
       "      <td>2005</td>\n",
       "      <td>NaN</td>\n",
       "      <td>17268.0</td>\n",
       "      <td>NaN</td>\n",
       "      <td>NaN</td>\n",
       "      <td>NaN</td>\n",
       "      <td>NaN</td>\n",
       "      <td>NaN</td>\n",
       "    </tr>\n",
       "    <tr>\n",
       "      <th>1987</th>\n",
       "      <td>dataflow</td>\n",
       "      <td>ESTAT:DEMO_GIND(1.0)</td>\n",
       "      <td>Population change - Demographic balance and cr...</td>\n",
       "      <td>A</td>\n",
       "      <td>Annual</td>\n",
       "      <td>CNMIGRAT</td>\n",
       "      <td>Net migration plus statistical adjustment</td>\n",
       "      <td>HU</td>\n",
       "      <td>Hungary</td>\n",
       "      <td>2006</td>\n",
       "      <td>NaN</td>\n",
       "      <td>21309.0</td>\n",
       "      <td>NaN</td>\n",
       "      <td>NaN</td>\n",
       "      <td>NaN</td>\n",
       "      <td>NaN</td>\n",
       "      <td>NaN</td>\n",
       "    </tr>\n",
       "    <tr>\n",
       "      <th>1988</th>\n",
       "      <td>dataflow</td>\n",
       "      <td>ESTAT:DEMO_GIND(1.0)</td>\n",
       "      <td>Population change - Demographic balance and cr...</td>\n",
       "      <td>A</td>\n",
       "      <td>Annual</td>\n",
       "      <td>CNMIGRAT</td>\n",
       "      <td>Net migration plus statistical adjustment</td>\n",
       "      <td>HU</td>\n",
       "      <td>Hungary</td>\n",
       "      <td>2007</td>\n",
       "      <td>NaN</td>\n",
       "      <td>14568.0</td>\n",
       "      <td>NaN</td>\n",
       "      <td>NaN</td>\n",
       "      <td>NaN</td>\n",
       "      <td>NaN</td>\n",
       "      <td>NaN</td>\n",
       "    </tr>\n",
       "    <tr>\n",
       "      <th>1989</th>\n",
       "      <td>dataflow</td>\n",
       "      <td>ESTAT:DEMO_GIND(1.0)</td>\n",
       "      <td>Population change - Demographic balance and cr...</td>\n",
       "      <td>A</td>\n",
       "      <td>Annual</td>\n",
       "      <td>CNMIGRAT</td>\n",
       "      <td>Net migration plus statistical adjustment</td>\n",
       "      <td>HU</td>\n",
       "      <td>Hungary</td>\n",
       "      <td>2008</td>\n",
       "      <td>NaN</td>\n",
       "      <td>16452.0</td>\n",
       "      <td>NaN</td>\n",
       "      <td>NaN</td>\n",
       "      <td>NaN</td>\n",
       "      <td>NaN</td>\n",
       "      <td>NaN</td>\n",
       "    </tr>\n",
       "    <tr>\n",
       "      <th>1990</th>\n",
       "      <td>dataflow</td>\n",
       "      <td>ESTAT:DEMO_GIND(1.0)</td>\n",
       "      <td>Population change - Demographic balance and cr...</td>\n",
       "      <td>A</td>\n",
       "      <td>Annual</td>\n",
       "      <td>CNMIGRAT</td>\n",
       "      <td>Net migration plus statistical adjustment</td>\n",
       "      <td>HU</td>\n",
       "      <td>Hungary</td>\n",
       "      <td>2009</td>\n",
       "      <td>NaN</td>\n",
       "      <td>17321.0</td>\n",
       "      <td>NaN</td>\n",
       "      <td>NaN</td>\n",
       "      <td>NaN</td>\n",
       "      <td>NaN</td>\n",
       "      <td>NaN</td>\n",
       "    </tr>\n",
       "    <tr>\n",
       "      <th>1991</th>\n",
       "      <td>dataflow</td>\n",
       "      <td>ESTAT:DEMO_GIND(1.0)</td>\n",
       "      <td>Population change - Demographic balance and cr...</td>\n",
       "      <td>A</td>\n",
       "      <td>Annual</td>\n",
       "      <td>CNMIGRAT</td>\n",
       "      <td>Net migration plus statistical adjustment</td>\n",
       "      <td>HU</td>\n",
       "      <td>Hungary</td>\n",
       "      <td>2010</td>\n",
       "      <td>NaN</td>\n",
       "      <td>11519.0</td>\n",
       "      <td>NaN</td>\n",
       "      <td>NaN</td>\n",
       "      <td>NaN</td>\n",
       "      <td>NaN</td>\n",
       "      <td>NaN</td>\n",
       "    </tr>\n",
       "    <tr>\n",
       "      <th>1992</th>\n",
       "      <td>dataflow</td>\n",
       "      <td>ESTAT:DEMO_GIND(1.0)</td>\n",
       "      <td>Population change - Demographic balance and cr...</td>\n",
       "      <td>A</td>\n",
       "      <td>Annual</td>\n",
       "      <td>CNMIGRAT</td>\n",
       "      <td>Net migration plus statistical adjustment</td>\n",
       "      <td>HU</td>\n",
       "      <td>Hungary</td>\n",
       "      <td>2011</td>\n",
       "      <td>NaN</td>\n",
       "      <td>12755.0</td>\n",
       "      <td>NaN</td>\n",
       "      <td>NaN</td>\n",
       "      <td>NaN</td>\n",
       "      <td>NaN</td>\n",
       "      <td>NaN</td>\n",
       "    </tr>\n",
       "    <tr>\n",
       "      <th>1993</th>\n",
       "      <td>dataflow</td>\n",
       "      <td>ESTAT:DEMO_GIND(1.0)</td>\n",
       "      <td>Population change - Demographic balance and cr...</td>\n",
       "      <td>A</td>\n",
       "      <td>Annual</td>\n",
       "      <td>CNMIGRAT</td>\n",
       "      <td>Net migration plus statistical adjustment</td>\n",
       "      <td>HU</td>\n",
       "      <td>Hungary</td>\n",
       "      <td>2012</td>\n",
       "      <td>NaN</td>\n",
       "      <td>16044.0</td>\n",
       "      <td>NaN</td>\n",
       "      <td>b</td>\n",
       "      <td>break in time series</td>\n",
       "      <td>NaN</td>\n",
       "      <td>NaN</td>\n",
       "    </tr>\n",
       "    <tr>\n",
       "      <th>1994</th>\n",
       "      <td>dataflow</td>\n",
       "      <td>ESTAT:DEMO_GIND(1.0)</td>\n",
       "      <td>Population change - Demographic balance and cr...</td>\n",
       "      <td>A</td>\n",
       "      <td>Annual</td>\n",
       "      <td>CNMIGRAT</td>\n",
       "      <td>Net migration plus statistical adjustment</td>\n",
       "      <td>HU</td>\n",
       "      <td>Hungary</td>\n",
       "      <td>2013</td>\n",
       "      <td>NaN</td>\n",
       "      <td>-7880.0</td>\n",
       "      <td>NaN</td>\n",
       "      <td>NaN</td>\n",
       "      <td>NaN</td>\n",
       "      <td>NaN</td>\n",
       "      <td>NaN</td>\n",
       "    </tr>\n",
       "    <tr>\n",
       "      <th>1995</th>\n",
       "      <td>dataflow</td>\n",
       "      <td>ESTAT:DEMO_GIND(1.0)</td>\n",
       "      <td>Population change - Demographic balance and cr...</td>\n",
       "      <td>A</td>\n",
       "      <td>Annual</td>\n",
       "      <td>CNMIGRAT</td>\n",
       "      <td>Net migration plus statistical adjustment</td>\n",
       "      <td>HU</td>\n",
       "      <td>Hungary</td>\n",
       "      <td>2014</td>\n",
       "      <td>NaN</td>\n",
       "      <td>-1346.0</td>\n",
       "      <td>NaN</td>\n",
       "      <td>NaN</td>\n",
       "      <td>NaN</td>\n",
       "      <td>NaN</td>\n",
       "      <td>NaN</td>\n",
       "    </tr>\n",
       "    <tr>\n",
       "      <th>1996</th>\n",
       "      <td>dataflow</td>\n",
       "      <td>ESTAT:DEMO_GIND(1.0)</td>\n",
       "      <td>Population change - Demographic balance and cr...</td>\n",
       "      <td>A</td>\n",
       "      <td>Annual</td>\n",
       "      <td>CNMIGRAT</td>\n",
       "      <td>Net migration plus statistical adjustment</td>\n",
       "      <td>HU</td>\n",
       "      <td>Hungary</td>\n",
       "      <td>2015</td>\n",
       "      <td>NaN</td>\n",
       "      <td>3234.0</td>\n",
       "      <td>NaN</td>\n",
       "      <td>NaN</td>\n",
       "      <td>NaN</td>\n",
       "      <td>NaN</td>\n",
       "      <td>NaN</td>\n",
       "    </tr>\n",
       "  </tbody>\n",
       "</table>\n",
       "</div>"
      ],
      "text/plain": [
       "     STRUCTURE          STRUCTURE_ID  \\\n",
       "684   dataflow  ESTAT:DEMO_GIND(1.0)   \n",
       "685   dataflow  ESTAT:DEMO_GIND(1.0)   \n",
       "686   dataflow  ESTAT:DEMO_GIND(1.0)   \n",
       "687   dataflow  ESTAT:DEMO_GIND(1.0)   \n",
       "688   dataflow  ESTAT:DEMO_GIND(1.0)   \n",
       "689   dataflow  ESTAT:DEMO_GIND(1.0)   \n",
       "690   dataflow  ESTAT:DEMO_GIND(1.0)   \n",
       "691   dataflow  ESTAT:DEMO_GIND(1.0)   \n",
       "692   dataflow  ESTAT:DEMO_GIND(1.0)   \n",
       "693   dataflow  ESTAT:DEMO_GIND(1.0)   \n",
       "694   dataflow  ESTAT:DEMO_GIND(1.0)   \n",
       "695   dataflow  ESTAT:DEMO_GIND(1.0)   \n",
       "696   dataflow  ESTAT:DEMO_GIND(1.0)   \n",
       "697   dataflow  ESTAT:DEMO_GIND(1.0)   \n",
       "698   dataflow  ESTAT:DEMO_GIND(1.0)   \n",
       "699   dataflow  ESTAT:DEMO_GIND(1.0)   \n",
       "700   dataflow  ESTAT:DEMO_GIND(1.0)   \n",
       "701   dataflow  ESTAT:DEMO_GIND(1.0)   \n",
       "702   dataflow  ESTAT:DEMO_GIND(1.0)   \n",
       "703   dataflow  ESTAT:DEMO_GIND(1.0)   \n",
       "704   dataflow  ESTAT:DEMO_GIND(1.0)   \n",
       "705   dataflow  ESTAT:DEMO_GIND(1.0)   \n",
       "706   dataflow  ESTAT:DEMO_GIND(1.0)   \n",
       "707   dataflow  ESTAT:DEMO_GIND(1.0)   \n",
       "1981  dataflow  ESTAT:DEMO_GIND(1.0)   \n",
       "1982  dataflow  ESTAT:DEMO_GIND(1.0)   \n",
       "1983  dataflow  ESTAT:DEMO_GIND(1.0)   \n",
       "1984  dataflow  ESTAT:DEMO_GIND(1.0)   \n",
       "1985  dataflow  ESTAT:DEMO_GIND(1.0)   \n",
       "1986  dataflow  ESTAT:DEMO_GIND(1.0)   \n",
       "1987  dataflow  ESTAT:DEMO_GIND(1.0)   \n",
       "1988  dataflow  ESTAT:DEMO_GIND(1.0)   \n",
       "1989  dataflow  ESTAT:DEMO_GIND(1.0)   \n",
       "1990  dataflow  ESTAT:DEMO_GIND(1.0)   \n",
       "1991  dataflow  ESTAT:DEMO_GIND(1.0)   \n",
       "1992  dataflow  ESTAT:DEMO_GIND(1.0)   \n",
       "1993  dataflow  ESTAT:DEMO_GIND(1.0)   \n",
       "1994  dataflow  ESTAT:DEMO_GIND(1.0)   \n",
       "1995  dataflow  ESTAT:DEMO_GIND(1.0)   \n",
       "1996  dataflow  ESTAT:DEMO_GIND(1.0)   \n",
       "\n",
       "                                         STRUCTURE_NAME freq Time frequency  \\\n",
       "684   Population change - Demographic balance and cr...    A         Annual   \n",
       "685   Population change - Demographic balance and cr...    A         Annual   \n",
       "686   Population change - Demographic balance and cr...    A         Annual   \n",
       "687   Population change - Demographic balance and cr...    A         Annual   \n",
       "688   Population change - Demographic balance and cr...    A         Annual   \n",
       "689   Population change - Demographic balance and cr...    A         Annual   \n",
       "690   Population change - Demographic balance and cr...    A         Annual   \n",
       "691   Population change - Demographic balance and cr...    A         Annual   \n",
       "692   Population change - Demographic balance and cr...    A         Annual   \n",
       "693   Population change - Demographic balance and cr...    A         Annual   \n",
       "694   Population change - Demographic balance and cr...    A         Annual   \n",
       "695   Population change - Demographic balance and cr...    A         Annual   \n",
       "696   Population change - Demographic balance and cr...    A         Annual   \n",
       "697   Population change - Demographic balance and cr...    A         Annual   \n",
       "698   Population change - Demographic balance and cr...    A         Annual   \n",
       "699   Population change - Demographic balance and cr...    A         Annual   \n",
       "700   Population change - Demographic balance and cr...    A         Annual   \n",
       "701   Population change - Demographic balance and cr...    A         Annual   \n",
       "702   Population change - Demographic balance and cr...    A         Annual   \n",
       "703   Population change - Demographic balance and cr...    A         Annual   \n",
       "704   Population change - Demographic balance and cr...    A         Annual   \n",
       "705   Population change - Demographic balance and cr...    A         Annual   \n",
       "706   Population change - Demographic balance and cr...    A         Annual   \n",
       "707   Population change - Demographic balance and cr...    A         Annual   \n",
       "1981  Population change - Demographic balance and cr...    A         Annual   \n",
       "1982  Population change - Demographic balance and cr...    A         Annual   \n",
       "1983  Population change - Demographic balance and cr...    A         Annual   \n",
       "1984  Population change - Demographic balance and cr...    A         Annual   \n",
       "1985  Population change - Demographic balance and cr...    A         Annual   \n",
       "1986  Population change - Demographic balance and cr...    A         Annual   \n",
       "1987  Population change - Demographic balance and cr...    A         Annual   \n",
       "1988  Population change - Demographic balance and cr...    A         Annual   \n",
       "1989  Population change - Demographic balance and cr...    A         Annual   \n",
       "1990  Population change - Demographic balance and cr...    A         Annual   \n",
       "1991  Population change - Demographic balance and cr...    A         Annual   \n",
       "1992  Population change - Demographic balance and cr...    A         Annual   \n",
       "1993  Population change - Demographic balance and cr...    A         Annual   \n",
       "1994  Population change - Demographic balance and cr...    A         Annual   \n",
       "1995  Population change - Demographic balance and cr...    A         Annual   \n",
       "1996  Population change - Demographic balance and cr...    A         Annual   \n",
       "\n",
       "      indic_de                      Demographic indicator geo  \\\n",
       "684        AVG                 Average population - total  HU   \n",
       "685        AVG                 Average population - total  HU   \n",
       "686        AVG                 Average population - total  HU   \n",
       "687        AVG                 Average population - total  HU   \n",
       "688        AVG                 Average population - total  HU   \n",
       "689        AVG                 Average population - total  HU   \n",
       "690        AVG                 Average population - total  HU   \n",
       "691        AVG                 Average population - total  HU   \n",
       "692        AVG                 Average population - total  HU   \n",
       "693        AVG                 Average population - total  HU   \n",
       "694        AVG                 Average population - total  HU   \n",
       "695        AVG                 Average population - total  HU   \n",
       "696        AVG                 Average population - total  HU   \n",
       "697        AVG                 Average population - total  HU   \n",
       "698        AVG                 Average population - total  HU   \n",
       "699        AVG                 Average population - total  HU   \n",
       "700        AVG                 Average population - total  HU   \n",
       "701        AVG                 Average population - total  HU   \n",
       "702        AVG                 Average population - total  HU   \n",
       "703        AVG                 Average population - total  HU   \n",
       "704        AVG                 Average population - total  HU   \n",
       "705        AVG                 Average population - total  HU   \n",
       "706        AVG                 Average population - total  HU   \n",
       "707        AVG                 Average population - total  HU   \n",
       "1981  CNMIGRAT  Net migration plus statistical adjustment  HU   \n",
       "1982  CNMIGRAT  Net migration plus statistical adjustment  HU   \n",
       "1983  CNMIGRAT  Net migration plus statistical adjustment  HU   \n",
       "1984  CNMIGRAT  Net migration plus statistical adjustment  HU   \n",
       "1985  CNMIGRAT  Net migration plus statistical adjustment  HU   \n",
       "1986  CNMIGRAT  Net migration plus statistical adjustment  HU   \n",
       "1987  CNMIGRAT  Net migration plus statistical adjustment  HU   \n",
       "1988  CNMIGRAT  Net migration plus statistical adjustment  HU   \n",
       "1989  CNMIGRAT  Net migration plus statistical adjustment  HU   \n",
       "1990  CNMIGRAT  Net migration plus statistical adjustment  HU   \n",
       "1991  CNMIGRAT  Net migration plus statistical adjustment  HU   \n",
       "1992  CNMIGRAT  Net migration plus statistical adjustment  HU   \n",
       "1993  CNMIGRAT  Net migration plus statistical adjustment  HU   \n",
       "1994  CNMIGRAT  Net migration plus statistical adjustment  HU   \n",
       "1995  CNMIGRAT  Net migration plus statistical adjustment  HU   \n",
       "1996  CNMIGRAT  Net migration plus statistical adjustment  HU   \n",
       "\n",
       "     Geopolitical entity (reporting)  TIME_PERIOD  Time   OBS_VALUE  \\\n",
       "684                          Hungary         2000   NaN  10210971.0   \n",
       "685                          Hungary         2001   NaN  10187576.0   \n",
       "686                          Hungary         2002   NaN  10158608.0   \n",
       "687                          Hungary         2003   NaN  10129552.0   \n",
       "688                          Hungary         2004   NaN  10107146.0   \n",
       "689                          Hungary         2005   NaN  10087065.0   \n",
       "690                          Hungary         2006   NaN  10071370.0   \n",
       "691                          Hungary         2007   NaN  10055780.0   \n",
       "692                          Hungary         2008   NaN  10038188.0   \n",
       "693                          Hungary         2009   NaN  10022650.0   \n",
       "694                          Hungary         2010   NaN  10000023.0   \n",
       "695                          Hungary         2011   NaN   9971727.0   \n",
       "696                          Hungary         2012   NaN   9920362.0   \n",
       "697                          Hungary         2013   NaN   9872734.0   \n",
       "698                          Hungary         2014   NaN   9833038.0   \n",
       "699                          Hungary         2015   NaN   9797755.0   \n",
       "700                          Hungary         2016   NaN   9759755.0   \n",
       "701                          Hungary         2017   NaN   9726756.0   \n",
       "702                          Hungary         2018   NaN   9706964.0   \n",
       "703                          Hungary         2019   NaN   9694824.0   \n",
       "704                          Hungary         2020   NaN   9670419.0   \n",
       "705                          Hungary         2021   NaN   9630932.0   \n",
       "706                          Hungary         2022   NaN   9605074.0   \n",
       "707                          Hungary         2023   NaN   9592186.0   \n",
       "1981                         Hungary         2000   NaN     16658.0   \n",
       "1982                         Hungary         2001   NaN      9691.0   \n",
       "1983                         Hungary         2002   NaN      3538.0   \n",
       "1984                         Hungary         2003   NaN     15556.0   \n",
       "1985                         Hungary         2004   NaN     18162.0   \n",
       "1986                         Hungary         2005   NaN     17268.0   \n",
       "1987                         Hungary         2006   NaN     21309.0   \n",
       "1988                         Hungary         2007   NaN     14568.0   \n",
       "1989                         Hungary         2008   NaN     16452.0   \n",
       "1990                         Hungary         2009   NaN     17321.0   \n",
       "1991                         Hungary         2010   NaN     11519.0   \n",
       "1992                         Hungary         2011   NaN     12755.0   \n",
       "1993                         Hungary         2012   NaN     16044.0   \n",
       "1994                         Hungary         2013   NaN     -7880.0   \n",
       "1995                         Hungary         2014   NaN     -1346.0   \n",
       "1996                         Hungary         2015   NaN      3234.0   \n",
       "\n",
       "      Observation value OBS_FLAG Observation status (Flag) V2 structure  \\\n",
       "684                 NaN      NaN                                    NaN   \n",
       "685                 NaN      NaN                                    NaN   \n",
       "686                 NaN      NaN                                    NaN   \n",
       "687                 NaN      NaN                                    NaN   \n",
       "688                 NaN      NaN                                    NaN   \n",
       "689                 NaN      NaN                                    NaN   \n",
       "690                 NaN      NaN                                    NaN   \n",
       "691                 NaN      NaN                                    NaN   \n",
       "692                 NaN      NaN                                    NaN   \n",
       "693                 NaN      NaN                                    NaN   \n",
       "694                 NaN      NaN                                    NaN   \n",
       "695                 NaN      NaN                                    NaN   \n",
       "696                 NaN        b                   break in time series   \n",
       "697                 NaN      NaN                                    NaN   \n",
       "698                 NaN      NaN                                    NaN   \n",
       "699                 NaN      NaN                                    NaN   \n",
       "700                 NaN      NaN                                    NaN   \n",
       "701                 NaN      NaN                                    NaN   \n",
       "702                 NaN      NaN                                    NaN   \n",
       "703                 NaN      NaN                                    NaN   \n",
       "704                 NaN      NaN                                    NaN   \n",
       "705                 NaN      NaN                                    NaN   \n",
       "706                 NaN      NaN                                    NaN   \n",
       "707                 NaN      NaN                                    NaN   \n",
       "1981                NaN      NaN                                    NaN   \n",
       "1982                NaN      NaN                                    NaN   \n",
       "1983                NaN      NaN                                    NaN   \n",
       "1984                NaN      NaN                                    NaN   \n",
       "1985                NaN      NaN                                    NaN   \n",
       "1986                NaN      NaN                                    NaN   \n",
       "1987                NaN      NaN                                    NaN   \n",
       "1988                NaN      NaN                                    NaN   \n",
       "1989                NaN      NaN                                    NaN   \n",
       "1990                NaN      NaN                                    NaN   \n",
       "1991                NaN      NaN                                    NaN   \n",
       "1992                NaN      NaN                                    NaN   \n",
       "1993                NaN        b                   break in time series   \n",
       "1994                NaN      NaN                                    NaN   \n",
       "1995                NaN      NaN                                    NaN   \n",
       "1996                NaN      NaN                                    NaN   \n",
       "\n",
       "      CONF_STATUS  Confidentiality status (flag)  \n",
       "684           NaN                            NaN  \n",
       "685           NaN                            NaN  \n",
       "686           NaN                            NaN  \n",
       "687           NaN                            NaN  \n",
       "688           NaN                            NaN  \n",
       "689           NaN                            NaN  \n",
       "690           NaN                            NaN  \n",
       "691           NaN                            NaN  \n",
       "692           NaN                            NaN  \n",
       "693           NaN                            NaN  \n",
       "694           NaN                            NaN  \n",
       "695           NaN                            NaN  \n",
       "696           NaN                            NaN  \n",
       "697           NaN                            NaN  \n",
       "698           NaN                            NaN  \n",
       "699           NaN                            NaN  \n",
       "700           NaN                            NaN  \n",
       "701           NaN                            NaN  \n",
       "702           NaN                            NaN  \n",
       "703           NaN                            NaN  \n",
       "704           NaN                            NaN  \n",
       "705           NaN                            NaN  \n",
       "706           NaN                            NaN  \n",
       "707           NaN                            NaN  \n",
       "1981          NaN                            NaN  \n",
       "1982          NaN                            NaN  \n",
       "1983          NaN                            NaN  \n",
       "1984          NaN                            NaN  \n",
       "1985          NaN                            NaN  \n",
       "1986          NaN                            NaN  \n",
       "1987          NaN                            NaN  \n",
       "1988          NaN                            NaN  \n",
       "1989          NaN                            NaN  \n",
       "1990          NaN                            NaN  \n",
       "1991          NaN                            NaN  \n",
       "1992          NaN                            NaN  \n",
       "1993          NaN                            NaN  \n",
       "1994          NaN                            NaN  \n",
       "1995          NaN                            NaN  \n",
       "1996          NaN                            NaN  "
      ]
     },
     "execution_count": 46,
     "metadata": {},
     "output_type": "execute_result"
    }
   ],
   "source": [
    "df_europe_population[df_europe_population['Geopolitical entity (reporting)']=='Hungary'].head(40)"
   ]
  },
  {
   "cell_type": "code",
   "execution_count": 48,
   "metadata": {},
   "outputs": [
    {
     "data": {
      "text/html": [
       "<div>\n",
       "<style scoped>\n",
       "    .dataframe tbody tr th:only-of-type {\n",
       "        vertical-align: middle;\n",
       "    }\n",
       "\n",
       "    .dataframe tbody tr th {\n",
       "        vertical-align: top;\n",
       "    }\n",
       "\n",
       "    .dataframe thead th {\n",
       "        text-align: right;\n",
       "    }\n",
       "</style>\n",
       "<table border=\"1\" class=\"dataframe\">\n",
       "  <thead>\n",
       "    <tr style=\"text-align: right;\">\n",
       "      <th></th>\n",
       "      <th>STRUCTURE</th>\n",
       "      <th>STRUCTURE_ID</th>\n",
       "      <th>STRUCTURE_NAME</th>\n",
       "      <th>freq</th>\n",
       "      <th>Time frequency</th>\n",
       "      <th>indic_de</th>\n",
       "      <th>Demographic indicator</th>\n",
       "      <th>geo</th>\n",
       "      <th>Geopolitical entity (reporting)</th>\n",
       "      <th>TIME_PERIOD</th>\n",
       "      <th>Time</th>\n",
       "      <th>OBS_VALUE</th>\n",
       "      <th>Observation value</th>\n",
       "      <th>OBS_FLAG</th>\n",
       "      <th>Observation status (Flag) V2 structure</th>\n",
       "      <th>CONF_STATUS</th>\n",
       "      <th>Confidentiality status (flag)</th>\n",
       "    </tr>\n",
       "  </thead>\n",
       "  <tbody>\n",
       "    <tr>\n",
       "      <th>0</th>\n",
       "      <td>dataflow</td>\n",
       "      <td>ESTAT:DEMO_GIND(1.0)</td>\n",
       "      <td>Population change - Demographic balance and cr...</td>\n",
       "      <td>A</td>\n",
       "      <td>Annual</td>\n",
       "      <td>AVG</td>\n",
       "      <td>Average population - total</td>\n",
       "      <td>AD</td>\n",
       "      <td>Andorra</td>\n",
       "      <td>2000</td>\n",
       "      <td>NaN</td>\n",
       "      <td>65908.0</td>\n",
       "      <td>NaN</td>\n",
       "      <td>NaN</td>\n",
       "      <td>NaN</td>\n",
       "      <td>NaN</td>\n",
       "      <td>NaN</td>\n",
       "    </tr>\n",
       "    <tr>\n",
       "      <th>1</th>\n",
       "      <td>dataflow</td>\n",
       "      <td>ESTAT:DEMO_GIND(1.0)</td>\n",
       "      <td>Population change - Demographic balance and cr...</td>\n",
       "      <td>A</td>\n",
       "      <td>Annual</td>\n",
       "      <td>AVG</td>\n",
       "      <td>Average population - total</td>\n",
       "      <td>AD</td>\n",
       "      <td>Andorra</td>\n",
       "      <td>2001</td>\n",
       "      <td>NaN</td>\n",
       "      <td>66089.0</td>\n",
       "      <td>NaN</td>\n",
       "      <td>NaN</td>\n",
       "      <td>NaN</td>\n",
       "      <td>NaN</td>\n",
       "      <td>NaN</td>\n",
       "    </tr>\n",
       "    <tr>\n",
       "      <th>2</th>\n",
       "      <td>dataflow</td>\n",
       "      <td>ESTAT:DEMO_GIND(1.0)</td>\n",
       "      <td>Population change - Demographic balance and cr...</td>\n",
       "      <td>A</td>\n",
       "      <td>Annual</td>\n",
       "      <td>AVG</td>\n",
       "      <td>Average population - total</td>\n",
       "      <td>AD</td>\n",
       "      <td>Andorra</td>\n",
       "      <td>2002</td>\n",
       "      <td>NaN</td>\n",
       "      <td>66747.0</td>\n",
       "      <td>NaN</td>\n",
       "      <td>NaN</td>\n",
       "      <td>NaN</td>\n",
       "      <td>NaN</td>\n",
       "      <td>NaN</td>\n",
       "    </tr>\n",
       "    <tr>\n",
       "      <th>3</th>\n",
       "      <td>dataflow</td>\n",
       "      <td>ESTAT:DEMO_GIND(1.0)</td>\n",
       "      <td>Population change - Demographic balance and cr...</td>\n",
       "      <td>A</td>\n",
       "      <td>Annual</td>\n",
       "      <td>AVG</td>\n",
       "      <td>Average population - total</td>\n",
       "      <td>AD</td>\n",
       "      <td>Andorra</td>\n",
       "      <td>2003</td>\n",
       "      <td>NaN</td>\n",
       "      <td>69740.0</td>\n",
       "      <td>NaN</td>\n",
       "      <td>NaN</td>\n",
       "      <td>NaN</td>\n",
       "      <td>NaN</td>\n",
       "      <td>NaN</td>\n",
       "    </tr>\n",
       "    <tr>\n",
       "      <th>4</th>\n",
       "      <td>dataflow</td>\n",
       "      <td>ESTAT:DEMO_GIND(1.0)</td>\n",
       "      <td>Population change - Demographic balance and cr...</td>\n",
       "      <td>A</td>\n",
       "      <td>Annual</td>\n",
       "      <td>AVG</td>\n",
       "      <td>Average population - total</td>\n",
       "      <td>AD</td>\n",
       "      <td>Andorra</td>\n",
       "      <td>2004</td>\n",
       "      <td>NaN</td>\n",
       "      <td>74598.0</td>\n",
       "      <td>NaN</td>\n",
       "      <td>NaN</td>\n",
       "      <td>NaN</td>\n",
       "      <td>NaN</td>\n",
       "      <td>NaN</td>\n",
       "    </tr>\n",
       "    <tr>\n",
       "      <th>...</th>\n",
       "      <td>...</td>\n",
       "      <td>...</td>\n",
       "      <td>...</td>\n",
       "      <td>...</td>\n",
       "      <td>...</td>\n",
       "      <td>...</td>\n",
       "      <td>...</td>\n",
       "      <td>...</td>\n",
       "      <td>...</td>\n",
       "      <td>...</td>\n",
       "      <td>...</td>\n",
       "      <td>...</td>\n",
       "      <td>...</td>\n",
       "      <td>...</td>\n",
       "      <td>...</td>\n",
       "      <td>...</td>\n",
       "      <td>...</td>\n",
       "    </tr>\n",
       "    <tr>\n",
       "      <th>1299</th>\n",
       "      <td>dataflow</td>\n",
       "      <td>ESTAT:DEMO_GIND(1.0)</td>\n",
       "      <td>Population change - Demographic balance and cr...</td>\n",
       "      <td>A</td>\n",
       "      <td>Annual</td>\n",
       "      <td>AVG</td>\n",
       "      <td>Average population - total</td>\n",
       "      <td>XK</td>\n",
       "      <td>Kosovo*</td>\n",
       "      <td>2017</td>\n",
       "      <td>NaN</td>\n",
       "      <td>1791019.0</td>\n",
       "      <td>NaN</td>\n",
       "      <td>e</td>\n",
       "      <td>estimated</td>\n",
       "      <td>NaN</td>\n",
       "      <td>NaN</td>\n",
       "    </tr>\n",
       "    <tr>\n",
       "      <th>1300</th>\n",
       "      <td>dataflow</td>\n",
       "      <td>ESTAT:DEMO_GIND(1.0)</td>\n",
       "      <td>Population change - Demographic balance and cr...</td>\n",
       "      <td>A</td>\n",
       "      <td>Annual</td>\n",
       "      <td>AVG</td>\n",
       "      <td>Average population - total</td>\n",
       "      <td>XK</td>\n",
       "      <td>Kosovo*</td>\n",
       "      <td>2018</td>\n",
       "      <td>NaN</td>\n",
       "      <td>1797086.0</td>\n",
       "      <td>NaN</td>\n",
       "      <td>NaN</td>\n",
       "      <td>NaN</td>\n",
       "      <td>NaN</td>\n",
       "      <td>NaN</td>\n",
       "    </tr>\n",
       "    <tr>\n",
       "      <th>1301</th>\n",
       "      <td>dataflow</td>\n",
       "      <td>ESTAT:DEMO_GIND(1.0)</td>\n",
       "      <td>Population change - Demographic balance and cr...</td>\n",
       "      <td>A</td>\n",
       "      <td>Annual</td>\n",
       "      <td>AVG</td>\n",
       "      <td>Average population - total</td>\n",
       "      <td>XK</td>\n",
       "      <td>Kosovo*</td>\n",
       "      <td>2019</td>\n",
       "      <td>NaN</td>\n",
       "      <td>1788891.0</td>\n",
       "      <td>NaN</td>\n",
       "      <td>NaN</td>\n",
       "      <td>NaN</td>\n",
       "      <td>NaN</td>\n",
       "      <td>NaN</td>\n",
       "    </tr>\n",
       "    <tr>\n",
       "      <th>1302</th>\n",
       "      <td>dataflow</td>\n",
       "      <td>ESTAT:DEMO_GIND(1.0)</td>\n",
       "      <td>Population change - Demographic balance and cr...</td>\n",
       "      <td>A</td>\n",
       "      <td>Annual</td>\n",
       "      <td>AVG</td>\n",
       "      <td>Average population - total</td>\n",
       "      <td>XK</td>\n",
       "      <td>Kosovo*</td>\n",
       "      <td>2020</td>\n",
       "      <td>NaN</td>\n",
       "      <td>1790151.0</td>\n",
       "      <td>NaN</td>\n",
       "      <td>NaN</td>\n",
       "      <td>NaN</td>\n",
       "      <td>NaN</td>\n",
       "      <td>NaN</td>\n",
       "    </tr>\n",
       "    <tr>\n",
       "      <th>1303</th>\n",
       "      <td>dataflow</td>\n",
       "      <td>ESTAT:DEMO_GIND(1.0)</td>\n",
       "      <td>Population change - Demographic balance and cr...</td>\n",
       "      <td>A</td>\n",
       "      <td>Annual</td>\n",
       "      <td>AVG</td>\n",
       "      <td>Average population - total</td>\n",
       "      <td>XK</td>\n",
       "      <td>Kosovo*</td>\n",
       "      <td>2021</td>\n",
       "      <td>NaN</td>\n",
       "      <td>1786079.0</td>\n",
       "      <td>NaN</td>\n",
       "      <td>NaN</td>\n",
       "      <td>NaN</td>\n",
       "      <td>NaN</td>\n",
       "      <td>NaN</td>\n",
       "    </tr>\n",
       "  </tbody>\n",
       "</table>\n",
       "<p>1304 rows × 17 columns</p>\n",
       "</div>"
      ],
      "text/plain": [
       "     STRUCTURE          STRUCTURE_ID  \\\n",
       "0     dataflow  ESTAT:DEMO_GIND(1.0)   \n",
       "1     dataflow  ESTAT:DEMO_GIND(1.0)   \n",
       "2     dataflow  ESTAT:DEMO_GIND(1.0)   \n",
       "3     dataflow  ESTAT:DEMO_GIND(1.0)   \n",
       "4     dataflow  ESTAT:DEMO_GIND(1.0)   \n",
       "...        ...                   ...   \n",
       "1299  dataflow  ESTAT:DEMO_GIND(1.0)   \n",
       "1300  dataflow  ESTAT:DEMO_GIND(1.0)   \n",
       "1301  dataflow  ESTAT:DEMO_GIND(1.0)   \n",
       "1302  dataflow  ESTAT:DEMO_GIND(1.0)   \n",
       "1303  dataflow  ESTAT:DEMO_GIND(1.0)   \n",
       "\n",
       "                                         STRUCTURE_NAME freq Time frequency  \\\n",
       "0     Population change - Demographic balance and cr...    A         Annual   \n",
       "1     Population change - Demographic balance and cr...    A         Annual   \n",
       "2     Population change - Demographic balance and cr...    A         Annual   \n",
       "3     Population change - Demographic balance and cr...    A         Annual   \n",
       "4     Population change - Demographic balance and cr...    A         Annual   \n",
       "...                                                 ...  ...            ...   \n",
       "1299  Population change - Demographic balance and cr...    A         Annual   \n",
       "1300  Population change - Demographic balance and cr...    A         Annual   \n",
       "1301  Population change - Demographic balance and cr...    A         Annual   \n",
       "1302  Population change - Demographic balance and cr...    A         Annual   \n",
       "1303  Population change - Demographic balance and cr...    A         Annual   \n",
       "\n",
       "     indic_de       Demographic indicator geo Geopolitical entity (reporting)  \\\n",
       "0         AVG  Average population - total  AD                         Andorra   \n",
       "1         AVG  Average population - total  AD                         Andorra   \n",
       "2         AVG  Average population - total  AD                         Andorra   \n",
       "3         AVG  Average population - total  AD                         Andorra   \n",
       "4         AVG  Average population - total  AD                         Andorra   \n",
       "...       ...                         ...  ..                             ...   \n",
       "1299      AVG  Average population - total  XK                         Kosovo*   \n",
       "1300      AVG  Average population - total  XK                         Kosovo*   \n",
       "1301      AVG  Average population - total  XK                         Kosovo*   \n",
       "1302      AVG  Average population - total  XK                         Kosovo*   \n",
       "1303      AVG  Average population - total  XK                         Kosovo*   \n",
       "\n",
       "      TIME_PERIOD  Time  OBS_VALUE  Observation value OBS_FLAG  \\\n",
       "0            2000   NaN    65908.0                NaN      NaN   \n",
       "1            2001   NaN    66089.0                NaN      NaN   \n",
       "2            2002   NaN    66747.0                NaN      NaN   \n",
       "3            2003   NaN    69740.0                NaN      NaN   \n",
       "4            2004   NaN    74598.0                NaN      NaN   \n",
       "...           ...   ...        ...                ...      ...   \n",
       "1299         2017   NaN  1791019.0                NaN        e   \n",
       "1300         2018   NaN  1797086.0                NaN      NaN   \n",
       "1301         2019   NaN  1788891.0                NaN      NaN   \n",
       "1302         2020   NaN  1790151.0                NaN      NaN   \n",
       "1303         2021   NaN  1786079.0                NaN      NaN   \n",
       "\n",
       "     Observation status (Flag) V2 structure  CONF_STATUS  \\\n",
       "0                                       NaN          NaN   \n",
       "1                                       NaN          NaN   \n",
       "2                                       NaN          NaN   \n",
       "3                                       NaN          NaN   \n",
       "4                                       NaN          NaN   \n",
       "...                                     ...          ...   \n",
       "1299                              estimated          NaN   \n",
       "1300                                    NaN          NaN   \n",
       "1301                                    NaN          NaN   \n",
       "1302                                    NaN          NaN   \n",
       "1303                                    NaN          NaN   \n",
       "\n",
       "      Confidentiality status (flag)  \n",
       "0                               NaN  \n",
       "1                               NaN  \n",
       "2                               NaN  \n",
       "3                               NaN  \n",
       "4                               NaN  \n",
       "...                             ...  \n",
       "1299                            NaN  \n",
       "1300                            NaN  \n",
       "1301                            NaN  \n",
       "1302                            NaN  \n",
       "1303                            NaN  \n",
       "\n",
       "[1304 rows x 17 columns]"
      ]
     },
     "execution_count": 48,
     "metadata": {},
     "output_type": "execute_result"
    }
   ],
   "source": [
    "df_europe_population = df_europe_population[df_europe_population['indic_de']=='AVG']\n",
    "df_europe_population"
   ]
  },
  {
   "cell_type": "code",
   "execution_count": null,
   "metadata": {},
   "outputs": [],
   "source": [
    "df_plastic_packaging_gen = pd.read_csv(\"./Dataset_CE/Generation_plastic_pkg_waste_per_capita.csv\")"
   ]
  },
  {
   "cell_type": "code",
   "execution_count": 52,
   "metadata": {},
   "outputs": [
    {
     "data": {
      "text/html": [
       "<div>\n",
       "<style scoped>\n",
       "    .dataframe tbody tr th:only-of-type {\n",
       "        vertical-align: middle;\n",
       "    }\n",
       "\n",
       "    .dataframe tbody tr th {\n",
       "        vertical-align: top;\n",
       "    }\n",
       "\n",
       "    .dataframe thead th {\n",
       "        text-align: right;\n",
       "    }\n",
       "</style>\n",
       "<table border=\"1\" class=\"dataframe\">\n",
       "  <thead>\n",
       "    <tr style=\"text-align: right;\">\n",
       "      <th></th>\n",
       "      <th>geo</th>\n",
       "      <th>Geopolitical entity (reporting)</th>\n",
       "      <th>TIME_PERIOD</th>\n",
       "      <th>OBS_VALUE</th>\n",
       "    </tr>\n",
       "  </thead>\n",
       "  <tbody>\n",
       "    <tr>\n",
       "      <th>0</th>\n",
       "      <td>AD</td>\n",
       "      <td>Andorra</td>\n",
       "      <td>2000</td>\n",
       "      <td>65908.0</td>\n",
       "    </tr>\n",
       "    <tr>\n",
       "      <th>1</th>\n",
       "      <td>AD</td>\n",
       "      <td>Andorra</td>\n",
       "      <td>2001</td>\n",
       "      <td>66089.0</td>\n",
       "    </tr>\n",
       "    <tr>\n",
       "      <th>2</th>\n",
       "      <td>AD</td>\n",
       "      <td>Andorra</td>\n",
       "      <td>2002</td>\n",
       "      <td>66747.0</td>\n",
       "    </tr>\n",
       "    <tr>\n",
       "      <th>3</th>\n",
       "      <td>AD</td>\n",
       "      <td>Andorra</td>\n",
       "      <td>2003</td>\n",
       "      <td>69740.0</td>\n",
       "    </tr>\n",
       "    <tr>\n",
       "      <th>4</th>\n",
       "      <td>AD</td>\n",
       "      <td>Andorra</td>\n",
       "      <td>2004</td>\n",
       "      <td>74598.0</td>\n",
       "    </tr>\n",
       "    <tr>\n",
       "      <th>...</th>\n",
       "      <td>...</td>\n",
       "      <td>...</td>\n",
       "      <td>...</td>\n",
       "      <td>...</td>\n",
       "    </tr>\n",
       "    <tr>\n",
       "      <th>1299</th>\n",
       "      <td>XK</td>\n",
       "      <td>Kosovo*</td>\n",
       "      <td>2017</td>\n",
       "      <td>1791019.0</td>\n",
       "    </tr>\n",
       "    <tr>\n",
       "      <th>1300</th>\n",
       "      <td>XK</td>\n",
       "      <td>Kosovo*</td>\n",
       "      <td>2018</td>\n",
       "      <td>1797086.0</td>\n",
       "    </tr>\n",
       "    <tr>\n",
       "      <th>1301</th>\n",
       "      <td>XK</td>\n",
       "      <td>Kosovo*</td>\n",
       "      <td>2019</td>\n",
       "      <td>1788891.0</td>\n",
       "    </tr>\n",
       "    <tr>\n",
       "      <th>1302</th>\n",
       "      <td>XK</td>\n",
       "      <td>Kosovo*</td>\n",
       "      <td>2020</td>\n",
       "      <td>1790151.0</td>\n",
       "    </tr>\n",
       "    <tr>\n",
       "      <th>1303</th>\n",
       "      <td>XK</td>\n",
       "      <td>Kosovo*</td>\n",
       "      <td>2021</td>\n",
       "      <td>1786079.0</td>\n",
       "    </tr>\n",
       "  </tbody>\n",
       "</table>\n",
       "<p>1304 rows × 4 columns</p>\n",
       "</div>"
      ],
      "text/plain": [
       "     geo Geopolitical entity (reporting)  TIME_PERIOD  OBS_VALUE\n",
       "0     AD                         Andorra         2000    65908.0\n",
       "1     AD                         Andorra         2001    66089.0\n",
       "2     AD                         Andorra         2002    66747.0\n",
       "3     AD                         Andorra         2003    69740.0\n",
       "4     AD                         Andorra         2004    74598.0\n",
       "...   ..                             ...          ...        ...\n",
       "1299  XK                         Kosovo*         2017  1791019.0\n",
       "1300  XK                         Kosovo*         2018  1797086.0\n",
       "1301  XK                         Kosovo*         2019  1788891.0\n",
       "1302  XK                         Kosovo*         2020  1790151.0\n",
       "1303  XK                         Kosovo*         2021  1786079.0\n",
       "\n",
       "[1304 rows x 4 columns]"
      ]
     },
     "execution_count": 52,
     "metadata": {},
     "output_type": "execute_result"
    }
   ],
   "source": [
    "eu_pop = df_europe_population[['geo',\n",
    "       'Geopolitical entity (reporting)', 'TIME_PERIOD', 'OBS_VALUE']]\n",
    "eu_pop"
   ]
  },
  {
   "cell_type": "code",
   "execution_count": 53,
   "metadata": {},
   "outputs": [],
   "source": [
    "eu_pop.columns = ['country_code', 'country', 'year', 'population']"
   ]
  },
  {
   "cell_type": "code",
   "execution_count": 54,
   "metadata": {},
   "outputs": [
    {
     "data": {
      "text/html": [
       "<div>\n",
       "<style scoped>\n",
       "    .dataframe tbody tr th:only-of-type {\n",
       "        vertical-align: middle;\n",
       "    }\n",
       "\n",
       "    .dataframe tbody tr th {\n",
       "        vertical-align: top;\n",
       "    }\n",
       "\n",
       "    .dataframe thead th {\n",
       "        text-align: right;\n",
       "    }\n",
       "</style>\n",
       "<table border=\"1\" class=\"dataframe\">\n",
       "  <thead>\n",
       "    <tr style=\"text-align: right;\">\n",
       "      <th></th>\n",
       "      <th>country_code</th>\n",
       "      <th>country</th>\n",
       "      <th>year</th>\n",
       "      <th>population</th>\n",
       "    </tr>\n",
       "  </thead>\n",
       "  <tbody>\n",
       "    <tr>\n",
       "      <th>0</th>\n",
       "      <td>AD</td>\n",
       "      <td>Andorra</td>\n",
       "      <td>2000</td>\n",
       "      <td>65908.0</td>\n",
       "    </tr>\n",
       "    <tr>\n",
       "      <th>1</th>\n",
       "      <td>AD</td>\n",
       "      <td>Andorra</td>\n",
       "      <td>2001</td>\n",
       "      <td>66089.0</td>\n",
       "    </tr>\n",
       "    <tr>\n",
       "      <th>2</th>\n",
       "      <td>AD</td>\n",
       "      <td>Andorra</td>\n",
       "      <td>2002</td>\n",
       "      <td>66747.0</td>\n",
       "    </tr>\n",
       "    <tr>\n",
       "      <th>3</th>\n",
       "      <td>AD</td>\n",
       "      <td>Andorra</td>\n",
       "      <td>2003</td>\n",
       "      <td>69740.0</td>\n",
       "    </tr>\n",
       "    <tr>\n",
       "      <th>4</th>\n",
       "      <td>AD</td>\n",
       "      <td>Andorra</td>\n",
       "      <td>2004</td>\n",
       "      <td>74598.0</td>\n",
       "    </tr>\n",
       "    <tr>\n",
       "      <th>...</th>\n",
       "      <td>...</td>\n",
       "      <td>...</td>\n",
       "      <td>...</td>\n",
       "      <td>...</td>\n",
       "    </tr>\n",
       "    <tr>\n",
       "      <th>1299</th>\n",
       "      <td>XK</td>\n",
       "      <td>Kosovo*</td>\n",
       "      <td>2017</td>\n",
       "      <td>1791019.0</td>\n",
       "    </tr>\n",
       "    <tr>\n",
       "      <th>1300</th>\n",
       "      <td>XK</td>\n",
       "      <td>Kosovo*</td>\n",
       "      <td>2018</td>\n",
       "      <td>1797086.0</td>\n",
       "    </tr>\n",
       "    <tr>\n",
       "      <th>1301</th>\n",
       "      <td>XK</td>\n",
       "      <td>Kosovo*</td>\n",
       "      <td>2019</td>\n",
       "      <td>1788891.0</td>\n",
       "    </tr>\n",
       "    <tr>\n",
       "      <th>1302</th>\n",
       "      <td>XK</td>\n",
       "      <td>Kosovo*</td>\n",
       "      <td>2020</td>\n",
       "      <td>1790151.0</td>\n",
       "    </tr>\n",
       "    <tr>\n",
       "      <th>1303</th>\n",
       "      <td>XK</td>\n",
       "      <td>Kosovo*</td>\n",
       "      <td>2021</td>\n",
       "      <td>1786079.0</td>\n",
       "    </tr>\n",
       "  </tbody>\n",
       "</table>\n",
       "<p>1304 rows × 4 columns</p>\n",
       "</div>"
      ],
      "text/plain": [
       "     country_code  country  year  population\n",
       "0              AD  Andorra  2000     65908.0\n",
       "1              AD  Andorra  2001     66089.0\n",
       "2              AD  Andorra  2002     66747.0\n",
       "3              AD  Andorra  2003     69740.0\n",
       "4              AD  Andorra  2004     74598.0\n",
       "...           ...      ...   ...         ...\n",
       "1299           XK  Kosovo*  2017   1791019.0\n",
       "1300           XK  Kosovo*  2018   1797086.0\n",
       "1301           XK  Kosovo*  2019   1788891.0\n",
       "1302           XK  Kosovo*  2020   1790151.0\n",
       "1303           XK  Kosovo*  2021   1786079.0\n",
       "\n",
       "[1304 rows x 4 columns]"
      ]
     },
     "execution_count": 54,
     "metadata": {},
     "output_type": "execute_result"
    }
   ],
   "source": [
    "eu_pop"
   ]
  },
  {
   "cell_type": "code",
   "execution_count": 21,
   "metadata": {},
   "outputs": [
    {
     "data": {
      "text/html": [
       "<div>\n",
       "<style scoped>\n",
       "    .dataframe tbody tr th:only-of-type {\n",
       "        vertical-align: middle;\n",
       "    }\n",
       "\n",
       "    .dataframe tbody tr th {\n",
       "        vertical-align: top;\n",
       "    }\n",
       "\n",
       "    .dataframe thead th {\n",
       "        text-align: right;\n",
       "    }\n",
       "</style>\n",
       "<table border=\"1\" class=\"dataframe\">\n",
       "  <thead>\n",
       "    <tr style=\"text-align: right;\">\n",
       "      <th></th>\n",
       "      <th>Waste categories</th>\n",
       "      <th>Unit of measure</th>\n",
       "      <th>geo</th>\n",
       "      <th>Geopolitical entity (reporting)</th>\n",
       "      <th>TIME_PERIOD</th>\n",
       "      <th>OBS_VALUE</th>\n",
       "    </tr>\n",
       "  </thead>\n",
       "  <tbody>\n",
       "    <tr>\n",
       "      <th>0</th>\n",
       "      <td>Plastic packaging</td>\n",
       "      <td>Kilograms per capita</td>\n",
       "      <td>AT</td>\n",
       "      <td>Austria</td>\n",
       "      <td>2000</td>\n",
       "      <td>26.21</td>\n",
       "    </tr>\n",
       "    <tr>\n",
       "      <th>1</th>\n",
       "      <td>Plastic packaging</td>\n",
       "      <td>Kilograms per capita</td>\n",
       "      <td>AT</td>\n",
       "      <td>Austria</td>\n",
       "      <td>2001</td>\n",
       "      <td>25.43</td>\n",
       "    </tr>\n",
       "    <tr>\n",
       "      <th>2</th>\n",
       "      <td>Plastic packaging</td>\n",
       "      <td>Kilograms per capita</td>\n",
       "      <td>AT</td>\n",
       "      <td>Austria</td>\n",
       "      <td>2002</td>\n",
       "      <td>24.75</td>\n",
       "    </tr>\n",
       "    <tr>\n",
       "      <th>3</th>\n",
       "      <td>Plastic packaging</td>\n",
       "      <td>Kilograms per capita</td>\n",
       "      <td>AT</td>\n",
       "      <td>Austria</td>\n",
       "      <td>2003</td>\n",
       "      <td>26.69</td>\n",
       "    </tr>\n",
       "    <tr>\n",
       "      <th>4</th>\n",
       "      <td>Plastic packaging</td>\n",
       "      <td>Kilograms per capita</td>\n",
       "      <td>AT</td>\n",
       "      <td>Austria</td>\n",
       "      <td>2004</td>\n",
       "      <td>27.55</td>\n",
       "    </tr>\n",
       "    <tr>\n",
       "      <th>...</th>\n",
       "      <td>...</td>\n",
       "      <td>...</td>\n",
       "      <td>...</td>\n",
       "      <td>...</td>\n",
       "      <td>...</td>\n",
       "      <td>...</td>\n",
       "    </tr>\n",
       "    <tr>\n",
       "      <th>617</th>\n",
       "      <td>Plastic packaging</td>\n",
       "      <td>Kilograms per capita</td>\n",
       "      <td>SK</td>\n",
       "      <td>Slovakia</td>\n",
       "      <td>2018</td>\n",
       "      <td>24.22</td>\n",
       "    </tr>\n",
       "    <tr>\n",
       "      <th>618</th>\n",
       "      <td>Plastic packaging</td>\n",
       "      <td>Kilograms per capita</td>\n",
       "      <td>SK</td>\n",
       "      <td>Slovakia</td>\n",
       "      <td>2019</td>\n",
       "      <td>24.69</td>\n",
       "    </tr>\n",
       "    <tr>\n",
       "      <th>619</th>\n",
       "      <td>Plastic packaging</td>\n",
       "      <td>Kilograms per capita</td>\n",
       "      <td>SK</td>\n",
       "      <td>Slovakia</td>\n",
       "      <td>2020</td>\n",
       "      <td>23.49</td>\n",
       "    </tr>\n",
       "    <tr>\n",
       "      <th>620</th>\n",
       "      <td>Plastic packaging</td>\n",
       "      <td>Kilograms per capita</td>\n",
       "      <td>SK</td>\n",
       "      <td>Slovakia</td>\n",
       "      <td>2021</td>\n",
       "      <td>23.56</td>\n",
       "    </tr>\n",
       "    <tr>\n",
       "      <th>621</th>\n",
       "      <td>Plastic packaging</td>\n",
       "      <td>Kilograms per capita</td>\n",
       "      <td>SK</td>\n",
       "      <td>Slovakia</td>\n",
       "      <td>2022</td>\n",
       "      <td>26.72</td>\n",
       "    </tr>\n",
       "  </tbody>\n",
       "</table>\n",
       "<p>622 rows × 6 columns</p>\n",
       "</div>"
      ],
      "text/plain": [
       "      Waste categories       Unit of measure geo  \\\n",
       "0    Plastic packaging  Kilograms per capita  AT   \n",
       "1    Plastic packaging  Kilograms per capita  AT   \n",
       "2    Plastic packaging  Kilograms per capita  AT   \n",
       "3    Plastic packaging  Kilograms per capita  AT   \n",
       "4    Plastic packaging  Kilograms per capita  AT   \n",
       "..                 ...                   ...  ..   \n",
       "617  Plastic packaging  Kilograms per capita  SK   \n",
       "618  Plastic packaging  Kilograms per capita  SK   \n",
       "619  Plastic packaging  Kilograms per capita  SK   \n",
       "620  Plastic packaging  Kilograms per capita  SK   \n",
       "621  Plastic packaging  Kilograms per capita  SK   \n",
       "\n",
       "    Geopolitical entity (reporting)  TIME_PERIOD  OBS_VALUE  \n",
       "0                           Austria         2000      26.21  \n",
       "1                           Austria         2001      25.43  \n",
       "2                           Austria         2002      24.75  \n",
       "3                           Austria         2003      26.69  \n",
       "4                           Austria         2004      27.55  \n",
       "..                              ...          ...        ...  \n",
       "617                        Slovakia         2018      24.22  \n",
       "618                        Slovakia         2019      24.69  \n",
       "619                        Slovakia         2020      23.49  \n",
       "620                        Slovakia         2021      23.56  \n",
       "621                        Slovakia         2022      26.72  \n",
       "\n",
       "[622 rows x 6 columns]"
      ]
     },
     "execution_count": 21,
     "metadata": {},
     "output_type": "execute_result"
    }
   ],
   "source": [
    "eu_plastic_gen = df_plastic_packaging_gen[['Waste categories', 'Unit of measure', 'geo', 'Geopolitical entity (reporting)',\n",
    "       'TIME_PERIOD', 'OBS_VALUE']]\n",
    "eu_plastic_gen"
   ]
  },
  {
   "cell_type": "code",
   "execution_count": 26,
   "metadata": {},
   "outputs": [],
   "source": [
    "eu_plastic_gen.columns = ['packaging_type', 'unit_of_measure', 'country_code',\n",
    "       'country', 'year', 'value_kg']"
   ]
  },
  {
   "cell_type": "code",
   "execution_count": 27,
   "metadata": {},
   "outputs": [
    {
     "data": {
      "text/html": [
       "<div>\n",
       "<style scoped>\n",
       "    .dataframe tbody tr th:only-of-type {\n",
       "        vertical-align: middle;\n",
       "    }\n",
       "\n",
       "    .dataframe tbody tr th {\n",
       "        vertical-align: top;\n",
       "    }\n",
       "\n",
       "    .dataframe thead th {\n",
       "        text-align: right;\n",
       "    }\n",
       "</style>\n",
       "<table border=\"1\" class=\"dataframe\">\n",
       "  <thead>\n",
       "    <tr style=\"text-align: right;\">\n",
       "      <th></th>\n",
       "      <th>packaging_type</th>\n",
       "      <th>unit_of_measure</th>\n",
       "      <th>country_code</th>\n",
       "      <th>country</th>\n",
       "      <th>year</th>\n",
       "      <th>value_kg</th>\n",
       "    </tr>\n",
       "  </thead>\n",
       "  <tbody>\n",
       "    <tr>\n",
       "      <th>0</th>\n",
       "      <td>Plastic packaging</td>\n",
       "      <td>Kilograms per capita</td>\n",
       "      <td>AT</td>\n",
       "      <td>Austria</td>\n",
       "      <td>2000</td>\n",
       "      <td>26.21</td>\n",
       "    </tr>\n",
       "    <tr>\n",
       "      <th>1</th>\n",
       "      <td>Plastic packaging</td>\n",
       "      <td>Kilograms per capita</td>\n",
       "      <td>AT</td>\n",
       "      <td>Austria</td>\n",
       "      <td>2001</td>\n",
       "      <td>25.43</td>\n",
       "    </tr>\n",
       "    <tr>\n",
       "      <th>2</th>\n",
       "      <td>Plastic packaging</td>\n",
       "      <td>Kilograms per capita</td>\n",
       "      <td>AT</td>\n",
       "      <td>Austria</td>\n",
       "      <td>2002</td>\n",
       "      <td>24.75</td>\n",
       "    </tr>\n",
       "    <tr>\n",
       "      <th>3</th>\n",
       "      <td>Plastic packaging</td>\n",
       "      <td>Kilograms per capita</td>\n",
       "      <td>AT</td>\n",
       "      <td>Austria</td>\n",
       "      <td>2003</td>\n",
       "      <td>26.69</td>\n",
       "    </tr>\n",
       "    <tr>\n",
       "      <th>4</th>\n",
       "      <td>Plastic packaging</td>\n",
       "      <td>Kilograms per capita</td>\n",
       "      <td>AT</td>\n",
       "      <td>Austria</td>\n",
       "      <td>2004</td>\n",
       "      <td>27.55</td>\n",
       "    </tr>\n",
       "    <tr>\n",
       "      <th>...</th>\n",
       "      <td>...</td>\n",
       "      <td>...</td>\n",
       "      <td>...</td>\n",
       "      <td>...</td>\n",
       "      <td>...</td>\n",
       "      <td>...</td>\n",
       "    </tr>\n",
       "    <tr>\n",
       "      <th>617</th>\n",
       "      <td>Plastic packaging</td>\n",
       "      <td>Kilograms per capita</td>\n",
       "      <td>SK</td>\n",
       "      <td>Slovakia</td>\n",
       "      <td>2018</td>\n",
       "      <td>24.22</td>\n",
       "    </tr>\n",
       "    <tr>\n",
       "      <th>618</th>\n",
       "      <td>Plastic packaging</td>\n",
       "      <td>Kilograms per capita</td>\n",
       "      <td>SK</td>\n",
       "      <td>Slovakia</td>\n",
       "      <td>2019</td>\n",
       "      <td>24.69</td>\n",
       "    </tr>\n",
       "    <tr>\n",
       "      <th>619</th>\n",
       "      <td>Plastic packaging</td>\n",
       "      <td>Kilograms per capita</td>\n",
       "      <td>SK</td>\n",
       "      <td>Slovakia</td>\n",
       "      <td>2020</td>\n",
       "      <td>23.49</td>\n",
       "    </tr>\n",
       "    <tr>\n",
       "      <th>620</th>\n",
       "      <td>Plastic packaging</td>\n",
       "      <td>Kilograms per capita</td>\n",
       "      <td>SK</td>\n",
       "      <td>Slovakia</td>\n",
       "      <td>2021</td>\n",
       "      <td>23.56</td>\n",
       "    </tr>\n",
       "    <tr>\n",
       "      <th>621</th>\n",
       "      <td>Plastic packaging</td>\n",
       "      <td>Kilograms per capita</td>\n",
       "      <td>SK</td>\n",
       "      <td>Slovakia</td>\n",
       "      <td>2022</td>\n",
       "      <td>26.72</td>\n",
       "    </tr>\n",
       "  </tbody>\n",
       "</table>\n",
       "<p>622 rows × 6 columns</p>\n",
       "</div>"
      ],
      "text/plain": [
       "        packaging_type       unit_of_measure country_code   country  year  \\\n",
       "0    Plastic packaging  Kilograms per capita           AT   Austria  2000   \n",
       "1    Plastic packaging  Kilograms per capita           AT   Austria  2001   \n",
       "2    Plastic packaging  Kilograms per capita           AT   Austria  2002   \n",
       "3    Plastic packaging  Kilograms per capita           AT   Austria  2003   \n",
       "4    Plastic packaging  Kilograms per capita           AT   Austria  2004   \n",
       "..                 ...                   ...          ...       ...   ...   \n",
       "617  Plastic packaging  Kilograms per capita           SK  Slovakia  2018   \n",
       "618  Plastic packaging  Kilograms per capita           SK  Slovakia  2019   \n",
       "619  Plastic packaging  Kilograms per capita           SK  Slovakia  2020   \n",
       "620  Plastic packaging  Kilograms per capita           SK  Slovakia  2021   \n",
       "621  Plastic packaging  Kilograms per capita           SK  Slovakia  2022   \n",
       "\n",
       "     value_kg  \n",
       "0       26.21  \n",
       "1       25.43  \n",
       "2       24.75  \n",
       "3       26.69  \n",
       "4       27.55  \n",
       "..        ...  \n",
       "617     24.22  \n",
       "618     24.69  \n",
       "619     23.49  \n",
       "620     23.56  \n",
       "621     26.72  \n",
       "\n",
       "[622 rows x 6 columns]"
      ]
     },
     "execution_count": 27,
     "metadata": {},
     "output_type": "execute_result"
    }
   ],
   "source": [
    "eu_plastic_gen"
   ]
  },
  {
   "cell_type": "code",
   "execution_count": 55,
   "metadata": {},
   "outputs": [],
   "source": [
    "plastic_pop_eu = pd.merge(left = eu_plastic_gen, right = eu_pop, on = ['country_code', 'country','year'], how = 'inner') "
   ]
  },
  {
   "cell_type": "code",
   "execution_count": 56,
   "metadata": {},
   "outputs": [
    {
     "data": {
      "text/html": [
       "<div>\n",
       "<style scoped>\n",
       "    .dataframe tbody tr th:only-of-type {\n",
       "        vertical-align: middle;\n",
       "    }\n",
       "\n",
       "    .dataframe tbody tr th {\n",
       "        vertical-align: top;\n",
       "    }\n",
       "\n",
       "    .dataframe thead th {\n",
       "        text-align: right;\n",
       "    }\n",
       "</style>\n",
       "<table border=\"1\" class=\"dataframe\">\n",
       "  <thead>\n",
       "    <tr style=\"text-align: right;\">\n",
       "      <th></th>\n",
       "      <th>packaging_type</th>\n",
       "      <th>unit_of_measure</th>\n",
       "      <th>country_code</th>\n",
       "      <th>country</th>\n",
       "      <th>year</th>\n",
       "      <th>value_kg</th>\n",
       "      <th>population</th>\n",
       "    </tr>\n",
       "  </thead>\n",
       "  <tbody>\n",
       "    <tr>\n",
       "      <th>0</th>\n",
       "      <td>Plastic packaging</td>\n",
       "      <td>Kilograms per capita</td>\n",
       "      <td>AT</td>\n",
       "      <td>Austria</td>\n",
       "      <td>2000</td>\n",
       "      <td>26.21</td>\n",
       "      <td>8011566.0</td>\n",
       "    </tr>\n",
       "    <tr>\n",
       "      <th>1</th>\n",
       "      <td>Plastic packaging</td>\n",
       "      <td>Kilograms per capita</td>\n",
       "      <td>AT</td>\n",
       "      <td>Austria</td>\n",
       "      <td>2001</td>\n",
       "      <td>25.43</td>\n",
       "      <td>8042293.0</td>\n",
       "    </tr>\n",
       "    <tr>\n",
       "      <th>2</th>\n",
       "      <td>Plastic packaging</td>\n",
       "      <td>Kilograms per capita</td>\n",
       "      <td>AT</td>\n",
       "      <td>Austria</td>\n",
       "      <td>2002</td>\n",
       "      <td>24.75</td>\n",
       "      <td>8081957.0</td>\n",
       "    </tr>\n",
       "    <tr>\n",
       "      <th>3</th>\n",
       "      <td>Plastic packaging</td>\n",
       "      <td>Kilograms per capita</td>\n",
       "      <td>AT</td>\n",
       "      <td>Austria</td>\n",
       "      <td>2003</td>\n",
       "      <td>26.69</td>\n",
       "      <td>8121423.0</td>\n",
       "    </tr>\n",
       "    <tr>\n",
       "      <th>4</th>\n",
       "      <td>Plastic packaging</td>\n",
       "      <td>Kilograms per capita</td>\n",
       "      <td>AT</td>\n",
       "      <td>Austria</td>\n",
       "      <td>2004</td>\n",
       "      <td>27.55</td>\n",
       "      <td>8171966.0</td>\n",
       "    </tr>\n",
       "    <tr>\n",
       "      <th>...</th>\n",
       "      <td>...</td>\n",
       "      <td>...</td>\n",
       "      <td>...</td>\n",
       "      <td>...</td>\n",
       "      <td>...</td>\n",
       "      <td>...</td>\n",
       "      <td>...</td>\n",
       "    </tr>\n",
       "    <tr>\n",
       "      <th>617</th>\n",
       "      <td>Plastic packaging</td>\n",
       "      <td>Kilograms per capita</td>\n",
       "      <td>SK</td>\n",
       "      <td>Slovakia</td>\n",
       "      <td>2018</td>\n",
       "      <td>24.22</td>\n",
       "      <td>5446771.0</td>\n",
       "    </tr>\n",
       "    <tr>\n",
       "      <th>618</th>\n",
       "      <td>Plastic packaging</td>\n",
       "      <td>Kilograms per capita</td>\n",
       "      <td>SK</td>\n",
       "      <td>Slovakia</td>\n",
       "      <td>2019</td>\n",
       "      <td>24.69</td>\n",
       "      <td>5454147.0</td>\n",
       "    </tr>\n",
       "    <tr>\n",
       "      <th>619</th>\n",
       "      <td>Plastic packaging</td>\n",
       "      <td>Kilograms per capita</td>\n",
       "      <td>SK</td>\n",
       "      <td>Slovakia</td>\n",
       "      <td>2020</td>\n",
       "      <td>23.49</td>\n",
       "      <td>5458827.0</td>\n",
       "    </tr>\n",
       "    <tr>\n",
       "      <th>620</th>\n",
       "      <td>Plastic packaging</td>\n",
       "      <td>Kilograms per capita</td>\n",
       "      <td>SK</td>\n",
       "      <td>Slovakia</td>\n",
       "      <td>2021</td>\n",
       "      <td>23.56</td>\n",
       "      <td>5447247.0</td>\n",
       "    </tr>\n",
       "    <tr>\n",
       "      <th>621</th>\n",
       "      <td>Plastic packaging</td>\n",
       "      <td>Kilograms per capita</td>\n",
       "      <td>SK</td>\n",
       "      <td>Slovakia</td>\n",
       "      <td>2022</td>\n",
       "      <td>26.72</td>\n",
       "      <td>5431752.0</td>\n",
       "    </tr>\n",
       "  </tbody>\n",
       "</table>\n",
       "<p>622 rows × 7 columns</p>\n",
       "</div>"
      ],
      "text/plain": [
       "        packaging_type       unit_of_measure country_code   country  year  \\\n",
       "0    Plastic packaging  Kilograms per capita           AT   Austria  2000   \n",
       "1    Plastic packaging  Kilograms per capita           AT   Austria  2001   \n",
       "2    Plastic packaging  Kilograms per capita           AT   Austria  2002   \n",
       "3    Plastic packaging  Kilograms per capita           AT   Austria  2003   \n",
       "4    Plastic packaging  Kilograms per capita           AT   Austria  2004   \n",
       "..                 ...                   ...          ...       ...   ...   \n",
       "617  Plastic packaging  Kilograms per capita           SK  Slovakia  2018   \n",
       "618  Plastic packaging  Kilograms per capita           SK  Slovakia  2019   \n",
       "619  Plastic packaging  Kilograms per capita           SK  Slovakia  2020   \n",
       "620  Plastic packaging  Kilograms per capita           SK  Slovakia  2021   \n",
       "621  Plastic packaging  Kilograms per capita           SK  Slovakia  2022   \n",
       "\n",
       "     value_kg  population  \n",
       "0       26.21   8011566.0  \n",
       "1       25.43   8042293.0  \n",
       "2       24.75   8081957.0  \n",
       "3       26.69   8121423.0  \n",
       "4       27.55   8171966.0  \n",
       "..        ...         ...  \n",
       "617     24.22   5446771.0  \n",
       "618     24.69   5454147.0  \n",
       "619     23.49   5458827.0  \n",
       "620     23.56   5447247.0  \n",
       "621     26.72   5431752.0  \n",
       "\n",
       "[622 rows x 7 columns]"
      ]
     },
     "execution_count": 56,
     "metadata": {},
     "output_type": "execute_result"
    }
   ],
   "source": [
    "plastic_pop_eu"
   ]
  },
  {
   "cell_type": "code",
   "execution_count": 60,
   "metadata": {},
   "outputs": [
    {
     "data": {
      "application/vnd.plotly.v1+json": {
       "config": {
        "plotlyServerURL": "https://plot.ly"
       },
       "data": [
        {
         "hovertemplate": "country=Austria<br>year=2000<br>population=%{x}<br>value_kg=%{marker.size}<extra></extra>",
         "legendgroup": "Austria",
         "marker": {
          "color": "#636efa",
          "size": {
           "bdata": "9ihcj8I1OkA=",
           "dtype": "f8"
          },
          "sizemode": "area",
          "sizeref": 0.182375,
          "symbol": "circle"
         },
         "mode": "markers",
         "name": "Austria",
         "orientation": "v",
         "showlegend": true,
         "type": "scatter",
         "x": {
          "bdata": "AAAAgMuPXkE=",
          "dtype": "f8"
         },
         "xaxis": "x",
         "y": {
          "bdata": "9ihcj8I1OkA=",
          "dtype": "f8"
         },
         "yaxis": "y"
        },
        {
         "hovertemplate": "country=Belgium<br>year=2000<br>population=%{x}<br>value_kg=%{marker.size}<extra></extra>",
         "legendgroup": "Belgium",
         "marker": {
          "color": "#EF553B",
          "size": {
           "bdata": "SOF6FK7HN0A=",
           "dtype": "f8"
          },
          "sizemode": "area",
          "sizeref": 0.182375,
          "symbol": "circle"
         },
         "mode": "markers",
         "name": "Belgium",
         "orientation": "v",
         "showlegend": true,
         "type": "scatter",
         "x": {
          "bdata": "AAAAQH6NY0E=",
          "dtype": "f8"
         },
         "xaxis": "x",
         "y": {
          "bdata": "SOF6FK7HN0A=",
          "dtype": "f8"
         },
         "yaxis": "y"
        },
        {
         "hovertemplate": "country=Germany<br>year=2000<br>population=%{x}<br>value_kg=%{marker.size}<extra></extra>",
         "legendgroup": "Germany",
         "marker": {
          "color": "#19d3f3",
          "size": {
           "bdata": "SOF6FK7HNUA=",
           "dtype": "f8"
          },
          "sizemode": "area",
          "sizeref": 0.182375,
          "symbol": "circle"
         },
         "mode": "markers",
         "name": "Germany",
         "orientation": "v",
         "showlegend": true,
         "type": "scatter",
         "x": {
          "bdata": "AAAA0MqZk0E=",
          "dtype": "f8"
         },
         "xaxis": "x",
         "y": {
          "bdata": "SOF6FK7HNUA=",
          "dtype": "f8"
         },
         "yaxis": "y"
        },
        {
         "hovertemplate": "country=Denmark<br>year=2000<br>population=%{x}<br>value_kg=%{marker.size}<extra></extra>",
         "legendgroup": "Denmark",
         "marker": {
          "color": "#FF6692",
          "size": {
           "bdata": "cT0K16NwPUA=",
           "dtype": "f8"
          },
          "sizemode": "area",
          "sizeref": 0.182375,
          "symbol": "circle"
         },
         "mode": "markers",
         "name": "Denmark",
         "orientation": "v",
         "showlegend": true,
         "type": "scatter",
         "x": {
          "bdata": "AAAAAHheVEE=",
          "dtype": "f8"
         },
         "xaxis": "x",
         "y": {
          "bdata": "cT0K16NwPUA=",
          "dtype": "f8"
         },
         "yaxis": "y"
        },
        {
         "hovertemplate": "country=Greece<br>year=2000<br>population=%{x}<br>value_kg=%{marker.size}<extra></extra>",
         "legendgroup": "Greece",
         "marker": {
          "color": "#FF97FF",
          "size": {
           "bdata": "j8L1KFwPOEA=",
           "dtype": "f8"
          },
          "sizemode": "area",
          "sizeref": 0.182375,
          "symbol": "circle"
         },
         "mode": "markers",
         "name": "Greece",
         "orientation": "v",
         "showlegend": true,
         "type": "scatter",
         "x": {
          "bdata": "AAAAAEacZEE=",
          "dtype": "f8"
         },
         "xaxis": "x",
         "y": {
          "bdata": "j8L1KFwPOEA=",
          "dtype": "f8"
         },
         "yaxis": "y"
        },
        {
         "hovertemplate": "country=Spain<br>year=2000<br>population=%{x}<br>value_kg=%{marker.size}<extra></extra>",
         "legendgroup": "Spain",
         "marker": {
          "color": "#FECB52",
          "size": {
           "bdata": "KVyPwvVoPUA=",
           "dtype": "f8"
          },
          "sizemode": "area",
          "sizeref": 0.182375,
          "symbol": "circle"
         },
         "mode": "markers",
         "name": "Spain",
         "orientation": "v",
         "showlegend": true,
         "type": "scatter",
         "x": {
          "bdata": "AAAAwCFYg0E=",
          "dtype": "f8"
         },
         "xaxis": "x",
         "y": {
          "bdata": "KVyPwvVoPUA=",
          "dtype": "f8"
         },
         "yaxis": "y"
        },
        {
         "hovertemplate": "country=Finland<br>year=2000<br>population=%{x}<br>value_kg=%{marker.size}<extra></extra>",
         "legendgroup": "Finland",
         "marker": {
          "color": "#EF553B",
          "size": {
           "bdata": "4XoUrkfhMEA=",
           "dtype": "f8"
          },
          "sizemode": "area",
          "sizeref": 0.182375,
          "symbol": "circle"
         },
         "mode": "markers",
         "name": "Finland",
         "orientation": "v",
         "showlegend": true,
         "type": "scatter",
         "x": {
          "bdata": "AAAAQOS+U0E=",
          "dtype": "f8"
         },
         "xaxis": "x",
         "y": {
          "bdata": "4XoUrkfhMEA=",
          "dtype": "f8"
         },
         "yaxis": "y"
        },
        {
         "hovertemplate": "country=France<br>year=2000<br>population=%{x}<br>value_kg=%{marker.size}<extra></extra>",
         "legendgroup": "France",
         "marker": {
          "color": "#00cc96",
          "size": {
           "bdata": "CtejcD1KPUA=",
           "dtype": "f8"
          },
          "sizemode": "area",
          "sizeref": 0.182375,
          "symbol": "circle"
         },
         "mode": "markers",
         "name": "France",
         "orientation": "v",
         "showlegend": true,
         "type": "scatter",
         "x": {
          "bdata": "AAAAyEH5jEE=",
          "dtype": "f8"
         },
         "xaxis": "x",
         "y": {
          "bdata": "CtejcD1KPUA=",
          "dtype": "f8"
         },
         "yaxis": "y"
        },
        {
         "hovertemplate": "country=Ireland<br>year=2000<br>population=%{x}<br>value_kg=%{marker.size}<extra></extra>",
         "legendgroup": "Ireland",
         "marker": {
          "color": "#19d3f3",
          "size": {
           "bdata": "7FG4HoVrRkA=",
           "dtype": "f8"
          },
          "sizemode": "area",
          "sizeref": 0.182375,
          "symbol": "circle"
         },
         "mode": "markers",
         "name": "Ireland",
         "orientation": "v",
         "showlegend": true,
         "type": "scatter",
         "x": {
          "bdata": "AAAAAPsHTUE=",
          "dtype": "f8"
         },
         "xaxis": "x",
         "y": {
          "bdata": "7FG4HoVrRkA=",
          "dtype": "f8"
         },
         "yaxis": "y"
        },
        {
         "hovertemplate": "country=Italy<br>year=2000<br>population=%{x}<br>value_kg=%{marker.size}<extra></extra>",
         "legendgroup": "Italy",
         "marker": {
          "color": "#B6E880",
          "size": {
           "bdata": "j8L1KFyvQEA=",
           "dtype": "f8"
          },
          "sizemode": "area",
          "sizeref": 0.182375,
          "symbol": "circle"
         },
         "mode": "markers",
         "name": "Italy",
         "orientation": "v",
         "showlegend": true,
         "type": "scatter",
         "x": {
          "bdata": "AAAA4PAmi0E=",
          "dtype": "f8"
         },
         "xaxis": "x",
         "y": {
          "bdata": "j8L1KFyvQEA=",
          "dtype": "f8"
         },
         "yaxis": "y"
        },
        {
         "hovertemplate": "country=Luxembourg<br>year=2000<br>population=%{x}<br>value_kg=%{marker.size}<extra></extra>",
         "legendgroup": "Luxembourg",
         "marker": {
          "color": "#636efa",
          "size": {
           "bdata": "H4XrUbjeNUA=",
           "dtype": "f8"
          },
          "sizemode": "area",
          "sizeref": 0.182375,
          "symbol": "circle"
         },
         "mode": "markers",
         "name": "Luxembourg",
         "orientation": "v",
         "showlegend": true,
         "type": "scatter",
         "x": {
          "bdata": "AAAAADChGkE=",
          "dtype": "f8"
         },
         "xaxis": "x",
         "y": {
          "bdata": "H4XrUbjeNUA=",
          "dtype": "f8"
         },
         "yaxis": "y"
        },
        {
         "hovertemplate": "country=Netherlands<br>year=2000<br>population=%{x}<br>value_kg=%{marker.size}<extra></extra>",
         "legendgroup": "Netherlands",
         "marker": {
          "color": "#ab63fa",
          "size": {
           "bdata": "w/UoXI/CPEA=",
           "dtype": "f8"
          },
          "sizemode": "area",
          "sizeref": 0.182375,
          "symbol": "circle"
         },
         "mode": "markers",
         "name": "Netherlands",
         "orientation": "v",
         "showlegend": true,
         "type": "scatter",
         "x": {
          "bdata": "AAAAICFgbkE=",
          "dtype": "f8"
         },
         "xaxis": "x",
         "y": {
          "bdata": "w/UoXI/CPEA=",
          "dtype": "f8"
         },
         "yaxis": "y"
        },
        {
         "hovertemplate": "country=Portugal<br>year=2000<br>population=%{x}<br>value_kg=%{marker.size}<extra></extra>",
         "legendgroup": "Portugal",
         "marker": {
          "color": "#FF6692",
          "size": {
           "bdata": "CtejcD3KO0A=",
           "dtype": "f8"
          },
          "sizemode": "area",
          "sizeref": 0.182375,
          "symbol": "circle"
         },
         "mode": "markers",
         "name": "Portugal",
         "orientation": "v",
         "showlegend": true,
         "type": "scatter",
         "x": {
          "bdata": "AAAAQF2gY0E=",
          "dtype": "f8"
         },
         "xaxis": "x",
         "y": {
          "bdata": "CtejcD3KO0A=",
          "dtype": "f8"
         },
         "yaxis": "y"
        },
        {
         "hovertemplate": "country=Sweden<br>year=2000<br>population=%{x}<br>value_kg=%{marker.size}<extra></extra>",
         "legendgroup": "Sweden",
         "marker": {
          "color": "#FF97FF",
          "size": {
           "bdata": "exSuR+G6MEA=",
           "dtype": "f8"
          },
          "sizemode": "area",
          "sizeref": 0.182375,
          "symbol": "circle"
         },
         "mode": "markers",
         "name": "Sweden",
         "orientation": "v",
         "showlegend": true,
         "type": "scatter",
         "x": {
          "bdata": "AAAAoBXsYEE=",
          "dtype": "f8"
         },
         "xaxis": "x",
         "y": {
          "bdata": "exSuR+G6MEA=",
          "dtype": "f8"
         },
         "yaxis": "y"
        }
       ],
       "frames": [
        {
         "data": [
          {
           "hovertemplate": "country=Austria<br>year=2000<br>population=%{x}<br>value_kg=%{marker.size}<extra></extra>",
           "legendgroup": "Austria",
           "marker": {
            "color": "#636efa",
            "size": {
             "bdata": "9ihcj8I1OkA=",
             "dtype": "f8"
            },
            "sizemode": "area",
            "sizeref": 0.182375,
            "symbol": "circle"
           },
           "mode": "markers",
           "name": "Austria",
           "orientation": "v",
           "showlegend": true,
           "type": "scatter",
           "x": {
            "bdata": "AAAAgMuPXkE=",
            "dtype": "f8"
           },
           "xaxis": "x",
           "y": {
            "bdata": "9ihcj8I1OkA=",
            "dtype": "f8"
           },
           "yaxis": "y"
          },
          {
           "hovertemplate": "country=Belgium<br>year=2000<br>population=%{x}<br>value_kg=%{marker.size}<extra></extra>",
           "legendgroup": "Belgium",
           "marker": {
            "color": "#EF553B",
            "size": {
             "bdata": "SOF6FK7HN0A=",
             "dtype": "f8"
            },
            "sizemode": "area",
            "sizeref": 0.182375,
            "symbol": "circle"
           },
           "mode": "markers",
           "name": "Belgium",
           "orientation": "v",
           "showlegend": true,
           "type": "scatter",
           "x": {
            "bdata": "AAAAQH6NY0E=",
            "dtype": "f8"
           },
           "xaxis": "x",
           "y": {
            "bdata": "SOF6FK7HN0A=",
            "dtype": "f8"
           },
           "yaxis": "y"
          },
          {
           "hovertemplate": "country=Germany<br>year=2000<br>population=%{x}<br>value_kg=%{marker.size}<extra></extra>",
           "legendgroup": "Germany",
           "marker": {
            "color": "#19d3f3",
            "size": {
             "bdata": "SOF6FK7HNUA=",
             "dtype": "f8"
            },
            "sizemode": "area",
            "sizeref": 0.182375,
            "symbol": "circle"
           },
           "mode": "markers",
           "name": "Germany",
           "orientation": "v",
           "showlegend": true,
           "type": "scatter",
           "x": {
            "bdata": "AAAA0MqZk0E=",
            "dtype": "f8"
           },
           "xaxis": "x",
           "y": {
            "bdata": "SOF6FK7HNUA=",
            "dtype": "f8"
           },
           "yaxis": "y"
          },
          {
           "hovertemplate": "country=Denmark<br>year=2000<br>population=%{x}<br>value_kg=%{marker.size}<extra></extra>",
           "legendgroup": "Denmark",
           "marker": {
            "color": "#FF6692",
            "size": {
             "bdata": "cT0K16NwPUA=",
             "dtype": "f8"
            },
            "sizemode": "area",
            "sizeref": 0.182375,
            "symbol": "circle"
           },
           "mode": "markers",
           "name": "Denmark",
           "orientation": "v",
           "showlegend": true,
           "type": "scatter",
           "x": {
            "bdata": "AAAAAHheVEE=",
            "dtype": "f8"
           },
           "xaxis": "x",
           "y": {
            "bdata": "cT0K16NwPUA=",
            "dtype": "f8"
           },
           "yaxis": "y"
          },
          {
           "hovertemplate": "country=Greece<br>year=2000<br>population=%{x}<br>value_kg=%{marker.size}<extra></extra>",
           "legendgroup": "Greece",
           "marker": {
            "color": "#FF97FF",
            "size": {
             "bdata": "j8L1KFwPOEA=",
             "dtype": "f8"
            },
            "sizemode": "area",
            "sizeref": 0.182375,
            "symbol": "circle"
           },
           "mode": "markers",
           "name": "Greece",
           "orientation": "v",
           "showlegend": true,
           "type": "scatter",
           "x": {
            "bdata": "AAAAAEacZEE=",
            "dtype": "f8"
           },
           "xaxis": "x",
           "y": {
            "bdata": "j8L1KFwPOEA=",
            "dtype": "f8"
           },
           "yaxis": "y"
          },
          {
           "hovertemplate": "country=Spain<br>year=2000<br>population=%{x}<br>value_kg=%{marker.size}<extra></extra>",
           "legendgroup": "Spain",
           "marker": {
            "color": "#FECB52",
            "size": {
             "bdata": "KVyPwvVoPUA=",
             "dtype": "f8"
            },
            "sizemode": "area",
            "sizeref": 0.182375,
            "symbol": "circle"
           },
           "mode": "markers",
           "name": "Spain",
           "orientation": "v",
           "showlegend": true,
           "type": "scatter",
           "x": {
            "bdata": "AAAAwCFYg0E=",
            "dtype": "f8"
           },
           "xaxis": "x",
           "y": {
            "bdata": "KVyPwvVoPUA=",
            "dtype": "f8"
           },
           "yaxis": "y"
          },
          {
           "hovertemplate": "country=Finland<br>year=2000<br>population=%{x}<br>value_kg=%{marker.size}<extra></extra>",
           "legendgroup": "Finland",
           "marker": {
            "color": "#EF553B",
            "size": {
             "bdata": "4XoUrkfhMEA=",
             "dtype": "f8"
            },
            "sizemode": "area",
            "sizeref": 0.182375,
            "symbol": "circle"
           },
           "mode": "markers",
           "name": "Finland",
           "orientation": "v",
           "showlegend": true,
           "type": "scatter",
           "x": {
            "bdata": "AAAAQOS+U0E=",
            "dtype": "f8"
           },
           "xaxis": "x",
           "y": {
            "bdata": "4XoUrkfhMEA=",
            "dtype": "f8"
           },
           "yaxis": "y"
          },
          {
           "hovertemplate": "country=France<br>year=2000<br>population=%{x}<br>value_kg=%{marker.size}<extra></extra>",
           "legendgroup": "France",
           "marker": {
            "color": "#00cc96",
            "size": {
             "bdata": "CtejcD1KPUA=",
             "dtype": "f8"
            },
            "sizemode": "area",
            "sizeref": 0.182375,
            "symbol": "circle"
           },
           "mode": "markers",
           "name": "France",
           "orientation": "v",
           "showlegend": true,
           "type": "scatter",
           "x": {
            "bdata": "AAAAyEH5jEE=",
            "dtype": "f8"
           },
           "xaxis": "x",
           "y": {
            "bdata": "CtejcD1KPUA=",
            "dtype": "f8"
           },
           "yaxis": "y"
          },
          {
           "hovertemplate": "country=Ireland<br>year=2000<br>population=%{x}<br>value_kg=%{marker.size}<extra></extra>",
           "legendgroup": "Ireland",
           "marker": {
            "color": "#19d3f3",
            "size": {
             "bdata": "7FG4HoVrRkA=",
             "dtype": "f8"
            },
            "sizemode": "area",
            "sizeref": 0.182375,
            "symbol": "circle"
           },
           "mode": "markers",
           "name": "Ireland",
           "orientation": "v",
           "showlegend": true,
           "type": "scatter",
           "x": {
            "bdata": "AAAAAPsHTUE=",
            "dtype": "f8"
           },
           "xaxis": "x",
           "y": {
            "bdata": "7FG4HoVrRkA=",
            "dtype": "f8"
           },
           "yaxis": "y"
          },
          {
           "hovertemplate": "country=Italy<br>year=2000<br>population=%{x}<br>value_kg=%{marker.size}<extra></extra>",
           "legendgroup": "Italy",
           "marker": {
            "color": "#B6E880",
            "size": {
             "bdata": "j8L1KFyvQEA=",
             "dtype": "f8"
            },
            "sizemode": "area",
            "sizeref": 0.182375,
            "symbol": "circle"
           },
           "mode": "markers",
           "name": "Italy",
           "orientation": "v",
           "showlegend": true,
           "type": "scatter",
           "x": {
            "bdata": "AAAA4PAmi0E=",
            "dtype": "f8"
           },
           "xaxis": "x",
           "y": {
            "bdata": "j8L1KFyvQEA=",
            "dtype": "f8"
           },
           "yaxis": "y"
          },
          {
           "hovertemplate": "country=Luxembourg<br>year=2000<br>population=%{x}<br>value_kg=%{marker.size}<extra></extra>",
           "legendgroup": "Luxembourg",
           "marker": {
            "color": "#636efa",
            "size": {
             "bdata": "H4XrUbjeNUA=",
             "dtype": "f8"
            },
            "sizemode": "area",
            "sizeref": 0.182375,
            "symbol": "circle"
           },
           "mode": "markers",
           "name": "Luxembourg",
           "orientation": "v",
           "showlegend": true,
           "type": "scatter",
           "x": {
            "bdata": "AAAAADChGkE=",
            "dtype": "f8"
           },
           "xaxis": "x",
           "y": {
            "bdata": "H4XrUbjeNUA=",
            "dtype": "f8"
           },
           "yaxis": "y"
          },
          {
           "hovertemplate": "country=Netherlands<br>year=2000<br>population=%{x}<br>value_kg=%{marker.size}<extra></extra>",
           "legendgroup": "Netherlands",
           "marker": {
            "color": "#ab63fa",
            "size": {
             "bdata": "w/UoXI/CPEA=",
             "dtype": "f8"
            },
            "sizemode": "area",
            "sizeref": 0.182375,
            "symbol": "circle"
           },
           "mode": "markers",
           "name": "Netherlands",
           "orientation": "v",
           "showlegend": true,
           "type": "scatter",
           "x": {
            "bdata": "AAAAICFgbkE=",
            "dtype": "f8"
           },
           "xaxis": "x",
           "y": {
            "bdata": "w/UoXI/CPEA=",
            "dtype": "f8"
           },
           "yaxis": "y"
          },
          {
           "hovertemplate": "country=Portugal<br>year=2000<br>population=%{x}<br>value_kg=%{marker.size}<extra></extra>",
           "legendgroup": "Portugal",
           "marker": {
            "color": "#FF6692",
            "size": {
             "bdata": "CtejcD3KO0A=",
             "dtype": "f8"
            },
            "sizemode": "area",
            "sizeref": 0.182375,
            "symbol": "circle"
           },
           "mode": "markers",
           "name": "Portugal",
           "orientation": "v",
           "showlegend": true,
           "type": "scatter",
           "x": {
            "bdata": "AAAAQF2gY0E=",
            "dtype": "f8"
           },
           "xaxis": "x",
           "y": {
            "bdata": "CtejcD3KO0A=",
            "dtype": "f8"
           },
           "yaxis": "y"
          },
          {
           "hovertemplate": "country=Sweden<br>year=2000<br>population=%{x}<br>value_kg=%{marker.size}<extra></extra>",
           "legendgroup": "Sweden",
           "marker": {
            "color": "#FF97FF",
            "size": {
             "bdata": "exSuR+G6MEA=",
             "dtype": "f8"
            },
            "sizemode": "area",
            "sizeref": 0.182375,
            "symbol": "circle"
           },
           "mode": "markers",
           "name": "Sweden",
           "orientation": "v",
           "showlegend": true,
           "type": "scatter",
           "x": {
            "bdata": "AAAAoBXsYEE=",
            "dtype": "f8"
           },
           "xaxis": "x",
           "y": {
            "bdata": "exSuR+G6MEA=",
            "dtype": "f8"
           },
           "yaxis": "y"
          }
         ],
         "name": "2000"
        },
        {
         "data": [
          {
           "hovertemplate": "country=Austria<br>year=2001<br>population=%{x}<br>value_kg=%{marker.size}<extra></extra>",
           "legendgroup": "Austria",
           "marker": {
            "color": "#636efa",
            "size": {
             "bdata": "rkfhehRuOUA=",
             "dtype": "f8"
            },
            "sizemode": "area",
            "sizeref": 0.182375,
            "symbol": "circle"
           },
           "mode": "markers",
           "name": "Austria",
           "orientation": "v",
           "showlegend": true,
           "type": "scatter",
           "x": {
            "bdata": "AAAAQM2tXkE=",
            "dtype": "f8"
           },
           "xaxis": "x",
           "y": {
            "bdata": "rkfhehRuOUA=",
            "dtype": "f8"
           },
           "yaxis": "y"
          },
          {
           "hovertemplate": "country=Belgium<br>year=2001<br>population=%{x}<br>value_kg=%{marker.size}<extra></extra>",
           "legendgroup": "Belgium",
           "marker": {
            "color": "#EF553B",
            "size": {
             "bdata": "UrgehetRN0A=",
             "dtype": "f8"
            },
            "sizemode": "area",
            "sizeref": 0.182375,
            "symbol": "circle"
           },
           "mode": "markers",
           "name": "Belgium",
           "orientation": "v",
           "showlegend": true,
           "type": "scatter",
           "x": {
            "bdata": "AAAAQL2eY0E=",
            "dtype": "f8"
           },
           "xaxis": "x",
           "y": {
            "bdata": "UrgehetRN0A=",
            "dtype": "f8"
           },
           "yaxis": "y"
          },
          {
           "hovertemplate": "country=Germany<br>year=2001<br>population=%{x}<br>value_kg=%{marker.size}<extra></extra>",
           "legendgroup": "Germany",
           "marker": {
            "color": "#19d3f3",
            "size": {
             "bdata": "MzMzMzPzNkA=",
             "dtype": "f8"
            },
            "sizemode": "area",
            "sizeref": 0.182375,
            "symbol": "circle"
           },
           "mode": "markers",
           "name": "Germany",
           "orientation": "v",
           "showlegend": true,
           "type": "scatter",
           "x": {
            "bdata": "AAAAlD2ik0E=",
            "dtype": "f8"
           },
           "xaxis": "x",
           "y": {
            "bdata": "MzMzMzPzNkA=",
            "dtype": "f8"
           },
           "yaxis": "y"
          },
          {
           "hovertemplate": "country=Denmark<br>year=2001<br>population=%{x}<br>value_kg=%{marker.size}<extra></extra>",
           "legendgroup": "Denmark",
           "marker": {
            "color": "#FF6692",
            "size": {
             "bdata": "hetRuB4FPEA=",
             "dtype": "f8"
            },
            "sizemode": "area",
            "sizeref": 0.182375,
            "symbol": "circle"
           },
           "mode": "markers",
           "name": "Denmark",
           "orientation": "v",
           "showlegend": true,
           "type": "scatter",
           "x": {
            "bdata": "AAAAwC9xVEE=",
            "dtype": "f8"
           },
           "xaxis": "x",
           "y": {
            "bdata": "hetRuB4FPEA=",
            "dtype": "f8"
           },
           "yaxis": "y"
          },
          {
           "hovertemplate": "country=Greece<br>year=2001<br>population=%{x}<br>value_kg=%{marker.size}<extra></extra>",
           "legendgroup": "Greece",
           "marker": {
            "color": "#FF97FF",
            "size": {
             "bdata": "XI/C9SjcOEA=",
             "dtype": "f8"
            },
            "sizemode": "area",
            "sizeref": 0.182375,
            "symbol": "circle"
           },
           "mode": "markers",
           "name": "Greece",
           "orientation": "v",
           "showlegend": true,
           "type": "scatter",
           "x": {
            "bdata": "AAAAgMa3ZEE=",
            "dtype": "f8"
           },
           "xaxis": "x",
           "y": {
            "bdata": "XI/C9SjcOEA=",
            "dtype": "f8"
           },
           "yaxis": "y"
          },
          {
           "hovertemplate": "country=Spain<br>year=2001<br>population=%{x}<br>value_kg=%{marker.size}<extra></extra>",
           "legendgroup": "Spain",
           "marker": {
            "color": "#FECB52",
            "size": {
             "bdata": "H4XrUbgeQEA=",
             "dtype": "f8"
            },
            "sizemode": "area",
            "sizeref": 0.182375,
            "symbol": "circle"
           },
           "mode": "markers",
           "name": "Spain",
           "orientation": "v",
           "showlegend": true,
           "type": "scatter",
           "x": {
            "bdata": "AAAAYJ96g0E=",
            "dtype": "f8"
           },
           "xaxis": "x",
           "y": {
            "bdata": "H4XrUbgeQEA=",
            "dtype": "f8"
           },
           "yaxis": "y"
          },
          {
           "hovertemplate": "country=Finland<br>year=2001<br>population=%{x}<br>value_kg=%{marker.size}<extra></extra>",
           "legendgroup": "Finland",
           "marker": {
            "color": "#EF553B",
            "size": {
             "bdata": "mpmZmZnZMEA=",
             "dtype": "f8"
            },
            "sizemode": "area",
            "sizeref": 0.182375,
            "symbol": "circle"
           },
           "mode": "markers",
           "name": "Finland",
           "orientation": "v",
           "showlegend": true,
           "type": "scatter",
           "x": {
            "bdata": "AAAAAGrKU0E=",
            "dtype": "f8"
           },
           "xaxis": "x",
           "y": {
            "bdata": "mpmZmZnZMEA=",
            "dtype": "f8"
           },
           "yaxis": "y"
          },
          {
           "hovertemplate": "country=France<br>year=2001<br>population=%{x}<br>value_kg=%{marker.size}<extra></extra>",
           "legendgroup": "France",
           "marker": {
            "color": "#00cc96",
            "size": {
             "bdata": "9ihcj8I1PUA=",
             "dtype": "f8"
            },
            "sizemode": "area",
            "sizeref": 0.182375,
            "symbol": "circle"
           },
           "mode": "markers",
           "name": "France",
           "orientation": "v",
           "showlegend": true,
           "type": "scatter",
           "x": {
            "bdata": "AAAAYOgujUE=",
            "dtype": "f8"
           },
           "xaxis": "x",
           "y": {
            "bdata": "9ihcj8I1PUA=",
            "dtype": "f8"
           },
           "yaxis": "y"
          },
          {
           "hovertemplate": "country=Ireland<br>year=2001<br>population=%{x}<br>value_kg=%{marker.size}<extra></extra>",
           "legendgroup": "Ireland",
           "marker": {
            "color": "#19d3f3",
            "size": {
             "bdata": "UrgehetxRkA=",
             "dtype": "f8"
            },
            "sizemode": "area",
            "sizeref": 0.182375,
            "symbol": "circle"
           },
           "mode": "markers",
           "name": "Ireland",
           "orientation": "v",
           "showlegend": true,
           "type": "scatter",
           "x": {
            "bdata": "AAAAgEF/TUE=",
            "dtype": "f8"
           },
           "xaxis": "x",
           "y": {
            "bdata": "UrgehetxRkA=",
            "dtype": "f8"
           },
           "yaxis": "y"
          },
          {
           "hovertemplate": "country=Italy<br>year=2001<br>population=%{x}<br>value_kg=%{marker.size}<extra></extra>",
           "legendgroup": "Italy",
           "marker": {
            "color": "#B6E880",
            "size": {
             "bdata": "XI/C9SgcQUA=",
             "dtype": "f8"
            },
            "sizemode": "area",
            "sizeref": 0.182375,
            "symbol": "circle"
           },
           "mode": "markers",
           "name": "Italy",
           "orientation": "v",
           "showlegend": true,
           "type": "scatter",
           "x": {
            "bdata": "AAAAqDIri0E=",
            "dtype": "f8"
           },
           "xaxis": "x",
           "y": {
            "bdata": "XI/C9SgcQUA=",
            "dtype": "f8"
           },
           "yaxis": "y"
          },
          {
           "hovertemplate": "country=Luxembourg<br>year=2001<br>population=%{x}<br>value_kg=%{marker.size}<extra></extra>",
           "legendgroup": "Luxembourg",
           "marker": {
            "color": "#636efa",
            "size": {
             "bdata": "pHA9CtfjNUA=",
             "dtype": "f8"
            },
            "sizemode": "area",
            "sizeref": 0.182375,
            "symbol": "circle"
           },
           "mode": "markers",
           "name": "Luxembourg",
           "orientation": "v",
           "showlegend": true,
           "type": "scatter",
           "x": {
            "bdata": "AAAAANTyGkE=",
            "dtype": "f8"
           },
           "xaxis": "x",
           "y": {
            "bdata": "pHA9CtfjNUA=",
            "dtype": "f8"
           },
           "yaxis": "y"
          },
          {
           "hovertemplate": "country=Netherlands<br>year=2001<br>population=%{x}<br>value_kg=%{marker.size}<extra></extra>",
           "legendgroup": "Netherlands",
           "marker": {
            "color": "#ab63fa",
            "size": {
             "bdata": "CtejcD1KPkA=",
             "dtype": "f8"
            },
            "sizemode": "area",
            "sizeref": 0.182375,
            "symbol": "circle"
           },
           "mode": "markers",
           "name": "Netherlands",
           "orientation": "v",
           "showlegend": true,
           "type": "scatter",
           "x": {
            "bdata": "AAAAgAybbkE=",
            "dtype": "f8"
           },
           "xaxis": "x",
           "y": {
            "bdata": "CtejcD1KPkA=",
            "dtype": "f8"
           },
           "yaxis": "y"
          },
          {
           "hovertemplate": "country=Portugal<br>year=2001<br>population=%{x}<br>value_kg=%{marker.size}<extra></extra>",
           "legendgroup": "Portugal",
           "marker": {
            "color": "#FF6692",
            "size": {
             "bdata": "SOF6FK5HPUA=",
             "dtype": "f8"
            },
            "sizemode": "area",
            "sizeref": 0.182375,
            "symbol": "circle"
           },
           "mode": "markers",
           "name": "Portugal",
           "orientation": "v",
           "showlegend": true,
           "type": "scatter",
           "x": {
            "bdata": "AAAAQOzDY0E=",
            "dtype": "f8"
           },
           "xaxis": "x",
           "y": {
            "bdata": "SOF6FK5HPUA=",
            "dtype": "f8"
           },
           "yaxis": "y"
          },
          {
           "hovertemplate": "country=Sweden<br>year=2001<br>population=%{x}<br>value_kg=%{marker.size}<extra></extra>",
           "legendgroup": "Sweden",
           "marker": {
            "color": "#FF97FF",
            "size": {
             "bdata": "rkfhehTuMUA=",
             "dtype": "f8"
            },
            "sizemode": "area",
            "sizeref": 0.182375,
            "symbol": "circle"
           },
           "mode": "markers",
           "name": "Sweden",
           "orientation": "v",
           "showlegend": true,
           "type": "scatter",
           "x": {
            "bdata": "AAAAALv3YEE=",
            "dtype": "f8"
           },
           "xaxis": "x",
           "y": {
            "bdata": "rkfhehTuMUA=",
            "dtype": "f8"
           },
           "yaxis": "y"
          }
         ],
         "name": "2001"
        },
        {
         "data": [
          {
           "hovertemplate": "country=Austria<br>year=2002<br>population=%{x}<br>value_kg=%{marker.size}<extra></extra>",
           "legendgroup": "Austria",
           "marker": {
            "color": "#636efa",
            "size": {
             "bdata": "AAAAAADAOEA=",
             "dtype": "f8"
            },
            "sizemode": "area",
            "sizeref": 0.182375,
            "symbol": "circle"
           },
           "mode": "markers",
           "name": "Austria",
           "orientation": "v",
           "showlegend": true,
           "type": "scatter",
           "x": {
            "bdata": "AAAAQInUXkE=",
            "dtype": "f8"
           },
           "xaxis": "x",
           "y": {
            "bdata": "AAAAAADAOEA=",
            "dtype": "f8"
           },
           "yaxis": "y"
          },
          {
           "hovertemplate": "country=Belgium<br>year=2002<br>population=%{x}<br>value_kg=%{marker.size}<extra></extra>",
           "legendgroup": "Belgium",
           "marker": {
            "color": "#EF553B",
            "size": {
             "bdata": "uB6F61H4OEA=",
             "dtype": "f8"
            },
            "sizemode": "area",
            "sizeref": 0.182375,
            "symbol": "circle"
           },
           "mode": "markers",
           "name": "Belgium",
           "orientation": "v",
           "showlegend": true,
           "type": "scatter",
           "x": {
            "bdata": "AAAAIE61Y0E=",
            "dtype": "f8"
           },
           "xaxis": "x",
           "y": {
            "bdata": "uB6F61H4OEA=",
            "dtype": "f8"
           },
           "yaxis": "y"
          },
          {
           "hovertemplate": "country=Germany<br>year=2002<br>population=%{x}<br>value_kg=%{marker.size}<extra></extra>",
           "legendgroup": "Germany",
           "marker": {
            "color": "#19d3f3",
            "size": {
             "bdata": "4XoUrkchOUA=",
             "dtype": "f8"
            },
            "sizemode": "area",
            "sizeref": 0.182375,
            "symbol": "circle"
           },
           "mode": "markers",
           "name": "Germany",
           "orientation": "v",
           "showlegend": true,
           "type": "scatter",
           "x": {
            "bdata": "AAAAvLKqk0E=",
            "dtype": "f8"
           },
           "xaxis": "x",
           "y": {
            "bdata": "4XoUrkchOUA=",
            "dtype": "f8"
           },
           "yaxis": "y"
          },
          {
           "hovertemplate": "country=Denmark<br>year=2002<br>population=%{x}<br>value_kg=%{marker.size}<extra></extra>",
           "legendgroup": "Denmark",
           "marker": {
            "color": "#FF6692",
            "size": {
             "bdata": "AAAAAABAPUA=",
             "dtype": "f8"
            },
            "sizemode": "area",
            "sizeref": 0.182375,
            "symbol": "circle"
           },
           "mode": "markers",
           "name": "Denmark",
           "orientation": "v",
           "showlegend": true,
           "type": "scatter",
           "x": {
            "bdata": "AAAAwO6BVEE=",
            "dtype": "f8"
           },
           "xaxis": "x",
           "y": {
            "bdata": "AAAAAABAPUA=",
            "dtype": "f8"
           },
           "yaxis": "y"
          },
          {
           "hovertemplate": "country=Greece<br>year=2002<br>population=%{x}<br>value_kg=%{marker.size}<extra></extra>",
           "legendgroup": "Greece",
           "marker": {
            "color": "#FF97FF",
            "size": {
             "bdata": "pHA9CtcjOkA=",
             "dtype": "f8"
            },
            "sizemode": "area",
            "sizeref": 0.182375,
            "symbol": "circle"
           },
           "mode": "markers",
           "name": "Greece",
           "orientation": "v",
           "showlegend": true,
           "type": "scatter",
           "x": {
            "bdata": "AAAAwEDLZEE=",
            "dtype": "f8"
           },
           "xaxis": "x",
           "y": {
            "bdata": "pHA9CtcjOkA=",
            "dtype": "f8"
           },
           "yaxis": "y"
          },
          {
           "hovertemplate": "country=Spain<br>year=2002<br>population=%{x}<br>value_kg=%{marker.size}<extra></extra>",
           "legendgroup": "Spain",
           "marker": {
            "color": "#FECB52",
            "size": {
             "bdata": "16NwPQrXP0A=",
             "dtype": "f8"
            },
            "sizemode": "area",
            "sizeref": 0.182375,
            "symbol": "circle"
           },
           "mode": "markers",
           "name": "Spain",
           "orientation": "v",
           "showlegend": true,
           "type": "scatter",
           "x": {
            "bdata": "AAAAMJDBg0E=",
            "dtype": "f8"
           },
           "xaxis": "x",
           "y": {
            "bdata": "16NwPQrXP0A=",
            "dtype": "f8"
           },
           "yaxis": "y"
          },
          {
           "hovertemplate": "country=Finland<br>year=2002<br>population=%{x}<br>value_kg=%{marker.size}<extra></extra>",
           "legendgroup": "Finland",
           "marker": {
            "color": "#EF553B",
            "size": {
             "bdata": "AAAAAADAMEA=",
             "dtype": "f8"
            },
            "sizemode": "area",
            "sizeref": 0.182375,
            "symbol": "circle"
           },
           "mode": "markers",
           "name": "Finland",
           "orientation": "v",
           "showlegend": true,
           "type": "scatter",
           "x": {
            "bdata": "AAAAgLXWU0E=",
            "dtype": "f8"
           },
           "xaxis": "x",
           "y": {
            "bdata": "AAAAAADAMEA=",
            "dtype": "f8"
           },
           "yaxis": "y"
          },
          {
           "hovertemplate": "country=France<br>year=2002<br>population=%{x}<br>value_kg=%{marker.size}<extra></extra>",
           "legendgroup": "France",
           "marker": {
            "color": "#00cc96",
            "size": {
             "bdata": "CtejcD1KPkA=",
             "dtype": "f8"
            },
            "sizemode": "area",
            "sizeref": 0.182375,
            "symbol": "circle"
           },
           "mode": "markers",
           "name": "France",
           "orientation": "v",
           "showlegend": true,
           "type": "scatter",
           "x": {
            "bdata": "AAAA8OhkjUE=",
            "dtype": "f8"
           },
           "xaxis": "x",
           "y": {
            "bdata": "CtejcD1KPkA=",
            "dtype": "f8"
           },
           "yaxis": "y"
          },
          {
           "hovertemplate": "country=Ireland<br>year=2002<br>population=%{x}<br>value_kg=%{marker.size}<extra></extra>",
           "legendgroup": "Ireland",
           "marker": {
            "color": "#19d3f3",
            "size": {
             "bdata": "7FG4HoWLRkA=",
             "dtype": "f8"
            },
            "sizemode": "area",
            "sizeref": 0.182375,
            "symbol": "circle"
           },
           "mode": "markers",
           "name": "Ireland",
           "orientation": "v",
           "showlegend": true,
           "type": "scatter",
           "x": {
            "bdata": "AAAAgJX/TUE=",
            "dtype": "f8"
           },
           "xaxis": "x",
           "y": {
            "bdata": "7FG4HoWLRkA=",
            "dtype": "f8"
           },
           "yaxis": "y"
          },
          {
           "hovertemplate": "country=Italy<br>year=2002<br>population=%{x}<br>value_kg=%{marker.size}<extra></extra>",
           "legendgroup": "Italy",
           "marker": {
            "color": "#B6E880",
            "size": {
             "bdata": "9ihcj8IVQUA=",
             "dtype": "f8"
            },
            "sizemode": "area",
            "sizeref": 0.182375,
            "symbol": "circle"
           },
           "mode": "markers",
           "name": "Italy",
           "orientation": "v",
           "showlegend": true,
           "type": "scatter",
           "x": {
            "bdata": "AAAAAPk4i0E=",
            "dtype": "f8"
           },
           "xaxis": "x",
           "y": {
            "bdata": "9ihcj8IVQUA=",
            "dtype": "f8"
           },
           "yaxis": "y"
          },
          {
           "hovertemplate": "country=Luxembourg<br>year=2002<br>population=%{x}<br>value_kg=%{marker.size}<extra></extra>",
           "legendgroup": "Luxembourg",
           "marker": {
            "color": "#636efa",
            "size": {
             "bdata": "j8L1KFzPNUA=",
             "dtype": "f8"
            },
            "sizemode": "area",
            "sizeref": 0.182375,
            "symbol": "circle"
           },
           "mode": "markers",
           "name": "Luxembourg",
           "orientation": "v",
           "showlegend": true,
           "type": "scatter",
           "x": {
            "bdata": "AAAAAHw7G0E=",
            "dtype": "f8"
           },
           "xaxis": "x",
           "y": {
            "bdata": "j8L1KFzPNUA=",
            "dtype": "f8"
           },
           "yaxis": "y"
          },
          {
           "hovertemplate": "country=Netherlands<br>year=2002<br>population=%{x}<br>value_kg=%{marker.size}<extra></extra>",
           "legendgroup": "Netherlands",
           "marker": {
            "color": "#ab63fa",
            "size": {
             "bdata": "KVyPwvVoQEA=",
             "dtype": "f8"
            },
            "sizemode": "area",
            "sizeref": 0.182375,
            "symbol": "circle"
           },
           "mode": "markers",
           "name": "Netherlands",
           "orientation": "v",
           "showlegend": true,
           "type": "scatter",
           "x": {
            "bdata": "AAAAIDjNbkE=",
            "dtype": "f8"
           },
           "xaxis": "x",
           "y": {
            "bdata": "KVyPwvVoQEA=",
            "dtype": "f8"
           },
           "yaxis": "y"
          },
          {
           "hovertemplate": "country=Portugal<br>year=2002<br>population=%{x}<br>value_kg=%{marker.size}<extra></extra>",
           "legendgroup": "Portugal",
           "marker": {
            "color": "#FF6692",
            "size": {
             "bdata": "cT0K16MwP0A=",
             "dtype": "f8"
            },
            "sizemode": "area",
            "sizeref": 0.182375,
            "symbol": "circle"
           },
           "mode": "markers",
           "name": "Portugal",
           "orientation": "v",
           "showlegend": true,
           "type": "scatter",
           "x": {
            "bdata": "AAAA4LXfY0E=",
            "dtype": "f8"
           },
           "xaxis": "x",
           "y": {
            "bdata": "cT0K16MwP0A=",
            "dtype": "f8"
           },
           "yaxis": "y"
          },
          {
           "hovertemplate": "country=Sweden<br>year=2002<br>population=%{x}<br>value_kg=%{marker.size}<extra></extra>",
           "legendgroup": "Sweden",
           "marker": {
            "color": "#FF97FF",
            "size": {
             "bdata": "PQrXo3C9MkA=",
             "dtype": "f8"
            },
            "sizemode": "area",
            "sizeref": 0.182375,
            "symbol": "circle"
           },
           "mode": "markers",
           "name": "Sweden",
           "orientation": "v",
           "showlegend": true,
           "type": "scatter",
           "x": {
            "bdata": "AAAAwOMFYUE=",
            "dtype": "f8"
           },
           "xaxis": "x",
           "y": {
            "bdata": "PQrXo3C9MkA=",
            "dtype": "f8"
           },
           "yaxis": "y"
          }
         ],
         "name": "2002"
        },
        {
         "data": [
          {
           "hovertemplate": "country=Austria<br>year=2003<br>population=%{x}<br>value_kg=%{marker.size}<extra></extra>",
           "legendgroup": "Austria",
           "marker": {
            "color": "#636efa",
            "size": {
             "bdata": "cT0K16OwOkA=",
             "dtype": "f8"
            },
            "sizemode": "area",
            "sizeref": 0.182375,
            "symbol": "circle"
           },
           "mode": "markers",
           "name": "Austria",
           "orientation": "v",
           "showlegend": true,
           "type": "scatter",
           "x": {
            "bdata": "AAAAwBP7XkE=",
            "dtype": "f8"
           },
           "xaxis": "x",
           "y": {
            "bdata": "cT0K16OwOkA=",
            "dtype": "f8"
           },
           "yaxis": "y"
          },
          {
           "hovertemplate": "country=Belgium<br>year=2003<br>population=%{x}<br>value_kg=%{marker.size}<extra></extra>",
           "legendgroup": "Belgium",
           "marker": {
            "color": "#EF553B",
            "size": {
             "bdata": "zczMzMzMOkA=",
             "dtype": "f8"
            },
            "sizemode": "area",
            "sizeref": 0.182375,
            "symbol": "circle"
           },
           "mode": "markers",
           "name": "Belgium",
           "orientation": "v",
           "showlegend": true,
           "type": "scatter",
           "x": {
            "bdata": "AAAAoHjKY0E=",
            "dtype": "f8"
           },
           "xaxis": "x",
           "y": {
            "bdata": "zczMzMzMOkA=",
            "dtype": "f8"
           },
           "yaxis": "y"
          },
          {
           "hovertemplate": "country=Czechia<br>year=2003<br>population=%{x}<br>value_kg=%{marker.size}<extra></extra>",
           "legendgroup": "Czechia",
           "marker": {
            "color": "#FFA15A",
            "size": {
             "bdata": "cT0K16PwMEA=",
             "dtype": "f8"
            },
            "sizemode": "area",
            "sizeref": 0.182375,
            "symbol": "circle"
           },
           "mode": "markers",
           "name": "Czechia",
           "orientation": "v",
           "showlegend": true,
           "type": "scatter",
           "x": {
            "bdata": "AAAAwIlxY0E=",
            "dtype": "f8"
           },
           "xaxis": "x",
           "y": {
            "bdata": "cT0K16PwMEA=",
            "dtype": "f8"
           },
           "yaxis": "y"
          },
          {
           "hovertemplate": "country=Germany<br>year=2003<br>population=%{x}<br>value_kg=%{marker.size}<extra></extra>",
           "legendgroup": "Germany",
           "marker": {
            "color": "#19d3f3",
            "size": {
             "bdata": "16NwPQoXOUA=",
             "dtype": "f8"
            },
            "sizemode": "area",
            "sizeref": 0.182375,
            "symbol": "circle"
           },
           "mode": "markers",
           "name": "Germany",
           "orientation": "v",
           "showlegend": true,
           "type": "scatter",
           "x": {
            "bdata": "AAAAgHytk0E=",
            "dtype": "f8"
           },
           "xaxis": "x",
           "y": {
            "bdata": "16NwPQoXOUA=",
            "dtype": "f8"
           },
           "yaxis": "y"
          },
          {
           "hovertemplate": "country=Denmark<br>year=2003<br>population=%{x}<br>value_kg=%{marker.size}<extra></extra>",
           "legendgroup": "Denmark",
           "marker": {
            "color": "#FF6692",
            "size": {
             "bdata": "9ihcj8K1PEA=",
             "dtype": "f8"
            },
            "sizemode": "area",
            "sizeref": 0.182375,
            "symbol": "circle"
           },
           "mode": "markers",
           "name": "Denmark",
           "orientation": "v",
           "showlegend": true,
           "type": "scatter",
           "x": {
            "bdata": "AAAAgDuQVEE=",
            "dtype": "f8"
           },
           "xaxis": "x",
           "y": {
            "bdata": "9ihcj8K1PEA=",
            "dtype": "f8"
           },
           "yaxis": "y"
          },
          {
           "hovertemplate": "country=Greece<br>year=2003<br>population=%{x}<br>value_kg=%{marker.size}<extra></extra>",
           "legendgroup": "Greece",
           "marker": {
            "color": "#FF97FF",
            "size": {
             "bdata": "MzMzMzNzO0A=",
             "dtype": "f8"
            },
            "sizemode": "area",
            "sizeref": 0.182375,
            "symbol": "circle"
           },
           "mode": "markers",
           "name": "Greece",
           "orientation": "v",
           "showlegend": true,
           "type": "scatter",
           "x": {
            "bdata": "AAAAwPjXZEE=",
            "dtype": "f8"
           },
           "xaxis": "x",
           "y": {
            "bdata": "MzMzMzNzO0A=",
            "dtype": "f8"
           },
           "yaxis": "y"
          },
          {
           "hovertemplate": "country=Spain<br>year=2003<br>population=%{x}<br>value_kg=%{marker.size}<extra></extra>",
           "legendgroup": "Spain",
           "marker": {
            "color": "#FECB52",
            "size": {
             "bdata": "rkfhehSuQEA=",
             "dtype": "f8"
            },
            "sizemode": "area",
            "sizeref": 0.182375,
            "symbol": "circle"
           },
           "mode": "markers",
           "name": "Spain",
           "orientation": "v",
           "showlegend": true,
           "type": "scatter",
           "x": {
            "bdata": "AAAA6NsdhEE=",
            "dtype": "f8"
           },
           "xaxis": "x",
           "y": {
            "bdata": "rkfhehSuQEA=",
            "dtype": "f8"
           },
           "yaxis": "y"
          },
          {
           "hovertemplate": "country=Finland<br>year=2003<br>population=%{x}<br>value_kg=%{marker.size}<extra></extra>",
           "legendgroup": "Finland",
           "marker": {
            "color": "#EF553B",
            "size": {
             "bdata": "ZmZmZmYmMUA=",
             "dtype": "f8"
            },
            "sizemode": "area",
            "sizeref": 0.182375,
            "symbol": "circle"
           },
           "mode": "markers",
           "name": "Finland",
           "orientation": "v",
           "showlegend": true,
           "type": "scatter",
           "x": {
            "bdata": "AAAAgNXiU0E=",
            "dtype": "f8"
           },
           "xaxis": "x",
           "y": {
            "bdata": "ZmZmZmYmMUA=",
            "dtype": "f8"
           },
           "yaxis": "y"
          },
          {
           "hovertemplate": "country=France<br>year=2003<br>population=%{x}<br>value_kg=%{marker.size}<extra></extra>",
           "legendgroup": "France",
           "marker": {
            "color": "#00cc96",
            "size": {
             "bdata": "rkfhehRuP0A=",
             "dtype": "f8"
            },
            "sizemode": "area",
            "sizeref": 0.182375,
            "symbol": "circle"
           },
           "mode": "markers",
           "name": "France",
           "orientation": "v",
           "showlegend": true,
           "type": "scatter",
           "x": {
            "bdata": "AAAAqOaZjUE=",
            "dtype": "f8"
           },
           "xaxis": "x",
           "y": {
            "bdata": "rkfhehRuP0A=",
            "dtype": "f8"
           },
           "yaxis": "y"
          },
          {
           "hovertemplate": "country=Ireland<br>year=2003<br>population=%{x}<br>value_kg=%{marker.size}<extra></extra>",
           "legendgroup": "Ireland",
           "marker": {
            "color": "#19d3f3",
            "size": {
             "bdata": "cT0K16MQTEA=",
             "dtype": "f8"
            },
            "sizemode": "area",
            "sizeref": 0.182375,
            "symbol": "circle"
           },
           "mode": "markers",
           "name": "Ireland",
           "orientation": "v",
           "showlegend": true,
           "type": "scatter",
           "x": {
            "bdata": "AAAAgLR9TkE=",
            "dtype": "f8"
           },
           "xaxis": "x",
           "y": {
            "bdata": "cT0K16MQTEA=",
            "dtype": "f8"
           },
           "yaxis": "y"
          },
          {
           "hovertemplate": "country=Italy<br>year=2003<br>population=%{x}<br>value_kg=%{marker.size}<extra></extra>",
           "legendgroup": "Italy",
           "marker": {
            "color": "#B6E880",
            "size": {
             "bdata": "7FG4HoVrQUA=",
             "dtype": "f8"
            },
            "sizemode": "area",
            "sizeref": 0.182375,
            "symbol": "circle"
           },
           "mode": "markers",
           "name": "Italy",
           "orientation": "v",
           "showlegend": true,
           "type": "scatter",
           "x": {
            "bdata": "AAAAgLxei0E=",
            "dtype": "f8"
           },
           "xaxis": "x",
           "y": {
            "bdata": "7FG4HoVrQUA=",
            "dtype": "f8"
           },
           "yaxis": "y"
          },
          {
           "hovertemplate": "country=Luxembourg<br>year=2003<br>population=%{x}<br>value_kg=%{marker.size}<extra></extra>",
           "legendgroup": "Luxembourg",
           "marker": {
            "color": "#636efa",
            "size": {
             "bdata": "AAAAAADAQ0A=",
             "dtype": "f8"
            },
            "sizemode": "area",
            "sizeref": 0.182375,
            "symbol": "circle"
           },
           "mode": "markers",
           "name": "Luxembourg",
           "orientation": "v",
           "showlegend": true,
           "type": "scatter",
           "x": {
            "bdata": "AAAAALiQG0E=",
            "dtype": "f8"
           },
           "xaxis": "x",
           "y": {
            "bdata": "AAAAAADAQ0A=",
            "dtype": "f8"
           },
           "yaxis": "y"
          },
          {
           "hovertemplate": "country=Netherlands<br>year=2003<br>population=%{x}<br>value_kg=%{marker.size}<extra></extra>",
           "legendgroup": "Netherlands",
           "marker": {
            "color": "#ab63fa",
            "size": {
             "bdata": "XI/C9SicQEA=",
             "dtype": "f8"
            },
            "sizemode": "area",
            "sizeref": 0.182375,
            "symbol": "circle"
           },
           "mode": "markers",
           "name": "Netherlands",
           "orientation": "v",
           "showlegend": true,
           "type": "scatter",
           "x": {
            "bdata": "AAAAwILybkE=",
            "dtype": "f8"
           },
           "xaxis": "x",
           "y": {
            "bdata": "XI/C9SicQEA=",
            "dtype": "f8"
           },
           "yaxis": "y"
          },
          {
           "hovertemplate": "country=Portugal<br>year=2003<br>population=%{x}<br>value_kg=%{marker.size}<extra></extra>",
           "legendgroup": "Portugal",
           "marker": {
            "color": "#FF6692",
            "size": {
             "bdata": "zczMzMyMP0A=",
             "dtype": "f8"
            },
            "sizemode": "area",
            "sizeref": 0.182375,
            "symbol": "circle"
           },
           "mode": "markers",
           "name": "Portugal",
           "orientation": "v",
           "showlegend": true,
           "type": "scatter",
           "x": {
            "bdata": "AAAAoNjyY0E=",
            "dtype": "f8"
           },
           "xaxis": "x",
           "y": {
            "bdata": "zczMzMyMP0A=",
            "dtype": "f8"
           },
           "yaxis": "y"
          },
          {
           "hovertemplate": "country=Sweden<br>year=2003<br>population=%{x}<br>value_kg=%{marker.size}<extra></extra>",
           "legendgroup": "Sweden",
           "marker": {
            "color": "#FF97FF",
            "size": {
             "bdata": "KVyPwvVoMkA=",
             "dtype": "f8"
            },
            "sizemode": "area",
            "sizeref": 0.182375,
            "symbol": "circle"
           },
           "mode": "markers",
           "name": "Sweden",
           "orientation": "v",
           "showlegend": true,
           "type": "scatter",
           "x": {
            "bdata": "AAAAoCIWYUE=",
            "dtype": "f8"
           },
           "xaxis": "x",
           "y": {
            "bdata": "KVyPwvVoMkA=",
            "dtype": "f8"
           },
           "yaxis": "y"
          },
          {
           "hovertemplate": "country=Slovakia<br>year=2003<br>population=%{x}<br>value_kg=%{marker.size}<extra></extra>",
           "legendgroup": "Slovakia",
           "marker": {
            "color": "#636efa",
            "size": {
             "bdata": "AAAAAAAAKUA=",
             "dtype": "f8"
            },
            "sizemode": "area",
            "sizeref": 0.182375,
            "symbol": "circle"
           },
           "mode": "markers",
           "name": "Slovakia",
           "orientation": "v",
           "showlegend": true,
           "type": "scatter",
           "x": {
            "bdata": "AAAAgG9/VEE=",
            "dtype": "f8"
           },
           "xaxis": "x",
           "y": {
            "bdata": "AAAAAAAAKUA=",
            "dtype": "f8"
           },
           "yaxis": "y"
          }
         ],
         "name": "2003"
        },
        {
         "data": [
          {
           "hovertemplate": "country=Austria<br>year=2004<br>population=%{x}<br>value_kg=%{marker.size}<extra></extra>",
           "legendgroup": "Austria",
           "marker": {
            "color": "#636efa",
            "size": {
             "bdata": "zczMzMyMO0A=",
             "dtype": "f8"
            },
            "sizemode": "area",
            "sizeref": 0.182375,
            "symbol": "circle"
           },
           "mode": "markers",
           "name": "Austria",
           "orientation": "v",
           "showlegend": true,
           "type": "scatter",
           "x": {
            "bdata": "AAAAgG8sX0E=",
            "dtype": "f8"
           },
           "xaxis": "x",
           "y": {
            "bdata": "zczMzMyMO0A=",
            "dtype": "f8"
           },
           "yaxis": "y"
          },
          {
           "hovertemplate": "country=Belgium<br>year=2004<br>population=%{x}<br>value_kg=%{marker.size}<extra></extra>",
           "legendgroup": "Belgium",
           "marker": {
            "color": "#EF553B",
            "size": {
             "bdata": "w/UoXI8CO0A=",
             "dtype": "f8"
            },
            "sizemode": "area",
            "sizeref": 0.182375,
            "symbol": "circle"
           },
           "mode": "markers",
           "name": "Belgium",
           "orientation": "v",
           "showlegend": true,
           "type": "scatter",
           "x": {
            "bdata": "AAAAIHLgY0E=",
            "dtype": "f8"
           },
           "xaxis": "x",
           "y": {
            "bdata": "w/UoXI8CO0A=",
            "dtype": "f8"
           },
           "yaxis": "y"
          },
          {
           "hovertemplate": "country=Cyprus<br>year=2004<br>population=%{x}<br>value_kg=%{marker.size}<extra></extra>",
           "legendgroup": "Cyprus",
           "marker": {
            "color": "#ab63fa",
            "size": {
             "bdata": "CtejcD1qRkA=",
             "dtype": "f8"
            },
            "sizemode": "area",
            "sizeref": 0.182375,
            "symbol": "circle"
           },
           "mode": "markers",
           "name": "Cyprus",
           "orientation": "v",
           "showlegend": true,
           "type": "scatter",
           "x": {
            "bdata": "AAAAAFg3JkE=",
            "dtype": "f8"
           },
           "xaxis": "x",
           "y": {
            "bdata": "CtejcD1qRkA=",
            "dtype": "f8"
           },
           "yaxis": "y"
          },
          {
           "hovertemplate": "country=Czechia<br>year=2004<br>population=%{x}<br>value_kg=%{marker.size}<extra></extra>",
           "legendgroup": "Czechia",
           "marker": {
            "color": "#FFA15A",
            "size": {
             "bdata": "H4XrUbheMUA=",
             "dtype": "f8"
            },
            "sizemode": "area",
            "sizeref": 0.182375,
            "symbol": "circle"
           },
           "mode": "markers",
           "name": "Czechia",
           "orientation": "v",
           "showlegend": true,
           "type": "scatter",
           "x": {
            "bdata": "AAAAoA1zY0E=",
            "dtype": "f8"
           },
           "xaxis": "x",
           "y": {
            "bdata": "H4XrUbheMUA=",
            "dtype": "f8"
           },
           "yaxis": "y"
          },
          {
           "hovertemplate": "country=Germany<br>year=2004<br>population=%{x}<br>value_kg=%{marker.size}<extra></extra>",
           "legendgroup": "Germany",
           "marker": {
            "color": "#19d3f3",
            "size": {
             "bdata": "FK5H4XpUO0A=",
             "dtype": "f8"
            },
            "sizemode": "area",
            "sizeref": 0.182375,
            "symbol": "circle"
           },
           "mode": "markers",
           "name": "Germany",
           "orientation": "v",
           "showlegend": true,
           "type": "scatter",
           "x": {
            "bdata": "AAAAkGSsk0E=",
            "dtype": "f8"
           },
           "xaxis": "x",
           "y": {
            "bdata": "FK5H4XpUO0A=",
            "dtype": "f8"
           },
           "yaxis": "y"
          },
          {
           "hovertemplate": "country=Denmark<br>year=2004<br>population=%{x}<br>value_kg=%{marker.size}<extra></extra>",
           "legendgroup": "Denmark",
           "marker": {
            "color": "#FF6692",
            "size": {
             "bdata": "AAAAAAAgQEA=",
             "dtype": "f8"
            },
            "sizemode": "area",
            "sizeref": 0.182375,
            "symbol": "circle"
           },
           "mode": "markers",
           "name": "Denmark",
           "orientation": "v",
           "showlegend": true,
           "type": "scatter",
           "x": {
            "bdata": "AAAAwNqdVEE=",
            "dtype": "f8"
           },
           "xaxis": "x",
           "y": {
            "bdata": "AAAAAAAgQEA=",
            "dtype": "f8"
           },
           "yaxis": "y"
          },
          {
           "hovertemplate": "country=Estonia<br>year=2004<br>population=%{x}<br>value_kg=%{marker.size}<extra></extra>",
           "legendgroup": "Estonia",
           "marker": {
            "color": "#B6E880",
            "size": {
             "bdata": "w/UoXI9CNUA=",
             "dtype": "f8"
            },
            "sizemode": "area",
            "sizeref": 0.182375,
            "symbol": "circle"
           },
           "mode": "markers",
           "name": "Estonia",
           "orientation": "v",
           "showlegend": true,
           "type": "scatter",
           "x": {
            "bdata": "AAAAAHbKNEE=",
            "dtype": "f8"
           },
           "xaxis": "x",
           "y": {
            "bdata": "w/UoXI9CNUA=",
            "dtype": "f8"
           },
           "yaxis": "y"
          },
          {
           "hovertemplate": "country=Greece<br>year=2004<br>population=%{x}<br>value_kg=%{marker.size}<extra></extra>",
           "legendgroup": "Greece",
           "marker": {
            "color": "#FF97FF",
            "size": {
             "bdata": "16NwPQrXO0A=",
             "dtype": "f8"
            },
            "sizemode": "area",
            "sizeref": 0.182375,
            "symbol": "circle"
           },
           "mode": "markers",
           "name": "Greece",
           "orientation": "v",
           "showlegend": true,
           "type": "scatter",
           "x": {
            "bdata": "AAAAoDDlZEE=",
            "dtype": "f8"
           },
           "xaxis": "x",
           "y": {
            "bdata": "16NwPQrXO0A=",
            "dtype": "f8"
           },
           "yaxis": "y"
          },
          {
           "hovertemplate": "country=Spain<br>year=2004<br>population=%{x}<br>value_kg=%{marker.size}<extra></extra>",
           "legendgroup": "Spain",
           "marker": {
            "color": "#FECB52",
            "size": {
             "bdata": "7FG4HoULQUA=",
             "dtype": "f8"
            },
            "sizemode": "area",
            "sizeref": 0.182375,
            "symbol": "circle"
           },
           "mode": "markers",
           "name": "Spain",
           "orientation": "v",
           "showlegend": true,
           "type": "scatter",
           "x": {
            "bdata": "AAAAOH13hEE=",
            "dtype": "f8"
           },
           "xaxis": "x",
           "y": {
            "bdata": "7FG4HoULQUA=",
            "dtype": "f8"
           },
           "yaxis": "y"
          },
          {
           "hovertemplate": "country=Finland<br>year=2004<br>population=%{x}<br>value_kg=%{marker.size}<extra></extra>",
           "legendgroup": "Finland",
           "marker": {
            "color": "#EF553B",
            "size": {
             "bdata": "MzMzMzMzMUA=",
             "dtype": "f8"
            },
            "sizemode": "area",
            "sizeref": 0.182375,
            "symbol": "circle"
           },
           "mode": "markers",
           "name": "Finland",
           "orientation": "v",
           "showlegend": true,
           "type": "scatter",
           "x": {
            "bdata": "AAAAAKPxU0E=",
            "dtype": "f8"
           },
           "xaxis": "x",
           "y": {
            "bdata": "MzMzMzMzMUA=",
            "dtype": "f8"
           },
           "yaxis": "y"
          },
          {
           "hovertemplate": "country=France<br>year=2004<br>population=%{x}<br>value_kg=%{marker.size}<extra></extra>",
           "legendgroup": "France",
           "marker": {
            "color": "#00cc96",
            "size": {
             "bdata": "KVyPwvWoP0A=",
             "dtype": "f8"
            },
            "sizemode": "area",
            "sizeref": 0.182375,
            "symbol": "circle"
           },
           "mode": "markers",
           "name": "France",
           "orientation": "v",
           "showlegend": true,
           "type": "scatter",
           "x": {
            "bdata": "AAAAYF7RjUE=",
            "dtype": "f8"
           },
           "xaxis": "x",
           "y": {
            "bdata": "KVyPwvWoP0A=",
            "dtype": "f8"
           },
           "yaxis": "y"
          },
          {
           "hovertemplate": "country=Hungary<br>year=2004<br>population=%{x}<br>value_kg=%{marker.size}<extra></extra>",
           "legendgroup": "Hungary",
           "marker": {
            "color": "#FFA15A",
            "size": {
             "bdata": "FK5H4XpUMEA=",
             "dtype": "f8"
            },
            "sizemode": "area",
            "sizeref": 0.182375,
            "symbol": "circle"
           },
           "mode": "markers",
           "name": "Hungary",
           "orientation": "v",
           "showlegend": true,
           "type": "scatter",
           "x": {
            "bdata": "AAAAQCFHY0E=",
            "dtype": "f8"
           },
           "xaxis": "x",
           "y": {
            "bdata": "FK5H4XpUMEA=",
            "dtype": "f8"
           },
           "yaxis": "y"
          },
          {
           "hovertemplate": "country=Ireland<br>year=2004<br>population=%{x}<br>value_kg=%{marker.size}<extra></extra>",
           "legendgroup": "Ireland",
           "marker": {
            "color": "#19d3f3",
            "size": {
             "bdata": "H4XrUbj+SUA=",
             "dtype": "f8"
            },
            "sizemode": "area",
            "sizeref": 0.182375,
            "symbol": "circle"
           },
           "mode": "markers",
           "name": "Ireland",
           "orientation": "v",
           "showlegend": true,
           "type": "scatter",
           "x": {
            "bdata": "AAAAALsNT0E=",
            "dtype": "f8"
           },
           "xaxis": "x",
           "y": {
            "bdata": "H4XrUbj+SUA=",
            "dtype": "f8"
           },
           "yaxis": "y"
          },
          {
           "hovertemplate": "country=Italy<br>year=2004<br>population=%{x}<br>value_kg=%{marker.size}<extra></extra>",
           "legendgroup": "Italy",
           "marker": {
            "color": "#B6E880",
            "size": {
             "bdata": "w/UoXI/CQUA=",
             "dtype": "f8"
            },
            "sizemode": "area",
            "sizeref": 0.182375,
            "symbol": "circle"
           },
           "mode": "markers",
           "name": "Italy",
           "orientation": "v",
           "showlegend": true,
           "type": "scatter",
           "x": {
            "bdata": "AAAAmBqTi0E=",
            "dtype": "f8"
           },
           "xaxis": "x",
           "y": {
            "bdata": "w/UoXI/CQUA=",
            "dtype": "f8"
           },
           "yaxis": "y"
          },
          {
           "hovertemplate": "country=Lithuania<br>year=2004<br>population=%{x}<br>value_kg=%{marker.size}<extra></extra>",
           "legendgroup": "Lithuania",
           "marker": {
            "color": "#FECB52",
            "size": {
             "bdata": "cT0K16PwLUA=",
             "dtype": "f8"
            },
            "sizemode": "area",
            "sizeref": 0.182375,
            "symbol": "circle"
           },
           "mode": "markers",
           "name": "Lithuania",
           "orientation": "v",
           "showlegend": true,
           "type": "scatter",
           "x": {
            "bdata": "AAAAgNnDSUE=",
            "dtype": "f8"
           },
           "xaxis": "x",
           "y": {
            "bdata": "cT0K16PwLUA=",
            "dtype": "f8"
           },
           "yaxis": "y"
          },
          {
           "hovertemplate": "country=Luxembourg<br>year=2004<br>population=%{x}<br>value_kg=%{marker.size}<extra></extra>",
           "legendgroup": "Luxembourg",
           "marker": {
            "color": "#636efa",
            "size": {
             "bdata": "uB6F61EYSEA=",
             "dtype": "f8"
            },
            "sizemode": "area",
            "sizeref": 0.182375,
            "symbol": "circle"
           },
           "mode": "markers",
           "name": "Luxembourg",
           "orientation": "v",
           "showlegend": true,
           "type": "scatter",
           "x": {
            "bdata": "AAAAALz1G0E=",
            "dtype": "f8"
           },
           "xaxis": "x",
           "y": {
            "bdata": "uB6F61EYSEA=",
            "dtype": "f8"
           },
           "yaxis": "y"
          },
          {
           "hovertemplate": "country=Latvia<br>year=2004<br>population=%{x}<br>value_kg=%{marker.size}<extra></extra>",
           "legendgroup": "Latvia",
           "marker": {
            "color": "#EF553B",
            "size": {
             "bdata": "7FG4HoXrL0A=",
             "dtype": "f8"
            },
            "sizemode": "area",
            "sizeref": 0.182375,
            "symbol": "circle"
           },
           "mode": "markers",
           "name": "Latvia",
           "orientation": "v",
           "showlegend": true,
           "type": "scatter",
           "x": {
            "bdata": "AAAAAClEQUE=",
            "dtype": "f8"
           },
           "xaxis": "x",
           "y": {
            "bdata": "7FG4HoXrL0A=",
            "dtype": "f8"
           },
           "yaxis": "y"
          },
          {
           "hovertemplate": "country=Malta<br>year=2004<br>population=%{x}<br>value_kg=%{marker.size}<extra></extra>",
           "legendgroup": "Malta",
           "marker": {
            "color": "#00cc96",
            "size": {
             "bdata": "cT0K16NwL0A=",
             "dtype": "f8"
            },
            "sizemode": "area",
            "sizeref": 0.182375,
            "symbol": "circle"
           },
           "mode": "markers",
           "name": "Malta",
           "orientation": "v",
           "showlegend": true,
           "type": "scatter",
           "x": {
            "bdata": "AAAAANB9GEE=",
            "dtype": "f8"
           },
           "xaxis": "x",
           "y": {
            "bdata": "cT0K16NwL0A=",
            "dtype": "f8"
           },
           "yaxis": "y"
          },
          {
           "hovertemplate": "country=Netherlands<br>year=2004<br>population=%{x}<br>value_kg=%{marker.size}<extra></extra>",
           "legendgroup": "Netherlands",
           "marker": {
            "color": "#ab63fa",
            "size": {
             "bdata": "XI/C9SjcQEA=",
             "dtype": "f8"
            },
            "sizemode": "area",
            "sizeref": 0.182375,
            "symbol": "circle"
           },
           "mode": "markers",
           "name": "Netherlands",
           "orientation": "v",
           "showlegend": true,
           "type": "scatter",
           "x": {
            "bdata": "AAAAYBYOb0E=",
            "dtype": "f8"
           },
           "xaxis": "x",
           "y": {
            "bdata": "XI/C9SjcQEA=",
            "dtype": "f8"
           },
           "yaxis": "y"
          },
          {
           "hovertemplate": "country=Poland<br>year=2004<br>population=%{x}<br>value_kg=%{marker.size}<extra></extra>",
           "legendgroup": "Poland",
           "marker": {
            "color": "#19d3f3",
            "size": {
             "bdata": "H4XrUbheMUA=",
             "dtype": "f8"
            },
            "sizemode": "area",
            "sizeref": 0.182375,
            "symbol": "circle"
           },
           "mode": "markers",
           "name": "Poland",
           "orientation": "v",
           "showlegend": true,
           "type": "scatter",
           "x": {
            "bdata": "AAAAcOo0gkE=",
            "dtype": "f8"
           },
           "xaxis": "x",
           "y": {
            "bdata": "H4XrUbheMUA=",
            "dtype": "f8"
           },
           "yaxis": "y"
          },
          {
           "hovertemplate": "country=Portugal<br>year=2004<br>population=%{x}<br>value_kg=%{marker.size}<extra></extra>",
           "legendgroup": "Portugal",
           "marker": {
            "color": "#FF6692",
            "size": {
             "bdata": "rkfhehRuQEA=",
             "dtype": "f8"
            },
            "sizemode": "area",
            "sizeref": 0.182375,
            "symbol": "circle"
           },
           "mode": "markers",
           "name": "Portugal",
           "orientation": "v",
           "showlegend": true,
           "type": "scatter",
           "x": {
            "bdata": "AAAAoBL/Y0E=",
            "dtype": "f8"
           },
           "xaxis": "x",
           "y": {
            "bdata": "rkfhehRuQEA=",
            "dtype": "f8"
           },
           "yaxis": "y"
          },
          {
           "hovertemplate": "country=Sweden<br>year=2004<br>population=%{x}<br>value_kg=%{marker.size}<extra></extra>",
           "legendgroup": "Sweden",
           "marker": {
            "color": "#FF97FF",
            "size": {
             "bdata": "SOF6FK4HM0A=",
             "dtype": "f8"
            },
            "sizemode": "area",
            "sizeref": 0.182375,
            "symbol": "circle"
           },
           "mode": "markers",
           "name": "Sweden",
           "orientation": "v",
           "showlegend": true,
           "type": "scatter",
           "x": {
            "bdata": "AAAAYF8nYUE=",
            "dtype": "f8"
           },
           "xaxis": "x",
           "y": {
            "bdata": "SOF6FK4HM0A=",
            "dtype": "f8"
           },
           "yaxis": "y"
          },
          {
           "hovertemplate": "country=Slovenia<br>year=2004<br>population=%{x}<br>value_kg=%{marker.size}<extra></extra>",
           "legendgroup": "Slovenia",
           "marker": {
            "color": "#FECB52",
            "size": {
             "bdata": "MzMzMzMzMEA=",
             "dtype": "f8"
            },
            "sizemode": "area",
            "sizeref": 0.182375,
            "symbol": "circle"
           },
           "mode": "markers",
           "name": "Slovenia",
           "orientation": "v",
           "showlegend": true,
           "type": "scatter",
           "x": {
            "bdata": "AAAAANR4PkE=",
            "dtype": "f8"
           },
           "xaxis": "x",
           "y": {
            "bdata": "MzMzMzMzMEA=",
            "dtype": "f8"
           },
           "yaxis": "y"
          },
          {
           "hovertemplate": "country=Slovakia<br>year=2004<br>population=%{x}<br>value_kg=%{marker.size}<extra></extra>",
           "legendgroup": "Slovakia",
           "marker": {
            "color": "#636efa",
            "size": {
             "bdata": "H4XrUbieIkA=",
             "dtype": "f8"
            },
            "sizemode": "area",
            "sizeref": 0.182375,
            "symbol": "circle"
           },
           "mode": "markers",
           "name": "Slovakia",
           "orientation": "v",
           "showlegend": true,
           "type": "scatter",
           "x": {
            "bdata": "AAAAAF5+VEE=",
            "dtype": "f8"
           },
           "xaxis": "x",
           "y": {
            "bdata": "H4XrUbieIkA=",
            "dtype": "f8"
           },
           "yaxis": "y"
          }
         ],
         "name": "2004"
        },
        {
         "data": [
          {
           "hovertemplate": "country=Austria<br>year=2005<br>population=%{x}<br>value_kg=%{marker.size}<extra></extra>",
           "legendgroup": "Austria",
           "marker": {
            "color": "#636efa",
            "size": {
             "bdata": "mpmZmZlZO0A=",
             "dtype": "f8"
            },
            "sizemode": "area",
            "sizeref": 0.182375,
            "symbol": "circle"
           },
           "mode": "markers",
           "name": "Austria",
           "orientation": "v",
           "showlegend": true,
           "type": "scatter",
           "x": {
            "bdata": "AAAAQP1iX0E=",
            "dtype": "f8"
           },
           "xaxis": "x",
           "y": {
            "bdata": "mpmZmZlZO0A=",
            "dtype": "f8"
           },
           "yaxis": "y"
          },
          {
           "hovertemplate": "country=Belgium<br>year=2005<br>population=%{x}<br>value_kg=%{marker.size}<extra></extra>",
           "legendgroup": "Belgium",
           "marker": {
            "color": "#EF553B",
            "size": {
             "bdata": "MzMzMzOzO0A=",
             "dtype": "f8"
            },
            "sizemode": "area",
            "sizeref": 0.182375,
            "symbol": "circle"
           },
           "mode": "markers",
           "name": "Belgium",
           "orientation": "v",
           "showlegend": true,
           "type": "scatter",
           "x": {
            "bdata": "AAAAIIP8Y0E=",
            "dtype": "f8"
           },
           "xaxis": "x",
           "y": {
            "bdata": "MzMzMzOzO0A=",
            "dtype": "f8"
           },
           "yaxis": "y"
          },
          {
           "hovertemplate": "country=Bulgaria<br>year=2005<br>population=%{x}<br>value_kg=%{marker.size}<extra></extra>",
           "legendgroup": "Bulgaria",
           "marker": {
            "color": "#00cc96",
            "size": {
             "bdata": "rkfhehSuK0A=",
             "dtype": "f8"
            },
            "sizemode": "area",
            "sizeref": 0.182375,
            "symbol": "circle"
           },
           "mode": "markers",
           "name": "Bulgaria",
           "orientation": "v",
           "showlegend": true,
           "type": "scatter",
           "x": {
            "bdata": "AAAAAHc3XUE=",
            "dtype": "f8"
           },
           "xaxis": "x",
           "y": {
            "bdata": "rkfhehSuK0A=",
            "dtype": "f8"
           },
           "yaxis": "y"
          },
          {
           "hovertemplate": "country=Cyprus<br>year=2005<br>population=%{x}<br>value_kg=%{marker.size}<extra></extra>",
           "legendgroup": "Cyprus",
           "marker": {
            "color": "#ab63fa",
            "size": {
             "bdata": "rkfhehQuR0A=",
             "dtype": "f8"
            },
            "sizemode": "area",
            "sizeref": 0.182375,
            "symbol": "circle"
           },
           "mode": "markers",
           "name": "Cyprus",
           "orientation": "v",
           "showlegend": true,
           "type": "scatter",
           "x": {
            "bdata": "AAAAANiJJkE=",
            "dtype": "f8"
           },
           "xaxis": "x",
           "y": {
            "bdata": "rkfhehQuR0A=",
            "dtype": "f8"
           },
           "yaxis": "y"
          },
          {
           "hovertemplate": "country=Czechia<br>year=2005<br>population=%{x}<br>value_kg=%{marker.size}<extra></extra>",
           "legendgroup": "Czechia",
           "marker": {
            "color": "#FFA15A",
            "size": {
             "bdata": "AAAAAABANEA=",
             "dtype": "f8"
            },
            "sizemode": "area",
            "sizeref": 0.182375,
            "symbol": "circle"
           },
           "mode": "markers",
           "name": "Czechia",
           "orientation": "v",
           "showlegend": true,
           "type": "scatter",
           "x": {
            "bdata": "AAAAAPJ5Y0E=",
            "dtype": "f8"
           },
           "xaxis": "x",
           "y": {
            "bdata": "AAAAAABANEA=",
            "dtype": "f8"
           },
           "yaxis": "y"
          },
          {
           "hovertemplate": "country=Germany<br>year=2005<br>population=%{x}<br>value_kg=%{marker.size}<extra></extra>",
           "legendgroup": "Germany",
           "marker": {
            "color": "#19d3f3",
            "size": {
             "bdata": "9ihcj8K1PEA=",
             "dtype": "f8"
            },
            "sizemode": "area",
            "sizeref": 0.182375,
            "symbol": "circle"
           },
           "mode": "markers",
           "name": "Germany",
           "orientation": "v",
           "showlegend": true,
           "type": "scatter",
           "x": {
            "bdata": "AAAAuIipk0E=",
            "dtype": "f8"
           },
           "xaxis": "x",
           "y": {
            "bdata": "9ihcj8K1PEA=",
            "dtype": "f8"
           },
           "yaxis": "y"
          },
          {
           "hovertemplate": "country=Denmark<br>year=2005<br>population=%{x}<br>value_kg=%{marker.size}<extra></extra>",
           "legendgroup": "Denmark",
           "marker": {
            "color": "#FF6692",
            "size": {
             "bdata": "PQrXo3DdQEA=",
             "dtype": "f8"
            },
            "sizemode": "area",
            "sizeref": 0.182375,
            "symbol": "circle"
           },
           "mode": "markers",
           "name": "Denmark",
           "orientation": "v",
           "showlegend": true,
           "type": "scatter",
           "x": {
            "bdata": "AAAAAGqsVEE=",
            "dtype": "f8"
           },
           "xaxis": "x",
           "y": {
            "bdata": "PQrXo3DdQEA=",
            "dtype": "f8"
           },
           "yaxis": "y"
          },
          {
           "hovertemplate": "country=Estonia<br>year=2005<br>population=%{x}<br>value_kg=%{marker.size}<extra></extra>",
           "legendgroup": "Estonia",
           "marker": {
            "color": "#B6E880",
            "size": {
             "bdata": "CtejcD1KN0A=",
             "dtype": "f8"
            },
            "sizemode": "area",
            "sizeref": 0.182375,
            "symbol": "circle"
           },
           "mode": "markers",
           "name": "Estonia",
           "orientation": "v",
           "showlegend": true,
           "type": "scatter",
           "x": {
            "bdata": "AAAAABesNEE=",
            "dtype": "f8"
           },
           "xaxis": "x",
           "y": {
            "bdata": "CtejcD1KN0A=",
            "dtype": "f8"
           },
           "yaxis": "y"
          },
          {
           "hovertemplate": "country=Greece<br>year=2005<br>population=%{x}<br>value_kg=%{marker.size}<extra></extra>",
           "legendgroup": "Greece",
           "marker": {
            "color": "#FF97FF",
            "size": {
             "bdata": "mpmZmZnZN0A=",
             "dtype": "f8"
            },
            "sizemode": "area",
            "sizeref": 0.182375,
            "symbol": "circle"
           },
           "mode": "markers",
           "name": "Greece",
           "orientation": "v",
           "showlegend": true,
           "type": "scatter",
           "x": {
            "bdata": "AAAAQOb0ZEE=",
            "dtype": "f8"
           },
           "xaxis": "x",
           "y": {
            "bdata": "mpmZmZnZN0A=",
            "dtype": "f8"
           },
           "yaxis": "y"
          },
          {
           "hovertemplate": "country=Spain<br>year=2005<br>population=%{x}<br>value_kg=%{marker.size}<extra></extra>",
           "legendgroup": "Spain",
           "marker": {
            "color": "#FECB52",
            "size": {
             "bdata": "rkfhehTuQUA=",
             "dtype": "f8"
            },
            "sizemode": "area",
            "sizeref": 0.182375,
            "symbol": "circle"
           },
           "mode": "markers",
           "name": "Spain",
           "orientation": "v",
           "showlegend": true,
           "type": "scatter",
           "x": {
            "bdata": "AAAAGMHQhEE=",
            "dtype": "f8"
           },
           "xaxis": "x",
           "y": {
            "bdata": "rkfhehTuQUA=",
            "dtype": "f8"
           },
           "yaxis": "y"
          },
          {
           "hovertemplate": "country=European Union - 27 countries (from 2020)<br>year=2005<br>population=%{x}<br>value_kg=%{marker.size}<extra></extra>",
           "legendgroup": "European Union - 27 countries (from 2020)",
           "marker": {
            "color": "#636efa",
            "size": {
             "bdata": "7FG4HoUrPEA=",
             "dtype": "f8"
            },
            "sizemode": "area",
            "sizeref": 0.182375,
            "symbol": "circle"
           },
           "mode": "markers",
           "name": "European Union - 27 countries (from 2020)",
           "orientation": "v",
           "showlegend": true,
           "type": "scatter",
           "x": {
            "bdata": "AAAALVvyuUE=",
            "dtype": "f8"
           },
           "xaxis": "x",
           "y": {
            "bdata": "7FG4HoUrPEA=",
            "dtype": "f8"
           },
           "yaxis": "y"
          },
          {
           "hovertemplate": "country=Finland<br>year=2005<br>population=%{x}<br>value_kg=%{marker.size}<extra></extra>",
           "legendgroup": "Finland",
           "marker": {
            "color": "#EF553B",
            "size": {
             "bdata": "FK5H4XoUM0A=",
             "dtype": "f8"
            },
            "sizemode": "area",
            "sizeref": 0.182375,
            "symbol": "circle"
           },
           "mode": "markers",
           "name": "Finland",
           "orientation": "v",
           "showlegend": true,
           "type": "scatter",
           "x": {
            "bdata": "AAAAACQDVEE=",
            "dtype": "f8"
           },
           "xaxis": "x",
           "y": {
            "bdata": "FK5H4XoUM0A=",
            "dtype": "f8"
           },
           "yaxis": "y"
          },
          {
           "hovertemplate": "country=France<br>year=2005<br>population=%{x}<br>value_kg=%{marker.size}<extra></extra>",
           "legendgroup": "France",
           "marker": {
            "color": "#00cc96",
            "size": {
             "bdata": "XI/C9SjcP0A=",
             "dtype": "f8"
            },
            "sizemode": "area",
            "sizeref": 0.182375,
            "symbol": "circle"
           },
           "mode": "markers",
           "name": "France",
           "orientation": "v",
           "showlegend": true,
           "type": "scatter",
           "x": {
            "bdata": "AAAAKJUKjkE=",
            "dtype": "f8"
           },
           "xaxis": "x",
           "y": {
            "bdata": "XI/C9SjcP0A=",
            "dtype": "f8"
           },
           "yaxis": "y"
          },
          {
           "hovertemplate": "country=Hungary<br>year=2005<br>population=%{x}<br>value_kg=%{marker.size}<extra></extra>",
           "legendgroup": "Hungary",
           "marker": {
            "color": "#FFA15A",
            "size": {
             "bdata": "H4XrUbieMkA=",
             "dtype": "f8"
            },
            "sizemode": "area",
            "sizeref": 0.182375,
            "symbol": "circle"
           },
           "mode": "markers",
           "name": "Hungary",
           "orientation": "v",
           "showlegend": true,
           "type": "scatter",
           "x": {
            "bdata": "AAAAIFM9Y0E=",
            "dtype": "f8"
           },
           "xaxis": "x",
           "y": {
            "bdata": "H4XrUbieMkA=",
            "dtype": "f8"
           },
           "yaxis": "y"
          },
          {
           "hovertemplate": "country=Ireland<br>year=2005<br>population=%{x}<br>value_kg=%{marker.size}<extra></extra>",
           "legendgroup": "Ireland",
           "marker": {
            "color": "#19d3f3",
            "size": {
             "bdata": "FK5H4Xo0SkA=",
             "dtype": "f8"
            },
            "sizemode": "area",
            "sizeref": 0.182375,
            "symbol": "circle"
           },
           "mode": "markers",
           "name": "Ireland",
           "orientation": "v",
           "showlegend": true,
           "type": "scatter",
           "x": {
            "bdata": "AAAAANW8T0E=",
            "dtype": "f8"
           },
           "xaxis": "x",
           "y": {
            "bdata": "FK5H4Xo0SkA=",
            "dtype": "f8"
           },
           "yaxis": "y"
          },
          {
           "hovertemplate": "country=Italy<br>year=2005<br>population=%{x}<br>value_kg=%{marker.size}<extra></extra>",
           "legendgroup": "Italy",
           "marker": {
            "color": "#B6E880",
            "size": {
             "bdata": "7FG4HoULQkA=",
             "dtype": "f8"
            },
            "sizemode": "area",
            "sizeref": 0.182375,
            "symbol": "circle"
           },
           "mode": "markers",
           "name": "Italy",
           "orientation": "v",
           "showlegend": true,
           "type": "scatter",
           "x": {
            "bdata": "AAAA0Gy8i0E=",
            "dtype": "f8"
           },
           "xaxis": "x",
           "y": {
            "bdata": "7FG4HoULQkA=",
            "dtype": "f8"
           },
           "yaxis": "y"
          },
          {
           "hovertemplate": "country=Lithuania<br>year=2005<br>population=%{x}<br>value_kg=%{marker.size}<extra></extra>",
           "legendgroup": "Lithuania",
           "marker": {
            "color": "#FECB52",
            "size": {
             "bdata": "4XoUrkfhLkA=",
             "dtype": "f8"
            },
            "sizemode": "area",
            "sizeref": 0.182375,
            "symbol": "circle"
           },
           "mode": "markers",
           "name": "Lithuania",
           "orientation": "v",
           "showlegend": true,
           "type": "scatter",
           "x": {
            "bdata": "AAAAAFBZSUE=",
            "dtype": "f8"
           },
           "xaxis": "x",
           "y": {
            "bdata": "4XoUrkfhLkA=",
            "dtype": "f8"
           },
           "yaxis": "y"
          },
          {
           "hovertemplate": "country=Luxembourg<br>year=2005<br>population=%{x}<br>value_kg=%{marker.size}<extra></extra>",
           "legendgroup": "Luxembourg",
           "marker": {
            "color": "#636efa",
            "size": {
             "bdata": "16NwPQr3R0A=",
             "dtype": "f8"
            },
            "sizemode": "area",
            "sizeref": 0.182375,
            "symbol": "circle"
           },
           "mode": "markers",
           "name": "Luxembourg",
           "orientation": "v",
           "showlegend": true,
           "type": "scatter",
           "x": {
            "bdata": "AAAAABhkHEE=",
            "dtype": "f8"
           },
           "xaxis": "x",
           "y": {
            "bdata": "16NwPQr3R0A=",
            "dtype": "f8"
           },
           "yaxis": "y"
          },
          {
           "hovertemplate": "country=Latvia<br>year=2005<br>population=%{x}<br>value_kg=%{marker.size}<extra></extra>",
           "legendgroup": "Latvia",
           "marker": {
            "color": "#EF553B",
            "size": {
             "bdata": "uB6F61E4MEA=",
             "dtype": "f8"
            },
            "sizemode": "area",
            "sizeref": 0.182375,
            "symbol": "circle"
           },
           "mode": "markers",
           "name": "Latvia",
           "orientation": "v",
           "showlegend": true,
           "type": "scatter",
           "x": {
            "bdata": "AAAAgKcUQUE=",
            "dtype": "f8"
           },
           "xaxis": "x",
           "y": {
            "bdata": "uB6F61E4MEA=",
            "dtype": "f8"
           },
           "yaxis": "y"
          },
          {
           "hovertemplate": "country=Malta<br>year=2005<br>population=%{x}<br>value_kg=%{marker.size}<extra></extra>",
           "legendgroup": "Malta",
           "marker": {
            "color": "#00cc96",
            "size": {
             "bdata": "SOF6FK4HMEA=",
             "dtype": "f8"
            },
            "sizemode": "area",
            "sizeref": 0.182375,
            "symbol": "circle"
           },
           "mode": "markers",
           "name": "Malta",
           "orientation": "v",
           "showlegend": true,
           "type": "scatter",
           "x": {
            "bdata": "AAAAAOilGEE=",
            "dtype": "f8"
           },
           "xaxis": "x",
           "y": {
            "bdata": "SOF6FK4HMEA=",
            "dtype": "f8"
           },
           "yaxis": "y"
          },
          {
           "hovertemplate": "country=Netherlands<br>year=2005<br>population=%{x}<br>value_kg=%{marker.size}<extra></extra>",
           "legendgroup": "Netherlands",
           "marker": {
            "color": "#ab63fa",
            "size": {
             "bdata": "w/UoXI8iQkA=",
             "dtype": "f8"
            },
            "sizemode": "area",
            "sizeref": 0.182375,
            "symbol": "circle"
           },
           "mode": "markers",
           "name": "Netherlands",
           "orientation": "v",
           "showlegend": true,
           "type": "scatter",
           "x": {
            "bdata": "AAAAgK8gb0E=",
            "dtype": "f8"
           },
           "xaxis": "x",
           "y": {
            "bdata": "w/UoXI8iQkA=",
            "dtype": "f8"
           },
           "yaxis": "y"
          },
          {
           "hovertemplate": "country=Poland<br>year=2005<br>population=%{x}<br>value_kg=%{marker.size}<extra></extra>",
           "legendgroup": "Poland",
           "marker": {
            "color": "#19d3f3",
            "size": {
             "bdata": "16NwPQqXMEA=",
             "dtype": "f8"
            },
            "sizemode": "area",
            "sizeref": 0.182375,
            "symbol": "circle"
           },
           "mode": "markers",
           "name": "Poland",
           "orientation": "v",
           "showlegend": true,
           "type": "scatter",
           "x": {
            "bdata": "AAAAKN4ygkE=",
            "dtype": "f8"
           },
           "xaxis": "x",
           "y": {
            "bdata": "16NwPQqXMEA=",
            "dtype": "f8"
           },
           "yaxis": "y"
          },
          {
           "hovertemplate": "country=Portugal<br>year=2005<br>population=%{x}<br>value_kg=%{marker.size}<extra></extra>",
           "legendgroup": "Portugal",
           "marker": {
            "color": "#FF6692",
            "size": {
             "bdata": "rkfhehTuQEA=",
             "dtype": "f8"
            },
            "sizemode": "area",
            "sizeref": 0.182375,
            "symbol": "circle"
           },
           "mode": "markers",
           "name": "Portugal",
           "orientation": "v",
           "showlegend": true,
           "type": "scatter",
           "x": {
            "bdata": "AAAAQJQIZEE=",
            "dtype": "f8"
           },
           "xaxis": "x",
           "y": {
            "bdata": "rkfhehTuQEA=",
            "dtype": "f8"
           },
           "yaxis": "y"
          },
          {
           "hovertemplate": "country=Romania<br>year=2005<br>population=%{x}<br>value_kg=%{marker.size}<extra></extra>",
           "legendgroup": "Romania",
           "marker": {
            "color": "#B6E880",
            "size": {
             "bdata": "H4XrUbgeL0A=",
             "dtype": "f8"
            },
            "sizemode": "area",
            "sizeref": 0.182375,
            "symbol": "circle"
           },
           "mode": "markers",
           "name": "Romania",
           "orientation": "v",
           "showlegend": true,
           "type": "scatter",
           "x": {
            "bdata": "AAAAUABVdEE=",
            "dtype": "f8"
           },
           "xaxis": "x",
           "y": {
            "bdata": "H4XrUbgeL0A=",
            "dtype": "f8"
           },
           "yaxis": "y"
          },
          {
           "hovertemplate": "country=Sweden<br>year=2005<br>population=%{x}<br>value_kg=%{marker.size}<extra></extra>",
           "legendgroup": "Sweden",
           "marker": {
            "color": "#FF97FF",
            "size": {
             "bdata": "MzMzMzNzM0A=",
             "dtype": "f8"
            },
            "sizemode": "area",
            "sizeref": 0.182375,
            "symbol": "circle"
           },
           "mode": "markers",
           "name": "Sweden",
           "orientation": "v",
           "showlegend": true,
           "type": "scatter",
           "x": {
            "bdata": "AAAAgPg4YUE=",
            "dtype": "f8"
           },
           "xaxis": "x",
           "y": {
            "bdata": "MzMzMzNzM0A=",
            "dtype": "f8"
           },
           "yaxis": "y"
          },
          {
           "hovertemplate": "country=Slovenia<br>year=2005<br>population=%{x}<br>value_kg=%{marker.size}<extra></extra>",
           "legendgroup": "Slovenia",
           "marker": {
            "color": "#FECB52",
            "size": {
             "bdata": "uB6F61H4MEA=",
             "dtype": "f8"
            },
            "sizemode": "area",
            "sizeref": 0.182375,
            "symbol": "circle"
           },
           "mode": "markers",
           "name": "Slovenia",
           "orientation": "v",
           "showlegend": true,
           "type": "scatter",
           "x": {
            "bdata": "AAAAAFqGPkE=",
            "dtype": "f8"
           },
           "xaxis": "x",
           "y": {
            "bdata": "uB6F61H4MEA=",
            "dtype": "f8"
           },
           "yaxis": "y"
          },
          {
           "hovertemplate": "country=Slovakia<br>year=2005<br>population=%{x}<br>value_kg=%{marker.size}<extra></extra>",
           "legendgroup": "Slovakia",
           "marker": {
            "color": "#636efa",
            "size": {
             "bdata": "CtejcD3KMEA=",
             "dtype": "f8"
            },
            "sizemode": "area",
            "sizeref": 0.182375,
            "symbol": "circle"
           },
           "mode": "markers",
           "name": "Slovakia",
           "orientation": "v",
           "showlegend": true,
           "type": "scatter",
           "x": {
            "bdata": "AAAAwOF+VEE=",
            "dtype": "f8"
           },
           "xaxis": "x",
           "y": {
            "bdata": "CtejcD3KMEA=",
            "dtype": "f8"
           },
           "yaxis": "y"
          }
         ],
         "name": "2005"
        },
        {
         "data": [
          {
           "hovertemplate": "country=Austria<br>year=2006<br>population=%{x}<br>value_kg=%{marker.size}<extra></extra>",
           "legendgroup": "Austria",
           "marker": {
            "color": "#636efa",
            "size": {
             "bdata": "zczMzMzMPEA=",
             "dtype": "f8"
            },
            "sizemode": "area",
            "sizeref": 0.182375,
            "symbol": "circle"
           },
           "mode": "markers",
           "name": "Austria",
           "orientation": "v",
           "showlegend": true,
           "type": "scatter",
           "x": {
            "bdata": "AAAAQNiKX0E=",
            "dtype": "f8"
           },
           "xaxis": "x",
           "y": {
            "bdata": "zczMzMzMPEA=",
            "dtype": "f8"
           },
           "yaxis": "y"
          },
          {
           "hovertemplate": "country=Belgium<br>year=2006<br>population=%{x}<br>value_kg=%{marker.size}<extra></extra>",
           "legendgroup": "Belgium",
           "marker": {
            "color": "#EF553B",
            "size": {
             "bdata": "KVyPwvWoPEA=",
             "dtype": "f8"
            },
            "sizemode": "area",
            "sizeref": 0.182375,
            "symbol": "circle"
           },
           "mode": "markers",
           "name": "Belgium",
           "orientation": "v",
           "showlegend": true,
           "type": "scatter",
           "x": {
            "bdata": "AAAAwF4eZEE=",
            "dtype": "f8"
           },
           "xaxis": "x",
           "y": {
            "bdata": "KVyPwvWoPEA=",
            "dtype": "f8"
           },
           "yaxis": "y"
          },
          {
           "hovertemplate": "country=Bulgaria<br>year=2006<br>population=%{x}<br>value_kg=%{marker.size}<extra></extra>",
           "legendgroup": "Bulgaria",
           "marker": {
            "color": "#00cc96",
            "size": {
             "bdata": "AAAAAACAJ0A=",
             "dtype": "f8"
            },
            "sizemode": "area",
            "sizeref": 0.182375,
            "symbol": "circle"
           },
           "mode": "markers",
           "name": "Bulgaria",
           "orientation": "v",
           "showlegend": true,
           "type": "scatter",
           "x": {
            "bdata": "AAAAgN/+XEE=",
            "dtype": "f8"
           },
           "xaxis": "x",
           "y": {
            "bdata": "AAAAAACAJ0A=",
            "dtype": "f8"
           },
           "yaxis": "y"
          },
          {
           "hovertemplate": "country=Cyprus<br>year=2006<br>population=%{x}<br>value_kg=%{marker.size}<extra></extra>",
           "legendgroup": "Cyprus",
           "marker": {
            "color": "#ab63fa",
            "size": {
             "bdata": "zczMzMwMMUA=",
             "dtype": "f8"
            },
            "sizemode": "area",
            "sizeref": 0.182375,
            "symbol": "circle"
           },
           "mode": "markers",
           "name": "Cyprus",
           "orientation": "v",
           "showlegend": true,
           "type": "scatter",
           "x": {
            "bdata": "AAAAAOrqJkE=",
            "dtype": "f8"
           },
           "xaxis": "x",
           "y": {
            "bdata": "zczMzMwMMUA=",
            "dtype": "f8"
           },
           "yaxis": "y"
          },
          {
           "hovertemplate": "country=Czechia<br>year=2006<br>population=%{x}<br>value_kg=%{marker.size}<extra></extra>",
           "legendgroup": "Czechia",
           "marker": {
            "color": "#FFA15A",
            "size": {
             "bdata": "rkfhehTuM0A=",
             "dtype": "f8"
            },
            "sizemode": "area",
            "sizeref": 0.182375,
            "symbol": "circle"
           },
           "mode": "markers",
           "name": "Czechia",
           "orientation": "v",
           "showlegend": true,
           "type": "scatter",
           "x": {
            "bdata": "AAAAIHeHY0E=",
            "dtype": "f8"
           },
           "xaxis": "x",
           "y": {
            "bdata": "rkfhehTuM0A=",
            "dtype": "f8"
           },
           "yaxis": "y"
          },
          {
           "hovertemplate": "country=Germany<br>year=2006<br>population=%{x}<br>value_kg=%{marker.size}<extra></extra>",
           "legendgroup": "Germany",
           "marker": {
            "color": "#19d3f3",
            "size": {
             "bdata": "9ihcj8J1P0A=",
             "dtype": "f8"
            },
            "sizemode": "area",
            "sizeref": 0.182375,
            "symbol": "circle"
           },
           "mode": "markers",
           "name": "Germany",
           "orientation": "v",
           "showlegend": true,
           "type": "scatter",
           "x": {
            "bdata": "AAAADNyjk0E=",
            "dtype": "f8"
           },
           "xaxis": "x",
           "y": {
            "bdata": "9ihcj8J1P0A=",
            "dtype": "f8"
           },
           "yaxis": "y"
          },
          {
           "hovertemplate": "country=Denmark<br>year=2006<br>population=%{x}<br>value_kg=%{marker.size}<extra></extra>",
           "legendgroup": "Denmark",
           "marker": {
            "color": "#FF6692",
            "size": {
             "bdata": "7FG4HoWLQUA=",
             "dtype": "f8"
            },
            "sizemode": "area",
            "sizeref": 0.182375,
            "symbol": "circle"
           },
           "mode": "markers",
           "name": "Denmark",
           "orientation": "v",
           "showlegend": true,
           "type": "scatter",
           "x": {
            "bdata": "AAAAANa9VEE=",
            "dtype": "f8"
           },
           "xaxis": "x",
           "y": {
            "bdata": "7FG4HoWLQUA=",
            "dtype": "f8"
           },
           "yaxis": "y"
          },
          {
           "hovertemplate": "country=Estonia<br>year=2006<br>population=%{x}<br>value_kg=%{marker.size}<extra></extra>",
           "legendgroup": "Estonia",
           "marker": {
            "color": "#B6E880",
            "size": {
             "bdata": "mpmZmZnZOkA=",
             "dtype": "f8"
            },
            "sizemode": "area",
            "sizeref": 0.182375,
            "symbol": "circle"
           },
           "mode": "markers",
           "name": "Estonia",
           "orientation": "v",
           "showlegend": true,
           "type": "scatter",
           "x": {
            "bdata": "AAAAAPqMNEE=",
            "dtype": "f8"
           },
           "xaxis": "x",
           "y": {
            "bdata": "mpmZmZnZOkA=",
            "dtype": "f8"
           },
           "yaxis": "y"
          },
          {
           "hovertemplate": "country=Greece<br>year=2006<br>population=%{x}<br>value_kg=%{marker.size}<extra></extra>",
           "legendgroup": "Greece",
           "marker": {
            "color": "#FF97FF",
            "size": {
             "bdata": "uB6F61E4O0A=",
             "dtype": "f8"
            },
            "sizemode": "area",
            "sizeref": 0.182375,
            "symbol": "circle"
           },
           "mode": "markers",
           "name": "Greece",
           "orientation": "v",
           "showlegend": true,
           "type": "scatter",
           "x": {
            "bdata": "AAAAQAkFZUE=",
            "dtype": "f8"
           },
           "xaxis": "x",
           "y": {
            "bdata": "uB6F61E4O0A=",
            "dtype": "f8"
           },
           "yaxis": "y"
          },
          {
           "hovertemplate": "country=Spain<br>year=2006<br>population=%{x}<br>value_kg=%{marker.size}<extra></extra>",
           "legendgroup": "Spain",
           "marker": {
            "color": "#FECB52",
            "size": {
             "bdata": "cT0K16MwQkA=",
             "dtype": "f8"
            },
            "sizemode": "area",
            "sizeref": 0.182375,
            "symbol": "circle"
           },
           "mode": "markers",
           "name": "Spain",
           "orientation": "v",
           "showlegend": true,
           "type": "scatter",
           "x": {
            "bdata": "AAAAOJgrhUE=",
            "dtype": "f8"
           },
           "xaxis": "x",
           "y": {
            "bdata": "cT0K16MwQkA=",
            "dtype": "f8"
           },
           "yaxis": "y"
          },
          {
           "hovertemplate": "country=European Union - 27 countries (from 2020)<br>year=2006<br>population=%{x}<br>value_kg=%{marker.size}<extra></extra>",
           "legendgroup": "European Union - 27 countries (from 2020)",
           "marker": {
            "color": "#636efa",
            "size": {
             "bdata": "7FG4HoUrPUA=",
             "dtype": "f8"
            },
            "sizemode": "area",
            "sizeref": 0.182375,
            "symbol": "circle"
           },
           "mode": "markers",
           "name": "European Union - 27 countries (from 2020)",
           "orientation": "v",
           "showlegend": true,
           "type": "scatter",
           "x": {
            "bdata": "AAAAFLMIukE=",
            "dtype": "f8"
           },
           "xaxis": "x",
           "y": {
            "bdata": "7FG4HoUrPUA=",
            "dtype": "f8"
           },
           "yaxis": "y"
          },
          {
           "hovertemplate": "country=Finland<br>year=2006<br>population=%{x}<br>value_kg=%{marker.size}<extra></extra>",
           "legendgroup": "Finland",
           "marker": {
            "color": "#EF553B",
            "size": {
             "bdata": "ZmZmZmZmMkA=",
             "dtype": "f8"
            },
            "sizemode": "area",
            "sizeref": 0.182375,
            "symbol": "circle"
           },
           "mode": "markers",
           "name": "Finland",
           "orientation": "v",
           "showlegend": true,
           "type": "scatter",
           "x": {
            "bdata": "AAAAANcWVEE=",
            "dtype": "f8"
           },
           "xaxis": "x",
           "y": {
            "bdata": "ZmZmZmZmMkA=",
            "dtype": "f8"
           },
           "yaxis": "y"
          },
          {
           "hovertemplate": "country=France<br>year=2006<br>population=%{x}<br>value_kg=%{marker.size}<extra></extra>",
           "legendgroup": "France",
           "marker": {
            "color": "#00cc96",
            "size": {
             "bdata": "pHA9CtdDQEA=",
             "dtype": "f8"
            },
            "sizemode": "area",
            "sizeref": 0.182375,
            "symbol": "circle"
           },
           "mode": "markers",
           "name": "France",
           "orientation": "v",
           "showlegend": true,
           "type": "scatter",
           "x": {
            "bdata": "AAAAMNE/jkE=",
            "dtype": "f8"
           },
           "xaxis": "x",
           "y": {
            "bdata": "pHA9CtdDQEA=",
            "dtype": "f8"
           },
           "yaxis": "y"
          },
          {
           "hovertemplate": "country=Hungary<br>year=2006<br>population=%{x}<br>value_kg=%{marker.size}<extra></extra>",
           "legendgroup": "Hungary",
           "marker": {
            "color": "#FFA15A",
            "size": {
             "bdata": "9ihcj8K1M0A=",
             "dtype": "f8"
            },
            "sizemode": "area",
            "sizeref": 0.182375,
            "symbol": "circle"
           },
           "mode": "markers",
           "name": "Hungary",
           "orientation": "v",
           "showlegend": true,
           "type": "scatter",
           "x": {
            "bdata": "AAAAQKk1Y0E=",
            "dtype": "f8"
           },
           "xaxis": "x",
           "y": {
            "bdata": "9ihcj8K1M0A=",
            "dtype": "f8"
           },
           "yaxis": "y"
          },
          {
           "hovertemplate": "country=Ireland<br>year=2006<br>population=%{x}<br>value_kg=%{marker.size}<extra></extra>",
           "legendgroup": "Ireland",
           "marker": {
            "color": "#19d3f3",
            "size": {
             "bdata": "AAAAAADgTkA=",
             "dtype": "f8"
            },
            "sizemode": "area",
            "sizeref": 0.182375,
            "symbol": "circle"
           },
           "mode": "markers",
           "name": "Ireland",
           "orientation": "v",
           "showlegend": true,
           "type": "scatter",
           "x": {
            "bdata": "AAAAQPZNUEE=",
            "dtype": "f8"
           },
           "xaxis": "x",
           "y": {
            "bdata": "AAAAAADgTkA=",
            "dtype": "f8"
           },
           "yaxis": "y"
          },
          {
           "hovertemplate": "country=Italy<br>year=2006<br>population=%{x}<br>value_kg=%{marker.size}<extra></extra>",
           "legendgroup": "Italy",
           "marker": {
            "color": "#B6E880",
            "size": {
             "bdata": "exSuR+HaQkA=",
             "dtype": "f8"
            },
            "sizemode": "area",
            "sizeref": 0.182375,
            "symbol": "circle"
           },
           "mode": "markers",
           "name": "Italy",
           "orientation": "v",
           "showlegend": true,
           "type": "scatter",
           "x": {
            "bdata": "AAAAqOPYi0E=",
            "dtype": "f8"
           },
           "xaxis": "x",
           "y": {
            "bdata": "exSuR+HaQkA=",
            "dtype": "f8"
           },
           "yaxis": "y"
          },
          {
           "hovertemplate": "country=Liechtenstein<br>year=2006<br>population=%{x}<br>value_kg=%{marker.size}<extra></extra>",
           "legendgroup": "Liechtenstein",
           "marker": {
            "color": "#FF97FF",
            "size": {
             "bdata": "exSuR+H6MkA=",
             "dtype": "f8"
            },
            "sizemode": "area",
            "sizeref": 0.182375,
            "symbol": "circle"
           },
           "mode": "markers",
           "name": "Liechtenstein",
           "orientation": "v",
           "showlegend": true,
           "type": "scatter",
           "x": {
            "bdata": "AAAAAKAb4UA=",
            "dtype": "f8"
           },
           "xaxis": "x",
           "y": {
            "bdata": "exSuR+H6MkA=",
            "dtype": "f8"
           },
           "yaxis": "y"
          },
          {
           "hovertemplate": "country=Lithuania<br>year=2006<br>population=%{x}<br>value_kg=%{marker.size}<extra></extra>",
           "legendgroup": "Lithuania",
           "marker": {
            "color": "#FECB52",
            "size": {
             "bdata": "zczMzMxMMUA=",
             "dtype": "f8"
            },
            "sizemode": "area",
            "sizeref": 0.182375,
            "symbol": "circle"
           },
           "mode": "markers",
           "name": "Lithuania",
           "orientation": "v",
           "showlegend": true,
           "type": "scatter",
           "x": {
            "bdata": "AAAAgIrySEE=",
            "dtype": "f8"
           },
           "xaxis": "x",
           "y": {
            "bdata": "zczMzMxMMUA=",
            "dtype": "f8"
           },
           "yaxis": "y"
          },
          {
           "hovertemplate": "country=Luxembourg<br>year=2006<br>population=%{x}<br>value_kg=%{marker.size}<extra></extra>",
           "legendgroup": "Luxembourg",
           "marker": {
            "color": "#636efa",
            "size": {
             "bdata": "cT0K16NwR0A=",
             "dtype": "f8"
            },
            "sizemode": "area",
            "sizeref": 0.182375,
            "symbol": "circle"
           },
           "mode": "markers",
           "name": "Luxembourg",
           "orientation": "v",
           "showlegend": true,
           "type": "scatter",
           "x": {
            "bdata": "AAAAAPTYHEE=",
            "dtype": "f8"
           },
           "xaxis": "x",
           "y": {
            "bdata": "cT0K16NwR0A=",
            "dtype": "f8"
           },
           "yaxis": "y"
          },
          {
           "hovertemplate": "country=Latvia<br>year=2006<br>population=%{x}<br>value_kg=%{marker.size}<extra></extra>",
           "legendgroup": "Latvia",
           "marker": {
            "color": "#EF553B",
            "size": {
             "bdata": "PQrXo3A9MkA=",
             "dtype": "f8"
            },
            "sizemode": "area",
            "sizeref": 0.182375,
            "symbol": "circle"
           },
           "mode": "markers",
           "name": "Latvia",
           "orientation": "v",
           "showlegend": true,
           "type": "scatter",
           "x": {
            "bdata": "AAAAgLrsQEE=",
            "dtype": "f8"
           },
           "xaxis": "x",
           "y": {
            "bdata": "PQrXo3A9MkA=",
            "dtype": "f8"
           },
           "yaxis": "y"
          },
          {
           "hovertemplate": "country=Malta<br>year=2006<br>population=%{x}<br>value_kg=%{marker.size}<extra></extra>",
           "legendgroup": "Malta",
           "marker": {
            "color": "#00cc96",
            "size": {
             "bdata": "KVyPwvVoMEA=",
             "dtype": "f8"
            },
            "sizemode": "area",
            "sizeref": 0.182375,
            "symbol": "circle"
           },
           "mode": "markers",
           "name": "Malta",
           "orientation": "v",
           "showlegend": true,
           "type": "scatter",
           "x": {
            "bdata": "AAAAAPC8GEE=",
            "dtype": "f8"
           },
           "xaxis": "x",
           "y": {
            "bdata": "KVyPwvVoMEA=",
            "dtype": "f8"
           },
           "yaxis": "y"
          },
          {
           "hovertemplate": "country=Netherlands<br>year=2006<br>population=%{x}<br>value_kg=%{marker.size}<extra></extra>",
           "legendgroup": "Netherlands",
           "marker": {
            "color": "#ab63fa",
            "size": {
             "bdata": "uB6F61E4O0A=",
             "dtype": "f8"
            },
            "sizemode": "area",
            "sizeref": 0.182375,
            "symbol": "circle"
           },
           "mode": "markers",
           "name": "Netherlands",
           "orientation": "v",
           "showlegend": true,
           "type": "scatter",
           "x": {
            "bdata": "AAAAoH4tb0E=",
            "dtype": "f8"
           },
           "xaxis": "x",
           "y": {
            "bdata": "uB6F61E4O0A=",
            "dtype": "f8"
           },
           "yaxis": "y"
          },
          {
           "hovertemplate": "country=Norway<br>year=2006<br>population=%{x}<br>value_kg=%{marker.size}<extra></extra>",
           "legendgroup": "Norway",
           "marker": {
            "color": "#FFA15A",
            "size": {
             "bdata": "j8L1KFxPPEA=",
             "dtype": "f8"
            },
            "sizemode": "area",
            "sizeref": 0.182375,
            "symbol": "circle"
           },
           "mode": "markers",
           "name": "Norway",
           "orientation": "v",
           "showlegend": true,
           "type": "scatter",
           "x": {
            "bdata": "AAAAQHHHUUE=",
            "dtype": "f8"
           },
           "xaxis": "x",
           "y": {
            "bdata": "j8L1KFxPPEA=",
            "dtype": "f8"
           },
           "yaxis": "y"
          },
          {
           "hovertemplate": "country=Poland<br>year=2006<br>population=%{x}<br>value_kg=%{marker.size}<extra></extra>",
           "legendgroup": "Poland",
           "marker": {
            "color": "#19d3f3",
            "size": {
             "bdata": "16NwPQoXMkA=",
             "dtype": "f8"
            },
            "sizemode": "area",
            "sizeref": 0.182375,
            "symbol": "circle"
           },
           "mode": "markers",
           "name": "Poland",
           "orientation": "v",
           "showlegend": true,
           "type": "scatter",
           "x": {
            "bdata": "AAAAmOovgkE=",
            "dtype": "f8"
           },
           "xaxis": "x",
           "y": {
            "bdata": "16NwPQoXMkA=",
            "dtype": "f8"
           },
           "yaxis": "y"
          },
          {
           "hovertemplate": "country=Portugal<br>year=2006<br>population=%{x}<br>value_kg=%{marker.size}<extra></extra>",
           "legendgroup": "Portugal",
           "marker": {
            "color": "#FF6692",
            "size": {
             "bdata": "rkfhehTuQUA=",
             "dtype": "f8"
            },
            "sizemode": "area",
            "sizeref": 0.182375,
            "symbol": "circle"
           },
           "mode": "markers",
           "name": "Portugal",
           "orientation": "v",
           "showlegend": true,
           "type": "scatter",
           "x": {
            "bdata": "AAAAANYRZEE=",
            "dtype": "f8"
           },
           "xaxis": "x",
           "y": {
            "bdata": "rkfhehTuQUA=",
            "dtype": "f8"
           },
           "yaxis": "y"
          },
          {
           "hovertemplate": "country=Romania<br>year=2006<br>population=%{x}<br>value_kg=%{marker.size}<extra></extra>",
           "legendgroup": "Romania",
           "marker": {
            "color": "#B6E880",
            "size": {
             "bdata": "AAAAAADAMEA=",
             "dtype": "f8"
            },
            "sizemode": "area",
            "sizeref": 0.182375,
            "symbol": "circle"
           },
           "mode": "markers",
           "name": "Romania",
           "orientation": "v",
           "showlegend": true,
           "type": "scatter",
           "x": {
            "bdata": "AAAAAEI2dEE=",
            "dtype": "f8"
           },
           "xaxis": "x",
           "y": {
            "bdata": "AAAAAADAMEA=",
            "dtype": "f8"
           },
           "yaxis": "y"
          },
          {
           "hovertemplate": "country=Sweden<br>year=2006<br>population=%{x}<br>value_kg=%{marker.size}<extra></extra>",
           "legendgroup": "Sweden",
           "marker": {
            "color": "#FF97FF",
            "size": {
             "bdata": "9ihcj8J1NEA=",
             "dtype": "f8"
            },
            "sizemode": "area",
            "sizeref": 0.182375,
            "symbol": "circle"
           },
           "mode": "markers",
           "name": "Sweden",
           "orientation": "v",
           "showlegend": true,
           "type": "scatter",
           "x": {
            "bdata": "AAAAINdRYUE=",
            "dtype": "f8"
           },
           "xaxis": "x",
           "y": {
            "bdata": "9ihcj8J1NEA=",
            "dtype": "f8"
           },
           "yaxis": "y"
          },
          {
           "hovertemplate": "country=Slovenia<br>year=2006<br>population=%{x}<br>value_kg=%{marker.size}<extra></extra>",
           "legendgroup": "Slovenia",
           "marker": {
            "color": "#FECB52",
            "size": {
             "bdata": "16NwPQqXN0A=",
             "dtype": "f8"
            },
            "sizemode": "area",
            "sizeref": 0.182375,
            "symbol": "circle"
           },
           "mode": "markers",
           "name": "Slovenia",
           "orientation": "v",
           "showlegend": true,
           "type": "scatter",
           "x": {
            "bdata": "AAAAAFSfPkE=",
            "dtype": "f8"
           },
           "xaxis": "x",
           "y": {
            "bdata": "16NwPQqXN0A=",
            "dtype": "f8"
           },
           "yaxis": "y"
          },
          {
           "hovertemplate": "country=Slovakia<br>year=2006<br>population=%{x}<br>value_kg=%{marker.size}<extra></extra>",
           "legendgroup": "Slovakia",
           "marker": {
            "color": "#636efa",
            "size": {
             "bdata": "UrgehetRJkA=",
             "dtype": "f8"
            },
            "sizemode": "area",
            "sizeref": 0.182375,
            "symbol": "circle"
           },
           "mode": "markers",
           "name": "Slovakia",
           "orientation": "v",
           "showlegend": true,
           "type": "scatter",
           "x": {
            "bdata": "AAAAgB9/VEE=",
            "dtype": "f8"
           },
           "xaxis": "x",
           "y": {
            "bdata": "UrgehetRJkA=",
            "dtype": "f8"
           },
           "yaxis": "y"
          }
         ],
         "name": "2006"
        },
        {
         "data": [
          {
           "hovertemplate": "country=Austria<br>year=2007<br>population=%{x}<br>value_kg=%{marker.size}<extra></extra>",
           "legendgroup": "Austria",
           "marker": {
            "color": "#636efa",
            "size": {
             "bdata": "PQrXo3B9PUA=",
             "dtype": "f8"
            },
            "sizemode": "area",
            "sizeref": 0.182375,
            "symbol": "circle"
           },
           "mode": "markers",
           "name": "Austria",
           "orientation": "v",
           "showlegend": true,
           "type": "scatter",
           "x": {
            "bdata": "AAAAwA+lX0E=",
            "dtype": "f8"
           },
           "xaxis": "x",
           "y": {
            "bdata": "PQrXo3B9PUA=",
            "dtype": "f8"
           },
           "yaxis": "y"
          },
          {
           "hovertemplate": "country=Belgium<br>year=2007<br>population=%{x}<br>value_kg=%{marker.size}<extra></extra>",
           "legendgroup": "Belgium",
           "marker": {
            "color": "#EF553B",
            "size": {
             "bdata": "j8L1KFwPPUA=",
             "dtype": "f8"
            },
            "sizemode": "area",
            "sizeref": 0.182375,
            "symbol": "circle"
           },
           "mode": "markers",
           "name": "Belgium",
           "orientation": "v",
           "showlegend": true,
           "type": "scatter",
           "x": {
            "bdata": "AAAAgFREZEE=",
            "dtype": "f8"
           },
           "xaxis": "x",
           "y": {
            "bdata": "j8L1KFwPPUA=",
            "dtype": "f8"
           },
           "yaxis": "y"
          },
          {
           "hovertemplate": "country=Bulgaria<br>year=2007<br>population=%{x}<br>value_kg=%{marker.size}<extra></extra>",
           "legendgroup": "Bulgaria",
           "marker": {
            "color": "#00cc96",
            "size": {
             "bdata": "j8L1KFwPK0A=",
             "dtype": "f8"
            },
            "sizemode": "area",
            "sizeref": 0.182375,
            "symbol": "circle"
           },
           "mode": "markers",
           "name": "Bulgaria",
           "orientation": "v",
           "showlegend": true,
           "type": "scatter",
           "x": {
            "bdata": "AAAAgH7IXEE=",
            "dtype": "f8"
           },
           "xaxis": "x",
           "y": {
            "bdata": "j8L1KFwPK0A=",
            "dtype": "f8"
           },
           "yaxis": "y"
          },
          {
           "hovertemplate": "country=Cyprus<br>year=2007<br>population=%{x}<br>value_kg=%{marker.size}<extra></extra>",
           "legendgroup": "Cyprus",
           "marker": {
            "color": "#ab63fa",
            "size": {
             "bdata": "rkfhehQuM0A=",
             "dtype": "f8"
            },
            "sizemode": "area",
            "sizeref": 0.182375,
            "symbol": "circle"
           },
           "mode": "markers",
           "name": "Cyprus",
           "orientation": "v",
           "showlegend": true,
           "type": "scatter",
           "x": {
            "bdata": "AAAAACppJ0E=",
            "dtype": "f8"
           },
           "xaxis": "x",
           "y": {
            "bdata": "rkfhehQuM0A=",
            "dtype": "f8"
           },
           "yaxis": "y"
          },
          {
           "hovertemplate": "country=Czechia<br>year=2007<br>population=%{x}<br>value_kg=%{marker.size}<extra></extra>",
           "legendgroup": "Czechia",
           "marker": {
            "color": "#FFA15A",
            "size": {
             "bdata": "FK5H4XoUNUA=",
             "dtype": "f8"
            },
            "sizemode": "area",
            "sizeref": 0.182375,
            "symbol": "circle"
           },
           "mode": "markers",
           "name": "Czechia",
           "orientation": "v",
           "showlegend": true,
           "type": "scatter",
           "x": {
            "bdata": "AAAAgLmkY0E=",
            "dtype": "f8"
           },
           "xaxis": "x",
           "y": {
            "bdata": "FK5H4XoUNUA=",
            "dtype": "f8"
           },
           "yaxis": "y"
          },
          {
           "hovertemplate": "country=Germany<br>year=2007<br>population=%{x}<br>value_kg=%{marker.size}<extra></extra>",
           "legendgroup": "Germany",
           "marker": {
            "color": "#19d3f3",
            "size": {
             "bdata": "UrgehesRQEA=",
             "dtype": "f8"
            },
            "sizemode": "area",
            "sizeref": 0.182375,
            "symbol": "circle"
           },
           "mode": "markers",
           "name": "Germany",
           "orientation": "v",
           "showlegend": true,
           "type": "scatter",
           "x": {
            "bdata": "AAAAECSdk0E=",
            "dtype": "f8"
           },
           "xaxis": "x",
           "y": {
            "bdata": "UrgehesRQEA=",
            "dtype": "f8"
           },
           "yaxis": "y"
          },
          {
           "hovertemplate": "country=Denmark<br>year=2007<br>population=%{x}<br>value_kg=%{marker.size}<extra></extra>",
           "legendgroup": "Denmark",
           "marker": {
            "color": "#FF6692",
            "size": {
             "bdata": "j8L1KFyPQUA=",
             "dtype": "f8"
            },
            "sizemode": "area",
            "sizeref": 0.182375,
            "symbol": "circle"
           },
           "mode": "markers",
           "name": "Denmark",
           "orientation": "v",
           "showlegend": true,
           "type": "scatter",
           "x": {
            "bdata": "AAAAgG/VVEE=",
            "dtype": "f8"
           },
           "xaxis": "x",
           "y": {
            "bdata": "j8L1KFyPQUA=",
            "dtype": "f8"
           },
           "yaxis": "y"
          },
          {
           "hovertemplate": "country=Estonia<br>year=2007<br>population=%{x}<br>value_kg=%{marker.size}<extra></extra>",
           "legendgroup": "Estonia",
           "marker": {
            "color": "#B6E880",
            "size": {
             "bdata": "mpmZmZnZO0A=",
             "dtype": "f8"
            },
            "sizemode": "area",
            "sizeref": 0.182375,
            "symbol": "circle"
           },
           "mode": "markers",
           "name": "Estonia",
           "orientation": "v",
           "showlegend": true,
           "type": "scatter",
           "x": {
            "bdata": "AAAAAAh1NEE=",
            "dtype": "f8"
           },
           "xaxis": "x",
           "y": {
            "bdata": "mpmZmZnZO0A=",
            "dtype": "f8"
           },
           "yaxis": "y"
          },
          {
           "hovertemplate": "country=Greece<br>year=2007<br>population=%{x}<br>value_kg=%{marker.size}<extra></extra>",
           "legendgroup": "Greece",
           "marker": {
            "color": "#FF97FF",
            "size": {
             "bdata": "MzMzMzOzOkA=",
             "dtype": "f8"
            },
            "sizemode": "area",
            "sizeref": 0.182375,
            "symbol": "circle"
           },
           "mode": "markers",
           "name": "Greece",
           "orientation": "v",
           "showlegend": true,
           "type": "scatter",
           "x": {
            "bdata": "AAAAIMMSZUE=",
            "dtype": "f8"
           },
           "xaxis": "x",
           "y": {
            "bdata": "MzMzMzOzOkA=",
            "dtype": "f8"
           },
           "yaxis": "y"
          },
          {
           "hovertemplate": "country=Spain<br>year=2007<br>population=%{x}<br>value_kg=%{marker.size}<extra></extra>",
           "legendgroup": "Spain",
           "marker": {
            "color": "#FECB52",
            "size": {
             "bdata": "j8L1KFyPQkA=",
             "dtype": "f8"
            },
            "sizemode": "area",
            "sizeref": 0.182375,
            "symbol": "circle"
           },
           "mode": "markers",
           "name": "Spain",
           "orientation": "v",
           "showlegend": true,
           "type": "scatter",
           "x": {
            "bdata": "AAAAmNmQhUE=",
            "dtype": "f8"
           },
           "xaxis": "x",
           "y": {
            "bdata": "j8L1KFyPQkA=",
            "dtype": "f8"
           },
           "yaxis": "y"
          },
          {
           "hovertemplate": "country=European Union - 27 countries (from 2020)<br>year=2007<br>population=%{x}<br>value_kg=%{marker.size}<extra></extra>",
           "legendgroup": "European Union - 27 countries (from 2020)",
           "marker": {
            "color": "#636efa",
            "size": {
             "bdata": "MzMzMzNzPUA=",
             "dtype": "f8"
            },
            "sizemode": "area",
            "sizeref": 0.182375,
            "symbol": "circle"
           },
           "mode": "markers",
           "name": "European Union - 27 countries (from 2020)",
           "orientation": "v",
           "showlegend": true,
           "type": "scatter",
           "x": {
            "bdata": "AAAAa9cfukE=",
            "dtype": "f8"
           },
           "xaxis": "x",
           "y": {
            "bdata": "MzMzMzNzPUA=",
            "dtype": "f8"
           },
           "yaxis": "y"
          },
          {
           "hovertemplate": "country=Finland<br>year=2007<br>population=%{x}<br>value_kg=%{marker.size}<extra></extra>",
           "legendgroup": "Finland",
           "marker": {
            "color": "#EF553B",
            "size": {
             "bdata": "4XoUrkehMkA=",
             "dtype": "f8"
            },
            "sizemode": "area",
            "sizeref": 0.182375,
            "symbol": "circle"
           },
           "mode": "markers",
           "name": "Finland",
           "orientation": "v",
           "showlegend": true,
           "type": "scatter",
           "x": {
            "bdata": "AAAAAMQsVEE=",
            "dtype": "f8"
           },
           "xaxis": "x",
           "y": {
            "bdata": "4XoUrkehMkA=",
            "dtype": "f8"
           },
           "yaxis": "y"
          },
          {
           "hovertemplate": "country=France<br>year=2007<br>population=%{x}<br>value_kg=%{marker.size}<extra></extra>",
           "legendgroup": "France",
           "marker": {
            "color": "#00cc96",
            "size": {
             "bdata": "j8L1KFyPQEA=",
             "dtype": "f8"
            },
            "sizemode": "area",
            "sizeref": 0.182375,
            "symbol": "circle"
           },
           "mode": "markers",
           "name": "France",
           "orientation": "v",
           "showlegend": true,
           "type": "scatter",
           "x": {
            "bdata": "AAAAiEZvjkE=",
            "dtype": "f8"
           },
           "xaxis": "x",
           "y": {
            "bdata": "j8L1KFyPQEA=",
            "dtype": "f8"
           },
           "yaxis": "y"
          },
          {
           "hovertemplate": "country=Hungary<br>year=2007<br>population=%{x}<br>value_kg=%{marker.size}<extra></extra>",
           "legendgroup": "Hungary",
           "marker": {
            "color": "#FFA15A",
            "size": {
             "bdata": "exSuR+G6NUA=",
             "dtype": "f8"
            },
            "sizemode": "area",
            "sizeref": 0.182375,
            "symbol": "circle"
           },
           "mode": "markers",
           "name": "Hungary",
           "orientation": "v",
           "showlegend": true,
           "type": "scatter",
           "x": {
            "bdata": "AAAAgAwuY0E=",
            "dtype": "f8"
           },
           "xaxis": "x",
           "y": {
            "bdata": "exSuR+G6NUA=",
            "dtype": "f8"
           },
           "yaxis": "y"
          },
          {
           "hovertemplate": "country=Ireland<br>year=2007<br>population=%{x}<br>value_kg=%{marker.size}<extra></extra>",
           "legendgroup": "Ireland",
           "marker": {
            "color": "#19d3f3",
            "size": {
             "bdata": "pHA9CtcDS0A=",
             "dtype": "f8"
            },
            "sizemode": "area",
            "sizeref": 0.182375,
            "symbol": "circle"
           },
           "mode": "markers",
           "name": "Ireland",
           "orientation": "v",
           "showlegend": true,
           "type": "scatter",
           "x": {
            "bdata": "AAAAgNfHUEE=",
            "dtype": "f8"
           },
           "xaxis": "x",
           "y": {
            "bdata": "pHA9CtcDS0A=",
            "dtype": "f8"
           },
           "yaxis": "y"
          },
          {
           "hovertemplate": "country=Italy<br>year=2007<br>population=%{x}<br>value_kg=%{marker.size}<extra></extra>",
           "legendgroup": "Italy",
           "marker": {
            "color": "#B6E880",
            "size": {
             "bdata": "cT0K16NQQ0A=",
             "dtype": "f8"
            },
            "sizemode": "area",
            "sizeref": 0.182375,
            "symbol": "circle"
           },
           "mode": "markers",
           "name": "Italy",
           "orientation": "v",
           "showlegend": true,
           "type": "scatter",
           "x": {
            "bdata": "AAAAuGQEjEE=",
            "dtype": "f8"
           },
           "xaxis": "x",
           "y": {
            "bdata": "cT0K16NQQ0A=",
            "dtype": "f8"
           },
           "yaxis": "y"
          },
          {
           "hovertemplate": "country=Liechtenstein<br>year=2007<br>population=%{x}<br>value_kg=%{marker.size}<extra></extra>",
           "legendgroup": "Liechtenstein",
           "marker": {
            "color": "#FF97FF",
            "size": {
             "bdata": "AAAAAADAMkA=",
             "dtype": "f8"
            },
            "sizemode": "area",
            "sizeref": 0.182375,
            "symbol": "circle"
           },
           "mode": "markers",
           "name": "Liechtenstein",
           "orientation": "v",
           "showlegend": true,
           "type": "scatter",
           "x": {
            "bdata": "AAAAAMA34UA=",
            "dtype": "f8"
           },
           "xaxis": "x",
           "y": {
            "bdata": "AAAAAADAMkA=",
            "dtype": "f8"
           },
           "yaxis": "y"
          },
          {
           "hovertemplate": "country=Lithuania<br>year=2007<br>population=%{x}<br>value_kg=%{marker.size}<extra></extra>",
           "legendgroup": "Lithuania",
           "marker": {
            "color": "#FECB52",
            "size": {
             "bdata": "9ihcj8L1M0A=",
             "dtype": "f8"
            },
            "sizemode": "area",
            "sizeref": 0.182375,
            "symbol": "circle"
           },
           "mode": "markers",
           "name": "Lithuania",
           "orientation": "v",
           "showlegend": true,
           "type": "scatter",
           "x": {
            "bdata": "AAAAAB+nSEE=",
            "dtype": "f8"
           },
           "xaxis": "x",
           "y": {
            "bdata": "9ihcj8L1M0A=",
            "dtype": "f8"
           },
           "yaxis": "y"
          },
          {
           "hovertemplate": "country=Luxembourg<br>year=2007<br>population=%{x}<br>value_kg=%{marker.size}<extra></extra>",
           "legendgroup": "Luxembourg",
           "marker": {
            "color": "#636efa",
            "size": {
             "bdata": "CtejcD1KSkA=",
             "dtype": "f8"
            },
            "sizemode": "area",
            "sizeref": 0.182375,
            "symbol": "circle"
           },
           "mode": "markers",
           "name": "Luxembourg",
           "orientation": "v",
           "showlegend": true,
           "type": "scatter",
           "x": {
            "bdata": "AAAAAORLHUE=",
            "dtype": "f8"
           },
           "xaxis": "x",
           "y": {
            "bdata": "CtejcD1KSkA=",
            "dtype": "f8"
           },
           "yaxis": "y"
          },
          {
           "hovertemplate": "country=Latvia<br>year=2007<br>population=%{x}<br>value_kg=%{marker.size}<extra></extra>",
           "legendgroup": "Latvia",
           "marker": {
            "color": "#EF553B",
            "size": {
             "bdata": "MzMzMzPzMUA=",
             "dtype": "f8"
            },
            "sizemode": "area",
            "sizeref": 0.182375,
            "symbol": "circle"
           },
           "mode": "markers",
           "name": "Latvia",
           "orientation": "v",
           "showlegend": true,
           "type": "scatter",
           "x": {
            "bdata": "AAAAgILJQEE=",
            "dtype": "f8"
           },
           "xaxis": "x",
           "y": {
            "bdata": "MzMzMzPzMUA=",
            "dtype": "f8"
           },
           "yaxis": "y"
          },
          {
           "hovertemplate": "country=Malta<br>year=2007<br>population=%{x}<br>value_kg=%{marker.size}<extra></extra>",
           "legendgroup": "Malta",
           "marker": {
            "color": "#00cc96",
            "size": {
             "bdata": "4XoUrkehNUA=",
             "dtype": "f8"
            },
            "sizemode": "area",
            "sizeref": 0.182375,
            "symbol": "circle"
           },
           "mode": "markers",
           "name": "Malta",
           "orientation": "v",
           "showlegend": true,
           "type": "scatter",
           "x": {
            "bdata": "AAAAABDTGEE=",
            "dtype": "f8"
           },
           "xaxis": "x",
           "y": {
            "bdata": "4XoUrkehNUA=",
            "dtype": "f8"
           },
           "yaxis": "y"
          },
          {
           "hovertemplate": "country=Netherlands<br>year=2007<br>population=%{x}<br>value_kg=%{marker.size}<extra></extra>",
           "legendgroup": "Netherlands",
           "marker": {
            "color": "#ab63fa",
            "size": {
             "bdata": "MzMzMzNzPEA=",
             "dtype": "f8"
            },
            "sizemode": "area",
            "sizeref": 0.182375,
            "symbol": "circle"
           },
           "mode": "markers",
           "name": "Netherlands",
           "orientation": "v",
           "showlegend": true,
           "type": "scatter",
           "x": {
            "bdata": "AAAAAOA+b0E=",
            "dtype": "f8"
           },
           "xaxis": "x",
           "y": {
            "bdata": "MzMzMzNzPEA=",
            "dtype": "f8"
           },
           "yaxis": "y"
          },
          {
           "hovertemplate": "country=Norway<br>year=2007<br>population=%{x}<br>value_kg=%{marker.size}<extra></extra>",
           "legendgroup": "Norway",
           "marker": {
            "color": "#FFA15A",
            "size": {
             "bdata": "7FG4HoXrPUA=",
             "dtype": "f8"
            },
            "sizemode": "area",
            "sizeref": 0.182375,
            "symbol": "circle"
           },
           "mode": "markers",
           "name": "Norway",
           "orientation": "v",
           "showlegend": true,
           "type": "scatter",
           "x": {
            "bdata": "AAAAQMj2UUE=",
            "dtype": "f8"
           },
           "xaxis": "x",
           "y": {
            "bdata": "7FG4HoXrPUA=",
            "dtype": "f8"
           },
           "yaxis": "y"
          },
          {
           "hovertemplate": "country=Poland<br>year=2007<br>population=%{x}<br>value_kg=%{marker.size}<extra></extra>",
           "legendgroup": "Poland",
           "marker": {
            "color": "#19d3f3",
            "size": {
             "bdata": "j8L1KFwPK0A=",
             "dtype": "f8"
            },
            "sizemode": "area",
            "sizeref": 0.182375,
            "symbol": "circle"
           },
           "mode": "markers",
           "name": "Poland",
           "orientation": "v",
           "showlegend": true,
           "type": "scatter",
           "x": {
            "bdata": "AAAAgGMtgkE=",
            "dtype": "f8"
           },
           "xaxis": "x",
           "y": {
            "bdata": "j8L1KFwPK0A=",
            "dtype": "f8"
           },
           "yaxis": "y"
          },
          {
           "hovertemplate": "country=Portugal<br>year=2007<br>population=%{x}<br>value_kg=%{marker.size}<extra></extra>",
           "legendgroup": "Portugal",
           "marker": {
            "color": "#FF6692",
            "size": {
             "bdata": "UrgehevxQUA=",
             "dtype": "f8"
            },
            "sizemode": "area",
            "sizeref": 0.182375,
            "symbol": "circle"
           },
           "mode": "markers",
           "name": "Portugal",
           "orientation": "v",
           "showlegend": true,
           "type": "scatter",
           "x": {
            "bdata": "AAAAgO4bZEE=",
            "dtype": "f8"
           },
           "xaxis": "x",
           "y": {
            "bdata": "UrgehevxQUA=",
            "dtype": "f8"
           },
           "yaxis": "y"
          },
          {
           "hovertemplate": "country=Romania<br>year=2007<br>population=%{x}<br>value_kg=%{marker.size}<extra></extra>",
           "legendgroup": "Romania",
           "marker": {
            "color": "#B6E880",
            "size": {
             "bdata": "uB6F61H4MUA=",
             "dtype": "f8"
            },
            "sizemode": "area",
            "sizeref": 0.182375,
            "symbol": "circle"
           },
           "mode": "markers",
           "name": "Romania",
           "orientation": "v",
           "showlegend": true,
           "type": "scatter",
           "x": {
            "bdata": "AAAAYGLqc0E=",
            "dtype": "f8"
           },
           "xaxis": "x",
           "y": {
            "bdata": "uB6F61H4MUA=",
            "dtype": "f8"
           },
           "yaxis": "y"
          },
          {
           "hovertemplate": "country=Sweden<br>year=2007<br>population=%{x}<br>value_kg=%{marker.size}<extra></extra>",
           "legendgroup": "Sweden",
           "marker": {
            "color": "#FF97FF",
            "size": {
             "bdata": "KVyPwvXoNEA=",
             "dtype": "f8"
            },
            "sizemode": "area",
            "sizeref": 0.182375,
            "symbol": "circle"
           },
           "mode": "markers",
           "name": "Sweden",
           "orientation": "v",
           "showlegend": true,
           "type": "scatter",
           "x": {
            "bdata": "AAAAgNdyYUE=",
            "dtype": "f8"
           },
           "xaxis": "x",
           "y": {
            "bdata": "KVyPwvXoNEA=",
            "dtype": "f8"
           },
           "yaxis": "y"
          },
          {
           "hovertemplate": "country=Slovenia<br>year=2007<br>population=%{x}<br>value_kg=%{marker.size}<extra></extra>",
           "legendgroup": "Slovenia",
           "marker": {
            "color": "#FECB52",
            "size": {
             "bdata": "KVyPwvWoNkA=",
             "dtype": "f8"
            },
            "sizemode": "area",
            "sizeref": 0.182375,
            "symbol": "circle"
           },
           "mode": "markers",
           "name": "Slovenia",
           "orientation": "v",
           "showlegend": true,
           "type": "scatter",
           "x": {
            "bdata": "AAAAAErLPkE=",
            "dtype": "f8"
           },
           "xaxis": "x",
           "y": {
            "bdata": "KVyPwvWoNkA=",
            "dtype": "f8"
           },
           "yaxis": "y"
          },
          {
           "hovertemplate": "country=Slovakia<br>year=2007<br>population=%{x}<br>value_kg=%{marker.size}<extra></extra>",
           "legendgroup": "Slovakia",
           "marker": {
            "color": "#636efa",
            "size": {
             "bdata": "7FG4HoXrK0A=",
             "dtype": "f8"
            },
            "sizemode": "area",
            "sizeref": 0.182375,
            "symbol": "circle"
           },
           "mode": "markers",
           "name": "Slovakia",
           "orientation": "v",
           "showlegend": true,
           "type": "scatter",
           "x": {
            "bdata": "AAAAgKeAVEE=",
            "dtype": "f8"
           },
           "xaxis": "x",
           "y": {
            "bdata": "7FG4HoXrK0A=",
            "dtype": "f8"
           },
           "yaxis": "y"
          }
         ],
         "name": "2007"
        },
        {
         "data": [
          {
           "hovertemplate": "country=Austria<br>year=2008<br>population=%{x}<br>value_kg=%{marker.size}<extra></extra>",
           "legendgroup": "Austria",
           "marker": {
            "color": "#636efa",
            "size": {
             "bdata": "exSuR+E6PkA=",
             "dtype": "f8"
            },
            "sizemode": "area",
            "sizeref": 0.182375,
            "symbol": "circle"
           },
           "mode": "markers",
           "name": "Austria",
           "orientation": "v",
           "showlegend": true,
           "type": "scatter",
           "x": {
            "bdata": "AAAAAHa+X0E=",
            "dtype": "f8"
           },
           "xaxis": "x",
           "y": {
            "bdata": "exSuR+E6PkA=",
            "dtype": "f8"
           },
           "yaxis": "y"
          },
          {
           "hovertemplate": "country=Belgium<br>year=2008<br>population=%{x}<br>value_kg=%{marker.size}<extra></extra>",
           "legendgroup": "Belgium",
           "marker": {
            "color": "#EF553B",
            "size": {
             "bdata": "KVyPwvUoPEA=",
             "dtype": "f8"
            },
            "sizemode": "area",
            "sizeref": 0.182375,
            "symbol": "circle"
           },
           "mode": "markers",
           "name": "Belgium",
           "orientation": "v",
           "showlegend": true,
           "type": "scatter",
           "x": {
            "bdata": "AAAAoHptZEE=",
            "dtype": "f8"
           },
           "xaxis": "x",
           "y": {
            "bdata": "KVyPwvUoPEA=",
            "dtype": "f8"
           },
           "yaxis": "y"
          },
          {
           "hovertemplate": "country=Bulgaria<br>year=2008<br>population=%{x}<br>value_kg=%{marker.size}<extra></extra>",
           "legendgroup": "Bulgaria",
           "marker": {
            "color": "#00cc96",
            "size": {
             "bdata": "PQrXo3C9JEA=",
             "dtype": "f8"
            },
            "sizemode": "area",
            "sizeref": 0.182375,
            "symbol": "circle"
           },
           "mode": "markers",
           "name": "Bulgaria",
           "orientation": "v",
           "showlegend": true,
           "type": "scatter",
           "x": {
            "bdata": "AAAAQPSUXEE=",
            "dtype": "f8"
           },
           "xaxis": "x",
           "y": {
            "bdata": "PQrXo3C9JEA=",
            "dtype": "f8"
           },
           "yaxis": "y"
          },
          {
           "hovertemplate": "country=Cyprus<br>year=2008<br>population=%{x}<br>value_kg=%{marker.size}<extra></extra>",
           "legendgroup": "Cyprus",
           "marker": {
            "color": "#ab63fa",
            "size": {
             "bdata": "XI/C9SgcNUA=",
             "dtype": "f8"
            },
            "sizemode": "area",
            "sizeref": 0.182375,
            "symbol": "circle"
           },
           "mode": "markers",
           "name": "Cyprus",
           "orientation": "v",
           "showlegend": true,
           "type": "scatter",
           "x": {
            "bdata": "AAAAAJABKEE=",
            "dtype": "f8"
           },
           "xaxis": "x",
           "y": {
            "bdata": "XI/C9SgcNUA=",
            "dtype": "f8"
           },
           "yaxis": "y"
          },
          {
           "hovertemplate": "country=Czechia<br>year=2008<br>population=%{x}<br>value_kg=%{marker.size}<extra></extra>",
           "legendgroup": "Czechia",
           "marker": {
            "color": "#FFA15A",
            "size": {
             "bdata": "UrgehevRNEA=",
             "dtype": "f8"
            },
            "sizemode": "area",
            "sizeref": 0.182375,
            "symbol": "circle"
           },
           "mode": "markers",
           "name": "Czechia",
           "orientation": "v",
           "showlegend": true,
           "type": "scatter",
           "x": {
            "bdata": "AAAAYJvOY0E=",
            "dtype": "f8"
           },
           "xaxis": "x",
           "y": {
            "bdata": "UrgehevRNEA=",
            "dtype": "f8"
           },
           "yaxis": "y"
          },
          {
           "hovertemplate": "country=Germany<br>year=2008<br>population=%{x}<br>value_kg=%{marker.size}<extra></extra>",
           "legendgroup": "Germany",
           "marker": {
            "color": "#19d3f3",
            "size": {
             "bdata": "pHA9CtejQEA=",
             "dtype": "f8"
            },
            "sizemode": "area",
            "sizeref": 0.182375,
            "symbol": "circle"
           },
           "mode": "markers",
           "name": "Germany",
           "orientation": "v",
           "showlegend": true,
           "type": "scatter",
           "x": {
            "bdata": "AAAARJqTk0E=",
            "dtype": "f8"
           },
           "xaxis": "x",
           "y": {
            "bdata": "pHA9CtejQEA=",
            "dtype": "f8"
           },
           "yaxis": "y"
          },
          {
           "hovertemplate": "country=Denmark<br>year=2008<br>population=%{x}<br>value_kg=%{marker.size}<extra></extra>",
           "legendgroup": "Denmark",
           "marker": {
            "color": "#FF6692",
            "size": {
             "bdata": "w/UoXI8CPkA=",
             "dtype": "f8"
            },
            "sizemode": "area",
            "sizeref": 0.182375,
            "symbol": "circle"
           },
           "mode": "markers",
           "name": "Denmark",
           "orientation": "v",
           "showlegend": true,
           "type": "scatter",
           "x": {
            "bdata": "AAAAQN30VEE=",
            "dtype": "f8"
           },
           "xaxis": "x",
           "y": {
            "bdata": "w/UoXI8CPkA=",
            "dtype": "f8"
           },
           "yaxis": "y"
          },
          {
           "hovertemplate": "country=Estonia<br>year=2008<br>population=%{x}<br>value_kg=%{marker.size}<extra></extra>",
           "legendgroup": "Estonia",
           "marker": {
            "color": "#B6E880",
            "size": {
             "bdata": "XI/C9SjcSkA=",
             "dtype": "f8"
            },
            "sizemode": "area",
            "sizeref": 0.182375,
            "symbol": "circle"
           },
           "mode": "markers",
           "name": "Estonia",
           "orientation": "v",
           "showlegend": true,
           "type": "scatter",
           "x": {
            "bdata": "AAAAAAJnNEE=",
            "dtype": "f8"
           },
           "xaxis": "x",
           "y": {
            "bdata": "XI/C9SjcSkA=",
            "dtype": "f8"
           },
           "yaxis": "y"
          },
          {
           "hovertemplate": "country=Greece<br>year=2008<br>population=%{x}<br>value_kg=%{marker.size}<extra></extra>",
           "legendgroup": "Greece",
           "marker": {
            "color": "#FF97FF",
            "size": {
             "bdata": "KVyPwvWoNUA=",
             "dtype": "f8"
            },
            "sizemode": "area",
            "sizeref": 0.182375,
            "symbol": "circle"
           },
           "mode": "markers",
           "name": "Greece",
           "orientation": "v",
           "showlegend": true,
           "type": "scatter",
           "x": {
            "bdata": "AAAAIBohZUE=",
            "dtype": "f8"
           },
           "xaxis": "x",
           "y": {
            "bdata": "KVyPwvWoNUA=",
            "dtype": "f8"
           },
           "yaxis": "y"
          },
          {
           "hovertemplate": "country=Spain<br>year=2008<br>population=%{x}<br>value_kg=%{marker.size}<extra></extra>",
           "legendgroup": "Spain",
           "marker": {
            "color": "#FECB52",
            "size": {
             "bdata": "H4XrUbg+QUA=",
             "dtype": "f8"
            },
            "sizemode": "area",
            "sizeref": 0.182375,
            "symbol": "circle"
           },
           "mode": "markers",
           "name": "Spain",
           "orientation": "v",
           "showlegend": true,
           "type": "scatter",
           "x": {
            "bdata": "AAAA0KHphUE=",
            "dtype": "f8"
           },
           "xaxis": "x",
           "y": {
            "bdata": "H4XrUbg+QUA=",
            "dtype": "f8"
           },
           "yaxis": "y"
          },
          {
           "hovertemplate": "country=European Union - 27 countries (from 2020)<br>year=2008<br>population=%{x}<br>value_kg=%{marker.size}<extra></extra>",
           "legendgroup": "European Union - 27 countries (from 2020)",
           "marker": {
            "color": "#636efa",
            "size": {
             "bdata": "rkfhehQuPUA=",
             "dtype": "f8"
            },
            "sizemode": "area",
            "sizeref": 0.182375,
            "symbol": "circle"
           },
           "mode": "markers",
           "name": "European Union - 27 countries (from 2020)",
           "orientation": "v",
           "showlegend": true,
           "type": "scatter",
           "x": {
            "bdata": "AAAA0V82ukE=",
            "dtype": "f8"
           },
           "xaxis": "x",
           "y": {
            "bdata": "rkfhehQuPUA=",
            "dtype": "f8"
           },
           "yaxis": "y"
          },
          {
           "hovertemplate": "country=Finland<br>year=2008<br>population=%{x}<br>value_kg=%{marker.size}<extra></extra>",
           "legendgroup": "Finland",
           "marker": {
            "color": "#EF553B",
            "size": {
             "bdata": "9ihcj8K1NUA=",
             "dtype": "f8"
            },
            "sizemode": "area",
            "sizeref": 0.182375,
            "symbol": "circle"
           },
           "mode": "markers",
           "name": "Finland",
           "orientation": "v",
           "showlegend": true,
           "type": "scatter",
           "x": {
            "bdata": "AAAAwN1EVEE=",
            "dtype": "f8"
           },
           "xaxis": "x",
           "y": {
            "bdata": "9ihcj8K1NUA=",
            "dtype": "f8"
           },
           "yaxis": "y"
          },
          {
           "hovertemplate": "country=France<br>year=2008<br>population=%{x}<br>value_kg=%{marker.size}<extra></extra>",
           "legendgroup": "France",
           "marker": {
            "color": "#00cc96",
            "size": {
             "bdata": "pHA9CtfjP0A=",
             "dtype": "f8"
            },
            "sizemode": "area",
            "sizeref": 0.182375,
            "symbol": "circle"
           },
           "mode": "markers",
           "name": "France",
           "orientation": "v",
           "showlegend": true,
           "type": "scatter",
           "x": {
            "bdata": "AAAAsFCajkE=",
            "dtype": "f8"
           },
           "xaxis": "x",
           "y": {
            "bdata": "pHA9CtfjP0A=",
            "dtype": "f8"
           },
           "yaxis": "y"
          },
          {
           "hovertemplate": "country=Hungary<br>year=2008<br>population=%{x}<br>value_kg=%{marker.size}<extra></extra>",
           "legendgroup": "Hungary",
           "marker": {
            "color": "#FFA15A",
            "size": {
             "bdata": "cT0K16NwNUA=",
             "dtype": "f8"
            },
            "sizemode": "area",
            "sizeref": 0.182375,
            "symbol": "circle"
           },
           "mode": "markers",
           "name": "Hungary",
           "orientation": "v",
           "showlegend": true,
           "type": "scatter",
           "x": {
            "bdata": "AAAAgHUlY0E=",
            "dtype": "f8"
           },
           "xaxis": "x",
           "y": {
            "bdata": "cT0K16NwNUA=",
            "dtype": "f8"
           },
           "yaxis": "y"
          },
          {
           "hovertemplate": "country=Ireland<br>year=2008<br>population=%{x}<br>value_kg=%{marker.size}<extra></extra>",
           "legendgroup": "Ireland",
           "marker": {
            "color": "#19d3f3",
            "size": {
             "bdata": "AAAAAACgS0A=",
             "dtype": "f8"
            },
            "sizemode": "area",
            "sizeref": 0.182375,
            "symbol": "circle"
           },
           "mode": "markers",
           "name": "Ireland",
           "orientation": "v",
           "showlegend": true,
           "type": "scatter",
           "x": {
            "bdata": "AAAAAFIgUUE=",
            "dtype": "f8"
           },
           "xaxis": "x",
           "y": {
            "bdata": "AAAAAACgS0A=",
            "dtype": "f8"
           },
           "yaxis": "y"
          },
          {
           "hovertemplate": "country=Italy<br>year=2008<br>population=%{x}<br>value_kg=%{marker.size}<extra></extra>",
           "legendgroup": "Italy",
           "marker": {
            "color": "#B6E880",
            "size": {
             "bdata": "H4XrUbieQkA=",
             "dtype": "f8"
            },
            "sizemode": "area",
            "sizeref": 0.182375,
            "symbol": "circle"
           },
           "mode": "markers",
           "name": "Italy",
           "orientation": "v",
           "showlegend": true,
           "type": "scatter",
           "x": {
            "bdata": "AAAAaO07jEE=",
            "dtype": "f8"
           },
           "xaxis": "x",
           "y": {
            "bdata": "H4XrUbieQkA=",
            "dtype": "f8"
           },
           "yaxis": "y"
          },
          {
           "hovertemplate": "country=Liechtenstein<br>year=2008<br>population=%{x}<br>value_kg=%{marker.size}<extra></extra>",
           "legendgroup": "Liechtenstein",
           "marker": {
            "color": "#FF97FF",
            "size": {
             "bdata": "4XoUrkfhMkA=",
             "dtype": "f8"
            },
            "sizemode": "area",
            "sizeref": 0.182375,
            "symbol": "circle"
           },
           "mode": "markers",
           "name": "Liechtenstein",
           "orientation": "v",
           "showlegend": true,
           "type": "scatter",
           "x": {
            "bdata": "AAAAACBS4UA=",
            "dtype": "f8"
           },
           "xaxis": "x",
           "y": {
            "bdata": "4XoUrkfhMkA=",
            "dtype": "f8"
           },
           "yaxis": "y"
          },
          {
           "hovertemplate": "country=Lithuania<br>year=2008<br>population=%{x}<br>value_kg=%{marker.size}<extra></extra>",
           "legendgroup": "Lithuania",
           "marker": {
            "color": "#FECB52",
            "size": {
             "bdata": "MzMzMzPzM0A=",
             "dtype": "f8"
            },
            "sizemode": "area",
            "sizeref": 0.182375,
            "symbol": "circle"
           },
           "mode": "markers",
           "name": "Lithuania",
           "orientation": "v",
           "showlegend": true,
           "type": "scatter",
           "x": {
            "bdata": "AAAAgItmSEE=",
            "dtype": "f8"
           },
           "xaxis": "x",
           "y": {
            "bdata": "MzMzMzPzM0A=",
            "dtype": "f8"
           },
           "yaxis": "y"
          },
          {
           "hovertemplate": "country=Luxembourg<br>year=2008<br>population=%{x}<br>value_kg=%{marker.size}<extra></extra>",
           "legendgroup": "Luxembourg",
           "marker": {
            "color": "#636efa",
            "size": {
             "bdata": "XI/C9Sg8RkA=",
             "dtype": "f8"
            },
            "sizemode": "area",
            "sizeref": 0.182375,
            "symbol": "circle"
           },
           "mode": "markers",
           "name": "Luxembourg",
           "orientation": "v",
           "showlegend": true,
           "type": "scatter",
           "x": {
            "bdata": "AAAAACjTHUE=",
            "dtype": "f8"
           },
           "xaxis": "x",
           "y": {
            "bdata": "XI/C9Sg8RkA=",
            "dtype": "f8"
           },
           "yaxis": "y"
          },
          {
           "hovertemplate": "country=Latvia<br>year=2008<br>population=%{x}<br>value_kg=%{marker.size}<extra></extra>",
           "legendgroup": "Latvia",
           "marker": {
            "color": "#EF553B",
            "size": {
             "bdata": "KVyPwvWoMUA=",
             "dtype": "f8"
            },
            "sizemode": "area",
            "sizeref": 0.182375,
            "symbol": "circle"
           },
           "mode": "markers",
           "name": "Latvia",
           "orientation": "v",
           "showlegend": true,
           "type": "scatter",
           "x": {
            "bdata": "AAAAAJWcQEE=",
            "dtype": "f8"
           },
           "xaxis": "x",
           "y": {
            "bdata": "KVyPwvWoMUA=",
            "dtype": "f8"
           },
           "yaxis": "y"
          },
          {
           "hovertemplate": "country=Malta<br>year=2008<br>population=%{x}<br>value_kg=%{marker.size}<extra></extra>",
           "legendgroup": "Malta",
           "marker": {
            "color": "#00cc96",
            "size": {
             "bdata": "ZmZmZmamQUA=",
             "dtype": "f8"
            },
            "sizemode": "area",
            "sizeref": 0.182375,
            "symbol": "circle"
           },
           "mode": "markers",
           "name": "Malta",
           "orientation": "v",
           "showlegend": true,
           "type": "scatter",
           "x": {
            "bdata": "AAAAAIz8GEE=",
            "dtype": "f8"
           },
           "xaxis": "x",
           "y": {
            "bdata": "ZmZmZmamQUA=",
            "dtype": "f8"
           },
           "yaxis": "y"
          },
          {
           "hovertemplate": "country=Netherlands<br>year=2008<br>population=%{x}<br>value_kg=%{marker.size}<extra></extra>",
           "legendgroup": "Netherlands",
           "marker": {
            "color": "#ab63fa",
            "size": {
             "bdata": "4XoUrkfhOkA=",
             "dtype": "f8"
            },
            "sizemode": "area",
            "sizeref": 0.182375,
            "symbol": "circle"
           },
           "mode": "markers",
           "name": "Netherlands",
           "orientation": "v",
           "showlegend": true,
           "type": "scatter",
           "x": {
            "bdata": "AAAAIBNeb0E=",
            "dtype": "f8"
           },
           "xaxis": "x",
           "y": {
            "bdata": "4XoUrkfhOkA=",
            "dtype": "f8"
           },
           "yaxis": "y"
          },
          {
           "hovertemplate": "country=Norway<br>year=2008<br>population=%{x}<br>value_kg=%{marker.size}<extra></extra>",
           "legendgroup": "Norway",
           "marker": {
            "color": "#FFA15A",
            "size": {
             "bdata": "UrgeheuRPUA=",
             "dtype": "f8"
            },
            "sizemode": "area",
            "sizeref": 0.182375,
            "symbol": "circle"
           },
           "mode": "markers",
           "name": "Norway",
           "orientation": "v",
           "showlegend": true,
           "type": "scatter",
           "x": {
            "bdata": "AAAAAHUwUkE=",
            "dtype": "f8"
           },
           "xaxis": "x",
           "y": {
            "bdata": "UrgeheuRPUA=",
            "dtype": "f8"
           },
           "yaxis": "y"
          },
          {
           "hovertemplate": "country=Poland<br>year=2008<br>population=%{x}<br>value_kg=%{marker.size}<extra></extra>",
           "legendgroup": "Poland",
           "marker": {
            "color": "#19d3f3",
            "size": {
             "bdata": "UrgeheuRMUA=",
             "dtype": "f8"
            },
            "sizemode": "area",
            "sizeref": 0.182375,
            "symbol": "circle"
           },
           "mode": "markers",
           "name": "Poland",
           "orientation": "v",
           "showlegend": true,
           "type": "scatter",
           "x": {
            "bdata": "AAAA+AUugkE=",
            "dtype": "f8"
           },
           "xaxis": "x",
           "y": {
            "bdata": "UrgeheuRMUA=",
            "dtype": "f8"
           },
           "yaxis": "y"
          },
          {
           "hovertemplate": "country=Portugal<br>year=2008<br>population=%{x}<br>value_kg=%{marker.size}<extra></extra>",
           "legendgroup": "Portugal",
           "marker": {
            "color": "#FF6692",
            "size": {
             "bdata": "H4XrUbheQkA=",
             "dtype": "f8"
            },
            "sizemode": "area",
            "sizeref": 0.182375,
            "symbol": "circle"
           },
           "mode": "markers",
           "name": "Portugal",
           "orientation": "v",
           "showlegend": true,
           "type": "scatter",
           "x": {
            "bdata": "AAAAIFwjZEE=",
            "dtype": "f8"
           },
           "xaxis": "x",
           "y": {
            "bdata": "H4XrUbheQkA=",
            "dtype": "f8"
           },
           "yaxis": "y"
          },
          {
           "hovertemplate": "country=Romania<br>year=2008<br>population=%{x}<br>value_kg=%{marker.size}<extra></extra>",
           "legendgroup": "Romania",
           "marker": {
            "color": "#B6E880",
            "size": {
             "bdata": "cT0K16MwMEA=",
             "dtype": "f8"
            },
            "sizemode": "area",
            "sizeref": 0.182375,
            "symbol": "circle"
           },
           "mode": "markers",
           "name": "Romania",
           "orientation": "v",
           "showlegend": true,
           "type": "scatter",
           "x": {
            "bdata": "AAAAMCGWc0E=",
            "dtype": "f8"
           },
           "xaxis": "x",
           "y": {
            "bdata": "cT0K16MwMEA=",
            "dtype": "f8"
           },
           "yaxis": "y"
          },
          {
           "hovertemplate": "country=Sweden<br>year=2008<br>population=%{x}<br>value_kg=%{marker.size}<extra></extra>",
           "legendgroup": "Sweden",
           "marker": {
            "color": "#FF97FF",
            "size": {
             "bdata": "MzMzMzPzNEA=",
             "dtype": "f8"
            },
            "sizemode": "area",
            "sizeref": 0.182375,
            "symbol": "circle"
           },
           "mode": "markers",
           "name": "Sweden",
           "orientation": "v",
           "showlegend": true,
           "type": "scatter",
           "x": {
            "bdata": "AAAAoMaVYUE=",
            "dtype": "f8"
           },
           "xaxis": "x",
           "y": {
            "bdata": "MzMzMzPzNEA=",
            "dtype": "f8"
           },
           "yaxis": "y"
          },
          {
           "hovertemplate": "country=Slovenia<br>year=2008<br>population=%{x}<br>value_kg=%{marker.size}<extra></extra>",
           "legendgroup": "Slovenia",
           "marker": {
            "color": "#FECB52",
            "size": {
             "bdata": "cT0K16OwN0A=",
             "dtype": "f8"
            },
            "sizemode": "area",
            "sizeref": 0.182375,
            "symbol": "circle"
           },
           "mode": "markers",
           "name": "Slovenia",
           "orientation": "v",
           "showlegend": true,
           "type": "scatter",
           "x": {
            "bdata": "AAAAAMTXPkE=",
            "dtype": "f8"
           },
           "xaxis": "x",
           "y": {
            "bdata": "cT0K16OwN0A=",
            "dtype": "f8"
           },
           "yaxis": "y"
          },
          {
           "hovertemplate": "country=Slovakia<br>year=2008<br>population=%{x}<br>value_kg=%{marker.size}<extra></extra>",
           "legendgroup": "Slovakia",
           "marker": {
            "color": "#636efa",
            "size": {
             "bdata": "SOF6FK5HLkA=",
             "dtype": "f8"
            },
            "sizemode": "area",
            "sizeref": 0.182375,
            "symbol": "circle"
           },
           "mode": "markers",
           "name": "Slovakia",
           "orientation": "v",
           "showlegend": true,
           "type": "scatter",
           "x": {
            "bdata": "AAAAQCiFVEE=",
            "dtype": "f8"
           },
           "xaxis": "x",
           "y": {
            "bdata": "SOF6FK5HLkA=",
            "dtype": "f8"
           },
           "yaxis": "y"
          }
         ],
         "name": "2008"
        },
        {
         "data": [
          {
           "hovertemplate": "country=Austria<br>year=2009<br>population=%{x}<br>value_kg=%{marker.size}<extra></extra>",
           "legendgroup": "Austria",
           "marker": {
            "color": "#636efa",
            "size": {
             "bdata": "KVyPwvWoPkA=",
             "dtype": "f8"
            },
            "sizemode": "area",
            "sizeref": 0.182375,
            "symbol": "circle"
           },
           "mode": "markers",
           "name": "Austria",
           "orientation": "v",
           "showlegend": true,
           "type": "scatter",
           "x": {
            "bdata": "AAAAwMbTX0E=",
            "dtype": "f8"
           },
           "xaxis": "x",
           "y": {
            "bdata": "KVyPwvWoPkA=",
            "dtype": "f8"
           },
           "yaxis": "y"
          },
          {
           "hovertemplate": "country=Belgium<br>year=2009<br>population=%{x}<br>value_kg=%{marker.size}<extra></extra>",
           "legendgroup": "Belgium",
           "marker": {
            "color": "#EF553B",
            "size": {
             "bdata": "XI/C9SgcPEA=",
             "dtype": "f8"
            },
            "sizemode": "area",
            "sizeref": 0.182375,
            "symbol": "circle"
           },
           "mode": "markers",
           "name": "Belgium",
           "orientation": "v",
           "showlegend": true,
           "type": "scatter",
           "x": {
            "bdata": "AAAAoLmXZEE=",
            "dtype": "f8"
           },
           "xaxis": "x",
           "y": {
            "bdata": "XI/C9SgcPEA=",
            "dtype": "f8"
           },
           "yaxis": "y"
          },
          {
           "hovertemplate": "country=Bulgaria<br>year=2009<br>population=%{x}<br>value_kg=%{marker.size}<extra></extra>",
           "legendgroup": "Bulgaria",
           "marker": {
            "color": "#00cc96",
            "size": {
             "bdata": "pHA9CtejKUA=",
             "dtype": "f8"
            },
            "sizemode": "area",
            "sizeref": 0.182375,
            "symbol": "circle"
           },
           "mode": "markers",
           "name": "Bulgaria",
           "orientation": "v",
           "showlegend": true,
           "type": "scatter",
           "x": {
            "bdata": "AAAAwPZlXEE=",
            "dtype": "f8"
           },
           "xaxis": "x",
           "y": {
            "bdata": "pHA9CtejKUA=",
            "dtype": "f8"
           },
           "yaxis": "y"
          },
          {
           "hovertemplate": "country=Cyprus<br>year=2009<br>population=%{x}<br>value_kg=%{marker.size}<extra></extra>",
           "legendgroup": "Cyprus",
           "marker": {
            "color": "#ab63fa",
            "size": {
             "bdata": "exSuR+F6M0A=",
             "dtype": "f8"
            },
            "sizemode": "area",
            "sizeref": 0.182375,
            "symbol": "circle"
           },
           "mode": "markers",
           "name": "Cyprus",
           "orientation": "v",
           "showlegend": true,
           "type": "scatter",
           "x": {
            "bdata": "AAAAAMaoKEE=",
            "dtype": "f8"
           },
           "xaxis": "x",
           "y": {
            "bdata": "exSuR+F6M0A=",
            "dtype": "f8"
           },
           "yaxis": "y"
          },
          {
           "hovertemplate": "country=Czechia<br>year=2009<br>population=%{x}<br>value_kg=%{marker.size}<extra></extra>",
           "legendgroup": "Czechia",
           "marker": {
            "color": "#FFA15A",
            "size": {
             "bdata": "PQrXo3D9M0A=",
             "dtype": "f8"
            },
            "sizemode": "area",
            "sizeref": 0.182375,
            "symbol": "circle"
           },
           "mode": "markers",
           "name": "Czechia",
           "orientation": "v",
           "showlegend": true,
           "type": "scatter",
           "x": {
            "bdata": "AAAAAJTrY0E=",
            "dtype": "f8"
           },
           "xaxis": "x",
           "y": {
            "bdata": "PQrXo3D9M0A=",
            "dtype": "f8"
           },
           "yaxis": "y"
          },
          {
           "hovertemplate": "country=Germany<br>year=2009<br>population=%{x}<br>value_kg=%{marker.size}<extra></extra>",
           "legendgroup": "Germany",
           "marker": {
            "color": "#19d3f3",
            "size": {
             "bdata": "AAAAAAAAQEA=",
             "dtype": "f8"
            },
            "sizemode": "area",
            "sizeref": 0.182375,
            "symbol": "circle"
           },
           "mode": "markers",
           "name": "Germany",
           "orientation": "v",
           "showlegend": true,
           "type": "scatter",
           "x": {
            "bdata": "AAAAjOuGk0E=",
            "dtype": "f8"
           },
           "xaxis": "x",
           "y": {
            "bdata": "AAAAAAAAQEA=",
            "dtype": "f8"
           },
           "yaxis": "y"
          },
          {
           "hovertemplate": "country=Denmark<br>year=2009<br>population=%{x}<br>value_kg=%{marker.size}<extra></extra>",
           "legendgroup": "Denmark",
           "marker": {
            "color": "#FF6692",
            "size": {
             "bdata": "9ihcj8L1PUA=",
             "dtype": "f8"
            },
            "sizemode": "area",
            "sizeref": 0.182375,
            "symbol": "circle"
           },
           "mode": "markers",
           "name": "Denmark",
           "orientation": "v",
           "showlegend": true,
           "type": "scatter",
           "x": {
            "bdata": "AAAAwKURVUE=",
            "dtype": "f8"
           },
           "xaxis": "x",
           "y": {
            "bdata": "9ihcj8L1PUA=",
            "dtype": "f8"
           },
           "yaxis": "y"
          },
          {
           "hovertemplate": "country=Estonia<br>year=2009<br>population=%{x}<br>value_kg=%{marker.size}<extra></extra>",
           "legendgroup": "Estonia",
           "marker": {
            "color": "#B6E880",
            "size": {
             "bdata": "9ihcj8K1Q0A=",
             "dtype": "f8"
            },
            "sizemode": "area",
            "sizeref": 0.182375,
            "symbol": "circle"
           },
           "mode": "markers",
           "name": "Estonia",
           "orientation": "v",
           "showlegend": true,
           "type": "scatter",
           "x": {
            "bdata": "AAAAAPNcNEE=",
            "dtype": "f8"
           },
           "xaxis": "x",
           "y": {
            "bdata": "9ihcj8K1Q0A=",
            "dtype": "f8"
           },
           "yaxis": "y"
          },
          {
           "hovertemplate": "country=Greece<br>year=2009<br>population=%{x}<br>value_kg=%{marker.size}<extra></extra>",
           "legendgroup": "Greece",
           "marker": {
            "color": "#FF97FF",
            "size": {
             "bdata": "16NwPQpXNUA=",
             "dtype": "f8"
            },
            "sizemode": "area",
            "sizeref": 0.182375,
            "symbol": "circle"
           },
           "mode": "markers",
           "name": "Greece",
           "orientation": "v",
           "showlegend": true,
           "type": "scatter",
           "x": {
            "bdata": "AAAAIFkvZUE=",
            "dtype": "f8"
           },
           "xaxis": "x",
           "y": {
            "bdata": "16NwPQpXNUA=",
            "dtype": "f8"
           },
           "yaxis": "y"
          },
          {
           "hovertemplate": "country=Spain<br>year=2009<br>population=%{x}<br>value_kg=%{marker.size}<extra></extra>",
           "legendgroup": "Spain",
           "marker": {
            "color": "#FECB52",
            "size": {
             "bdata": "H4XrUbgeP0A=",
             "dtype": "f8"
            },
            "sizemode": "area",
            "sizeref": 0.182375,
            "symbol": "circle"
           },
           "mode": "markers",
           "name": "Spain",
           "orientation": "v",
           "showlegend": true,
           "type": "scatter",
           "x": {
            "bdata": "AAAAEIobhkE=",
            "dtype": "f8"
           },
           "xaxis": "x",
           "y": {
            "bdata": "H4XrUbgeP0A=",
            "dtype": "f8"
           },
           "yaxis": "y"
          },
          {
           "hovertemplate": "country=European Union - 27 countries (from 2020)<br>year=2009<br>population=%{x}<br>value_kg=%{marker.size}<extra></extra>",
           "legendgroup": "European Union - 27 countries (from 2020)",
           "marker": {
            "color": "#636efa",
            "size": {
             "bdata": "7FG4HoWrO0A=",
             "dtype": "f8"
            },
            "sizemode": "area",
            "sizeref": 0.182375,
            "symbol": "circle"
           },
           "mode": "markers",
           "name": "European Union - 27 countries (from 2020)",
           "orientation": "v",
           "showlegend": true,
           "type": "scatter",
           "x": {
            "bdata": "AAAAzGRHukE=",
            "dtype": "f8"
           },
           "xaxis": "x",
           "y": {
            "bdata": "7FG4HoWrO0A=",
            "dtype": "f8"
           },
           "yaxis": "y"
          },
          {
           "hovertemplate": "country=Finland<br>year=2009<br>population=%{x}<br>value_kg=%{marker.size}<extra></extra>",
           "legendgroup": "Finland",
           "marker": {
            "color": "#EF553B",
            "size": {
             "bdata": "CtejcD0KNUA=",
             "dtype": "f8"
            },
            "sizemode": "area",
            "sizeref": 0.182375,
            "symbol": "circle"
           },
           "mode": "markers",
           "name": "Finland",
           "orientation": "v",
           "showlegend": true,
           "type": "scatter",
           "x": {
            "bdata": "AAAAwL1dVEE=",
            "dtype": "f8"
           },
           "xaxis": "x",
           "y": {
            "bdata": "CtejcD0KNUA=",
            "dtype": "f8"
           },
           "yaxis": "y"
          },
          {
           "hovertemplate": "country=France<br>year=2009<br>population=%{x}<br>value_kg=%{marker.size}<extra></extra>",
           "legendgroup": "France",
           "marker": {
            "color": "#00cc96",
            "size": {
             "bdata": "mpmZmZkZPUA=",
             "dtype": "f8"
            },
            "sizemode": "area",
            "sizeref": 0.182375,
            "symbol": "circle"
           },
           "mode": "markers",
           "name": "France",
           "orientation": "v",
           "showlegend": true,
           "type": "scatter",
           "x": {
            "bdata": "AAAA6BbCjkE=",
            "dtype": "f8"
           },
           "xaxis": "x",
           "y": {
            "bdata": "mpmZmZkZPUA=",
            "dtype": "f8"
           },
           "yaxis": "y"
          },
          {
           "hovertemplate": "country=Hungary<br>year=2009<br>population=%{x}<br>value_kg=%{marker.size}<extra></extra>",
           "legendgroup": "Hungary",
           "marker": {
            "color": "#FFA15A",
            "size": {
             "bdata": "pHA9CtfjNkA=",
             "dtype": "f8"
            },
            "sizemode": "area",
            "sizeref": 0.182375,
            "symbol": "circle"
           },
           "mode": "markers",
           "name": "Hungary",
           "orientation": "v",
           "showlegend": true,
           "type": "scatter",
           "x": {
            "bdata": "AAAAQN8dY0E=",
            "dtype": "f8"
           },
           "xaxis": "x",
           "y": {
            "bdata": "pHA9CtfjNkA=",
            "dtype": "f8"
           },
           "yaxis": "y"
          },
          {
           "hovertemplate": "country=Ireland<br>year=2009<br>population=%{x}<br>value_kg=%{marker.size}<extra></extra>",
           "legendgroup": "Ireland",
           "marker": {
            "color": "#19d3f3",
            "size": {
             "bdata": "XI/C9Si8SEA=",
             "dtype": "f8"
            },
            "sizemode": "area",
            "sizeref": 0.182375,
            "symbol": "circle"
           },
           "mode": "markers",
           "name": "Ireland",
           "orientation": "v",
           "showlegend": true,
           "type": "scatter",
           "x": {
            "bdata": "AAAAwBNNUUE=",
            "dtype": "f8"
           },
           "xaxis": "x",
           "y": {
            "bdata": "XI/C9Si8SEA=",
            "dtype": "f8"
           },
           "yaxis": "y"
          },
          {
           "hovertemplate": "country=Italy<br>year=2009<br>population=%{x}<br>value_kg=%{marker.size}<extra></extra>",
           "legendgroup": "Italy",
           "marker": {
            "color": "#B6E880",
            "size": {
             "bdata": "cT0K16OQQUA=",
             "dtype": "f8"
            },
            "sizemode": "area",
            "sizeref": 0.182375,
            "symbol": "circle"
           },
           "mode": "markers",
           "name": "Italy",
           "orientation": "v",
           "showlegend": true,
           "type": "scatter",
           "x": {
            "bdata": "AAAA8PNljEE=",
            "dtype": "f8"
           },
           "xaxis": "x",
           "y": {
            "bdata": "cT0K16OQQUA=",
            "dtype": "f8"
           },
           "yaxis": "y"
          },
          {
           "hovertemplate": "country=Liechtenstein<br>year=2009<br>population=%{x}<br>value_kg=%{marker.size}<extra></extra>",
           "legendgroup": "Liechtenstein",
           "marker": {
            "color": "#FF97FF",
            "size": {
             "bdata": "AAAAAADAMkA=",
             "dtype": "f8"
            },
            "sizemode": "area",
            "sizeref": 0.182375,
            "symbol": "circle"
           },
           "mode": "markers",
           "name": "Liechtenstein",
           "orientation": "v",
           "showlegend": true,
           "type": "scatter",
           "x": {
            "bdata": "AAAAAMBz4UA=",
            "dtype": "f8"
           },
           "xaxis": "x",
           "y": {
            "bdata": "AAAAAADAMkA=",
            "dtype": "f8"
           },
           "yaxis": "y"
          },
          {
           "hovertemplate": "country=Lithuania<br>year=2009<br>population=%{x}<br>value_kg=%{marker.size}<extra></extra>",
           "legendgroup": "Lithuania",
           "marker": {
            "color": "#FECB52",
            "size": {
             "bdata": "H4XrUbgeMUA=",
             "dtype": "f8"
            },
            "sizemode": "area",
            "sizeref": 0.182375,
            "symbol": "circle"
           },
           "mode": "markers",
           "name": "Lithuania",
           "orientation": "v",
           "showlegend": true,
           "type": "scatter",
           "x": {
            "bdata": "AAAAAJIhSEE=",
            "dtype": "f8"
           },
           "xaxis": "x",
           "y": {
            "bdata": "H4XrUbgeMUA=",
            "dtype": "f8"
           },
           "yaxis": "y"
          },
          {
           "hovertemplate": "country=Luxembourg<br>year=2009<br>population=%{x}<br>value_kg=%{marker.size}<extra></extra>",
           "legendgroup": "Luxembourg",
           "marker": {
            "color": "#636efa",
            "size": {
             "bdata": "SOF6FK7HREA=",
             "dtype": "f8"
            },
            "sizemode": "area",
            "sizeref": 0.182375,
            "symbol": "circle"
           },
           "mode": "markers",
           "name": "Luxembourg",
           "orientation": "v",
           "showlegend": true,
           "type": "scatter",
           "x": {
            "bdata": "AAAAANxhHkE=",
            "dtype": "f8"
           },
           "xaxis": "x",
           "y": {
            "bdata": "SOF6FK7HREA=",
            "dtype": "f8"
           },
           "yaxis": "y"
          },
          {
           "hovertemplate": "country=Latvia<br>year=2009<br>population=%{x}<br>value_kg=%{marker.size}<extra></extra>",
           "legendgroup": "Latvia",
           "marker": {
            "color": "#EF553B",
            "size": {
             "bdata": "rkfhehQuLUA=",
             "dtype": "f8"
            },
            "sizemode": "area",
            "sizeref": 0.182375,
            "symbol": "circle"
           },
           "mode": "markers",
           "name": "Latvia",
           "orientation": "v",
           "showlegend": true,
           "type": "scatter",
           "x": {
            "bdata": "AAAAgPJWQEE=",
            "dtype": "f8"
           },
           "xaxis": "x",
           "y": {
            "bdata": "rkfhehQuLUA=",
            "dtype": "f8"
           },
           "yaxis": "y"
          },
          {
           "hovertemplate": "country=Malta<br>year=2009<br>population=%{x}<br>value_kg=%{marker.size}<extra></extra>",
           "legendgroup": "Malta",
           "marker": {
            "color": "#00cc96",
            "size": {
             "bdata": "H4XrUbgeQEA=",
             "dtype": "f8"
            },
            "sizemode": "area",
            "sizeref": 0.182375,
            "symbol": "circle"
           },
           "mode": "markers",
           "name": "Malta",
           "orientation": "v",
           "showlegend": true,
           "type": "scatter",
           "x": {
            "bdata": "AAAAAPQsGUE=",
            "dtype": "f8"
           },
           "xaxis": "x",
           "y": {
            "bdata": "H4XrUbgeQEA=",
            "dtype": "f8"
           },
           "yaxis": "y"
          },
          {
           "hovertemplate": "country=Netherlands<br>year=2009<br>population=%{x}<br>value_kg=%{marker.size}<extra></extra>",
           "legendgroup": "Netherlands",
           "marker": {
            "color": "#ab63fa",
            "size": {
             "bdata": "XI/C9SjcOUA=",
             "dtype": "f8"
            },
            "sizemode": "area",
            "sizeref": 0.182375,
            "symbol": "circle"
           },
           "mode": "markers",
           "name": "Netherlands",
           "orientation": "v",
           "showlegend": true,
           "type": "scatter",
           "x": {
            "bdata": "AAAAgHqHb0E=",
            "dtype": "f8"
           },
           "xaxis": "x",
           "y": {
            "bdata": "XI/C9SjcOUA=",
            "dtype": "f8"
           },
           "yaxis": "y"
          },
          {
           "hovertemplate": "country=Norway<br>year=2009<br>population=%{x}<br>value_kg=%{marker.size}<extra></extra>",
           "legendgroup": "Norway",
           "marker": {
            "color": "#FFA15A",
            "size": {
             "bdata": "w/UoXI+CPkA=",
             "dtype": "f8"
            },
            "sizemode": "area",
            "sizeref": 0.182375,
            "symbol": "circle"
           },
           "mode": "markers",
           "name": "Norway",
           "orientation": "v",
           "showlegend": true,
           "type": "scatter",
           "x": {
            "bdata": "AAAAgI1rUkE=",
            "dtype": "f8"
           },
           "xaxis": "x",
           "y": {
            "bdata": "w/UoXI+CPkA=",
            "dtype": "f8"
           },
           "yaxis": "y"
          },
          {
           "hovertemplate": "country=Poland<br>year=2009<br>population=%{x}<br>value_kg=%{marker.size}<extra></extra>",
           "legendgroup": "Poland",
           "marker": {
            "color": "#19d3f3",
            "size": {
             "bdata": "uB6F61F4MUA=",
             "dtype": "f8"
            },
            "sizemode": "area",
            "sizeref": 0.182375,
            "symbol": "circle"
           },
           "mode": "markers",
           "name": "Poland",
           "orientation": "v",
           "showlegend": true,
           "type": "scatter",
           "x": {
            "bdata": "AAAAmC0xgkE=",
            "dtype": "f8"
           },
           "xaxis": "x",
           "y": {
            "bdata": "uB6F61F4MUA=",
            "dtype": "f8"
           },
           "yaxis": "y"
          },
          {
           "hovertemplate": "country=Portugal<br>year=2009<br>population=%{x}<br>value_kg=%{marker.size}<extra></extra>",
           "legendgroup": "Portugal",
           "marker": {
            "color": "#FF6692",
            "size": {
             "bdata": "w/UoXI/iQUA=",
             "dtype": "f8"
            },
            "sizemode": "area",
            "sizeref": 0.182375,
            "symbol": "circle"
           },
           "mode": "markers",
           "name": "Portugal",
           "orientation": "v",
           "showlegend": true,
           "type": "scatter",
           "x": {
            "bdata": "AAAA4EYoZEE=",
            "dtype": "f8"
           },
           "xaxis": "x",
           "y": {
            "bdata": "w/UoXI/iQUA=",
            "dtype": "f8"
           },
           "yaxis": "y"
          },
          {
           "hovertemplate": "country=Romania<br>year=2009<br>population=%{x}<br>value_kg=%{marker.size}<extra></extra>",
           "legendgroup": "Romania",
           "marker": {
            "color": "#B6E880",
            "size": {
             "bdata": "16NwPQrXLEA=",
             "dtype": "f8"
            },
            "sizemode": "area",
            "sizeref": 0.182375,
            "symbol": "circle"
           },
           "mode": "markers",
           "name": "Romania",
           "orientation": "v",
           "showlegend": true,
           "type": "scatter",
           "x": {
            "bdata": "AAAA8Idsc0E=",
            "dtype": "f8"
           },
           "xaxis": "x",
           "y": {
            "bdata": "16NwPQrXLEA=",
            "dtype": "f8"
           },
           "yaxis": "y"
          },
          {
           "hovertemplate": "country=Sweden<br>year=2009<br>population=%{x}<br>value_kg=%{marker.size}<extra></extra>",
           "legendgroup": "Sweden",
           "marker": {
            "color": "#FF97FF",
            "size": {
             "bdata": "XI/C9SicNEA=",
             "dtype": "f8"
            },
            "sizemode": "area",
            "sizeref": 0.182375,
            "symbol": "circle"
           },
           "mode": "markers",
           "name": "Sweden",
           "orientation": "v",
           "showlegend": true,
           "type": "scatter",
           "x": {
            "bdata": "AAAAYEq8YUE=",
            "dtype": "f8"
           },
           "xaxis": "x",
           "y": {
            "bdata": "XI/C9SicNEA=",
            "dtype": "f8"
           },
           "yaxis": "y"
          },
          {
           "hovertemplate": "country=Slovenia<br>year=2009<br>population=%{x}<br>value_kg=%{marker.size}<extra></extra>",
           "legendgroup": "Slovenia",
           "marker": {
            "color": "#FECB52",
            "size": {
             "bdata": "mpmZmZnZNkA=",
             "dtype": "f8"
            },
            "sizemode": "area",
            "sizeref": 0.182375,
            "symbol": "circle"
           },
           "mode": "markers",
           "name": "Slovenia",
           "orientation": "v",
           "showlegend": true,
           "type": "scatter",
           "x": {
            "bdata": "AAAAAHUfP0E=",
            "dtype": "f8"
           },
           "xaxis": "x",
           "y": {
            "bdata": "mpmZmZnZNkA=",
            "dtype": "f8"
           },
           "yaxis": "y"
          },
          {
           "hovertemplate": "country=Slovakia<br>year=2009<br>population=%{x}<br>value_kg=%{marker.size}<extra></extra>",
           "legendgroup": "Slovakia",
           "marker": {
            "color": "#636efa",
            "size": {
             "bdata": "uB6F61H4MEA=",
             "dtype": "f8"
            },
            "sizemode": "area",
            "sizeref": 0.182375,
            "symbol": "circle"
           },
           "mode": "markers",
           "name": "Slovakia",
           "orientation": "v",
           "showlegend": true,
           "type": "scatter",
           "x": {
            "bdata": "AAAAgCmMVEE=",
            "dtype": "f8"
           },
           "xaxis": "x",
           "y": {
            "bdata": "uB6F61H4MEA=",
            "dtype": "f8"
           },
           "yaxis": "y"
          }
         ],
         "name": "2009"
        },
        {
         "data": [
          {
           "hovertemplate": "country=Austria<br>year=2010<br>population=%{x}<br>value_kg=%{marker.size}<extra></extra>",
           "legendgroup": "Austria",
           "marker": {
            "color": "#636efa",
            "size": {
             "bdata": "4XoUrkehP0A=",
             "dtype": "f8"
            },
            "sizemode": "area",
            "sizeref": 0.182375,
            "symbol": "circle"
           },
           "mode": "markers",
           "name": "Austria",
           "orientation": "v",
           "showlegend": true,
           "type": "scatter",
           "x": {
            "bdata": "AAAAAGPnX0E=",
            "dtype": "f8"
           },
           "xaxis": "x",
           "y": {
            "bdata": "4XoUrkehP0A=",
            "dtype": "f8"
           },
           "yaxis": "y"
          },
          {
           "hovertemplate": "country=Belgium<br>year=2010<br>population=%{x}<br>value_kg=%{marker.size}<extra></extra>",
           "legendgroup": "Belgium",
           "marker": {
            "color": "#EF553B",
            "size": {
             "bdata": "9ihcj8L1PEA=",
             "dtype": "f8"
            },
            "sizemode": "area",
            "sizeref": 0.182375,
            "symbol": "circle"
           },
           "mode": "markers",
           "name": "Belgium",
           "orientation": "v",
           "showlegend": true,
           "type": "scatter",
           "x": {
            "bdata": "AAAAQBzIZEE=",
            "dtype": "f8"
           },
           "xaxis": "x",
           "y": {
            "bdata": "9ihcj8L1PEA=",
            "dtype": "f8"
           },
           "yaxis": "y"
          },
          {
           "hovertemplate": "country=Bulgaria<br>year=2010<br>population=%{x}<br>value_kg=%{marker.size}<extra></extra>",
           "legendgroup": "Bulgaria",
           "marker": {
            "color": "#00cc96",
            "size": {
             "bdata": "KVyPwvUoJkA=",
             "dtype": "f8"
            },
            "sizemode": "area",
            "sizeref": 0.182375,
            "symbol": "circle"
           },
           "mode": "markers",
           "name": "Bulgaria",
           "orientation": "v",
           "showlegend": true,
           "type": "scatter",
           "x": {
            "bdata": "AAAAwEM2XEE=",
            "dtype": "f8"
           },
           "xaxis": "x",
           "y": {
            "bdata": "KVyPwvUoJkA=",
            "dtype": "f8"
           },
           "yaxis": "y"
          },
          {
           "hovertemplate": "country=Cyprus<br>year=2010<br>population=%{x}<br>value_kg=%{marker.size}<extra></extra>",
           "legendgroup": "Cyprus",
           "marker": {
            "color": "#ab63fa",
            "size": {
             "bdata": "SOF6FK4HM0A=",
             "dtype": "f8"
            },
            "sizemode": "area",
            "sizeref": 0.182375,
            "symbol": "circle"
           },
           "mode": "markers",
           "name": "Cyprus",
           "orientation": "v",
           "showlegend": true,
           "type": "scatter",
           "x": {
            "bdata": "AAAAAAxQKUE=",
            "dtype": "f8"
           },
           "xaxis": "x",
           "y": {
            "bdata": "SOF6FK4HM0A=",
            "dtype": "f8"
           },
           "yaxis": "y"
          },
          {
           "hovertemplate": "country=Czechia<br>year=2010<br>population=%{x}<br>value_kg=%{marker.size}<extra></extra>",
           "legendgroup": "Czechia",
           "marker": {
            "color": "#FFA15A",
            "size": {
             "bdata": "w/UoXI8CNEA=",
             "dtype": "f8"
            },
            "sizemode": "area",
            "sizeref": 0.182375,
            "symbol": "circle"
           },
           "mode": "markers",
           "name": "Czechia",
           "orientation": "v",
           "showlegend": true,
           "type": "scatter",
           "x": {
            "bdata": "AAAAQHX6Y0E=",
            "dtype": "f8"
           },
           "xaxis": "x",
           "y": {
            "bdata": "w/UoXI8CNEA=",
            "dtype": "f8"
           },
           "yaxis": "y"
          },
          {
           "hovertemplate": "country=Germany<br>year=2010<br>population=%{x}<br>value_kg=%{marker.size}<extra></extra>",
           "legendgroup": "Germany",
           "marker": {
            "color": "#19d3f3",
            "size": {
             "bdata": "MzMzMzNzQEA=",
             "dtype": "f8"
            },
            "sizemode": "area",
            "sizeref": 0.182375,
            "symbol": "circle"
           },
           "mode": "markers",
           "name": "Germany",
           "orientation": "v",
           "showlegend": true,
           "type": "scatter",
           "x": {
            "bdata": "AAAAiER/k0E=",
            "dtype": "f8"
           },
           "xaxis": "x",
           "y": {
            "bdata": "MzMzMzNzQEA=",
            "dtype": "f8"
           },
           "yaxis": "y"
          },
          {
           "hovertemplate": "country=Denmark<br>year=2010<br>population=%{x}<br>value_kg=%{marker.size}<extra></extra>",
           "legendgroup": "Denmark",
           "marker": {
            "color": "#FF6692",
            "size": {
             "bdata": "UrgehevRPUA=",
             "dtype": "f8"
            },
            "sizemode": "area",
            "sizeref": 0.182375,
            "symbol": "circle"
           },
           "mode": "markers",
           "name": "Denmark",
           "orientation": "v",
           "showlegend": true,
           "type": "scatter",
           "x": {
            "bdata": "AAAAwKgpVUE=",
            "dtype": "f8"
           },
           "xaxis": "x",
           "y": {
            "bdata": "UrgehevRPUA=",
            "dtype": "f8"
           },
           "yaxis": "y"
          },
          {
           "hovertemplate": "country=Estonia<br>year=2010<br>population=%{x}<br>value_kg=%{marker.size}<extra></extra>",
           "legendgroup": "Estonia",
           "marker": {
            "color": "#B6E880",
            "size": {
             "bdata": "XI/C9SgcQ0A=",
             "dtype": "f8"
            },
            "sizemode": "area",
            "sizeref": 0.182375,
            "symbol": "circle"
           },
           "mode": "markers",
           "name": "Estonia",
           "orientation": "v",
           "showlegend": true,
           "type": "scatter",
           "x": {
            "bdata": "AAAAABNRNEE=",
            "dtype": "f8"
           },
           "xaxis": "x",
           "y": {
            "bdata": "XI/C9SgcQ0A=",
            "dtype": "f8"
           },
           "yaxis": "y"
          },
          {
           "hovertemplate": "country=Greece<br>year=2010<br>population=%{x}<br>value_kg=%{marker.size}<extra></extra>",
           "legendgroup": "Greece",
           "marker": {
            "color": "#FF97FF",
            "size": {
             "bdata": "7FG4HoXrM0A=",
             "dtype": "f8"
            },
            "sizemode": "area",
            "sizeref": 0.182375,
            "symbol": "circle"
           },
           "mode": "markers",
           "name": "Greece",
           "orientation": "v",
           "showlegend": true,
           "type": "scatter",
           "x": {
            "bdata": "AAAAoFc2ZUE=",
            "dtype": "f8"
           },
           "xaxis": "x",
           "y": {
            "bdata": "7FG4HoXrM0A=",
            "dtype": "f8"
           },
           "yaxis": "y"
          },
          {
           "hovertemplate": "country=Spain<br>year=2010<br>population=%{x}<br>value_kg=%{marker.size}<extra></extra>",
           "legendgroup": "Spain",
           "marker": {
            "color": "#FECB52",
            "size": {
             "bdata": "w/UoXI8CPkA=",
             "dtype": "f8"
            },
            "sizemode": "area",
            "sizeref": 0.182375,
            "symbol": "circle"
           },
           "mode": "markers",
           "name": "Spain",
           "orientation": "v",
           "showlegend": true,
           "type": "scatter",
           "x": {
            "bdata": "AAAACKg1hkE=",
            "dtype": "f8"
           },
           "xaxis": "x",
           "y": {
            "bdata": "w/UoXI8CPkA=",
            "dtype": "f8"
           },
           "yaxis": "y"
          },
          {
           "hovertemplate": "country=European Union - 27 countries (from 2020)<br>year=2010<br>population=%{x}<br>value_kg=%{marker.size}<extra></extra>",
           "legendgroup": "European Union - 27 countries (from 2020)",
           "marker": {
            "color": "#636efa",
            "size": {
             "bdata": "exSuR+H6O0A=",
             "dtype": "f8"
            },
            "sizemode": "area",
            "sizeref": 0.182375,
            "symbol": "circle"
           },
           "mode": "markers",
           "name": "European Union - 27 countries (from 2020)",
           "orientation": "v",
           "showlegend": true,
           "type": "scatter",
           "x": {
            "bdata": "AAAATAdSukE=",
            "dtype": "f8"
           },
           "xaxis": "x",
           "y": {
            "bdata": "exSuR+H6O0A=",
            "dtype": "f8"
           },
           "yaxis": "y"
          },
          {
           "hovertemplate": "country=Finland<br>year=2010<br>population=%{x}<br>value_kg=%{marker.size}<extra></extra>",
           "legendgroup": "Finland",
           "marker": {
            "color": "#EF553B",
            "size": {
             "bdata": "7FG4HoWrNUA=",
             "dtype": "f8"
            },
            "sizemode": "area",
            "sizeref": 0.182375,
            "symbol": "circle"
           },
           "mode": "markers",
           "name": "Finland",
           "orientation": "v",
           "showlegend": true,
           "type": "scatter",
           "x": {
            "bdata": "AAAAAKZ1VEE=",
            "dtype": "f8"
           },
           "xaxis": "x",
           "y": {
            "bdata": "7FG4HoWrNUA=",
            "dtype": "f8"
           },
           "yaxis": "y"
          },
          {
           "hovertemplate": "country=France<br>year=2010<br>population=%{x}<br>value_kg=%{marker.size}<extra></extra>",
           "legendgroup": "France",
           "marker": {
            "color": "#00cc96",
            "size": {
             "bdata": "4XoUrkfhPkA=",
             "dtype": "f8"
            },
            "sizemode": "area",
            "sizeref": 0.182375,
            "symbol": "circle"
           },
           "mode": "markers",
           "name": "France",
           "orientation": "v",
           "showlegend": true,
           "type": "scatter",
           "x": {
            "bdata": "AAAAKHPojkE=",
            "dtype": "f8"
           },
           "xaxis": "x",
           "y": {
            "bdata": "4XoUrkfhPkA=",
            "dtype": "f8"
           },
           "yaxis": "y"
          },
          {
           "hovertemplate": "country=Hungary<br>year=2010<br>population=%{x}<br>value_kg=%{marker.size}<extra></extra>",
           "legendgroup": "Hungary",
           "marker": {
            "color": "#FFA15A",
            "size": {
             "bdata": "16NwPQoXNUA=",
             "dtype": "f8"
            },
            "sizemode": "area",
            "sizeref": 0.182375,
            "symbol": "circle"
           },
           "mode": "markers",
           "name": "Hungary",
           "orientation": "v",
           "showlegend": true,
           "type": "scatter",
           "x": {
            "bdata": "AAAA4NISY0E=",
            "dtype": "f8"
           },
           "xaxis": "x",
           "y": {
            "bdata": "16NwPQoXNUA=",
            "dtype": "f8"
           },
           "yaxis": "y"
          },
          {
           "hovertemplate": "country=Ireland<br>year=2010<br>population=%{x}<br>value_kg=%{marker.size}<extra></extra>",
           "legendgroup": "Ireland",
           "marker": {
            "color": "#19d3f3",
            "size": {
             "bdata": "UrgeheuRREA=",
             "dtype": "f8"
            },
            "sizemode": "area",
            "sizeref": 0.182375,
            "symbol": "circle"
           },
           "mode": "markers",
           "name": "Ireland",
           "orientation": "v",
           "showlegend": true,
           "type": "scatter",
           "x": {
            "bdata": "AAAAwEZlUUE=",
            "dtype": "f8"
           },
           "xaxis": "x",
           "y": {
            "bdata": "UrgeheuRREA=",
            "dtype": "f8"
           },
           "yaxis": "y"
          },
          {
           "hovertemplate": "country=Iceland<br>year=2010<br>population=%{x}<br>value_kg=%{marker.size}<extra></extra>",
           "legendgroup": "Iceland",
           "marker": {
            "color": "#FF6692",
            "size": {
             "bdata": "zczMzMzsQkA=",
             "dtype": "f8"
            },
            "sizemode": "area",
            "sizeref": 0.182375,
            "symbol": "circle"
           },
           "mode": "markers",
           "name": "Iceland",
           "orientation": "v",
           "showlegend": true,
           "type": "scatter",
           "x": {
            "bdata": "AAAAAGRpE0E=",
            "dtype": "f8"
           },
           "xaxis": "x",
           "y": {
            "bdata": "zczMzMzsQkA=",
            "dtype": "f8"
           },
           "yaxis": "y"
          },
          {
           "hovertemplate": "country=Italy<br>year=2010<br>population=%{x}<br>value_kg=%{marker.size}<extra></extra>",
           "legendgroup": "Italy",
           "marker": {
            "color": "#B6E880",
            "size": {
             "bdata": "j8L1KFxPQUA=",
             "dtype": "f8"
            },
            "sizemode": "area",
            "sizeref": 0.182375,
            "symbol": "circle"
           },
           "mode": "markers",
           "name": "Italy",
           "orientation": "v",
           "showlegend": true,
           "type": "scatter",
           "x": {
            "bdata": "AAAAeCyGjEE=",
            "dtype": "f8"
           },
           "xaxis": "x",
           "y": {
            "bdata": "j8L1KFxPQUA=",
            "dtype": "f8"
           },
           "yaxis": "y"
          },
          {
           "hovertemplate": "country=Liechtenstein<br>year=2010<br>population=%{x}<br>value_kg=%{marker.size}<extra></extra>",
           "legendgroup": "Liechtenstein",
           "marker": {
            "color": "#FF97FF",
            "size": {
             "bdata": "rkfhehTuMkA=",
             "dtype": "f8"
            },
            "sizemode": "area",
            "sizeref": 0.182375,
            "symbol": "circle"
           },
           "mode": "markers",
           "name": "Liechtenstein",
           "orientation": "v",
           "showlegend": true,
           "type": "scatter",
           "x": {
            "bdata": "AAAAAMCW4UA=",
            "dtype": "f8"
           },
           "xaxis": "x",
           "y": {
            "bdata": "rkfhehTuMkA=",
            "dtype": "f8"
           },
           "yaxis": "y"
          },
          {
           "hovertemplate": "country=Lithuania<br>year=2010<br>population=%{x}<br>value_kg=%{marker.size}<extra></extra>",
           "legendgroup": "Lithuania",
           "marker": {
            "color": "#FECB52",
            "size": {
             "bdata": "AAAAAABAMkA=",
             "dtype": "f8"
            },
            "sizemode": "area",
            "sizeref": 0.182375,
            "symbol": "circle"
           },
           "mode": "markers",
           "name": "Lithuania",
           "orientation": "v",
           "showlegend": true,
           "type": "scatter",
           "x": {
            "bdata": "AAAAAGGhR0E=",
            "dtype": "f8"
           },
           "xaxis": "x",
           "y": {
            "bdata": "AAAAAABAMkA=",
            "dtype": "f8"
           },
           "yaxis": "y"
          },
          {
           "hovertemplate": "country=Luxembourg<br>year=2010<br>population=%{x}<br>value_kg=%{marker.size}<extra></extra>",
           "legendgroup": "Luxembourg",
           "marker": {
            "color": "#636efa",
            "size": {
             "bdata": "exSuR+H6RUA=",
             "dtype": "f8"
            },
            "sizemode": "area",
            "sizeref": 0.182375,
            "symbol": "circle"
           },
           "mode": "markers",
           "name": "Luxembourg",
           "orientation": "v",
           "showlegend": true,
           "type": "scatter",
           "x": {
            "bdata": "AAAAACTxHkE=",
            "dtype": "f8"
           },
           "xaxis": "x",
           "y": {
            "bdata": "exSuR+H6RUA=",
            "dtype": "f8"
           },
           "yaxis": "y"
          },
          {
           "hovertemplate": "country=Latvia<br>year=2010<br>population=%{x}<br>value_kg=%{marker.size}<extra></extra>",
           "legendgroup": "Latvia",
           "marker": {
            "color": "#EF553B",
            "size": {
             "bdata": "SOF6FK7HMEA=",
             "dtype": "f8"
            },
            "sizemode": "area",
            "sizeref": 0.182375,
            "symbol": "circle"
           },
           "mode": "markers",
           "name": "Latvia",
           "orientation": "v",
           "showlegend": true,
           "type": "scatter",
           "x": {
            "bdata": "AAAAgMkAQEE=",
            "dtype": "f8"
           },
           "xaxis": "x",
           "y": {
            "bdata": "SOF6FK7HMEA=",
            "dtype": "f8"
           },
           "yaxis": "y"
          },
          {
           "hovertemplate": "country=Malta<br>year=2010<br>population=%{x}<br>value_kg=%{marker.size}<extra></extra>",
           "legendgroup": "Malta",
           "marker": {
            "color": "#00cc96",
            "size": {
             "bdata": "16NwPQpXPUA=",
             "dtype": "f8"
            },
            "sizemode": "area",
            "sizeref": 0.182375,
            "symbol": "circle"
           },
           "mode": "markers",
           "name": "Malta",
           "orientation": "v",
           "showlegend": true,
           "type": "scatter",
           "x": {
            "bdata": "AAAAALBMGUE=",
            "dtype": "f8"
           },
           "xaxis": "x",
           "y": {
            "bdata": "16NwPQpXPUA=",
            "dtype": "f8"
           },
           "yaxis": "y"
          },
          {
           "hovertemplate": "country=Netherlands<br>year=2010<br>population=%{x}<br>value_kg=%{marker.size}<extra></extra>",
           "legendgroup": "Netherlands",
           "marker": {
            "color": "#ab63fa",
            "size": {
             "bdata": "UrgehetRO0A=",
             "dtype": "f8"
            },
            "sizemode": "area",
            "sizeref": 0.182375,
            "symbol": "circle"
           },
           "mode": "markers",
           "name": "Netherlands",
           "orientation": "v",
           "showlegend": true,
           "type": "scatter",
           "x": {
            "bdata": "AAAAQPywb0E=",
            "dtype": "f8"
           },
           "xaxis": "x",
           "y": {
            "bdata": "UrgehetRO0A=",
            "dtype": "f8"
           },
           "yaxis": "y"
          },
          {
           "hovertemplate": "country=Norway<br>year=2010<br>population=%{x}<br>value_kg=%{marker.size}<extra></extra>",
           "legendgroup": "Norway",
           "marker": {
            "color": "#FFA15A",
            "size": {
             "bdata": "exSuR+H6PUA=",
             "dtype": "f8"
            },
            "sizemode": "area",
            "sizeref": 0.182375,
            "symbol": "circle"
           },
           "mode": "markers",
           "name": "Norway",
           "orientation": "v",
           "showlegend": true,
           "type": "scatter",
           "x": {
            "bdata": "AAAAAKmmUkE=",
            "dtype": "f8"
           },
           "xaxis": "x",
           "y": {
            "bdata": "exSuR+H6PUA=",
            "dtype": "f8"
           },
           "yaxis": "y"
          },
          {
           "hovertemplate": "country=Poland<br>year=2010<br>population=%{x}<br>value_kg=%{marker.size}<extra></extra>",
           "legendgroup": "Poland",
           "marker": {
            "color": "#19d3f3",
            "size": {
             "bdata": "hetRuB5FM0A=",
             "dtype": "f8"
            },
            "sizemode": "area",
            "sizeref": 0.182375,
            "symbol": "circle"
           },
           "mode": "markers",
           "name": "Poland",
           "orientation": "v",
           "showlegend": true,
           "type": "scatter",
           "x": {
            "bdata": "AAAAUOUjgkE=",
            "dtype": "f8"
           },
           "xaxis": "x",
           "y": {
            "bdata": "hetRuB5FM0A=",
            "dtype": "f8"
           },
           "yaxis": "y"
          },
          {
           "hovertemplate": "country=Portugal<br>year=2010<br>population=%{x}<br>value_kg=%{marker.size}<extra></extra>",
           "legendgroup": "Portugal",
           "marker": {
            "color": "#FF6692",
            "size": {
             "bdata": "UrgehesRQUA=",
             "dtype": "f8"
            },
            "sizemode": "area",
            "sizeref": 0.182375,
            "symbol": "circle"
           },
           "mode": "markers",
           "name": "Portugal",
           "orientation": "v",
           "showlegend": true,
           "type": "scatter",
           "x": {
            "bdata": "AAAAgKUqZEE=",
            "dtype": "f8"
           },
           "xaxis": "x",
           "y": {
            "bdata": "UrgehesRQUA=",
            "dtype": "f8"
           },
           "yaxis": "y"
          },
          {
           "hovertemplate": "country=Romania<br>year=2010<br>population=%{x}<br>value_kg=%{marker.size}<extra></extra>",
           "legendgroup": "Romania",
           "marker": {
            "color": "#B6E880",
            "size": {
             "bdata": "SOF6FK7HK0A=",
             "dtype": "f8"
            },
            "sizemode": "area",
            "sizeref": 0.182375,
            "symbol": "circle"
           },
           "mode": "markers",
           "name": "Romania",
           "orientation": "v",
           "showlegend": true,
           "type": "scatter",
           "x": {
            "bdata": "AAAAcBVPc0E=",
            "dtype": "f8"
           },
           "xaxis": "x",
           "y": {
            "bdata": "SOF6FK7HK0A=",
            "dtype": "f8"
           },
           "yaxis": "y"
          },
          {
           "hovertemplate": "country=Sweden<br>year=2010<br>population=%{x}<br>value_kg=%{marker.size}<extra></extra>",
           "legendgroup": "Sweden",
           "marker": {
            "color": "#FF97FF",
            "size": {
             "bdata": "KVyPwvUoNUA=",
             "dtype": "f8"
            },
            "sizemode": "area",
            "sizeref": 0.182375,
            "symbol": "circle"
           },
           "mode": "markers",
           "name": "Sweden",
           "orientation": "v",
           "showlegend": true,
           "type": "scatter",
           "x": {
            "bdata": "AAAAwCnjYUE=",
            "dtype": "f8"
           },
           "xaxis": "x",
           "y": {
            "bdata": "KVyPwvUoNUA=",
            "dtype": "f8"
           },
           "yaxis": "y"
          },
          {
           "hovertemplate": "country=Slovenia<br>year=2010<br>population=%{x}<br>value_kg=%{marker.size}<extra></extra>",
           "legendgroup": "Slovenia",
           "marker": {
            "color": "#FECB52",
            "size": {
             "bdata": "mpmZmZkZNkA=",
             "dtype": "f8"
            },
            "sizemode": "area",
            "sizeref": 0.182375,
            "symbol": "circle"
           },
           "mode": "markers",
           "name": "Slovenia",
           "orientation": "v",
           "showlegend": true,
           "type": "scatter",
           "x": {
            "bdata": "AAAAAEdCP0E=",
            "dtype": "f8"
           },
           "xaxis": "x",
           "y": {
            "bdata": "mpmZmZkZNkA=",
            "dtype": "f8"
           },
           "yaxis": "y"
          },
          {
           "hovertemplate": "country=Slovakia<br>year=2010<br>population=%{x}<br>value_kg=%{marker.size}<extra></extra>",
           "legendgroup": "Slovakia",
           "marker": {
            "color": "#636efa",
            "size": {
             "bdata": "H4XrUbieM0A=",
             "dtype": "f8"
            },
            "sizemode": "area",
            "sizeref": 0.182375,
            "symbol": "circle"
           },
           "mode": "markers",
           "name": "Slovakia",
           "orientation": "v",
           "showlegend": true,
           "type": "scatter",
           "x": {
            "bdata": "AAAAABGRVEE=",
            "dtype": "f8"
           },
           "xaxis": "x",
           "y": {
            "bdata": "H4XrUbieM0A=",
            "dtype": "f8"
           },
           "yaxis": "y"
          }
         ],
         "name": "2010"
        },
        {
         "data": [
          {
           "hovertemplate": "country=Austria<br>year=2011<br>population=%{x}<br>value_kg=%{marker.size}<extra></extra>",
           "legendgroup": "Austria",
           "marker": {
            "color": "#636efa",
            "size": {
             "bdata": "exSuR+F6P0A=",
             "dtype": "f8"
            },
            "sizemode": "area",
            "sizeref": 0.182375,
            "symbol": "circle"
           },
           "mode": "markers",
           "name": "Austria",
           "orientation": "v",
           "showlegend": true,
           "type": "scatter",
           "x": {
            "bdata": "AAAAYHsBYEE=",
            "dtype": "f8"
           },
           "xaxis": "x",
           "y": {
            "bdata": "exSuR+F6P0A=",
            "dtype": "f8"
           },
           "yaxis": "y"
          },
          {
           "hovertemplate": "country=Belgium<br>year=2011<br>population=%{x}<br>value_kg=%{marker.size}<extra></extra>",
           "legendgroup": "Belgium",
           "marker": {
            "color": "#EF553B",
            "size": {
             "bdata": "H4XrUbiePEA=",
             "dtype": "f8"
            },
            "sizemode": "area",
            "sizeref": 0.182375,
            "symbol": "circle"
           },
           "mode": "markers",
           "name": "Belgium",
           "orientation": "v",
           "showlegend": true,
           "type": "scatter",
           "x": {
            "bdata": "AAAAAMcNZUE=",
            "dtype": "f8"
           },
           "xaxis": "x",
           "y": {
            "bdata": "H4XrUbiePEA=",
            "dtype": "f8"
           },
           "yaxis": "y"
          },
          {
           "hovertemplate": "country=Bulgaria<br>year=2011<br>population=%{x}<br>value_kg=%{marker.size}<extra></extra>",
           "legendgroup": "Bulgaria",
           "marker": {
            "color": "#00cc96",
            "size": {
             "bdata": "16NwPQrXKUA=",
             "dtype": "f8"
            },
            "sizemode": "area",
            "sizeref": 0.182375,
            "symbol": "circle"
           },
           "mode": "markers",
           "name": "Bulgaria",
           "orientation": "v",
           "showlegend": true,
           "type": "scatter",
           "x": {
            "bdata": "AAAAABoIXEE=",
            "dtype": "f8"
           },
           "xaxis": "x",
           "y": {
            "bdata": "16NwPQrXKUA=",
            "dtype": "f8"
           },
           "yaxis": "y"
          },
          {
           "hovertemplate": "country=Cyprus<br>year=2011<br>population=%{x}<br>value_kg=%{marker.size}<extra></extra>",
           "legendgroup": "Cyprus",
           "marker": {
            "color": "#ab63fa",
            "size": {
             "bdata": "mpmZmZnZMUA=",
             "dtype": "f8"
            },
            "sizemode": "area",
            "sizeref": 0.182375,
            "symbol": "circle"
           },
           "mode": "markers",
           "name": "Cyprus",
           "orientation": "v",
           "showlegend": true,
           "type": "scatter",
           "x": {
            "bdata": "AAAAAIL3KUE=",
            "dtype": "f8"
           },
           "xaxis": "x",
           "y": {
            "bdata": "mpmZmZnZMUA=",
            "dtype": "f8"
           },
           "yaxis": "y"
          },
          {
           "hovertemplate": "country=Czechia<br>year=2011<br>population=%{x}<br>value_kg=%{marker.size}<extra></extra>",
           "legendgroup": "Czechia",
           "marker": {
            "color": "#FFA15A",
            "size": {
             "bdata": "MzMzMzPzM0A=",
             "dtype": "f8"
            },
            "sizemode": "area",
            "sizeref": 0.182375,
            "symbol": "circle"
           },
           "mode": "markers",
           "name": "Czechia",
           "orientation": "v",
           "showlegend": true,
           "type": "scatter",
           "x": {
            "bdata": "AAAAAAsFZEE=",
            "dtype": "f8"
           },
           "xaxis": "x",
           "y": {
            "bdata": "MzMzMzPzM0A=",
            "dtype": "f8"
           },
           "yaxis": "y"
          },
          {
           "hovertemplate": "country=Germany<br>year=2011<br>population=%{x}<br>value_kg=%{marker.size}<extra></extra>",
           "legendgroup": "Germany",
           "marker": {
            "color": "#19d3f3",
            "size": {
             "bdata": "CtejcD1KQUA=",
             "dtype": "f8"
            },
            "sizemode": "area",
            "sizeref": 0.182375,
            "symbol": "circle"
           },
           "mode": "markers",
           "name": "Germany",
           "orientation": "v",
           "showlegend": true,
           "type": "scatter",
           "x": {
            "bdata": "AAAAnJgjk0E=",
            "dtype": "f8"
           },
           "xaxis": "x",
           "y": {
            "bdata": "CtejcD1KQUA=",
            "dtype": "f8"
           },
           "yaxis": "y"
          },
          {
           "hovertemplate": "country=Denmark<br>year=2011<br>population=%{x}<br>value_kg=%{marker.size}<extra></extra>",
           "legendgroup": "Denmark",
           "marker": {
            "color": "#FF6692",
            "size": {
             "bdata": "ZmZmZmbmQEA=",
             "dtype": "f8"
            },
            "sizemode": "area",
            "sizeref": 0.182375,
            "symbol": "circle"
           },
           "mode": "markers",
           "name": "Denmark",
           "orientation": "v",
           "showlegend": true,
           "type": "scatter",
           "x": {
            "bdata": "AAAAAANAVUE=",
            "dtype": "f8"
           },
           "xaxis": "x",
           "y": {
            "bdata": "ZmZmZmbmQEA=",
            "dtype": "f8"
           },
           "yaxis": "y"
          },
          {
           "hovertemplate": "country=Estonia<br>year=2011<br>population=%{x}<br>value_kg=%{marker.size}<extra></extra>",
           "legendgroup": "Estonia",
           "marker": {
            "color": "#B6E880",
            "size": {
             "bdata": "16NwPQqXQ0A=",
             "dtype": "f8"
            },
            "sizemode": "area",
            "sizeref": 0.182375,
            "symbol": "circle"
           },
           "mode": "markers",
           "name": "Estonia",
           "orientation": "v",
           "showlegend": true,
           "type": "scatter",
           "x": {
            "bdata": "AAAAAE9BNEE=",
            "dtype": "f8"
           },
           "xaxis": "x",
           "y": {
            "bdata": "16NwPQqXQ0A=",
            "dtype": "f8"
           },
           "yaxis": "y"
          },
          {
           "hovertemplate": "country=Greece<br>year=2011<br>population=%{x}<br>value_kg=%{marker.size}<extra></extra>",
           "legendgroup": "Greece",
           "marker": {
            "color": "#FF97FF",
            "size": {
             "bdata": "9ihcj8K1MkA=",
             "dtype": "f8"
            },
            "sizemode": "area",
            "sizeref": 0.182375,
            "symbol": "circle"
           },
           "mode": "markers",
           "name": "Greece",
           "orientation": "v",
           "showlegend": true,
           "type": "scatter",
           "x": {
            "bdata": "AAAAYFAuZUE=",
            "dtype": "f8"
           },
           "xaxis": "x",
           "y": {
            "bdata": "9ihcj8K1MkA=",
            "dtype": "f8"
           },
           "yaxis": "y"
          },
          {
           "hovertemplate": "country=Spain<br>year=2011<br>population=%{x}<br>value_kg=%{marker.size}<extra></extra>",
           "legendgroup": "Spain",
           "marker": {
            "color": "#FECB52",
            "size": {
             "bdata": "PQrXo3D9PEA=",
             "dtype": "f8"
            },
            "sizemode": "area",
            "sizeref": 0.182375,
            "symbol": "circle"
           },
           "mode": "markers",
           "name": "Spain",
           "orientation": "v",
           "showlegend": true,
           "type": "scatter",
           "x": {
            "bdata": "AAAASOVJhkE=",
            "dtype": "f8"
           },
           "xaxis": "x",
           "y": {
            "bdata": "PQrXo3D9PEA=",
            "dtype": "f8"
           },
           "yaxis": "y"
          },
          {
           "hovertemplate": "country=European Union - 27 countries (from 2020)<br>year=2011<br>population=%{x}<br>value_kg=%{marker.size}<extra></extra>",
           "legendgroup": "European Union - 27 countries (from 2020)",
           "marker": {
            "color": "#636efa",
            "size": {
             "bdata": "zczMzMxMPEA=",
             "dtype": "f8"
            },
            "sizemode": "area",
            "sizeref": 0.182375,
            "symbol": "circle"
           },
           "mode": "markers",
           "name": "European Union - 27 countries (from 2020)",
           "orientation": "v",
           "showlegend": true,
           "type": "scatter",
           "x": {
            "bdata": "AAAAV9hHukE=",
            "dtype": "f8"
           },
           "xaxis": "x",
           "y": {
            "bdata": "zczMzMxMPEA=",
            "dtype": "f8"
           },
           "yaxis": "y"
          },
          {
           "hovertemplate": "country=Finland<br>year=2011<br>population=%{x}<br>value_kg=%{marker.size}<extra></extra>",
           "legendgroup": "Finland",
           "marker": {
            "color": "#EF553B",
            "size": {
             "bdata": "PQrXo3C9NUA=",
             "dtype": "f8"
            },
            "sizemode": "area",
            "sizeref": 0.182375,
            "symbol": "circle"
           },
           "mode": "markers",
           "name": "Finland",
           "orientation": "v",
           "showlegend": true,
           "type": "scatter",
           "x": {
            "bdata": "AAAAAPyNVEE=",
            "dtype": "f8"
           },
           "xaxis": "x",
           "y": {
            "bdata": "PQrXo3C9NUA=",
            "dtype": "f8"
           },
           "yaxis": "y"
          },
          {
           "hovertemplate": "country=France<br>year=2011<br>population=%{x}<br>value_kg=%{marker.size}<extra></extra>",
           "legendgroup": "France",
           "marker": {
            "color": "#00cc96",
            "size": {
             "bdata": "MzMzMzMzP0A=",
             "dtype": "f8"
            },
            "sizemode": "area",
            "sizeref": 0.182375,
            "symbol": "circle"
           },
           "mode": "markers",
           "name": "France",
           "orientation": "v",
           "showlegend": true,
           "type": "scatter",
           "x": {
            "bdata": "AAAAYC0Oj0E=",
            "dtype": "f8"
           },
           "xaxis": "x",
           "y": {
            "bdata": "MzMzMzMzP0A=",
            "dtype": "f8"
           },
           "yaxis": "y"
          },
          {
           "hovertemplate": "country=Hungary<br>year=2011<br>population=%{x}<br>value_kg=%{marker.size}<extra></extra>",
           "legendgroup": "Hungary",
           "marker": {
            "color": "#FFA15A",
            "size": {
             "bdata": "rkfhehTuNEA=",
             "dtype": "f8"
            },
            "sizemode": "area",
            "sizeref": 0.182375,
            "symbol": "circle"
           },
           "mode": "markers",
           "name": "Hungary",
           "orientation": "v",
           "showlegend": true,
           "type": "scatter",
           "x": {
            "bdata": "AAAA4AEFY0E=",
            "dtype": "f8"
           },
           "xaxis": "x",
           "y": {
            "bdata": "rkfhehTuNEA=",
            "dtype": "f8"
           },
           "yaxis": "y"
          },
          {
           "hovertemplate": "country=Ireland<br>year=2011<br>population=%{x}<br>value_kg=%{marker.size}<extra></extra>",
           "legendgroup": "Ireland",
           "marker": {
            "color": "#19d3f3",
            "size": {
             "bdata": "MzMzMzNTQUA=",
             "dtype": "f8"
            },
            "sizemode": "area",
            "sizeref": 0.182375,
            "symbol": "circle"
           },
           "mode": "markers",
           "name": "Ireland",
           "orientation": "v",
           "showlegend": true,
           "type": "scatter",
           "x": {
            "bdata": "AAAAAL14UUE=",
            "dtype": "f8"
           },
           "xaxis": "x",
           "y": {
            "bdata": "MzMzMzNTQUA=",
            "dtype": "f8"
           },
           "yaxis": "y"
          },
          {
           "hovertemplate": "country=Iceland<br>year=2011<br>population=%{x}<br>value_kg=%{marker.size}<extra></extra>",
           "legendgroup": "Iceland",
           "marker": {
            "color": "#FF6692",
            "size": {
             "bdata": "SOF6FK7nQUA=",
             "dtype": "f8"
            },
            "sizemode": "area",
            "sizeref": 0.182375,
            "symbol": "circle"
           },
           "mode": "markers",
           "name": "Iceland",
           "orientation": "v",
           "showlegend": true,
           "type": "scatter",
           "x": {
            "bdata": "AAAAAJh4E0E=",
            "dtype": "f8"
           },
           "xaxis": "x",
           "y": {
            "bdata": "SOF6FK7nQUA=",
            "dtype": "f8"
           },
           "yaxis": "y"
          },
          {
           "hovertemplate": "country=Italy<br>year=2011<br>population=%{x}<br>value_kg=%{marker.size}<extra></extra>",
           "legendgroup": "Italy",
           "marker": {
            "color": "#B6E880",
            "size": {
             "bdata": "KVyPwvVIQUA=",
             "dtype": "f8"
            },
            "sizemode": "area",
            "sizeref": 0.182375,
            "symbol": "circle"
           },
           "mode": "markers",
           "name": "Italy",
           "orientation": "v",
           "showlegend": true,
           "type": "scatter",
           "x": {
            "bdata": "AAAAyH6fjEE=",
            "dtype": "f8"
           },
           "xaxis": "x",
           "y": {
            "bdata": "KVyPwvVIQUA=",
            "dtype": "f8"
           },
           "yaxis": "y"
          },
          {
           "hovertemplate": "country=Liechtenstein<br>year=2011<br>population=%{x}<br>value_kg=%{marker.size}<extra></extra>",
           "legendgroup": "Liechtenstein",
           "marker": {
            "color": "#FF97FF",
            "size": {
             "bdata": "MzMzMzPzMkA=",
             "dtype": "f8"
            },
            "sizemode": "area",
            "sizeref": 0.182375,
            "symbol": "circle"
           },
           "mode": "markers",
           "name": "Liechtenstein",
           "orientation": "v",
           "showlegend": true,
           "type": "scatter",
           "x": {
            "bdata": "AAAAAAC74UA=",
            "dtype": "f8"
           },
           "xaxis": "x",
           "y": {
            "bdata": "MzMzMzPzMkA=",
            "dtype": "f8"
           },
           "yaxis": "y"
          },
          {
           "hovertemplate": "country=Lithuania<br>year=2011<br>population=%{x}<br>value_kg=%{marker.size}<extra></extra>",
           "legendgroup": "Lithuania",
           "marker": {
            "color": "#FECB52",
            "size": {
             "bdata": "rkfhehTuM0A=",
             "dtype": "f8"
            },
            "sizemode": "area",
            "sizeref": 0.182375,
            "symbol": "circle"
           },
           "mode": "markers",
           "name": "Lithuania",
           "orientation": "v",
           "showlegend": true,
           "type": "scatter",
           "x": {
            "bdata": "AAAAgEkaR0E=",
            "dtype": "f8"
           },
           "xaxis": "x",
           "y": {
            "bdata": "rkfhehTuM0A=",
            "dtype": "f8"
           },
           "yaxis": "y"
          },
          {
           "hovertemplate": "country=Luxembourg<br>year=2011<br>population=%{x}<br>value_kg=%{marker.size}<extra></extra>",
           "legendgroup": "Luxembourg",
           "marker": {
            "color": "#636efa",
            "size": {
             "bdata": "9ihcj8L1RkA=",
             "dtype": "f8"
            },
            "sizemode": "area",
            "sizeref": 0.182375,
            "symbol": "circle"
           },
           "mode": "markers",
           "name": "Luxembourg",
           "orientation": "v",
           "showlegend": true,
           "type": "scatter",
           "x": {
            "bdata": "AAAAACyjH0E=",
            "dtype": "f8"
           },
           "xaxis": "x",
           "y": {
            "bdata": "9ihcj8L1RkA=",
            "dtype": "f8"
           },
           "yaxis": "y"
          },
          {
           "hovertemplate": "country=Latvia<br>year=2011<br>population=%{x}<br>value_kg=%{marker.size}<extra></extra>",
           "legendgroup": "Latvia",
           "marker": {
            "color": "#EF553B",
            "size": {
             "bdata": "UrgeheuRMUA=",
             "dtype": "f8"
            },
            "sizemode": "area",
            "sizeref": 0.182375,
            "symbol": "circle"
           },
           "mode": "markers",
           "name": "Latvia",
           "orientation": "v",
           "showlegend": true,
           "type": "scatter",
           "x": {
            "bdata": "AAAAAL1tP0E=",
            "dtype": "f8"
           },
           "xaxis": "x",
           "y": {
            "bdata": "UrgeheuRMUA=",
            "dtype": "f8"
           },
           "yaxis": "y"
          },
          {
           "hovertemplate": "country=Malta<br>year=2011<br>population=%{x}<br>value_kg=%{marker.size}<extra></extra>",
           "legendgroup": "Malta",
           "marker": {
            "color": "#00cc96",
            "size": {
             "bdata": "pHA9CtdjO0A=",
             "dtype": "f8"
            },
            "sizemode": "area",
            "sizeref": 0.182375,
            "symbol": "circle"
           },
           "mode": "markers",
           "name": "Malta",
           "orientation": "v",
           "showlegend": true,
           "type": "scatter",
           "x": {
            "bdata": "AAAAADBoGUE=",
            "dtype": "f8"
           },
           "xaxis": "x",
           "y": {
            "bdata": "pHA9CtdjO0A=",
            "dtype": "f8"
           },
           "yaxis": "y"
          },
          {
           "hovertemplate": "country=Netherlands<br>year=2011<br>population=%{x}<br>value_kg=%{marker.size}<extra></extra>",
           "legendgroup": "Netherlands",
           "marker": {
            "color": "#ab63fa",
            "size": {
             "bdata": "mpmZmZmZOkA=",
             "dtype": "f8"
            },
            "sizemode": "area",
            "sizeref": 0.182375,
            "symbol": "circle"
           },
           "mode": "markers",
           "name": "Netherlands",
           "orientation": "v",
           "showlegend": true,
           "type": "scatter",
           "x": {
            "bdata": "AAAAQOrWb0E=",
            "dtype": "f8"
           },
           "xaxis": "x",
           "y": {
            "bdata": "mpmZmZmZOkA=",
            "dtype": "f8"
           },
           "yaxis": "y"
          },
          {
           "hovertemplate": "country=Norway<br>year=2011<br>population=%{x}<br>value_kg=%{marker.size}<extra></extra>",
           "legendgroup": "Norway",
           "marker": {
            "color": "#FFA15A",
            "size": {
             "bdata": "9ihcj8K1PkA=",
             "dtype": "f8"
            },
            "sizemode": "area",
            "sizeref": 0.182375,
            "symbol": "circle"
           },
           "mode": "markers",
           "name": "Norway",
           "orientation": "v",
           "showlegend": true,
           "type": "scatter",
           "x": {
            "bdata": "AAAAAADlUkE=",
            "dtype": "f8"
           },
           "xaxis": "x",
           "y": {
            "bdata": "9ihcj8K1PkA=",
            "dtype": "f8"
           },
           "yaxis": "y"
          },
          {
           "hovertemplate": "country=Poland<br>year=2011<br>population=%{x}<br>value_kg=%{marker.size}<extra></extra>",
           "legendgroup": "Poland",
           "marker": {
            "color": "#19d3f3",
            "size": {
             "bdata": "XI/C9SicNEA=",
             "dtype": "f8"
            },
            "sizemode": "area",
            "sizeref": 0.182375,
            "symbol": "circle"
           },
           "mode": "markers",
           "name": "Poland",
           "orientation": "v",
           "showlegend": true,
           "type": "scatter",
           "x": {
            "bdata": "AAAAuGQmgkE=",
            "dtype": "f8"
           },
           "xaxis": "x",
           "y": {
            "bdata": "XI/C9SicNEA=",
            "dtype": "f8"
           },
           "yaxis": "y"
          },
          {
           "hovertemplate": "country=Portugal<br>year=2011<br>population=%{x}<br>value_kg=%{marker.size}<extra></extra>",
           "legendgroup": "Portugal",
           "marker": {
            "color": "#FF6692",
            "size": {
             "bdata": "4XoUrkfhQEA=",
             "dtype": "f8"
            },
            "sizemode": "area",
            "sizeref": 0.182375,
            "symbol": "circle"
           },
           "mode": "markers",
           "name": "Portugal",
           "orientation": "v",
           "showlegend": true,
           "type": "scatter",
           "x": {
            "bdata": "AAAAgBknZEE=",
            "dtype": "f8"
           },
           "xaxis": "x",
           "y": {
            "bdata": "4XoUrkfhQEA=",
            "dtype": "f8"
           },
           "yaxis": "y"
          },
          {
           "hovertemplate": "country=Romania<br>year=2011<br>population=%{x}<br>value_kg=%{marker.size}<extra></extra>",
           "legendgroup": "Romania",
           "marker": {
            "color": "#B6E880",
            "size": {
             "bdata": "rkfhehSuK0A=",
             "dtype": "f8"
            },
            "sizemode": "area",
            "sizeref": 0.182375,
            "symbol": "circle"
           },
           "mode": "markers",
           "name": "Romania",
           "orientation": "v",
           "showlegend": true,
           "type": "scatter",
           "x": {
            "bdata": "AAAAgNQ2c0E=",
            "dtype": "f8"
           },
           "xaxis": "x",
           "y": {
            "bdata": "rkfhehSuK0A=",
            "dtype": "f8"
           },
           "yaxis": "y"
          },
          {
           "hovertemplate": "country=Sweden<br>year=2011<br>population=%{x}<br>value_kg=%{marker.size}<extra></extra>",
           "legendgroup": "Sweden",
           "marker": {
            "color": "#FF97FF",
            "size": {
             "bdata": "rkfhehRuNkA=",
             "dtype": "f8"
            },
            "sizemode": "area",
            "sizeref": 0.182375,
            "symbol": "circle"
           },
           "mode": "markers",
           "name": "Sweden",
           "orientation": "v",
           "showlegend": true,
           "type": "scatter",
           "x": {
            "bdata": "AAAAoN8FYkE=",
            "dtype": "f8"
           },
           "xaxis": "x",
           "y": {
            "bdata": "rkfhehRuNkA=",
            "dtype": "f8"
           },
           "yaxis": "y"
          },
          {
           "hovertemplate": "country=Slovenia<br>year=2011<br>population=%{x}<br>value_kg=%{marker.size}<extra></extra>",
           "legendgroup": "Slovenia",
           "marker": {
            "color": "#FECB52",
            "size": {
             "bdata": "CtejcD3KNUA=",
             "dtype": "f8"
            },
            "sizemode": "area",
            "sizeref": 0.182375,
            "symbol": "circle"
           },
           "mode": "markers",
           "name": "Slovenia",
           "orientation": "v",
           "showlegend": true,
           "type": "scatter",
           "x": {
            "bdata": "AAAAAOtSP0E=",
            "dtype": "f8"
           },
           "xaxis": "x",
           "y": {
            "bdata": "CtejcD3KNUA=",
            "dtype": "f8"
           },
           "yaxis": "y"
          },
          {
           "hovertemplate": "country=Slovakia<br>year=2011<br>population=%{x}<br>value_kg=%{marker.size}<extra></extra>",
           "legendgroup": "Slovakia",
           "marker": {
            "color": "#636efa",
            "size": {
             "bdata": "AAAAAADAM0A=",
             "dtype": "f8"
            },
            "sizemode": "area",
            "sizeref": 0.182375,
            "symbol": "circle"
           },
           "mode": "markers",
           "name": "Slovakia",
           "orientation": "v",
           "showlegend": true,
           "type": "scatter",
           "x": {
            "bdata": "AAAAANyXVEE=",
            "dtype": "f8"
           },
           "xaxis": "x",
           "y": {
            "bdata": "AAAAAADAM0A=",
            "dtype": "f8"
           },
           "yaxis": "y"
          }
         ],
         "name": "2011"
        },
        {
         "data": [
          {
           "hovertemplate": "country=Austria<br>year=2012<br>population=%{x}<br>value_kg=%{marker.size}<extra></extra>",
           "legendgroup": "Austria",
           "marker": {
            "color": "#636efa",
            "size": {
             "bdata": "H4XrUbgeQEA=",
             "dtype": "f8"
            },
            "sizemode": "area",
            "sizeref": 0.182375,
            "symbol": "circle"
           },
           "mode": "markers",
           "name": "Austria",
           "orientation": "v",
           "showlegend": true,
           "type": "scatter",
           "x": {
            "bdata": "AAAA4DQUYEE=",
            "dtype": "f8"
           },
           "xaxis": "x",
           "y": {
            "bdata": "H4XrUbgeQEA=",
            "dtype": "f8"
           },
           "yaxis": "y"
          },
          {
           "hovertemplate": "country=Belgium<br>year=2012<br>population=%{x}<br>value_kg=%{marker.size}<extra></extra>",
           "legendgroup": "Belgium",
           "marker": {
            "color": "#EF553B",
            "size": {
             "bdata": "mpmZmZnZPEA=",
             "dtype": "f8"
            },
            "sizemode": "area",
            "sizeref": 0.182375,
            "symbol": "circle"
           },
           "mode": "markers",
           "name": "Belgium",
           "orientation": "v",
           "showlegend": true,
           "type": "scatter",
           "x": {
            "bdata": "AAAAgE4vZUE=",
            "dtype": "f8"
           },
           "xaxis": "x",
           "y": {
            "bdata": "mpmZmZnZPEA=",
            "dtype": "f8"
           },
           "yaxis": "y"
          },
          {
           "hovertemplate": "country=Bulgaria<br>year=2012<br>population=%{x}<br>value_kg=%{marker.size}<extra></extra>",
           "legendgroup": "Bulgaria",
           "marker": {
            "color": "#00cc96",
            "size": {
             "bdata": "UrgehetRKkA=",
             "dtype": "f8"
            },
            "sizemode": "area",
            "sizeref": 0.182375,
            "symbol": "circle"
           },
           "mode": "markers",
           "name": "Bulgaria",
           "orientation": "v",
           "showlegend": true,
           "type": "scatter",
           "x": {
            "bdata": "AAAAAKjeW0E=",
            "dtype": "f8"
           },
           "xaxis": "x",
           "y": {
            "bdata": "UrgehetRKkA=",
            "dtype": "f8"
           },
           "yaxis": "y"
          },
          {
           "hovertemplate": "country=Cyprus<br>year=2012<br>population=%{x}<br>value_kg=%{marker.size}<extra></extra>",
           "legendgroup": "Cyprus",
           "marker": {
            "color": "#ab63fa",
            "size": {
             "bdata": "H4XrUbieMUA=",
             "dtype": "f8"
            },
            "sizemode": "area",
            "sizeref": 0.182375,
            "symbol": "circle"
           },
           "mode": "markers",
           "name": "Cyprus",
           "orientation": "v",
           "showlegend": true,
           "type": "scatter",
           "x": {
            "bdata": "AAAAAJJdKkE=",
            "dtype": "f8"
           },
           "xaxis": "x",
           "y": {
            "bdata": "H4XrUbieMUA=",
            "dtype": "f8"
           },
           "yaxis": "y"
          },
          {
           "hovertemplate": "country=Czechia<br>year=2012<br>population=%{x}<br>value_kg=%{marker.size}<extra></extra>",
           "legendgroup": "Czechia",
           "marker": {
            "color": "#FFA15A",
            "size": {
             "bdata": "pHA9CtcjNEA=",
             "dtype": "f8"
            },
            "sizemode": "area",
            "sizeref": 0.182375,
            "symbol": "circle"
           },
           "mode": "markers",
           "name": "Czechia",
           "orientation": "v",
           "showlegend": true,
           "type": "scatter",
           "x": {
            "bdata": "AAAAIDgMZEE=",
            "dtype": "f8"
           },
           "xaxis": "x",
           "y": {
            "bdata": "pHA9CtcjNEA=",
            "dtype": "f8"
           },
           "yaxis": "y"
          },
          {
           "hovertemplate": "country=Germany<br>year=2012<br>population=%{x}<br>value_kg=%{marker.size}<extra></extra>",
           "legendgroup": "Germany",
           "marker": {
            "color": "#19d3f3",
            "size": {
             "bdata": "w/UoXI+iQUA=",
             "dtype": "f8"
            },
            "sizemode": "area",
            "sizeref": 0.182375,
            "symbol": "circle"
           },
           "mode": "markers",
           "name": "Germany",
           "orientation": "v",
           "showlegend": true,
           "type": "scatter",
           "x": {
            "bdata": "AAAAfM0sk0E=",
            "dtype": "f8"
           },
           "xaxis": "x",
           "y": {
            "bdata": "w/UoXI+iQUA=",
            "dtype": "f8"
           },
           "yaxis": "y"
          },
          {
           "hovertemplate": "country=Denmark<br>year=2012<br>population=%{x}<br>value_kg=%{marker.size}<extra></extra>",
           "legendgroup": "Denmark",
           "marker": {
            "color": "#FF6692",
            "size": {
             "bdata": "zczMzMxsQEA=",
             "dtype": "f8"
            },
            "sizemode": "area",
            "sizeref": 0.182375,
            "symbol": "circle"
           },
           "mode": "markers",
           "name": "Denmark",
           "orientation": "v",
           "showlegend": true,
           "type": "scatter",
           "x": {
            "bdata": "AAAAAIVUVUE=",
            "dtype": "f8"
           },
           "xaxis": "x",
           "y": {
            "bdata": "zczMzMxsQEA=",
            "dtype": "f8"
           },
           "yaxis": "y"
          },
          {
           "hovertemplate": "country=Estonia<br>year=2012<br>population=%{x}<br>value_kg=%{marker.size}<extra></extra>",
           "legendgroup": "Estonia",
           "marker": {
            "color": "#B6E880",
            "size": {
             "bdata": "PQrXo3D9QUA=",
             "dtype": "f8"
            },
            "sizemode": "area",
            "sizeref": 0.182375,
            "symbol": "circle"
           },
           "mode": "markers",
           "name": "Estonia",
           "orientation": "v",
           "showlegend": true,
           "type": "scatter",
           "x": {
            "bdata": "AAAAAMguNEE=",
            "dtype": "f8"
           },
           "xaxis": "x",
           "y": {
            "bdata": "PQrXo3D9QUA=",
            "dtype": "f8"
           },
           "yaxis": "y"
          },
          {
           "hovertemplate": "country=Greece<br>year=2012<br>population=%{x}<br>value_kg=%{marker.size}<extra></extra>",
           "legendgroup": "Greece",
           "marker": {
            "color": "#FF97FF",
            "size": {
             "bdata": "PQrXo3C9MEA=",
             "dtype": "f8"
            },
            "sizemode": "area",
            "sizeref": 0.182375,
            "symbol": "circle"
           },
           "mode": "markers",
           "name": "Greece",
           "orientation": "v",
           "showlegend": true,
           "type": "scatter",
           "x": {
            "bdata": "AAAAYBIRZUE=",
            "dtype": "f8"
           },
           "xaxis": "x",
           "y": {
            "bdata": "PQrXo3C9MEA=",
            "dtype": "f8"
           },
           "yaxis": "y"
          },
          {
           "hovertemplate": "country=Spain<br>year=2012<br>population=%{x}<br>value_kg=%{marker.size}<extra></extra>",
           "legendgroup": "Spain",
           "marker": {
            "color": "#FECB52",
            "size": {
             "bdata": "pHA9CtfjO0A=",
             "dtype": "f8"
            },
            "sizemode": "area",
            "sizeref": 0.182375,
            "symbol": "circle"
           },
           "mode": "markers",
           "name": "Spain",
           "orientation": "v",
           "showlegend": true,
           "type": "scatter",
           "x": {
            "bdata": "AAAA+JlNhkE=",
            "dtype": "f8"
           },
           "xaxis": "x",
           "y": {
            "bdata": "pHA9CtfjO0A=",
            "dtype": "f8"
           },
           "yaxis": "y"
          },
          {
           "hovertemplate": "country=European Union - 27 countries (from 2020)<br>year=2012<br>population=%{x}<br>value_kg=%{marker.size}<extra></extra>",
           "legendgroup": "European Union - 27 countries (from 2020)",
           "marker": {
            "color": "#636efa",
            "size": {
             "bdata": "7FG4HoVrPEA=",
             "dtype": "f8"
            },
            "sizemode": "area",
            "sizeref": 0.182375,
            "symbol": "circle"
           },
           "mode": "markers",
           "name": "European Union - 27 countries (from 2020)",
           "orientation": "v",
           "showlegend": true,
           "type": "scatter",
           "x": {
            "bdata": "AAAAl+5QukE=",
            "dtype": "f8"
           },
           "xaxis": "x",
           "y": {
            "bdata": "7FG4HoVrPEA=",
            "dtype": "f8"
           },
           "yaxis": "y"
          },
          {
           "hovertemplate": "country=Finland<br>year=2012<br>population=%{x}<br>value_kg=%{marker.size}<extra></extra>",
           "legendgroup": "Finland",
           "marker": {
            "color": "#EF553B",
            "size": {
             "bdata": "ZmZmZmamNUA=",
             "dtype": "f8"
            },
            "sizemode": "area",
            "sizeref": 0.182375,
            "symbol": "circle"
           },
           "mode": "markers",
           "name": "Finland",
           "orientation": "v",
           "showlegend": true,
           "type": "scatter",
           "x": {
            "bdata": "AAAAwBSnVEE=",
            "dtype": "f8"
           },
           "xaxis": "x",
           "y": {
            "bdata": "ZmZmZmamNUA=",
            "dtype": "f8"
           },
           "yaxis": "y"
          },
          {
           "hovertemplate": "country=France<br>year=2012<br>population=%{x}<br>value_kg=%{marker.size}<extra></extra>",
           "legendgroup": "France",
           "marker": {
            "color": "#00cc96",
            "size": {
             "bdata": "SOF6FK6HPkA=",
             "dtype": "f8"
            },
            "sizemode": "area",
            "sizeref": 0.182375,
            "symbol": "circle"
           },
           "mode": "markers",
           "name": "France",
           "orientation": "v",
           "showlegend": true,
           "type": "scatter",
           "x": {
            "bdata": "AAAAWB40j0E=",
            "dtype": "f8"
           },
           "xaxis": "x",
           "y": {
            "bdata": "SOF6FK6HPkA=",
            "dtype": "f8"
           },
           "yaxis": "y"
          },
          {
           "hovertemplate": "country=Croatia<br>year=2012<br>population=%{x}<br>value_kg=%{marker.size}<extra></extra>",
           "legendgroup": "Croatia",
           "marker": {
            "color": "#ab63fa",
            "size": {
             "bdata": "H4XrUbieJkA=",
             "dtype": "f8"
            },
            "sizemode": "area",
            "sizeref": 0.182375,
            "symbol": "circle"
           },
           "mode": "markers",
           "name": "Croatia",
           "orientation": "v",
           "showlegend": true,
           "type": "scatter",
           "x": {
            "bdata": "AAAAgAFJUEE=",
            "dtype": "f8"
           },
           "xaxis": "x",
           "y": {
            "bdata": "H4XrUbieJkA=",
            "dtype": "f8"
           },
           "yaxis": "y"
          },
          {
           "hovertemplate": "country=Hungary<br>year=2012<br>population=%{x}<br>value_kg=%{marker.size}<extra></extra>",
           "legendgroup": "Hungary",
           "marker": {
            "color": "#FFA15A",
            "size": {
             "bdata": "ZmZmZmbmOUA=",
             "dtype": "f8"
            },
            "sizemode": "area",
            "sizeref": 0.182375,
            "symbol": "circle"
           },
           "mode": "markers",
           "name": "Hungary",
           "orientation": "v",
           "showlegend": true,
           "type": "scatter",
           "x": {
            "bdata": "AAAAQO3rYkE=",
            "dtype": "f8"
           },
           "xaxis": "x",
           "y": {
            "bdata": "ZmZmZmbmOUA=",
            "dtype": "f8"
           },
           "yaxis": "y"
          },
          {
           "hovertemplate": "country=Ireland<br>year=2012<br>population=%{x}<br>value_kg=%{marker.size}<extra></extra>",
           "legendgroup": "Ireland",
           "marker": {
            "color": "#19d3f3",
            "size": {
             "bdata": "MzMzMzNTQkA=",
             "dtype": "f8"
            },
            "sizemode": "area",
            "sizeref": 0.182375,
            "symbol": "circle"
           },
           "mode": "markers",
           "name": "Ireland",
           "orientation": "v",
           "showlegend": true,
           "type": "scatter",
           "x": {
            "bdata": "AAAAQLuLUUE=",
            "dtype": "f8"
           },
           "xaxis": "x",
           "y": {
            "bdata": "MzMzMzNTQkA=",
            "dtype": "f8"
           },
           "yaxis": "y"
          },
          {
           "hovertemplate": "country=Iceland<br>year=2012<br>population=%{x}<br>value_kg=%{marker.size}<extra></extra>",
           "legendgroup": "Iceland",
           "marker": {
            "color": "#FF6692",
            "size": {
             "bdata": "7FG4HoWrQkA=",
             "dtype": "f8"
            },
            "sizemode": "area",
            "sizeref": 0.182375,
            "symbol": "circle"
           },
           "mode": "markers",
           "name": "Iceland",
           "orientation": "v",
           "showlegend": true,
           "type": "scatter",
           "x": {
            "bdata": "AAAAADCTE0E=",
            "dtype": "f8"
           },
           "xaxis": "x",
           "y": {
            "bdata": "7FG4HoWrQkA=",
            "dtype": "f8"
           },
           "yaxis": "y"
          },
          {
           "hovertemplate": "country=Italy<br>year=2012<br>population=%{x}<br>value_kg=%{marker.size}<extra></extra>",
           "legendgroup": "Italy",
           "marker": {
            "color": "#B6E880",
            "size": {
             "bdata": "7FG4HoULQUA=",
             "dtype": "f8"
            },
            "sizemode": "area",
            "sizeref": 0.182375,
            "symbol": "circle"
           },
           "mode": "markers",
           "name": "Italy",
           "orientation": "v",
           "showlegend": true,
           "type": "scatter",
           "x": {
            "bdata": "AAAAeJCzjEE=",
            "dtype": "f8"
           },
           "xaxis": "x",
           "y": {
            "bdata": "7FG4HoULQUA=",
            "dtype": "f8"
           },
           "yaxis": "y"
          },
          {
           "hovertemplate": "country=Liechtenstein<br>year=2012<br>population=%{x}<br>value_kg=%{marker.size}<extra></extra>",
           "legendgroup": "Liechtenstein",
           "marker": {
            "color": "#FF97FF",
            "size": {
             "bdata": "SOF6FK7HM0A=",
             "dtype": "f8"
            },
            "sizemode": "area",
            "sizeref": 0.182375,
            "symbol": "circle"
           },
           "mode": "markers",
           "name": "Liechtenstein",
           "orientation": "v",
           "showlegend": true,
           "type": "scatter",
           "x": {
            "bdata": "AAAAACDm4UA=",
            "dtype": "f8"
           },
           "xaxis": "x",
           "y": {
            "bdata": "SOF6FK7HM0A=",
            "dtype": "f8"
           },
           "yaxis": "y"
          },
          {
           "hovertemplate": "country=Lithuania<br>year=2012<br>population=%{x}<br>value_kg=%{marker.size}<extra></extra>",
           "legendgroup": "Lithuania",
           "marker": {
            "color": "#FECB52",
            "size": {
             "bdata": "uB6F61H4M0A=",
             "dtype": "f8"
            },
            "sizemode": "area",
            "sizeref": 0.182375,
            "symbol": "circle"
           },
           "mode": "markers",
           "name": "Lithuania",
           "orientation": "v",
           "showlegend": true,
           "type": "scatter",
           "x": {
            "bdata": "AAAAgCnORkE=",
            "dtype": "f8"
           },
           "xaxis": "x",
           "y": {
            "bdata": "uB6F61H4M0A=",
            "dtype": "f8"
           },
           "yaxis": "y"
          },
          {
           "hovertemplate": "country=Luxembourg<br>year=2012<br>population=%{x}<br>value_kg=%{marker.size}<extra></extra>",
           "legendgroup": "Luxembourg",
           "marker": {
            "color": "#636efa",
            "size": {
             "bdata": "PQrXo3DdRkA=",
             "dtype": "f8"
            },
            "sizemode": "area",
            "sizeref": 0.182375,
            "symbol": "circle"
           },
           "mode": "markers",
           "name": "Luxembourg",
           "orientation": "v",
           "showlegend": true,
           "type": "scatter",
           "x": {
            "bdata": "AAAAAAQ0IEE=",
            "dtype": "f8"
           },
           "xaxis": "x",
           "y": {
            "bdata": "PQrXo3DdRkA=",
            "dtype": "f8"
           },
           "yaxis": "y"
          },
          {
           "hovertemplate": "country=Latvia<br>year=2012<br>population=%{x}<br>value_kg=%{marker.size}<extra></extra>",
           "legendgroup": "Latvia",
           "marker": {
            "color": "#EF553B",
            "size": {
             "bdata": "rkfhehQuMkA=",
             "dtype": "f8"
            },
            "sizemode": "area",
            "sizeref": 0.182375,
            "symbol": "circle"
           },
           "mode": "markers",
           "name": "Latvia",
           "orientation": "v",
           "showlegend": true,
           "type": "scatter",
           "x": {
            "bdata": "AAAAAI8KP0E=",
            "dtype": "f8"
           },
           "xaxis": "x",
           "y": {
            "bdata": "rkfhehQuMkA=",
            "dtype": "f8"
           },
           "yaxis": "y"
          },
          {
           "hovertemplate": "country=Malta<br>year=2012<br>population=%{x}<br>value_kg=%{marker.size}<extra></extra>",
           "legendgroup": "Malta",
           "marker": {
            "color": "#00cc96",
            "size": {
             "bdata": "UrgehevROUA=",
             "dtype": "f8"
            },
            "sizemode": "area",
            "sizeref": 0.182375,
            "symbol": "circle"
           },
           "mode": "markers",
           "name": "Malta",
           "orientation": "v",
           "showlegend": true,
           "type": "scatter",
           "x": {
            "bdata": "AAAAAPCiGUE=",
            "dtype": "f8"
           },
           "xaxis": "x",
           "y": {
            "bdata": "UrgehevROUA=",
            "dtype": "f8"
           },
           "yaxis": "y"
          },
          {
           "hovertemplate": "country=Netherlands<br>year=2012<br>population=%{x}<br>value_kg=%{marker.size}<extra></extra>",
           "legendgroup": "Netherlands",
           "marker": {
            "color": "#ab63fa",
            "size": {
             "bdata": "pHA9CtdjO0A=",
             "dtype": "f8"
            },
            "sizemode": "area",
            "sizeref": 0.182375,
            "symbol": "circle"
           },
           "mode": "markers",
           "name": "Netherlands",
           "orientation": "v",
           "showlegend": true,
           "type": "scatter",
           "x": {
            "bdata": "AAAAQCL1b0E=",
            "dtype": "f8"
           },
           "xaxis": "x",
           "y": {
            "bdata": "pHA9CtdjO0A=",
            "dtype": "f8"
           },
           "yaxis": "y"
          },
          {
           "hovertemplate": "country=Norway<br>year=2012<br>population=%{x}<br>value_kg=%{marker.size}<extra></extra>",
           "legendgroup": "Norway",
           "marker": {
            "color": "#FFA15A",
            "size": {
             "bdata": "PQrXo3B9P0A=",
             "dtype": "f8"
            },
            "sizemode": "area",
            "sizeref": 0.182375,
            "symbol": "circle"
           },
           "mode": "markers",
           "name": "Norway",
           "orientation": "v",
           "showlegend": true,
           "type": "scatter",
           "x": {
            "bdata": "AAAAQPMkU0E=",
            "dtype": "f8"
           },
           "xaxis": "x",
           "y": {
            "bdata": "PQrXo3B9P0A=",
            "dtype": "f8"
           },
           "yaxis": "y"
          },
          {
           "hovertemplate": "country=Poland<br>year=2012<br>population=%{x}<br>value_kg=%{marker.size}<extra></extra>",
           "legendgroup": "Poland",
           "marker": {
            "color": "#19d3f3",
            "size": {
             "bdata": "XI/C9SjcNUA=",
             "dtype": "f8"
            },
            "sizemode": "area",
            "sizeref": 0.182375,
            "symbol": "circle"
           },
           "mode": "markers",
           "name": "Poland",
           "orientation": "v",
           "showlegend": true,
           "type": "scatter",
           "x": {
            "bdata": "AAAA4GEmgkE=",
            "dtype": "f8"
           },
           "xaxis": "x",
           "y": {
            "bdata": "XI/C9SjcNUA=",
            "dtype": "f8"
           },
           "yaxis": "y"
          },
          {
           "hovertemplate": "country=Portugal<br>year=2012<br>population=%{x}<br>value_kg=%{marker.size}<extra></extra>",
           "legendgroup": "Portugal",
           "marker": {
            "color": "#FF6692",
            "size": {
             "bdata": "4XoUrkehQEA=",
             "dtype": "f8"
            },
            "sizemode": "area",
            "sizeref": 0.182375,
            "symbol": "circle"
           },
           "mode": "markers",
           "name": "Portugal",
           "orientation": "v",
           "showlegend": true,
           "type": "scatter",
           "x": {
            "bdata": "AAAAgEsWZEE=",
            "dtype": "f8"
           },
           "xaxis": "x",
           "y": {
            "bdata": "4XoUrkehQEA=",
            "dtype": "f8"
           },
           "yaxis": "y"
          },
          {
           "hovertemplate": "country=Romania<br>year=2012<br>population=%{x}<br>value_kg=%{marker.size}<extra></extra>",
           "legendgroup": "Romania",
           "marker": {
            "color": "#B6E880",
            "size": {
             "bdata": "uB6F61G4LUA=",
             "dtype": "f8"
            },
            "sizemode": "area",
            "sizeref": 0.182375,
            "symbol": "circle"
           },
           "mode": "markers",
           "name": "Romania",
           "orientation": "v",
           "showlegend": true,
           "type": "scatter",
           "x": {
            "bdata": "AAAAMPsgc0E=",
            "dtype": "f8"
           },
           "xaxis": "x",
           "y": {
            "bdata": "uB6F61G4LUA=",
            "dtype": "f8"
           },
           "yaxis": "y"
          },
          {
           "hovertemplate": "country=Sweden<br>year=2012<br>population=%{x}<br>value_kg=%{marker.size}<extra></extra>",
           "legendgroup": "Sweden",
           "marker": {
            "color": "#FF97FF",
            "size": {
             "bdata": "cT0K16NwNkA=",
             "dtype": "f8"
            },
            "sizemode": "area",
            "sizeref": 0.182375,
            "symbol": "circle"
           },
           "mode": "markers",
           "name": "Sweden",
           "orientation": "v",
           "showlegend": true,
           "type": "scatter",
           "x": {
            "bdata": "AAAAwCEoYkE=",
            "dtype": "f8"
           },
           "xaxis": "x",
           "y": {
            "bdata": "cT0K16NwNkA=",
            "dtype": "f8"
           },
           "yaxis": "y"
          },
          {
           "hovertemplate": "country=Slovenia<br>year=2012<br>population=%{x}<br>value_kg=%{marker.size}<extra></extra>",
           "legendgroup": "Slovenia",
           "marker": {
            "color": "#FECB52",
            "size": {
             "bdata": "zczMzMzMNUA=",
             "dtype": "f8"
            },
            "sizemode": "area",
            "sizeref": 0.182375,
            "symbol": "circle"
           },
           "mode": "markers",
           "name": "Slovenia",
           "orientation": "v",
           "showlegend": true,
           "type": "scatter",
           "x": {
            "bdata": "AAAAAMdjP0E=",
            "dtype": "f8"
           },
           "xaxis": "x",
           "y": {
            "bdata": "zczMzMzMNUA=",
            "dtype": "f8"
           },
           "yaxis": "y"
          },
          {
           "hovertemplate": "country=Slovakia<br>year=2012<br>population=%{x}<br>value_kg=%{marker.size}<extra></extra>",
           "legendgroup": "Slovakia",
           "marker": {
            "color": "#636efa",
            "size": {
             "bdata": "FK5H4XpUM0A=",
             "dtype": "f8"
            },
            "sizemode": "area",
            "sizeref": 0.182375,
            "symbol": "circle"
           },
           "mode": "markers",
           "name": "Slovakia",
           "orientation": "v",
           "showlegend": true,
           "type": "scatter",
           "x": {
            "bdata": "AAAAwNagVEE=",
            "dtype": "f8"
           },
           "xaxis": "x",
           "y": {
            "bdata": "FK5H4XpUM0A=",
            "dtype": "f8"
           },
           "yaxis": "y"
          }
         ],
         "name": "2012"
        },
        {
         "data": [
          {
           "hovertemplate": "country=Austria<br>year=2013<br>population=%{x}<br>value_kg=%{marker.size}<extra></extra>",
           "legendgroup": "Austria",
           "marker": {
            "color": "#636efa",
            "size": {
             "bdata": "ZmZmZmYGQUA=",
             "dtype": "f8"
            },
            "sizemode": "area",
            "sizeref": 0.182375,
            "symbol": "circle"
           },
           "mode": "markers",
           "name": "Austria",
           "orientation": "v",
           "showlegend": true,
           "type": "scatter",
           "x": {
            "bdata": "AAAA4IksYEE=",
            "dtype": "f8"
           },
           "xaxis": "x",
           "y": {
            "bdata": "ZmZmZmYGQUA=",
            "dtype": "f8"
           },
           "yaxis": "y"
          },
          {
           "hovertemplate": "country=Belgium<br>year=2013<br>population=%{x}<br>value_kg=%{marker.size}<extra></extra>",
           "legendgroup": "Belgium",
           "marker": {
            "color": "#EF553B",
            "size": {
             "bdata": "w/UoXI+CPUA=",
             "dtype": "f8"
            },
            "sizemode": "area",
            "sizeref": 0.182375,
            "symbol": "circle"
           },
           "mode": "markers",
           "name": "Belgium",
           "orientation": "v",
           "showlegend": true,
           "type": "scatter",
           "x": {
            "bdata": "AAAA4O1IZUE=",
            "dtype": "f8"
           },
           "xaxis": "x",
           "y": {
            "bdata": "w/UoXI+CPUA=",
            "dtype": "f8"
           },
           "yaxis": "y"
          },
          {
           "hovertemplate": "country=Bulgaria<br>year=2013<br>population=%{x}<br>value_kg=%{marker.size}<extra></extra>",
           "legendgroup": "Bulgaria",
           "marker": {
            "color": "#00cc96",
            "size": {
             "bdata": "9ihcj8L1KkA=",
             "dtype": "f8"
            },
            "sizemode": "area",
            "sizeref": 0.182375,
            "symbol": "circle"
           },
           "mode": "markers",
           "name": "Bulgaria",
           "orientation": "v",
           "showlegend": true,
           "type": "scatter",
           "x": {
            "bdata": "AAAAQDFQW0E=",
            "dtype": "f8"
           },
           "xaxis": "x",
           "y": {
            "bdata": "9ihcj8L1KkA=",
            "dtype": "f8"
           },
           "yaxis": "y"
          },
          {
           "hovertemplate": "country=Cyprus<br>year=2013<br>population=%{x}<br>value_kg=%{marker.size}<extra></extra>",
           "legendgroup": "Cyprus",
           "marker": {
            "color": "#ab63fa",
            "size": {
             "bdata": "AAAAAABAMkA=",
             "dtype": "f8"
            },
            "sizemode": "area",
            "sizeref": 0.182375,
            "symbol": "circle"
           },
           "mode": "markers",
           "name": "Cyprus",
           "orientation": "v",
           "showlegend": true,
           "type": "scatter",
           "x": {
            "bdata": "AAAAANZVKkE=",
            "dtype": "f8"
           },
           "xaxis": "x",
           "y": {
            "bdata": "AAAAAABAMkA=",
            "dtype": "f8"
           },
           "yaxis": "y"
          },
          {
           "hovertemplate": "country=Czechia<br>year=2013<br>population=%{x}<br>value_kg=%{marker.size}<extra></extra>",
           "legendgroup": "Czechia",
           "marker": {
            "color": "#FFA15A",
            "size": {
             "bdata": "9ihcj8J1NEA=",
             "dtype": "f8"
            },
            "sizemode": "area",
            "sizeref": 0.182375,
            "symbol": "circle"
           },
           "mode": "markers",
           "name": "Czechia",
           "orientation": "v",
           "showlegend": true,
           "type": "scatter",
           "x": {
            "bdata": "AAAAAOwNZEE=",
            "dtype": "f8"
           },
           "xaxis": "x",
           "y": {
            "bdata": "9ihcj8J1NEA=",
            "dtype": "f8"
           },
           "yaxis": "y"
          },
          {
           "hovertemplate": "country=Germany<br>year=2013<br>population=%{x}<br>value_kg=%{marker.size}<extra></extra>",
           "legendgroup": "Germany",
           "marker": {
            "color": "#19d3f3",
            "size": {
             "bdata": "cT0K16PQQUA=",
             "dtype": "f8"
            },
            "sizemode": "area",
            "sizeref": 0.182375,
            "symbol": "circle"
           },
           "mode": "markers",
           "name": "Germany",
           "orientation": "v",
           "showlegend": true,
           "type": "scatter",
           "x": {
            "bdata": "AAAAlDc6k0E=",
            "dtype": "f8"
           },
           "xaxis": "x",
           "y": {
            "bdata": "cT0K16PQQUA=",
            "dtype": "f8"
           },
           "yaxis": "y"
          },
          {
           "hovertemplate": "country=Denmark<br>year=2013<br>population=%{x}<br>value_kg=%{marker.size}<extra></extra>",
           "legendgroup": "Denmark",
           "marker": {
            "color": "#FF6692",
            "size": {
             "bdata": "zczMzMzsQEA=",
             "dtype": "f8"
            },
            "sizemode": "area",
            "sizeref": 0.182375,
            "symbol": "circle"
           },
           "mode": "markers",
           "name": "Denmark",
           "orientation": "v",
           "showlegend": true,
           "type": "scatter",
           "x": {
            "bdata": "AAAAAFVrVUE=",
            "dtype": "f8"
           },
           "xaxis": "x",
           "y": {
            "bdata": "zczMzMzsQEA=",
            "dtype": "f8"
           },
           "yaxis": "y"
          },
          {
           "hovertemplate": "country=Estonia<br>year=2013<br>population=%{x}<br>value_kg=%{marker.size}<extra></extra>",
           "legendgroup": "Estonia",
           "marker": {
            "color": "#B6E880",
            "size": {
             "bdata": "SOF6FK6HSEA=",
             "dtype": "f8"
            },
            "sizemode": "area",
            "sizeref": 0.182375,
            "symbol": "circle"
           },
           "mode": "markers",
           "name": "Estonia",
           "orientation": "v",
           "showlegend": true,
           "type": "scatter",
           "x": {
            "bdata": "AAAAAG0cNEE=",
            "dtype": "f8"
           },
           "xaxis": "x",
           "y": {
            "bdata": "SOF6FK6HSEA=",
            "dtype": "f8"
           },
           "yaxis": "y"
          },
          {
           "hovertemplate": "country=Greece<br>year=2013<br>population=%{x}<br>value_kg=%{marker.size}<extra></extra>",
           "legendgroup": "Greece",
           "marker": {
            "color": "#FF97FF",
            "size": {
             "bdata": "zczMzMyMMEA=",
             "dtype": "f8"
            },
            "sizemode": "area",
            "sizeref": 0.182375,
            "symbol": "circle"
           },
           "mode": "markers",
           "name": "Greece",
           "orientation": "v",
           "showlegend": true,
           "type": "scatter",
           "x": {
            "bdata": "AAAAYBvqZEE=",
            "dtype": "f8"
           },
           "xaxis": "x",
           "y": {
            "bdata": "zczMzMyMMEA=",
            "dtype": "f8"
           },
           "yaxis": "y"
          },
          {
           "hovertemplate": "country=Spain<br>year=2013<br>population=%{x}<br>value_kg=%{marker.size}<extra></extra>",
           "legendgroup": "Spain",
           "marker": {
            "color": "#FECB52",
            "size": {
             "bdata": "w/UoXI8CPEA=",
             "dtype": "f8"
            },
            "sizemode": "area",
            "sizeref": 0.182375,
            "symbol": "circle"
           },
           "mode": "markers",
           "name": "Spain",
           "orientation": "v",
           "showlegend": true,
           "type": "scatter",
           "x": {
            "bdata": "AAAAKP04hkE=",
            "dtype": "f8"
           },
           "xaxis": "x",
           "y": {
            "bdata": "w/UoXI8CPEA=",
            "dtype": "f8"
           },
           "yaxis": "y"
          },
          {
           "hovertemplate": "country=European Union - 27 countries (from 2020)<br>year=2013<br>population=%{x}<br>value_kg=%{marker.size}<extra></extra>",
           "legendgroup": "European Union - 27 countries (from 2020)",
           "marker": {
            "color": "#636efa",
            "size": {
             "bdata": "16NwPQrXPEA=",
             "dtype": "f8"
            },
            "sizemode": "area",
            "sizeref": 0.182375,
            "symbol": "circle"
           },
           "mode": "markers",
           "name": "European Union - 27 countries (from 2020)",
           "orientation": "v",
           "showlegend": true,
           "type": "scatter",
           "x": {
            "bdata": "AAAAXuxWukE=",
            "dtype": "f8"
           },
           "xaxis": "x",
           "y": {
            "bdata": "16NwPQrXPEA=",
            "dtype": "f8"
           },
           "yaxis": "y"
          },
          {
           "hovertemplate": "country=Finland<br>year=2013<br>population=%{x}<br>value_kg=%{marker.size}<extra></extra>",
           "legendgroup": "Finland",
           "marker": {
            "color": "#EF553B",
            "size": {
             "bdata": "ZmZmZmamNUA=",
             "dtype": "f8"
            },
            "sizemode": "area",
            "sizeref": 0.182375,
            "symbol": "circle"
           },
           "mode": "markers",
           "name": "Finland",
           "orientation": "v",
           "showlegend": true,
           "type": "scatter",
           "x": {
            "bdata": "AAAAAH+/VEE=",
            "dtype": "f8"
           },
           "xaxis": "x",
           "y": {
            "bdata": "ZmZmZmamNUA=",
            "dtype": "f8"
           },
           "yaxis": "y"
          },
          {
           "hovertemplate": "country=France<br>year=2013<br>population=%{x}<br>value_kg=%{marker.size}<extra></extra>",
           "legendgroup": "France",
           "marker": {
            "color": "#00cc96",
            "size": {
             "bdata": "16NwPQoXPkA=",
             "dtype": "f8"
            },
            "sizemode": "area",
            "sizeref": 0.182375,
            "symbol": "circle"
           },
           "mode": "markers",
           "name": "France",
           "orientation": "v",
           "showlegend": true,
           "type": "scatter",
           "x": {
            "bdata": "AAAAaLlcj0E=",
            "dtype": "f8"
           },
           "xaxis": "x",
           "y": {
            "bdata": "16NwPQoXPkA=",
            "dtype": "f8"
           },
           "yaxis": "y"
          },
          {
           "hovertemplate": "country=Croatia<br>year=2013<br>population=%{x}<br>value_kg=%{marker.size}<extra></extra>",
           "legendgroup": "Croatia",
           "marker": {
            "color": "#ab63fa",
            "size": {
             "bdata": "CtejcD0KJ0A=",
             "dtype": "f8"
            },
            "sizemode": "area",
            "sizeref": 0.182375,
            "symbol": "circle"
           },
           "mode": "markers",
           "name": "Croatia",
           "orientation": "v",
           "showlegend": true,
           "type": "scatter",
           "x": {
            "bdata": "AAAAgIMlUEE=",
            "dtype": "f8"
           },
           "xaxis": "x",
           "y": {
            "bdata": "CtejcD0KJ0A=",
            "dtype": "f8"
           },
           "yaxis": "y"
          },
          {
           "hovertemplate": "country=Hungary<br>year=2013<br>population=%{x}<br>value_kg=%{marker.size}<extra></extra>",
           "legendgroup": "Hungary",
           "marker": {
            "color": "#FFA15A",
            "size": {
             "bdata": "KVyPwvXoO0A=",
             "dtype": "f8"
            },
            "sizemode": "area",
            "sizeref": 0.182375,
            "symbol": "circle"
           },
           "mode": "markers",
           "name": "Hungary",
           "orientation": "v",
           "showlegend": true,
           "type": "scatter",
           "x": {
            "bdata": "AAAAwKvUYkE=",
            "dtype": "f8"
           },
           "xaxis": "x",
           "y": {
            "bdata": "KVyPwvXoO0A=",
            "dtype": "f8"
           },
           "yaxis": "y"
          },
          {
           "hovertemplate": "country=Ireland<br>year=2013<br>population=%{x}<br>value_kg=%{marker.size}<extra></extra>",
           "legendgroup": "Ireland",
           "marker": {
            "color": "#19d3f3",
            "size": {
             "bdata": "MzMzMzMzRkA=",
             "dtype": "f8"
            },
            "sizemode": "area",
            "sizeref": 0.182375,
            "symbol": "circle"
           },
           "mode": "markers",
           "name": "Ireland",
           "orientation": "v",
           "showlegend": true,
           "type": "scatter",
           "x": {
            "bdata": "AAAAAHKjUUE=",
            "dtype": "f8"
           },
           "xaxis": "x",
           "y": {
            "bdata": "MzMzMzMzRkA=",
            "dtype": "f8"
           },
           "yaxis": "y"
          },
          {
           "hovertemplate": "country=Iceland<br>year=2013<br>population=%{x}<br>value_kg=%{marker.size}<extra></extra>",
           "legendgroup": "Iceland",
           "marker": {
            "color": "#FF6692",
            "size": {
             "bdata": "PQrXo3BdRkA=",
             "dtype": "f8"
            },
            "sizemode": "area",
            "sizeref": 0.182375,
            "symbol": "circle"
           },
           "mode": "markers",
           "name": "Iceland",
           "orientation": "v",
           "showlegend": true,
           "type": "scatter",
           "x": {
            "bdata": "AAAAANDCE0E=",
            "dtype": "f8"
           },
           "xaxis": "x",
           "y": {
            "bdata": "PQrXo3BdRkA=",
            "dtype": "f8"
           },
           "yaxis": "y"
          },
          {
           "hovertemplate": "country=Italy<br>year=2013<br>population=%{x}<br>value_kg=%{marker.size}<extra></extra>",
           "legendgroup": "Italy",
           "marker": {
            "color": "#B6E880",
            "size": {
             "bdata": "j8L1KFzvQEA=",
             "dtype": "f8"
            },
            "sizemode": "area",
            "sizeref": 0.182375,
            "symbol": "circle"
           },
           "mode": "markers",
           "name": "Italy",
           "orientation": "v",
           "showlegend": true,
           "type": "scatter",
           "x": {
            "bdata": "AAAA6EHCjEE=",
            "dtype": "f8"
           },
           "xaxis": "x",
           "y": {
            "bdata": "j8L1KFzvQEA=",
            "dtype": "f8"
           },
           "yaxis": "y"
          },
          {
           "hovertemplate": "country=Liechtenstein<br>year=2013<br>population=%{x}<br>value_kg=%{marker.size}<extra></extra>",
           "legendgroup": "Liechtenstein",
           "marker": {
            "color": "#FF97FF",
            "size": {
             "bdata": "SOF6FK5HM0A=",
             "dtype": "f8"
            },
            "sizemode": "area",
            "sizeref": 0.182375,
            "symbol": "circle"
           },
           "mode": "markers",
           "name": "Liechtenstein",
           "orientation": "v",
           "showlegend": true,
           "type": "scatter",
           "x": {
            "bdata": "AAAAAAAP4kA=",
            "dtype": "f8"
           },
           "xaxis": "x",
           "y": {
            "bdata": "SOF6FK5HM0A=",
            "dtype": "f8"
           },
           "yaxis": "y"
          },
          {
           "hovertemplate": "country=Lithuania<br>year=2013<br>population=%{x}<br>value_kg=%{marker.size}<extra></extra>",
           "legendgroup": "Lithuania",
           "marker": {
            "color": "#FECB52",
            "size": {
             "bdata": "16NwPQpXNUA=",
             "dtype": "f8"
            },
            "sizemode": "area",
            "sizeref": 0.182375,
            "symbol": "circle"
           },
           "mode": "markers",
           "name": "Lithuania",
           "orientation": "v",
           "showlegend": true,
           "type": "scatter",
           "x": {
            "bdata": "AAAAALGXRkE=",
            "dtype": "f8"
           },
           "xaxis": "x",
           "y": {
            "bdata": "16NwPQpXNUA=",
            "dtype": "f8"
           },
           "yaxis": "y"
          },
          {
           "hovertemplate": "country=Luxembourg<br>year=2013<br>population=%{x}<br>value_kg=%{marker.size}<extra></extra>",
           "legendgroup": "Luxembourg",
           "marker": {
            "color": "#636efa",
            "size": {
             "bdata": "zczMzMwMSUA=",
             "dtype": "f8"
            },
            "sizemode": "area",
            "sizeref": 0.182375,
            "symbol": "circle"
           },
           "mode": "markers",
           "name": "Luxembourg",
           "orientation": "v",
           "showlegend": true,
           "type": "scatter",
           "x": {
            "bdata": "AAAAAACVIEE=",
            "dtype": "f8"
           },
           "xaxis": "x",
           "y": {
            "bdata": "zczMzMwMSUA=",
            "dtype": "f8"
           },
           "yaxis": "y"
          },
          {
           "hovertemplate": "country=Latvia<br>year=2013<br>population=%{x}<br>value_kg=%{marker.size}<extra></extra>",
           "legendgroup": "Latvia",
           "marker": {
            "color": "#EF553B",
            "size": {
             "bdata": "pHA9CtcjNEA=",
             "dtype": "f8"
            },
            "sizemode": "area",
            "sizeref": 0.182375,
            "symbol": "circle"
           },
           "mode": "markers",
           "name": "Latvia",
           "orientation": "v",
           "showlegend": true,
           "type": "scatter",
           "x": {
            "bdata": "AAAAAOe1PkE=",
            "dtype": "f8"
           },
           "xaxis": "x",
           "y": {
            "bdata": "pHA9CtcjNEA=",
            "dtype": "f8"
           },
           "yaxis": "y"
          },
          {
           "hovertemplate": "country=Malta<br>year=2013<br>population=%{x}<br>value_kg=%{marker.size}<extra></extra>",
           "legendgroup": "Malta",
           "marker": {
            "color": "#00cc96",
            "size": {
             "bdata": "SOF6FK4HO0A=",
             "dtype": "f8"
            },
            "sizemode": "area",
            "sizeref": 0.182375,
            "symbol": "circle"
           },
           "mode": "markers",
           "name": "Malta",
           "orientation": "v",
           "showlegend": true,
           "type": "scatter",
           "x": {
            "bdata": "AAAAAKjtGUE=",
            "dtype": "f8"
           },
           "xaxis": "x",
           "y": {
            "bdata": "SOF6FK4HO0A=",
            "dtype": "f8"
           },
           "yaxis": "y"
          },
          {
           "hovertemplate": "country=Netherlands<br>year=2013<br>population=%{x}<br>value_kg=%{marker.size}<extra></extra>",
           "legendgroup": "Netherlands",
           "marker": {
            "color": "#ab63fa",
            "size": {
             "bdata": "mpmZmZnZO0A=",
             "dtype": "f8"
            },
            "sizemode": "area",
            "sizeref": 0.182375,
            "symbol": "circle"
           },
           "mode": "markers",
           "name": "Netherlands",
           "orientation": "v",
           "showlegend": true,
           "type": "scatter",
           "x": {
            "bdata": "AAAAAKUGcEE=",
            "dtype": "f8"
           },
           "xaxis": "x",
           "y": {
            "bdata": "mpmZmZnZO0A=",
            "dtype": "f8"
           },
           "yaxis": "y"
          },
          {
           "hovertemplate": "country=Norway<br>year=2013<br>population=%{x}<br>value_kg=%{marker.size}<extra></extra>",
           "legendgroup": "Norway",
           "marker": {
            "color": "#FFA15A",
            "size": {
             "bdata": "hetRuB7lQEA=",
             "dtype": "f8"
            },
            "sizemode": "area",
            "sizeref": 0.182375,
            "symbol": "circle"
           },
           "mode": "markers",
           "name": "Norway",
           "orientation": "v",
           "showlegend": true,
           "type": "scatter",
           "x": {
            "bdata": "AAAAwJFgU0E=",
            "dtype": "f8"
           },
           "xaxis": "x",
           "y": {
            "bdata": "hetRuB7lQEA=",
            "dtype": "f8"
           },
           "yaxis": "y"
          },
          {
           "hovertemplate": "country=Poland<br>year=2013<br>population=%{x}<br>value_kg=%{marker.size}<extra></extra>",
           "legendgroup": "Poland",
           "marker": {
            "color": "#19d3f3",
            "size": {
             "bdata": "SOF6FK6HN0A=",
             "dtype": "f8"
            },
            "sizemode": "area",
            "sizeref": 0.182375,
            "symbol": "circle"
           },
           "mode": "markers",
           "name": "Poland",
           "orientation": "v",
           "showlegend": true,
           "type": "scatter",
           "x": {
            "bdata": "AAAAIJQjgkE=",
            "dtype": "f8"
           },
           "xaxis": "x",
           "y": {
            "bdata": "SOF6FK6HN0A=",
            "dtype": "f8"
           },
           "yaxis": "y"
          },
          {
           "hovertemplate": "country=Portugal<br>year=2013<br>population=%{x}<br>value_kg=%{marker.size}<extra></extra>",
           "legendgroup": "Portugal",
           "marker": {
            "color": "#FF6692",
            "size": {
             "bdata": "zczMzMwMQUA=",
             "dtype": "f8"
            },
            "sizemode": "area",
            "sizeref": 0.182375,
            "symbol": "circle"
           },
           "mode": "markers",
           "name": "Portugal",
           "orientation": "v",
           "showlegend": true,
           "type": "scatter",
           "x": {
            "bdata": "AAAA4ED6Y0E=",
            "dtype": "f8"
           },
           "xaxis": "x",
           "y": {
            "bdata": "zczMzMwMQUA=",
            "dtype": "f8"
           },
           "yaxis": "y"
          },
          {
           "hovertemplate": "country=Romania<br>year=2013<br>population=%{x}<br>value_kg=%{marker.size}<extra></extra>",
           "legendgroup": "Romania",
           "marker": {
            "color": "#B6E880",
            "size": {
             "bdata": "j8L1KFwPLUA=",
             "dtype": "f8"
            },
            "sizemode": "area",
            "sizeref": 0.182375,
            "symbol": "circle"
           },
           "mode": "markers",
           "name": "Romania",
           "orientation": "v",
           "showlegend": true,
           "type": "scatter",
           "x": {
            "bdata": "AAAA0NQOc0E=",
            "dtype": "f8"
           },
           "xaxis": "x",
           "y": {
            "bdata": "j8L1KFwPLUA=",
            "dtype": "f8"
           },
           "yaxis": "y"
          },
          {
           "hovertemplate": "country=Sweden<br>year=2013<br>population=%{x}<br>value_kg=%{marker.size}<extra></extra>",
           "legendgroup": "Sweden",
           "marker": {
            "color": "#FF97FF",
            "size": {
             "bdata": "rkfhehQuN0A=",
             "dtype": "f8"
            },
            "sizemode": "area",
            "sizeref": 0.182375,
            "symbol": "circle"
           },
           "mode": "markers",
           "name": "Sweden",
           "orientation": "v",
           "showlegend": true,
           "type": "scatter",
           "x": {
            "bdata": "AAAAYK9PYkE=",
            "dtype": "f8"
           },
           "xaxis": "x",
           "y": {
            "bdata": "rkfhehQuN0A=",
            "dtype": "f8"
           },
           "yaxis": "y"
          },
          {
           "hovertemplate": "country=Slovenia<br>year=2013<br>population=%{x}<br>value_kg=%{marker.size}<extra></extra>",
           "legendgroup": "Slovenia",
           "marker": {
            "color": "#FECB52",
            "size": {
             "bdata": "KVyPwvVoNEA=",
             "dtype": "f8"
            },
            "sizemode": "area",
            "sizeref": 0.182375,
            "symbol": "circle"
           },
           "mode": "markers",
           "name": "Slovenia",
           "orientation": "v",
           "showlegend": true,
           "type": "scatter",
           "x": {
            "bdata": "AAAAALFuP0E=",
            "dtype": "f8"
           },
           "xaxis": "x",
           "y": {
            "bdata": "KVyPwvVoNEA=",
            "dtype": "f8"
           },
           "yaxis": "y"
          },
          {
           "hovertemplate": "country=Slovakia<br>year=2013<br>population=%{x}<br>value_kg=%{marker.size}<extra></extra>",
           "legendgroup": "Slovakia",
           "marker": {
            "color": "#636efa",
            "size": {
             "bdata": "j8L1KFwPMkA=",
             "dtype": "f8"
            },
            "sizemode": "area",
            "sizeref": 0.182375,
            "symbol": "circle"
           },
           "mode": "markers",
           "name": "Slovakia",
           "orientation": "v",
           "showlegend": true,
           "type": "scatter",
           "x": {
            "bdata": "AAAAQISmVEE=",
            "dtype": "f8"
           },
           "xaxis": "x",
           "y": {
            "bdata": "j8L1KFwPMkA=",
            "dtype": "f8"
           },
           "yaxis": "y"
          }
         ],
         "name": "2013"
        },
        {
         "data": [
          {
           "hovertemplate": "country=Austria<br>year=2014<br>population=%{x}<br>value_kg=%{marker.size}<extra></extra>",
           "legendgroup": "Austria",
           "marker": {
            "color": "#636efa",
            "size": {
             "bdata": "FK5H4XoUQUA=",
             "dtype": "f8"
            },
            "sizemode": "area",
            "sizeref": 0.182375,
            "symbol": "circle"
           },
           "mode": "markers",
           "name": "Austria",
           "orientation": "v",
           "showlegend": true,
           "type": "scatter",
           "x": {
            "bdata": "AAAAgAZNYEE=",
            "dtype": "f8"
           },
           "xaxis": "x",
           "y": {
            "bdata": "FK5H4XoUQUA=",
            "dtype": "f8"
           },
           "yaxis": "y"
          },
          {
           "hovertemplate": "country=Belgium<br>year=2014<br>population=%{x}<br>value_kg=%{marker.size}<extra></extra>",
           "legendgroup": "Belgium",
           "marker": {
            "color": "#EF553B",
            "size": {
             "bdata": "XI/C9ShcPUA=",
             "dtype": "f8"
            },
            "sizemode": "area",
            "sizeref": 0.182375,
            "symbol": "circle"
           },
           "mode": "markers",
           "name": "Belgium",
           "orientation": "v",
           "showlegend": true,
           "type": "scatter",
           "x": {
            "bdata": "AAAAICxhZUE=",
            "dtype": "f8"
           },
           "xaxis": "x",
           "y": {
            "bdata": "XI/C9ShcPUA=",
            "dtype": "f8"
           },
           "yaxis": "y"
          },
          {
           "hovertemplate": "country=Bulgaria<br>year=2014<br>population=%{x}<br>value_kg=%{marker.size}<extra></extra>",
           "legendgroup": "Bulgaria",
           "marker": {
            "color": "#00cc96",
            "size": {
             "bdata": "XI/C9SjcLEA=",
             "dtype": "f8"
            },
            "sizemode": "area",
            "sizeref": 0.182375,
            "symbol": "circle"
           },
           "mode": "markers",
           "name": "Bulgaria",
           "orientation": "v",
           "showlegend": true,
           "type": "scatter",
           "x": {
            "bdata": "AAAAAMn7WkE=",
            "dtype": "f8"
           },
           "xaxis": "x",
           "y": {
            "bdata": "XI/C9SjcLEA=",
            "dtype": "f8"
           },
           "yaxis": "y"
          },
          {
           "hovertemplate": "country=Cyprus<br>year=2014<br>population=%{x}<br>value_kg=%{marker.size}<extra></extra>",
           "legendgroup": "Cyprus",
           "marker": {
            "color": "#ab63fa",
            "size": {
             "bdata": "j8L1KFyPMkA=",
             "dtype": "f8"
            },
            "sizemode": "area",
            "sizeref": 0.182375,
            "symbol": "circle"
           },
           "mode": "markers",
           "name": "Cyprus",
           "orientation": "v",
           "showlegend": true,
           "type": "scatter",
           "x": {
            "bdata": "AAAAAC5CKkE=",
            "dtype": "f8"
           },
           "xaxis": "x",
           "y": {
            "bdata": "j8L1KFyPMkA=",
            "dtype": "f8"
           },
           "yaxis": "y"
          },
          {
           "hovertemplate": "country=Czechia<br>year=2014<br>population=%{x}<br>value_kg=%{marker.size}<extra></extra>",
           "legendgroup": "Czechia",
           "marker": {
            "color": "#FFA15A",
            "size": {
             "bdata": "CtejcD3KNEA=",
             "dtype": "f8"
            },
            "sizemode": "area",
            "sizeref": 0.182375,
            "symbol": "circle"
           },
           "mode": "markers",
           "name": "Czechia",
           "orientation": "v",
           "showlegend": true,
           "type": "scatter",
           "x": {
            "bdata": "AAAAYFQTZEE=",
            "dtype": "f8"
           },
           "xaxis": "x",
           "y": {
            "bdata": "CtejcD3KNEA=",
            "dtype": "f8"
           },
           "yaxis": "y"
          },
          {
           "hovertemplate": "country=Germany<br>year=2014<br>population=%{x}<br>value_kg=%{marker.size}<extra></extra>",
           "legendgroup": "Germany",
           "marker": {
            "color": "#19d3f3",
            "size": {
             "bdata": "j8L1KFwvQkA=",
             "dtype": "f8"
            },
            "sizemode": "area",
            "sizeref": 0.182375,
            "symbol": "circle"
           },
           "mode": "markers",
           "name": "Germany",
           "orientation": "v",
           "showlegend": true,
           "type": "scatter",
           "x": {
            "bdata": "AAAAkMdOk0E=",
            "dtype": "f8"
           },
           "xaxis": "x",
           "y": {
            "bdata": "j8L1KFwvQkA=",
            "dtype": "f8"
           },
           "yaxis": "y"
          },
          {
           "hovertemplate": "country=Denmark<br>year=2014<br>population=%{x}<br>value_kg=%{marker.size}<extra></extra>",
           "legendgroup": "Denmark",
           "marker": {
            "color": "#FF6692",
            "size": {
             "bdata": "XI/C9SicQEA=",
             "dtype": "f8"
            },
            "sizemode": "area",
            "sizeref": 0.182375,
            "symbol": "circle"
           },
           "mode": "markers",
           "name": "Denmark",
           "orientation": "v",
           "showlegend": true,
           "type": "scatter",
           "x": {
            "bdata": "AAAAwDSHVUE=",
            "dtype": "f8"
           },
           "xaxis": "x",
           "y": {
            "bdata": "XI/C9SicQEA=",
            "dtype": "f8"
           },
           "yaxis": "y"
          },
          {
           "hovertemplate": "country=Estonia<br>year=2014<br>population=%{x}<br>value_kg=%{marker.size}<extra></extra>",
           "legendgroup": "Estonia",
           "marker": {
            "color": "#B6E880",
            "size": {
             "bdata": "9ihcj8IVSUA=",
             "dtype": "f8"
            },
            "sizemode": "area",
            "sizeref": 0.182375,
            "symbol": "circle"
           },
           "mode": "markers",
           "name": "Estonia",
           "orientation": "v",
           "showlegend": true,
           "type": "scatter",
           "x": {
            "bdata": "AAAAAPEONEE=",
            "dtype": "f8"
           },
           "xaxis": "x",
           "y": {
            "bdata": "9ihcj8IVSUA=",
            "dtype": "f8"
           },
           "yaxis": "y"
          },
          {
           "hovertemplate": "country=Greece<br>year=2014<br>population=%{x}<br>value_kg=%{marker.size}<extra></extra>",
           "legendgroup": "Greece",
           "marker": {
            "color": "#FF97FF",
            "size": {
             "bdata": "rkfhehTuMEA=",
             "dtype": "f8"
            },
            "sizemode": "area",
            "sizeref": 0.182375,
            "symbol": "circle"
           },
           "mode": "markers",
           "name": "Greece",
           "orientation": "v",
           "showlegend": true,
           "type": "scatter",
           "x": {
            "bdata": "AAAAoI/GZEE=",
            "dtype": "f8"
           },
           "xaxis": "x",
           "y": {
            "bdata": "rkfhehTuMEA=",
            "dtype": "f8"
           },
           "yaxis": "y"
          },
          {
           "hovertemplate": "country=Spain<br>year=2014<br>population=%{x}<br>value_kg=%{marker.size}<extra></extra>",
           "legendgroup": "Spain",
           "marker": {
            "color": "#FECB52",
            "size": {
             "bdata": "SOF6FK6HPkA=",
             "dtype": "f8"
            },
            "sizemode": "area",
            "sizeref": 0.182375,
            "symbol": "circle"
           },
           "mode": "markers",
           "name": "Spain",
           "orientation": "v",
           "showlegend": true,
           "type": "scatter",
           "x": {
            "bdata": "AAAA6HknhkE=",
            "dtype": "f8"
           },
           "xaxis": "x",
           "y": {
            "bdata": "SOF6FK6HPkA=",
            "dtype": "f8"
           },
           "yaxis": "y"
          },
          {
           "hovertemplate": "country=European Union - 27 countries (from 2020)<br>year=2014<br>population=%{x}<br>value_kg=%{marker.size}<extra></extra>",
           "legendgroup": "European Union - 27 countries (from 2020)",
           "marker": {
            "color": "#636efa",
            "size": {
             "bdata": "zczMzMzMPUA=",
             "dtype": "f8"
            },
            "sizemode": "area",
            "sizeref": 0.182375,
            "symbol": "circle"
           },
           "mode": "markers",
           "name": "European Union - 27 countries (from 2020)",
           "orientation": "v",
           "showlegend": true,
           "type": "scatter",
           "x": {
            "bdata": "AAAAWVphukE=",
            "dtype": "f8"
           },
           "xaxis": "x",
           "y": {
            "bdata": "zczMzMzMPUA=",
            "dtype": "f8"
           },
           "yaxis": "y"
          },
          {
           "hovertemplate": "country=Finland<br>year=2014<br>population=%{x}<br>value_kg=%{marker.size}<extra></extra>",
           "legendgroup": "Finland",
           "marker": {
            "color": "#EF553B",
            "size": {
             "bdata": "4XoUrkdhNUA=",
             "dtype": "f8"
            },
            "sizemode": "area",
            "sizeref": 0.182375,
            "symbol": "circle"
           },
           "mode": "markers",
           "name": "Finland",
           "orientation": "v",
           "showlegend": true,
           "type": "scatter",
           "x": {
            "bdata": "AAAAAILVVEE=",
            "dtype": "f8"
           },
           "xaxis": "x",
           "y": {
            "bdata": "4XoUrkdhNUA=",
            "dtype": "f8"
           },
           "yaxis": "y"
          },
          {
           "hovertemplate": "country=France<br>year=2014<br>population=%{x}<br>value_kg=%{marker.size}<extra></extra>",
           "legendgroup": "France",
           "marker": {
            "color": "#00cc96",
            "size": {
             "bdata": "mpmZmZkZP0A=",
             "dtype": "f8"
            },
            "sizemode": "area",
            "sizeref": 0.182375,
            "symbol": "circle"
           },
           "mode": "markers",
           "name": "France",
           "orientation": "v",
           "showlegend": true,
           "type": "scatter",
           "x": {
            "bdata": "AAAAGLyej0E=",
            "dtype": "f8"
           },
           "xaxis": "x",
           "y": {
            "bdata": "mpmZmZkZP0A=",
            "dtype": "f8"
           },
           "yaxis": "y"
          },
          {
           "hovertemplate": "country=Croatia<br>year=2014<br>population=%{x}<br>value_kg=%{marker.size}<extra></extra>",
           "legendgroup": "Croatia",
           "marker": {
            "color": "#ab63fa",
            "size": {
             "bdata": "4XoUrkdhJ0A=",
             "dtype": "f8"
            },
            "sizemode": "area",
            "sizeref": 0.182375,
            "symbol": "circle"
           },
           "mode": "markers",
           "name": "Croatia",
           "orientation": "v",
           "showlegend": true,
           "type": "scatter",
           "x": {
            "bdata": "AAAAgNoEUEE=",
            "dtype": "f8"
           },
           "xaxis": "x",
           "y": {
            "bdata": "4XoUrkdhJ0A=",
            "dtype": "f8"
           },
           "yaxis": "y"
          },
          {
           "hovertemplate": "country=Hungary<br>year=2014<br>population=%{x}<br>value_kg=%{marker.size}<extra></extra>",
           "legendgroup": "Hungary",
           "marker": {
            "color": "#FFA15A",
            "size": {
             "bdata": "zczMzMxMOkA=",
             "dtype": "f8"
            },
            "sizemode": "area",
            "sizeref": 0.182375,
            "symbol": "circle"
           },
           "mode": "markers",
           "name": "Hungary",
           "orientation": "v",
           "showlegend": true,
           "type": "scatter",
           "x": {
            "bdata": "AAAAwEnBYkE=",
            "dtype": "f8"
           },
           "xaxis": "x",
           "y": {
            "bdata": "zczMzMxMOkA=",
            "dtype": "f8"
           },
           "yaxis": "y"
          },
          {
           "hovertemplate": "country=Ireland<br>year=2014<br>population=%{x}<br>value_kg=%{marker.size}<extra></extra>",
           "legendgroup": "Ireland",
           "marker": {
            "color": "#19d3f3",
            "size": {
             "bdata": "KVyPwvWoTUA=",
             "dtype": "f8"
            },
            "sizemode": "area",
            "sizeref": 0.182375,
            "symbol": "circle"
           },
           "mode": "markers",
           "name": "Ireland",
           "orientation": "v",
           "showlegend": true,
           "type": "scatter",
           "x": {
            "bdata": "AAAAAJPEUUE=",
            "dtype": "f8"
           },
           "xaxis": "x",
           "y": {
            "bdata": "KVyPwvWoTUA=",
            "dtype": "f8"
           },
           "yaxis": "y"
          },
          {
           "hovertemplate": "country=Iceland<br>year=2014<br>population=%{x}<br>value_kg=%{marker.size}<extra></extra>",
           "legendgroup": "Iceland",
           "marker": {
            "color": "#FF6692",
            "size": {
             "bdata": "UrgeheuRRUA=",
             "dtype": "f8"
            },
            "sizemode": "area",
            "sizeref": 0.182375,
            "symbol": "circle"
           },
           "mode": "markers",
           "name": "Iceland",
           "orientation": "v",
           "showlegend": true,
           "type": "scatter",
           "x": {
            "bdata": "AAAAAGj7E0E=",
            "dtype": "f8"
           },
           "xaxis": "x",
           "y": {
            "bdata": "UrgeheuRRUA=",
            "dtype": "f8"
           },
           "yaxis": "y"
          },
          {
           "hovertemplate": "country=Italy<br>year=2014<br>population=%{x}<br>value_kg=%{marker.size}<extra></extra>",
           "legendgroup": "Italy",
           "marker": {
            "color": "#B6E880",
            "size": {
             "bdata": "4XoUrkdBQUA=",
             "dtype": "f8"
            },
            "sizemode": "area",
            "sizeref": 0.182375,
            "symbol": "circle"
           },
           "mode": "markers",
           "name": "Italy",
           "orientation": "v",
           "showlegend": true,
           "type": "scatter",
           "x": {
            "bdata": "AAAAGF7DjEE=",
            "dtype": "f8"
           },
           "xaxis": "x",
           "y": {
            "bdata": "4XoUrkdBQUA=",
            "dtype": "f8"
           },
           "yaxis": "y"
          },
          {
           "hovertemplate": "country=Liechtenstein<br>year=2014<br>population=%{x}<br>value_kg=%{marker.size}<extra></extra>",
           "legendgroup": "Liechtenstein",
           "marker": {
            "color": "#FF97FF",
            "size": {
             "bdata": "exSuR+H6MkA=",
             "dtype": "f8"
            },
            "sizemode": "area",
            "sizeref": 0.182375,
            "symbol": "circle"
           },
           "mode": "markers",
           "name": "Liechtenstein",
           "orientation": "v",
           "showlegend": true,
           "type": "scatter",
           "x": {
            "bdata": "AAAAAAAw4kA=",
            "dtype": "f8"
           },
           "xaxis": "x",
           "y": {
            "bdata": "exSuR+H6MkA=",
            "dtype": "f8"
           },
           "yaxis": "y"
          },
          {
           "hovertemplate": "country=Lithuania<br>year=2014<br>population=%{x}<br>value_kg=%{marker.size}<extra></extra>",
           "legendgroup": "Lithuania",
           "marker": {
            "color": "#FECB52",
            "size": {
             "bdata": "FK5H4XrUNkA=",
             "dtype": "f8"
            },
            "sizemode": "area",
            "sizeref": 0.182375,
            "symbol": "circle"
           },
           "mode": "markers",
           "name": "Lithuania",
           "orientation": "v",
           "showlegend": true,
           "type": "scatter",
           "x": {
            "bdata": "AAAAgNJoRkE=",
            "dtype": "f8"
           },
           "xaxis": "x",
           "y": {
            "bdata": "FK5H4XrUNkA=",
            "dtype": "f8"
           },
           "yaxis": "y"
          },
          {
           "hovertemplate": "country=Luxembourg<br>year=2014<br>population=%{x}<br>value_kg=%{marker.size}<extra></extra>",
           "legendgroup": "Luxembourg",
           "marker": {
            "color": "#636efa",
            "size": {
             "bdata": "w/UoXI8CSUA=",
             "dtype": "f8"
            },
            "sizemode": "area",
            "sizeref": 0.182375,
            "symbol": "circle"
           },
           "mode": "markers",
           "name": "Luxembourg",
           "orientation": "v",
           "showlegend": true,
           "type": "scatter",
           "x": {
            "bdata": "AAAAAD76IEE=",
            "dtype": "f8"
           },
           "xaxis": "x",
           "y": {
            "bdata": "w/UoXI8CSUA=",
            "dtype": "f8"
           },
           "yaxis": "y"
          },
          {
           "hovertemplate": "country=Latvia<br>year=2014<br>population=%{x}<br>value_kg=%{marker.size}<extra></extra>",
           "legendgroup": "Latvia",
           "marker": {
            "color": "#EF553B",
            "size": {
             "bdata": "KVyPwvVoM0A=",
             "dtype": "f8"
            },
            "sizemode": "area",
            "sizeref": 0.182375,
            "symbol": "circle"
           },
           "mode": "markers",
           "name": "Latvia",
           "orientation": "v",
           "showlegend": true,
           "type": "scatter",
           "x": {
            "bdata": "AAAAADZsPkE=",
            "dtype": "f8"
           },
           "xaxis": "x",
           "y": {
            "bdata": "KVyPwvVoM0A=",
            "dtype": "f8"
           },
           "yaxis": "y"
          },
          {
           "hovertemplate": "country=Malta<br>year=2014<br>population=%{x}<br>value_kg=%{marker.size}<extra></extra>",
           "legendgroup": "Malta",
           "marker": {
            "color": "#00cc96",
            "size": {
             "bdata": "CtejcD3KOUA=",
             "dtype": "f8"
            },
            "sizemode": "area",
            "sizeref": 0.182375,
            "symbol": "circle"
           },
           "mode": "markers",
           "name": "Malta",
           "orientation": "v",
           "showlegend": true,
           "type": "scatter",
           "x": {
            "bdata": "AAAAACR1GkE=",
            "dtype": "f8"
           },
           "xaxis": "x",
           "y": {
            "bdata": "CtejcD3KOUA=",
            "dtype": "f8"
           },
           "yaxis": "y"
          },
          {
           "hovertemplate": "country=Netherlands<br>year=2014<br>population=%{x}<br>value_kg=%{marker.size}<extra></extra>",
           "legendgroup": "Netherlands",
           "marker": {
            "color": "#ab63fa",
            "size": {
             "bdata": "XI/C9SgcPEA=",
             "dtype": "f8"
            },
            "sizemode": "area",
            "sizeref": 0.182375,
            "symbol": "circle"
           },
           "mode": "markers",
           "name": "Netherlands",
           "orientation": "v",
           "showlegend": true,
           "type": "scatter",
           "x": {
            "bdata": "AAAAAG8VcEE=",
            "dtype": "f8"
           },
           "xaxis": "x",
           "y": {
            "bdata": "XI/C9SgcPEA=",
            "dtype": "f8"
           },
           "yaxis": "y"
          },
          {
           "hovertemplate": "country=Norway<br>year=2014<br>population=%{x}<br>value_kg=%{marker.size}<extra></extra>",
           "legendgroup": "Norway",
           "marker": {
            "color": "#FFA15A",
            "size": {
             "bdata": "MzMzMzMTQEA=",
             "dtype": "f8"
            },
            "sizemode": "area",
            "sizeref": 0.182375,
            "symbol": "circle"
           },
           "mode": "markers",
           "name": "Norway",
           "orientation": "v",
           "showlegend": true,
           "type": "scatter",
           "x": {
            "bdata": "AAAAQAWZU0E=",
            "dtype": "f8"
           },
           "xaxis": "x",
           "y": {
            "bdata": "MzMzMzMTQEA=",
            "dtype": "f8"
           },
           "yaxis": "y"
          },
          {
           "hovertemplate": "country=Poland<br>year=2014<br>population=%{x}<br>value_kg=%{marker.size}<extra></extra>",
           "legendgroup": "Poland",
           "marker": {
            "color": "#19d3f3",
            "size": {
             "bdata": "mpmZmZmZN0A=",
             "dtype": "f8"
            },
            "sizemode": "area",
            "sizeref": 0.182375,
            "symbol": "circle"
           },
           "mode": "markers",
           "name": "Poland",
           "orientation": "v",
           "showlegend": true,
           "type": "scatter",
           "x": {
            "bdata": "AAAAuBoggkE=",
            "dtype": "f8"
           },
           "xaxis": "x",
           "y": {
            "bdata": "mpmZmZmZN0A=",
            "dtype": "f8"
           },
           "yaxis": "y"
          },
          {
           "hovertemplate": "country=Portugal<br>year=2014<br>population=%{x}<br>value_kg=%{marker.size}<extra></extra>",
           "legendgroup": "Portugal",
           "marker": {
            "color": "#FF6692",
            "size": {
             "bdata": "pHA9CtdDQUA=",
             "dtype": "f8"
            },
            "sizemode": "area",
            "sizeref": 0.182375,
            "symbol": "circle"
           },
           "mode": "markers",
           "name": "Portugal",
           "orientation": "v",
           "showlegend": true,
           "type": "scatter",
           "x": {
            "bdata": "AAAA4LLfY0E=",
            "dtype": "f8"
           },
           "xaxis": "x",
           "y": {
            "bdata": "pHA9CtdDQUA=",
            "dtype": "f8"
           },
           "yaxis": "y"
          },
          {
           "hovertemplate": "country=Romania<br>year=2014<br>population=%{x}<br>value_kg=%{marker.size}<extra></extra>",
           "legendgroup": "Romania",
           "marker": {
            "color": "#B6E880",
            "size": {
             "bdata": "7FG4HoXrMEA=",
             "dtype": "f8"
            },
            "sizemode": "area",
            "sizeref": 0.182375,
            "symbol": "circle"
           },
           "mode": "markers",
           "name": "Romania",
           "orientation": "v",
           "showlegend": true,
           "type": "scatter",
           "x": {
            "bdata": "AAAAMJf8ckE=",
            "dtype": "f8"
           },
           "xaxis": "x",
           "y": {
            "bdata": "7FG4HoXrMEA=",
            "dtype": "f8"
           },
           "yaxis": "y"
          },
          {
           "hovertemplate": "country=Sweden<br>year=2014<br>population=%{x}<br>value_kg=%{marker.size}<extra></extra>",
           "legendgroup": "Sweden",
           "marker": {
            "color": "#FF97FF",
            "size": {
             "bdata": "zczMzMyMN0A=",
             "dtype": "f8"
            },
            "sizemode": "area",
            "sizeref": 0.182375,
            "symbol": "circle"
           },
           "mode": "markers",
           "name": "Sweden",
           "orientation": "v",
           "showlegend": true,
           "type": "scatter",
           "x": {
            "bdata": "AAAAwG1+YkE=",
            "dtype": "f8"
           },
           "xaxis": "x",
           "y": {
            "bdata": "zczMzMyMN0A=",
            "dtype": "f8"
           },
           "yaxis": "y"
          },
          {
           "hovertemplate": "country=Slovenia<br>year=2014<br>population=%{x}<br>value_kg=%{marker.size}<extra></extra>",
           "legendgroup": "Slovenia",
           "marker": {
            "color": "#FECB52",
            "size": {
             "bdata": "cT0K16NwNUA=",
             "dtype": "f8"
            },
            "sizemode": "area",
            "sizeref": 0.182375,
            "symbol": "circle"
           },
           "mode": "markers",
           "name": "Slovenia",
           "orientation": "v",
           "showlegend": true,
           "type": "scatter",
           "x": {
            "bdata": "AAAAAJx2P0E=",
            "dtype": "f8"
           },
           "xaxis": "x",
           "y": {
            "bdata": "cT0K16NwNUA=",
            "dtype": "f8"
           },
           "yaxis": "y"
          },
          {
           "hovertemplate": "country=Slovakia<br>year=2014<br>population=%{x}<br>value_kg=%{marker.size}<extra></extra>",
           "legendgroup": "Slovakia",
           "marker": {
            "color": "#636efa",
            "size": {
             "bdata": "SOF6FK4HMkA=",
             "dtype": "f8"
            },
            "sizemode": "area",
            "sizeref": 0.182375,
            "symbol": "circle"
           },
           "mode": "markers",
           "name": "Slovakia",
           "orientation": "v",
           "showlegend": true,
           "type": "scatter",
           "x": {
            "bdata": "AAAAQKarVEE=",
            "dtype": "f8"
           },
           "xaxis": "x",
           "y": {
            "bdata": "SOF6FK4HMkA=",
            "dtype": "f8"
           },
           "yaxis": "y"
          }
         ],
         "name": "2014"
        },
        {
         "data": [
          {
           "hovertemplate": "country=Austria<br>year=2015<br>population=%{x}<br>value_kg=%{marker.size}<extra></extra>",
           "legendgroup": "Austria",
           "marker": {
            "color": "#636efa",
            "size": {
             "bdata": "j8L1KFwPQUA=",
             "dtype": "f8"
            },
            "sizemode": "area",
            "sizeref": 0.182375,
            "symbol": "circle"
           },
           "mode": "markers",
           "name": "Austria",
           "orientation": "v",
           "showlegend": true,
           "type": "scatter",
           "x": {
            "bdata": "AAAAYBF8YEE=",
            "dtype": "f8"
           },
           "xaxis": "x",
           "y": {
            "bdata": "j8L1KFwPQUA=",
            "dtype": "f8"
           },
           "yaxis": "y"
          },
          {
           "hovertemplate": "country=Belgium<br>year=2015<br>population=%{x}<br>value_kg=%{marker.size}<extra></extra>",
           "legendgroup": "Belgium",
           "marker": {
            "color": "#EF553B",
            "size": {
             "bdata": "4XoUrkchPkA=",
             "dtype": "f8"
            },
            "sizemode": "area",
            "sizeref": 0.182375,
            "symbol": "circle"
           },
           "mode": "markers",
           "name": "Belgium",
           "orientation": "v",
           "showlegend": true,
           "type": "scatter",
           "x": {
            "bdata": "AAAAgPqAZUE=",
            "dtype": "f8"
           },
           "xaxis": "x",
           "y": {
            "bdata": "4XoUrkchPkA=",
            "dtype": "f8"
           },
           "yaxis": "y"
          },
          {
           "hovertemplate": "country=Bulgaria<br>year=2015<br>population=%{x}<br>value_kg=%{marker.size}<extra></extra>",
           "legendgroup": "Bulgaria",
           "marker": {
            "color": "#00cc96",
            "size": {
             "bdata": "AAAAAACALEA=",
             "dtype": "f8"
            },
            "sizemode": "area",
            "sizeref": 0.182375,
            "symbol": "circle"
           },
           "mode": "markers",
           "name": "Bulgaria",
           "orientation": "v",
           "showlegend": true,
           "type": "scatter",
           "x": {
            "bdata": "AAAAQIikWkE=",
            "dtype": "f8"
           },
           "xaxis": "x",
           "y": {
            "bdata": "AAAAAACALEA=",
            "dtype": "f8"
           },
           "yaxis": "y"
          },
          {
           "hovertemplate": "country=Cyprus<br>year=2015<br>population=%{x}<br>value_kg=%{marker.size}<extra></extra>",
           "legendgroup": "Cyprus",
           "marker": {
            "color": "#ab63fa",
            "size": {
             "bdata": "PQrXo3D9MkA=",
             "dtype": "f8"
            },
            "sizemode": "area",
            "sizeref": 0.182375,
            "symbol": "circle"
           },
           "mode": "markers",
           "name": "Cyprus",
           "orientation": "v",
           "showlegend": true,
           "type": "scatter",
           "x": {
            "bdata": "AAAAAMJQKkE=",
            "dtype": "f8"
           },
           "xaxis": "x",
           "y": {
            "bdata": "PQrXo3D9MkA=",
            "dtype": "f8"
           },
           "yaxis": "y"
          },
          {
           "hovertemplate": "country=Czechia<br>year=2015<br>population=%{x}<br>value_kg=%{marker.size}<extra></extra>",
           "legendgroup": "Czechia",
           "marker": {
            "color": "#FFA15A",
            "size": {
             "bdata": "MzMzMzNzN0A=",
             "dtype": "f8"
            },
            "sizemode": "area",
            "sizeref": 0.182375,
            "symbol": "circle"
           },
           "mode": "markers",
           "name": "Czechia",
           "orientation": "v",
           "showlegend": true,
           "type": "scatter",
           "x": {
            "bdata": "AAAAYHEdZEE=",
            "dtype": "f8"
           },
           "xaxis": "x",
           "y": {
            "bdata": "MzMzMzNzN0A=",
            "dtype": "f8"
           },
           "yaxis": "y"
          },
          {
           "hovertemplate": "country=Germany<br>year=2015<br>population=%{x}<br>value_kg=%{marker.size}<extra></extra>",
           "legendgroup": "Germany",
           "marker": {
            "color": "#19d3f3",
            "size": {
             "bdata": "rkfhehSuQkA=",
             "dtype": "f8"
            },
            "sizemode": "area",
            "sizeref": 0.182375,
            "symbol": "circle"
           },
           "mode": "markers",
           "name": "Germany",
           "orientation": "v",
           "showlegend": true,
           "type": "scatter",
           "x": {
            "bdata": "AAAATMF5k0E=",
            "dtype": "f8"
           },
           "xaxis": "x",
           "y": {
            "bdata": "rkfhehSuQkA=",
            "dtype": "f8"
           },
           "yaxis": "y"
          },
          {
           "hovertemplate": "country=Denmark<br>year=2015<br>population=%{x}<br>value_kg=%{marker.size}<extra></extra>",
           "legendgroup": "Denmark",
           "marker": {
            "color": "#FF6692",
            "size": {
             "bdata": "9ihcj8JVQUA=",
             "dtype": "f8"
            },
            "sizemode": "area",
            "sizeref": 0.182375,
            "symbol": "circle"
           },
           "mode": "markers",
           "name": "Denmark",
           "orientation": "v",
           "showlegend": true,
           "type": "scatter",
           "x": {
            "bdata": "AAAAwEauVUE=",
            "dtype": "f8"
           },
           "xaxis": "x",
           "y": {
            "bdata": "9ihcj8JVQUA=",
            "dtype": "f8"
           },
           "yaxis": "y"
          },
          {
           "hovertemplate": "country=Estonia<br>year=2015<br>population=%{x}<br>value_kg=%{marker.size}<extra></extra>",
           "legendgroup": "Estonia",
           "marker": {
            "color": "#B6E880",
            "size": {
             "bdata": "XI/C9Sg8R0A=",
             "dtype": "f8"
            },
            "sizemode": "area",
            "sizeref": 0.182375,
            "symbol": "circle"
           },
           "mode": "markers",
           "name": "Estonia",
           "orientation": "v",
           "showlegend": true,
           "type": "scatter",
           "x": {
            "bdata": "AAAAAE8SNEE=",
            "dtype": "f8"
           },
           "xaxis": "x",
           "y": {
            "bdata": "XI/C9Sg8R0A=",
            "dtype": "f8"
           },
           "yaxis": "y"
          },
          {
           "hovertemplate": "country=Greece<br>year=2015<br>population=%{x}<br>value_kg=%{marker.size}<extra></extra>",
           "legendgroup": "Greece",
           "marker": {
            "color": "#FF97FF",
            "size": {
             "bdata": "PQrXo3D9MEA=",
             "dtype": "f8"
            },
            "sizemode": "area",
            "sizeref": 0.182375,
            "symbol": "circle"
           },
           "mode": "markers",
           "name": "Greece",
           "orientation": "v",
           "showlegend": true,
           "type": "scatter",
           "x": {
            "bdata": "AAAAYKKjZEE=",
            "dtype": "f8"
           },
           "xaxis": "x",
           "y": {
            "bdata": "PQrXo3D9MEA=",
            "dtype": "f8"
           },
           "yaxis": "y"
          },
          {
           "hovertemplate": "country=Spain<br>year=2015<br>population=%{x}<br>value_kg=%{marker.size}<extra></extra>",
           "legendgroup": "Spain",
           "marker": {
            "color": "#FECB52",
            "size": {
             "bdata": "hetRuB7FP0A=",
             "dtype": "f8"
            },
            "sizemode": "area",
            "sizeref": 0.182375,
            "symbol": "circle"
           },
           "mode": "markers",
           "name": "Spain",
           "orientation": "v",
           "showlegend": true,
           "type": "scatter",
           "x": {
            "bdata": "AAAA+MgihkE=",
            "dtype": "f8"
           },
           "xaxis": "x",
           "y": {
            "bdata": "hetRuB7FP0A=",
            "dtype": "f8"
           },
           "yaxis": "y"
          },
          {
           "hovertemplate": "country=European Union - 27 countries (from 2020)<br>year=2015<br>population=%{x}<br>value_kg=%{marker.size}<extra></extra>",
           "legendgroup": "European Union - 27 countries (from 2020)",
           "marker": {
            "color": "#636efa",
            "size": {
             "bdata": "j8L1KFzPPkA=",
             "dtype": "f8"
            },
            "sizemode": "area",
            "sizeref": 0.182375,
            "symbol": "circle"
           },
           "mode": "markers",
           "name": "European Union - 27 countries (from 2020)",
           "orientation": "v",
           "showlegend": true,
           "type": "scatter",
           "x": {
            "bdata": "AAAAUYBuukE=",
            "dtype": "f8"
           },
           "xaxis": "x",
           "y": {
            "bdata": "j8L1KFzPPkA=",
            "dtype": "f8"
           },
           "yaxis": "y"
          },
          {
           "hovertemplate": "country=Finland<br>year=2015<br>population=%{x}<br>value_kg=%{marker.size}<extra></extra>",
           "legendgroup": "Finland",
           "marker": {
            "color": "#EF553B",
            "size": {
             "bdata": "hetRuB5FNUA=",
             "dtype": "f8"
            },
            "sizemode": "area",
            "sizeref": 0.182375,
            "symbol": "circle"
           },
           "mode": "markers",
           "name": "Finland",
           "orientation": "v",
           "showlegend": true,
           "type": "scatter",
           "x": {
            "bdata": "AAAAwBrnVEE=",
            "dtype": "f8"
           },
           "xaxis": "x",
           "y": {
            "bdata": "hetRuB5FNUA=",
            "dtype": "f8"
           },
           "yaxis": "y"
          },
          {
           "hovertemplate": "country=France<br>year=2015<br>population=%{x}<br>value_kg=%{marker.size}<extra></extra>",
           "legendgroup": "France",
           "marker": {
            "color": "#00cc96",
            "size": {
             "bdata": "SOF6FK4HQEA=",
             "dtype": "f8"
            },
            "sizemode": "area",
            "sizeref": 0.182375,
            "symbol": "circle"
           },
           "mode": "markers",
           "name": "France",
           "orientation": "v",
           "showlegend": true,
           "type": "scatter",
           "x": {
            "bdata": "AAAAgJG7j0E=",
            "dtype": "f8"
           },
           "xaxis": "x",
           "y": {
            "bdata": "SOF6FK4HQEA=",
            "dtype": "f8"
           },
           "yaxis": "y"
          },
          {
           "hovertemplate": "country=Croatia<br>year=2015<br>population=%{x}<br>value_kg=%{marker.size}<extra></extra>",
           "legendgroup": "Croatia",
           "marker": {
            "color": "#ab63fa",
            "size": {
             "bdata": "AAAAAAAAKUA=",
             "dtype": "f8"
            },
            "sizemode": "area",
            "sizeref": 0.182375,
            "symbol": "circle"
           },
           "mode": "markers",
           "name": "Croatia",
           "orientation": "v",
           "showlegend": true,
           "type": "scatter",
           "x": {
            "bdata": "AAAAgDe1T0E=",
            "dtype": "f8"
           },
           "xaxis": "x",
           "y": {
            "bdata": "AAAAAAAAKUA=",
            "dtype": "f8"
           },
           "yaxis": "y"
          },
          {
           "hovertemplate": "country=Hungary<br>year=2015<br>population=%{x}<br>value_kg=%{marker.size}<extra></extra>",
           "legendgroup": "Hungary",
           "marker": {
            "color": "#FFA15A",
            "size": {
             "bdata": "mpmZmZmZPkA=",
             "dtype": "f8"
            },
            "sizemode": "area",
            "sizeref": 0.182375,
            "symbol": "circle"
           },
           "mode": "markers",
           "name": "Hungary",
           "orientation": "v",
           "showlegend": true,
           "type": "scatter",
           "x": {
            "bdata": "AAAAYA+wYkE=",
            "dtype": "f8"
           },
           "xaxis": "x",
           "y": {
            "bdata": "mpmZmZmZPkA=",
            "dtype": "f8"
           },
           "yaxis": "y"
          },
          {
           "hovertemplate": "country=Ireland<br>year=2015<br>population=%{x}<br>value_kg=%{marker.size}<extra></extra>",
           "legendgroup": "Ireland",
           "marker": {
            "color": "#19d3f3",
            "size": {
             "bdata": "4XoUrkcBTkA=",
             "dtype": "f8"
            },
            "sizemode": "area",
            "sizeref": 0.182375,
            "symbol": "circle"
           },
           "mode": "markers",
           "name": "Ireland",
           "orientation": "v",
           "showlegend": true,
           "type": "scatter",
           "x": {
            "bdata": "AAAAQMHvUUE=",
            "dtype": "f8"
           },
           "xaxis": "x",
           "y": {
            "bdata": "4XoUrkcBTkA=",
            "dtype": "f8"
           },
           "yaxis": "y"
          },
          {
           "hovertemplate": "country=Iceland<br>year=2015<br>population=%{x}<br>value_kg=%{marker.size}<extra></extra>",
           "legendgroup": "Iceland",
           "marker": {
            "color": "#FF6692",
            "size": {
             "bdata": "PQrXo3B9RkA=",
             "dtype": "f8"
            },
            "sizemode": "area",
            "sizeref": 0.182375,
            "symbol": "circle"
           },
           "mode": "markers",
           "name": "Iceland",
           "orientation": "v",
           "showlegend": true,
           "type": "scatter",
           "x": {
            "bdata": "AAAAAPwwFEE=",
            "dtype": "f8"
           },
           "xaxis": "x",
           "y": {
            "bdata": "PQrXo3B9RkA=",
            "dtype": "f8"
           },
           "yaxis": "y"
          },
          {
           "hovertemplate": "country=Italy<br>year=2015<br>population=%{x}<br>value_kg=%{marker.size}<extra></extra>",
           "legendgroup": "Italy",
           "marker": {
            "color": "#B6E880",
            "size": {
             "bdata": "7FG4HoWrQUA=",
             "dtype": "f8"
            },
            "sizemode": "area",
            "sizeref": 0.182375,
            "symbol": "circle"
           },
           "mode": "markers",
           "name": "Italy",
           "orientation": "v",
           "showlegend": true,
           "type": "scatter",
           "x": {
            "bdata": "AAAAKD+4jEE=",
            "dtype": "f8"
           },
           "xaxis": "x",
           "y": {
            "bdata": "7FG4HoWrQUA=",
            "dtype": "f8"
           },
           "yaxis": "y"
          },
          {
           "hovertemplate": "country=Liechtenstein<br>year=2015<br>population=%{x}<br>value_kg=%{marker.size}<extra></extra>",
           "legendgroup": "Liechtenstein",
           "marker": {
            "color": "#FF97FF",
            "size": {
             "bdata": "9ihcj8L1NEA=",
             "dtype": "f8"
            },
            "sizemode": "area",
            "sizeref": 0.182375,
            "symbol": "circle"
           },
           "mode": "markers",
           "name": "Liechtenstein",
           "orientation": "v",
           "showlegend": true,
           "type": "scatter",
           "x": {
            "bdata": "AAAAAMBO4kA=",
            "dtype": "f8"
           },
           "xaxis": "x",
           "y": {
            "bdata": "9ihcj8L1NEA=",
            "dtype": "f8"
           },
           "yaxis": "y"
          },
          {
           "hovertemplate": "country=Lithuania<br>year=2015<br>population=%{x}<br>value_kg=%{marker.size}<extra></extra>",
           "legendgroup": "Lithuania",
           "marker": {
            "color": "#FECB52",
            "size": {
             "bdata": "AAAAAACANkA=",
             "dtype": "f8"
            },
            "sizemode": "area",
            "sizeref": 0.182375,
            "symbol": "circle"
           },
           "mode": "markers",
           "name": "Lithuania",
           "orientation": "v",
           "showlegend": true,
           "type": "scatter",
           "x": {
            "bdata": "AAAAgMI1RkE=",
            "dtype": "f8"
           },
           "xaxis": "x",
           "y": {
            "bdata": "AAAAAACANkA=",
            "dtype": "f8"
           },
           "yaxis": "y"
          },
          {
           "hovertemplate": "country=Luxembourg<br>year=2015<br>population=%{x}<br>value_kg=%{marker.size}<extra></extra>",
           "legendgroup": "Luxembourg",
           "marker": {
            "color": "#636efa",
            "size": {
             "bdata": "cT0K16NwR0A=",
             "dtype": "f8"
            },
            "sizemode": "area",
            "sizeref": 0.182375,
            "symbol": "circle"
           },
           "mode": "markers",
           "name": "Luxembourg",
           "orientation": "v",
           "showlegend": true,
           "type": "scatter",
           "x": {
            "bdata": "AAAAAAhiIUE=",
            "dtype": "f8"
           },
           "xaxis": "x",
           "y": {
            "bdata": "cT0K16NwR0A=",
            "dtype": "f8"
           },
           "yaxis": "y"
          },
          {
           "hovertemplate": "country=Latvia<br>year=2015<br>population=%{x}<br>value_kg=%{marker.size}<extra></extra>",
           "legendgroup": "Latvia",
           "marker": {
            "color": "#EF553B",
            "size": {
             "bdata": "7FG4HoXrNEA=",
             "dtype": "f8"
            },
            "sizemode": "area",
            "sizeref": 0.182375,
            "symbol": "circle"
           },
           "mode": "markers",
           "name": "Latvia",
           "orientation": "v",
           "showlegend": true,
           "type": "scatter",
           "x": {
            "bdata": "AAAAALcsPkE=",
            "dtype": "f8"
           },
           "xaxis": "x",
           "y": {
            "bdata": "7FG4HoXrNEA=",
            "dtype": "f8"
           },
           "yaxis": "y"
          },
          {
           "hovertemplate": "country=Malta<br>year=2015<br>population=%{x}<br>value_kg=%{marker.size}<extra></extra>",
           "legendgroup": "Malta",
           "marker": {
            "color": "#00cc96",
            "size": {
             "bdata": "FK5H4XoUPEA=",
             "dtype": "f8"
            },
            "sizemode": "area",
            "sizeref": 0.182375,
            "symbol": "circle"
           },
           "mode": "markers",
           "name": "Malta",
           "orientation": "v",
           "showlegend": true,
           "type": "scatter",
           "x": {
            "bdata": "AAAAAPAcG0E=",
            "dtype": "f8"
           },
           "xaxis": "x",
           "y": {
            "bdata": "FK5H4XoUPEA=",
            "dtype": "f8"
           },
           "yaxis": "y"
          },
          {
           "hovertemplate": "country=Netherlands<br>year=2015<br>population=%{x}<br>value_kg=%{marker.size}<extra></extra>",
           "legendgroup": "Netherlands",
           "marker": {
            "color": "#ab63fa",
            "size": {
             "bdata": "CtejcD0KPUA=",
             "dtype": "f8"
            },
            "sizemode": "area",
            "sizeref": 0.182375,
            "symbol": "circle"
           },
           "mode": "markers",
           "name": "Netherlands",
           "orientation": "v",
           "showlegend": true,
           "type": "scatter",
           "x": {
            "bdata": "AAAAMLkncEE=",
            "dtype": "f8"
           },
           "xaxis": "x",
           "y": {
            "bdata": "CtejcD0KPUA=",
            "dtype": "f8"
           },
           "yaxis": "y"
          },
          {
           "hovertemplate": "country=Norway<br>year=2015<br>population=%{x}<br>value_kg=%{marker.size}<extra></extra>",
           "legendgroup": "Norway",
           "marker": {
            "color": "#FFA15A",
            "size": {
             "bdata": "PQrXo3C9QUA=",
             "dtype": "f8"
            },
            "sizemode": "area",
            "sizeref": 0.182375,
            "symbol": "circle"
           },
           "mode": "markers",
           "name": "Norway",
           "orientation": "v",
           "showlegend": true,
           "type": "scatter",
           "x": {
            "bdata": "AAAAgEHMU0E=",
            "dtype": "f8"
           },
           "xaxis": "x",
           "y": {
            "bdata": "PQrXo3C9QUA=",
            "dtype": "f8"
           },
           "yaxis": "y"
          },
          {
           "hovertemplate": "country=Poland<br>year=2015<br>population=%{x}<br>value_kg=%{marker.size}<extra></extra>",
           "legendgroup": "Poland",
           "marker": {
            "color": "#19d3f3",
            "size": {
             "bdata": "4XoUrkehOEA=",
             "dtype": "f8"
            },
            "sizemode": "area",
            "sizeref": 0.182375,
            "symbol": "circle"
           },
           "mode": "markers",
           "name": "Poland",
           "orientation": "v",
           "showlegend": true,
           "type": "scatter",
           "x": {
            "bdata": "AAAAYAMdgkE=",
            "dtype": "f8"
           },
           "xaxis": "x",
           "y": {
            "bdata": "4XoUrkehOEA=",
            "dtype": "f8"
           },
           "yaxis": "y"
          },
          {
           "hovertemplate": "country=Portugal<br>year=2015<br>population=%{x}<br>value_kg=%{marker.size}<extra></extra>",
           "legendgroup": "Portugal",
           "marker": {
            "color": "#FF6692",
            "size": {
             "bdata": "j8L1KFzPQUA=",
             "dtype": "f8"
            },
            "sizemode": "area",
            "sizeref": 0.182375,
            "symbol": "circle"
           },
           "mode": "markers",
           "name": "Portugal",
           "orientation": "v",
           "showlegend": true,
           "type": "scatter",
           "x": {
            "bdata": "AAAAwEHNY0E=",
            "dtype": "f8"
           },
           "xaxis": "x",
           "y": {
            "bdata": "j8L1KFzPQUA=",
            "dtype": "f8"
           },
           "yaxis": "y"
          },
          {
           "hovertemplate": "country=Romania<br>year=2015<br>population=%{x}<br>value_kg=%{marker.size}<extra></extra>",
           "legendgroup": "Romania",
           "marker": {
            "color": "#B6E880",
            "size": {
             "bdata": "H4XrUbgeMkA=",
             "dtype": "f8"
            },
            "sizemode": "area",
            "sizeref": 0.182375,
            "symbol": "circle"
           },
           "mode": "markers",
           "name": "Romania",
           "orientation": "v",
           "showlegend": true,
           "type": "scatter",
           "x": {
            "bdata": "AAAAAMzlckE=",
            "dtype": "f8"
           },
           "xaxis": "x",
           "y": {
            "bdata": "H4XrUbgeMkA=",
            "dtype": "f8"
           },
           "yaxis": "y"
          },
          {
           "hovertemplate": "country=Sweden<br>year=2015<br>population=%{x}<br>value_kg=%{marker.size}<extra></extra>",
           "legendgroup": "Sweden",
           "marker": {
            "color": "#FF97FF",
            "size": {
             "bdata": "UrgeheuRN0A=",
             "dtype": "f8"
            },
            "sizemode": "area",
            "sizeref": 0.182375,
            "symbol": "circle"
           },
           "mode": "markers",
           "name": "Sweden",
           "orientation": "v",
           "showlegend": true,
           "type": "scatter",
           "x": {
            "bdata": "AAAAQMKwYkE=",
            "dtype": "f8"
           },
           "xaxis": "x",
           "y": {
            "bdata": "UrgeheuRN0A=",
            "dtype": "f8"
           },
           "yaxis": "y"
          },
          {
           "hovertemplate": "country=Slovenia<br>year=2015<br>population=%{x}<br>value_kg=%{marker.size}<extra></extra>",
           "legendgroup": "Slovenia",
           "marker": {
            "color": "#FECB52",
            "size": {
             "bdata": "mpmZmZnZNUA=",
             "dtype": "f8"
            },
            "sizemode": "area",
            "sizeref": 0.182375,
            "symbol": "circle"
           },
           "mode": "markers",
           "name": "Slovenia",
           "orientation": "v",
           "showlegend": true,
           "type": "scatter",
           "x": {
            "bdata": "AAAAAKt8P0E=",
            "dtype": "f8"
           },
           "xaxis": "x",
           "y": {
            "bdata": "mpmZmZnZNUA=",
            "dtype": "f8"
           },
           "yaxis": "y"
          },
          {
           "hovertemplate": "country=Slovakia<br>year=2015<br>population=%{x}<br>value_kg=%{marker.size}<extra></extra>",
           "legendgroup": "Slovakia",
           "marker": {
            "color": "#636efa",
            "size": {
             "bdata": "H4XrUbieM0A=",
             "dtype": "f8"
            },
            "sizemode": "area",
            "sizeref": 0.182375,
            "symbol": "circle"
           },
           "mode": "markers",
           "name": "Slovakia",
           "orientation": "v",
           "showlegend": true,
           "type": "scatter",
           "x": {
            "bdata": "AAAAQK6wVEE=",
            "dtype": "f8"
           },
           "xaxis": "x",
           "y": {
            "bdata": "H4XrUbieM0A=",
            "dtype": "f8"
           },
           "yaxis": "y"
          }
         ],
         "name": "2015"
        },
        {
         "data": [
          {
           "hovertemplate": "country=Austria<br>year=2016<br>population=%{x}<br>value_kg=%{marker.size}<extra></extra>",
           "legendgroup": "Austria",
           "marker": {
            "color": "#636efa",
            "size": {
             "bdata": "7FG4HoULQUA=",
             "dtype": "f8"
            },
            "sizemode": "area",
            "sizeref": 0.182375,
            "symbol": "circle"
           },
           "mode": "markers",
           "name": "Austria",
           "orientation": "v",
           "showlegend": true,
           "type": "scatter",
           "x": {
            "bdata": "AAAAgPOpYEE=",
            "dtype": "f8"
           },
           "xaxis": "x",
           "y": {
            "bdata": "7FG4HoULQUA=",
            "dtype": "f8"
           },
           "yaxis": "y"
          },
          {
           "hovertemplate": "country=Belgium<br>year=2016<br>population=%{x}<br>value_kg=%{marker.size}<extra></extra>",
           "legendgroup": "Belgium",
           "marker": {
            "color": "#EF553B",
            "size": {
             "bdata": "SOF6FK5HPkA=",
             "dtype": "f8"
            },
            "sizemode": "area",
            "sizeref": 0.182375,
            "symbol": "circle"
           },
           "mode": "markers",
           "name": "Belgium",
           "orientation": "v",
           "showlegend": true,
           "type": "scatter",
           "x": {
            "bdata": "AAAAwOucZUE=",
            "dtype": "f8"
           },
           "xaxis": "x",
           "y": {
            "bdata": "SOF6FK5HPkA=",
            "dtype": "f8"
           },
           "yaxis": "y"
          },
          {
           "hovertemplate": "country=Bulgaria<br>year=2016<br>population=%{x}<br>value_kg=%{marker.size}<extra></extra>",
           "legendgroup": "Bulgaria",
           "marker": {
            "color": "#00cc96",
            "size": {
             "bdata": "ZmZmZmZmL0A=",
             "dtype": "f8"
            },
            "sizemode": "area",
            "sizeref": 0.182375,
            "symbol": "circle"
           },
           "mode": "markers",
           "name": "Bulgaria",
           "orientation": "v",
           "showlegend": true,
           "type": "scatter",
           "x": {
            "bdata": "AAAAwI5MWkE=",
            "dtype": "f8"
           },
           "xaxis": "x",
           "y": {
            "bdata": "ZmZmZmZmL0A=",
            "dtype": "f8"
           },
           "yaxis": "y"
          },
          {
           "hovertemplate": "country=Cyprus<br>year=2016<br>population=%{x}<br>value_kg=%{marker.size}<extra></extra>",
           "legendgroup": "Cyprus",
           "marker": {
            "color": "#ab63fa",
            "size": {
             "bdata": "16NwPQpXM0A=",
             "dtype": "f8"
            },
            "sizemode": "area",
            "sizeref": 0.182375,
            "symbol": "circle"
           },
           "mode": "markers",
           "name": "Cyprus",
           "orientation": "v",
           "showlegend": true,
           "type": "scatter",
           "x": {
            "bdata": "AAAAAAp0KkE=",
            "dtype": "f8"
           },
           "xaxis": "x",
           "y": {
            "bdata": "16NwPQpXM0A=",
            "dtype": "f8"
           },
           "yaxis": "y"
          },
          {
           "hovertemplate": "country=Czechia<br>year=2016<br>population=%{x}<br>value_kg=%{marker.size}<extra></extra>",
           "legendgroup": "Czechia",
           "marker": {
            "color": "#FFA15A",
            "size": {
             "bdata": "7FG4HoVrNkA=",
             "dtype": "f8"
            },
            "sizemode": "area",
            "sizeref": 0.182375,
            "symbol": "circle"
           },
           "mode": "markers",
           "name": "Czechia",
           "orientation": "v",
           "showlegend": true,
           "type": "scatter",
           "x": {
            "bdata": "AAAAgFcnZEE=",
            "dtype": "f8"
           },
           "xaxis": "x",
           "y": {
            "bdata": "7FG4HoVrNkA=",
            "dtype": "f8"
           },
           "yaxis": "y"
          },
          {
           "hovertemplate": "country=Germany<br>year=2016<br>population=%{x}<br>value_kg=%{marker.size}<extra></extra>",
           "legendgroup": "Germany",
           "marker": {
            "color": "#19d3f3",
            "size": {
             "bdata": "j8L1KFzPQkA=",
             "dtype": "f8"
            },
            "sizemode": "area",
            "sizeref": 0.182375,
            "symbol": "circle"
           },
           "mode": "markers",
           "name": "Germany",
           "orientation": "v",
           "showlegend": true,
           "type": "scatter",
           "x": {
            "bdata": "AAAA9Cmik0E=",
            "dtype": "f8"
           },
           "xaxis": "x",
           "y": {
            "bdata": "j8L1KFzPQkA=",
            "dtype": "f8"
           },
           "yaxis": "y"
          },
          {
           "hovertemplate": "country=Denmark<br>year=2016<br>population=%{x}<br>value_kg=%{marker.size}<extra></extra>",
           "legendgroup": "Denmark",
           "marker": {
            "color": "#FF6692",
            "size": {
             "bdata": "exSuR+G6QkA=",
             "dtype": "f8"
            },
            "sizemode": "area",
            "sizeref": 0.182375,
            "symbol": "circle"
           },
           "mode": "markers",
           "name": "Denmark",
           "orientation": "v",
           "showlegend": true,
           "type": "scatter",
           "x": {
            "bdata": "AAAAgMLZVUE=",
            "dtype": "f8"
           },
           "xaxis": "x",
           "y": {
            "bdata": "exSuR+G6QkA=",
            "dtype": "f8"
           },
           "yaxis": "y"
          },
          {
           "hovertemplate": "country=Estonia<br>year=2016<br>population=%{x}<br>value_kg=%{marker.size}<extra></extra>",
           "legendgroup": "Estonia",
           "marker": {
            "color": "#B6E880",
            "size": {
             "bdata": "zczMzMyMSEA=",
             "dtype": "f8"
            },
            "sizemode": "area",
            "sizeref": 0.182375,
            "symbol": "circle"
           },
           "mode": "markers",
           "name": "Estonia",
           "orientation": "v",
           "showlegend": true,
           "type": "scatter",
           "x": {
            "bdata": "AAAAAM4TNEE=",
            "dtype": "f8"
           },
           "xaxis": "x",
           "y": {
            "bdata": "zczMzMyMSEA=",
            "dtype": "f8"
           },
           "yaxis": "y"
          },
          {
           "hovertemplate": "country=Greece<br>year=2016<br>population=%{x}<br>value_kg=%{marker.size}<extra></extra>",
           "legendgroup": "Greece",
           "marker": {
            "color": "#FF97FF",
            "size": {
             "bdata": "UrgehetRMUA=",
             "dtype": "f8"
            },
            "sizemode": "area",
            "sizeref": 0.182375,
            "symbol": "circle"
           },
           "mode": "markers",
           "name": "Greece",
           "orientation": "v",
           "showlegend": true,
           "type": "scatter",
           "x": {
            "bdata": "AAAAYLSNZEE=",
            "dtype": "f8"
           },
           "xaxis": "x",
           "y": {
            "bdata": "UrgehetRMUA=",
            "dtype": "f8"
           },
           "yaxis": "y"
          },
          {
           "hovertemplate": "country=Spain<br>year=2016<br>population=%{x}<br>value_kg=%{marker.size}<extra></extra>",
           "legendgroup": "Spain",
           "marker": {
            "color": "#FECB52",
            "size": {
             "bdata": "zczMzMxsQEA=",
             "dtype": "f8"
            },
            "sizemode": "area",
            "sizeref": 0.182375,
            "symbol": "circle"
           },
           "mode": "markers",
           "name": "Spain",
           "orientation": "v",
           "showlegend": true,
           "type": "scatter",
           "x": {
            "bdata": "AAAA2CgnhkE=",
            "dtype": "f8"
           },
           "xaxis": "x",
           "y": {
            "bdata": "zczMzMxsQEA=",
            "dtype": "f8"
           },
           "yaxis": "y"
          },
          {
           "hovertemplate": "country=European Union - 27 countries (from 2020)<br>year=2016<br>population=%{x}<br>value_kg=%{marker.size}<extra></extra>",
           "legendgroup": "European Union - 27 countries (from 2020)",
           "marker": {
            "color": "#636efa",
            "size": {
             "bdata": "16NwPQqXP0A=",
             "dtype": "f8"
            },
            "sizemode": "area",
            "sizeref": 0.182375,
            "symbol": "circle"
           },
           "mode": "markers",
           "name": "European Union - 27 countries (from 2020)",
           "orientation": "v",
           "showlegend": true,
           "type": "scatter",
           "x": {
            "bdata": "AAAA6Ml7ukE=",
            "dtype": "f8"
           },
           "xaxis": "x",
           "y": {
            "bdata": "16NwPQqXP0A=",
            "dtype": "f8"
           },
           "yaxis": "y"
          },
          {
           "hovertemplate": "country=Finland<br>year=2016<br>population=%{x}<br>value_kg=%{marker.size}<extra></extra>",
           "legendgroup": "Finland",
           "marker": {
            "color": "#EF553B",
            "size": {
             "bdata": "XI/C9ShcNkA=",
             "dtype": "f8"
            },
            "sizemode": "area",
            "sizeref": 0.182375,
            "symbol": "circle"
           },
           "mode": "markers",
           "name": "Finland",
           "orientation": "v",
           "showlegend": true,
           "type": "scatter",
           "x": {
            "bdata": "AAAAwIH2VEE=",
            "dtype": "f8"
           },
           "xaxis": "x",
           "y": {
            "bdata": "XI/C9ShcNkA=",
            "dtype": "f8"
           },
           "yaxis": "y"
          },
          {
           "hovertemplate": "country=France<br>year=2016<br>population=%{x}<br>value_kg=%{marker.size}<extra></extra>",
           "legendgroup": "France",
           "marker": {
            "color": "#00cc96",
            "size": {
             "bdata": "MzMzMzNTQEA=",
             "dtype": "f8"
            },
            "sizemode": "area",
            "sizeref": 0.182375,
            "symbol": "circle"
           },
           "mode": "markers",
           "name": "France",
           "orientation": "v",
           "showlegend": true,
           "type": "scatter",
           "x": {
            "bdata": "AAAAQAjRj0E=",
            "dtype": "f8"
           },
           "xaxis": "x",
           "y": {
            "bdata": "MzMzMzNTQEA=",
            "dtype": "f8"
           },
           "yaxis": "y"
          },
          {
           "hovertemplate": "country=Croatia<br>year=2016<br>population=%{x}<br>value_kg=%{marker.size}<extra></extra>",
           "legendgroup": "Croatia",
           "marker": {
            "color": "#ab63fa",
            "size": {
             "bdata": "rkfhehSuKkA=",
             "dtype": "f8"
            },
            "sizemode": "area",
            "sizeref": 0.182375,
            "symbol": "circle"
           },
           "mode": "markers",
           "name": "Croatia",
           "orientation": "v",
           "showlegend": true,
           "type": "scatter",
           "x": {
            "bdata": "AAAAAHdRT0E=",
            "dtype": "f8"
           },
           "xaxis": "x",
           "y": {
            "bdata": "rkfhehSuKkA=",
            "dtype": "f8"
           },
           "yaxis": "y"
          },
          {
           "hovertemplate": "country=Hungary<br>year=2016<br>population=%{x}<br>value_kg=%{marker.size}<extra></extra>",
           "legendgroup": "Hungary",
           "marker": {
            "color": "#FFA15A",
            "size": {
             "bdata": "KVyPwvWoP0A=",
             "dtype": "f8"
            },
            "sizemode": "area",
            "sizeref": 0.182375,
            "symbol": "circle"
           },
           "mode": "markers",
           "name": "Hungary",
           "orientation": "v",
           "showlegend": true,
           "type": "scatter",
           "x": {
            "bdata": "AAAAYIGdYkE=",
            "dtype": "f8"
           },
           "xaxis": "x",
           "y": {
            "bdata": "KVyPwvWoP0A=",
            "dtype": "f8"
           },
           "yaxis": "y"
          },
          {
           "hovertemplate": "country=Ireland<br>year=2016<br>population=%{x}<br>value_kg=%{marker.size}<extra></extra>",
           "legendgroup": "Ireland",
           "marker": {
            "color": "#19d3f3",
            "size": {
             "bdata": "zczMzMzsTEA=",
             "dtype": "f8"
            },
            "sizemode": "area",
            "sizeref": 0.182375,
            "symbol": "circle"
           },
           "mode": "markers",
           "name": "Ireland",
           "orientation": "v",
           "showlegend": true,
           "type": "scatter",
           "x": {
            "bdata": "AAAAgBgrUkE=",
            "dtype": "f8"
           },
           "xaxis": "x",
           "y": {
            "bdata": "zczMzMzsTEA=",
            "dtype": "f8"
           },
           "yaxis": "y"
          },
          {
           "hovertemplate": "country=Iceland<br>year=2016<br>population=%{x}<br>value_kg=%{marker.size}<extra></extra>",
           "legendgroup": "Iceland",
           "marker": {
            "color": "#FF6692",
            "size": {
             "bdata": "hetRuB4FR0A=",
             "dtype": "f8"
            },
            "sizemode": "area",
            "sizeref": 0.182375,
            "symbol": "circle"
           },
           "mode": "markers",
           "name": "Iceland",
           "orientation": "v",
           "showlegend": true,
           "type": "scatter",
           "x": {
            "bdata": "AAAAADx5FEE=",
            "dtype": "f8"
           },
           "xaxis": "x",
           "y": {
            "bdata": "hetRuB4FR0A=",
            "dtype": "f8"
           },
           "yaxis": "y"
          },
          {
           "hovertemplate": "country=Italy<br>year=2016<br>population=%{x}<br>value_kg=%{marker.size}<extra></extra>",
           "legendgroup": "Italy",
           "marker": {
            "color": "#B6E880",
            "size": {
             "bdata": "7FG4HoVrQkA=",
             "dtype": "f8"
            },
            "sizemode": "area",
            "sizeref": 0.182375,
            "symbol": "circle"
           },
           "mode": "markers",
           "name": "Italy",
           "orientation": "v",
           "showlegend": true,
           "type": "scatter",
           "x": {
            "bdata": "AAAAuEiqjEE=",
            "dtype": "f8"
           },
           "xaxis": "x",
           "y": {
            "bdata": "7FG4HoVrQkA=",
            "dtype": "f8"
           },
           "yaxis": "y"
          },
          {
           "hovertemplate": "country=Liechtenstein<br>year=2016<br>population=%{x}<br>value_kg=%{marker.size}<extra></extra>",
           "legendgroup": "Liechtenstein",
           "marker": {
            "color": "#FF97FF",
            "size": {
             "bdata": "CtejcD1KNUA=",
             "dtype": "f8"
            },
            "sizemode": "area",
            "sizeref": 0.182375,
            "symbol": "circle"
           },
           "mode": "markers",
           "name": "Liechtenstein",
           "orientation": "v",
           "showlegend": true,
           "type": "scatter",
           "x": {
            "bdata": "AAAAAIBq4kA=",
            "dtype": "f8"
           },
           "xaxis": "x",
           "y": {
            "bdata": "CtejcD1KNUA=",
            "dtype": "f8"
           },
           "yaxis": "y"
          },
          {
           "hovertemplate": "country=Lithuania<br>year=2016<br>population=%{x}<br>value_kg=%{marker.size}<extra></extra>",
           "legendgroup": "Lithuania",
           "marker": {
            "color": "#FECB52",
            "size": {
             "bdata": "zczMzMzMNkA=",
             "dtype": "f8"
            },
            "sizemode": "area",
            "sizeref": 0.182375,
            "symbol": "circle"
           },
           "mode": "markers",
           "name": "Lithuania",
           "orientation": "v",
           "showlegend": true,
           "type": "scatter",
           "x": {
            "bdata": "AAAAgMbzRUE=",
            "dtype": "f8"
           },
           "xaxis": "x",
           "y": {
            "bdata": "zczMzMzMNkA=",
            "dtype": "f8"
           },
           "yaxis": "y"
          },
          {
           "hovertemplate": "country=Luxembourg<br>year=2016<br>population=%{x}<br>value_kg=%{marker.size}<extra></extra>",
           "legendgroup": "Luxembourg",
           "marker": {
            "color": "#636efa",
            "size": {
             "bdata": "UrgehesRR0A=",
             "dtype": "f8"
            },
            "sizemode": "area",
            "sizeref": 0.182375,
            "symbol": "circle"
           },
           "mode": "markers",
           "name": "Luxembourg",
           "orientation": "v",
           "showlegend": true,
           "type": "scatter",
           "x": {
            "bdata": "AAAAAPzCIUE=",
            "dtype": "f8"
           },
           "xaxis": "x",
           "y": {
            "bdata": "UrgehesRR0A=",
            "dtype": "f8"
           },
           "yaxis": "y"
          },
          {
           "hovertemplate": "country=Latvia<br>year=2016<br>population=%{x}<br>value_kg=%{marker.size}<extra></extra>",
           "legendgroup": "Latvia",
           "marker": {
            "color": "#EF553B",
            "size": {
             "bdata": "zczMzMyMNEA=",
             "dtype": "f8"
            },
            "sizemode": "area",
            "sizeref": 0.182375,
            "symbol": "circle"
           },
           "mode": "markers",
           "name": "Latvia",
           "orientation": "v",
           "showlegend": true,
           "type": "scatter",
           "x": {
            "bdata": "AAAAAHHmPUE=",
            "dtype": "f8"
           },
           "xaxis": "x",
           "y": {
            "bdata": "zczMzMyMNEA=",
            "dtype": "f8"
           },
           "yaxis": "y"
          },
          {
           "hovertemplate": "country=Malta<br>year=2016<br>population=%{x}<br>value_kg=%{marker.size}<extra></extra>",
           "legendgroup": "Malta",
           "marker": {
            "color": "#00cc96",
            "size": {
             "bdata": "AAAAAAAAQEA=",
             "dtype": "f8"
            },
            "sizemode": "area",
            "sizeref": 0.182375,
            "symbol": "circle"
           },
           "mode": "markers",
           "name": "Malta",
           "orientation": "v",
           "showlegend": true,
           "type": "scatter",
           "x": {
            "bdata": "AAAAAKS9G0E=",
            "dtype": "f8"
           },
           "xaxis": "x",
           "y": {
            "bdata": "AAAAAAAAQEA=",
            "dtype": "f8"
           },
           "yaxis": "y"
          },
          {
           "hovertemplate": "country=Netherlands<br>year=2016<br>population=%{x}<br>value_kg=%{marker.size}<extra></extra>",
           "legendgroup": "Netherlands",
           "marker": {
            "color": "#ab63fa",
            "size": {
             "bdata": "CtejcD2KPUA=",
             "dtype": "f8"
            },
            "sizemode": "area",
            "sizeref": 0.182375,
            "symbol": "circle"
           },
           "mode": "markers",
           "name": "Netherlands",
           "orientation": "v",
           "showlegend": true,
           "type": "scatter",
           "x": {
            "bdata": "AAAAoMo9cEE=",
            "dtype": "f8"
           },
           "xaxis": "x",
           "y": {
            "bdata": "CtejcD2KPUA=",
            "dtype": "f8"
           },
           "yaxis": "y"
          },
          {
           "hovertemplate": "country=Norway<br>year=2016<br>population=%{x}<br>value_kg=%{marker.size}<extra></extra>",
           "legendgroup": "Norway",
           "marker": {
            "color": "#FFA15A",
            "size": {
             "bdata": "MzMzMzNzQkA=",
             "dtype": "f8"
            },
            "sizemode": "area",
            "sizeref": 0.182375,
            "symbol": "circle"
           },
           "mode": "markers",
           "name": "Norway",
           "orientation": "v",
           "showlegend": true,
           "type": "scatter",
           "x": {
            "bdata": "AAAAwG35U0E=",
            "dtype": "f8"
           },
           "xaxis": "x",
           "y": {
            "bdata": "MzMzMzNzQkA=",
            "dtype": "f8"
           },
           "yaxis": "y"
          },
          {
           "hovertemplate": "country=Poland<br>year=2016<br>population=%{x}<br>value_kg=%{marker.size}<extra></extra>",
           "legendgroup": "Poland",
           "marker": {
            "color": "#19d3f3",
            "size": {
             "bdata": "SOF6FK6HOkA=",
             "dtype": "f8"
            },
            "sizemode": "area",
            "sizeref": 0.182375,
            "symbol": "circle"
           },
           "mode": "markers",
           "name": "Poland",
           "orientation": "v",
           "showlegend": true,
           "type": "scatter",
           "x": {
            "bdata": "AAAAOAUbgkE=",
            "dtype": "f8"
           },
           "xaxis": "x",
           "y": {
            "bdata": "SOF6FK6HOkA=",
            "dtype": "f8"
           },
           "yaxis": "y"
          },
          {
           "hovertemplate": "country=Portugal<br>year=2016<br>population=%{x}<br>value_kg=%{marker.size}<extra></extra>",
           "legendgroup": "Portugal",
           "marker": {
            "color": "#FF6692",
            "size": {
             "bdata": "ZmZmZmZGQkA=",
             "dtype": "f8"
            },
            "sizemode": "area",
            "sizeref": 0.182375,
            "symbol": "circle"
           },
           "mode": "markers",
           "name": "Portugal",
           "orientation": "v",
           "showlegend": true,
           "type": "scatter",
           "x": {
            "bdata": "AAAAgOTAY0E=",
            "dtype": "f8"
           },
           "xaxis": "x",
           "y": {
            "bdata": "ZmZmZmZGQkA=",
            "dtype": "f8"
           },
           "yaxis": "y"
          },
          {
           "hovertemplate": "country=Romania<br>year=2016<br>population=%{x}<br>value_kg=%{marker.size}<extra></extra>",
           "legendgroup": "Romania",
           "marker": {
            "color": "#B6E880",
            "size": {
             "bdata": "MzMzMzOzMUA=",
             "dtype": "f8"
            },
            "sizemode": "area",
            "sizeref": 0.182375,
            "symbol": "circle"
           },
           "mode": "markers",
           "name": "Romania",
           "orientation": "v",
           "showlegend": true,
           "type": "scatter",
           "x": {
            "bdata": "AAAAsB/KckE=",
            "dtype": "f8"
           },
           "xaxis": "x",
           "y": {
            "bdata": "MzMzMzOzMUA=",
            "dtype": "f8"
           },
           "yaxis": "y"
          },
          {
           "hovertemplate": "country=Sweden<br>year=2016<br>population=%{x}<br>value_kg=%{marker.size}<extra></extra>",
           "legendgroup": "Sweden",
           "marker": {
            "color": "#FF97FF",
            "size": {
             "bdata": "SOF6FK4HOEA=",
             "dtype": "f8"
            },
            "sizemode": "area",
            "sizeref": 0.182375,
            "symbol": "circle"
           },
           "mode": "markers",
           "name": "Sweden",
           "orientation": "v",
           "showlegend": true,
           "type": "scatter",
           "x": {
            "bdata": "AAAAoEHtYkE=",
            "dtype": "f8"
           },
           "xaxis": "x",
           "y": {
            "bdata": "SOF6FK4HOEA=",
            "dtype": "f8"
           },
           "yaxis": "y"
          },
          {
           "hovertemplate": "country=Slovenia<br>year=2016<br>population=%{x}<br>value_kg=%{marker.size}<extra></extra>",
           "legendgroup": "Slovenia",
           "marker": {
            "color": "#FECB52",
            "size": {
             "bdata": "MzMzMzNzNkA=",
             "dtype": "f8"
            },
            "sizemode": "area",
            "sizeref": 0.182375,
            "symbol": "circle"
           },
           "mode": "markers",
           "name": "Slovenia",
           "orientation": "v",
           "showlegend": true,
           "type": "scatter",
           "x": {
            "bdata": "AAAAAJKCP0E=",
            "dtype": "f8"
           },
           "xaxis": "x",
           "y": {
            "bdata": "MzMzMzNzNkA=",
            "dtype": "f8"
           },
           "yaxis": "y"
          },
          {
           "hovertemplate": "country=Slovakia<br>year=2016<br>population=%{x}<br>value_kg=%{marker.size}<extra></extra>",
           "legendgroup": "Slovakia",
           "marker": {
            "color": "#636efa",
            "size": {
             "bdata": "PQrXo3D9NUA=",
             "dtype": "f8"
            },
            "sizemode": "area",
            "sizeref": 0.182375,
            "symbol": "circle"
           },
           "mode": "markers",
           "name": "Slovakia",
           "orientation": "v",
           "showlegend": true,
           "type": "scatter",
           "x": {
            "bdata": "AAAAgIO3VEE=",
            "dtype": "f8"
           },
           "xaxis": "x",
           "y": {
            "bdata": "PQrXo3D9NUA=",
            "dtype": "f8"
           },
           "yaxis": "y"
          }
         ],
         "name": "2016"
        },
        {
         "data": [
          {
           "hovertemplate": "country=Austria<br>year=2017<br>population=%{x}<br>value_kg=%{marker.size}<extra></extra>",
           "legendgroup": "Austria",
           "marker": {
            "color": "#636efa",
            "size": {
             "bdata": "rkfhehQuQUA=",
             "dtype": "f8"
            },
            "sizemode": "area",
            "sizeref": 0.182375,
            "symbol": "circle"
           },
           "mode": "markers",
           "name": "Austria",
           "orientation": "v",
           "showlegend": true,
           "type": "scatter",
           "x": {
            "bdata": "AAAAwK/HYEE=",
            "dtype": "f8"
           },
           "xaxis": "x",
           "y": {
            "bdata": "rkfhehQuQUA=",
            "dtype": "f8"
           },
           "yaxis": "y"
          },
          {
           "hovertemplate": "country=Belgium<br>year=2017<br>population=%{x}<br>value_kg=%{marker.size}<extra></extra>",
           "legendgroup": "Belgium",
           "marker": {
            "color": "#EF553B",
            "size": {
             "bdata": "XI/C9ShcPkA=",
             "dtype": "f8"
            },
            "sizemode": "area",
            "sizeref": 0.182375,
            "symbol": "circle"
           },
           "mode": "markers",
           "name": "Belgium",
           "orientation": "v",
           "showlegend": true,
           "type": "scatter",
           "x": {
            "bdata": "AAAAwEayZUE=",
            "dtype": "f8"
           },
           "xaxis": "x",
           "y": {
            "bdata": "XI/C9ShcPkA=",
            "dtype": "f8"
           },
           "yaxis": "y"
          },
          {
           "hovertemplate": "country=Bulgaria<br>year=2017<br>population=%{x}<br>value_kg=%{marker.size}<extra></extra>",
           "legendgroup": "Bulgaria",
           "marker": {
            "color": "#00cc96",
            "size": {
             "bdata": "4XoUrkehMUA=",
             "dtype": "f8"
            },
            "sizemode": "area",
            "sizeref": 0.182375,
            "symbol": "circle"
           },
           "mode": "markers",
           "name": "Bulgaria",
           "orientation": "v",
           "showlegend": true,
           "type": "scatter",
           "x": {
            "bdata": "AAAAAAP0WUE=",
            "dtype": "f8"
           },
           "xaxis": "x",
           "y": {
            "bdata": "4XoUrkehMUA=",
            "dtype": "f8"
           },
           "yaxis": "y"
          },
          {
           "hovertemplate": "country=Cyprus<br>year=2017<br>population=%{x}<br>value_kg=%{marker.size}<extra></extra>",
           "legendgroup": "Cyprus",
           "marker": {
            "color": "#ab63fa",
            "size": {
             "bdata": "uB6F61F4NEA=",
             "dtype": "f8"
            },
            "sizemode": "area",
            "sizeref": 0.182375,
            "symbol": "circle"
           },
           "mode": "markers",
           "name": "Cyprus",
           "orientation": "v",
           "showlegend": true,
           "type": "scatter",
           "x": {
            "bdata": "AAAAAACuKkE=",
            "dtype": "f8"
           },
           "xaxis": "x",
           "y": {
            "bdata": "uB6F61F4NEA=",
            "dtype": "f8"
           },
           "yaxis": "y"
          },
          {
           "hovertemplate": "country=Czechia<br>year=2017<br>population=%{x}<br>value_kg=%{marker.size}<extra></extra>",
           "legendgroup": "Czechia",
           "marker": {
            "color": "#FFA15A",
            "size": {
             "bdata": "16NwPQqXN0A=",
             "dtype": "f8"
            },
            "sizemode": "area",
            "sizeref": 0.182375,
            "symbol": "circle"
           },
           "mode": "markers",
           "name": "Czechia",
           "orientation": "v",
           "showlegend": true,
           "type": "scatter",
           "x": {
            "bdata": "AAAAwBA1ZEE=",
            "dtype": "f8"
           },
           "xaxis": "x",
           "y": {
            "bdata": "16NwPQqXN0A=",
            "dtype": "f8"
           },
           "yaxis": "y"
          },
          {
           "hovertemplate": "country=Germany<br>year=2017<br>population=%{x}<br>value_kg=%{marker.size}<extra></extra>",
           "legendgroup": "Germany",
           "marker": {
            "color": "#19d3f3",
            "size": {
             "bdata": "pHA9CtdDQ0A=",
             "dtype": "f8"
            },
            "sizemode": "area",
            "sizeref": 0.182375,
            "symbol": "circle"
           },
           "mode": "markers",
           "name": "Germany",
           "orientation": "v",
           "showlegend": true,
           "type": "scatter",
           "x": {
            "bdata": "AAAAqPu0k0E=",
            "dtype": "f8"
           },
           "xaxis": "x",
           "y": {
            "bdata": "pHA9CtdDQ0A=",
            "dtype": "f8"
           },
           "yaxis": "y"
          },
          {
           "hovertemplate": "country=Denmark<br>year=2017<br>population=%{x}<br>value_kg=%{marker.size}<extra></extra>",
           "legendgroup": "Denmark",
           "marker": {
            "color": "#FF6692",
            "size": {
             "bdata": "SOF6FK5nQUA=",
             "dtype": "f8"
            },
            "sizemode": "area",
            "sizeref": 0.182375,
            "symbol": "circle"
           },
           "mode": "markers",
           "name": "Denmark",
           "orientation": "v",
           "showlegend": true,
           "type": "scatter",
           "x": {
            "bdata": "AAAAAN39VUE=",
            "dtype": "f8"
           },
           "xaxis": "x",
           "y": {
            "bdata": "SOF6FK5nQUA=",
            "dtype": "f8"
           },
           "yaxis": "y"
          },
          {
           "hovertemplate": "country=Estonia<br>year=2017<br>population=%{x}<br>value_kg=%{marker.size}<extra></extra>",
           "legendgroup": "Estonia",
           "marker": {
            "color": "#B6E880",
            "size": {
             "bdata": "mpmZmZn5SEA=",
             "dtype": "f8"
            },
            "sizemode": "area",
            "sizeref": 0.182375,
            "symbol": "circle"
           },
           "mode": "markers",
           "name": "Estonia",
           "orientation": "v",
           "showlegend": true,
           "type": "scatter",
           "x": {
            "bdata": "AAAAAAgaNEE=",
            "dtype": "f8"
           },
           "xaxis": "x",
           "y": {
            "bdata": "mpmZmZn5SEA=",
            "dtype": "f8"
           },
           "yaxis": "y"
          },
          {
           "hovertemplate": "country=Greece<br>year=2017<br>population=%{x}<br>value_kg=%{marker.size}<extra></extra>",
           "legendgroup": "Greece",
           "marker": {
            "color": "#FF97FF",
            "size": {
             "bdata": "AAAAAACAMUA=",
             "dtype": "f8"
            },
            "sizemode": "area",
            "sizeref": 0.182375,
            "symbol": "circle"
           },
           "mode": "markers",
           "name": "Greece",
           "orientation": "v",
           "showlegend": true,
           "type": "scatter",
           "x": {
            "bdata": "AAAA4E6DZEE=",
            "dtype": "f8"
           },
           "xaxis": "x",
           "y": {
            "bdata": "AAAAAACAMUA=",
            "dtype": "f8"
           },
           "yaxis": "y"
          },
          {
           "hovertemplate": "country=Spain<br>year=2017<br>population=%{x}<br>value_kg=%{marker.size}<extra></extra>",
           "legendgroup": "Spain",
           "marker": {
            "color": "#FECB52",
            "size": {
             "bdata": "ZmZmZmZGQUA=",
             "dtype": "f8"
            },
            "sizemode": "area",
            "sizeref": 0.182375,
            "symbol": "circle"
           },
           "mode": "markers",
           "name": "Spain",
           "orientation": "v",
           "showlegend": true,
           "type": "scatter",
           "x": {
            "bdata": "AAAAAPc0hkE=",
            "dtype": "f8"
           },
           "xaxis": "x",
           "y": {
            "bdata": "ZmZmZmZGQUA=",
            "dtype": "f8"
           },
           "yaxis": "y"
          },
          {
           "hovertemplate": "country=European Union - 27 countries (from 2020)<br>year=2017<br>population=%{x}<br>value_kg=%{marker.size}<extra></extra>",
           "legendgroup": "European Union - 27 countries (from 2020)",
           "marker": {
            "color": "#636efa",
            "size": {
             "bdata": "mpmZmZlZQEA=",
             "dtype": "f8"
            },
            "sizemode": "area",
            "sizeref": 0.182375,
            "symbol": "circle"
           },
           "mode": "markers",
           "name": "European Union - 27 countries (from 2020)",
           "orientation": "v",
           "showlegend": true,
           "type": "scatter",
           "x": {
            "bdata": "AAAABrmFukE=",
            "dtype": "f8"
           },
           "xaxis": "x",
           "y": {
            "bdata": "mpmZmZlZQEA=",
            "dtype": "f8"
           },
           "yaxis": "y"
          },
          {
           "hovertemplate": "country=Finland<br>year=2017<br>population=%{x}<br>value_kg=%{marker.size}<extra></extra>",
           "legendgroup": "Finland",
           "marker": {
            "color": "#EF553B",
            "size": {
             "bdata": "KVyPwvWoN0A=",
             "dtype": "f8"
            },
            "sizemode": "area",
            "sizeref": 0.182375,
            "symbol": "circle"
           },
           "mode": "markers",
           "name": "Finland",
           "orientation": "v",
           "showlegend": true,
           "type": "scatter",
           "x": {
            "bdata": "AAAAgB0DVUE=",
            "dtype": "f8"
           },
           "xaxis": "x",
           "y": {
            "bdata": "KVyPwvWoN0A=",
            "dtype": "f8"
           },
           "yaxis": "y"
          },
          {
           "hovertemplate": "country=France<br>year=2017<br>population=%{x}<br>value_kg=%{marker.size}<extra></extra>",
           "legendgroup": "France",
           "marker": {
            "color": "#00cc96",
            "size": {
             "bdata": "ZmZmZmZmQUA=",
             "dtype": "f8"
            },
            "sizemode": "area",
            "sizeref": 0.182375,
            "symbol": "circle"
           },
           "mode": "markers",
           "name": "France",
           "orientation": "v",
           "showlegend": true,
           "type": "scatter",
           "x": {
            "bdata": "AAAAILToj0E=",
            "dtype": "f8"
           },
           "xaxis": "x",
           "y": {
            "bdata": "ZmZmZmZmQUA=",
            "dtype": "f8"
           },
           "yaxis": "y"
          },
          {
           "hovertemplate": "country=Croatia<br>year=2017<br>population=%{x}<br>value_kg=%{marker.size}<extra></extra>",
           "legendgroup": "Croatia",
           "marker": {
            "color": "#ab63fa",
            "size": {
             "bdata": "cT0K16PwLUA=",
             "dtype": "f8"
            },
            "sizemode": "area",
            "sizeref": 0.182375,
            "symbol": "circle"
           },
           "mode": "markers",
           "name": "Croatia",
           "orientation": "v",
           "showlegend": true,
           "type": "scatter",
           "x": {
            "bdata": "AAAAgG3fTkE=",
            "dtype": "f8"
           },
           "xaxis": "x",
           "y": {
            "bdata": "cT0K16PwLUA=",
            "dtype": "f8"
           },
           "yaxis": "y"
          },
          {
           "hovertemplate": "country=Hungary<br>year=2017<br>population=%{x}<br>value_kg=%{marker.size}<extra></extra>",
           "legendgroup": "Hungary",
           "marker": {
            "color": "#FFA15A",
            "size": {
             "bdata": "uB6F61E4QEA=",
             "dtype": "f8"
            },
            "sizemode": "area",
            "sizeref": 0.182375,
            "symbol": "circle"
           },
           "mode": "markers",
           "name": "Hungary",
           "orientation": "v",
           "showlegend": true,
           "type": "scatter",
           "x": {
            "bdata": "AAAAgGSNYkE=",
            "dtype": "f8"
           },
           "xaxis": "x",
           "y": {
            "bdata": "uB6F61E4QEA=",
            "dtype": "f8"
           },
           "yaxis": "y"
          },
          {
           "hovertemplate": "country=Ireland<br>year=2017<br>population=%{x}<br>value_kg=%{marker.size}<extra></extra>",
           "legendgroup": "Ireland",
           "marker": {
            "color": "#19d3f3",
            "size": {
             "bdata": "UrgehesRTUA=",
             "dtype": "f8"
            },
            "sizemode": "area",
            "sizeref": 0.182375,
            "symbol": "circle"
           },
           "mode": "markers",
           "name": "Ireland",
           "orientation": "v",
           "showlegend": true,
           "type": "scatter",
           "x": {
            "bdata": "AAAAQE1qUkE=",
            "dtype": "f8"
           },
           "xaxis": "x",
           "y": {
            "bdata": "UrgehesRTUA=",
            "dtype": "f8"
           },
           "yaxis": "y"
          },
          {
           "hovertemplate": "country=Iceland<br>year=2017<br>population=%{x}<br>value_kg=%{marker.size}<extra></extra>",
           "legendgroup": "Iceland",
           "marker": {
            "color": "#FF6692",
            "size": {
             "bdata": "H4XrUbheR0A=",
             "dtype": "f8"
            },
            "sizemode": "area",
            "sizeref": 0.182375,
            "symbol": "circle"
           },
           "mode": "markers",
           "name": "Iceland",
           "orientation": "v",
           "showlegend": true,
           "type": "scatter",
           "x": {
            "bdata": "AAAAAKD1FEE=",
            "dtype": "f8"
           },
           "xaxis": "x",
           "y": {
            "bdata": "H4XrUbheR0A=",
            "dtype": "f8"
           },
           "yaxis": "y"
          },
          {
           "hovertemplate": "country=Italy<br>year=2017<br>population=%{x}<br>value_kg=%{marker.size}<extra></extra>",
           "legendgroup": "Italy",
           "marker": {
            "color": "#B6E880",
            "size": {
             "bdata": "rkfhehTuQkA=",
             "dtype": "f8"
            },
            "sizemode": "area",
            "sizeref": 0.182375,
            "symbol": "circle"
           },
           "mode": "markers",
           "name": "Italy",
           "orientation": "v",
           "showlegend": true,
           "type": "scatter",
           "x": {
            "bdata": "AAAAYH6cjEE=",
            "dtype": "f8"
           },
           "xaxis": "x",
           "y": {
            "bdata": "rkfhehTuQkA=",
            "dtype": "f8"
           },
           "yaxis": "y"
          },
          {
           "hovertemplate": "country=Liechtenstein<br>year=2017<br>population=%{x}<br>value_kg=%{marker.size}<extra></extra>",
           "legendgroup": "Liechtenstein",
           "marker": {
            "color": "#FF97FF",
            "size": {
             "bdata": "mpmZmZmZNEA=",
             "dtype": "f8"
            },
            "sizemode": "area",
            "sizeref": 0.182375,
            "symbol": "circle"
           },
           "mode": "markers",
           "name": "Liechtenstein",
           "orientation": "v",
           "showlegend": true,
           "type": "scatter",
           "x": {
            "bdata": "AAAAAECJ4kA=",
            "dtype": "f8"
           },
           "xaxis": "x",
           "y": {
            "bdata": "mpmZmZmZNEA=",
            "dtype": "f8"
           },
           "yaxis": "y"
          },
          {
           "hovertemplate": "country=Lithuania<br>year=2017<br>population=%{x}<br>value_kg=%{marker.size}<extra></extra>",
           "legendgroup": "Lithuania",
           "marker": {
            "color": "#FECB52",
            "size": {
             "bdata": "CtejcD1KOUA=",
             "dtype": "f8"
            },
            "sizemode": "area",
            "sizeref": 0.182375,
            "symbol": "circle"
           },
           "mode": "markers",
           "name": "Lithuania",
           "orientation": "v",
           "showlegend": true,
           "type": "scatter",
           "x": {
            "bdata": "AAAAgAewRUE=",
            "dtype": "f8"
           },
           "xaxis": "x",
           "y": {
            "bdata": "CtejcD1KOUA=",
            "dtype": "f8"
           },
           "yaxis": "y"
          },
          {
           "hovertemplate": "country=Luxembourg<br>year=2017<br>population=%{x}<br>value_kg=%{marker.size}<extra></extra>",
           "legendgroup": "Luxembourg",
           "marker": {
            "color": "#636efa",
            "size": {
             "bdata": "UrgehesxR0A=",
             "dtype": "f8"
            },
            "sizemode": "area",
            "sizeref": 0.182375,
            "symbol": "circle"
           },
           "mode": "markers",
           "name": "Luxembourg",
           "orientation": "v",
           "showlegend": true,
           "type": "scatter",
           "x": {
            "bdata": "AAAAAOAyIkE=",
            "dtype": "f8"
           },
           "xaxis": "x",
           "y": {
            "bdata": "UrgehesxR0A=",
            "dtype": "f8"
           },
           "yaxis": "y"
          },
          {
           "hovertemplate": "country=Latvia<br>year=2017<br>population=%{x}<br>value_kg=%{marker.size}<extra></extra>",
           "legendgroup": "Latvia",
           "marker": {
            "color": "#EF553B",
            "size": {
             "bdata": "j8L1KFxPNEA=",
             "dtype": "f8"
            },
            "sizemode": "area",
            "sizeref": 0.182375,
            "symbol": "circle"
           },
           "mode": "markers",
           "name": "Latvia",
           "orientation": "v",
           "showlegend": true,
           "type": "scatter",
           "x": {
            "bdata": "AAAAAOiiPUE=",
            "dtype": "f8"
           },
           "xaxis": "x",
           "y": {
            "bdata": "j8L1KFxPNEA=",
            "dtype": "f8"
           },
           "yaxis": "y"
          },
          {
           "hovertemplate": "country=Malta<br>year=2017<br>population=%{x}<br>value_kg=%{marker.size}<extra></extra>",
           "legendgroup": "Malta",
           "marker": {
            "color": "#00cc96",
            "size": {
             "bdata": "uB6F61F4PEA=",
             "dtype": "f8"
            },
            "sizemode": "area",
            "sizeref": 0.182375,
            "symbol": "circle"
           },
           "mode": "markers",
           "name": "Malta",
           "orientation": "v",
           "showlegend": true,
           "type": "scatter",
           "x": {
            "bdata": "AAAAAIiCHEE=",
            "dtype": "f8"
           },
           "xaxis": "x",
           "y": {
            "bdata": "uB6F61F4PEA=",
            "dtype": "f8"
           },
           "yaxis": "y"
          },
          {
           "hovertemplate": "country=Netherlands<br>year=2017<br>population=%{x}<br>value_kg=%{marker.size}<extra></extra>",
           "legendgroup": "Netherlands",
           "marker": {
            "color": "#ab63fa",
            "size": {
             "bdata": "pHA9CtfjPUA=",
             "dtype": "f8"
            },
            "sizemode": "area",
            "sizeref": 0.182375,
            "symbol": "circle"
           },
           "mode": "markers",
           "name": "Netherlands",
           "orientation": "v",
           "showlegend": true,
           "type": "scatter",
           "x": {
            "bdata": "AAAAAHJWcEE=",
            "dtype": "f8"
           },
           "xaxis": "x",
           "y": {
            "bdata": "pHA9CtfjPUA=",
            "dtype": "f8"
           },
           "yaxis": "y"
          },
          {
           "hovertemplate": "country=Norway<br>year=2017<br>population=%{x}<br>value_kg=%{marker.size}<extra></extra>",
           "legendgroup": "Norway",
           "marker": {
            "color": "#FFA15A",
            "size": {
             "bdata": "SOF6FK7nREA=",
             "dtype": "f8"
            },
            "sizemode": "area",
            "sizeref": 0.182375,
            "symbol": "circle"
           },
           "mode": "markers",
           "name": "Norway",
           "orientation": "v",
           "showlegend": true,
           "type": "scatter",
           "x": {
            "bdata": "AAAAAEohVEE=",
            "dtype": "f8"
           },
           "xaxis": "x",
           "y": {
            "bdata": "SOF6FK7nREA=",
            "dtype": "f8"
           },
           "yaxis": "y"
          },
          {
           "hovertemplate": "country=Poland<br>year=2017<br>population=%{x}<br>value_kg=%{marker.size}<extra></extra>",
           "legendgroup": "Poland",
           "marker": {
            "color": "#19d3f3",
            "size": {
             "bdata": "7FG4HoVrO0A=",
             "dtype": "f8"
            },
            "sizemode": "area",
            "sizeref": 0.182375,
            "symbol": "circle"
           },
           "mode": "markers",
           "name": "Poland",
           "orientation": "v",
           "showlegend": true,
           "type": "scatter",
           "x": {
            "bdata": "AAAAUJkbgkE=",
            "dtype": "f8"
           },
           "xaxis": "x",
           "y": {
            "bdata": "7FG4HoVrO0A=",
            "dtype": "f8"
           },
           "yaxis": "y"
          },
          {
           "hovertemplate": "country=Portugal<br>year=2017<br>population=%{x}<br>value_kg=%{marker.size}<extra></extra>",
           "legendgroup": "Portugal",
           "marker": {
            "color": "#FF6692",
            "size": {
             "bdata": "exSuR+FaQ0A=",
             "dtype": "f8"
            },
            "sizemode": "area",
            "sizeref": 0.182375,
            "symbol": "circle"
           },
           "mode": "markers",
           "name": "Portugal",
           "orientation": "v",
           "showlegend": true,
           "type": "scatter",
           "x": {
            "bdata": "AAAAgOO4Y0E=",
            "dtype": "f8"
           },
           "xaxis": "x",
           "y": {
            "bdata": "exSuR+FaQ0A=",
            "dtype": "f8"
           },
           "yaxis": "y"
          },
          {
           "hovertemplate": "country=Romania<br>year=2017<br>population=%{x}<br>value_kg=%{marker.size}<extra></extra>",
           "legendgroup": "Romania",
           "marker": {
            "color": "#B6E880",
            "size": {
             "bdata": "ZmZmZmZmMkA=",
             "dtype": "f8"
            },
            "sizemode": "area",
            "sizeref": 0.182375,
            "symbol": "circle"
           },
           "mode": "markers",
           "name": "Romania",
           "orientation": "v",
           "showlegend": true,
           "type": "scatter",
           "x": {
            "bdata": "AAAAsGauckE=",
            "dtype": "f8"
           },
           "xaxis": "x",
           "y": {
            "bdata": "ZmZmZmZmMkA=",
            "dtype": "f8"
           },
           "yaxis": "y"
          },
          {
           "hovertemplate": "country=Sweden<br>year=2017<br>population=%{x}<br>value_kg=%{marker.size}<extra></extra>",
           "legendgroup": "Sweden",
           "marker": {
            "color": "#FF97FF",
            "size": {
             "bdata": "rkfhehTuN0A=",
             "dtype": "f8"
            },
            "sizemode": "area",
            "sizeref": 0.182375,
            "symbol": "circle"
           },
           "mode": "markers",
           "name": "Sweden",
           "orientation": "v",
           "showlegend": true,
           "type": "scatter",
           "x": {
            "bdata": "AAAAQPwuY0E=",
            "dtype": "f8"
           },
           "xaxis": "x",
           "y": {
            "bdata": "rkfhehTuN0A=",
            "dtype": "f8"
           },
           "yaxis": "y"
          },
          {
           "hovertemplate": "country=Slovenia<br>year=2017<br>population=%{x}<br>value_kg=%{marker.size}<extra></extra>",
           "legendgroup": "Slovenia",
           "marker": {
            "color": "#FECB52",
            "size": {
             "bdata": "SOF6FK5HOEA=",
             "dtype": "f8"
            },
            "sizemode": "area",
            "sizeref": 0.182375,
            "symbol": "circle"
           },
           "mode": "markers",
           "name": "Slovenia",
           "orientation": "v",
           "showlegend": true,
           "type": "scatter",
           "x": {
            "bdata": "AAAAANSHP0E=",
            "dtype": "f8"
           },
           "xaxis": "x",
           "y": {
            "bdata": "SOF6FK5HOEA=",
            "dtype": "f8"
           },
           "yaxis": "y"
          },
          {
           "hovertemplate": "country=Slovakia<br>year=2017<br>population=%{x}<br>value_kg=%{marker.size}<extra></extra>",
           "legendgroup": "Slovakia",
           "marker": {
            "color": "#636efa",
            "size": {
             "bdata": "FK5H4XrUNkA=",
             "dtype": "f8"
            },
            "sizemode": "area",
            "sizeref": 0.182375,
            "symbol": "circle"
           },
           "mode": "markers",
           "name": "Slovakia",
           "orientation": "v",
           "showlegend": true,
           "type": "scatter",
           "x": {
            "bdata": "AAAAAMC/VEE=",
            "dtype": "f8"
           },
           "xaxis": "x",
           "y": {
            "bdata": "FK5H4XrUNkA=",
            "dtype": "f8"
           },
           "yaxis": "y"
          }
         ],
         "name": "2017"
        },
        {
         "data": [
          {
           "hovertemplate": "country=Austria<br>year=2018<br>population=%{x}<br>value_kg=%{marker.size}<extra></extra>",
           "legendgroup": "Austria",
           "marker": {
            "color": "#636efa",
            "size": {
             "bdata": "FK5H4XoUQUA=",
             "dtype": "f8"
            },
            "sizemode": "area",
            "sizeref": 0.182375,
            "symbol": "circle"
           },
           "mode": "markers",
           "name": "Austria",
           "orientation": "v",
           "showlegend": true,
           "type": "scatter",
           "x": {
            "bdata": "AAAAIKncYEE=",
            "dtype": "f8"
           },
           "xaxis": "x",
           "y": {
            "bdata": "FK5H4XoUQUA=",
            "dtype": "f8"
           },
           "yaxis": "y"
          },
          {
           "hovertemplate": "country=Belgium<br>year=2018<br>population=%{x}<br>value_kg=%{marker.size}<extra></extra>",
           "legendgroup": "Belgium",
           "marker": {
            "color": "#EF553B",
            "size": {
             "bdata": "ZmZmZmZmPkA=",
             "dtype": "f8"
            },
            "sizemode": "area",
            "sizeref": 0.182375,
            "symbol": "circle"
           },
           "mode": "markers",
           "name": "Belgium",
           "orientation": "v",
           "showlegend": true,
           "type": "scatter",
           "x": {
            "bdata": "AAAAwJ3LZUE=",
            "dtype": "f8"
           },
           "xaxis": "x",
           "y": {
            "bdata": "ZmZmZmZmPkA=",
            "dtype": "f8"
           },
           "yaxis": "y"
          },
          {
           "hovertemplate": "country=Bulgaria<br>year=2018<br>population=%{x}<br>value_kg=%{marker.size}<extra></extra>",
           "legendgroup": "Bulgaria",
           "marker": {
            "color": "#00cc96",
            "size": {
             "bdata": "UrgeheuRM0A=",
             "dtype": "f8"
            },
            "sizemode": "area",
            "sizeref": 0.182375,
            "symbol": "circle"
           },
           "mode": "markers",
           "name": "Bulgaria",
           "orientation": "v",
           "showlegend": true,
           "type": "scatter",
           "x": {
            "bdata": "AAAAgIOZWUE=",
            "dtype": "f8"
           },
           "xaxis": "x",
           "y": {
            "bdata": "UrgeheuRM0A=",
            "dtype": "f8"
           },
           "yaxis": "y"
          },
          {
           "hovertemplate": "country=Cyprus<br>year=2018<br>population=%{x}<br>value_kg=%{marker.size}<extra></extra>",
           "legendgroup": "Cyprus",
           "marker": {
            "color": "#ab63fa",
            "size": {
             "bdata": "uB6F61H4M0A=",
             "dtype": "f8"
            },
            "sizemode": "area",
            "sizeref": 0.182375,
            "symbol": "circle"
           },
           "mode": "markers",
           "name": "Cyprus",
           "orientation": "v",
           "showlegend": true,
           "type": "scatter",
           "x": {
            "bdata": "AAAAAFz9KkE=",
            "dtype": "f8"
           },
           "xaxis": "x",
           "y": {
            "bdata": "uB6F61H4M0A=",
            "dtype": "f8"
           },
           "yaxis": "y"
          },
          {
           "hovertemplate": "country=Czechia<br>year=2018<br>population=%{x}<br>value_kg=%{marker.size}<extra></extra>",
           "legendgroup": "Czechia",
           "marker": {
            "color": "#FFA15A",
            "size": {
             "bdata": "KVyPwvUoOUA=",
             "dtype": "f8"
            },
            "sizemode": "area",
            "sizeref": 0.182375,
            "symbol": "circle"
           },
           "mode": "markers",
           "name": "Czechia",
           "orientation": "v",
           "showlegend": true,
           "type": "scatter",
           "x": {
            "bdata": "AAAAAGVGZEE=",
            "dtype": "f8"
           },
           "xaxis": "x",
           "y": {
            "bdata": "KVyPwvUoOUA=",
            "dtype": "f8"
           },
           "yaxis": "y"
          },
          {
           "hovertemplate": "country=Germany<br>year=2018<br>population=%{x}<br>value_kg=%{marker.size}<extra></extra>",
           "legendgroup": "Germany",
           "marker": {
            "color": "#19d3f3",
            "size": {
             "bdata": "pHA9CteDQ0A=",
             "dtype": "f8"
            },
            "sizemode": "area",
            "sizeref": 0.182375,
            "symbol": "circle"
           },
           "mode": "markers",
           "name": "Germany",
           "orientation": "v",
           "showlegend": true,
           "type": "scatter",
           "x": {
            "bdata": "AAAA2CrEk0E=",
            "dtype": "f8"
           },
           "xaxis": "x",
           "y": {
            "bdata": "pHA9CteDQ0A=",
            "dtype": "f8"
           },
           "yaxis": "y"
          },
          {
           "hovertemplate": "country=Denmark<br>year=2018<br>population=%{x}<br>value_kg=%{marker.size}<extra></extra>",
           "legendgroup": "Denmark",
           "marker": {
            "color": "#FF6692",
            "size": {
             "bdata": "cT0K16NwRUA=",
             "dtype": "f8"
            },
            "sizemode": "area",
            "sizeref": 0.182375,
            "symbol": "circle"
           },
           "mode": "markers",
           "name": "Denmark",
           "orientation": "v",
           "showlegend": true,
           "type": "scatter",
           "x": {
            "bdata": "AAAAANkZVkE=",
            "dtype": "f8"
           },
           "xaxis": "x",
           "y": {
            "bdata": "cT0K16NwRUA=",
            "dtype": "f8"
           },
           "yaxis": "y"
          },
          {
           "hovertemplate": "country=Estonia<br>year=2018<br>population=%{x}<br>value_kg=%{marker.size}<extra></extra>",
           "legendgroup": "Estonia",
           "marker": {
            "color": "#B6E880",
            "size": {
             "bdata": "MzMzMzPzREA=",
             "dtype": "f8"
            },
            "sizemode": "area",
            "sizeref": 0.182375,
            "symbol": "circle"
           },
           "mode": "markers",
           "name": "Estonia",
           "orientation": "v",
           "showlegend": true,
           "type": "scatter",
           "x": {
            "bdata": "AAAAAPkrNEE=",
            "dtype": "f8"
           },
           "xaxis": "x",
           "y": {
            "bdata": "MzMzMzPzREA=",
            "dtype": "f8"
           },
           "yaxis": "y"
          },
          {
           "hovertemplate": "country=Greece<br>year=2018<br>population=%{x}<br>value_kg=%{marker.size}<extra></extra>",
           "legendgroup": "Greece",
           "marker": {
            "color": "#FF97FF",
            "size": {
             "bdata": "FK5H4XrUMkA=",
             "dtype": "f8"
            },
            "sizemode": "area",
            "sizeref": 0.182375,
            "symbol": "circle"
           },
           "mode": "markers",
           "name": "Greece",
           "orientation": "v",
           "showlegend": true,
           "type": "scatter",
           "x": {
            "bdata": "AAAAQKp4ZEE=",
            "dtype": "f8"
           },
           "xaxis": "x",
           "y": {
            "bdata": "FK5H4XrUMkA=",
            "dtype": "f8"
           },
           "yaxis": "y"
          },
          {
           "hovertemplate": "country=Spain<br>year=2018<br>population=%{x}<br>value_kg=%{marker.size}<extra></extra>",
           "legendgroup": "Spain",
           "marker": {
            "color": "#FECB52",
            "size": {
             "bdata": "cT0K16OwQUA=",
             "dtype": "f8"
            },
            "sizemode": "area",
            "sizeref": 0.182375,
            "symbol": "circle"
           },
           "mode": "markers",
           "name": "Spain",
           "orientation": "v",
           "showlegend": true,
           "type": "scatter",
           "x": {
            "bdata": "AAAA2LFOhkE=",
            "dtype": "f8"
           },
           "xaxis": "x",
           "y": {
            "bdata": "cT0K16OwQUA=",
            "dtype": "f8"
           },
           "yaxis": "y"
          },
          {
           "hovertemplate": "country=European Union - 27 countries (from 2020)<br>year=2018<br>population=%{x}<br>value_kg=%{marker.size}<extra></extra>",
           "legendgroup": "European Union - 27 countries (from 2020)",
           "marker": {
            "color": "#636efa",
            "size": {
             "bdata": "XI/C9SicQEA=",
             "dtype": "f8"
            },
            "sizemode": "area",
            "sizeref": 0.182375,
            "symbol": "circle"
           },
           "mode": "markers",
           "name": "European Union - 27 countries (from 2020)",
           "orientation": "v",
           "showlegend": true,
           "type": "scatter",
           "x": {
            "bdata": "AAAAJSiVukE=",
            "dtype": "f8"
           },
           "xaxis": "x",
           "y": {
            "bdata": "XI/C9SicQEA=",
            "dtype": "f8"
           },
           "yaxis": "y"
          },
          {
           "hovertemplate": "country=Finland<br>year=2018<br>population=%{x}<br>value_kg=%{marker.size}<extra></extra>",
           "legendgroup": "Finland",
           "marker": {
            "color": "#EF553B",
            "size": {
             "bdata": "hetRuB6FOEA=",
             "dtype": "f8"
            },
            "sizemode": "area",
            "sizeref": 0.182375,
            "symbol": "circle"
           },
           "mode": "markers",
           "name": "Finland",
           "orientation": "v",
           "showlegend": true,
           "type": "scatter",
           "x": {
            "bdata": "AAAAQEEKVUE=",
            "dtype": "f8"
           },
           "xaxis": "x",
           "y": {
            "bdata": "hetRuB6FOEA=",
            "dtype": "f8"
           },
           "yaxis": "y"
          },
          {
           "hovertemplate": "country=France<br>year=2018<br>population=%{x}<br>value_kg=%{marker.size}<extra></extra>",
           "legendgroup": "France",
           "marker": {
            "color": "#00cc96",
            "size": {
             "bdata": "7FG4HoWLQUA=",
             "dtype": "f8"
            },
            "sizemode": "area",
            "sizeref": 0.182375,
            "symbol": "circle"
           },
           "mode": "markers",
           "name": "France",
           "orientation": "v",
           "showlegend": true,
           "type": "scatter",
           "x": {
            "bdata": "AAAAMAUDkEE=",
            "dtype": "f8"
           },
           "xaxis": "x",
           "y": {
            "bdata": "7FG4HoWLQUA=",
            "dtype": "f8"
           },
           "yaxis": "y"
          },
          {
           "hovertemplate": "country=Croatia<br>year=2018<br>population=%{x}<br>value_kg=%{marker.size}<extra></extra>",
           "legendgroup": "Croatia",
           "marker": {
            "color": "#ab63fa",
            "size": {
             "bdata": "4XoUrkchMEA=",
             "dtype": "f8"
            },
            "sizemode": "area",
            "sizeref": 0.182375,
            "symbol": "circle"
           },
           "mode": "markers",
           "name": "Croatia",
           "orientation": "v",
           "showlegend": true,
           "type": "scatter",
           "x": {
            "bdata": "AAAAgOpzTkE=",
            "dtype": "f8"
           },
           "xaxis": "x",
           "y": {
            "bdata": "4XoUrkchMEA=",
            "dtype": "f8"
           },
           "yaxis": "y"
          },
          {
           "hovertemplate": "country=Hungary<br>year=2018<br>population=%{x}<br>value_kg=%{marker.size}<extra></extra>",
           "legendgroup": "Hungary",
           "marker": {
            "color": "#FFA15A",
            "size": {
             "bdata": "7FG4HoWLQUA=",
             "dtype": "f8"
            },
            "sizemode": "area",
            "sizeref": 0.182375,
            "symbol": "circle"
           },
           "mode": "markers",
           "name": "Hungary",
           "orientation": "v",
           "showlegend": true,
           "type": "scatter",
           "x": {
            "bdata": "AAAAgLqDYkE=",
            "dtype": "f8"
           },
           "xaxis": "x",
           "y": {
            "bdata": "7FG4HoWLQUA=",
            "dtype": "f8"
           },
           "yaxis": "y"
          },
          {
           "hovertemplate": "country=Ireland<br>year=2018<br>population=%{x}<br>value_kg=%{marker.size}<extra></extra>",
           "legendgroup": "Ireland",
           "marker": {
            "color": "#19d3f3",
            "size": {
             "bdata": "MzMzMzPzSkA=",
             "dtype": "f8"
            },
            "sizemode": "area",
            "sizeref": 0.182375,
            "symbol": "circle"
           },
           "mode": "markers",
           "name": "Ireland",
           "orientation": "v",
           "showlegend": true,
           "type": "scatter",
           "x": {
            "bdata": "AAAAgDmvUkE=",
            "dtype": "f8"
           },
           "xaxis": "x",
           "y": {
            "bdata": "MzMzMzPzSkA=",
            "dtype": "f8"
           },
           "yaxis": "y"
          },
          {
           "hovertemplate": "country=Iceland<br>year=2018<br>population=%{x}<br>value_kg=%{marker.size}<extra></extra>",
           "legendgroup": "Iceland",
           "marker": {
            "color": "#FF6692",
            "size": {
             "bdata": "ZmZmZmbGR0A=",
             "dtype": "f8"
            },
            "sizemode": "area",
            "sizeref": 0.182375,
            "symbol": "circle"
           },
           "mode": "markers",
           "name": "Iceland",
           "orientation": "v",
           "showlegend": true,
           "type": "scatter",
           "x": {
            "bdata": "AAAAAESHFUE=",
            "dtype": "f8"
           },
           "xaxis": "x",
           "y": {
            "bdata": "ZmZmZmbGR0A=",
            "dtype": "f8"
           },
           "yaxis": "y"
          },
          {
           "hovertemplate": "country=Italy<br>year=2018<br>population=%{x}<br>value_kg=%{marker.size}<extra></extra>",
           "legendgroup": "Italy",
           "marker": {
            "color": "#B6E880",
            "size": {
             "bdata": "rkfhehQOQ0A=",
             "dtype": "f8"
            },
            "sizemode": "area",
            "sizeref": 0.182375,
            "symbol": "circle"
           },
           "mode": "markers",
           "name": "Italy",
           "orientation": "v",
           "showlegend": true,
           "type": "scatter",
           "x": {
            "bdata": "AAAAkF2ujEE=",
            "dtype": "f8"
           },
           "xaxis": "x",
           "y": {
            "bdata": "rkfhehQOQ0A=",
            "dtype": "f8"
           },
           "yaxis": "y"
          },
          {
           "hovertemplate": "country=Liechtenstein<br>year=2018<br>population=%{x}<br>value_kg=%{marker.size}<extra></extra>",
           "legendgroup": "Liechtenstein",
           "marker": {
            "color": "#FF97FF",
            "size": {
             "bdata": "XI/C9SgcNUA=",
             "dtype": "f8"
            },
            "sizemode": "area",
            "sizeref": 0.182375,
            "symbol": "circle"
           },
           "mode": "markers",
           "name": "Liechtenstein",
           "orientation": "v",
           "showlegend": true,
           "type": "scatter",
           "x": {
            "bdata": "AAAAAMCs4kA=",
            "dtype": "f8"
           },
           "xaxis": "x",
           "y": {
            "bdata": "XI/C9SgcNUA=",
            "dtype": "f8"
           },
           "yaxis": "y"
          },
          {
           "hovertemplate": "country=Lithuania<br>year=2018<br>population=%{x}<br>value_kg=%{marker.size}<extra></extra>",
           "legendgroup": "Lithuania",
           "marker": {
            "color": "#FECB52",
            "size": {
             "bdata": "KVyPwvXoOkA=",
             "dtype": "f8"
            },
            "sizemode": "area",
            "sizeref": 0.182375,
            "symbol": "circle"
           },
           "mode": "markers",
           "name": "Lithuania",
           "orientation": "v",
           "showlegend": true,
           "type": "scatter",
           "x": {
            "bdata": "AAAAAECCRUE=",
            "dtype": "f8"
           },
           "xaxis": "x",
           "y": {
            "bdata": "KVyPwvXoOkA=",
            "dtype": "f8"
           },
           "yaxis": "y"
          },
          {
           "hovertemplate": "country=Luxembourg<br>year=2018<br>population=%{x}<br>value_kg=%{marker.size}<extra></extra>",
           "legendgroup": "Luxembourg",
           "marker": {
            "color": "#636efa",
            "size": {
             "bdata": "rkfhehRORUA=",
             "dtype": "f8"
            },
            "sizemode": "area",
            "sizeref": 0.182375,
            "symbol": "circle"
           },
           "mode": "markers",
           "name": "Luxembourg",
           "orientation": "v",
           "showlegend": true,
           "type": "scatter",
           "x": {
            "bdata": "AAAAAJyNIkE=",
            "dtype": "f8"
           },
           "xaxis": "x",
           "y": {
            "bdata": "rkfhehRORUA=",
            "dtype": "f8"
           },
           "yaxis": "y"
          },
          {
           "hovertemplate": "country=Latvia<br>year=2018<br>population=%{x}<br>value_kg=%{marker.size}<extra></extra>",
           "legendgroup": "Latvia",
           "marker": {
            "color": "#EF553B",
            "size": {
             "bdata": "4XoUrkehNkA=",
             "dtype": "f8"
            },
            "sizemode": "area",
            "sizeref": 0.182375,
            "symbol": "circle"
           },
           "mode": "markers",
           "name": "Latvia",
           "orientation": "v",
           "showlegend": true,
           "type": "scatter",
           "x": {
            "bdata": "AAAAAAZoPUE=",
            "dtype": "f8"
           },
           "xaxis": "x",
           "y": {
            "bdata": "4XoUrkehNkA=",
            "dtype": "f8"
           },
           "yaxis": "y"
          },
          {
           "hovertemplate": "country=Malta<br>year=2018<br>population=%{x}<br>value_kg=%{marker.size}<extra></extra>",
           "legendgroup": "Malta",
           "marker": {
            "color": "#00cc96",
            "size": {
             "bdata": "16NwPQrXP0A=",
             "dtype": "f8"
            },
            "sizemode": "area",
            "sizeref": 0.182375,
            "symbol": "circle"
           },
           "mode": "markers",
           "name": "Malta",
           "orientation": "v",
           "showlegend": true,
           "type": "scatter",
           "x": {
            "bdata": "AAAAAPyIHUE=",
            "dtype": "f8"
           },
           "xaxis": "x",
           "y": {
            "bdata": "16NwPQrXP0A=",
            "dtype": "f8"
           },
           "yaxis": "y"
          },
          {
           "hovertemplate": "country=Netherlands<br>year=2018<br>population=%{x}<br>value_kg=%{marker.size}<extra></extra>",
           "legendgroup": "Netherlands",
           "marker": {
            "color": "#ab63fa",
            "size": {
             "bdata": "mpmZmZlZPkA=",
             "dtype": "f8"
            },
            "sizemode": "area",
            "sizeref": 0.182375,
            "symbol": "circle"
           },
           "mode": "markers",
           "name": "Netherlands",
           "orientation": "v",
           "showlegend": true,
           "type": "scatter",
           "x": {
            "bdata": "AAAAgPBucEE=",
            "dtype": "f8"
           },
           "xaxis": "x",
           "y": {
            "bdata": "mpmZmZlZPkA=",
            "dtype": "f8"
           },
           "yaxis": "y"
          },
          {
           "hovertemplate": "country=Norway<br>year=2018<br>population=%{x}<br>value_kg=%{marker.size}<extra></extra>",
           "legendgroup": "Norway",
           "marker": {
            "color": "#FFA15A",
            "size": {
             "bdata": "H4XrUbjeREA=",
             "dtype": "f8"
            },
            "sizemode": "area",
            "sizeref": 0.182375,
            "symbol": "circle"
           },
           "mode": "markers",
           "name": "Norway",
           "orientation": "v",
           "showlegend": true,
           "type": "scatter",
           "x": {
            "bdata": "AAAAAGtDVEE=",
            "dtype": "f8"
           },
           "xaxis": "x",
           "y": {
            "bdata": "H4XrUbjeREA=",
            "dtype": "f8"
           },
           "yaxis": "y"
          },
          {
           "hovertemplate": "country=Poland<br>year=2018<br>population=%{x}<br>value_kg=%{marker.size}<extra></extra>",
           "legendgroup": "Poland",
           "marker": {
            "color": "#19d3f3",
            "size": {
             "bdata": "cT0K16PwOUA=",
             "dtype": "f8"
            },
            "sizemode": "area",
            "sizeref": 0.182375,
            "symbol": "circle"
           },
           "mode": "markers",
           "name": "Poland",
           "orientation": "v",
           "showlegend": true,
           "type": "scatter",
           "x": {
            "bdata": "AAAA8JYbgkE=",
            "dtype": "f8"
           },
           "xaxis": "x",
           "y": {
            "bdata": "cT0K16PwOUA=",
            "dtype": "f8"
           },
           "yaxis": "y"
          },
          {
           "hovertemplate": "country=Portugal<br>year=2018<br>population=%{x}<br>value_kg=%{marker.size}<extra></extra>",
           "legendgroup": "Portugal",
           "marker": {
            "color": "#FF6692",
            "size": {
             "bdata": "rkfhehQOREA=",
             "dtype": "f8"
            },
            "sizemode": "area",
            "sizeref": 0.182375,
            "symbol": "circle"
           },
           "mode": "markers",
           "name": "Portugal",
           "orientation": "v",
           "showlegend": true,
           "type": "scatter",
           "x": {
            "bdata": "AAAAIDW2Y0E=",
            "dtype": "f8"
           },
           "xaxis": "x",
           "y": {
            "bdata": "rkfhehQOREA=",
            "dtype": "f8"
           },
           "yaxis": "y"
          },
          {
           "hovertemplate": "country=Romania<br>year=2018<br>population=%{x}<br>value_kg=%{marker.size}<extra></extra>",
           "legendgroup": "Romania",
           "marker": {
            "color": "#B6E880",
            "size": {
             "bdata": "mpmZmZkZNEA=",
             "dtype": "f8"
            },
            "sizemode": "area",
            "sizeref": 0.182375,
            "symbol": "circle"
           },
           "mode": "markers",
           "name": "Romania",
           "orientation": "v",
           "showlegend": true,
           "type": "scatter",
           "x": {
            "bdata": "AAAAIGOSckE=",
            "dtype": "f8"
           },
           "xaxis": "x",
           "y": {
            "bdata": "mpmZmZkZNEA=",
            "dtype": "f8"
           },
           "yaxis": "y"
          },
          {
           "hovertemplate": "country=Sweden<br>year=2018<br>population=%{x}<br>value_kg=%{marker.size}<extra></extra>",
           "legendgroup": "Sweden",
           "marker": {
            "color": "#FF97FF",
            "size": {
             "bdata": "7FG4HoUrOEA=",
             "dtype": "f8"
            },
            "sizemode": "area",
            "sizeref": 0.182375,
            "symbol": "circle"
           },
           "mode": "markers",
           "name": "Sweden",
           "orientation": "v",
           "showlegend": true,
           "type": "scatter",
           "x": {
            "bdata": "AAAAwF1oY0E=",
            "dtype": "f8"
           },
           "xaxis": "x",
           "y": {
            "bdata": "7FG4HoUrOEA=",
            "dtype": "f8"
           },
           "yaxis": "y"
          },
          {
           "hovertemplate": "country=Slovenia<br>year=2018<br>population=%{x}<br>value_kg=%{marker.size}<extra></extra>",
           "legendgroup": "Slovenia",
           "marker": {
            "color": "#FECB52",
            "size": {
             "bdata": "j8L1KFzPN0A=",
             "dtype": "f8"
            },
            "sizemode": "area",
            "sizeref": 0.182375,
            "symbol": "circle"
           },
           "mode": "markers",
           "name": "Slovenia",
           "orientation": "v",
           "showlegend": true,
           "type": "scatter",
           "x": {
            "bdata": "AAAAACalP0E=",
            "dtype": "f8"
           },
           "xaxis": "x",
           "y": {
            "bdata": "j8L1KFzPN0A=",
            "dtype": "f8"
           },
           "yaxis": "y"
          },
          {
           "hovertemplate": "country=Slovakia<br>year=2018<br>population=%{x}<br>value_kg=%{marker.size}<extra></extra>",
           "legendgroup": "Slovakia",
           "marker": {
            "color": "#636efa",
            "size": {
             "bdata": "uB6F61E4OEA=",
             "dtype": "f8"
            },
            "sizemode": "area",
            "sizeref": 0.182375,
            "symbol": "circle"
           },
           "mode": "markers",
           "name": "Slovakia",
           "orientation": "v",
           "showlegend": true,
           "type": "scatter",
           "x": {
            "bdata": "AAAAwBzHVEE=",
            "dtype": "f8"
           },
           "xaxis": "x",
           "y": {
            "bdata": "uB6F61E4OEA=",
            "dtype": "f8"
           },
           "yaxis": "y"
          }
         ],
         "name": "2018"
        },
        {
         "data": [
          {
           "hovertemplate": "country=Austria<br>year=2019<br>population=%{x}<br>value_kg=%{marker.size}<extra></extra>",
           "legendgroup": "Austria",
           "marker": {
            "color": "#636efa",
            "size": {
             "bdata": "SOF6FK6nQEA=",
             "dtype": "f8"
            },
            "sizemode": "area",
            "sizeref": 0.182375,
            "symbol": "circle"
           },
           "mode": "markers",
           "name": "Austria",
           "orientation": "v",
           "showlegend": true,
           "type": "scatter",
           "x": {
            "bdata": "AAAAAObvYEE=",
            "dtype": "f8"
           },
           "xaxis": "x",
           "y": {
            "bdata": "SOF6FK6nQEA=",
            "dtype": "f8"
           },
           "yaxis": "y"
          },
          {
           "hovertemplate": "country=Belgium<br>year=2019<br>population=%{x}<br>value_kg=%{marker.size}<extra></extra>",
           "legendgroup": "Belgium",
           "marker": {
            "color": "#EF553B",
            "size": {
             "bdata": "UrgeheuRPkA=",
             "dtype": "f8"
            },
            "sizemode": "area",
            "sizeref": 0.182375,
            "symbol": "circle"
           },
           "mode": "markers",
           "name": "Belgium",
           "orientation": "v",
           "showlegend": true,
           "type": "scatter",
           "x": {
            "bdata": "AAAAgNrpZUE=",
            "dtype": "f8"
           },
           "xaxis": "x",
           "y": {
            "bdata": "UrgeheuRPkA=",
            "dtype": "f8"
           },
           "yaxis": "y"
          },
          {
           "hovertemplate": "country=Bulgaria<br>year=2019<br>population=%{x}<br>value_kg=%{marker.size}<extra></extra>",
           "legendgroup": "Bulgaria",
           "marker": {
            "color": "#00cc96",
            "size": {
             "bdata": "H4XrUbieOEA=",
             "dtype": "f8"
            },
            "sizemode": "area",
            "sizeref": 0.182375,
            "symbol": "circle"
           },
           "mode": "markers",
           "name": "Bulgaria",
           "orientation": "v",
           "showlegend": true,
           "type": "scatter",
           "x": {
            "bdata": "AAAAgKU9WUE=",
            "dtype": "f8"
           },
           "xaxis": "x",
           "y": {
            "bdata": "H4XrUbieOEA=",
            "dtype": "f8"
           },
           "yaxis": "y"
          },
          {
           "hovertemplate": "country=Cyprus<br>year=2019<br>population=%{x}<br>value_kg=%{marker.size}<extra></extra>",
           "legendgroup": "Cyprus",
           "marker": {
            "color": "#ab63fa",
            "size": {
             "bdata": "4XoUrkehNEA=",
             "dtype": "f8"
            },
            "sizemode": "area",
            "sizeref": 0.182375,
            "symbol": "circle"
           },
           "mode": "markers",
           "name": "Cyprus",
           "orientation": "v",
           "showlegend": true,
           "type": "scatter",
           "x": {
            "bdata": "AAAAAHBaK0E=",
            "dtype": "f8"
           },
           "xaxis": "x",
           "y": {
            "bdata": "4XoUrkehNEA=",
            "dtype": "f8"
           },
           "yaxis": "y"
          },
          {
           "hovertemplate": "country=Czechia<br>year=2019<br>population=%{x}<br>value_kg=%{marker.size}<extra></extra>",
           "legendgroup": "Czechia",
           "marker": {
            "color": "#FFA15A",
            "size": {
             "bdata": "w/UoXI/COEA=",
             "dtype": "f8"
            },
            "sizemode": "area",
            "sizeref": 0.182375,
            "symbol": "circle"
           },
           "mode": "markers",
           "name": "Czechia",
           "orientation": "v",
           "showlegend": true,
           "type": "scatter",
           "x": {
            "bdata": "AAAAwN9aZEE=",
            "dtype": "f8"
           },
           "xaxis": "x",
           "y": {
            "bdata": "w/UoXI/COEA=",
            "dtype": "f8"
           },
           "yaxis": "y"
          },
          {
           "hovertemplate": "country=Germany<br>year=2019<br>population=%{x}<br>value_kg=%{marker.size}<extra></extra>",
           "legendgroup": "Germany",
           "marker": {
            "color": "#19d3f3",
            "size": {
             "bdata": "rkfhehSOQ0A=",
             "dtype": "f8"
            },
            "sizemode": "area",
            "sizeref": 0.182375,
            "symbol": "circle"
           },
           "mode": "markers",
           "name": "Germany",
           "orientation": "v",
           "showlegend": true,
           "type": "scatter",
           "x": {
            "bdata": "AAAAiJfPk0E=",
            "dtype": "f8"
           },
           "xaxis": "x",
           "y": {
            "bdata": "rkfhehSOQ0A=",
            "dtype": "f8"
           },
           "yaxis": "y"
          },
          {
           "hovertemplate": "country=Denmark<br>year=2019<br>population=%{x}<br>value_kg=%{marker.size}<extra></extra>",
           "legendgroup": "Denmark",
           "marker": {
            "color": "#FF6692",
            "size": {
             "bdata": "ZmZmZmbmQ0A=",
             "dtype": "f8"
            },
            "sizemode": "area",
            "sizeref": 0.182375,
            "symbol": "circle"
           },
           "mode": "markers",
           "name": "Denmark",
           "orientation": "v",
           "showlegend": true,
           "type": "scatter",
           "x": {
            "bdata": "AAAAgCUuVkE=",
            "dtype": "f8"
           },
           "xaxis": "x",
           "y": {
            "bdata": "ZmZmZmbmQ0A=",
            "dtype": "f8"
           },
           "yaxis": "y"
          },
          {
           "hovertemplate": "country=Estonia<br>year=2019<br>population=%{x}<br>value_kg=%{marker.size}<extra></extra>",
           "legendgroup": "Estonia",
           "marker": {
            "color": "#B6E880",
            "size": {
             "bdata": "SOF6FK6nRUA=",
             "dtype": "f8"
            },
            "sizemode": "area",
            "sizeref": 0.182375,
            "symbol": "circle"
           },
           "mode": "markers",
           "name": "Estonia",
           "orientation": "v",
           "showlegend": true,
           "type": "scatter",
           "x": {
            "bdata": "AAAAADI/NEE=",
            "dtype": "f8"
           },
           "xaxis": "x",
           "y": {
            "bdata": "SOF6FK6nRUA=",
            "dtype": "f8"
           },
           "yaxis": "y"
          },
          {
           "hovertemplate": "country=Greece<br>year=2019<br>population=%{x}<br>value_kg=%{marker.size}<extra></extra>",
           "legendgroup": "Greece",
           "marker": {
            "color": "#FF97FF",
            "size": {
             "bdata": "w/UoXI/CNEA=",
             "dtype": "f8"
            },
            "sizemode": "area",
            "sizeref": 0.182375,
            "symbol": "circle"
           },
           "mode": "markers",
           "name": "Greece",
           "orientation": "v",
           "showlegend": true,
           "type": "scatter",
           "x": {
            "bdata": "AAAAwCVzZEE=",
            "dtype": "f8"
           },
           "xaxis": "x",
           "y": {
            "bdata": "w/UoXI/CNEA=",
            "dtype": "f8"
           },
           "yaxis": "y"
          },
          {
           "hovertemplate": "country=Spain<br>year=2019<br>population=%{x}<br>value_kg=%{marker.size}<extra></extra>",
           "legendgroup": "Spain",
           "marker": {
            "color": "#FECB52",
            "size": {
             "bdata": "4XoUrkfhQUA=",
             "dtype": "f8"
            },
            "sizemode": "area",
            "sizeref": 0.182375,
            "symbol": "circle"
           },
           "mode": "markers",
           "name": "Spain",
           "orientation": "v",
           "showlegend": true,
           "type": "scatter",
           "x": {
            "bdata": "AAAAKMV3hkE=",
            "dtype": "f8"
           },
           "xaxis": "x",
           "y": {
            "bdata": "4XoUrkfhQUA=",
            "dtype": "f8"
           },
           "yaxis": "y"
          },
          {
           "hovertemplate": "country=European Union - 27 countries (from 2020)<br>year=2019<br>population=%{x}<br>value_kg=%{marker.size}<extra></extra>",
           "legendgroup": "European Union - 27 countries (from 2020)",
           "marker": {
            "color": "#636efa",
            "size": {
             "bdata": "16NwPQoXQUA=",
             "dtype": "f8"
            },
            "sizemode": "area",
            "sizeref": 0.182375,
            "symbol": "circle"
           },
           "mode": "markers",
           "name": "European Union - 27 countries (from 2020)",
           "orientation": "v",
           "showlegend": true,
           "type": "scatter",
           "x": {
            "bdata": "AAAA/zOeukE=",
            "dtype": "f8"
           },
           "xaxis": "x",
           "y": {
            "bdata": "16NwPQoXQUA=",
            "dtype": "f8"
           },
           "yaxis": "y"
          },
          {
           "hovertemplate": "country=Finland<br>year=2019<br>population=%{x}<br>value_kg=%{marker.size}<extra></extra>",
           "legendgroup": "Finland",
           "marker": {
            "color": "#EF553B",
            "size": {
             "bdata": "uB6F61E4OEA=",
             "dtype": "f8"
            },
            "sizemode": "area",
            "sizeref": 0.182375,
            "symbol": "circle"
           },
           "mode": "markers",
           "name": "Finland",
           "orientation": "v",
           "showlegend": true,
           "type": "scatter",
           "x": {
            "bdata": "AAAAgDEQVUE=",
            "dtype": "f8"
           },
           "xaxis": "x",
           "y": {
            "bdata": "uB6F61E4OEA=",
            "dtype": "f8"
           },
           "yaxis": "y"
          },
          {
           "hovertemplate": "country=France<br>year=2019<br>population=%{x}<br>value_kg=%{marker.size}<extra></extra>",
           "legendgroup": "France",
           "marker": {
            "color": "#00cc96",
            "size": {
             "bdata": "XI/C9Si8QUA=",
             "dtype": "f8"
            },
            "sizemode": "area",
            "sizeref": 0.182375,
            "symbol": "circle"
           },
           "mode": "markers",
           "name": "France",
           "orientation": "v",
           "showlegend": true,
           "type": "scatter",
           "x": {
            "bdata": "AAAAtKwQkEE=",
            "dtype": "f8"
           },
           "xaxis": "x",
           "y": {
            "bdata": "XI/C9Si8QUA=",
            "dtype": "f8"
           },
           "yaxis": "y"
          },
          {
           "hovertemplate": "country=Croatia<br>year=2019<br>population=%{x}<br>value_kg=%{marker.size}<extra></extra>",
           "legendgroup": "Croatia",
           "marker": {
            "color": "#ab63fa",
            "size": {
             "bdata": "AAAAAABAMUA=",
             "dtype": "f8"
            },
            "sizemode": "area",
            "sizeref": 0.182375,
            "symbol": "circle"
           },
           "mode": "markers",
           "name": "Croatia",
           "orientation": "v",
           "showlegend": true,
           "type": "scatter",
           "x": {
            "bdata": "AAAAAPskTkE=",
            "dtype": "f8"
           },
           "xaxis": "x",
           "y": {
            "bdata": "AAAAAABAMUA=",
            "dtype": "f8"
           },
           "yaxis": "y"
          },
          {
           "hovertemplate": "country=Hungary<br>year=2019<br>population=%{x}<br>value_kg=%{marker.size}<extra></extra>",
           "legendgroup": "Hungary",
           "marker": {
            "color": "#FFA15A",
            "size": {
             "bdata": "ZmZmZmamQUA=",
             "dtype": "f8"
            },
            "sizemode": "area",
            "sizeref": 0.182375,
            "symbol": "circle"
           },
           "mode": "markers",
           "name": "Hungary",
           "orientation": "v",
           "showlegend": true,
           "type": "scatter",
           "x": {
            "bdata": "AAAAAM19YkE=",
            "dtype": "f8"
           },
           "xaxis": "x",
           "y": {
            "bdata": "ZmZmZmamQUA=",
            "dtype": "f8"
           },
           "yaxis": "y"
          },
          {
           "hovertemplate": "country=Ireland<br>year=2019<br>population=%{x}<br>value_kg=%{marker.size}<extra></extra>",
           "legendgroup": "Ireland",
           "marker": {
            "color": "#19d3f3",
            "size": {
             "bdata": "SOF6FK4HUEA=",
             "dtype": "f8"
            },
            "sizemode": "area",
            "sizeref": 0.182375,
            "symbol": "circle"
           },
           "mode": "markers",
           "name": "Ireland",
           "orientation": "v",
           "showlegend": true,
           "type": "scatter",
           "x": {
            "bdata": "AAAAANL7UkE=",
            "dtype": "f8"
           },
           "xaxis": "x",
           "y": {
            "bdata": "SOF6FK4HUEA=",
            "dtype": "f8"
           },
           "yaxis": "y"
          },
          {
           "hovertemplate": "country=Iceland<br>year=2019<br>population=%{x}<br>value_kg=%{marker.size}<extra></extra>",
           "legendgroup": "Iceland",
           "marker": {
            "color": "#FF6692",
            "size": {
             "bdata": "4XoUrkdBSEA=",
             "dtype": "f8"
            },
            "sizemode": "area",
            "sizeref": 0.182375,
            "symbol": "circle"
           },
           "mode": "markers",
           "name": "Iceland",
           "orientation": "v",
           "showlegend": true,
           "type": "scatter",
           "x": {
            "bdata": "AAAAAMwBFkE=",
            "dtype": "f8"
           },
           "xaxis": "x",
           "y": {
            "bdata": "4XoUrkdBSEA=",
            "dtype": "f8"
           },
           "yaxis": "y"
          },
          {
           "hovertemplate": "country=Italy<br>year=2019<br>population=%{x}<br>value_kg=%{marker.size}<extra></extra>",
           "legendgroup": "Italy",
           "marker": {
            "color": "#B6E880",
            "size": {
             "bdata": "AAAAAABgQ0A=",
             "dtype": "f8"
            },
            "sizemode": "area",
            "sizeref": 0.182375,
            "symbol": "circle"
           },
           "mode": "markers",
           "name": "Italy",
           "orientation": "v",
           "showlegend": true,
           "type": "scatter",
           "x": {
            "bdata": "AAAAyCV7jEE=",
            "dtype": "f8"
           },
           "xaxis": "x",
           "y": {
            "bdata": "AAAAAABgQ0A=",
            "dtype": "f8"
           },
           "yaxis": "y"
          },
          {
           "hovertemplate": "country=Liechtenstein<br>year=2019<br>population=%{x}<br>value_kg=%{marker.size}<extra></extra>",
           "legendgroup": "Liechtenstein",
           "marker": {
            "color": "#FF97FF",
            "size": {
             "bdata": "pHA9CtejNUA=",
             "dtype": "f8"
            },
            "sizemode": "area",
            "sizeref": 0.182375,
            "symbol": "circle"
           },
           "mode": "markers",
           "name": "Liechtenstein",
           "orientation": "v",
           "showlegend": true,
           "type": "scatter",
           "x": {
            "bdata": "AAAAAGDU4kA=",
            "dtype": "f8"
           },
           "xaxis": "x",
           "y": {
            "bdata": "pHA9CtejNUA=",
            "dtype": "f8"
           },
           "yaxis": "y"
          },
          {
           "hovertemplate": "country=Lithuania<br>year=2019<br>population=%{x}<br>value_kg=%{marker.size}<extra></extra>",
           "legendgroup": "Lithuania",
           "marker": {
            "color": "#FECB52",
            "size": {
             "bdata": "ZmZmZmamPUA=",
             "dtype": "f8"
            },
            "sizemode": "area",
            "sizeref": 0.182375,
            "symbol": "circle"
           },
           "mode": "markers",
           "name": "Lithuania",
           "orientation": "v",
           "showlegend": true,
           "type": "scatter",
           "x": {
            "bdata": "AAAAgGhyRUE=",
            "dtype": "f8"
           },
           "xaxis": "x",
           "y": {
            "bdata": "ZmZmZmamPUA=",
            "dtype": "f8"
           },
           "yaxis": "y"
          },
          {
           "hovertemplate": "country=Luxembourg<br>year=2019<br>population=%{x}<br>value_kg=%{marker.size}<extra></extra>",
           "legendgroup": "Luxembourg",
           "marker": {
            "color": "#636efa",
            "size": {
             "bdata": "ZmZmZmYmRUA=",
             "dtype": "f8"
            },
            "sizemode": "area",
            "sizeref": 0.182375,
            "symbol": "circle"
           },
           "mode": "markers",
           "name": "Luxembourg",
           "orientation": "v",
           "showlegend": true,
           "type": "scatter",
           "x": {
            "bdata": "AAAAAMLrIkE=",
            "dtype": "f8"
           },
           "xaxis": "x",
           "y": {
            "bdata": "ZmZmZmYmRUA=",
            "dtype": "f8"
           },
           "yaxis": "y"
          },
          {
           "hovertemplate": "country=Latvia<br>year=2019<br>population=%{x}<br>value_kg=%{marker.size}<extra></extra>",
           "legendgroup": "Latvia",
           "marker": {
            "color": "#EF553B",
            "size": {
             "bdata": "uB6F61E4NkA=",
             "dtype": "f8"
            },
            "sizemode": "area",
            "sizeref": 0.182375,
            "symbol": "circle"
           },
           "mode": "markers",
           "name": "Latvia",
           "orientation": "v",
           "showlegend": true,
           "type": "scatter",
           "x": {
            "bdata": "AAAAAN4zPUE=",
            "dtype": "f8"
           },
           "xaxis": "x",
           "y": {
            "bdata": "uB6F61E4NkA=",
            "dtype": "f8"
           },
           "yaxis": "y"
          },
          {
           "hovertemplate": "country=Malta<br>year=2019<br>population=%{x}<br>value_kg=%{marker.size}<extra></extra>",
           "legendgroup": "Malta",
           "marker": {
            "color": "#00cc96",
            "size": {
             "bdata": "SOF6FK7HP0A=",
             "dtype": "f8"
            },
            "sizemode": "area",
            "sizeref": 0.182375,
            "symbol": "circle"
           },
           "mode": "markers",
           "name": "Malta",
           "orientation": "v",
           "showlegend": true,
           "type": "scatter",
           "x": {
            "bdata": "AAAAAKDBHkE=",
            "dtype": "f8"
           },
           "xaxis": "x",
           "y": {
            "bdata": "SOF6FK7HP0A=",
            "dtype": "f8"
           },
           "yaxis": "y"
          },
          {
           "hovertemplate": "country=Netherlands<br>year=2019<br>population=%{x}<br>value_kg=%{marker.size}<extra></extra>",
           "legendgroup": "Netherlands",
           "marker": {
            "color": "#ab63fa",
            "size": {
             "bdata": "ZmZmZmYmPkA=",
             "dtype": "f8"
            },
            "sizemode": "area",
            "sizeref": 0.182375,
            "symbol": "circle"
           },
           "mode": "markers",
           "name": "Netherlands",
           "orientation": "v",
           "showlegend": true,
           "type": "scatter",
           "x": {
            "bdata": "AAAAoJaKcEE=",
            "dtype": "f8"
           },
           "xaxis": "x",
           "y": {
            "bdata": "ZmZmZmYmPkA=",
            "dtype": "f8"
           },
           "yaxis": "y"
          },
          {
           "hovertemplate": "country=Norway<br>year=2019<br>population=%{x}<br>value_kg=%{marker.size}<extra></extra>",
           "legendgroup": "Norway",
           "marker": {
            "color": "#FFA15A",
            "size": {
             "bdata": "rkfhehRuRkA=",
             "dtype": "f8"
            },
            "sizemode": "area",
            "sizeref": 0.182375,
            "symbol": "circle"
           },
           "mode": "markers",
           "name": "Norway",
           "orientation": "v",
           "showlegend": true,
           "type": "scatter",
           "x": {
            "bdata": "AAAAAI5mVEE=",
            "dtype": "f8"
           },
           "xaxis": "x",
           "y": {
            "bdata": "rkfhehRuRkA=",
            "dtype": "f8"
           },
           "yaxis": "y"
          },
          {
           "hovertemplate": "country=Poland<br>year=2019<br>population=%{x}<br>value_kg=%{marker.size}<extra></extra>",
           "legendgroup": "Poland",
           "marker": {
            "color": "#19d3f3",
            "size": {
             "bdata": "rkfhehTuPUA=",
             "dtype": "f8"
            },
            "sizemode": "area",
            "sizeref": 0.182375,
            "symbol": "circle"
           },
           "mode": "markers",
           "name": "Poland",
           "orientation": "v",
           "showlegend": true,
           "type": "scatter",
           "x": {
            "bdata": "AAAAGHUagkE=",
            "dtype": "f8"
           },
           "xaxis": "x",
           "y": {
            "bdata": "rkfhehTuPUA=",
            "dtype": "f8"
           },
           "yaxis": "y"
          },
          {
           "hovertemplate": "country=Portugal<br>year=2019<br>population=%{x}<br>value_kg=%{marker.size}<extra></extra>",
           "legendgroup": "Portugal",
           "marker": {
            "color": "#FF6692",
            "size": {
             "bdata": "w/UoXI8iREA=",
             "dtype": "f8"
            },
            "sizemode": "area",
            "sizeref": 0.182375,
            "symbol": "circle"
           },
           "mode": "markers",
           "name": "Portugal",
           "orientation": "v",
           "showlegend": true,
           "type": "scatter",
           "x": {
            "bdata": "AAAAwOG/Y0E=",
            "dtype": "f8"
           },
           "xaxis": "x",
           "y": {
            "bdata": "w/UoXI8iREA=",
            "dtype": "f8"
           },
           "yaxis": "y"
          },
          {
           "hovertemplate": "country=Romania<br>year=2019<br>population=%{x}<br>value_kg=%{marker.size}<extra></extra>",
           "legendgroup": "Romania",
           "marker": {
            "color": "#B6E880",
            "size": {
             "bdata": "H4XrUbjeOEA=",
             "dtype": "f8"
            },
            "sizemode": "area",
            "sizeref": 0.182375,
            "symbol": "circle"
           },
           "mode": "markers",
           "name": "Romania",
           "orientation": "v",
           "showlegend": true,
           "type": "scatter",
           "x": {
            "bdata": "AAAAAGh5ckE=",
            "dtype": "f8"
           },
           "xaxis": "x",
           "y": {
            "bdata": "H4XrUbjeOEA=",
            "dtype": "f8"
           },
           "yaxis": "y"
          },
          {
           "hovertemplate": "country=Sweden<br>year=2019<br>population=%{x}<br>value_kg=%{marker.size}<extra></extra>",
           "legendgroup": "Sweden",
           "marker": {
            "color": "#FF97FF",
            "size": {
             "bdata": "ZmZmZmbmN0A=",
             "dtype": "f8"
            },
            "sizemode": "area",
            "sizeref": 0.182375,
            "symbol": "circle"
           },
           "mode": "markers",
           "name": "Sweden",
           "orientation": "v",
           "showlegend": true,
           "type": "scatter",
           "x": {
            "bdata": "AAAA4PyaY0E=",
            "dtype": "f8"
           },
           "xaxis": "x",
           "y": {
            "bdata": "ZmZmZmbmN0A=",
            "dtype": "f8"
           },
           "yaxis": "y"
          },
          {
           "hovertemplate": "country=Slovenia<br>year=2019<br>population=%{x}<br>value_kg=%{marker.size}<extra></extra>",
           "legendgroup": "Slovenia",
           "marker": {
            "color": "#FECB52",
            "size": {
             "bdata": "4XoUrkfhN0A=",
             "dtype": "f8"
            },
            "sizemode": "area",
            "sizeref": 0.182375,
            "symbol": "circle"
           },
           "mode": "markers",
           "name": "Slovenia",
           "orientation": "v",
           "showlegend": true,
           "type": "scatter",
           "x": {
            "bdata": "AAAAAMHdP0E=",
            "dtype": "f8"
           },
           "xaxis": "x",
           "y": {
            "bdata": "4XoUrkfhN0A=",
            "dtype": "f8"
           },
           "yaxis": "y"
          },
          {
           "hovertemplate": "country=Slovakia<br>year=2019<br>population=%{x}<br>value_kg=%{marker.size}<extra></extra>",
           "legendgroup": "Slovakia",
           "marker": {
            "color": "#636efa",
            "size": {
             "bdata": "cT0K16OwOEA=",
             "dtype": "f8"
            },
            "sizemode": "area",
            "sizeref": 0.182375,
            "symbol": "circle"
           },
           "mode": "markers",
           "name": "Slovakia",
           "orientation": "v",
           "showlegend": true,
           "type": "scatter",
           "x": {
            "bdata": "AAAAwFDOVEE=",
            "dtype": "f8"
           },
           "xaxis": "x",
           "y": {
            "bdata": "cT0K16OwOEA=",
            "dtype": "f8"
           },
           "yaxis": "y"
          }
         ],
         "name": "2019"
        },
        {
         "data": [
          {
           "hovertemplate": "country=Austria<br>year=2020<br>population=%{x}<br>value_kg=%{marker.size}<extra></extra>",
           "legendgroup": "Austria",
           "marker": {
            "color": "#636efa",
            "size": {
             "bdata": "ZmZmZmbGQEA=",
             "dtype": "f8"
            },
            "sizemode": "area",
            "sizeref": 0.182375,
            "symbol": "circle"
           },
           "mode": "markers",
           "name": "Austria",
           "orientation": "v",
           "showlegend": true,
           "type": "scatter",
           "x": {
            "bdata": "AAAAAPABYUE=",
            "dtype": "f8"
           },
           "xaxis": "x",
           "y": {
            "bdata": "ZmZmZmbGQEA=",
            "dtype": "f8"
           },
           "yaxis": "y"
          },
          {
           "hovertemplate": "country=Belgium<br>year=2020<br>population=%{x}<br>value_kg=%{marker.size}<extra></extra>",
           "legendgroup": "Belgium",
           "marker": {
            "color": "#EF553B",
            "size": {
             "bdata": "AAAAAAAAQEA=",
             "dtype": "f8"
            },
            "sizemode": "area",
            "sizeref": 0.182375,
            "symbol": "circle"
           },
           "mode": "markers",
           "name": "Belgium",
           "orientation": "v",
           "showlegend": true,
           "type": "scatter",
           "x": {
            "bdata": "AAAAgBUCZkE=",
            "dtype": "f8"
           },
           "xaxis": "x",
           "y": {
            "bdata": "AAAAAAAAQEA=",
            "dtype": "f8"
           },
           "yaxis": "y"
          },
          {
           "hovertemplate": "country=Cyprus<br>year=2020<br>population=%{x}<br>value_kg=%{marker.size}<extra></extra>",
           "legendgroup": "Cyprus",
           "marker": {
            "color": "#ab63fa",
            "size": {
             "bdata": "SOF6FK5HNEA=",
             "dtype": "f8"
            },
            "sizemode": "area",
            "sizeref": 0.182375,
            "symbol": "circle"
           },
           "mode": "markers",
           "name": "Cyprus",
           "orientation": "v",
           "showlegend": true,
           "type": "scatter",
           "x": {
            "bdata": "AAAAAEq5K0E=",
            "dtype": "f8"
           },
           "xaxis": "x",
           "y": {
            "bdata": "SOF6FK5HNEA=",
            "dtype": "f8"
           },
           "yaxis": "y"
          },
          {
           "hovertemplate": "country=Czechia<br>year=2020<br>population=%{x}<br>value_kg=%{marker.size}<extra></extra>",
           "legendgroup": "Czechia",
           "marker": {
            "color": "#FFA15A",
            "size": {
             "bdata": "uB6F61G4OEA=",
             "dtype": "f8"
            },
            "sizemode": "area",
            "sizeref": 0.182375,
            "symbol": "circle"
           },
           "mode": "markers",
           "name": "Czechia",
           "orientation": "v",
           "showlegend": true,
           "type": "scatter",
           "x": {
            "bdata": "AAAAQJBnZEE=",
            "dtype": "f8"
           },
           "xaxis": "x",
           "y": {
            "bdata": "uB6F61G4OEA=",
            "dtype": "f8"
           },
           "yaxis": "y"
          },
          {
           "hovertemplate": "country=Germany<br>year=2020<br>population=%{x}<br>value_kg=%{marker.size}<extra></extra>",
           "legendgroup": "Germany",
           "marker": {
            "color": "#19d3f3",
            "size": {
             "bdata": "exSuR+HaQ0A=",
             "dtype": "f8"
            },
            "sizemode": "area",
            "sizeref": 0.182375,
            "symbol": "circle"
           },
           "mode": "markers",
           "name": "Germany",
           "orientation": "v",
           "showlegend": true,
           "type": "scatter",
           "x": {
            "bdata": "AAAAnLzTk0E=",
            "dtype": "f8"
           },
           "xaxis": "x",
           "y": {
            "bdata": "exSuR+HaQ0A=",
            "dtype": "f8"
           },
           "yaxis": "y"
          },
          {
           "hovertemplate": "country=Denmark<br>year=2020<br>population=%{x}<br>value_kg=%{marker.size}<extra></extra>",
           "legendgroup": "Denmark",
           "marker": {
            "color": "#FF6692",
            "size": {
             "bdata": "w/UoXI+iQ0A=",
             "dtype": "f8"
            },
            "sizemode": "area",
            "sizeref": 0.182375,
            "symbol": "circle"
           },
           "mode": "markers",
           "name": "Denmark",
           "orientation": "v",
           "showlegend": true,
           "type": "scatter",
           "x": {
            "bdata": "AAAAALs+VkE=",
            "dtype": "f8"
           },
           "xaxis": "x",
           "y": {
            "bdata": "w/UoXI+iQ0A=",
            "dtype": "f8"
           },
           "yaxis": "y"
          },
          {
           "hovertemplate": "country=Estonia<br>year=2020<br>population=%{x}<br>value_kg=%{marker.size}<extra></extra>",
           "legendgroup": "Estonia",
           "marker": {
            "color": "#B6E880",
            "size": {
             "bdata": "KVyPwvUoREA=",
             "dtype": "f8"
            },
            "sizemode": "area",
            "sizeref": 0.182375,
            "symbol": "circle"
           },
           "mode": "markers",
           "name": "Estonia",
           "orientation": "v",
           "showlegend": true,
           "type": "scatter",
           "x": {
            "bdata": "AAAAAHJJNEE=",
            "dtype": "f8"
           },
           "xaxis": "x",
           "y": {
            "bdata": "KVyPwvUoREA=",
            "dtype": "f8"
           },
           "yaxis": "y"
          },
          {
           "hovertemplate": "country=Spain<br>year=2020<br>population=%{x}<br>value_kg=%{marker.size}<extra></extra>",
           "legendgroup": "Spain",
           "marker": {
            "color": "#FECB52",
            "size": {
             "bdata": "AAAAAAAAQkA=",
             "dtype": "f8"
            },
            "sizemode": "area",
            "sizeref": 0.182375,
            "symbol": "circle"
           },
           "mode": "markers",
           "name": "Spain",
           "orientation": "v",
           "showlegend": true,
           "type": "scatter",
           "x": {
            "bdata": "AAAAAC6VhkE=",
            "dtype": "f8"
           },
           "xaxis": "x",
           "y": {
            "bdata": "AAAAAAAAQkA=",
            "dtype": "f8"
           },
           "yaxis": "y"
          },
          {
           "hovertemplate": "country=European Union - 27 countries (from 2020)<br>year=2020<br>population=%{x}<br>value_kg=%{marker.size}<extra></extra>",
           "legendgroup": "European Union - 27 countries (from 2020)",
           "marker": {
            "color": "#636efa",
            "size": {
             "bdata": "rkfhehROQUA=",
             "dtype": "f8"
            },
            "sizemode": "area",
            "sizeref": 0.182375,
            "symbol": "circle"
           },
           "mode": "markers",
           "name": "European Union - 27 countries (from 2020)",
           "orientation": "v",
           "showlegend": true,
           "type": "scatter",
           "x": {
            "bdata": "AAAAVsadukE=",
            "dtype": "f8"
           },
           "xaxis": "x",
           "y": {
            "bdata": "rkfhehROQUA=",
            "dtype": "f8"
           },
           "yaxis": "y"
          },
          {
           "hovertemplate": "country=Finland<br>year=2020<br>population=%{x}<br>value_kg=%{marker.size}<extra></extra>",
           "legendgroup": "Finland",
           "marker": {
            "color": "#EF553B",
            "size": {
             "bdata": "KVyPwvVoPEA=",
             "dtype": "f8"
            },
            "sizemode": "area",
            "sizeref": 0.182375,
            "symbol": "circle"
           },
           "mode": "markers",
           "name": "Finland",
           "orientation": "v",
           "showlegend": true,
           "type": "scatter",
           "x": {
            "bdata": "AAAAwPEXVUE=",
            "dtype": "f8"
           },
           "xaxis": "x",
           "y": {
            "bdata": "KVyPwvVoPEA=",
            "dtype": "f8"
           },
           "yaxis": "y"
          },
          {
           "hovertemplate": "country=France<br>year=2020<br>population=%{x}<br>value_kg=%{marker.size}<extra></extra>",
           "legendgroup": "France",
           "marker": {
            "color": "#00cc96",
            "size": {
             "bdata": "9ihcj8LVQUA=",
             "dtype": "f8"
            },
            "sizemode": "area",
            "sizeref": 0.182375,
            "symbol": "circle"
           },
           "mode": "markers",
           "name": "France",
           "orientation": "v",
           "showlegend": true,
           "type": "scatter",
           "x": {
            "bdata": "AAAAWAsekEE=",
            "dtype": "f8"
           },
           "xaxis": "x",
           "y": {
            "bdata": "9ihcj8LVQUA=",
            "dtype": "f8"
           },
           "yaxis": "y"
          },
          {
           "hovertemplate": "country=Croatia<br>year=2020<br>population=%{x}<br>value_kg=%{marker.size}<extra></extra>",
           "legendgroup": "Croatia",
           "marker": {
            "color": "#ab63fa",
            "size": {
             "bdata": "FK5H4XrUMEA=",
             "dtype": "f8"
            },
            "sizemode": "area",
            "sizeref": 0.182375,
            "symbol": "circle"
           },
           "mode": "markers",
           "name": "Croatia",
           "orientation": "v",
           "showlegend": true,
           "type": "scatter",
           "x": {
            "bdata": "AAAAgBrbTUE=",
            "dtype": "f8"
           },
           "xaxis": "x",
           "y": {
            "bdata": "FK5H4XrUMEA=",
            "dtype": "f8"
           },
           "yaxis": "y"
          },
          {
           "hovertemplate": "country=Hungary<br>year=2020<br>population=%{x}<br>value_kg=%{marker.size}<extra></extra>",
           "legendgroup": "Hungary",
           "marker": {
            "color": "#FFA15A",
            "size": {
             "bdata": "7FG4HoXrR0A=",
             "dtype": "f8"
            },
            "sizemode": "area",
            "sizeref": 0.182375,
            "symbol": "circle"
           },
           "mode": "markers",
           "name": "Hungary",
           "orientation": "v",
           "showlegend": true,
           "type": "scatter",
           "x": {
            "bdata": "AAAAYOJxYkE=",
            "dtype": "f8"
           },
           "xaxis": "x",
           "y": {
            "bdata": "7FG4HoXrR0A=",
            "dtype": "f8"
           },
           "yaxis": "y"
          },
          {
           "hovertemplate": "country=Ireland<br>year=2020<br>population=%{x}<br>value_kg=%{marker.size}<extra></extra>",
           "legendgroup": "Ireland",
           "marker": {
            "color": "#19d3f3",
            "size": {
             "bdata": "rkfhehRuTkA=",
             "dtype": "f8"
            },
            "sizemode": "area",
            "sizeref": 0.182375,
            "symbol": "circle"
           },
           "mode": "markers",
           "name": "Ireland",
           "orientation": "v",
           "showlegend": true,
           "type": "scatter",
           "x": {
            "bdata": "AAAAwKA5U0E=",
            "dtype": "f8"
           },
           "xaxis": "x",
           "y": {
            "bdata": "rkfhehRuTkA=",
            "dtype": "f8"
           },
           "yaxis": "y"
          },
          {
           "hovertemplate": "country=Iceland<br>year=2020<br>population=%{x}<br>value_kg=%{marker.size}<extra></extra>",
           "legendgroup": "Iceland",
           "marker": {
            "color": "#FF6692",
            "size": {
             "bdata": "9ihcj8K1Q0A=",
             "dtype": "f8"
            },
            "sizemode": "area",
            "sizeref": 0.182375,
            "symbol": "circle"
           },
           "mode": "markers",
           "name": "Iceland",
           "orientation": "v",
           "showlegend": true,
           "type": "scatter",
           "x": {
            "bdata": "AAAAAPxdFkE=",
            "dtype": "f8"
           },
           "xaxis": "x",
           "y": {
            "bdata": "9ihcj8K1Q0A=",
            "dtype": "f8"
           },
           "yaxis": "y"
          },
          {
           "hovertemplate": "country=Italy<br>year=2020<br>population=%{x}<br>value_kg=%{marker.size}<extra></extra>",
           "legendgroup": "Italy",
           "marker": {
            "color": "#B6E880",
            "size": {
             "bdata": "FK5H4XqUQkA=",
             "dtype": "f8"
            },
            "sizemode": "area",
            "sizeref": 0.182375,
            "symbol": "circle"
           },
           "mode": "markers",
           "name": "Italy",
           "orientation": "v",
           "showlegend": true,
           "type": "scatter",
           "x": {
            "bdata": "AAAAGLhXjEE=",
            "dtype": "f8"
           },
           "xaxis": "x",
           "y": {
            "bdata": "FK5H4XqUQkA=",
            "dtype": "f8"
           },
           "yaxis": "y"
          },
          {
           "hovertemplate": "country=Liechtenstein<br>year=2020<br>population=%{x}<br>value_kg=%{marker.size}<extra></extra>",
           "legendgroup": "Liechtenstein",
           "marker": {
            "color": "#FF97FF",
            "size": {
             "bdata": "9ihcj8I1N0A=",
             "dtype": "f8"
            },
            "sizemode": "area",
            "sizeref": 0.182375,
            "symbol": "circle"
           },
           "mode": "markers",
           "name": "Liechtenstein",
           "orientation": "v",
           "showlegend": true,
           "type": "scatter",
           "x": {
            "bdata": "AAAAAKD+4kA=",
            "dtype": "f8"
           },
           "xaxis": "x",
           "y": {
            "bdata": "9ihcj8I1N0A=",
            "dtype": "f8"
           },
           "yaxis": "y"
          },
          {
           "hovertemplate": "country=Lithuania<br>year=2020<br>population=%{x}<br>value_kg=%{marker.size}<extra></extra>",
           "legendgroup": "Lithuania",
           "marker": {
            "color": "#FECB52",
            "size": {
             "bdata": "pHA9CtejPkA=",
             "dtype": "f8"
            },
            "sizemode": "area",
            "sizeref": 0.182375,
            "symbol": "circle"
           },
           "mode": "markers",
           "name": "Lithuania",
           "orientation": "v",
           "showlegend": true,
           "type": "scatter",
           "x": {
            "bdata": "AAAAgABxRUE=",
            "dtype": "f8"
           },
           "xaxis": "x",
           "y": {
            "bdata": "pHA9CtejPkA=",
            "dtype": "f8"
           },
           "yaxis": "y"
          },
          {
           "hovertemplate": "country=Luxembourg<br>year=2020<br>population=%{x}<br>value_kg=%{marker.size}<extra></extra>",
           "legendgroup": "Luxembourg",
           "marker": {
            "color": "#636efa",
            "size": {
             "bdata": "CtejcD2KQ0A=",
             "dtype": "f8"
            },
            "sizemode": "area",
            "sizeref": 0.182375,
            "symbol": "circle"
           },
           "mode": "markers",
           "name": "Luxembourg",
           "orientation": "v",
           "showlegend": true,
           "type": "scatter",
           "x": {
            "bdata": "AAAAACY9I0E=",
            "dtype": "f8"
           },
           "xaxis": "x",
           "y": {
            "bdata": "CtejcD2KQ0A=",
            "dtype": "f8"
           },
           "yaxis": "y"
          },
          {
           "hovertemplate": "country=Latvia<br>year=2020<br>population=%{x}<br>value_kg=%{marker.size}<extra></extra>",
           "legendgroup": "Latvia",
           "marker": {
            "color": "#EF553B",
            "size": {
             "bdata": "FK5H4XqUOEA=",
             "dtype": "f8"
            },
            "sizemode": "area",
            "sizeref": 0.182375,
            "symbol": "circle"
           },
           "mode": "markers",
           "name": "Latvia",
           "orientation": "v",
           "showlegend": true,
           "type": "scatter",
           "x": {
            "bdata": "AAAAAKH/PEE=",
            "dtype": "f8"
           },
           "xaxis": "x",
           "y": {
            "bdata": "FK5H4XqUOEA=",
            "dtype": "f8"
           },
           "yaxis": "y"
          },
          {
           "hovertemplate": "country=Malta<br>year=2020<br>population=%{x}<br>value_kg=%{marker.size}<extra></extra>",
           "legendgroup": "Malta",
           "marker": {
            "color": "#00cc96",
            "size": {
             "bdata": "7FG4HoVrO0A=",
             "dtype": "f8"
            },
            "sizemode": "area",
            "sizeref": 0.182375,
            "symbol": "circle"
           },
           "mode": "markers",
           "name": "Malta",
           "orientation": "v",
           "showlegend": true,
           "type": "scatter",
           "x": {
            "bdata": "AAAAAIh2H0E=",
            "dtype": "f8"
           },
           "xaxis": "x",
           "y": {
            "bdata": "7FG4HoVrO0A=",
            "dtype": "f8"
           },
           "yaxis": "y"
          },
          {
           "hovertemplate": "country=Netherlands<br>year=2020<br>population=%{x}<br>value_kg=%{marker.size}<extra></extra>",
           "legendgroup": "Netherlands",
           "marker": {
            "color": "#ab63fa",
            "size": {
             "bdata": "w/UoXI/CP0A=",
             "dtype": "f8"
            },
            "sizemode": "area",
            "sizeref": 0.182375,
            "symbol": "circle"
           },
           "mode": "markers",
           "name": "Netherlands",
           "orientation": "v",
           "showlegend": true,
           "type": "scatter",
           "x": {
            "bdata": "AAAAwC2icEE=",
            "dtype": "f8"
           },
           "xaxis": "x",
           "y": {
            "bdata": "w/UoXI/CP0A=",
            "dtype": "f8"
           },
           "yaxis": "y"
          },
          {
           "hovertemplate": "country=Norway<br>year=2020<br>population=%{x}<br>value_kg=%{marker.size}<extra></extra>",
           "legendgroup": "Norway",
           "marker": {
            "color": "#FFA15A",
            "size": {
             "bdata": "j8L1KFwPR0A=",
             "dtype": "f8"
            },
            "sizemode": "area",
            "sizeref": 0.182375,
            "symbol": "circle"
           },
           "mode": "markers",
           "name": "Norway",
           "orientation": "v",
           "showlegend": true,
           "type": "scatter",
           "x": {
            "bdata": "AAAAwGSFVEE=",
            "dtype": "f8"
           },
           "xaxis": "x",
           "y": {
            "bdata": "j8L1KFwPR0A=",
            "dtype": "f8"
           },
           "yaxis": "y"
          },
          {
           "hovertemplate": "country=Portugal<br>year=2020<br>population=%{x}<br>value_kg=%{marker.size}<extra></extra>",
           "legendgroup": "Portugal",
           "marker": {
            "color": "#FF6692",
            "size": {
             "bdata": "AAAAAAAAREA=",
             "dtype": "f8"
            },
            "sizemode": "area",
            "sizeref": 0.182375,
            "symbol": "circle"
           },
           "mode": "markers",
           "name": "Portugal",
           "orientation": "v",
           "showlegend": true,
           "type": "scatter",
           "x": {
            "bdata": "AAAAwLnOY0E=",
            "dtype": "f8"
           },
           "xaxis": "x",
           "y": {
            "bdata": "AAAAAAAAREA=",
            "dtype": "f8"
           },
           "yaxis": "y"
          },
          {
           "hovertemplate": "country=Romania<br>year=2020<br>population=%{x}<br>value_kg=%{marker.size}<extra></extra>",
           "legendgroup": "Romania",
           "marker": {
            "color": "#B6E880",
            "size": {
             "bdata": "MzMzMzPzOEA=",
             "dtype": "f8"
            },
            "sizemode": "area",
            "sizeref": 0.182375,
            "symbol": "circle"
           },
           "mode": "markers",
           "name": "Romania",
           "orientation": "v",
           "showlegend": true,
           "type": "scatter",
           "x": {
            "bdata": "AAAAIG5fckE=",
            "dtype": "f8"
           },
           "xaxis": "x",
           "y": {
            "bdata": "MzMzMzPzOEA=",
            "dtype": "f8"
           },
           "yaxis": "y"
          },
          {
           "hovertemplate": "country=Sweden<br>year=2020<br>population=%{x}<br>value_kg=%{marker.size}<extra></extra>",
           "legendgroup": "Sweden",
           "marker": {
            "color": "#FF97FF",
            "size": {
             "bdata": "SOF6FK4HOEA=",
             "dtype": "f8"
            },
            "sizemode": "area",
            "sizeref": 0.182375,
            "symbol": "circle"
           },
           "mode": "markers",
           "name": "Sweden",
           "orientation": "v",
           "showlegend": true,
           "type": "scatter",
           "x": {
            "bdata": "AAAAQGS/Y0E=",
            "dtype": "f8"
           },
           "xaxis": "x",
           "y": {
            "bdata": "SOF6FK4HOEA=",
            "dtype": "f8"
           },
           "yaxis": "y"
          },
          {
           "hovertemplate": "country=Slovenia<br>year=2020<br>population=%{x}<br>value_kg=%{marker.size}<extra></extra>",
           "legendgroup": "Slovenia",
           "marker": {
            "color": "#FECB52",
            "size": {
             "bdata": "rkfhehSuN0A=",
             "dtype": "f8"
            },
            "sizemode": "area",
            "sizeref": 0.182375,
            "symbol": "circle"
           },
           "mode": "markers",
           "name": "Slovenia",
           "orientation": "v",
           "showlegend": true,
           "type": "scatter",
           "x": {
            "bdata": "AAAAgEkKQEE=",
            "dtype": "f8"
           },
           "xaxis": "x",
           "y": {
            "bdata": "rkfhehSuN0A=",
            "dtype": "f8"
           },
           "yaxis": "y"
          },
          {
           "hovertemplate": "country=Slovakia<br>year=2020<br>population=%{x}<br>value_kg=%{marker.size}<extra></extra>",
           "legendgroup": "Slovakia",
           "marker": {
            "color": "#636efa",
            "size": {
             "bdata": "PQrXo3B9N0A=",
             "dtype": "f8"
            },
            "sizemode": "area",
            "sizeref": 0.182375,
            "symbol": "circle"
           },
           "mode": "markers",
           "name": "Slovakia",
           "orientation": "v",
           "showlegend": true,
           "type": "scatter",
           "x": {
            "bdata": "AAAAwOLSVEE=",
            "dtype": "f8"
           },
           "xaxis": "x",
           "y": {
            "bdata": "PQrXo3B9N0A=",
            "dtype": "f8"
           },
           "yaxis": "y"
          }
         ],
         "name": "2020"
        },
        {
         "data": [
          {
           "hovertemplate": "country=Austria<br>year=2021<br>population=%{x}<br>value_kg=%{marker.size}<extra></extra>",
           "legendgroup": "Austria",
           "marker": {
            "color": "#636efa",
            "size": {
             "bdata": "9ihcj8LVQEA=",
             "dtype": "f8"
            },
            "sizemode": "area",
            "sizeref": 0.182375,
            "symbol": "circle"
           },
           "mode": "markers",
           "name": "Austria",
           "orientation": "v",
           "showlegend": true,
           "type": "scatter",
           "x": {
            "bdata": "AAAAoPIUYUE=",
            "dtype": "f8"
           },
           "xaxis": "x",
           "y": {
            "bdata": "9ihcj8LVQEA=",
            "dtype": "f8"
           },
           "yaxis": "y"
          },
          {
           "hovertemplate": "country=Belgium<br>year=2021<br>population=%{x}<br>value_kg=%{marker.size}<extra></extra>",
           "legendgroup": "Belgium",
           "marker": {
            "color": "#EF553B",
            "size": {
             "bdata": "w/UoXI8CQEA=",
             "dtype": "f8"
            },
            "sizemode": "area",
            "sizeref": 0.182375,
            "symbol": "circle"
           },
           "mode": "markers",
           "name": "Belgium",
           "orientation": "v",
           "showlegend": true,
           "type": "scatter",
           "x": {
            "bdata": "AAAAYFIZZkE=",
            "dtype": "f8"
           },
           "xaxis": "x",
           "y": {
            "bdata": "w/UoXI8CQEA=",
            "dtype": "f8"
           },
           "yaxis": "y"
          },
          {
           "hovertemplate": "country=Bulgaria<br>year=2021<br>population=%{x}<br>value_kg=%{marker.size}<extra></extra>",
           "legendgroup": "Bulgaria",
           "marker": {
            "color": "#00cc96",
            "size": {
             "bdata": "AAAAAABAN0A=",
             "dtype": "f8"
            },
            "sizemode": "area",
            "sizeref": 0.182375,
            "symbol": "circle"
           },
           "mode": "markers",
           "name": "Bulgaria",
           "orientation": "v",
           "showlegend": true,
           "type": "scatter",
           "x": {
            "bdata": "AAAAQMnSWEE=",
            "dtype": "f8"
           },
           "xaxis": "x",
           "y": {
            "bdata": "AAAAAABAN0A=",
            "dtype": "f8"
           },
           "yaxis": "y"
          },
          {
           "hovertemplate": "country=Cyprus<br>year=2021<br>population=%{x}<br>value_kg=%{marker.size}<extra></extra>",
           "legendgroup": "Cyprus",
           "marker": {
            "color": "#ab63fa",
            "size": {
             "bdata": "pHA9CtfjNkA=",
             "dtype": "f8"
            },
            "sizemode": "area",
            "sizeref": 0.182375,
            "symbol": "circle"
           },
           "mode": "markers",
           "name": "Cyprus",
           "orientation": "v",
           "showlegend": true,
           "type": "scatter",
           "x": {
            "bdata": "AAAAABAkLEE=",
            "dtype": "f8"
           },
           "xaxis": "x",
           "y": {
            "bdata": "pHA9CtfjNkA=",
            "dtype": "f8"
           },
           "yaxis": "y"
          },
          {
           "hovertemplate": "country=Czechia<br>year=2021<br>population=%{x}<br>value_kg=%{marker.size}<extra></extra>",
           "legendgroup": "Czechia",
           "marker": {
            "color": "#FFA15A",
            "size": {
             "bdata": "mpmZmZkZO0A=",
             "dtype": "f8"
            },
            "sizemode": "area",
            "sizeref": 0.182375,
            "symbol": "circle"
           },
           "mode": "markers",
           "name": "Czechia",
           "orientation": "v",
           "showlegend": true,
           "type": "scatter",
           "x": {
            "bdata": "AAAAgMUJZEE=",
            "dtype": "f8"
           },
           "xaxis": "x",
           "y": {
            "bdata": "mpmZmZkZO0A=",
            "dtype": "f8"
           },
           "yaxis": "y"
          },
          {
           "hovertemplate": "country=Germany<br>year=2021<br>population=%{x}<br>value_kg=%{marker.size}<extra></extra>",
           "legendgroup": "Germany",
           "marker": {
            "color": "#19d3f3",
            "size": {
             "bdata": "7FG4HoWLREA=",
             "dtype": "f8"
            },
            "sizemode": "area",
            "sizeref": 0.182375,
            "symbol": "circle"
           },
           "mode": "markers",
           "name": "Germany",
           "orientation": "v",
           "showlegend": true,
           "type": "scatter",
           "x": {
            "bdata": "AAAAuOLVk0E=",
            "dtype": "f8"
           },
           "xaxis": "x",
           "y": {
            "bdata": "7FG4HoWLREA=",
            "dtype": "f8"
           },
           "yaxis": "y"
          },
          {
           "hovertemplate": "country=Denmark<br>year=2021<br>population=%{x}<br>value_kg=%{marker.size}<extra></extra>",
           "legendgroup": "Denmark",
           "marker": {
            "color": "#FF6692",
            "size": {
             "bdata": "ZmZmZmYmQkA=",
             "dtype": "f8"
            },
            "sizemode": "area",
            "sizeref": 0.182375,
            "symbol": "circle"
           },
           "mode": "markers",
           "name": "Denmark",
           "orientation": "v",
           "showlegend": true,
           "type": "scatter",
           "x": {
            "bdata": "AAAAQHdXVkE=",
            "dtype": "f8"
           },
           "xaxis": "x",
           "y": {
            "bdata": "ZmZmZmYmQkA=",
            "dtype": "f8"
           },
           "yaxis": "y"
          },
          {
           "hovertemplate": "country=Estonia<br>year=2021<br>population=%{x}<br>value_kg=%{marker.size}<extra></extra>",
           "legendgroup": "Estonia",
           "marker": {
            "color": "#B6E880",
            "size": {
             "bdata": "cT0K16PQQkA=",
             "dtype": "f8"
            },
            "sizemode": "area",
            "sizeref": 0.182375,
            "symbol": "circle"
           },
           "mode": "markers",
           "name": "Estonia",
           "orientation": "v",
           "showlegend": true,
           "type": "scatter",
           "x": {
            "bdata": "AAAAAPRONEE=",
            "dtype": "f8"
           },
           "xaxis": "x",
           "y": {
            "bdata": "cT0K16PQQkA=",
            "dtype": "f8"
           },
           "yaxis": "y"
          },
          {
           "hovertemplate": "country=Greece<br>year=2021<br>population=%{x}<br>value_kg=%{marker.size}<extra></extra>",
           "legendgroup": "Greece",
           "marker": {
            "color": "#FF97FF",
            "size": {
             "bdata": "16NwPQoXOkA=",
             "dtype": "f8"
            },
            "sizemode": "area",
            "sizeref": 0.182375,
            "symbol": "circle"
           },
           "mode": "markers",
           "name": "Greece",
           "orientation": "v",
           "showlegend": true,
           "type": "scatter",
           "x": {
            "bdata": "AAAA4L4oZEE=",
            "dtype": "f8"
           },
           "xaxis": "x",
           "y": {
            "bdata": "16NwPQoXOkA=",
            "dtype": "f8"
           },
           "yaxis": "y"
          },
          {
           "hovertemplate": "country=Spain<br>year=2021<br>population=%{x}<br>value_kg=%{marker.size}<extra></extra>",
           "legendgroup": "Spain",
           "marker": {
            "color": "#FECB52",
            "size": {
             "bdata": "cT0K16NQQ0A=",
             "dtype": "f8"
            },
            "sizemode": "area",
            "sizeref": 0.182375,
            "symbol": "circle"
           },
           "mode": "markers",
           "name": "Spain",
           "orientation": "v",
           "showlegend": true,
           "type": "scatter",
           "x": {
            "bdata": "AAAAaHufhkE=",
            "dtype": "f8"
           },
           "xaxis": "x",
           "y": {
            "bdata": "cT0K16NQQ0A=",
            "dtype": "f8"
           },
           "yaxis": "y"
          },
          {
           "hovertemplate": "country=European Union - 27 countries (from 2020)<br>year=2021<br>population=%{x}<br>value_kg=%{marker.size}<extra></extra>",
           "legendgroup": "European Union - 27 countries (from 2020)",
           "marker": {
            "color": "#636efa",
            "size": {
             "bdata": "zczMzMwsQkA=",
             "dtype": "f8"
            },
            "sizemode": "area",
            "sizeref": 0.182375,
            "symbol": "circle"
           },
           "mode": "markers",
           "name": "European Union - 27 countries (from 2020)",
           "orientation": "v",
           "showlegend": true,
           "type": "scatter",
           "x": {
            "bdata": "AAAA7jSTukE=",
            "dtype": "f8"
           },
           "xaxis": "x",
           "y": {
            "bdata": "zczMzMwsQkA=",
            "dtype": "f8"
           },
           "yaxis": "y"
          },
          {
           "hovertemplate": "country=Finland<br>year=2021<br>population=%{x}<br>value_kg=%{marker.size}<extra></extra>",
           "legendgroup": "Finland",
           "marker": {
            "color": "#EF553B",
            "size": {
             "bdata": "cT0K16PwPUA=",
             "dtype": "f8"
            },
            "sizemode": "area",
            "sizeref": 0.182375,
            "symbol": "circle"
           },
           "mode": "markers",
           "name": "Finland",
           "orientation": "v",
           "showlegend": true,
           "type": "scatter",
           "x": {
            "bdata": "AAAAQCYjVUE=",
            "dtype": "f8"
           },
           "xaxis": "x",
           "y": {
            "bdata": "cT0K16PwPUA=",
            "dtype": "f8"
           },
           "yaxis": "y"
          },
          {
           "hovertemplate": "country=France<br>year=2021<br>population=%{x}<br>value_kg=%{marker.size}<extra></extra>",
           "legendgroup": "France",
           "marker": {
            "color": "#00cc96",
            "size": {
             "bdata": "AAAAAABgQkA=",
             "dtype": "f8"
            },
            "sizemode": "area",
            "sizeref": 0.182375,
            "symbol": "circle"
           },
           "mode": "markers",
           "name": "France",
           "orientation": "v",
           "showlegend": true,
           "type": "scatter",
           "x": {
            "bdata": "AAAA7MsskEE=",
            "dtype": "f8"
           },
           "xaxis": "x",
           "y": {
            "bdata": "AAAAAABgQkA=",
            "dtype": "f8"
           },
           "yaxis": "y"
          },
          {
           "hovertemplate": "country=Croatia<br>year=2021<br>population=%{x}<br>value_kg=%{marker.size}<extra></extra>",
           "legendgroup": "Croatia",
           "marker": {
            "color": "#ab63fa",
            "size": {
             "bdata": "XI/C9SgcMkA=",
             "dtype": "f8"
            },
            "sizemode": "area",
            "sizeref": 0.182375,
            "symbol": "circle"
           },
           "mode": "markers",
           "name": "Croatia",
           "orientation": "v",
           "showlegend": true,
           "type": "scatter",
           "x": {
            "bdata": "AAAAAJGVTUE=",
            "dtype": "f8"
           },
           "xaxis": "x",
           "y": {
            "bdata": "XI/C9SgcMkA=",
            "dtype": "f8"
           },
           "yaxis": "y"
          },
          {
           "hovertemplate": "country=Hungary<br>year=2021<br>population=%{x}<br>value_kg=%{marker.size}<extra></extra>",
           "legendgroup": "Hungary",
           "marker": {
            "color": "#FFA15A",
            "size": {
             "bdata": "mpmZmZn5RUA=",
             "dtype": "f8"
            },
            "sizemode": "area",
            "sizeref": 0.182375,
            "symbol": "circle"
           },
           "mode": "markers",
           "name": "Hungary",
           "orientation": "v",
           "showlegend": true,
           "type": "scatter",
           "x": {
            "bdata": "AAAAgJpeYkE=",
            "dtype": "f8"
           },
           "xaxis": "x",
           "y": {
            "bdata": "mpmZmZn5RUA=",
            "dtype": "f8"
           },
           "yaxis": "y"
          },
          {
           "hovertemplate": "country=Ireland<br>year=2021<br>population=%{x}<br>value_kg=%{marker.size}<extra></extra>",
           "legendgroup": "Ireland",
           "marker": {
            "color": "#19d3f3",
            "size": {
             "bdata": "zczMzMw8UkA=",
             "dtype": "f8"
            },
            "sizemode": "area",
            "sizeref": 0.182375,
            "symbol": "circle"
           },
           "mode": "markers",
           "name": "Ireland",
           "orientation": "v",
           "showlegend": true,
           "type": "scatter",
           "x": {
            "bdata": "AAAAQM5+U0E=",
            "dtype": "f8"
           },
           "xaxis": "x",
           "y": {
            "bdata": "zczMzMw8UkA=",
            "dtype": "f8"
           },
           "yaxis": "y"
          },
          {
           "hovertemplate": "country=Iceland<br>year=2021<br>population=%{x}<br>value_kg=%{marker.size}<extra></extra>",
           "legendgroup": "Iceland",
           "marker": {
            "color": "#FF6692",
            "size": {
             "bdata": "ZmZmZmZGRkA=",
             "dtype": "f8"
            },
            "sizemode": "area",
            "sizeref": 0.182375,
            "symbol": "circle"
           },
           "mode": "markers",
           "name": "Iceland",
           "orientation": "v",
           "showlegend": true,
           "type": "scatter",
           "x": {
            "bdata": "AAAAAKC8FkE=",
            "dtype": "f8"
           },
           "xaxis": "x",
           "y": {
            "bdata": "ZmZmZmZGRkA=",
            "dtype": "f8"
           },
           "yaxis": "y"
          },
          {
           "hovertemplate": "country=Italy<br>year=2021<br>population=%{x}<br>value_kg=%{marker.size}<extra></extra>",
           "legendgroup": "Italy",
           "marker": {
            "color": "#B6E880",
            "size": {
             "bdata": "MzMzMzMzQ0A=",
             "dtype": "f8"
            },
            "sizemode": "area",
            "sizeref": 0.182375,
            "symbol": "circle"
           },
           "mode": "markers",
           "name": "Italy",
           "orientation": "v",
           "showlegend": true,
           "type": "scatter",
           "x": {
            "bdata": "AAAAqGcyjEE=",
            "dtype": "f8"
           },
           "xaxis": "x",
           "y": {
            "bdata": "MzMzMzMzQ0A=",
            "dtype": "f8"
           },
           "yaxis": "y"
          },
          {
           "hovertemplate": "country=Liechtenstein<br>year=2021<br>population=%{x}<br>value_kg=%{marker.size}<extra></extra>",
           "legendgroup": "Liechtenstein",
           "marker": {
            "color": "#FF97FF",
            "size": {
             "bdata": "7FG4HoUrN0A=",
             "dtype": "f8"
            },
            "sizemode": "area",
            "sizeref": 0.182375,
            "symbol": "circle"
           },
           "mode": "markers",
           "name": "Liechtenstein",
           "orientation": "v",
           "showlegend": true,
           "type": "scatter",
           "x": {
            "bdata": "AAAAAMAh40A=",
            "dtype": "f8"
           },
           "xaxis": "x",
           "y": {
            "bdata": "7FG4HoUrN0A=",
            "dtype": "f8"
           },
           "yaxis": "y"
          },
          {
           "hovertemplate": "country=Lithuania<br>year=2021<br>population=%{x}<br>value_kg=%{marker.size}<extra></extra>",
           "legendgroup": "Lithuania",
           "marker": {
            "color": "#FECB52",
            "size": {
             "bdata": "16NwPQo3QkA=",
             "dtype": "f8"
            },
            "sizemode": "area",
            "sizeref": 0.182375,
            "symbol": "circle"
           },
           "mode": "markers",
           "name": "Lithuania",
           "orientation": "v",
           "showlegend": true,
           "type": "scatter",
           "x": {
            "bdata": "AAAAAB5tRUE=",
            "dtype": "f8"
           },
           "xaxis": "x",
           "y": {
            "bdata": "16NwPQo3QkA=",
            "dtype": "f8"
           },
           "yaxis": "y"
          },
          {
           "hovertemplate": "country=Luxembourg<br>year=2021<br>population=%{x}<br>value_kg=%{marker.size}<extra></extra>",
           "legendgroup": "Luxembourg",
           "marker": {
            "color": "#636efa",
            "size": {
             "bdata": "ZmZmZmbmQUA=",
             "dtype": "f8"
            },
            "sizemode": "area",
            "sizeref": 0.182375,
            "symbol": "circle"
           },
           "mode": "markers",
           "name": "Luxembourg",
           "orientation": "v",
           "showlegend": true,
           "type": "scatter",
           "x": {
            "bdata": "AAAAAICII0E=",
            "dtype": "f8"
           },
           "xaxis": "x",
           "y": {
            "bdata": "ZmZmZmbmQUA=",
            "dtype": "f8"
           },
           "yaxis": "y"
          },
          {
           "hovertemplate": "country=Latvia<br>year=2021<br>population=%{x}<br>value_kg=%{marker.size}<extra></extra>",
           "legendgroup": "Latvia",
           "marker": {
            "color": "#EF553B",
            "size": {
             "bdata": "SOF6FK6HOUA=",
             "dtype": "f8"
            },
            "sizemode": "area",
            "sizeref": 0.182375,
            "symbol": "circle"
           },
           "mode": "markers",
           "name": "Latvia",
           "orientation": "v",
           "showlegend": true,
           "type": "scatter",
           "x": {
            "bdata": "AAAAAErBPEE=",
            "dtype": "f8"
           },
           "xaxis": "x",
           "y": {
            "bdata": "SOF6FK6HOUA=",
            "dtype": "f8"
           },
           "yaxis": "y"
          },
          {
           "hovertemplate": "country=Malta<br>year=2021<br>population=%{x}<br>value_kg=%{marker.size}<extra></extra>",
           "legendgroup": "Malta",
           "marker": {
            "color": "#00cc96",
            "size": {
             "bdata": "ZmZmZmbmPkA=",
             "dtype": "f8"
            },
            "sizemode": "area",
            "sizeref": 0.182375,
            "symbol": "circle"
           },
           "mode": "markers",
           "name": "Malta",
           "orientation": "v",
           "showlegend": true,
           "type": "scatter",
           "x": {
            "bdata": "AAAAABigH0E=",
            "dtype": "f8"
           },
           "xaxis": "x",
           "y": {
            "bdata": "ZmZmZmbmPkA=",
            "dtype": "f8"
           },
           "yaxis": "y"
          },
          {
           "hovertemplate": "country=Netherlands<br>year=2021<br>population=%{x}<br>value_kg=%{marker.size}<extra></extra>",
           "legendgroup": "Netherlands",
           "marker": {
            "color": "#ab63fa",
            "size": {
             "bdata": "4XoUrkchP0A=",
             "dtype": "f8"
            },
            "sizemode": "area",
            "sizeref": 0.182375,
            "symbol": "circle"
           },
           "mode": "markers",
           "name": "Netherlands",
           "orientation": "v",
           "showlegend": true,
           "type": "scatter",
           "x": {
            "bdata": "AAAAQIe4cEE=",
            "dtype": "f8"
           },
           "xaxis": "x",
           "y": {
            "bdata": "4XoUrkchP0A=",
            "dtype": "f8"
           },
           "yaxis": "y"
          },
          {
           "hovertemplate": "country=Norway<br>year=2021<br>population=%{x}<br>value_kg=%{marker.size}<extra></extra>",
           "legendgroup": "Norway",
           "marker": {
            "color": "#FFA15A",
            "size": {
             "bdata": "w/UoXI/CR0A=",
             "dtype": "f8"
            },
            "sizemode": "area",
            "sizeref": 0.182375,
            "symbol": "circle"
           },
           "mode": "markers",
           "name": "Norway",
           "orientation": "v",
           "showlegend": true,
           "type": "scatter",
           "x": {
            "bdata": "AAAAAJChVEE=",
            "dtype": "f8"
           },
           "xaxis": "x",
           "y": {
            "bdata": "w/UoXI/CR0A=",
            "dtype": "f8"
           },
           "yaxis": "y"
          },
          {
           "hovertemplate": "country=Portugal<br>year=2021<br>population=%{x}<br>value_kg=%{marker.size}<extra></extra>",
           "legendgroup": "Portugal",
           "marker": {
            "color": "#FF6692",
            "size": {
             "bdata": "UrgeheuRREA=",
             "dtype": "f8"
            },
            "sizemode": "area",
            "sizeref": 0.182375,
            "symbol": "circle"
           },
           "mode": "markers",
           "name": "Portugal",
           "orientation": "v",
           "showlegend": true,
           "type": "scatter",
           "x": {
            "bdata": "AAAAYOPZY0E=",
            "dtype": "f8"
           },
           "xaxis": "x",
           "y": {
            "bdata": "UrgeheuRREA=",
            "dtype": "f8"
           },
           "yaxis": "y"
          },
          {
           "hovertemplate": "country=Romania<br>year=2021<br>population=%{x}<br>value_kg=%{marker.size}<extra></extra>",
           "legendgroup": "Romania",
           "marker": {
            "color": "#B6E880",
            "size": {
             "bdata": "7FG4HoVrOkA=",
             "dtype": "f8"
            },
            "sizemode": "area",
            "sizeref": 0.182375,
            "symbol": "circle"
           },
           "mode": "markers",
           "name": "Romania",
           "orientation": "v",
           "showlegend": true,
           "type": "scatter",
           "x": {
            "bdata": "AAAAsHg8ckE=",
            "dtype": "f8"
           },
           "xaxis": "x",
           "y": {
            "bdata": "7FG4HoVrOkA=",
            "dtype": "f8"
           },
           "yaxis": "y"
          },
          {
           "hovertemplate": "country=Sweden<br>year=2021<br>population=%{x}<br>value_kg=%{marker.size}<extra></extra>",
           "legendgroup": "Sweden",
           "marker": {
            "color": "#FF97FF",
            "size": {
             "bdata": "rkfhehSOQ0A=",
             "dtype": "f8"
            },
            "sizemode": "area",
            "sizeref": 0.182375,
            "symbol": "circle"
           },
           "mode": "markers",
           "name": "Sweden",
           "orientation": "v",
           "showlegend": true,
           "type": "scatter",
           "x": {
            "bdata": "AAAAYNjdY0E=",
            "dtype": "f8"
           },
           "xaxis": "x",
           "y": {
            "bdata": "rkfhehSOQ0A=",
            "dtype": "f8"
           },
           "yaxis": "y"
          },
          {
           "hovertemplate": "country=Slovenia<br>year=2021<br>population=%{x}<br>value_kg=%{marker.size}<extra></extra>",
           "legendgroup": "Slovenia",
           "marker": {
            "color": "#FECB52",
            "size": {
             "bdata": "uB6F61E4OkA=",
             "dtype": "f8"
            },
            "sizemode": "area",
            "sizeref": 0.182375,
            "symbol": "circle"
           },
           "mode": "markers",
           "name": "Slovenia",
           "orientation": "v",
           "showlegend": true,
           "type": "scatter",
           "x": {
            "bdata": "AAAAgFcVQEE=",
            "dtype": "f8"
           },
           "xaxis": "x",
           "y": {
            "bdata": "uB6F61E4OkA=",
            "dtype": "f8"
           },
           "yaxis": "y"
          },
          {
           "hovertemplate": "country=Slovakia<br>year=2021<br>population=%{x}<br>value_kg=%{marker.size}<extra></extra>",
           "legendgroup": "Slovakia",
           "marker": {
            "color": "#636efa",
            "size": {
             "bdata": "j8L1KFyPN0A=",
             "dtype": "f8"
            },
            "sizemode": "area",
            "sizeref": 0.182375,
            "symbol": "circle"
           },
           "mode": "markers",
           "name": "Slovakia",
           "orientation": "v",
           "showlegend": true,
           "type": "scatter",
           "x": {
            "bdata": "AAAAwJPHVEE=",
            "dtype": "f8"
           },
           "xaxis": "x",
           "y": {
            "bdata": "j8L1KFyPN0A=",
            "dtype": "f8"
           },
           "yaxis": "y"
          }
         ],
         "name": "2021"
        },
        {
         "data": [
          {
           "hovertemplate": "country=Austria<br>year=2022<br>population=%{x}<br>value_kg=%{marker.size}<extra></extra>",
           "legendgroup": "Austria",
           "marker": {
            "color": "#636efa",
            "size": {
             "bdata": "9ihcj8KVQEA=",
             "dtype": "f8"
            },
            "sizemode": "area",
            "sizeref": 0.182375,
            "symbol": "circle"
           },
           "mode": "markers",
           "name": "Austria",
           "orientation": "v",
           "showlegend": true,
           "type": "scatter",
           "x": {
            "bdata": "AAAAYPc+YUE=",
            "dtype": "f8"
           },
           "xaxis": "x",
           "y": {
            "bdata": "9ihcj8KVQEA=",
            "dtype": "f8"
           },
           "yaxis": "y"
          },
          {
           "hovertemplate": "country=Belgium<br>year=2022<br>population=%{x}<br>value_kg=%{marker.size}<extra></extra>",
           "legendgroup": "Belgium",
           "marker": {
            "color": "#EF553B",
            "size": {
             "bdata": "XI/C9ShcP0A=",
             "dtype": "f8"
            },
            "sizemode": "area",
            "sizeref": 0.182375,
            "symbol": "circle"
           },
           "mode": "markers",
           "name": "Belgium",
           "orientation": "v",
           "showlegend": true,
           "type": "scatter",
           "x": {
            "bdata": "AAAAQDpHZkE=",
            "dtype": "f8"
           },
           "xaxis": "x",
           "y": {
            "bdata": "XI/C9ShcP0A=",
            "dtype": "f8"
           },
           "yaxis": "y"
          },
          {
           "hovertemplate": "country=Bulgaria<br>year=2022<br>population=%{x}<br>value_kg=%{marker.size}<extra></extra>",
           "legendgroup": "Bulgaria",
           "marker": {
            "color": "#00cc96",
            "size": {
             "bdata": "MzMzMzPzNkA=",
             "dtype": "f8"
            },
            "sizemode": "area",
            "sizeref": 0.182375,
            "symbol": "circle"
           },
           "mode": "markers",
           "name": "Bulgaria",
           "orientation": "v",
           "showlegend": true,
           "type": "scatter",
           "x": {
            "bdata": "AAAAQJKpWEE=",
            "dtype": "f8"
           },
           "xaxis": "x",
           "y": {
            "bdata": "MzMzMzPzNkA=",
            "dtype": "f8"
           },
           "yaxis": "y"
          },
          {
           "hovertemplate": "country=Cyprus<br>year=2022<br>population=%{x}<br>value_kg=%{marker.size}<extra></extra>",
           "legendgroup": "Cyprus",
           "marker": {
            "color": "#ab63fa",
            "size": {
             "bdata": "uB6F61H4N0A=",
             "dtype": "f8"
            },
            "sizemode": "area",
            "sizeref": 0.182375,
            "symbol": "circle"
           },
           "mode": "markers",
           "name": "Cyprus",
           "orientation": "v",
           "showlegend": true,
           "type": "scatter",
           "x": {
            "bdata": "AAAAAECrLEE=",
            "dtype": "f8"
           },
           "xaxis": "x",
           "y": {
            "bdata": "uB6F61H4N0A=",
            "dtype": "f8"
           },
           "yaxis": "y"
          },
          {
           "hovertemplate": "country=Czechia<br>year=2022<br>population=%{x}<br>value_kg=%{marker.size}<extra></extra>",
           "legendgroup": "Czechia",
           "marker": {
            "color": "#FFA15A",
            "size": {
             "bdata": "zczMzMwMOkA=",
             "dtype": "f8"
            },
            "sizemode": "area",
            "sizeref": 0.182375,
            "symbol": "circle"
           },
           "mode": "markers",
           "name": "Czechia",
           "orientation": "v",
           "showlegend": true,
           "type": "scatter",
           "x": {
            "bdata": "AAAAwP5aZEE=",
            "dtype": "f8"
           },
           "xaxis": "x",
           "y": {
            "bdata": "zczMzMwMOkA=",
            "dtype": "f8"
           },
           "yaxis": "y"
          },
          {
           "hovertemplate": "country=Germany<br>year=2022<br>population=%{x}<br>value_kg=%{marker.size}<extra></extra>",
           "legendgroup": "Germany",
           "marker": {
            "color": "#19d3f3",
            "size": {
             "bdata": "H4XrUbi+Q0A=",
             "dtype": "f8"
            },
            "sizemode": "area",
            "sizeref": 0.182375,
            "symbol": "circle"
           },
           "mode": "markers",
           "name": "Germany",
           "orientation": "v",
           "showlegend": true,
           "type": "scatter",
           "x": {
            "bdata": "AAAAVMXUk0E=",
            "dtype": "f8"
           },
           "xaxis": "x",
           "y": {
            "bdata": "H4XrUbi+Q0A=",
            "dtype": "f8"
           },
           "yaxis": "y"
          },
          {
           "hovertemplate": "country=Denmark<br>year=2022<br>population=%{x}<br>value_kg=%{marker.size}<extra></extra>",
           "legendgroup": "Denmark",
           "marker": {
            "color": "#FF6692",
            "size": {
             "bdata": "CtejcD3qQUA=",
             "dtype": "f8"
            },
            "sizemode": "area",
            "sizeref": 0.182375,
            "symbol": "circle"
           },
           "mode": "markers",
           "name": "Denmark",
           "orientation": "v",
           "showlegend": true,
           "type": "scatter",
           "x": {
            "bdata": "AAAAQK+EVkE=",
            "dtype": "f8"
           },
           "xaxis": "x",
           "y": {
            "bdata": "CtejcD3qQUA=",
            "dtype": "f8"
           },
           "yaxis": "y"
          },
          {
           "hovertemplate": "country=Estonia<br>year=2022<br>population=%{x}<br>value_kg=%{marker.size}<extra></extra>",
           "legendgroup": "Estonia",
           "marker": {
            "color": "#B6E880",
            "size": {
             "bdata": "CtejcD3qQEA=",
             "dtype": "f8"
            },
            "sizemode": "area",
            "sizeref": 0.182375,
            "symbol": "circle"
           },
           "mode": "markers",
           "name": "Estonia",
           "orientation": "v",
           "showlegend": true,
           "type": "scatter",
           "x": {
            "bdata": "AAAAAOiUNEE=",
            "dtype": "f8"
           },
           "xaxis": "x",
           "y": {
            "bdata": "CtejcD3qQEA=",
            "dtype": "f8"
           },
           "yaxis": "y"
          },
          {
           "hovertemplate": "country=Greece<br>year=2022<br>population=%{x}<br>value_kg=%{marker.size}<extra></extra>",
           "legendgroup": "Greece",
           "marker": {
            "color": "#FF97FF",
            "size": {
             "bdata": "ZmZmZmamOEA=",
             "dtype": "f8"
            },
            "sizemode": "area",
            "sizeref": 0.182375,
            "symbol": "circle"
           },
           "mode": "markers",
           "name": "Greece",
           "orientation": "v",
           "showlegend": true,
           "type": "scatter",
           "x": {
            "bdata": "AAAAQCLoY0E=",
            "dtype": "f8"
           },
           "xaxis": "x",
           "y": {
            "bdata": "ZmZmZmamOEA=",
            "dtype": "f8"
           },
           "yaxis": "y"
          },
          {
           "hovertemplate": "country=Spain<br>year=2022<br>population=%{x}<br>value_kg=%{marker.size}<extra></extra>",
           "legendgroup": "Spain",
           "marker": {
            "color": "#FECB52",
            "size": {
             "bdata": "16NwPQq3REA=",
             "dtype": "f8"
            },
            "sizemode": "area",
            "sizeref": 0.182375,
            "symbol": "circle"
           },
           "mode": "markers",
           "name": "Spain",
           "orientation": "v",
           "showlegend": true,
           "type": "scatter",
           "x": {
            "bdata": "AAAAsEPJhkE=",
            "dtype": "f8"
           },
           "xaxis": "x",
           "y": {
            "bdata": "16NwPQq3REA=",
            "dtype": "f8"
           },
           "yaxis": "y"
          },
          {
           "hovertemplate": "country=European Union - 27 countries (from 2020)<br>year=2022<br>population=%{x}<br>value_kg=%{marker.size}<extra></extra>",
           "legendgroup": "European Union - 27 countries (from 2020)",
           "marker": {
            "color": "#636efa",
            "size": {
             "bdata": "cT0K16MQQkA=",
             "dtype": "f8"
            },
            "sizemode": "area",
            "sizeref": 0.182375,
            "symbol": "circle"
           },
           "mode": "markers",
           "name": "European Union - 27 countries (from 2020)",
           "orientation": "v",
           "showlegend": true,
           "type": "scatter",
           "x": {
            "bdata": "AAAAFySiukE=",
            "dtype": "f8"
           },
           "xaxis": "x",
           "y": {
            "bdata": "cT0K16MQQkA=",
            "dtype": "f8"
           },
           "yaxis": "y"
          },
          {
           "hovertemplate": "country=Finland<br>year=2022<br>population=%{x}<br>value_kg=%{marker.size}<extra></extra>",
           "legendgroup": "Finland",
           "marker": {
            "color": "#EF553B",
            "size": {
             "bdata": "cT0K16PwPEA=",
             "dtype": "f8"
            },
            "sizemode": "area",
            "sizeref": 0.182375,
            "symbol": "circle"
           },
           "mode": "markers",
           "name": "Finland",
           "orientation": "v",
           "showlegend": true,
           "type": "scatter",
           "x": {
            "bdata": "AAAAgOIxVUE=",
            "dtype": "f8"
           },
           "xaxis": "x",
           "y": {
            "bdata": "cT0K16PwPEA=",
            "dtype": "f8"
           },
           "yaxis": "y"
          },
          {
           "hovertemplate": "country=France<br>year=2022<br>population=%{x}<br>value_kg=%{marker.size}<extra></extra>",
           "legendgroup": "France",
           "marker": {
            "color": "#00cc96",
            "size": {
             "bdata": "AAAAAADgQUA=",
             "dtype": "f8"
            },
            "sizemode": "area",
            "sizeref": 0.182375,
            "symbol": "circle"
           },
           "mode": "markers",
           "name": "France",
           "orientation": "v",
           "showlegend": true,
           "type": "scatter",
           "x": {
            "bdata": "AAAAJKZBkEE=",
            "dtype": "f8"
           },
           "xaxis": "x",
           "y": {
            "bdata": "AAAAAADgQUA=",
            "dtype": "f8"
           },
           "yaxis": "y"
          },
          {
           "hovertemplate": "country=Croatia<br>year=2022<br>population=%{x}<br>value_kg=%{marker.size}<extra></extra>",
           "legendgroup": "Croatia",
           "marker": {
            "color": "#ab63fa",
            "size": {
             "bdata": "w/UoXI9CM0A=",
             "dtype": "f8"
            },
            "sizemode": "area",
            "sizeref": 0.182375,
            "symbol": "circle"
           },
           "mode": "markers",
           "name": "Croatia",
           "orientation": "v",
           "showlegend": true,
           "type": "scatter",
           "x": {
            "bdata": "AAAAAGxsTUE=",
            "dtype": "f8"
           },
           "xaxis": "x",
           "y": {
            "bdata": "w/UoXI9CM0A=",
            "dtype": "f8"
           },
           "yaxis": "y"
          },
          {
           "hovertemplate": "country=Hungary<br>year=2022<br>population=%{x}<br>value_kg=%{marker.size}<extra></extra>",
           "legendgroup": "Hungary",
           "marker": {
            "color": "#FFA15A",
            "size": {
             "bdata": "UrgehetRRkA=",
             "dtype": "f8"
            },
            "sizemode": "area",
            "sizeref": 0.182375,
            "symbol": "circle"
           },
           "mode": "markers",
           "name": "Hungary",
           "orientation": "v",
           "showlegend": true,
           "type": "scatter",
           "x": {
            "bdata": "AAAAQPpRYkE=",
            "dtype": "f8"
           },
           "xaxis": "x",
           "y": {
            "bdata": "UrgehetRRkA=",
            "dtype": "f8"
           },
           "yaxis": "y"
          },
          {
           "hovertemplate": "country=Ireland<br>year=2022<br>population=%{x}<br>value_kg=%{marker.size}<extra></extra>",
           "legendgroup": "Ireland",
           "marker": {
            "color": "#19d3f3",
            "size": {
             "bdata": "CtejcD2KUEA=",
             "dtype": "f8"
            },
            "sizemode": "area",
            "sizeref": 0.182375,
            "symbol": "circle"
           },
           "mode": "markers",
           "name": "Ireland",
           "orientation": "v",
           "showlegend": true,
           "type": "scatter",
           "x": {
            "bdata": "AAAAAKniU0E=",
            "dtype": "f8"
           },
           "xaxis": "x",
           "y": {
            "bdata": "CtejcD2KUEA=",
            "dtype": "f8"
           },
           "yaxis": "y"
          },
          {
           "hovertemplate": "country=Iceland<br>year=2022<br>population=%{x}<br>value_kg=%{marker.size}<extra></extra>",
           "legendgroup": "Iceland",
           "marker": {
            "color": "#FF6692",
            "size": {
             "bdata": "exSuR+E6SUA=",
             "dtype": "f8"
            },
            "sizemode": "area",
            "sizeref": 0.182375,
            "symbol": "circle"
           },
           "mode": "markers",
           "name": "Iceland",
           "orientation": "v",
           "showlegend": true,
           "type": "scatter",
           "x": {
            "bdata": "AAAAAMxQF0E=",
            "dtype": "f8"
           },
           "xaxis": "x",
           "y": {
            "bdata": "exSuR+E6SUA=",
            "dtype": "f8"
           },
           "yaxis": "y"
          },
          {
           "hovertemplate": "country=Italy<br>year=2022<br>population=%{x}<br>value_kg=%{marker.size}<extra></extra>",
           "legendgroup": "Italy",
           "marker": {
            "color": "#B6E880",
            "size": {
             "bdata": "mpmZmZm5Q0A=",
             "dtype": "f8"
            },
            "sizemode": "area",
            "sizeref": 0.182375,
            "symbol": "circle"
           },
           "mode": "markers",
           "name": "Italy",
           "orientation": "v",
           "showlegend": true,
           "type": "scatter",
           "x": {
            "bdata": "AAAAGNEjjEE=",
            "dtype": "f8"
           },
           "xaxis": "x",
           "y": {
            "bdata": "mpmZmZm5Q0A=",
            "dtype": "f8"
           },
           "yaxis": "y"
          },
          {
           "hovertemplate": "country=Liechtenstein<br>year=2022<br>population=%{x}<br>value_kg=%{marker.size}<extra></extra>",
           "legendgroup": "Liechtenstein",
           "marker": {
            "color": "#FF97FF",
            "size": {
             "bdata": "XI/C9SgcNkA=",
             "dtype": "f8"
            },
            "sizemode": "area",
            "sizeref": 0.182375,
            "symbol": "circle"
           },
           "mode": "markers",
           "name": "Liechtenstein",
           "orientation": "v",
           "showlegend": true,
           "type": "scatter",
           "x": {
            "bdata": "AAAAAKBI40A=",
            "dtype": "f8"
           },
           "xaxis": "x",
           "y": {
            "bdata": "XI/C9SgcNkA=",
            "dtype": "f8"
           },
           "yaxis": "y"
          },
          {
           "hovertemplate": "country=Lithuania<br>year=2022<br>population=%{x}<br>value_kg=%{marker.size}<extra></extra>",
           "legendgroup": "Lithuania",
           "marker": {
            "color": "#FECB52",
            "size": {
             "bdata": "SOF6FK7nQkA=",
             "dtype": "f8"
            },
            "sizemode": "area",
            "sizeref": 0.182375,
            "symbol": "circle"
           },
           "mode": "markers",
           "name": "Lithuania",
           "orientation": "v",
           "showlegend": true,
           "type": "scatter",
           "x": {
            "bdata": "AAAAgIuaRUE=",
            "dtype": "f8"
           },
           "xaxis": "x",
           "y": {
            "bdata": "SOF6FK7nQkA=",
            "dtype": "f8"
           },
           "yaxis": "y"
          },
          {
           "hovertemplate": "country=Luxembourg<br>year=2022<br>population=%{x}<br>value_kg=%{marker.size}<extra></extra>",
           "legendgroup": "Luxembourg",
           "marker": {
            "color": "#636efa",
            "size": {
             "bdata": "uB6F61F4QUA=",
             "dtype": "f8"
            },
            "sizemode": "area",
            "sizeref": 0.182375,
            "symbol": "circle"
           },
           "mode": "markers",
           "name": "Luxembourg",
           "orientation": "v",
           "showlegend": true,
           "type": "scatter",
           "x": {
            "bdata": "AAAAAF7uI0E=",
            "dtype": "f8"
           },
           "xaxis": "x",
           "y": {
            "bdata": "uB6F61F4QUA=",
            "dtype": "f8"
           },
           "yaxis": "y"
          },
          {
           "hovertemplate": "country=Latvia<br>year=2022<br>population=%{x}<br>value_kg=%{marker.size}<extra></extra>",
           "legendgroup": "Latvia",
           "marker": {
            "color": "#EF553B",
            "size": {
             "bdata": "AAAAAAAAOkA=",
             "dtype": "f8"
            },
            "sizemode": "area",
            "sizeref": 0.182375,
            "symbol": "circle"
           },
           "mode": "markers",
           "name": "Latvia",
           "orientation": "v",
           "showlegend": true,
           "type": "scatter",
           "x": {
            "bdata": "AAAAAFetPEE=",
            "dtype": "f8"
           },
           "xaxis": "x",
           "y": {
            "bdata": "AAAAAAAAOkA=",
            "dtype": "f8"
           },
           "yaxis": "y"
          },
          {
           "hovertemplate": "country=Malta<br>year=2022<br>population=%{x}<br>value_kg=%{marker.size}<extra></extra>",
           "legendgroup": "Malta",
           "marker": {
            "color": "#00cc96",
            "size": {
             "bdata": "w/UoXI9CPUA=",
             "dtype": "f8"
            },
            "sizemode": "area",
            "sizeref": 0.182375,
            "symbol": "circle"
           },
           "mode": "markers",
           "name": "Malta",
           "orientation": "v",
           "showlegend": true,
           "type": "scatter",
           "x": {
            "bdata": "AAAAAFI1IEE=",
            "dtype": "f8"
           },
           "xaxis": "x",
           "y": {
            "bdata": "w/UoXI9CPUA=",
            "dtype": "f8"
           },
           "yaxis": "y"
          },
          {
           "hovertemplate": "country=Netherlands<br>year=2022<br>population=%{x}<br>value_kg=%{marker.size}<extra></extra>",
           "legendgroup": "Netherlands",
           "marker": {
            "color": "#ab63fa",
            "size": {
             "bdata": "pHA9CtcjP0A=",
             "dtype": "f8"
            },
            "sizemode": "area",
            "sizeref": 0.182375,
            "symbol": "circle"
           },
           "mode": "markers",
           "name": "Netherlands",
           "orientation": "v",
           "showlegend": true,
           "type": "scatter",
           "x": {
            "bdata": "AAAAYIfhcEE=",
            "dtype": "f8"
           },
           "xaxis": "x",
           "y": {
            "bdata": "pHA9CtcjP0A=",
            "dtype": "f8"
           },
           "yaxis": "y"
          },
          {
           "hovertemplate": "country=Norway<br>year=2022<br>population=%{x}<br>value_kg=%{marker.size}<extra></extra>",
           "legendgroup": "Norway",
           "marker": {
            "color": "#FFA15A",
            "size": {
             "bdata": "4XoUrkfhRkA=",
             "dtype": "f8"
            },
            "sizemode": "area",
            "sizeref": 0.182375,
            "symbol": "circle"
           },
           "mode": "markers",
           "name": "Norway",
           "orientation": "v",
           "showlegend": true,
           "type": "scatter",
           "x": {
            "bdata": "AAAAwDnRVEE=",
            "dtype": "f8"
           },
           "xaxis": "x",
           "y": {
            "bdata": "4XoUrkfhRkA=",
            "dtype": "f8"
           },
           "yaxis": "y"
          },
          {
           "hovertemplate": "country=Poland<br>year=2022<br>population=%{x}<br>value_kg=%{marker.size}<extra></extra>",
           "legendgroup": "Poland",
           "marker": {
            "color": "#19d3f3",
            "size": {
             "bdata": "j8L1KFyPQEA=",
             "dtype": "f8"
            },
            "sizemode": "area",
            "sizeref": 0.182375,
            "symbol": "circle"
           },
           "mode": "markers",
           "name": "Poland",
           "orientation": "v",
           "showlegend": true,
           "type": "scatter",
           "x": {
            "bdata": "AAAAqNeOgUE=",
            "dtype": "f8"
           },
           "xaxis": "x",
           "y": {
            "bdata": "j8L1KFyPQEA=",
            "dtype": "f8"
           },
           "yaxis": "y"
          },
          {
           "hovertemplate": "country=Portugal<br>year=2022<br>population=%{x}<br>value_kg=%{marker.size}<extra></extra>",
           "legendgroup": "Portugal",
           "marker": {
            "color": "#FF6692",
            "size": {
             "bdata": "9ihcj8KVRUA=",
             "dtype": "f8"
            },
            "sizemode": "area",
            "sizeref": 0.182375,
            "symbol": "circle"
           },
           "mode": "markers",
           "name": "Portugal",
           "orientation": "v",
           "showlegend": true,
           "type": "scatter",
           "x": {
            "bdata": "AAAAoMD3Y0E=",
            "dtype": "f8"
           },
           "xaxis": "x",
           "y": {
            "bdata": "9ihcj8KVRUA=",
            "dtype": "f8"
           },
           "yaxis": "y"
          },
          {
           "hovertemplate": "country=Romania<br>year=2022<br>population=%{x}<br>value_kg=%{marker.size}<extra></extra>",
           "legendgroup": "Romania",
           "marker": {
            "color": "#B6E880",
            "size": {
             "bdata": "SOF6FK7HOkA=",
             "dtype": "f8"
            },
            "sizemode": "area",
            "sizeref": 0.182375,
            "symbol": "circle"
           },
           "mode": "markers",
           "name": "Romania",
           "orientation": "v",
           "showlegend": true,
           "type": "scatter",
           "x": {
            "bdata": "AAAAYIMqckE=",
            "dtype": "f8"
           },
           "xaxis": "x",
           "y": {
            "bdata": "SOF6FK7HOkA=",
            "dtype": "f8"
           },
           "yaxis": "y"
          },
          {
           "hovertemplate": "country=Sweden<br>year=2022<br>population=%{x}<br>value_kg=%{marker.size}<extra></extra>",
           "legendgroup": "Sweden",
           "marker": {
            "color": "#FF97FF",
            "size": {
             "bdata": "PQrXo3B9QEA=",
             "dtype": "f8"
            },
            "sizemode": "area",
            "sizeref": 0.182375,
            "symbol": "circle"
           },
           "mode": "markers",
           "name": "Sweden",
           "orientation": "v",
           "showlegend": true,
           "type": "scatter",
           "x": {
            "bdata": "AAAAoJMAZEE=",
            "dtype": "f8"
           },
           "xaxis": "x",
           "y": {
            "bdata": "PQrXo3B9QEA=",
            "dtype": "f8"
           },
           "yaxis": "y"
          },
          {
           "hovertemplate": "country=Slovenia<br>year=2022<br>population=%{x}<br>value_kg=%{marker.size}<extra></extra>",
           "legendgroup": "Slovenia",
           "marker": {
            "color": "#FECB52",
            "size": {
             "bdata": "4XoUrkfhOkA=",
             "dtype": "f8"
            },
            "sizemode": "area",
            "sizeref": 0.182375,
            "symbol": "circle"
           },
           "mode": "markers",
           "name": "Slovenia",
           "orientation": "v",
           "showlegend": true,
           "type": "scatter",
           "x": {
            "bdata": "AAAAACYdQEE=",
            "dtype": "f8"
           },
           "xaxis": "x",
           "y": {
            "bdata": "4XoUrkfhOkA=",
            "dtype": "f8"
           },
           "yaxis": "y"
          },
          {
           "hovertemplate": "country=Slovakia<br>year=2022<br>population=%{x}<br>value_kg=%{marker.size}<extra></extra>",
           "legendgroup": "Slovakia",
           "marker": {
            "color": "#636efa",
            "size": {
             "bdata": "uB6F61G4OkA=",
             "dtype": "f8"
            },
            "sizemode": "area",
            "sizeref": 0.182375,
            "symbol": "circle"
           },
           "mode": "markers",
           "name": "Slovakia",
           "orientation": "v",
           "showlegend": true,
           "type": "scatter",
           "x": {
            "bdata": "AAAAAHK4VEE=",
            "dtype": "f8"
           },
           "xaxis": "x",
           "y": {
            "bdata": "uB6F61G4OkA=",
            "dtype": "f8"
           },
           "yaxis": "y"
          }
         ],
         "name": "2022"
        }
       ],
       "layout": {
        "legend": {
         "itemsizing": "constant",
         "title": {
          "text": "country"
         },
         "tracegroupgap": 0
        },
        "margin": {
         "t": 60
        },
        "sliders": [
         {
          "active": 0,
          "currentvalue": {
           "prefix": "year="
          },
          "len": 0.9,
          "pad": {
           "b": 10,
           "t": 60
          },
          "steps": [
           {
            "args": [
             [
              "2000"
             ],
             {
              "frame": {
               "duration": 0,
               "redraw": false
              },
              "fromcurrent": true,
              "mode": "immediate",
              "transition": {
               "duration": 0,
               "easing": "linear"
              }
             }
            ],
            "label": "2000",
            "method": "animate"
           },
           {
            "args": [
             [
              "2001"
             ],
             {
              "frame": {
               "duration": 0,
               "redraw": false
              },
              "fromcurrent": true,
              "mode": "immediate",
              "transition": {
               "duration": 0,
               "easing": "linear"
              }
             }
            ],
            "label": "2001",
            "method": "animate"
           },
           {
            "args": [
             [
              "2002"
             ],
             {
              "frame": {
               "duration": 0,
               "redraw": false
              },
              "fromcurrent": true,
              "mode": "immediate",
              "transition": {
               "duration": 0,
               "easing": "linear"
              }
             }
            ],
            "label": "2002",
            "method": "animate"
           },
           {
            "args": [
             [
              "2003"
             ],
             {
              "frame": {
               "duration": 0,
               "redraw": false
              },
              "fromcurrent": true,
              "mode": "immediate",
              "transition": {
               "duration": 0,
               "easing": "linear"
              }
             }
            ],
            "label": "2003",
            "method": "animate"
           },
           {
            "args": [
             [
              "2004"
             ],
             {
              "frame": {
               "duration": 0,
               "redraw": false
              },
              "fromcurrent": true,
              "mode": "immediate",
              "transition": {
               "duration": 0,
               "easing": "linear"
              }
             }
            ],
            "label": "2004",
            "method": "animate"
           },
           {
            "args": [
             [
              "2005"
             ],
             {
              "frame": {
               "duration": 0,
               "redraw": false
              },
              "fromcurrent": true,
              "mode": "immediate",
              "transition": {
               "duration": 0,
               "easing": "linear"
              }
             }
            ],
            "label": "2005",
            "method": "animate"
           },
           {
            "args": [
             [
              "2006"
             ],
             {
              "frame": {
               "duration": 0,
               "redraw": false
              },
              "fromcurrent": true,
              "mode": "immediate",
              "transition": {
               "duration": 0,
               "easing": "linear"
              }
             }
            ],
            "label": "2006",
            "method": "animate"
           },
           {
            "args": [
             [
              "2007"
             ],
             {
              "frame": {
               "duration": 0,
               "redraw": false
              },
              "fromcurrent": true,
              "mode": "immediate",
              "transition": {
               "duration": 0,
               "easing": "linear"
              }
             }
            ],
            "label": "2007",
            "method": "animate"
           },
           {
            "args": [
             [
              "2008"
             ],
             {
              "frame": {
               "duration": 0,
               "redraw": false
              },
              "fromcurrent": true,
              "mode": "immediate",
              "transition": {
               "duration": 0,
               "easing": "linear"
              }
             }
            ],
            "label": "2008",
            "method": "animate"
           },
           {
            "args": [
             [
              "2009"
             ],
             {
              "frame": {
               "duration": 0,
               "redraw": false
              },
              "fromcurrent": true,
              "mode": "immediate",
              "transition": {
               "duration": 0,
               "easing": "linear"
              }
             }
            ],
            "label": "2009",
            "method": "animate"
           },
           {
            "args": [
             [
              "2010"
             ],
             {
              "frame": {
               "duration": 0,
               "redraw": false
              },
              "fromcurrent": true,
              "mode": "immediate",
              "transition": {
               "duration": 0,
               "easing": "linear"
              }
             }
            ],
            "label": "2010",
            "method": "animate"
           },
           {
            "args": [
             [
              "2011"
             ],
             {
              "frame": {
               "duration": 0,
               "redraw": false
              },
              "fromcurrent": true,
              "mode": "immediate",
              "transition": {
               "duration": 0,
               "easing": "linear"
              }
             }
            ],
            "label": "2011",
            "method": "animate"
           },
           {
            "args": [
             [
              "2012"
             ],
             {
              "frame": {
               "duration": 0,
               "redraw": false
              },
              "fromcurrent": true,
              "mode": "immediate",
              "transition": {
               "duration": 0,
               "easing": "linear"
              }
             }
            ],
            "label": "2012",
            "method": "animate"
           },
           {
            "args": [
             [
              "2013"
             ],
             {
              "frame": {
               "duration": 0,
               "redraw": false
              },
              "fromcurrent": true,
              "mode": "immediate",
              "transition": {
               "duration": 0,
               "easing": "linear"
              }
             }
            ],
            "label": "2013",
            "method": "animate"
           },
           {
            "args": [
             [
              "2014"
             ],
             {
              "frame": {
               "duration": 0,
               "redraw": false
              },
              "fromcurrent": true,
              "mode": "immediate",
              "transition": {
               "duration": 0,
               "easing": "linear"
              }
             }
            ],
            "label": "2014",
            "method": "animate"
           },
           {
            "args": [
             [
              "2015"
             ],
             {
              "frame": {
               "duration": 0,
               "redraw": false
              },
              "fromcurrent": true,
              "mode": "immediate",
              "transition": {
               "duration": 0,
               "easing": "linear"
              }
             }
            ],
            "label": "2015",
            "method": "animate"
           },
           {
            "args": [
             [
              "2016"
             ],
             {
              "frame": {
               "duration": 0,
               "redraw": false
              },
              "fromcurrent": true,
              "mode": "immediate",
              "transition": {
               "duration": 0,
               "easing": "linear"
              }
             }
            ],
            "label": "2016",
            "method": "animate"
           },
           {
            "args": [
             [
              "2017"
             ],
             {
              "frame": {
               "duration": 0,
               "redraw": false
              },
              "fromcurrent": true,
              "mode": "immediate",
              "transition": {
               "duration": 0,
               "easing": "linear"
              }
             }
            ],
            "label": "2017",
            "method": "animate"
           },
           {
            "args": [
             [
              "2018"
             ],
             {
              "frame": {
               "duration": 0,
               "redraw": false
              },
              "fromcurrent": true,
              "mode": "immediate",
              "transition": {
               "duration": 0,
               "easing": "linear"
              }
             }
            ],
            "label": "2018",
            "method": "animate"
           },
           {
            "args": [
             [
              "2019"
             ],
             {
              "frame": {
               "duration": 0,
               "redraw": false
              },
              "fromcurrent": true,
              "mode": "immediate",
              "transition": {
               "duration": 0,
               "easing": "linear"
              }
             }
            ],
            "label": "2019",
            "method": "animate"
           },
           {
            "args": [
             [
              "2020"
             ],
             {
              "frame": {
               "duration": 0,
               "redraw": false
              },
              "fromcurrent": true,
              "mode": "immediate",
              "transition": {
               "duration": 0,
               "easing": "linear"
              }
             }
            ],
            "label": "2020",
            "method": "animate"
           },
           {
            "args": [
             [
              "2021"
             ],
             {
              "frame": {
               "duration": 0,
               "redraw": false
              },
              "fromcurrent": true,
              "mode": "immediate",
              "transition": {
               "duration": 0,
               "easing": "linear"
              }
             }
            ],
            "label": "2021",
            "method": "animate"
           },
           {
            "args": [
             [
              "2022"
             ],
             {
              "frame": {
               "duration": 0,
               "redraw": false
              },
              "fromcurrent": true,
              "mode": "immediate",
              "transition": {
               "duration": 0,
               "easing": "linear"
              }
             }
            ],
            "label": "2022",
            "method": "animate"
           }
          ],
          "x": 0.1,
          "xanchor": "left",
          "y": 0,
          "yanchor": "top"
         }
        ],
        "template": {
         "data": {
          "bar": [
           {
            "error_x": {
             "color": "#2a3f5f"
            },
            "error_y": {
             "color": "#2a3f5f"
            },
            "marker": {
             "line": {
              "color": "#E5ECF6",
              "width": 0.5
             },
             "pattern": {
              "fillmode": "overlay",
              "size": 10,
              "solidity": 0.2
             }
            },
            "type": "bar"
           }
          ],
          "barpolar": [
           {
            "marker": {
             "line": {
              "color": "#E5ECF6",
              "width": 0.5
             },
             "pattern": {
              "fillmode": "overlay",
              "size": 10,
              "solidity": 0.2
             }
            },
            "type": "barpolar"
           }
          ],
          "carpet": [
           {
            "aaxis": {
             "endlinecolor": "#2a3f5f",
             "gridcolor": "white",
             "linecolor": "white",
             "minorgridcolor": "white",
             "startlinecolor": "#2a3f5f"
            },
            "baxis": {
             "endlinecolor": "#2a3f5f",
             "gridcolor": "white",
             "linecolor": "white",
             "minorgridcolor": "white",
             "startlinecolor": "#2a3f5f"
            },
            "type": "carpet"
           }
          ],
          "choropleth": [
           {
            "colorbar": {
             "outlinewidth": 0,
             "ticks": ""
            },
            "type": "choropleth"
           }
          ],
          "contour": [
           {
            "colorbar": {
             "outlinewidth": 0,
             "ticks": ""
            },
            "colorscale": [
             [
              0,
              "#0d0887"
             ],
             [
              0.1111111111111111,
              "#46039f"
             ],
             [
              0.2222222222222222,
              "#7201a8"
             ],
             [
              0.3333333333333333,
              "#9c179e"
             ],
             [
              0.4444444444444444,
              "#bd3786"
             ],
             [
              0.5555555555555556,
              "#d8576b"
             ],
             [
              0.6666666666666666,
              "#ed7953"
             ],
             [
              0.7777777777777778,
              "#fb9f3a"
             ],
             [
              0.8888888888888888,
              "#fdca26"
             ],
             [
              1,
              "#f0f921"
             ]
            ],
            "type": "contour"
           }
          ],
          "contourcarpet": [
           {
            "colorbar": {
             "outlinewidth": 0,
             "ticks": ""
            },
            "type": "contourcarpet"
           }
          ],
          "heatmap": [
           {
            "colorbar": {
             "outlinewidth": 0,
             "ticks": ""
            },
            "colorscale": [
             [
              0,
              "#0d0887"
             ],
             [
              0.1111111111111111,
              "#46039f"
             ],
             [
              0.2222222222222222,
              "#7201a8"
             ],
             [
              0.3333333333333333,
              "#9c179e"
             ],
             [
              0.4444444444444444,
              "#bd3786"
             ],
             [
              0.5555555555555556,
              "#d8576b"
             ],
             [
              0.6666666666666666,
              "#ed7953"
             ],
             [
              0.7777777777777778,
              "#fb9f3a"
             ],
             [
              0.8888888888888888,
              "#fdca26"
             ],
             [
              1,
              "#f0f921"
             ]
            ],
            "type": "heatmap"
           }
          ],
          "histogram": [
           {
            "marker": {
             "pattern": {
              "fillmode": "overlay",
              "size": 10,
              "solidity": 0.2
             }
            },
            "type": "histogram"
           }
          ],
          "histogram2d": [
           {
            "colorbar": {
             "outlinewidth": 0,
             "ticks": ""
            },
            "colorscale": [
             [
              0,
              "#0d0887"
             ],
             [
              0.1111111111111111,
              "#46039f"
             ],
             [
              0.2222222222222222,
              "#7201a8"
             ],
             [
              0.3333333333333333,
              "#9c179e"
             ],
             [
              0.4444444444444444,
              "#bd3786"
             ],
             [
              0.5555555555555556,
              "#d8576b"
             ],
             [
              0.6666666666666666,
              "#ed7953"
             ],
             [
              0.7777777777777778,
              "#fb9f3a"
             ],
             [
              0.8888888888888888,
              "#fdca26"
             ],
             [
              1,
              "#f0f921"
             ]
            ],
            "type": "histogram2d"
           }
          ],
          "histogram2dcontour": [
           {
            "colorbar": {
             "outlinewidth": 0,
             "ticks": ""
            },
            "colorscale": [
             [
              0,
              "#0d0887"
             ],
             [
              0.1111111111111111,
              "#46039f"
             ],
             [
              0.2222222222222222,
              "#7201a8"
             ],
             [
              0.3333333333333333,
              "#9c179e"
             ],
             [
              0.4444444444444444,
              "#bd3786"
             ],
             [
              0.5555555555555556,
              "#d8576b"
             ],
             [
              0.6666666666666666,
              "#ed7953"
             ],
             [
              0.7777777777777778,
              "#fb9f3a"
             ],
             [
              0.8888888888888888,
              "#fdca26"
             ],
             [
              1,
              "#f0f921"
             ]
            ],
            "type": "histogram2dcontour"
           }
          ],
          "mesh3d": [
           {
            "colorbar": {
             "outlinewidth": 0,
             "ticks": ""
            },
            "type": "mesh3d"
           }
          ],
          "parcoords": [
           {
            "line": {
             "colorbar": {
              "outlinewidth": 0,
              "ticks": ""
             }
            },
            "type": "parcoords"
           }
          ],
          "pie": [
           {
            "automargin": true,
            "type": "pie"
           }
          ],
          "scatter": [
           {
            "fillpattern": {
             "fillmode": "overlay",
             "size": 10,
             "solidity": 0.2
            },
            "type": "scatter"
           }
          ],
          "scatter3d": [
           {
            "line": {
             "colorbar": {
              "outlinewidth": 0,
              "ticks": ""
             }
            },
            "marker": {
             "colorbar": {
              "outlinewidth": 0,
              "ticks": ""
             }
            },
            "type": "scatter3d"
           }
          ],
          "scattercarpet": [
           {
            "marker": {
             "colorbar": {
              "outlinewidth": 0,
              "ticks": ""
             }
            },
            "type": "scattercarpet"
           }
          ],
          "scattergeo": [
           {
            "marker": {
             "colorbar": {
              "outlinewidth": 0,
              "ticks": ""
             }
            },
            "type": "scattergeo"
           }
          ],
          "scattergl": [
           {
            "marker": {
             "colorbar": {
              "outlinewidth": 0,
              "ticks": ""
             }
            },
            "type": "scattergl"
           }
          ],
          "scattermap": [
           {
            "marker": {
             "colorbar": {
              "outlinewidth": 0,
              "ticks": ""
             }
            },
            "type": "scattermap"
           }
          ],
          "scattermapbox": [
           {
            "marker": {
             "colorbar": {
              "outlinewidth": 0,
              "ticks": ""
             }
            },
            "type": "scattermapbox"
           }
          ],
          "scatterpolar": [
           {
            "marker": {
             "colorbar": {
              "outlinewidth": 0,
              "ticks": ""
             }
            },
            "type": "scatterpolar"
           }
          ],
          "scatterpolargl": [
           {
            "marker": {
             "colorbar": {
              "outlinewidth": 0,
              "ticks": ""
             }
            },
            "type": "scatterpolargl"
           }
          ],
          "scatterternary": [
           {
            "marker": {
             "colorbar": {
              "outlinewidth": 0,
              "ticks": ""
             }
            },
            "type": "scatterternary"
           }
          ],
          "surface": [
           {
            "colorbar": {
             "outlinewidth": 0,
             "ticks": ""
            },
            "colorscale": [
             [
              0,
              "#0d0887"
             ],
             [
              0.1111111111111111,
              "#46039f"
             ],
             [
              0.2222222222222222,
              "#7201a8"
             ],
             [
              0.3333333333333333,
              "#9c179e"
             ],
             [
              0.4444444444444444,
              "#bd3786"
             ],
             [
              0.5555555555555556,
              "#d8576b"
             ],
             [
              0.6666666666666666,
              "#ed7953"
             ],
             [
              0.7777777777777778,
              "#fb9f3a"
             ],
             [
              0.8888888888888888,
              "#fdca26"
             ],
             [
              1,
              "#f0f921"
             ]
            ],
            "type": "surface"
           }
          ],
          "table": [
           {
            "cells": {
             "fill": {
              "color": "#EBF0F8"
             },
             "line": {
              "color": "white"
             }
            },
            "header": {
             "fill": {
              "color": "#C8D4E3"
             },
             "line": {
              "color": "white"
             }
            },
            "type": "table"
           }
          ]
         },
         "layout": {
          "annotationdefaults": {
           "arrowcolor": "#2a3f5f",
           "arrowhead": 0,
           "arrowwidth": 1
          },
          "autotypenumbers": "strict",
          "coloraxis": {
           "colorbar": {
            "outlinewidth": 0,
            "ticks": ""
           }
          },
          "colorscale": {
           "diverging": [
            [
             0,
             "#8e0152"
            ],
            [
             0.1,
             "#c51b7d"
            ],
            [
             0.2,
             "#de77ae"
            ],
            [
             0.3,
             "#f1b6da"
            ],
            [
             0.4,
             "#fde0ef"
            ],
            [
             0.5,
             "#f7f7f7"
            ],
            [
             0.6,
             "#e6f5d0"
            ],
            [
             0.7,
             "#b8e186"
            ],
            [
             0.8,
             "#7fbc41"
            ],
            [
             0.9,
             "#4d9221"
            ],
            [
             1,
             "#276419"
            ]
           ],
           "sequential": [
            [
             0,
             "#0d0887"
            ],
            [
             0.1111111111111111,
             "#46039f"
            ],
            [
             0.2222222222222222,
             "#7201a8"
            ],
            [
             0.3333333333333333,
             "#9c179e"
            ],
            [
             0.4444444444444444,
             "#bd3786"
            ],
            [
             0.5555555555555556,
             "#d8576b"
            ],
            [
             0.6666666666666666,
             "#ed7953"
            ],
            [
             0.7777777777777778,
             "#fb9f3a"
            ],
            [
             0.8888888888888888,
             "#fdca26"
            ],
            [
             1,
             "#f0f921"
            ]
           ],
           "sequentialminus": [
            [
             0,
             "#0d0887"
            ],
            [
             0.1111111111111111,
             "#46039f"
            ],
            [
             0.2222222222222222,
             "#7201a8"
            ],
            [
             0.3333333333333333,
             "#9c179e"
            ],
            [
             0.4444444444444444,
             "#bd3786"
            ],
            [
             0.5555555555555556,
             "#d8576b"
            ],
            [
             0.6666666666666666,
             "#ed7953"
            ],
            [
             0.7777777777777778,
             "#fb9f3a"
            ],
            [
             0.8888888888888888,
             "#fdca26"
            ],
            [
             1,
             "#f0f921"
            ]
           ]
          },
          "colorway": [
           "#636efa",
           "#EF553B",
           "#00cc96",
           "#ab63fa",
           "#FFA15A",
           "#19d3f3",
           "#FF6692",
           "#B6E880",
           "#FF97FF",
           "#FECB52"
          ],
          "font": {
           "color": "#2a3f5f"
          },
          "geo": {
           "bgcolor": "white",
           "lakecolor": "white",
           "landcolor": "#E5ECF6",
           "showlakes": true,
           "showland": true,
           "subunitcolor": "white"
          },
          "hoverlabel": {
           "align": "left"
          },
          "hovermode": "closest",
          "mapbox": {
           "style": "light"
          },
          "paper_bgcolor": "white",
          "plot_bgcolor": "#E5ECF6",
          "polar": {
           "angularaxis": {
            "gridcolor": "white",
            "linecolor": "white",
            "ticks": ""
           },
           "bgcolor": "#E5ECF6",
           "radialaxis": {
            "gridcolor": "white",
            "linecolor": "white",
            "ticks": ""
           }
          },
          "scene": {
           "xaxis": {
            "backgroundcolor": "#E5ECF6",
            "gridcolor": "white",
            "gridwidth": 2,
            "linecolor": "white",
            "showbackground": true,
            "ticks": "",
            "zerolinecolor": "white"
           },
           "yaxis": {
            "backgroundcolor": "#E5ECF6",
            "gridcolor": "white",
            "gridwidth": 2,
            "linecolor": "white",
            "showbackground": true,
            "ticks": "",
            "zerolinecolor": "white"
           },
           "zaxis": {
            "backgroundcolor": "#E5ECF6",
            "gridcolor": "white",
            "gridwidth": 2,
            "linecolor": "white",
            "showbackground": true,
            "ticks": "",
            "zerolinecolor": "white"
           }
          },
          "shapedefaults": {
           "line": {
            "color": "#2a3f5f"
           }
          },
          "ternary": {
           "aaxis": {
            "gridcolor": "white",
            "linecolor": "white",
            "ticks": ""
           },
           "baxis": {
            "gridcolor": "white",
            "linecolor": "white",
            "ticks": ""
           },
           "bgcolor": "#E5ECF6",
           "caxis": {
            "gridcolor": "white",
            "linecolor": "white",
            "ticks": ""
           }
          },
          "title": {
           "x": 0.05
          },
          "xaxis": {
           "automargin": true,
           "gridcolor": "white",
           "linecolor": "white",
           "ticks": "",
           "title": {
            "standoff": 15
           },
           "zerolinecolor": "white",
           "zerolinewidth": 2
          },
          "yaxis": {
           "automargin": true,
           "gridcolor": "white",
           "linecolor": "white",
           "ticks": "",
           "title": {
            "standoff": 15
           },
           "zerolinecolor": "white",
           "zerolinewidth": 2
          }
         }
        },
        "updatemenus": [
         {
          "buttons": [
           {
            "args": [
             null,
             {
              "frame": {
               "duration": 500,
               "redraw": false
              },
              "fromcurrent": true,
              "mode": "immediate",
              "transition": {
               "duration": 500,
               "easing": "linear"
              }
             }
            ],
            "label": "&#9654;",
            "method": "animate"
           },
           {
            "args": [
             [
              null
             ],
             {
              "frame": {
               "duration": 0,
               "redraw": false
              },
              "fromcurrent": true,
              "mode": "immediate",
              "transition": {
               "duration": 0,
               "easing": "linear"
              }
             }
            ],
            "label": "&#9724;",
            "method": "animate"
           }
          ],
          "direction": "left",
          "pad": {
           "r": 10,
           "t": 70
          },
          "showactive": false,
          "type": "buttons",
          "x": 0.1,
          "xanchor": "right",
          "y": 0,
          "yanchor": "top"
         }
        ],
        "xaxis": {
         "anchor": "y",
         "domain": [
          0,
          1
         ],
         "title": {
          "text": "population"
         }
        },
        "yaxis": {
         "anchor": "x",
         "domain": [
          0,
          1
         ],
         "title": {
          "text": "value_kg"
         }
        }
       }
      }
     },
     "metadata": {},
     "output_type": "display_data"
    }
   ],
   "source": [
    "\n",
    "fig = px.scatter(plastic_pop_eu, x=\"population\", y=\"value_kg\", color=\"country\",\n",
    "                 size='value_kg', \n",
    "                 animation_frame=\"year\",\n",
    "                 )\n",
    "fig.show()\n"
   ]
  },
  {
   "cell_type": "code",
   "execution_count": 61,
   "metadata": {},
   "outputs": [],
   "source": [
    "df_material_import = pd.read_csv(\"./Dataset_CE/Material import dependency.csv\")"
   ]
  },
  {
   "cell_type": "code",
   "execution_count": null,
   "metadata": {},
   "outputs": [
    {
     "data": {
      "text/html": [
       "<div>\n",
       "<style scoped>\n",
       "    .dataframe tbody tr th:only-of-type {\n",
       "        vertical-align: middle;\n",
       "    }\n",
       "\n",
       "    .dataframe tbody tr th {\n",
       "        vertical-align: top;\n",
       "    }\n",
       "\n",
       "    .dataframe thead th {\n",
       "        text-align: right;\n",
       "    }\n",
       "</style>\n",
       "<table border=\"1\" class=\"dataframe\">\n",
       "  <thead>\n",
       "    <tr style=\"text-align: right;\">\n",
       "      <th></th>\n",
       "      <th>STRUCTURE</th>\n",
       "      <th>STRUCTURE_ID</th>\n",
       "      <th>STRUCTURE_NAME</th>\n",
       "      <th>freq</th>\n",
       "      <th>Time frequency</th>\n",
       "      <th>material</th>\n",
       "      <th>Materials</th>\n",
       "      <th>unit</th>\n",
       "      <th>Unit of measure</th>\n",
       "      <th>geo</th>\n",
       "      <th>Geopolitical entity (reporting)</th>\n",
       "      <th>TIME_PERIOD</th>\n",
       "      <th>Time</th>\n",
       "      <th>OBS_VALUE</th>\n",
       "      <th>Observation value</th>\n",
       "      <th>OBS_FLAG</th>\n",
       "      <th>Observation status (Flag) V2 structure</th>\n",
       "      <th>CONF_STATUS</th>\n",
       "      <th>Confidentiality status (flag)</th>\n",
       "    </tr>\n",
       "  </thead>\n",
       "  <tbody>\n",
       "    <tr>\n",
       "      <th>0</th>\n",
       "      <td>dataflow</td>\n",
       "      <td>ESTAT:CEI_GSR030(1.0)</td>\n",
       "      <td>Material import dependency</td>\n",
       "      <td>A</td>\n",
       "      <td>Annual</td>\n",
       "      <td>TOTAL</td>\n",
       "      <td>Total</td>\n",
       "      <td>PC</td>\n",
       "      <td>Percentage</td>\n",
       "      <td>AL</td>\n",
       "      <td>Albania</td>\n",
       "      <td>2010</td>\n",
       "      <td>NaN</td>\n",
       "      <td>20.2</td>\n",
       "      <td>NaN</td>\n",
       "      <td>NaN</td>\n",
       "      <td>NaN</td>\n",
       "      <td>NaN</td>\n",
       "      <td>NaN</td>\n",
       "    </tr>\n",
       "    <tr>\n",
       "      <th>1</th>\n",
       "      <td>dataflow</td>\n",
       "      <td>ESTAT:CEI_GSR030(1.0)</td>\n",
       "      <td>Material import dependency</td>\n",
       "      <td>A</td>\n",
       "      <td>Annual</td>\n",
       "      <td>TOTAL</td>\n",
       "      <td>Total</td>\n",
       "      <td>PC</td>\n",
       "      <td>Percentage</td>\n",
       "      <td>AL</td>\n",
       "      <td>Albania</td>\n",
       "      <td>2011</td>\n",
       "      <td>NaN</td>\n",
       "      <td>18.5</td>\n",
       "      <td>NaN</td>\n",
       "      <td>NaN</td>\n",
       "      <td>NaN</td>\n",
       "      <td>NaN</td>\n",
       "      <td>NaN</td>\n",
       "    </tr>\n",
       "    <tr>\n",
       "      <th>2</th>\n",
       "      <td>dataflow</td>\n",
       "      <td>ESTAT:CEI_GSR030(1.0)</td>\n",
       "      <td>Material import dependency</td>\n",
       "      <td>A</td>\n",
       "      <td>Annual</td>\n",
       "      <td>TOTAL</td>\n",
       "      <td>Total</td>\n",
       "      <td>PC</td>\n",
       "      <td>Percentage</td>\n",
       "      <td>AL</td>\n",
       "      <td>Albania</td>\n",
       "      <td>2012</td>\n",
       "      <td>NaN</td>\n",
       "      <td>16.2</td>\n",
       "      <td>NaN</td>\n",
       "      <td>NaN</td>\n",
       "      <td>NaN</td>\n",
       "      <td>NaN</td>\n",
       "      <td>NaN</td>\n",
       "    </tr>\n",
       "    <tr>\n",
       "      <th>3</th>\n",
       "      <td>dataflow</td>\n",
       "      <td>ESTAT:CEI_GSR030(1.0)</td>\n",
       "      <td>Material import dependency</td>\n",
       "      <td>A</td>\n",
       "      <td>Annual</td>\n",
       "      <td>TOTAL</td>\n",
       "      <td>Total</td>\n",
       "      <td>PC</td>\n",
       "      <td>Percentage</td>\n",
       "      <td>AL</td>\n",
       "      <td>Albania</td>\n",
       "      <td>2013</td>\n",
       "      <td>NaN</td>\n",
       "      <td>14.3</td>\n",
       "      <td>NaN</td>\n",
       "      <td>NaN</td>\n",
       "      <td>NaN</td>\n",
       "      <td>NaN</td>\n",
       "      <td>NaN</td>\n",
       "    </tr>\n",
       "    <tr>\n",
       "      <th>4</th>\n",
       "      <td>dataflow</td>\n",
       "      <td>ESTAT:CEI_GSR030(1.0)</td>\n",
       "      <td>Material import dependency</td>\n",
       "      <td>A</td>\n",
       "      <td>Annual</td>\n",
       "      <td>TOTAL</td>\n",
       "      <td>Total</td>\n",
       "      <td>PC</td>\n",
       "      <td>Percentage</td>\n",
       "      <td>AL</td>\n",
       "      <td>Albania</td>\n",
       "      <td>2014</td>\n",
       "      <td>NaN</td>\n",
       "      <td>14.8</td>\n",
       "      <td>NaN</td>\n",
       "      <td>NaN</td>\n",
       "      <td>NaN</td>\n",
       "      <td>NaN</td>\n",
       "      <td>NaN</td>\n",
       "    </tr>\n",
       "    <tr>\n",
       "      <th>...</th>\n",
       "      <td>...</td>\n",
       "      <td>...</td>\n",
       "      <td>...</td>\n",
       "      <td>...</td>\n",
       "      <td>...</td>\n",
       "      <td>...</td>\n",
       "      <td>...</td>\n",
       "      <td>...</td>\n",
       "      <td>...</td>\n",
       "      <td>...</td>\n",
       "      <td>...</td>\n",
       "      <td>...</td>\n",
       "      <td>...</td>\n",
       "      <td>...</td>\n",
       "      <td>...</td>\n",
       "      <td>...</td>\n",
       "      <td>...</td>\n",
       "      <td>...</td>\n",
       "      <td>...</td>\n",
       "    </tr>\n",
       "    <tr>\n",
       "      <th>814</th>\n",
       "      <td>dataflow</td>\n",
       "      <td>ESTAT:CEI_GSR030(1.0)</td>\n",
       "      <td>Material import dependency</td>\n",
       "      <td>A</td>\n",
       "      <td>Annual</td>\n",
       "      <td>TOTAL</td>\n",
       "      <td>Total</td>\n",
       "      <td>PC</td>\n",
       "      <td>Percentage</td>\n",
       "      <td>TR</td>\n",
       "      <td>Türkiye</td>\n",
       "      <td>2018</td>\n",
       "      <td>NaN</td>\n",
       "      <td>19.2</td>\n",
       "      <td>NaN</td>\n",
       "      <td>NaN</td>\n",
       "      <td>NaN</td>\n",
       "      <td>NaN</td>\n",
       "      <td>NaN</td>\n",
       "    </tr>\n",
       "    <tr>\n",
       "      <th>815</th>\n",
       "      <td>dataflow</td>\n",
       "      <td>ESTAT:CEI_GSR030(1.0)</td>\n",
       "      <td>Material import dependency</td>\n",
       "      <td>A</td>\n",
       "      <td>Annual</td>\n",
       "      <td>TOTAL</td>\n",
       "      <td>Total</td>\n",
       "      <td>PC</td>\n",
       "      <td>Percentage</td>\n",
       "      <td>TR</td>\n",
       "      <td>Türkiye</td>\n",
       "      <td>2019</td>\n",
       "      <td>NaN</td>\n",
       "      <td>21.3</td>\n",
       "      <td>NaN</td>\n",
       "      <td>NaN</td>\n",
       "      <td>NaN</td>\n",
       "      <td>NaN</td>\n",
       "      <td>NaN</td>\n",
       "    </tr>\n",
       "    <tr>\n",
       "      <th>816</th>\n",
       "      <td>dataflow</td>\n",
       "      <td>ESTAT:CEI_GSR030(1.0)</td>\n",
       "      <td>Material import dependency</td>\n",
       "      <td>A</td>\n",
       "      <td>Annual</td>\n",
       "      <td>TOTAL</td>\n",
       "      <td>Total</td>\n",
       "      <td>PC</td>\n",
       "      <td>Percentage</td>\n",
       "      <td>TR</td>\n",
       "      <td>Türkiye</td>\n",
       "      <td>2020</td>\n",
       "      <td>NaN</td>\n",
       "      <td>12.5</td>\n",
       "      <td>NaN</td>\n",
       "      <td>NaN</td>\n",
       "      <td>NaN</td>\n",
       "      <td>NaN</td>\n",
       "      <td>NaN</td>\n",
       "    </tr>\n",
       "    <tr>\n",
       "      <th>817</th>\n",
       "      <td>dataflow</td>\n",
       "      <td>ESTAT:CEI_GSR030(1.0)</td>\n",
       "      <td>Material import dependency</td>\n",
       "      <td>A</td>\n",
       "      <td>Annual</td>\n",
       "      <td>TOTAL</td>\n",
       "      <td>Total</td>\n",
       "      <td>PC</td>\n",
       "      <td>Percentage</td>\n",
       "      <td>TR</td>\n",
       "      <td>Türkiye</td>\n",
       "      <td>2021</td>\n",
       "      <td>NaN</td>\n",
       "      <td>20.2</td>\n",
       "      <td>NaN</td>\n",
       "      <td>NaN</td>\n",
       "      <td>NaN</td>\n",
       "      <td>NaN</td>\n",
       "      <td>NaN</td>\n",
       "    </tr>\n",
       "    <tr>\n",
       "      <th>818</th>\n",
       "      <td>dataflow</td>\n",
       "      <td>ESTAT:CEI_GSR030(1.0)</td>\n",
       "      <td>Material import dependency</td>\n",
       "      <td>A</td>\n",
       "      <td>Annual</td>\n",
       "      <td>TOTAL</td>\n",
       "      <td>Total</td>\n",
       "      <td>PC</td>\n",
       "      <td>Percentage</td>\n",
       "      <td>TR</td>\n",
       "      <td>Türkiye</td>\n",
       "      <td>2022</td>\n",
       "      <td>NaN</td>\n",
       "      <td>20.4</td>\n",
       "      <td>NaN</td>\n",
       "      <td>NaN</td>\n",
       "      <td>NaN</td>\n",
       "      <td>NaN</td>\n",
       "      <td>NaN</td>\n",
       "    </tr>\n",
       "  </tbody>\n",
       "</table>\n",
       "<p>819 rows × 19 columns</p>\n",
       "</div>"
      ],
      "text/plain": [
       "    STRUCTURE           STRUCTURE_ID              STRUCTURE_NAME freq  \\\n",
       "0    dataflow  ESTAT:CEI_GSR030(1.0)  Material import dependency    A   \n",
       "1    dataflow  ESTAT:CEI_GSR030(1.0)  Material import dependency    A   \n",
       "2    dataflow  ESTAT:CEI_GSR030(1.0)  Material import dependency    A   \n",
       "3    dataflow  ESTAT:CEI_GSR030(1.0)  Material import dependency    A   \n",
       "4    dataflow  ESTAT:CEI_GSR030(1.0)  Material import dependency    A   \n",
       "..        ...                    ...                         ...  ...   \n",
       "814  dataflow  ESTAT:CEI_GSR030(1.0)  Material import dependency    A   \n",
       "815  dataflow  ESTAT:CEI_GSR030(1.0)  Material import dependency    A   \n",
       "816  dataflow  ESTAT:CEI_GSR030(1.0)  Material import dependency    A   \n",
       "817  dataflow  ESTAT:CEI_GSR030(1.0)  Material import dependency    A   \n",
       "818  dataflow  ESTAT:CEI_GSR030(1.0)  Material import dependency    A   \n",
       "\n",
       "    Time frequency material Materials unit Unit of measure geo  \\\n",
       "0           Annual    TOTAL     Total   PC      Percentage  AL   \n",
       "1           Annual    TOTAL     Total   PC      Percentage  AL   \n",
       "2           Annual    TOTAL     Total   PC      Percentage  AL   \n",
       "3           Annual    TOTAL     Total   PC      Percentage  AL   \n",
       "4           Annual    TOTAL     Total   PC      Percentage  AL   \n",
       "..             ...      ...       ...  ...             ...  ..   \n",
       "814         Annual    TOTAL     Total   PC      Percentage  TR   \n",
       "815         Annual    TOTAL     Total   PC      Percentage  TR   \n",
       "816         Annual    TOTAL     Total   PC      Percentage  TR   \n",
       "817         Annual    TOTAL     Total   PC      Percentage  TR   \n",
       "818         Annual    TOTAL     Total   PC      Percentage  TR   \n",
       "\n",
       "    Geopolitical entity (reporting)  TIME_PERIOD  Time  OBS_VALUE  \\\n",
       "0                           Albania         2010   NaN       20.2   \n",
       "1                           Albania         2011   NaN       18.5   \n",
       "2                           Albania         2012   NaN       16.2   \n",
       "3                           Albania         2013   NaN       14.3   \n",
       "4                           Albania         2014   NaN       14.8   \n",
       "..                              ...          ...   ...        ...   \n",
       "814                         Türkiye         2018   NaN       19.2   \n",
       "815                         Türkiye         2019   NaN       21.3   \n",
       "816                         Türkiye         2020   NaN       12.5   \n",
       "817                         Türkiye         2021   NaN       20.2   \n",
       "818                         Türkiye         2022   NaN       20.4   \n",
       "\n",
       "     Observation value OBS_FLAG Observation status (Flag) V2 structure  \\\n",
       "0                  NaN      NaN                                    NaN   \n",
       "1                  NaN      NaN                                    NaN   \n",
       "2                  NaN      NaN                                    NaN   \n",
       "3                  NaN      NaN                                    NaN   \n",
       "4                  NaN      NaN                                    NaN   \n",
       "..                 ...      ...                                    ...   \n",
       "814                NaN      NaN                                    NaN   \n",
       "815                NaN      NaN                                    NaN   \n",
       "816                NaN      NaN                                    NaN   \n",
       "817                NaN      NaN                                    NaN   \n",
       "818                NaN      NaN                                    NaN   \n",
       "\n",
       "     CONF_STATUS  Confidentiality status (flag)  \n",
       "0            NaN                            NaN  \n",
       "1            NaN                            NaN  \n",
       "2            NaN                            NaN  \n",
       "3            NaN                            NaN  \n",
       "4            NaN                            NaN  \n",
       "..           ...                            ...  \n",
       "814          NaN                            NaN  \n",
       "815          NaN                            NaN  \n",
       "816          NaN                            NaN  \n",
       "817          NaN                            NaN  \n",
       "818          NaN                            NaN  \n",
       "\n",
       "[819 rows x 19 columns]"
      ]
     },
     "execution_count": 62,
     "metadata": {},
     "output_type": "execute_result"
    }
   ],
   "source": [
    "df_import_eu = \n"
   ]
  }
 ],
 "metadata": {
  "kernelspec": {
   "display_name": "base",
   "language": "python",
   "name": "python3"
  },
  "language_info": {
   "codemirror_mode": {
    "name": "ipython",
    "version": 3
   },
   "file_extension": ".py",
   "mimetype": "text/x-python",
   "name": "python",
   "nbconvert_exporter": "python",
   "pygments_lexer": "ipython3",
   "version": "3.12.9"
  }
 },
 "nbformat": 4,
 "nbformat_minor": 2
}
